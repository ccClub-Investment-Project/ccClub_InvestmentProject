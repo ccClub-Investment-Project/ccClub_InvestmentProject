{
 "cells": [
  {
   "cell_type": "code",
   "execution_count": 5,
   "metadata": {},
   "outputs": [],
   "source": [
    "# import os\n",
    "# os.chdir('C:/python-training/ccClub_InvestmentProject/aila/use_pg_SQL')\n",
    "# print(os.getcwd())"
   ]
  },
  {
   "cell_type": "code",
   "execution_count": 6,
   "metadata": {},
   "outputs": [
    {
     "ename": "ModuleNotFoundError",
     "evalue": "No module named 'log_in'",
     "output_type": "error",
     "traceback": [
      "\u001b[1;31m---------------------------------------------------------------------------\u001b[0m",
      "\u001b[1;31mModuleNotFoundError\u001b[0m                       Traceback (most recent call last)",
      "Cell \u001b[1;32mIn[6], line 2\u001b[0m\n\u001b[0;32m      1\u001b[0m \u001b[38;5;28;01mfrom\u001b[39;00m \u001b[38;5;21;01msqlalchemy\u001b[39;00m \u001b[38;5;28;01mimport\u001b[39;00m create_engine, inspect\n\u001b[1;32m----> 2\u001b[0m \u001b[38;5;28;01mimport\u001b[39;00m \u001b[38;5;21;01mlog_in\u001b[39;00m\n",
      "\u001b[1;31mModuleNotFoundError\u001b[0m: No module named 'log_in'"
     ]
    }
   ],
   "source": [
    "from sqlalchemy import create_engine, inspect\n",
    "import log_in"
   ]
  },
  {
   "cell_type": "code",
   "execution_count": null,
   "metadata": {},
   "outputs": [
    {
     "name": "stdout",
     "output_type": "stream",
     "text": [
      "Connecting to database at dpg-cphhmpe3e1ms73d8lqc0-a.singapore-postgres.render.com with user admin\n",
      "Log in successful\n"
     ]
    }
   ],
   "source": [
    "# # 連接到資料庫\n",
    "# engine = log_in.log_in_pgSQL()\n",
    "# # 建立檢查器\n",
    "# inspector = inspect(engine)"
   ]
  },
  {
   "cell_type": "code",
   "execution_count": null,
   "metadata": {},
   "outputs": [
    {
     "name": "stdout",
     "output_type": "stream",
     "text": [
      "Schemas: ['information_schema', 'public']\n"
     ]
    }
   ],
   "source": [
    "# 查詢所有 schema\n",
    "schemas = inspector.get_schema_names()\n",
    "print(\"Schemas:\", schemas)"
   ]
  },
  {
   "cell_type": "code",
   "execution_count": null,
   "metadata": {},
   "outputs": [
    {
     "name": "stdout",
     "output_type": "stream",
     "text": [
      "Tables: ['etf_domestic_list', 'etf_all_info', 'etf_domestic_nav', 'etf_0050_constituents', 'dividend_yield_0607', 'taiwan_stock_index_10y', 'financial_data']\n"
     ]
    }
   ],
   "source": [
    "# 查詢所有 table\n",
    "tables = inspector.get_table_names(schema='public')\n",
    "print(\"Tables:\", tables)\n"
   ]
  },
  {
   "cell_type": "code",
   "execution_count": null,
   "metadata": {},
   "outputs": [
    {
     "name": "stdout",
     "output_type": "stream",
     "text": [
      "Columns in etf_all_info: [{'name': 'code', 'type': TEXT(), 'nullable': True, 'default': None, 'autoincrement': False, 'comment': None}, {'name': 'name', 'type': TEXT(), 'nullable': True, 'default': None, 'autoincrement': False, 'comment': None}, {'name': 'Issued Units', 'type': DOUBLE_PRECISION(precision=53), 'nullable': True, 'default': None, 'autoincrement': False, 'comment': None}, {'name': 'Unit Change', 'type': DOUBLE_PRECISION(precision=53), 'nullable': True, 'default': None, 'autoincrement': False, 'comment': None}, {'name': 'Price', 'type': DOUBLE_PRECISION(precision=53), 'nullable': True, 'default': None, 'autoincrement': False, 'comment': None}, {'name': 'Trust Est. NAV', 'type': DOUBLE_PRECISION(precision=53), 'nullable': True, 'default': None, 'autoincrement': False, 'comment': None}, {'name': 'Est. Prem/Disc', 'type': DOUBLE_PRECISION(precision=53), 'nullable': True, 'default': None, 'autoincrement': False, 'comment': None}, {'name': 'Prev. NAV', 'type': DOUBLE_PRECISION(precision=53), 'nullable': True, 'default': None, 'autoincrement': False, 'comment': None}, {'name': 'date', 'type': TEXT(), 'nullable': True, 'default': None, 'autoincrement': False, 'comment': None}, {'name': 'time', 'type': TEXT(), 'nullable': True, 'default': None, 'autoincrement': False, 'comment': None}, {'name': 'unknown', 'type': TEXT(), 'nullable': True, 'default': None, 'autoincrement': False, 'comment': None}]\n"
     ]
    }
   ],
   "source": [
    "\n",
    "# 查詢某一 table 的所有 columns\n",
    "table_name = 'etf_all_info'\n",
    "columns = inspector.get_columns(table_name, schema='public')\n",
    "print(f\"Columns in {table_name}:\", columns)\n"
   ]
  },
  {
   "cell_type": "code",
   "execution_count": null,
   "metadata": {},
   "outputs": [
    {
     "name": "stdout",
     "output_type": "stream",
     "text": [
      "code\n",
      "name\n",
      "Issued Units\n",
      "Unit Change\n",
      "Price\n",
      "Trust Est. NAV\n",
      "Est. Prem/Disc\n",
      "Prev. NAV\n",
      "date\n",
      "time\n",
      "unknown\n"
     ]
    }
   ],
   "source": [
    "\n",
    "# 顯示列名稱\n",
    "for column in columns:\n",
    "    print(column['name'])\n"
   ]
  }
 ],
 "metadata": {
  "kernelspec": {
   "display_name": "common",
   "language": "python",
   "name": "python3"
  },
  "language_info": {
   "codemirror_mode": {
    "name": "ipython",
    "version": 3
   },
   "file_extension": ".py",
   "mimetype": "text/x-python",
   "name": "python",
   "nbconvert_exporter": "python",
   "pygments_lexer": "ipython3",
   "version": "3.11.9"
  }
 },
 "nbformat": 4,
 "nbformat_minor": 2
}
