{
 "cells": [
  {
   "cell_type": "code",
   "execution_count": 1,
   "metadata": {},
   "outputs": [
    {
     "data": {
      "application/vnd.plotly.v1+json": {
       "config": {
        "plotlyServerURL": "https://plot.ly"
       },
       "data": [
        {
         "alignmentgroup": "True",
         "hovertemplate": "City=SF<br>Fruit=%{x}<br>Amount=%{y}<extra></extra>",
         "legendgroup": "SF",
         "marker": {
          "color": "#636efa",
          "pattern": {
           "shape": ""
          }
         },
         "name": "SF",
         "offsetgroup": "SF",
         "orientation": "v",
         "showlegend": true,
         "textposition": "auto",
         "type": "bar",
         "x": [
          "Apples",
          "Oranges",
          "Bananas"
         ],
         "xaxis": "x",
         "y": [
          4,
          1,
          2
         ],
         "yaxis": "y"
        },
        {
         "alignmentgroup": "True",
         "hovertemplate": "City=Montreal<br>Fruit=%{x}<br>Amount=%{y}<extra></extra>",
         "legendgroup": "Montreal",
         "marker": {
          "color": "#EF553B",
          "pattern": {
           "shape": ""
          }
         },
         "name": "Montreal",
         "offsetgroup": "Montreal",
         "orientation": "v",
         "showlegend": true,
         "textposition": "auto",
         "type": "bar",
         "x": [
          "Apples",
          "Oranges",
          "Bananas"
         ],
         "xaxis": "x",
         "y": [
          2,
          4,
          5
         ],
         "yaxis": "y"
        }
       ],
       "layout": {
        "autosize": true,
        "barmode": "group",
        "legend": {
         "title": {
          "text": "City"
         },
         "tracegroupgap": 0
        },
        "margin": {
         "t": 60
        },
        "template": {
         "data": {
          "bar": [
           {
            "error_x": {
             "color": "#2a3f5f"
            },
            "error_y": {
             "color": "#2a3f5f"
            },
            "marker": {
             "line": {
              "color": "#E5ECF6",
              "width": 0.5
             },
             "pattern": {
              "fillmode": "overlay",
              "size": 10,
              "solidity": 0.2
             }
            },
            "type": "bar"
           }
          ],
          "barpolar": [
           {
            "marker": {
             "line": {
              "color": "#E5ECF6",
              "width": 0.5
             },
             "pattern": {
              "fillmode": "overlay",
              "size": 10,
              "solidity": 0.2
             }
            },
            "type": "barpolar"
           }
          ],
          "carpet": [
           {
            "aaxis": {
             "endlinecolor": "#2a3f5f",
             "gridcolor": "white",
             "linecolor": "white",
             "minorgridcolor": "white",
             "startlinecolor": "#2a3f5f"
            },
            "baxis": {
             "endlinecolor": "#2a3f5f",
             "gridcolor": "white",
             "linecolor": "white",
             "minorgridcolor": "white",
             "startlinecolor": "#2a3f5f"
            },
            "type": "carpet"
           }
          ],
          "choropleth": [
           {
            "colorbar": {
             "outlinewidth": 0,
             "ticks": ""
            },
            "type": "choropleth"
           }
          ],
          "contour": [
           {
            "colorbar": {
             "outlinewidth": 0,
             "ticks": ""
            },
            "colorscale": [
             [
              0,
              "#0d0887"
             ],
             [
              0.1111111111111111,
              "#46039f"
             ],
             [
              0.2222222222222222,
              "#7201a8"
             ],
             [
              0.3333333333333333,
              "#9c179e"
             ],
             [
              0.4444444444444444,
              "#bd3786"
             ],
             [
              0.5555555555555556,
              "#d8576b"
             ],
             [
              0.6666666666666666,
              "#ed7953"
             ],
             [
              0.7777777777777778,
              "#fb9f3a"
             ],
             [
              0.8888888888888888,
              "#fdca26"
             ],
             [
              1,
              "#f0f921"
             ]
            ],
            "type": "contour"
           }
          ],
          "contourcarpet": [
           {
            "colorbar": {
             "outlinewidth": 0,
             "ticks": ""
            },
            "type": "contourcarpet"
           }
          ],
          "heatmap": [
           {
            "colorbar": {
             "outlinewidth": 0,
             "ticks": ""
            },
            "colorscale": [
             [
              0,
              "#0d0887"
             ],
             [
              0.1111111111111111,
              "#46039f"
             ],
             [
              0.2222222222222222,
              "#7201a8"
             ],
             [
              0.3333333333333333,
              "#9c179e"
             ],
             [
              0.4444444444444444,
              "#bd3786"
             ],
             [
              0.5555555555555556,
              "#d8576b"
             ],
             [
              0.6666666666666666,
              "#ed7953"
             ],
             [
              0.7777777777777778,
              "#fb9f3a"
             ],
             [
              0.8888888888888888,
              "#fdca26"
             ],
             [
              1,
              "#f0f921"
             ]
            ],
            "type": "heatmap"
           }
          ],
          "heatmapgl": [
           {
            "colorbar": {
             "outlinewidth": 0,
             "ticks": ""
            },
            "colorscale": [
             [
              0,
              "#0d0887"
             ],
             [
              0.1111111111111111,
              "#46039f"
             ],
             [
              0.2222222222222222,
              "#7201a8"
             ],
             [
              0.3333333333333333,
              "#9c179e"
             ],
             [
              0.4444444444444444,
              "#bd3786"
             ],
             [
              0.5555555555555556,
              "#d8576b"
             ],
             [
              0.6666666666666666,
              "#ed7953"
             ],
             [
              0.7777777777777778,
              "#fb9f3a"
             ],
             [
              0.8888888888888888,
              "#fdca26"
             ],
             [
              1,
              "#f0f921"
             ]
            ],
            "type": "heatmapgl"
           }
          ],
          "histogram": [
           {
            "marker": {
             "pattern": {
              "fillmode": "overlay",
              "size": 10,
              "solidity": 0.2
             }
            },
            "type": "histogram"
           }
          ],
          "histogram2d": [
           {
            "colorbar": {
             "outlinewidth": 0,
             "ticks": ""
            },
            "colorscale": [
             [
              0,
              "#0d0887"
             ],
             [
              0.1111111111111111,
              "#46039f"
             ],
             [
              0.2222222222222222,
              "#7201a8"
             ],
             [
              0.3333333333333333,
              "#9c179e"
             ],
             [
              0.4444444444444444,
              "#bd3786"
             ],
             [
              0.5555555555555556,
              "#d8576b"
             ],
             [
              0.6666666666666666,
              "#ed7953"
             ],
             [
              0.7777777777777778,
              "#fb9f3a"
             ],
             [
              0.8888888888888888,
              "#fdca26"
             ],
             [
              1,
              "#f0f921"
             ]
            ],
            "type": "histogram2d"
           }
          ],
          "histogram2dcontour": [
           {
            "colorbar": {
             "outlinewidth": 0,
             "ticks": ""
            },
            "colorscale": [
             [
              0,
              "#0d0887"
             ],
             [
              0.1111111111111111,
              "#46039f"
             ],
             [
              0.2222222222222222,
              "#7201a8"
             ],
             [
              0.3333333333333333,
              "#9c179e"
             ],
             [
              0.4444444444444444,
              "#bd3786"
             ],
             [
              0.5555555555555556,
              "#d8576b"
             ],
             [
              0.6666666666666666,
              "#ed7953"
             ],
             [
              0.7777777777777778,
              "#fb9f3a"
             ],
             [
              0.8888888888888888,
              "#fdca26"
             ],
             [
              1,
              "#f0f921"
             ]
            ],
            "type": "histogram2dcontour"
           }
          ],
          "mesh3d": [
           {
            "colorbar": {
             "outlinewidth": 0,
             "ticks": ""
            },
            "type": "mesh3d"
           }
          ],
          "parcoords": [
           {
            "line": {
             "colorbar": {
              "outlinewidth": 0,
              "ticks": ""
             }
            },
            "type": "parcoords"
           }
          ],
          "pie": [
           {
            "automargin": true,
            "type": "pie"
           }
          ],
          "scatter": [
           {
            "fillpattern": {
             "fillmode": "overlay",
             "size": 10,
             "solidity": 0.2
            },
            "type": "scatter"
           }
          ],
          "scatter3d": [
           {
            "line": {
             "colorbar": {
              "outlinewidth": 0,
              "ticks": ""
             }
            },
            "marker": {
             "colorbar": {
              "outlinewidth": 0,
              "ticks": ""
             }
            },
            "type": "scatter3d"
           }
          ],
          "scattercarpet": [
           {
            "marker": {
             "colorbar": {
              "outlinewidth": 0,
              "ticks": ""
             }
            },
            "type": "scattercarpet"
           }
          ],
          "scattergeo": [
           {
            "marker": {
             "colorbar": {
              "outlinewidth": 0,
              "ticks": ""
             }
            },
            "type": "scattergeo"
           }
          ],
          "scattergl": [
           {
            "marker": {
             "colorbar": {
              "outlinewidth": 0,
              "ticks": ""
             }
            },
            "type": "scattergl"
           }
          ],
          "scattermapbox": [
           {
            "marker": {
             "colorbar": {
              "outlinewidth": 0,
              "ticks": ""
             }
            },
            "type": "scattermapbox"
           }
          ],
          "scatterpolar": [
           {
            "marker": {
             "colorbar": {
              "outlinewidth": 0,
              "ticks": ""
             }
            },
            "type": "scatterpolar"
           }
          ],
          "scatterpolargl": [
           {
            "marker": {
             "colorbar": {
              "outlinewidth": 0,
              "ticks": ""
             }
            },
            "type": "scatterpolargl"
           }
          ],
          "scatterternary": [
           {
            "marker": {
             "colorbar": {
              "outlinewidth": 0,
              "ticks": ""
             }
            },
            "type": "scatterternary"
           }
          ],
          "surface": [
           {
            "colorbar": {
             "outlinewidth": 0,
             "ticks": ""
            },
            "colorscale": [
             [
              0,
              "#0d0887"
             ],
             [
              0.1111111111111111,
              "#46039f"
             ],
             [
              0.2222222222222222,
              "#7201a8"
             ],
             [
              0.3333333333333333,
              "#9c179e"
             ],
             [
              0.4444444444444444,
              "#bd3786"
             ],
             [
              0.5555555555555556,
              "#d8576b"
             ],
             [
              0.6666666666666666,
              "#ed7953"
             ],
             [
              0.7777777777777778,
              "#fb9f3a"
             ],
             [
              0.8888888888888888,
              "#fdca26"
             ],
             [
              1,
              "#f0f921"
             ]
            ],
            "type": "surface"
           }
          ],
          "table": [
           {
            "cells": {
             "fill": {
              "color": "#EBF0F8"
             },
             "line": {
              "color": "white"
             }
            },
            "header": {
             "fill": {
              "color": "#C8D4E3"
             },
             "line": {
              "color": "white"
             }
            },
            "type": "table"
           }
          ]
         },
         "layout": {
          "annotationdefaults": {
           "arrowcolor": "#2a3f5f",
           "arrowhead": 0,
           "arrowwidth": 1
          },
          "autotypenumbers": "strict",
          "coloraxis": {
           "colorbar": {
            "outlinewidth": 0,
            "ticks": ""
           }
          },
          "colorscale": {
           "diverging": [
            [
             0,
             "#8e0152"
            ],
            [
             0.1,
             "#c51b7d"
            ],
            [
             0.2,
             "#de77ae"
            ],
            [
             0.3,
             "#f1b6da"
            ],
            [
             0.4,
             "#fde0ef"
            ],
            [
             0.5,
             "#f7f7f7"
            ],
            [
             0.6,
             "#e6f5d0"
            ],
            [
             0.7,
             "#b8e186"
            ],
            [
             0.8,
             "#7fbc41"
            ],
            [
             0.9,
             "#4d9221"
            ],
            [
             1,
             "#276419"
            ]
           ],
           "sequential": [
            [
             0,
             "#0d0887"
            ],
            [
             0.1111111111111111,
             "#46039f"
            ],
            [
             0.2222222222222222,
             "#7201a8"
            ],
            [
             0.3333333333333333,
             "#9c179e"
            ],
            [
             0.4444444444444444,
             "#bd3786"
            ],
            [
             0.5555555555555556,
             "#d8576b"
            ],
            [
             0.6666666666666666,
             "#ed7953"
            ],
            [
             0.7777777777777778,
             "#fb9f3a"
            ],
            [
             0.8888888888888888,
             "#fdca26"
            ],
            [
             1,
             "#f0f921"
            ]
           ],
           "sequentialminus": [
            [
             0,
             "#0d0887"
            ],
            [
             0.1111111111111111,
             "#46039f"
            ],
            [
             0.2222222222222222,
             "#7201a8"
            ],
            [
             0.3333333333333333,
             "#9c179e"
            ],
            [
             0.4444444444444444,
             "#bd3786"
            ],
            [
             0.5555555555555556,
             "#d8576b"
            ],
            [
             0.6666666666666666,
             "#ed7953"
            ],
            [
             0.7777777777777778,
             "#fb9f3a"
            ],
            [
             0.8888888888888888,
             "#fdca26"
            ],
            [
             1,
             "#f0f921"
            ]
           ]
          },
          "colorway": [
           "#636efa",
           "#EF553B",
           "#00cc96",
           "#ab63fa",
           "#FFA15A",
           "#19d3f3",
           "#FF6692",
           "#B6E880",
           "#FF97FF",
           "#FECB52"
          ],
          "font": {
           "color": "#2a3f5f"
          },
          "geo": {
           "bgcolor": "white",
           "lakecolor": "white",
           "landcolor": "#E5ECF6",
           "showlakes": true,
           "showland": true,
           "subunitcolor": "white"
          },
          "hoverlabel": {
           "align": "left"
          },
          "hovermode": "closest",
          "mapbox": {
           "style": "light"
          },
          "paper_bgcolor": "white",
          "plot_bgcolor": "#E5ECF6",
          "polar": {
           "angularaxis": {
            "gridcolor": "white",
            "linecolor": "white",
            "ticks": ""
           },
           "bgcolor": "#E5ECF6",
           "radialaxis": {
            "gridcolor": "white",
            "linecolor": "white",
            "ticks": ""
           }
          },
          "scene": {
           "xaxis": {
            "backgroundcolor": "#E5ECF6",
            "gridcolor": "white",
            "gridwidth": 2,
            "linecolor": "white",
            "showbackground": true,
            "ticks": "",
            "zerolinecolor": "white"
           },
           "yaxis": {
            "backgroundcolor": "#E5ECF6",
            "gridcolor": "white",
            "gridwidth": 2,
            "linecolor": "white",
            "showbackground": true,
            "ticks": "",
            "zerolinecolor": "white"
           },
           "zaxis": {
            "backgroundcolor": "#E5ECF6",
            "gridcolor": "white",
            "gridwidth": 2,
            "linecolor": "white",
            "showbackground": true,
            "ticks": "",
            "zerolinecolor": "white"
           }
          },
          "shapedefaults": {
           "line": {
            "color": "#2a3f5f"
           }
          },
          "ternary": {
           "aaxis": {
            "gridcolor": "white",
            "linecolor": "white",
            "ticks": ""
           },
           "baxis": {
            "gridcolor": "white",
            "linecolor": "white",
            "ticks": ""
           },
           "bgcolor": "#E5ECF6",
           "caxis": {
            "gridcolor": "white",
            "linecolor": "white",
            "ticks": ""
           }
          },
          "title": {
           "x": 0.05
          },
          "xaxis": {
           "automargin": true,
           "gridcolor": "white",
           "linecolor": "white",
           "ticks": "",
           "title": {
            "standoff": 15
           },
           "zerolinecolor": "white",
           "zerolinewidth": 2
          },
          "yaxis": {
           "automargin": true,
           "gridcolor": "white",
           "linecolor": "white",
           "ticks": "",
           "title": {
            "standoff": 15
           },
           "zerolinecolor": "white",
           "zerolinewidth": 2
          }
         }
        },
        "xaxis": {
         "anchor": "y",
         "autorange": true,
         "domain": [
          0,
          1
         ],
         "range": [
          -0.5,
          2.5
         ],
         "title": {
          "text": "Fruit"
         },
         "type": "category"
        },
        "yaxis": {
         "anchor": "x",
         "autorange": true,
         "domain": [
          0,
          1
         ],
         "range": [
          0,
          5.2631578947368425
         ],
         "title": {
          "text": "Amount"
         },
         "type": "linear"
        }
       }
      },
      "image/png": "[encoded data removed]"
     },
     "metadata": {},
     "output_type": "display_data"
    }
   ],
   "source": [
    "import plotly.express as px\n",
    "import pandas as pd\n",
    "\n",
    "# 創建一個簡單的資料集\n",
    "df = pd.DataFrame({\n",
    "    \"Fruit\": [\"Apples\", \"Oranges\", \"Bananas\", \"Apples\", \"Oranges\", \"Bananas\"],\n",
    "    \"Amount\": [4, 1, 2, 2, 4, 5],\n",
    "    \"City\": [\"SF\", \"SF\", \"SF\", \"Montreal\", \"Montreal\", \"Montreal\"]\n",
    "})\n",
    "\n",
    "# 使用 Plotly 繪製條形圖\n",
    "fig = px.bar(df, x=\"Fruit\", y=\"Amount\", color=\"City\", barmode=\"group\")\n",
    "\n",
    "# 顯示圖表\n",
    "fig.show()"
   ]
  },
  {
   "cell_type": "code",
   "execution_count": 6,
   "metadata": {},
   "outputs": [
    {
     "data": {
      "text/html": [
       "<div>\n",
       "<style scoped>\n",
       "    .dataframe tbody tr th:only-of-type {\n",
       "        vertical-align: middle;\n",
       "    }\n",
       "\n",
       "    .dataframe tbody tr th {\n",
       "        vertical-align: top;\n",
       "    }\n",
       "\n",
       "    .dataframe thead th {\n",
       "        text-align: right;\n",
       "    }\n",
       "</style>\n",
       "<table border=\"1\" class=\"dataframe\">\n",
       "  <thead>\n",
       "    <tr style=\"text-align: right;\">\n",
       "      <th></th>\n",
       "      <th>公司代號</th>\n",
       "      <th>公司名稱</th>\n",
       "      <th>營業收入(百萬元)</th>\n",
       "      <th>毛利率(%)(營業毛利)/(營業收入)</th>\n",
       "      <th>營業利益率(%)(營業利益)/(營業收入)</th>\n",
       "      <th>稅前純益率(%)(稅前純益)/(營業收入)</th>\n",
       "      <th>稅後純益率(%)(稅後純益)/(營業收入)</th>\n",
       "    </tr>\n",
       "  </thead>\n",
       "  <tbody>\n",
       "    <tr>\n",
       "      <th>0</th>\n",
       "      <td>1101</td>\n",
       "      <td>NaN</td>\n",
       "      <td>25544.60</td>\n",
       "      <td>15.22</td>\n",
       "      <td>4.70</td>\n",
       "      <td>13.12</td>\n",
       "      <td>8.77</td>\n",
       "    </tr>\n",
       "    <tr>\n",
       "      <th>1</th>\n",
       "      <td>1102</td>\n",
       "      <td>NaN</td>\n",
       "      <td>16499.75</td>\n",
       "      <td>10.65</td>\n",
       "      <td>6.20</td>\n",
       "      <td>22.01</td>\n",
       "      <td>17.06</td>\n",
       "    </tr>\n",
       "    <tr>\n",
       "      <th>2</th>\n",
       "      <td>1103</td>\n",
       "      <td>NaN</td>\n",
       "      <td>699.14</td>\n",
       "      <td>14.91</td>\n",
       "      <td>-2.80</td>\n",
       "      <td>-4.27</td>\n",
       "      <td>-6.23</td>\n",
       "    </tr>\n",
       "    <tr>\n",
       "      <th>3</th>\n",
       "      <td>1104</td>\n",
       "      <td>NaN</td>\n",
       "      <td>1908.57</td>\n",
       "      <td>20.09</td>\n",
       "      <td>12.90</td>\n",
       "      <td>18.40</td>\n",
       "      <td>13.34</td>\n",
       "    </tr>\n",
       "    <tr>\n",
       "      <th>4</th>\n",
       "      <td>1108</td>\n",
       "      <td>NaN</td>\n",
       "      <td>1192.97</td>\n",
       "      <td>18.88</td>\n",
       "      <td>13.54</td>\n",
       "      <td>12.85</td>\n",
       "      <td>10.24</td>\n",
       "    </tr>\n",
       "    <tr>\n",
       "      <th>...</th>\n",
       "      <td>...</td>\n",
       "      <td>...</td>\n",
       "      <td>...</td>\n",
       "      <td>...</td>\n",
       "      <td>...</td>\n",
       "      <td>...</td>\n",
       "      <td>...</td>\n",
       "    </tr>\n",
       "    <tr>\n",
       "      <th>1039</th>\n",
       "      <td>公司代號</td>\n",
       "      <td>NaN</td>\n",
       "      <td>NaN</td>\n",
       "      <td>NaN</td>\n",
       "      <td>NaN</td>\n",
       "      <td>NaN</td>\n",
       "      <td>NaN</td>\n",
       "    </tr>\n",
       "    <tr>\n",
       "      <th>1040</th>\n",
       "      <td>9945</td>\n",
       "      <td>NaN</td>\n",
       "      <td>7000.52</td>\n",
       "      <td>25.53</td>\n",
       "      <td>18.10</td>\n",
       "      <td>137.06</td>\n",
       "      <td>118.71</td>\n",
       "    </tr>\n",
       "    <tr>\n",
       "      <th>1041</th>\n",
       "      <td>9946</td>\n",
       "      <td>NaN</td>\n",
       "      <td>301.27</td>\n",
       "      <td>29.02</td>\n",
       "      <td>14.77</td>\n",
       "      <td>13.89</td>\n",
       "      <td>13.39</td>\n",
       "    </tr>\n",
       "    <tr>\n",
       "      <th>1042</th>\n",
       "      <td>9955</td>\n",
       "      <td>NaN</td>\n",
       "      <td>272.89</td>\n",
       "      <td>-0.81</td>\n",
       "      <td>-12.33</td>\n",
       "      <td>-11.57</td>\n",
       "      <td>-11.57</td>\n",
       "    </tr>\n",
       "    <tr>\n",
       "      <th>1043</th>\n",
       "      <td>9958</td>\n",
       "      <td>NaN</td>\n",
       "      <td>3148.96</td>\n",
       "      <td>37.76</td>\n",
       "      <td>33.67</td>\n",
       "      <td>34.18</td>\n",
       "      <td>27.33</td>\n",
       "    </tr>\n",
       "  </tbody>\n",
       "</table>\n",
       "<p>1044 rows × 7 columns</p>\n",
       "</div>"
      ],
      "text/plain": [
       "      公司代號  公司名稱  營業收入(百萬元)  毛利率(%)(營業毛利)/(營業收入)  營業利益率(%)(營業利益)/(營業收入)  \\\n",
       "0     1101   NaN   25544.60                15.22                   4.70   \n",
       "1     1102   NaN   16499.75                10.65                   6.20   \n",
       "2     1103   NaN     699.14                14.91                  -2.80   \n",
       "3     1104   NaN    1908.57                20.09                  12.90   \n",
       "4     1108   NaN    1192.97                18.88                  13.54   \n",
       "...    ...   ...        ...                  ...                    ...   \n",
       "1039  公司代號   NaN        NaN                  NaN                    NaN   \n",
       "1040  9945   NaN    7000.52                25.53                  18.10   \n",
       "1041  9946   NaN     301.27                29.02                  14.77   \n",
       "1042  9955   NaN     272.89                -0.81                 -12.33   \n",
       "1043  9958   NaN    3148.96                37.76                  33.67   \n",
       "\n",
       "      稅前純益率(%)(稅前純益)/(營業收入)  稅後純益率(%)(稅後純益)/(營業收入)  \n",
       "0                     13.12                   8.77  \n",
       "1                     22.01                  17.06  \n",
       "2                     -4.27                  -6.23  \n",
       "3                     18.40                  13.34  \n",
       "4                     12.85                  10.24  \n",
       "...                     ...                    ...  \n",
       "1039                    NaN                    NaN  \n",
       "1040                 137.06                 118.71  \n",
       "1041                  13.89                  13.39  \n",
       "1042                 -11.57                 -11.57  \n",
       "1043                  34.18                  27.33  \n",
       "\n",
       "[1044 rows x 7 columns]"
      ]
     },
     "execution_count": 6,
     "metadata": {},
     "output_type": "execute_result"
    }
   ],
   "source": [
    "df_fin = pd.read_csv('financial_data.csv')\n",
    "df_fin"
   ]
  },
  {
   "cell_type": "code",
   "execution_count": 8,
   "metadata": {},
   "outputs": [
    {
     "data": {
      "application/vnd.plotly.v1+json": {
       "config": {
        "plotlyServerURL": "https://plot.ly"
       },
       "data": [
        {
         "alignmentgroup": "True",
         "hovertemplate": "公司代號=%{x}<br>營業收入(百萬元)=%{y}<extra></extra>",
         "legendgroup": "1101",
         "marker": {
          "color": "#636efa",
          "pattern": {
           "shape": ""
          }
         },
         "name": "1101",
         "offsetgroup": "1101",
         "orientation": "v",
         "showlegend": true,
         "textposition": "auto",
         "type": "bar",
         "x": [
          "1101"
         ],
         "xaxis": "x",
         "y": [
          25544.6
         ],
         "yaxis": "y"
        },
        {
         "alignmentgroup": "True",
         "hovertemplate": "公司代號=%{x}<br>營業收入(百萬元)=%{y}<extra></extra>",
         "legendgroup": "1102",
         "marker": {
          "color": "#EF553B",
          "pattern": {
           "shape": ""
          }
         },
         "name": "1102",
         "offsetgroup": "1102",
         "orientation": "v",
         "showlegend": true,
         "textposition": "auto",
         "type": "bar",
         "x": [
          "1102"
         ],
         "xaxis": "x",
         "y": [
          16499.75
         ],
         "yaxis": "y"
        },
        {
         "alignmentgroup": "True",
         "hovertemplate": "公司代號=%{x}<br>營業收入(百萬元)=%{y}<extra></extra>",
         "legendgroup": "1103",
         "marker": {
          "color": "#00cc96",
          "pattern": {
           "shape": ""
          }
         },
         "name": "1103",
         "offsetgroup": "1103",
         "orientation": "v",
         "showlegend": true,
         "textposition": "auto",
         "type": "bar",
         "x": [
          "1103"
         ],
         "xaxis": "x",
         "y": [
          699.14
         ],
         "yaxis": "y"
        },
        {
         "alignmentgroup": "True",
         "hovertemplate": "公司代號=%{x}<br>營業收入(百萬元)=%{y}<extra></extra>",
         "legendgroup": "1104",
         "marker": {
          "color": "#ab63fa",
          "pattern": {
           "shape": ""
          }
         },
         "name": "1104",
         "offsetgroup": "1104",
         "orientation": "v",
         "showlegend": true,
         "textposition": "auto",
         "type": "bar",
         "x": [
          "1104"
         ],
         "xaxis": "x",
         "y": [
          1908.57
         ],
         "yaxis": "y"
        },
        {
         "alignmentgroup": "True",
         "hovertemplate": "公司代號=%{x}<br>營業收入(百萬元)=%{y}<extra></extra>",
         "legendgroup": "1108",
         "marker": {
          "color": "#FFA15A",
          "pattern": {
           "shape": ""
          }
         },
         "name": "1108",
         "offsetgroup": "1108",
         "orientation": "v",
         "showlegend": true,
         "textposition": "auto",
         "type": "bar",
         "x": [
          "1108"
         ],
         "xaxis": "x",
         "y": [
          1192.97
         ],
         "yaxis": "y"
        },
        {
         "alignmentgroup": "True",
         "hovertemplate": "公司代號=%{x}<br>營業收入(百萬元)=%{y}<extra></extra>",
         "legendgroup": "1109",
         "marker": {
          "color": "#19d3f3",
          "pattern": {
           "shape": ""
          }
         },
         "name": "1109",
         "offsetgroup": "1109",
         "orientation": "v",
         "showlegend": true,
         "textposition": "auto",
         "type": "bar",
         "x": [
          "1109"
         ],
         "xaxis": "x",
         "y": [
          1097.07
         ],
         "yaxis": "y"
        },
        {
         "alignmentgroup": "True",
         "hovertemplate": "公司代號=%{x}<br>營業收入(百萬元)=%{y}<extra></extra>",
         "legendgroup": "1110",
         "marker": {
          "color": "#FF6692",
          "pattern": {
           "shape": ""
          }
         },
         "name": "1110",
         "offsetgroup": "1110",
         "orientation": "v",
         "showlegend": true,
         "textposition": "auto",
         "type": "bar",
         "x": [
          "1110"
         ],
         "xaxis": "x",
         "y": [
          576.9
         ],
         "yaxis": "y"
        },
        {
         "alignmentgroup": "True",
         "hovertemplate": "公司代號=%{x}<br>營業收入(百萬元)=%{y}<extra></extra>",
         "legendgroup": "1201",
         "marker": {
          "color": "#B6E880",
          "pattern": {
           "shape": ""
          }
         },
         "name": "1201",
         "offsetgroup": "1201",
         "orientation": "v",
         "showlegend": true,
         "textposition": "auto",
         "type": "bar",
         "x": [
          "1201"
         ],
         "xaxis": "x",
         "y": [
          5334.45
         ],
         "yaxis": "y"
        },
        {
         "alignmentgroup": "True",
         "hovertemplate": "公司代號=%{x}<br>營業收入(百萬元)=%{y}<extra></extra>",
         "legendgroup": "1203",
         "marker": {
          "color": "#FF97FF",
          "pattern": {
           "shape": ""
          }
         },
         "name": "1203",
         "offsetgroup": "1203",
         "orientation": "v",
         "showlegend": true,
         "textposition": "auto",
         "type": "bar",
         "x": [
          "1203"
         ],
         "xaxis": "x",
         "y": [
          1557.82
         ],
         "yaxis": "y"
        },
        {
         "alignmentgroup": "True",
         "hovertemplate": "公司代號=%{x}<br>營業收入(百萬元)=%{y}<extra></extra>",
         "legendgroup": "1210",
         "marker": {
          "color": "#FECB52",
          "pattern": {
           "shape": ""
          }
         },
         "name": "1210",
         "offsetgroup": "1210",
         "orientation": "v",
         "showlegend": true,
         "textposition": "auto",
         "type": "bar",
         "x": [
          "1210"
         ],
         "xaxis": "x",
         "y": [
          25249.61
         ],
         "yaxis": "y"
        },
        {
         "alignmentgroup": "True",
         "hovertemplate": "公司代號=%{x}<br>營業收入(百萬元)=%{y}<extra></extra>",
         "legendgroup": "1213",
         "marker": {
          "color": "#636efa",
          "pattern": {
           "shape": ""
          }
         },
         "name": "1213",
         "offsetgroup": "1213",
         "orientation": "v",
         "showlegend": true,
         "textposition": "auto",
         "type": "bar",
         "x": [
          "1213"
         ],
         "xaxis": "x",
         "y": [
          33.35
         ],
         "yaxis": "y"
        },
        {
         "alignmentgroup": "True",
         "hovertemplate": "公司代號=%{x}<br>營業收入(百萬元)=%{y}<extra></extra>",
         "legendgroup": "1215",
         "marker": {
          "color": "#EF553B",
          "pattern": {
           "shape": ""
          }
         },
         "name": "1215",
         "offsetgroup": "1215",
         "orientation": "v",
         "showlegend": true,
         "textposition": "auto",
         "type": "bar",
         "x": [
          "1215"
         ],
         "xaxis": "x",
         "y": [
          6912.11
         ],
         "yaxis": "y"
        },
        {
         "alignmentgroup": "True",
         "hovertemplate": "公司代號=%{x}<br>營業收入(百萬元)=%{y}<extra></extra>",
         "legendgroup": "1216",
         "marker": {
          "color": "#00cc96",
          "pattern": {
           "shape": ""
          }
         },
         "name": "1216",
         "offsetgroup": "1216",
         "orientation": "v",
         "showlegend": true,
         "textposition": "auto",
         "type": "bar",
         "x": [
          "1216"
         ],
         "xaxis": "x",
         "y": [
          158756.08
         ],
         "yaxis": "y"
        },
        {
         "alignmentgroup": "True",
         "hovertemplate": "公司代號=%{x}<br>營業收入(百萬元)=%{y}<extra></extra>",
         "legendgroup": "1217",
         "marker": {
          "color": "#ab63fa",
          "pattern": {
           "shape": ""
          }
         },
         "name": "1217",
         "offsetgroup": "1217",
         "orientation": "v",
         "showlegend": true,
         "textposition": "auto",
         "type": "bar",
         "x": [
          "1217"
         ],
         "xaxis": "x",
         "y": [
          1159.18
         ],
         "yaxis": "y"
        },
        {
         "alignmentgroup": "True",
         "hovertemplate": "公司代號=%{x}<br>營業收入(百萬元)=%{y}<extra></extra>",
         "legendgroup": "1218",
         "marker": {
          "color": "#FFA15A",
          "pattern": {
           "shape": ""
          }
         },
         "name": "1218",
         "offsetgroup": "1218",
         "orientation": "v",
         "showlegend": true,
         "textposition": "auto",
         "type": "bar",
         "x": [
          "1218"
         ],
         "xaxis": "x",
         "y": [
          2755.72
         ],
         "yaxis": "y"
        },
        {
         "alignmentgroup": "True",
         "hovertemplate": "公司代號=%{x}<br>營業收入(百萬元)=%{y}<extra></extra>",
         "legendgroup": "公司代號",
         "marker": {
          "color": "#19d3f3",
          "pattern": {
           "shape": ""
          }
         },
         "name": "公司代號",
         "offsetgroup": "公司代號",
         "orientation": "v",
         "showlegend": true,
         "textposition": "auto",
         "type": "bar",
         "x": [
          "公司代號",
          "公司代號",
          "公司代號",
          "公司代號",
          "公司代號",
          "公司代號",
          "公司代號",
          "公司代號",
          "公司代號",
          "公司代號",
          "公司代號",
          "公司代號",
          "公司代號",
          "公司代號",
          "公司代號",
          "公司代號",
          "公司代號",
          "公司代號",
          "公司代號",
          "公司代號",
          "公司代號",
          "公司代號",
          "公司代號",
          "公司代號",
          "公司代號",
          "公司代號",
          "公司代號",
          "公司代號",
          "公司代號",
          "公司代號",
          "公司代號",
          "公司代號",
          "公司代號",
          "公司代號",
          "公司代號",
          "公司代號",
          "公司代號",
          "公司代號",
          "公司代號",
          "公司代號",
          "公司代號",
          "公司代號",
          "公司代號",
          "公司代號",
          "公司代號",
          "公司代號",
          "公司代號",
          "公司代號",
          "公司代號",
          "公司代號",
          "公司代號",
          "公司代號",
          "公司代號",
          "公司代號",
          "公司代號",
          "公司代號",
          "公司代號",
          "公司代號",
          "公司代號",
          "公司代號",
          "公司代號",
          "公司代號",
          "公司代號",
          "公司代號",
          "公司代號"
         ],
         "xaxis": "x",
         "y": [
          null,
          null,
          null,
          null,
          null,
          null,
          null,
          null,
          null,
          null,
          null,
          null,
          null,
          null,
          null,
          null,
          null,
          null,
          null,
          null,
          null,
          null,
          null,
          null,
          null,
          null,
          null,
          null,
          null,
          null,
          null,
          null,
          null,
          null,
          null,
          null,
          null,
          null,
          null,
          null,
          null,
          null,
          null,
          null,
          null,
          null,
          null,
          null,
          null,
          null,
          null,
          null,
          null,
          null,
          null,
          null,
          null,
          null,
          null,
          null,
          null,
          null,
          null,
          null,
          null
         ],
         "yaxis": "y"
        },
        {
         "alignmentgroup": "True",
         "hovertemplate": "公司代號=%{x}<br>營業收入(百萬元)=%{y}<extra></extra>",
         "legendgroup": "1219",
         "marker": {
          "color": "#FF6692",
          "pattern": {
           "shape": ""
          }
         },
         "name": "1219",
         "offsetgroup": "1219",
         "orientation": "v",
         "showlegend": true,
         "textposition": "auto",
         "type": "bar",
         "x": [
          "1219"
         ],
         "xaxis": "x",
         "y": [
          3564.4
         ],
         "yaxis": "y"
        },
        {
         "alignmentgroup": "True",
         "hovertemplate": "公司代號=%{x}<br>營業收入(百萬元)=%{y}<extra></extra>",
         "legendgroup": "1220",
         "marker": {
          "color": "#B6E880",
          "pattern": {
           "shape": ""
          }
         },
         "name": "1220",
         "offsetgroup": "1220",
         "orientation": "v",
         "showlegend": true,
         "textposition": "auto",
         "type": "bar",
         "x": [
          "1220"
         ],
         "xaxis": "x",
         "y": [
          762.31
         ],
         "yaxis": "y"
        },
        {
         "alignmentgroup": "True",
         "hovertemplate": "公司代號=%{x}<br>營業收入(百萬元)=%{y}<extra></extra>",
         "legendgroup": "1225",
         "marker": {
          "color": "#FF97FF",
          "pattern": {
           "shape": ""
          }
         },
         "name": "1225",
         "offsetgroup": "1225",
         "orientation": "v",
         "showlegend": true,
         "textposition": "auto",
         "type": "bar",
         "x": [
          "1225"
         ],
         "xaxis": "x",
         "y": [
          3343.9
         ],
         "yaxis": "y"
        },
        {
         "alignmentgroup": "True",
         "hovertemplate": "公司代號=%{x}<br>營業收入(百萬元)=%{y}<extra></extra>",
         "legendgroup": "1227",
         "marker": {
          "color": "#FECB52",
          "pattern": {
           "shape": ""
          }
         },
         "name": "1227",
         "offsetgroup": "1227",
         "orientation": "v",
         "showlegend": true,
         "textposition": "auto",
         "type": "bar",
         "x": [
          "1227"
         ],
         "xaxis": "x",
         "y": [
          6795.85
         ],
         "yaxis": "y"
        },
        {
         "alignmentgroup": "True",
         "hovertemplate": "公司代號=%{x}<br>營業收入(百萬元)=%{y}<extra></extra>",
         "legendgroup": "1229",
         "marker": {
          "color": "#636efa",
          "pattern": {
           "shape": ""
          }
         },
         "name": "1229",
         "offsetgroup": "1229",
         "orientation": "v",
         "showlegend": true,
         "textposition": "auto",
         "type": "bar",
         "x": [
          "1229"
         ],
         "xaxis": "x",
         "y": [
          3050.5
         ],
         "yaxis": "y"
        },
        {
         "alignmentgroup": "True",
         "hovertemplate": "公司代號=%{x}<br>營業收入(百萬元)=%{y}<extra></extra>",
         "legendgroup": "1231",
         "marker": {
          "color": "#EF553B",
          "pattern": {
           "shape": ""
          }
         },
         "name": "1231",
         "offsetgroup": "1231",
         "orientation": "v",
         "showlegend": true,
         "textposition": "auto",
         "type": "bar",
         "x": [
          "1231"
         ],
         "xaxis": "x",
         "y": [
          2905.46
         ],
         "yaxis": "y"
        },
        {
         "alignmentgroup": "True",
         "hovertemplate": "公司代號=%{x}<br>營業收入(百萬元)=%{y}<extra></extra>",
         "legendgroup": "1232",
         "marker": {
          "color": "#00cc96",
          "pattern": {
           "shape": ""
          }
         },
         "name": "1232",
         "offsetgroup": "1232",
         "orientation": "v",
         "showlegend": true,
         "textposition": "auto",
         "type": "bar",
         "x": [
          "1232"
         ],
         "xaxis": "x",
         "y": [
          5626.35
         ],
         "yaxis": "y"
        },
        {
         "alignmentgroup": "True",
         "hovertemplate": "公司代號=%{x}<br>營業收入(百萬元)=%{y}<extra></extra>",
         "legendgroup": "1233",
         "marker": {
          "color": "#ab63fa",
          "pattern": {
           "shape": ""
          }
         },
         "name": "1233",
         "offsetgroup": "1233",
         "orientation": "v",
         "showlegend": true,
         "textposition": "auto",
         "type": "bar",
         "x": [
          "1233"
         ],
         "xaxis": "x",
         "y": [
          572.24
         ],
         "yaxis": "y"
        },
        {
         "alignmentgroup": "True",
         "hovertemplate": "公司代號=%{x}<br>營業收入(百萬元)=%{y}<extra></extra>",
         "legendgroup": "1234",
         "marker": {
          "color": "#FFA15A",
          "pattern": {
           "shape": ""
          }
         },
         "name": "1234",
         "offsetgroup": "1234",
         "orientation": "v",
         "showlegend": true,
         "textposition": "auto",
         "type": "bar",
         "x": [
          "1234"
         ],
         "xaxis": "x",
         "y": [
          2639.4
         ],
         "yaxis": "y"
        },
        {
         "alignmentgroup": "True",
         "hovertemplate": "公司代號=%{x}<br>營業收入(百萬元)=%{y}<extra></extra>",
         "legendgroup": "1235",
         "marker": {
          "color": "#19d3f3",
          "pattern": {
           "shape": ""
          }
         },
         "name": "1235",
         "offsetgroup": "1235",
         "orientation": "v",
         "showlegend": true,
         "textposition": "auto",
         "type": "bar",
         "x": [
          "1235"
         ],
         "xaxis": "x",
         "y": [
          17.22
         ],
         "yaxis": "y"
        },
        {
         "alignmentgroup": "True",
         "hovertemplate": "公司代號=%{x}<br>營業收入(百萬元)=%{y}<extra></extra>",
         "legendgroup": "1236",
         "marker": {
          "color": "#FF6692",
          "pattern": {
           "shape": ""
          }
         },
         "name": "1236",
         "offsetgroup": "1236",
         "orientation": "v",
         "showlegend": true,
         "textposition": "auto",
         "type": "bar",
         "x": [
          "1236"
         ],
         "xaxis": "x",
         "y": [
          573.6
         ],
         "yaxis": "y"
        },
        {
         "alignmentgroup": "True",
         "hovertemplate": "公司代號=%{x}<br>營業收入(百萬元)=%{y}<extra></extra>",
         "legendgroup": "1256",
         "marker": {
          "color": "#B6E880",
          "pattern": {
           "shape": ""
          }
         },
         "name": "1256",
         "offsetgroup": "1256",
         "orientation": "v",
         "showlegend": true,
         "textposition": "auto",
         "type": "bar",
         "x": [
          "1256"
         ],
         "xaxis": "x",
         "y": [
          869.96
         ],
         "yaxis": "y"
        },
        {
         "alignmentgroup": "True",
         "hovertemplate": "公司代號=%{x}<br>營業收入(百萬元)=%{y}<extra></extra>",
         "legendgroup": "1301",
         "marker": {
          "color": "#FF97FF",
          "pattern": {
           "shape": ""
          }
         },
         "name": "1301",
         "offsetgroup": "1301",
         "orientation": "v",
         "showlegend": true,
         "textposition": "auto",
         "type": "bar",
         "x": [
          "1301"
         ],
         "xaxis": "x",
         "y": [
          48108.49
         ],
         "yaxis": "y"
        },
        {
         "alignmentgroup": "True",
         "hovertemplate": "公司代號=%{x}<br>營業收入(百萬元)=%{y}<extra></extra>",
         "legendgroup": "1303",
         "marker": {
          "color": "#FECB52",
          "pattern": {
           "shape": ""
          }
         },
         "name": "1303",
         "offsetgroup": "1303",
         "orientation": "v",
         "showlegend": true,
         "textposition": "auto",
         "type": "bar",
         "x": [
          "1303"
         ],
         "xaxis": "x",
         "y": [
          58629.91
         ],
         "yaxis": "y"
        },
        {
         "alignmentgroup": "True",
         "hovertemplate": "公司代號=%{x}<br>營業收入(百萬元)=%{y}<extra></extra>",
         "legendgroup": "1304",
         "marker": {
          "color": "#636efa",
          "pattern": {
           "shape": ""
          }
         },
         "name": "1304",
         "offsetgroup": "1304",
         "orientation": "v",
         "showlegend": true,
         "textposition": "auto",
         "type": "bar",
         "x": [
          "1304"
         ],
         "xaxis": "x",
         "y": [
          12024.43
         ],
         "yaxis": "y"
        },
        {
         "alignmentgroup": "True",
         "hovertemplate": "公司代號=%{x}<br>營業收入(百萬元)=%{y}<extra></extra>",
         "legendgroup": "1305",
         "marker": {
          "color": "#EF553B",
          "pattern": {
           "shape": ""
          }
         },
         "name": "1305",
         "offsetgroup": "1305",
         "orientation": "v",
         "showlegend": true,
         "textposition": "auto",
         "type": "bar",
         "x": [
          "1305"
         ],
         "xaxis": "x",
         "y": [
          2904.78
         ],
         "yaxis": "y"
        },
        {
         "alignmentgroup": "True",
         "hovertemplate": "公司代號=%{x}<br>營業收入(百萬元)=%{y}<extra></extra>",
         "legendgroup": "1307",
         "marker": {
          "color": "#00cc96",
          "pattern": {
           "shape": ""
          }
         },
         "name": "1307",
         "offsetgroup": "1307",
         "orientation": "v",
         "showlegend": true,
         "textposition": "auto",
         "type": "bar",
         "x": [
          "1307"
         ],
         "xaxis": "x",
         "y": [
          2604.11
         ],
         "yaxis": "y"
        },
        {
         "alignmentgroup": "True",
         "hovertemplate": "公司代號=%{x}<br>營業收入(百萬元)=%{y}<extra></extra>",
         "legendgroup": "1308",
         "marker": {
          "color": "#ab63fa",
          "pattern": {
           "shape": ""
          }
         },
         "name": "1308",
         "offsetgroup": "1308",
         "orientation": "v",
         "showlegend": true,
         "textposition": "auto",
         "type": "bar",
         "x": [
          "1308"
         ],
         "xaxis": "x",
         "y": [
          1561.35
         ],
         "yaxis": "y"
        },
        {
         "alignmentgroup": "True",
         "hovertemplate": "公司代號=%{x}<br>營業收入(百萬元)=%{y}<extra></extra>",
         "legendgroup": "1309",
         "marker": {
          "color": "#FFA15A",
          "pattern": {
           "shape": ""
          }
         },
         "name": "1309",
         "offsetgroup": "1309",
         "orientation": "v",
         "showlegend": true,
         "textposition": "auto",
         "type": "bar",
         "x": [
          "1309"
         ],
         "xaxis": "x",
         "y": [
          3790.75
         ],
         "yaxis": "y"
        },
        {
         "alignmentgroup": "True",
         "hovertemplate": "公司代號=%{x}<br>營業收入(百萬元)=%{y}<extra></extra>",
         "legendgroup": "1310",
         "marker": {
          "color": "#19d3f3",
          "pattern": {
           "shape": ""
          }
         },
         "name": "1310",
         "offsetgroup": "1310",
         "orientation": "v",
         "showlegend": true,
         "textposition": "auto",
         "type": "bar",
         "x": [
          "1310"
         ],
         "xaxis": "x",
         "y": [
          2226.2
         ],
         "yaxis": "y"
        },
        {
         "alignmentgroup": "True",
         "hovertemplate": "公司代號=%{x}<br>營業收入(百萬元)=%{y}<extra></extra>",
         "legendgroup": "1312",
         "marker": {
          "color": "#FF6692",
          "pattern": {
           "shape": ""
          }
         },
         "name": "1312",
         "offsetgroup": "1312",
         "orientation": "v",
         "showlegend": true,
         "textposition": "auto",
         "type": "bar",
         "x": [
          "1312"
         ],
         "xaxis": "x",
         "y": [
          3255.22
         ],
         "yaxis": "y"
        },
        {
         "alignmentgroup": "True",
         "hovertemplate": "公司代號=%{x}<br>營業收入(百萬元)=%{y}<extra></extra>",
         "legendgroup": "1313",
         "marker": {
          "color": "#B6E880",
          "pattern": {
           "shape": ""
          }
         },
         "name": "1313",
         "offsetgroup": "1313",
         "orientation": "v",
         "showlegend": true,
         "textposition": "auto",
         "type": "bar",
         "x": [
          "1313"
         ],
         "xaxis": "x",
         "y": [
          17825.49
         ],
         "yaxis": "y"
        },
        {
         "alignmentgroup": "True",
         "hovertemplate": "公司代號=%{x}<br>營業收入(百萬元)=%{y}<extra></extra>",
         "legendgroup": "1314",
         "marker": {
          "color": "#FF97FF",
          "pattern": {
           "shape": ""
          }
         },
         "name": "1314",
         "offsetgroup": "1314",
         "orientation": "v",
         "showlegend": true,
         "textposition": "auto",
         "type": "bar",
         "x": [
          "1314"
         ],
         "xaxis": "x",
         "y": [
          8191.86
         ],
         "yaxis": "y"
        },
        {
         "alignmentgroup": "True",
         "hovertemplate": "公司代號=%{x}<br>營業收入(百萬元)=%{y}<extra></extra>",
         "legendgroup": "1315",
         "marker": {
          "color": "#FECB52",
          "pattern": {
           "shape": ""
          }
         },
         "name": "1315",
         "offsetgroup": "1315",
         "orientation": "v",
         "showlegend": true,
         "textposition": "auto",
         "type": "bar",
         "x": [
          "1315"
         ],
         "xaxis": "x",
         "y": [
          455.5
         ],
         "yaxis": "y"
        },
        {
         "alignmentgroup": "True",
         "hovertemplate": "公司代號=%{x}<br>營業收入(百萬元)=%{y}<extra></extra>",
         "legendgroup": "1316",
         "marker": {
          "color": "#636efa",
          "pattern": {
           "shape": ""
          }
         },
         "name": "1316",
         "offsetgroup": "1316",
         "orientation": "v",
         "showlegend": true,
         "textposition": "auto",
         "type": "bar",
         "x": [
          "1316"
         ],
         "xaxis": "x",
         "y": [
          228.93
         ],
         "yaxis": "y"
        },
        {
         "alignmentgroup": "True",
         "hovertemplate": "公司代號=%{x}<br>營業收入(百萬元)=%{y}<extra></extra>",
         "legendgroup": "1319",
         "marker": {
          "color": "#EF553B",
          "pattern": {
           "shape": ""
          }
         },
         "name": "1319",
         "offsetgroup": "1319",
         "orientation": "v",
         "showlegend": true,
         "textposition": "auto",
         "type": "bar",
         "x": [
          "1319"
         ],
         "xaxis": "x",
         "y": [
          6174.17
         ],
         "yaxis": "y"
        },
        {
         "alignmentgroup": "True",
         "hovertemplate": "公司代號=%{x}<br>營業收入(百萬元)=%{y}<extra></extra>",
         "legendgroup": "1321",
         "marker": {
          "color": "#00cc96",
          "pattern": {
           "shape": ""
          }
         },
         "name": "1321",
         "offsetgroup": "1321",
         "orientation": "v",
         "showlegend": true,
         "textposition": "auto",
         "type": "bar",
         "x": [
          "1321"
         ],
         "xaxis": "x",
         "y": [
          1112.11
         ],
         "yaxis": "y"
        },
        {
         "alignmentgroup": "True",
         "hovertemplate": "公司代號=%{x}<br>營業收入(百萬元)=%{y}<extra></extra>",
         "legendgroup": "1323",
         "marker": {
          "color": "#ab63fa",
          "pattern": {
           "shape": ""
          }
         },
         "name": "1323",
         "offsetgroup": "1323",
         "orientation": "v",
         "showlegend": true,
         "textposition": "auto",
         "type": "bar",
         "x": [
          "1323"
         ],
         "xaxis": "x",
         "y": [
          764.25
         ],
         "yaxis": "y"
        },
        {
         "alignmentgroup": "True",
         "hovertemplate": "公司代號=%{x}<br>營業收入(百萬元)=%{y}<extra></extra>",
         "legendgroup": "1324",
         "marker": {
          "color": "#FFA15A",
          "pattern": {
           "shape": ""
          }
         },
         "name": "1324",
         "offsetgroup": "1324",
         "orientation": "v",
         "showlegend": true,
         "textposition": "auto",
         "type": "bar",
         "x": [
          "1324"
         ],
         "xaxis": "x",
         "y": [
          199.16
         ],
         "yaxis": "y"
        },
        {
         "alignmentgroup": "True",
         "hovertemplate": "公司代號=%{x}<br>營業收入(百萬元)=%{y}<extra></extra>",
         "legendgroup": "1325",
         "marker": {
          "color": "#19d3f3",
          "pattern": {
           "shape": ""
          }
         },
         "name": "1325",
         "offsetgroup": "1325",
         "orientation": "v",
         "showlegend": true,
         "textposition": "auto",
         "type": "bar",
         "x": [
          "1325"
         ],
         "xaxis": "x",
         "y": [
          96.38
         ],
         "yaxis": "y"
        },
        {
         "alignmentgroup": "True",
         "hovertemplate": "公司代號=%{x}<br>營業收入(百萬元)=%{y}<extra></extra>",
         "legendgroup": "1326",
         "marker": {
          "color": "#FF6692",
          "pattern": {
           "shape": ""
          }
         },
         "name": "1326",
         "offsetgroup": "1326",
         "orientation": "v",
         "showlegend": true,
         "textposition": "auto",
         "type": "bar",
         "x": [
          "1326"
         ],
         "xaxis": "x",
         "y": [
          83941.69
         ],
         "yaxis": "y"
        },
        {
         "alignmentgroup": "True",
         "hovertemplate": "公司代號=%{x}<br>營業收入(百萬元)=%{y}<extra></extra>",
         "legendgroup": "1337",
         "marker": {
          "color": "#B6E880",
          "pattern": {
           "shape": ""
          }
         },
         "name": "1337",
         "offsetgroup": "1337",
         "orientation": "v",
         "showlegend": true,
         "textposition": "auto",
         "type": "bar",
         "x": [
          "1337"
         ],
         "xaxis": "x",
         "y": [
          258.24
         ],
         "yaxis": "y"
        },
        {
         "alignmentgroup": "True",
         "hovertemplate": "公司代號=%{x}<br>營業收入(百萬元)=%{y}<extra></extra>",
         "legendgroup": "1338",
         "marker": {
          "color": "#FF97FF",
          "pattern": {
           "shape": ""
          }
         },
         "name": "1338",
         "offsetgroup": "1338",
         "orientation": "v",
         "showlegend": true,
         "textposition": "auto",
         "type": "bar",
         "x": [
          "1338"
         ],
         "xaxis": "x",
         "y": [
          1157.84
         ],
         "yaxis": "y"
        },
        {
         "alignmentgroup": "True",
         "hovertemplate": "公司代號=%{x}<br>營業收入(百萬元)=%{y}<extra></extra>",
         "legendgroup": "1339",
         "marker": {
          "color": "#FECB52",
          "pattern": {
           "shape": ""
          }
         },
         "name": "1339",
         "offsetgroup": "1339",
         "orientation": "v",
         "showlegend": true,
         "textposition": "auto",
         "type": "bar",
         "x": [
          "1339"
         ],
         "xaxis": "x",
         "y": [
          512.32
         ],
         "yaxis": "y"
        },
        {
         "alignmentgroup": "True",
         "hovertemplate": "公司代號=%{x}<br>營業收入(百萬元)=%{y}<extra></extra>",
         "legendgroup": "1340",
         "marker": {
          "color": "#636efa",
          "pattern": {
           "shape": ""
          }
         },
         "name": "1340",
         "offsetgroup": "1340",
         "orientation": "v",
         "showlegend": true,
         "textposition": "auto",
         "type": "bar",
         "x": [
          "1340"
         ],
         "xaxis": "x",
         "y": [
          76.2
         ],
         "yaxis": "y"
        },
        {
         "alignmentgroup": "True",
         "hovertemplate": "公司代號=%{x}<br>營業收入(百萬元)=%{y}<extra></extra>",
         "legendgroup": "1341",
         "marker": {
          "color": "#EF553B",
          "pattern": {
           "shape": ""
          }
         },
         "name": "1341",
         "offsetgroup": "1341",
         "orientation": "v",
         "showlegend": true,
         "textposition": "auto",
         "type": "bar",
         "x": [
          "1341"
         ],
         "xaxis": "x",
         "y": [
          605.62
         ],
         "yaxis": "y"
        },
        {
         "alignmentgroup": "True",
         "hovertemplate": "公司代號=%{x}<br>營業收入(百萬元)=%{y}<extra></extra>",
         "legendgroup": "1342",
         "marker": {
          "color": "#00cc96",
          "pattern": {
           "shape": ""
          }
         },
         "name": "1342",
         "offsetgroup": "1342",
         "orientation": "v",
         "showlegend": true,
         "textposition": "auto",
         "type": "bar",
         "x": [
          "1342"
         ],
         "xaxis": "x",
         "y": [
          613
         ],
         "yaxis": "y"
        },
        {
         "alignmentgroup": "True",
         "hovertemplate": "公司代號=%{x}<br>營業收入(百萬元)=%{y}<extra></extra>",
         "legendgroup": "1402",
         "marker": {
          "color": "#ab63fa",
          "pattern": {
           "shape": ""
          }
         },
         "name": "1402",
         "offsetgroup": "1402",
         "orientation": "v",
         "showlegend": true,
         "textposition": "auto",
         "type": "bar",
         "x": [
          "1402"
         ],
         "xaxis": "x",
         "y": [
          65409.19
         ],
         "yaxis": "y"
        },
        {
         "alignmentgroup": "True",
         "hovertemplate": "公司代號=%{x}<br>營業收入(百萬元)=%{y}<extra></extra>",
         "legendgroup": "1410",
         "marker": {
          "color": "#FFA15A",
          "pattern": {
           "shape": ""
          }
         },
         "name": "1410",
         "offsetgroup": "1410",
         "orientation": "v",
         "showlegend": true,
         "textposition": "auto",
         "type": "bar",
         "x": [
          "1410"
         ],
         "xaxis": "x",
         "y": [
          54.74
         ],
         "yaxis": "y"
        },
        {
         "alignmentgroup": "True",
         "hovertemplate": "公司代號=%{x}<br>營業收入(百萬元)=%{y}<extra></extra>",
         "legendgroup": "1413",
         "marker": {
          "color": "#19d3f3",
          "pattern": {
           "shape": ""
          }
         },
         "name": "1413",
         "offsetgroup": "1413",
         "orientation": "v",
         "showlegend": true,
         "textposition": "auto",
         "type": "bar",
         "x": [
          "1413"
         ],
         "xaxis": "x",
         "y": [
          623.37
         ],
         "yaxis": "y"
        },
        {
         "alignmentgroup": "True",
         "hovertemplate": "公司代號=%{x}<br>營業收入(百萬元)=%{y}<extra></extra>",
         "legendgroup": "1414",
         "marker": {
          "color": "#FF6692",
          "pattern": {
           "shape": ""
          }
         },
         "name": "1414",
         "offsetgroup": "1414",
         "orientation": "v",
         "showlegend": true,
         "textposition": "auto",
         "type": "bar",
         "x": [
          "1414"
         ],
         "xaxis": "x",
         "y": [
          140.07
         ],
         "yaxis": "y"
        },
        {
         "alignmentgroup": "True",
         "hovertemplate": "公司代號=%{x}<br>營業收入(百萬元)=%{y}<extra></extra>",
         "legendgroup": "1416",
         "marker": {
          "color": "#B6E880",
          "pattern": {
           "shape": ""
          }
         },
         "name": "1416",
         "offsetgroup": "1416",
         "orientation": "v",
         "showlegend": true,
         "textposition": "auto",
         "type": "bar",
         "x": [
          "1416"
         ],
         "xaxis": "x",
         "y": [
          79.11
         ],
         "yaxis": "y"
        },
        {
         "alignmentgroup": "True",
         "hovertemplate": "公司代號=%{x}<br>營業收入(百萬元)=%{y}<extra></extra>",
         "legendgroup": "1417",
         "marker": {
          "color": "#FF97FF",
          "pattern": {
           "shape": ""
          }
         },
         "name": "1417",
         "offsetgroup": "1417",
         "orientation": "v",
         "showlegend": true,
         "textposition": "auto",
         "type": "bar",
         "x": [
          "1417"
         ],
         "xaxis": "x",
         "y": [
          237.81
         ],
         "yaxis": "y"
        },
        {
         "alignmentgroup": "True",
         "hovertemplate": "公司代號=%{x}<br>營業收入(百萬元)=%{y}<extra></extra>",
         "legendgroup": "1418",
         "marker": {
          "color": "#FECB52",
          "pattern": {
           "shape": ""
          }
         },
         "name": "1418",
         "offsetgroup": "1418",
         "orientation": "v",
         "showlegend": true,
         "textposition": "auto",
         "type": "bar",
         "x": [
          "1418"
         ],
         "xaxis": "x",
         "y": [
          3.86
         ],
         "yaxis": "y"
        },
        {
         "alignmentgroup": "True",
         "hovertemplate": "公司代號=%{x}<br>營業收入(百萬元)=%{y}<extra></extra>",
         "legendgroup": "1419",
         "marker": {
          "color": "#636efa",
          "pattern": {
           "shape": ""
          }
         },
         "name": "1419",
         "offsetgroup": "1419",
         "orientation": "v",
         "showlegend": true,
         "textposition": "auto",
         "type": "bar",
         "x": [
          "1419"
         ],
         "xaxis": "x",
         "y": [
          861.63
         ],
         "yaxis": "y"
        },
        {
         "alignmentgroup": "True",
         "hovertemplate": "公司代號=%{x}<br>營業收入(百萬元)=%{y}<extra></extra>",
         "legendgroup": "1423",
         "marker": {
          "color": "#EF553B",
          "pattern": {
           "shape": ""
          }
         },
         "name": "1423",
         "offsetgroup": "1423",
         "orientation": "v",
         "showlegend": true,
         "textposition": "auto",
         "type": "bar",
         "x": [
          "1423"
         ],
         "xaxis": "x",
         "y": [
          40.19
         ],
         "yaxis": "y"
        },
        {
         "alignmentgroup": "True",
         "hovertemplate": "公司代號=%{x}<br>營業收入(百萬元)=%{y}<extra></extra>",
         "legendgroup": "1432",
         "marker": {
          "color": "#00cc96",
          "pattern": {
           "shape": ""
          }
         },
         "name": "1432",
         "offsetgroup": "1432",
         "orientation": "v",
         "showlegend": true,
         "textposition": "auto",
         "type": "bar",
         "x": [
          "1432"
         ],
         "xaxis": "x",
         "y": [
          326.36
         ],
         "yaxis": "y"
        },
        {
         "alignmentgroup": "True",
         "hovertemplate": "公司代號=%{x}<br>營業收入(百萬元)=%{y}<extra></extra>",
         "legendgroup": "1434",
         "marker": {
          "color": "#ab63fa",
          "pattern": {
           "shape": ""
          }
         },
         "name": "1434",
         "offsetgroup": "1434",
         "orientation": "v",
         "showlegend": true,
         "textposition": "auto",
         "type": "bar",
         "x": [
          "1434"
         ],
         "xaxis": "x",
         "y": [
          7169.83
         ],
         "yaxis": "y"
        },
        {
         "alignmentgroup": "True",
         "hovertemplate": "公司代號=%{x}<br>營業收入(百萬元)=%{y}<extra></extra>",
         "legendgroup": "1435",
         "marker": {
          "color": "#FFA15A",
          "pattern": {
           "shape": ""
          }
         },
         "name": "1435",
         "offsetgroup": "1435",
         "orientation": "v",
         "showlegend": true,
         "textposition": "auto",
         "type": "bar",
         "x": [
          "1435"
         ],
         "xaxis": "x",
         "y": [
          2.65
         ],
         "yaxis": "y"
        },
        {
         "alignmentgroup": "True",
         "hovertemplate": "公司代號=%{x}<br>營業收入(百萬元)=%{y}<extra></extra>",
         "legendgroup": "1436",
         "marker": {
          "color": "#19d3f3",
          "pattern": {
           "shape": ""
          }
         },
         "name": "1436",
         "offsetgroup": "1436",
         "orientation": "v",
         "showlegend": true,
         "textposition": "auto",
         "type": "bar",
         "x": [
          "1436"
         ],
         "xaxis": "x",
         "y": [
          20.08
         ],
         "yaxis": "y"
        },
        {
         "alignmentgroup": "True",
         "hovertemplate": "公司代號=%{x}<br>營業收入(百萬元)=%{y}<extra></extra>",
         "legendgroup": "1437",
         "marker": {
          "color": "#FF6692",
          "pattern": {
           "shape": ""
          }
         },
         "name": "1437",
         "offsetgroup": "1437",
         "orientation": "v",
         "showlegend": true,
         "textposition": "auto",
         "type": "bar",
         "x": [
          "1437"
         ],
         "xaxis": "x",
         "y": [
          177.25
         ],
         "yaxis": "y"
        },
        {
         "alignmentgroup": "True",
         "hovertemplate": "公司代號=%{x}<br>營業收入(百萬元)=%{y}<extra></extra>",
         "legendgroup": "1438",
         "marker": {
          "color": "#B6E880",
          "pattern": {
           "shape": ""
          }
         },
         "name": "1438",
         "offsetgroup": "1438",
         "orientation": "v",
         "showlegend": true,
         "textposition": "auto",
         "type": "bar",
         "x": [
          "1438"
         ],
         "xaxis": "x",
         "y": [
          0
         ],
         "yaxis": "y"
        },
        {
         "alignmentgroup": "True",
         "hovertemplate": "公司代號=%{x}<br>營業收入(百萬元)=%{y}<extra></extra>",
         "legendgroup": "1439",
         "marker": {
          "color": "#FF97FF",
          "pattern": {
           "shape": ""
          }
         },
         "name": "1439",
         "offsetgroup": "1439",
         "orientation": "v",
         "showlegend": true,
         "textposition": "auto",
         "type": "bar",
         "x": [
          "1439"
         ],
         "xaxis": "x",
         "y": [
          33.15
         ],
         "yaxis": "y"
        },
        {
         "alignmentgroup": "True",
         "hovertemplate": "公司代號=%{x}<br>營業收入(百萬元)=%{y}<extra></extra>",
         "legendgroup": "1440",
         "marker": {
          "color": "#FECB52",
          "pattern": {
           "shape": ""
          }
         },
         "name": "1440",
         "offsetgroup": "1440",
         "orientation": "v",
         "showlegend": true,
         "textposition": "auto",
         "type": "bar",
         "x": [
          "1440"
         ],
         "xaxis": "x",
         "y": [
          4225.41
         ],
         "yaxis": "y"
        },
        {
         "alignmentgroup": "True",
         "hovertemplate": "公司代號=%{x}<br>營業收入(百萬元)=%{y}<extra></extra>",
         "legendgroup": "1441",
         "marker": {
          "color": "#636efa",
          "pattern": {
           "shape": ""
          }
         },
         "name": "1441",
         "offsetgroup": "1441",
         "orientation": "v",
         "showlegend": true,
         "textposition": "auto",
         "type": "bar",
         "x": [
          "1441"
         ],
         "xaxis": "x",
         "y": [
          226.48
         ],
         "yaxis": "y"
        },
        {
         "alignmentgroup": "True",
         "hovertemplate": "公司代號=%{x}<br>營業收入(百萬元)=%{y}<extra></extra>",
         "legendgroup": "1442",
         "marker": {
          "color": "#EF553B",
          "pattern": {
           "shape": ""
          }
         },
         "name": "1442",
         "offsetgroup": "1442",
         "orientation": "v",
         "showlegend": true,
         "textposition": "auto",
         "type": "bar",
         "x": [
          "1442"
         ],
         "xaxis": "x",
         "y": [
          1906.59
         ],
         "yaxis": "y"
        },
        {
         "alignmentgroup": "True",
         "hovertemplate": "公司代號=%{x}<br>營業收入(百萬元)=%{y}<extra></extra>",
         "legendgroup": "1443",
         "marker": {
          "color": "#00cc96",
          "pattern": {
           "shape": ""
          }
         },
         "name": "1443",
         "offsetgroup": "1443",
         "orientation": "v",
         "showlegend": true,
         "textposition": "auto",
         "type": "bar",
         "x": [
          "1443"
         ],
         "xaxis": "x",
         "y": [
          213.52
         ],
         "yaxis": "y"
        },
        {
         "alignmentgroup": "True",
         "hovertemplate": "公司代號=%{x}<br>營業收入(百萬元)=%{y}<extra></extra>",
         "legendgroup": "1444",
         "marker": {
          "color": "#ab63fa",
          "pattern": {
           "shape": ""
          }
         },
         "name": "1444",
         "offsetgroup": "1444",
         "orientation": "v",
         "showlegend": true,
         "textposition": "auto",
         "type": "bar",
         "x": [
          "1444"
         ],
         "xaxis": "x",
         "y": [
          2071.96
         ],
         "yaxis": "y"
        },
        {
         "alignmentgroup": "True",
         "hovertemplate": "公司代號=%{x}<br>營業收入(百萬元)=%{y}<extra></extra>",
         "legendgroup": "1445",
         "marker": {
          "color": "#FFA15A",
          "pattern": {
           "shape": ""
          }
         },
         "name": "1445",
         "offsetgroup": "1445",
         "orientation": "v",
         "showlegend": true,
         "textposition": "auto",
         "type": "bar",
         "x": [
          "1445"
         ],
         "xaxis": "x",
         "y": [
          241.8
         ],
         "yaxis": "y"
        },
        {
         "alignmentgroup": "True",
         "hovertemplate": "公司代號=%{x}<br>營業收入(百萬元)=%{y}<extra></extra>",
         "legendgroup": "1446",
         "marker": {
          "color": "#19d3f3",
          "pattern": {
           "shape": ""
          }
         },
         "name": "1446",
         "offsetgroup": "1446",
         "orientation": "v",
         "showlegend": true,
         "textposition": "auto",
         "type": "bar",
         "x": [
          "1446"
         ],
         "xaxis": "x",
         "y": [
          717.55
         ],
         "yaxis": "y"
        },
        {
         "alignmentgroup": "True",
         "hovertemplate": "公司代號=%{x}<br>營業收入(百萬元)=%{y}<extra></extra>",
         "legendgroup": "1447",
         "marker": {
          "color": "#FF6692",
          "pattern": {
           "shape": ""
          }
         },
         "name": "1447",
         "offsetgroup": "1447",
         "orientation": "v",
         "showlegend": true,
         "textposition": "auto",
         "type": "bar",
         "x": [
          "1447"
         ],
         "xaxis": "x",
         "y": [
          9277.9
         ],
         "yaxis": "y"
        },
        {
         "alignmentgroup": "True",
         "hovertemplate": "公司代號=%{x}<br>營業收入(百萬元)=%{y}<extra></extra>",
         "legendgroup": "1449",
         "marker": {
          "color": "#B6E880",
          "pattern": {
           "shape": ""
          }
         },
         "name": "1449",
         "offsetgroup": "1449",
         "orientation": "v",
         "showlegend": true,
         "textposition": "auto",
         "type": "bar",
         "x": [
          "1449"
         ],
         "xaxis": "x",
         "y": [
          885.22
         ],
         "yaxis": "y"
        },
        {
         "alignmentgroup": "True",
         "hovertemplate": "公司代號=%{x}<br>營業收入(百萬元)=%{y}<extra></extra>",
         "legendgroup": "1451",
         "marker": {
          "color": "#FF97FF",
          "pattern": {
           "shape": ""
          }
         },
         "name": "1451",
         "offsetgroup": "1451",
         "orientation": "v",
         "showlegend": true,
         "textposition": "auto",
         "type": "bar",
         "x": [
          "1451"
         ],
         "xaxis": "x",
         "y": [
          1685.34
         ],
         "yaxis": "y"
        },
        {
         "alignmentgroup": "True",
         "hovertemplate": "公司代號=%{x}<br>營業收入(百萬元)=%{y}<extra></extra>",
         "legendgroup": "1452",
         "marker": {
          "color": "#FECB52",
          "pattern": {
           "shape": ""
          }
         },
         "name": "1452",
         "offsetgroup": "1452",
         "orientation": "v",
         "showlegend": true,
         "textposition": "auto",
         "type": "bar",
         "x": [
          "1452"
         ],
         "xaxis": "x",
         "y": [
          332
         ],
         "yaxis": "y"
        },
        {
         "alignmentgroup": "True",
         "hovertemplate": "公司代號=%{x}<br>營業收入(百萬元)=%{y}<extra></extra>",
         "legendgroup": "1453",
         "marker": {
          "color": "#636efa",
          "pattern": {
           "shape": ""
          }
         },
         "name": "1453",
         "offsetgroup": "1453",
         "orientation": "v",
         "showlegend": true,
         "textposition": "auto",
         "type": "bar",
         "x": [
          "1453"
         ],
         "xaxis": "x",
         "y": [
          0.34
         ],
         "yaxis": "y"
        },
        {
         "alignmentgroup": "True",
         "hovertemplate": "公司代號=%{x}<br>營業收入(百萬元)=%{y}<extra></extra>",
         "legendgroup": "1454",
         "marker": {
          "color": "#EF553B",
          "pattern": {
           "shape": ""
          }
         },
         "name": "1454",
         "offsetgroup": "1454",
         "orientation": "v",
         "showlegend": true,
         "textposition": "auto",
         "type": "bar",
         "x": [
          "1454"
         ],
         "xaxis": "x",
         "y": [
          390.13
         ],
         "yaxis": "y"
        },
        {
         "alignmentgroup": "True",
         "hovertemplate": "公司代號=%{x}<br>營業收入(百萬元)=%{y}<extra></extra>",
         "legendgroup": "1455",
         "marker": {
          "color": "#00cc96",
          "pattern": {
           "shape": ""
          }
         },
         "name": "1455",
         "offsetgroup": "1455",
         "orientation": "v",
         "showlegend": true,
         "textposition": "auto",
         "type": "bar",
         "x": [
          "1455"
         ],
         "xaxis": "x",
         "y": [
          2243.62
         ],
         "yaxis": "y"
        },
        {
         "alignmentgroup": "True",
         "hovertemplate": "公司代號=%{x}<br>營業收入(百萬元)=%{y}<extra></extra>",
         "legendgroup": "1456",
         "marker": {
          "color": "#ab63fa",
          "pattern": {
           "shape": ""
          }
         },
         "name": "1456",
         "offsetgroup": "1456",
         "orientation": "v",
         "showlegend": true,
         "textposition": "auto",
         "type": "bar",
         "x": [
          "1456"
         ],
         "xaxis": "x",
         "y": [
          280.47
         ],
         "yaxis": "y"
        },
        {
         "alignmentgroup": "True",
         "hovertemplate": "公司代號=%{x}<br>營業收入(百萬元)=%{y}<extra></extra>",
         "legendgroup": "1457",
         "marker": {
          "color": "#FFA15A",
          "pattern": {
           "shape": ""
          }
         },
         "name": "1457",
         "offsetgroup": "1457",
         "orientation": "v",
         "showlegend": true,
         "textposition": "auto",
         "type": "bar",
         "x": [
          "1457"
         ],
         "xaxis": "x",
         "y": [
          876.24
         ],
         "yaxis": "y"
        },
        {
         "alignmentgroup": "True",
         "hovertemplate": "公司代號=%{x}<br>營業收入(百萬元)=%{y}<extra></extra>",
         "legendgroup": "1459",
         "marker": {
          "color": "#19d3f3",
          "pattern": {
           "shape": ""
          }
         },
         "name": "1459",
         "offsetgroup": "1459",
         "orientation": "v",
         "showlegend": true,
         "textposition": "auto",
         "type": "bar",
         "x": [
          "1459"
         ],
         "xaxis": "x",
         "y": [
          372.39
         ],
         "yaxis": "y"
        },
        {
         "alignmentgroup": "True",
         "hovertemplate": "公司代號=%{x}<br>營業收入(百萬元)=%{y}<extra></extra>",
         "legendgroup": "1460",
         "marker": {
          "color": "#FF6692",
          "pattern": {
           "shape": ""
          }
         },
         "name": "1460",
         "offsetgroup": "1460",
         "orientation": "v",
         "showlegend": true,
         "textposition": "auto",
         "type": "bar",
         "x": [
          "1460"
         ],
         "xaxis": "x",
         "y": [
          1933.1
         ],
         "yaxis": "y"
        },
        {
         "alignmentgroup": "True",
         "hovertemplate": "公司代號=%{x}<br>營業收入(百萬元)=%{y}<extra></extra>",
         "legendgroup": "1463",
         "marker": {
          "color": "#B6E880",
          "pattern": {
           "shape": ""
          }
         },
         "name": "1463",
         "offsetgroup": "1463",
         "orientation": "v",
         "showlegend": true,
         "textposition": "auto",
         "type": "bar",
         "x": [
          "1463"
         ],
         "xaxis": "x",
         "y": [
          78.77
         ],
         "yaxis": "y"
        },
        {
         "alignmentgroup": "True",
         "hovertemplate": "公司代號=%{x}<br>營業收入(百萬元)=%{y}<extra></extra>",
         "legendgroup": "1464",
         "marker": {
          "color": "#FF97FF",
          "pattern": {
           "shape": ""
          }
         },
         "name": "1464",
         "offsetgroup": "1464",
         "orientation": "v",
         "showlegend": true,
         "textposition": "auto",
         "type": "bar",
         "x": [
          "1464"
         ],
         "xaxis": "x",
         "y": [
          2586.53
         ],
         "yaxis": "y"
        },
        {
         "alignmentgroup": "True",
         "hovertemplate": "公司代號=%{x}<br>營業收入(百萬元)=%{y}<extra></extra>",
         "legendgroup": "1465",
         "marker": {
          "color": "#FECB52",
          "pattern": {
           "shape": ""
          }
         },
         "name": "1465",
         "offsetgroup": "1465",
         "orientation": "v",
         "showlegend": true,
         "textposition": "auto",
         "type": "bar",
         "x": [
          "1465"
         ],
         "xaxis": "x",
         "y": [
          111.33
         ],
         "yaxis": "y"
        },
        {
         "alignmentgroup": "True",
         "hovertemplate": "公司代號=%{x}<br>營業收入(百萬元)=%{y}<extra></extra>",
         "legendgroup": "1466",
         "marker": {
          "color": "#636efa",
          "pattern": {
           "shape": ""
          }
         },
         "name": "1466",
         "offsetgroup": "1466",
         "orientation": "v",
         "showlegend": true,
         "textposition": "auto",
         "type": "bar",
         "x": [
          "1466"
         ],
         "xaxis": "x",
         "y": [
          593.56
         ],
         "yaxis": "y"
        },
        {
         "alignmentgroup": "True",
         "hovertemplate": "公司代號=%{x}<br>營業收入(百萬元)=%{y}<extra></extra>",
         "legendgroup": "1467",
         "marker": {
          "color": "#EF553B",
          "pattern": {
           "shape": ""
          }
         },
         "name": "1467",
         "offsetgroup": "1467",
         "orientation": "v",
         "showlegend": true,
         "textposition": "auto",
         "type": "bar",
         "x": [
          "1467"
         ],
         "xaxis": "x",
         "y": [
          1237.98
         ],
         "yaxis": "y"
        },
        {
         "alignmentgroup": "True",
         "hovertemplate": "公司代號=%{x}<br>營業收入(百萬元)=%{y}<extra></extra>",
         "legendgroup": "1468",
         "marker": {
          "color": "#00cc96",
          "pattern": {
           "shape": ""
          }
         },
         "name": "1468",
         "offsetgroup": "1468",
         "orientation": "v",
         "showlegend": true,
         "textposition": "auto",
         "type": "bar",
         "x": [
          "1468"
         ],
         "xaxis": "x",
         "y": [
          249.58
         ],
         "yaxis": "y"
        },
        {
         "alignmentgroup": "True",
         "hovertemplate": "公司代號=%{x}<br>營業收入(百萬元)=%{y}<extra></extra>",
         "legendgroup": "1470",
         "marker": {
          "color": "#ab63fa",
          "pattern": {
           "shape": ""
          }
         },
         "name": "1470",
         "offsetgroup": "1470",
         "orientation": "v",
         "showlegend": true,
         "textposition": "auto",
         "type": "bar",
         "x": [
          "1470"
         ],
         "xaxis": "x",
         "y": [
          190.25
         ],
         "yaxis": "y"
        },
        {
         "alignmentgroup": "True",
         "hovertemplate": "公司代號=%{x}<br>營業收入(百萬元)=%{y}<extra></extra>",
         "legendgroup": "1471",
         "marker": {
          "color": "#FFA15A",
          "pattern": {
           "shape": ""
          }
         },
         "name": "1471",
         "offsetgroup": "1471",
         "orientation": "v",
         "showlegend": true,
         "textposition": "auto",
         "type": "bar",
         "x": [
          "1471"
         ],
         "xaxis": "x",
         "y": [
          56.54
         ],
         "yaxis": "y"
        },
        {
         "alignmentgroup": "True",
         "hovertemplate": "公司代號=%{x}<br>營業收入(百萬元)=%{y}<extra></extra>",
         "legendgroup": "1472",
         "marker": {
          "color": "#19d3f3",
          "pattern": {
           "shape": ""
          }
         },
         "name": "1472",
         "offsetgroup": "1472",
         "orientation": "v",
         "showlegend": true,
         "textposition": "auto",
         "type": "bar",
         "x": [
          "1472"
         ],
         "xaxis": "x",
         "y": [
          573.31
         ],
         "yaxis": "y"
        },
        {
         "alignmentgroup": "True",
         "hovertemplate": "公司代號=%{x}<br>營業收入(百萬元)=%{y}<extra></extra>",
         "legendgroup": "1473",
         "marker": {
          "color": "#FF6692",
          "pattern": {
           "shape": ""
          }
         },
         "name": "1473",
         "offsetgroup": "1473",
         "orientation": "v",
         "showlegend": true,
         "textposition": "auto",
         "type": "bar",
         "x": [
          "1473"
         ],
         "xaxis": "x",
         "y": [
          2313.97
         ],
         "yaxis": "y"
        },
        {
         "alignmentgroup": "True",
         "hovertemplate": "公司代號=%{x}<br>營業收入(百萬元)=%{y}<extra></extra>",
         "legendgroup": "1474",
         "marker": {
          "color": "#B6E880",
          "pattern": {
           "shape": ""
          }
         },
         "name": "1474",
         "offsetgroup": "1474",
         "orientation": "v",
         "showlegend": true,
         "textposition": "auto",
         "type": "bar",
         "x": [
          "1474"
         ],
         "xaxis": "x",
         "y": [
          735.63
         ],
         "yaxis": "y"
        },
        {
         "alignmentgroup": "True",
         "hovertemplate": "公司代號=%{x}<br>營業收入(百萬元)=%{y}<extra></extra>",
         "legendgroup": "1475",
         "marker": {
          "color": "#FF97FF",
          "pattern": {
           "shape": ""
          }
         },
         "name": "1475",
         "offsetgroup": "1475",
         "orientation": "v",
         "showlegend": true,
         "textposition": "auto",
         "type": "bar",
         "x": [
          "1475"
         ],
         "xaxis": "x",
         "y": [
          421.43
         ],
         "yaxis": "y"
        },
        {
         "alignmentgroup": "True",
         "hovertemplate": "公司代號=%{x}<br>營業收入(百萬元)=%{y}<extra></extra>",
         "legendgroup": "1476",
         "marker": {
          "color": "#FECB52",
          "pattern": {
           "shape": ""
          }
         },
         "name": "1476",
         "offsetgroup": "1476",
         "orientation": "v",
         "showlegend": true,
         "textposition": "auto",
         "type": "bar",
         "x": [
          "1476"
         ],
         "xaxis": "x",
         "y": [
          7632.68
         ],
         "yaxis": "y"
        },
        {
         "alignmentgroup": "True",
         "hovertemplate": "公司代號=%{x}<br>營業收入(百萬元)=%{y}<extra></extra>",
         "legendgroup": "1477",
         "marker": {
          "color": "#636efa",
          "pattern": {
           "shape": ""
          }
         },
         "name": "1477",
         "offsetgroup": "1477",
         "orientation": "v",
         "showlegend": true,
         "textposition": "auto",
         "type": "bar",
         "x": [
          "1477"
         ],
         "xaxis": "x",
         "y": [
          8608.03
         ],
         "yaxis": "y"
        },
        {
         "alignmentgroup": "True",
         "hovertemplate": "公司代號=%{x}<br>營業收入(百萬元)=%{y}<extra></extra>",
         "legendgroup": "1503",
         "marker": {
          "color": "#EF553B",
          "pattern": {
           "shape": ""
          }
         },
         "name": "1503",
         "offsetgroup": "1503",
         "orientation": "v",
         "showlegend": true,
         "textposition": "auto",
         "type": "bar",
         "x": [
          "1503"
         ],
         "xaxis": "x",
         "y": [
          9917.95
         ],
         "yaxis": "y"
        },
        {
         "alignmentgroup": "True",
         "hovertemplate": "公司代號=%{x}<br>營業收入(百萬元)=%{y}<extra></extra>",
         "legendgroup": "1504",
         "marker": {
          "color": "#00cc96",
          "pattern": {
           "shape": ""
          }
         },
         "name": "1504",
         "offsetgroup": "1504",
         "orientation": "v",
         "showlegend": true,
         "textposition": "auto",
         "type": "bar",
         "x": [
          "1504"
         ],
         "xaxis": "x",
         "y": [
          13729.6
         ],
         "yaxis": "y"
        },
        {
         "alignmentgroup": "True",
         "hovertemplate": "公司代號=%{x}<br>營業收入(百萬元)=%{y}<extra></extra>",
         "legendgroup": "1506",
         "marker": {
          "color": "#ab63fa",
          "pattern": {
           "shape": ""
          }
         },
         "name": "1506",
         "offsetgroup": "1506",
         "orientation": "v",
         "showlegend": true,
         "textposition": "auto",
         "type": "bar",
         "x": [
          "1506"
         ],
         "xaxis": "x",
         "y": [
          249.19
         ],
         "yaxis": "y"
        },
        {
         "alignmentgroup": "True",
         "hovertemplate": "公司代號=%{x}<br>營業收入(百萬元)=%{y}<extra></extra>",
         "legendgroup": "1512",
         "marker": {
          "color": "#FFA15A",
          "pattern": {
           "shape": ""
          }
         },
         "name": "1512",
         "offsetgroup": "1512",
         "orientation": "v",
         "showlegend": true,
         "textposition": "auto",
         "type": "bar",
         "x": [
          "1512"
         ],
         "xaxis": "x",
         "y": [
          286.27
         ],
         "yaxis": "y"
        },
        {
         "alignmentgroup": "True",
         "hovertemplate": "公司代號=%{x}<br>營業收入(百萬元)=%{y}<extra></extra>",
         "legendgroup": "1513",
         "marker": {
          "color": "#19d3f3",
          "pattern": {
           "shape": ""
          }
         },
         "name": "1513",
         "offsetgroup": "1513",
         "orientation": "v",
         "showlegend": true,
         "textposition": "auto",
         "type": "bar",
         "x": [
          "1513"
         ],
         "xaxis": "x",
         "y": [
          6138.65
         ],
         "yaxis": "y"
        },
        {
         "alignmentgroup": "True",
         "hovertemplate": "公司代號=%{x}<br>營業收入(百萬元)=%{y}<extra></extra>",
         "legendgroup": "1514",
         "marker": {
          "color": "#FF6692",
          "pattern": {
           "shape": ""
          }
         },
         "name": "1514",
         "offsetgroup": "1514",
         "orientation": "v",
         "showlegend": true,
         "textposition": "auto",
         "type": "bar",
         "x": [
          "1514"
         ],
         "xaxis": "x",
         "y": [
          2089.13
         ],
         "yaxis": "y"
        },
        {
         "alignmentgroup": "True",
         "hovertemplate": "公司代號=%{x}<br>營業收入(百萬元)=%{y}<extra></extra>",
         "legendgroup": "1515",
         "marker": {
          "color": "#B6E880",
          "pattern": {
           "shape": ""
          }
         },
         "name": "1515",
         "offsetgroup": "1515",
         "orientation": "v",
         "showlegend": true,
         "textposition": "auto",
         "type": "bar",
         "x": [
          "1515"
         ],
         "xaxis": "x",
         "y": [
          2186.96
         ],
         "yaxis": "y"
        },
        {
         "alignmentgroup": "True",
         "hovertemplate": "公司代號=%{x}<br>營業收入(百萬元)=%{y}<extra></extra>",
         "legendgroup": "1516",
         "marker": {
          "color": "#FF97FF",
          "pattern": {
           "shape": ""
          }
         },
         "name": "1516",
         "offsetgroup": "1516",
         "orientation": "v",
         "showlegend": true,
         "textposition": "auto",
         "type": "bar",
         "x": [
          "1516"
         ],
         "xaxis": "x",
         "y": [
          290.62
         ],
         "yaxis": "y"
        },
        {
         "alignmentgroup": "True",
         "hovertemplate": "公司代號=%{x}<br>營業收入(百萬元)=%{y}<extra></extra>",
         "legendgroup": "1517",
         "marker": {
          "color": "#FECB52",
          "pattern": {
           "shape": ""
          }
         },
         "name": "1517",
         "offsetgroup": "1517",
         "orientation": "v",
         "showlegend": true,
         "textposition": "auto",
         "type": "bar",
         "x": [
          "1517"
         ],
         "xaxis": "x",
         "y": [
          374.11
         ],
         "yaxis": "y"
        },
        {
         "alignmentgroup": "True",
         "hovertemplate": "公司代號=%{x}<br>營業收入(百萬元)=%{y}<extra></extra>",
         "legendgroup": "1519",
         "marker": {
          "color": "#636efa",
          "pattern": {
           "shape": ""
          }
         },
         "name": "1519",
         "offsetgroup": "1519",
         "orientation": "v",
         "showlegend": true,
         "textposition": "auto",
         "type": "bar",
         "x": [
          "1519"
         ],
         "xaxis": "x",
         "y": [
          3037.5
         ],
         "yaxis": "y"
        },
        {
         "alignmentgroup": "True",
         "hovertemplate": "公司代號=%{x}<br>營業收入(百萬元)=%{y}<extra></extra>",
         "legendgroup": "1521",
         "marker": {
          "color": "#EF553B",
          "pattern": {
           "shape": ""
          }
         },
         "name": "1521",
         "offsetgroup": "1521",
         "orientation": "v",
         "showlegend": true,
         "textposition": "auto",
         "type": "bar",
         "x": [
          "1521"
         ],
         "xaxis": "x",
         "y": [
          1063.99
         ],
         "yaxis": "y"
        },
        {
         "alignmentgroup": "True",
         "hovertemplate": "公司代號=%{x}<br>營業收入(百萬元)=%{y}<extra></extra>",
         "legendgroup": "1522",
         "marker": {
          "color": "#00cc96",
          "pattern": {
           "shape": ""
          }
         },
         "name": "1522",
         "offsetgroup": "1522",
         "orientation": "v",
         "showlegend": true,
         "textposition": "auto",
         "type": "bar",
         "x": [
          "1522"
         ],
         "xaxis": "x",
         "y": [
          5116.17
         ],
         "yaxis": "y"
        },
        {
         "alignmentgroup": "True",
         "hovertemplate": "公司代號=%{x}<br>營業收入(百萬元)=%{y}<extra></extra>",
         "legendgroup": "1524",
         "marker": {
          "color": "#ab63fa",
          "pattern": {
           "shape": ""
          }
         },
         "name": "1524",
         "offsetgroup": "1524",
         "orientation": "v",
         "showlegend": true,
         "textposition": "auto",
         "type": "bar",
         "x": [
          "1524"
         ],
         "xaxis": "x",
         "y": [
          721.51
         ],
         "yaxis": "y"
        },
        {
         "alignmentgroup": "True",
         "hovertemplate": "公司代號=%{x}<br>營業收入(百萬元)=%{y}<extra></extra>",
         "legendgroup": "1525",
         "marker": {
          "color": "#FFA15A",
          "pattern": {
           "shape": ""
          }
         },
         "name": "1525",
         "offsetgroup": "1525",
         "orientation": "v",
         "showlegend": true,
         "textposition": "auto",
         "type": "bar",
         "x": [
          "1525"
         ],
         "xaxis": "x",
         "y": [
          308.54
         ],
         "yaxis": "y"
        },
        {
         "alignmentgroup": "True",
         "hovertemplate": "公司代號=%{x}<br>營業收入(百萬元)=%{y}<extra></extra>",
         "legendgroup": "1526",
         "marker": {
          "color": "#19d3f3",
          "pattern": {
           "shape": ""
          }
         },
         "name": "1526",
         "offsetgroup": "1526",
         "orientation": "v",
         "showlegend": true,
         "textposition": "auto",
         "type": "bar",
         "x": [
          "1526"
         ],
         "xaxis": "x",
         "y": [
          171.55
         ],
         "yaxis": "y"
        },
        {
         "alignmentgroup": "True",
         "hovertemplate": "公司代號=%{x}<br>營業收入(百萬元)=%{y}<extra></extra>",
         "legendgroup": "1527",
         "marker": {
          "color": "#FF6692",
          "pattern": {
           "shape": ""
          }
         },
         "name": "1527",
         "offsetgroup": "1527",
         "orientation": "v",
         "showlegend": true,
         "textposition": "auto",
         "type": "bar",
         "x": [
          "1527"
         ],
         "xaxis": "x",
         "y": [
          801.46
         ],
         "yaxis": "y"
        },
        {
         "alignmentgroup": "True",
         "hovertemplate": "公司代號=%{x}<br>營業收入(百萬元)=%{y}<extra></extra>",
         "legendgroup": "1528",
         "marker": {
          "color": "#B6E880",
          "pattern": {
           "shape": ""
          }
         },
         "name": "1528",
         "offsetgroup": "1528",
         "orientation": "v",
         "showlegend": true,
         "textposition": "auto",
         "type": "bar",
         "x": [
          "1528"
         ],
         "xaxis": "x",
         "y": [
          769.66
         ],
         "yaxis": "y"
        },
        {
         "alignmentgroup": "True",
         "hovertemplate": "公司代號=%{x}<br>營業收入(百萬元)=%{y}<extra></extra>",
         "legendgroup": "1529",
         "marker": {
          "color": "#FF97FF",
          "pattern": {
           "shape": ""
          }
         },
         "name": "1529",
         "offsetgroup": "1529",
         "orientation": "v",
         "showlegend": true,
         "textposition": "auto",
         "type": "bar",
         "x": [
          "1529"
         ],
         "xaxis": "x",
         "y": [
          146.15
         ],
         "yaxis": "y"
        },
        {
         "alignmentgroup": "True",
         "hovertemplate": "公司代號=%{x}<br>營業收入(百萬元)=%{y}<extra></extra>",
         "legendgroup": "1530",
         "marker": {
          "color": "#FECB52",
          "pattern": {
           "shape": ""
          }
         },
         "name": "1530",
         "offsetgroup": "1530",
         "orientation": "v",
         "showlegend": true,
         "textposition": "auto",
         "type": "bar",
         "x": [
          "1530"
         ],
         "xaxis": "x",
         "y": [
          362.52
         ],
         "yaxis": "y"
        },
        {
         "alignmentgroup": "True",
         "hovertemplate": "公司代號=%{x}<br>營業收入(百萬元)=%{y}<extra></extra>",
         "legendgroup": "1531",
         "marker": {
          "color": "#636efa",
          "pattern": {
           "shape": ""
          }
         },
         "name": "1531",
         "offsetgroup": "1531",
         "orientation": "v",
         "showlegend": true,
         "textposition": "auto",
         "type": "bar",
         "x": [
          "1531"
         ],
         "xaxis": "x",
         "y": [
          371.13
         ],
         "yaxis": "y"
        },
        {
         "alignmentgroup": "True",
         "hovertemplate": "公司代號=%{x}<br>營業收入(百萬元)=%{y}<extra></extra>",
         "legendgroup": "1532",
         "marker": {
          "color": "#EF553B",
          "pattern": {
           "shape": ""
          }
         },
         "name": "1532",
         "offsetgroup": "1532",
         "orientation": "v",
         "showlegend": true,
         "textposition": "auto",
         "type": "bar",
         "x": [
          "1532"
         ],
         "xaxis": "x",
         "y": [
          4827.54
         ],
         "yaxis": "y"
        },
        {
         "alignmentgroup": "True",
         "hovertemplate": "公司代號=%{x}<br>營業收入(百萬元)=%{y}<extra></extra>",
         "legendgroup": "1533",
         "marker": {
          "color": "#00cc96",
          "pattern": {
           "shape": ""
          }
         },
         "name": "1533",
         "offsetgroup": "1533",
         "orientation": "v",
         "showlegend": true,
         "textposition": "auto",
         "type": "bar",
         "x": [
          "1533"
         ],
         "xaxis": "x",
         "y": [
          730.64
         ],
         "yaxis": "y"
        },
        {
         "alignmentgroup": "True",
         "hovertemplate": "公司代號=%{x}<br>營業收入(百萬元)=%{y}<extra></extra>",
         "legendgroup": "1535",
         "marker": {
          "color": "#ab63fa",
          "pattern": {
           "shape": ""
          }
         },
         "name": "1535",
         "offsetgroup": "1535",
         "orientation": "v",
         "showlegend": true,
         "textposition": "auto",
         "type": "bar",
         "x": [
          "1535"
         ],
         "xaxis": "x",
         "y": [
          2604.14
         ],
         "yaxis": "y"
        },
        {
         "alignmentgroup": "True",
         "hovertemplate": "公司代號=%{x}<br>營業收入(百萬元)=%{y}<extra></extra>",
         "legendgroup": "1536",
         "marker": {
          "color": "#FFA15A",
          "pattern": {
           "shape": ""
          }
         },
         "name": "1536",
         "offsetgroup": "1536",
         "orientation": "v",
         "showlegend": true,
         "textposition": "auto",
         "type": "bar",
         "x": [
          "1536"
         ],
         "xaxis": "x",
         "y": [
          1487.47
         ],
         "yaxis": "y"
        },
        {
         "alignmentgroup": "True",
         "hovertemplate": "公司代號=%{x}<br>營業收入(百萬元)=%{y}<extra></extra>",
         "legendgroup": "1537",
         "marker": {
          "color": "#19d3f3",
          "pattern": {
           "shape": ""
          }
         },
         "name": "1537",
         "offsetgroup": "1537",
         "orientation": "v",
         "showlegend": true,
         "textposition": "auto",
         "type": "bar",
         "x": [
          "1537"
         ],
         "xaxis": "x",
         "y": [
          1741.94
         ],
         "yaxis": "y"
        },
        {
         "alignmentgroup": "True",
         "hovertemplate": "公司代號=%{x}<br>營業收入(百萬元)=%{y}<extra></extra>",
         "legendgroup": "1538",
         "marker": {
          "color": "#FF6692",
          "pattern": {
           "shape": ""
          }
         },
         "name": "1538",
         "offsetgroup": "1538",
         "orientation": "v",
         "showlegend": true,
         "textposition": "auto",
         "type": "bar",
         "x": [
          "1538"
         ],
         "xaxis": "x",
         "y": [
          18.49
         ],
         "yaxis": "y"
        },
        {
         "alignmentgroup": "True",
         "hovertemplate": "公司代號=%{x}<br>營業收入(百萬元)=%{y}<extra></extra>",
         "legendgroup": "1539",
         "marker": {
          "color": "#B6E880",
          "pattern": {
           "shape": ""
          }
         },
         "name": "1539",
         "offsetgroup": "1539",
         "orientation": "v",
         "showlegend": true,
         "textposition": "auto",
         "type": "bar",
         "x": [
          "1539"
         ],
         "xaxis": "x",
         "y": [
          384.1
         ],
         "yaxis": "y"
        },
        {
         "alignmentgroup": "True",
         "hovertemplate": "公司代號=%{x}<br>營業收入(百萬元)=%{y}<extra></extra>",
         "legendgroup": "1540",
         "marker": {
          "color": "#FF97FF",
          "pattern": {
           "shape": ""
          }
         },
         "name": "1540",
         "offsetgroup": "1540",
         "orientation": "v",
         "showlegend": true,
         "textposition": "auto",
         "type": "bar",
         "x": [
          "1540"
         ],
         "xaxis": "x",
         "y": [
          126.78
         ],
         "yaxis": "y"
        },
        {
         "alignmentgroup": "True",
         "hovertemplate": "公司代號=%{x}<br>營業收入(百萬元)=%{y}<extra></extra>",
         "legendgroup": "1541",
         "marker": {
          "color": "#FECB52",
          "pattern": {
           "shape": ""
          }
         },
         "name": "1541",
         "offsetgroup": "1541",
         "orientation": "v",
         "showlegend": true,
         "textposition": "auto",
         "type": "bar",
         "x": [
          "1541"
         ],
         "xaxis": "x",
         "y": [
          721.48
         ],
         "yaxis": "y"
        },
        {
         "alignmentgroup": "True",
         "hovertemplate": "公司代號=%{x}<br>營業收入(百萬元)=%{y}<extra></extra>",
         "legendgroup": "1558",
         "marker": {
          "color": "#636efa",
          "pattern": {
           "shape": ""
          }
         },
         "name": "1558",
         "offsetgroup": "1558",
         "orientation": "v",
         "showlegend": true,
         "textposition": "auto",
         "type": "bar",
         "x": [
          "1558"
         ],
         "xaxis": "x",
         "y": [
          1804.51
         ],
         "yaxis": "y"
        },
        {
         "alignmentgroup": "True",
         "hovertemplate": "公司代號=%{x}<br>營業收入(百萬元)=%{y}<extra></extra>",
         "legendgroup": "1560",
         "marker": {
          "color": "#EF553B",
          "pattern": {
           "shape": ""
          }
         },
         "name": "1560",
         "offsetgroup": "1560",
         "orientation": "v",
         "showlegend": true,
         "textposition": "auto",
         "type": "bar",
         "x": [
          "1560"
         ],
         "xaxis": "x",
         "y": [
          1595.18
         ],
         "yaxis": "y"
        },
        {
         "alignmentgroup": "True",
         "hovertemplate": "公司代號=%{x}<br>營業收入(百萬元)=%{y}<extra></extra>",
         "legendgroup": "1563",
         "marker": {
          "color": "#00cc96",
          "pattern": {
           "shape": ""
          }
         },
         "name": "1563",
         "offsetgroup": "1563",
         "orientation": "v",
         "showlegend": true,
         "textposition": "auto",
         "type": "bar",
         "x": [
          "1563"
         ],
         "xaxis": "x",
         "y": [
          1954.44
         ],
         "yaxis": "y"
        },
        {
         "alignmentgroup": "True",
         "hovertemplate": "公司代號=%{x}<br>營業收入(百萬元)=%{y}<extra></extra>",
         "legendgroup": "1568",
         "marker": {
          "color": "#ab63fa",
          "pattern": {
           "shape": ""
          }
         },
         "name": "1568",
         "offsetgroup": "1568",
         "orientation": "v",
         "showlegend": true,
         "textposition": "auto",
         "type": "bar",
         "x": [
          "1568"
         ],
         "xaxis": "x",
         "y": [
          305.61
         ],
         "yaxis": "y"
        },
        {
         "alignmentgroup": "True",
         "hovertemplate": "公司代號=%{x}<br>營業收入(百萬元)=%{y}<extra></extra>",
         "legendgroup": "1582",
         "marker": {
          "color": "#FFA15A",
          "pattern": {
           "shape": ""
          }
         },
         "name": "1582",
         "offsetgroup": "1582",
         "orientation": "v",
         "showlegend": true,
         "textposition": "auto",
         "type": "bar",
         "x": [
          "1582"
         ],
         "xaxis": "x",
         "y": [
          2146.51
         ],
         "yaxis": "y"
        },
        {
         "alignmentgroup": "True",
         "hovertemplate": "公司代號=%{x}<br>營業收入(百萬元)=%{y}<extra></extra>",
         "legendgroup": "1583",
         "marker": {
          "color": "#19d3f3",
          "pattern": {
           "shape": ""
          }
         },
         "name": "1583",
         "offsetgroup": "1583",
         "orientation": "v",
         "showlegend": true,
         "textposition": "auto",
         "type": "bar",
         "x": [
          "1583"
         ],
         "xaxis": "x",
         "y": [
          948.34
         ],
         "yaxis": "y"
        },
        {
         "alignmentgroup": "True",
         "hovertemplate": "公司代號=%{x}<br>營業收入(百萬元)=%{y}<extra></extra>",
         "legendgroup": "1587",
         "marker": {
          "color": "#FF6692",
          "pattern": {
           "shape": ""
          }
         },
         "name": "1587",
         "offsetgroup": "1587",
         "orientation": "v",
         "showlegend": true,
         "textposition": "auto",
         "type": "bar",
         "x": [
          "1587"
         ],
         "xaxis": "x",
         "y": [
          495.86
         ],
         "yaxis": "y"
        },
        {
         "alignmentgroup": "True",
         "hovertemplate": "公司代號=%{x}<br>營業收入(百萬元)=%{y}<extra></extra>",
         "legendgroup": "1589",
         "marker": {
          "color": "#B6E880",
          "pattern": {
           "shape": ""
          }
         },
         "name": "1589",
         "offsetgroup": "1589",
         "orientation": "v",
         "showlegend": true,
         "textposition": "auto",
         "type": "bar",
         "x": [
          "1589"
         ],
         "xaxis": "x",
         "y": [
          1420.14
         ],
         "yaxis": "y"
        },
        {
         "alignmentgroup": "True",
         "hovertemplate": "公司代號=%{x}<br>營業收入(百萬元)=%{y}<extra></extra>",
         "legendgroup": "1590",
         "marker": {
          "color": "#FF97FF",
          "pattern": {
           "shape": ""
          }
         },
         "name": "1590",
         "offsetgroup": "1590",
         "orientation": "v",
         "showlegend": true,
         "textposition": "auto",
         "type": "bar",
         "x": [
          "1590"
         ],
         "xaxis": "x",
         "y": [
          7205.59
         ],
         "yaxis": "y"
        },
        {
         "alignmentgroup": "True",
         "hovertemplate": "公司代號=%{x}<br>營業收入(百萬元)=%{y}<extra></extra>",
         "legendgroup": "1597",
         "marker": {
          "color": "#FECB52",
          "pattern": {
           "shape": ""
          }
         },
         "name": "1597",
         "offsetgroup": "1597",
         "orientation": "v",
         "showlegend": true,
         "textposition": "auto",
         "type": "bar",
         "x": [
          "1597"
         ],
         "xaxis": "x",
         "y": [
          254.04
         ],
         "yaxis": "y"
        },
        {
         "alignmentgroup": "True",
         "hovertemplate": "公司代號=%{x}<br>營業收入(百萬元)=%{y}<extra></extra>",
         "legendgroup": "1598",
         "marker": {
          "color": "#636efa",
          "pattern": {
           "shape": ""
          }
         },
         "name": "1598",
         "offsetgroup": "1598",
         "orientation": "v",
         "showlegend": true,
         "textposition": "auto",
         "type": "bar",
         "x": [
          "1598"
         ],
         "xaxis": "x",
         "y": [
          1764.04
         ],
         "yaxis": "y"
        },
        {
         "alignmentgroup": "True",
         "hovertemplate": "公司代號=%{x}<br>營業收入(百萬元)=%{y}<extra></extra>",
         "legendgroup": "1603",
         "marker": {
          "color": "#EF553B",
          "pattern": {
           "shape": ""
          }
         },
         "name": "1603",
         "offsetgroup": "1603",
         "orientation": "v",
         "showlegend": true,
         "textposition": "auto",
         "type": "bar",
         "x": [
          "1603"
         ],
         "xaxis": "x",
         "y": [
          1029.4
         ],
         "yaxis": "y"
        },
        {
         "alignmentgroup": "True",
         "hovertemplate": "公司代號=%{x}<br>營業收入(百萬元)=%{y}<extra></extra>",
         "legendgroup": "1604",
         "marker": {
          "color": "#00cc96",
          "pattern": {
           "shape": ""
          }
         },
         "name": "1604",
         "offsetgroup": "1604",
         "orientation": "v",
         "showlegend": true,
         "textposition": "auto",
         "type": "bar",
         "x": [
          "1604"
         ],
         "xaxis": "x",
         "y": [
          2483.51
         ],
         "yaxis": "y"
        },
        {
         "alignmentgroup": "True",
         "hovertemplate": "公司代號=%{x}<br>營業收入(百萬元)=%{y}<extra></extra>",
         "legendgroup": "1605",
         "marker": {
          "color": "#ab63fa",
          "pattern": {
           "shape": ""
          }
         },
         "name": "1605",
         "offsetgroup": "1605",
         "orientation": "v",
         "showlegend": true,
         "textposition": "auto",
         "type": "bar",
         "x": [
          "1605"
         ],
         "xaxis": "x",
         "y": [
          40549.84
         ],
         "yaxis": "y"
        },
        {
         "alignmentgroup": "True",
         "hovertemplate": "公司代號=%{x}<br>營業收入(百萬元)=%{y}<extra></extra>",
         "legendgroup": "1608",
         "marker": {
          "color": "#FFA15A",
          "pattern": {
           "shape": ""
          }
         },
         "name": "1608",
         "offsetgroup": "1608",
         "orientation": "v",
         "showlegend": true,
         "textposition": "auto",
         "type": "bar",
         "x": [
          "1608"
         ],
         "xaxis": "x",
         "y": [
          2621.32
         ],
         "yaxis": "y"
        },
        {
         "alignmentgroup": "True",
         "hovertemplate": "公司代號=%{x}<br>營業收入(百萬元)=%{y}<extra></extra>",
         "legendgroup": "1609",
         "marker": {
          "color": "#19d3f3",
          "pattern": {
           "shape": ""
          }
         },
         "name": "1609",
         "offsetgroup": "1609",
         "orientation": "v",
         "showlegend": true,
         "textposition": "auto",
         "type": "bar",
         "x": [
          "1609"
         ],
         "xaxis": "x",
         "y": [
          6698.62
         ],
         "yaxis": "y"
        },
        {
         "alignmentgroup": "True",
         "hovertemplate": "公司代號=%{x}<br>營業收入(百萬元)=%{y}<extra></extra>",
         "legendgroup": "1611",
         "marker": {
          "color": "#FF6692",
          "pattern": {
           "shape": ""
          }
         },
         "name": "1611",
         "offsetgroup": "1611",
         "orientation": "v",
         "showlegend": true,
         "textposition": "auto",
         "type": "bar",
         "x": [
          "1611"
         ],
         "xaxis": "x",
         "y": [
          283.9
         ],
         "yaxis": "y"
        },
        {
         "alignmentgroup": "True",
         "hovertemplate": "公司代號=%{x}<br>營業收入(百萬元)=%{y}<extra></extra>",
         "legendgroup": "1612",
         "marker": {
          "color": "#B6E880",
          "pattern": {
           "shape": ""
          }
         },
         "name": "1612",
         "offsetgroup": "1612",
         "orientation": "v",
         "showlegend": true,
         "textposition": "auto",
         "type": "bar",
         "x": [
          "1612"
         ],
         "xaxis": "x",
         "y": [
          1457.67
         ],
         "yaxis": "y"
        },
        {
         "alignmentgroup": "True",
         "hovertemplate": "公司代號=%{x}<br>營業收入(百萬元)=%{y}<extra></extra>",
         "legendgroup": "1614",
         "marker": {
          "color": "#FF97FF",
          "pattern": {
           "shape": ""
          }
         },
         "name": "1614",
         "offsetgroup": "1614",
         "orientation": "v",
         "showlegend": true,
         "textposition": "auto",
         "type": "bar",
         "x": [
          "1614"
         ],
         "xaxis": "x",
         "y": [
          1256.6
         ],
         "yaxis": "y"
        },
        {
         "alignmentgroup": "True",
         "hovertemplate": "公司代號=%{x}<br>營業收入(百萬元)=%{y}<extra></extra>",
         "legendgroup": "1615",
         "marker": {
          "color": "#FECB52",
          "pattern": {
           "shape": ""
          }
         },
         "name": "1615",
         "offsetgroup": "1615",
         "orientation": "v",
         "showlegend": true,
         "textposition": "auto",
         "type": "bar",
         "x": [
          "1615"
         ],
         "xaxis": "x",
         "y": [
          1302.15
         ],
         "yaxis": "y"
        },
        {
         "alignmentgroup": "True",
         "hovertemplate": "公司代號=%{x}<br>營業收入(百萬元)=%{y}<extra></extra>",
         "legendgroup": "1616",
         "marker": {
          "color": "#636efa",
          "pattern": {
           "shape": ""
          }
         },
         "name": "1616",
         "offsetgroup": "1616",
         "orientation": "v",
         "showlegend": true,
         "textposition": "auto",
         "type": "bar",
         "x": [
          "1616"
         ],
         "xaxis": "x",
         "y": [
          1010.7
         ],
         "yaxis": "y"
        },
        {
         "alignmentgroup": "True",
         "hovertemplate": "公司代號=%{x}<br>營業收入(百萬元)=%{y}<extra></extra>",
         "legendgroup": "1617",
         "marker": {
          "color": "#EF553B",
          "pattern": {
           "shape": ""
          }
         },
         "name": "1617",
         "offsetgroup": "1617",
         "orientation": "v",
         "showlegend": true,
         "textposition": "auto",
         "type": "bar",
         "x": [
          "1617"
         ],
         "xaxis": "x",
         "y": [
          687.57
         ],
         "yaxis": "y"
        },
        {
         "alignmentgroup": "True",
         "hovertemplate": "公司代號=%{x}<br>營業收入(百萬元)=%{y}<extra></extra>",
         "legendgroup": "1618",
         "marker": {
          "color": "#00cc96",
          "pattern": {
           "shape": ""
          }
         },
         "name": "1618",
         "offsetgroup": "1618",
         "orientation": "v",
         "showlegend": true,
         "textposition": "auto",
         "type": "bar",
         "x": [
          "1618"
         ],
         "xaxis": "x",
         "y": [
          992.48
         ],
         "yaxis": "y"
        },
        {
         "alignmentgroup": "True",
         "hovertemplate": "公司代號=%{x}<br>營業收入(百萬元)=%{y}<extra></extra>",
         "legendgroup": "1626",
         "marker": {
          "color": "#ab63fa",
          "pattern": {
           "shape": ""
          }
         },
         "name": "1626",
         "offsetgroup": "1626",
         "orientation": "v",
         "showlegend": true,
         "textposition": "auto",
         "type": "bar",
         "x": [
          "1626"
         ],
         "xaxis": "x",
         "y": [
          1736.64
         ],
         "yaxis": "y"
        },
        {
         "alignmentgroup": "True",
         "hovertemplate": "公司代號=%{x}<br>營業收入(百萬元)=%{y}<extra></extra>",
         "legendgroup": "1701",
         "marker": {
          "color": "#FFA15A",
          "pattern": {
           "shape": ""
          }
         },
         "name": "1701",
         "offsetgroup": "1701",
         "orientation": "v",
         "showlegend": true,
         "textposition": "auto",
         "type": "bar",
         "x": [
          "1701"
         ],
         "xaxis": "x",
         "y": [
          2284.03
         ],
         "yaxis": "y"
        },
        {
         "alignmentgroup": "True",
         "hovertemplate": "公司代號=%{x}<br>營業收入(百萬元)=%{y}<extra></extra>",
         "legendgroup": "1702",
         "marker": {
          "color": "#19d3f3",
          "pattern": {
           "shape": ""
          }
         },
         "name": "1702",
         "offsetgroup": "1702",
         "orientation": "v",
         "showlegend": true,
         "textposition": "auto",
         "type": "bar",
         "x": [
          "1702"
         ],
         "xaxis": "x",
         "y": [
          5586.07
         ],
         "yaxis": "y"
        },
        {
         "alignmentgroup": "True",
         "hovertemplate": "公司代號=%{x}<br>營業收入(百萬元)=%{y}<extra></extra>",
         "legendgroup": "1707",
         "marker": {
          "color": "#FF6692",
          "pattern": {
           "shape": ""
          }
         },
         "name": "1707",
         "offsetgroup": "1707",
         "orientation": "v",
         "showlegend": true,
         "textposition": "auto",
         "type": "bar",
         "x": [
          "1707"
         ],
         "xaxis": "x",
         "y": [
          2347.52
         ],
         "yaxis": "y"
        },
        {
         "alignmentgroup": "True",
         "hovertemplate": "公司代號=%{x}<br>營業收入(百萬元)=%{y}<extra></extra>",
         "legendgroup": "1708",
         "marker": {
          "color": "#B6E880",
          "pattern": {
           "shape": ""
          }
         },
         "name": "1708",
         "offsetgroup": "1708",
         "orientation": "v",
         "showlegend": true,
         "textposition": "auto",
         "type": "bar",
         "x": [
          "1708"
         ],
         "xaxis": "x",
         "y": [
          1439.2
         ],
         "yaxis": "y"
        },
        {
         "alignmentgroup": "True",
         "hovertemplate": "公司代號=%{x}<br>營業收入(百萬元)=%{y}<extra></extra>",
         "legendgroup": "1709",
         "marker": {
          "color": "#FF97FF",
          "pattern": {
           "shape": ""
          }
         },
         "name": "1709",
         "offsetgroup": "1709",
         "orientation": "v",
         "showlegend": true,
         "textposition": "auto",
         "type": "bar",
         "x": [
          "1709"
         ],
         "xaxis": "x",
         "y": [
          2545.59
         ],
         "yaxis": "y"
        },
        {
         "alignmentgroup": "True",
         "hovertemplate": "公司代號=%{x}<br>營業收入(百萬元)=%{y}<extra></extra>",
         "legendgroup": "1710",
         "marker": {
          "color": "#FECB52",
          "pattern": {
           "shape": ""
          }
         },
         "name": "1710",
         "offsetgroup": "1710",
         "orientation": "v",
         "showlegend": true,
         "textposition": "auto",
         "type": "bar",
         "x": [
          "1710"
         ],
         "xaxis": "x",
         "y": [
          5155.04
         ],
         "yaxis": "y"
        },
        {
         "alignmentgroup": "True",
         "hovertemplate": "公司代號=%{x}<br>營業收入(百萬元)=%{y}<extra></extra>",
         "legendgroup": "1711",
         "marker": {
          "color": "#636efa",
          "pattern": {
           "shape": ""
          }
         },
         "name": "1711",
         "offsetgroup": "1711",
         "orientation": "v",
         "showlegend": true,
         "textposition": "auto",
         "type": "bar",
         "x": [
          "1711"
         ],
         "xaxis": "x",
         "y": [
          1899.6
         ],
         "yaxis": "y"
        },
        {
         "alignmentgroup": "True",
         "hovertemplate": "公司代號=%{x}<br>營業收入(百萬元)=%{y}<extra></extra>",
         "legendgroup": "1712",
         "marker": {
          "color": "#EF553B",
          "pattern": {
           "shape": ""
          }
         },
         "name": "1712",
         "offsetgroup": "1712",
         "orientation": "v",
         "showlegend": true,
         "textposition": "auto",
         "type": "bar",
         "x": [
          "1712"
         ],
         "xaxis": "x",
         "y": [
          5009.61
         ],
         "yaxis": "y"
        },
        {
         "alignmentgroup": "True",
         "hovertemplate": "公司代號=%{x}<br>營業收入(百萬元)=%{y}<extra></extra>",
         "legendgroup": "1713",
         "marker": {
          "color": "#00cc96",
          "pattern": {
           "shape": ""
          }
         },
         "name": "1713",
         "offsetgroup": "1713",
         "orientation": "v",
         "showlegend": true,
         "textposition": "auto",
         "type": "bar",
         "x": [
          "1713"
         ],
         "xaxis": "x",
         "y": [
          116.59
         ],
         "yaxis": "y"
        },
        {
         "alignmentgroup": "True",
         "hovertemplate": "公司代號=%{x}<br>營業收入(百萬元)=%{y}<extra></extra>",
         "legendgroup": "1714",
         "marker": {
          "color": "#ab63fa",
          "pattern": {
           "shape": ""
          }
         },
         "name": "1714",
         "offsetgroup": "1714",
         "orientation": "v",
         "showlegend": true,
         "textposition": "auto",
         "type": "bar",
         "x": [
          "1714"
         ],
         "xaxis": "x",
         "y": [
          4622.9
         ],
         "yaxis": "y"
        },
        {
         "alignmentgroup": "True",
         "hovertemplate": "公司代號=%{x}<br>營業收入(百萬元)=%{y}<extra></extra>",
         "legendgroup": "1717",
         "marker": {
          "color": "#FFA15A",
          "pattern": {
           "shape": ""
          }
         },
         "name": "1717",
         "offsetgroup": "1717",
         "orientation": "v",
         "showlegend": true,
         "textposition": "auto",
         "type": "bar",
         "x": [
          "1717"
         ],
         "xaxis": "x",
         "y": [
          10020.55
         ],
         "yaxis": "y"
        },
        {
         "alignmentgroup": "True",
         "hovertemplate": "公司代號=%{x}<br>營業收入(百萬元)=%{y}<extra></extra>",
         "legendgroup": "1720",
         "marker": {
          "color": "#19d3f3",
          "pattern": {
           "shape": ""
          }
         },
         "name": "1720",
         "offsetgroup": "1720",
         "orientation": "v",
         "showlegend": true,
         "textposition": "auto",
         "type": "bar",
         "x": [
          "1720"
         ],
         "xaxis": "x",
         "y": [
          1613.54
         ],
         "yaxis": "y"
        },
        {
         "alignmentgroup": "True",
         "hovertemplate": "公司代號=%{x}<br>營業收入(百萬元)=%{y}<extra></extra>",
         "legendgroup": "1721",
         "marker": {
          "color": "#FF6692",
          "pattern": {
           "shape": ""
          }
         },
         "name": "1721",
         "offsetgroup": "1721",
         "orientation": "v",
         "showlegend": true,
         "textposition": "auto",
         "type": "bar",
         "x": [
          "1721"
         ],
         "xaxis": "x",
         "y": [
          540.28
         ],
         "yaxis": "y"
        },
        {
         "alignmentgroup": "True",
         "hovertemplate": "公司代號=%{x}<br>營業收入(百萬元)=%{y}<extra></extra>",
         "legendgroup": "1722",
         "marker": {
          "color": "#B6E880",
          "pattern": {
           "shape": ""
          }
         },
         "name": "1722",
         "offsetgroup": "1722",
         "orientation": "v",
         "showlegend": true,
         "textposition": "auto",
         "type": "bar",
         "x": [
          "1722"
         ],
         "xaxis": "x",
         "y": [
          3297.11
         ],
         "yaxis": "y"
        },
        {
         "alignmentgroup": "True",
         "hovertemplate": "公司代號=%{x}<br>營業收入(百萬元)=%{y}<extra></extra>",
         "legendgroup": "1723",
         "marker": {
          "color": "#FF97FF",
          "pattern": {
           "shape": ""
          }
         },
         "name": "1723",
         "offsetgroup": "1723",
         "orientation": "v",
         "showlegend": true,
         "textposition": "auto",
         "type": "bar",
         "x": [
          "1723"
         ],
         "xaxis": "x",
         "y": [
          1729.24
         ],
         "yaxis": "y"
        },
        {
         "alignmentgroup": "True",
         "hovertemplate": "公司代號=%{x}<br>營業收入(百萬元)=%{y}<extra></extra>",
         "legendgroup": "1725",
         "marker": {
          "color": "#FECB52",
          "pattern": {
           "shape": ""
          }
         },
         "name": "1725",
         "offsetgroup": "1725",
         "orientation": "v",
         "showlegend": true,
         "textposition": "auto",
         "type": "bar",
         "x": [
          "1725"
         ],
         "xaxis": "x",
         "y": [
          1917.21
         ],
         "yaxis": "y"
        },
        {
         "alignmentgroup": "True",
         "hovertemplate": "公司代號=%{x}<br>營業收入(百萬元)=%{y}<extra></extra>",
         "legendgroup": "1726",
         "marker": {
          "color": "#636efa",
          "pattern": {
           "shape": ""
          }
         },
         "name": "1726",
         "offsetgroup": "1726",
         "orientation": "v",
         "showlegend": true,
         "textposition": "auto",
         "type": "bar",
         "x": [
          "1726"
         ],
         "xaxis": "x",
         "y": [
          2285.31
         ],
         "yaxis": "y"
        },
        {
         "alignmentgroup": "True",
         "hovertemplate": "公司代號=%{x}<br>營業收入(百萬元)=%{y}<extra></extra>",
         "legendgroup": "1727",
         "marker": {
          "color": "#EF553B",
          "pattern": {
           "shape": ""
          }
         },
         "name": "1727",
         "offsetgroup": "1727",
         "orientation": "v",
         "showlegend": true,
         "textposition": "auto",
         "type": "bar",
         "x": [
          "1727"
         ],
         "xaxis": "x",
         "y": [
          456.31
         ],
         "yaxis": "y"
        },
        {
         "alignmentgroup": "True",
         "hovertemplate": "公司代號=%{x}<br>營業收入(百萬元)=%{y}<extra></extra>",
         "legendgroup": "1730",
         "marker": {
          "color": "#00cc96",
          "pattern": {
           "shape": ""
          }
         },
         "name": "1730",
         "offsetgroup": "1730",
         "orientation": "v",
         "showlegend": true,
         "textposition": "auto",
         "type": "bar",
         "x": [
          "1730"
         ],
         "xaxis": "x",
         "y": [
          665.53
         ],
         "yaxis": "y"
        },
        {
         "alignmentgroup": "True",
         "hovertemplate": "公司代號=%{x}<br>營業收入(百萬元)=%{y}<extra></extra>",
         "legendgroup": "1731",
         "marker": {
          "color": "#ab63fa",
          "pattern": {
           "shape": ""
          }
         },
         "name": "1731",
         "offsetgroup": "1731",
         "orientation": "v",
         "showlegend": true,
         "textposition": "auto",
         "type": "bar",
         "x": [
          "1731"
         ],
         "xaxis": "x",
         "y": [
          407.7
         ],
         "yaxis": "y"
        },
        {
         "alignmentgroup": "True",
         "hovertemplate": "公司代號=%{x}<br>營業收入(百萬元)=%{y}<extra></extra>",
         "legendgroup": "1732",
         "marker": {
          "color": "#FFA15A",
          "pattern": {
           "shape": ""
          }
         },
         "name": "1732",
         "offsetgroup": "1732",
         "orientation": "v",
         "showlegend": true,
         "textposition": "auto",
         "type": "bar",
         "x": [
          "1732"
         ],
         "xaxis": "x",
         "y": [
          149.47
         ],
         "yaxis": "y"
        },
        {
         "alignmentgroup": "True",
         "hovertemplate": "公司代號=%{x}<br>營業收入(百萬元)=%{y}<extra></extra>",
         "legendgroup": "1733",
         "marker": {
          "color": "#19d3f3",
          "pattern": {
           "shape": ""
          }
         },
         "name": "1733",
         "offsetgroup": "1733",
         "orientation": "v",
         "showlegend": true,
         "textposition": "auto",
         "type": "bar",
         "x": [
          "1733"
         ],
         "xaxis": "x",
         "y": [
          450.66
         ],
         "yaxis": "y"
        },
        {
         "alignmentgroup": "True",
         "hovertemplate": "公司代號=%{x}<br>營業收入(百萬元)=%{y}<extra></extra>",
         "legendgroup": "1734",
         "marker": {
          "color": "#FF6692",
          "pattern": {
           "shape": ""
          }
         },
         "name": "1734",
         "offsetgroup": "1734",
         "orientation": "v",
         "showlegend": true,
         "textposition": "auto",
         "type": "bar",
         "x": [
          "1734"
         ],
         "xaxis": "x",
         "y": [
          777.4
         ],
         "yaxis": "y"
        },
        {
         "alignmentgroup": "True",
         "hovertemplate": "公司代號=%{x}<br>營業收入(百萬元)=%{y}<extra></extra>",
         "legendgroup": "1735",
         "marker": {
          "color": "#B6E880",
          "pattern": {
           "shape": ""
          }
         },
         "name": "1735",
         "offsetgroup": "1735",
         "orientation": "v",
         "showlegend": true,
         "textposition": "auto",
         "type": "bar",
         "x": [
          "1735"
         ],
         "xaxis": "x",
         "y": [
          622.53
         ],
         "yaxis": "y"
        },
        {
         "alignmentgroup": "True",
         "hovertemplate": "公司代號=%{x}<br>營業收入(百萬元)=%{y}<extra></extra>",
         "legendgroup": "1736",
         "marker": {
          "color": "#FF97FF",
          "pattern": {
           "shape": ""
          }
         },
         "name": "1736",
         "offsetgroup": "1736",
         "orientation": "v",
         "showlegend": true,
         "textposition": "auto",
         "type": "bar",
         "x": [
          "1736"
         ],
         "xaxis": "x",
         "y": [
          8026.17
         ],
         "yaxis": "y"
        },
        {
         "alignmentgroup": "True",
         "hovertemplate": "公司代號=%{x}<br>營業收入(百萬元)=%{y}<extra></extra>",
         "legendgroup": "1737",
         "marker": {
          "color": "#FECB52",
          "pattern": {
           "shape": ""
          }
         },
         "name": "1737",
         "offsetgroup": "1737",
         "orientation": "v",
         "showlegend": true,
         "textposition": "auto",
         "type": "bar",
         "x": [
          "1737"
         ],
         "xaxis": "x",
         "y": [
          813.3
         ],
         "yaxis": "y"
        },
        {
         "alignmentgroup": "True",
         "hovertemplate": "公司代號=%{x}<br>營業收入(百萬元)=%{y}<extra></extra>",
         "legendgroup": "1752",
         "marker": {
          "color": "#636efa",
          "pattern": {
           "shape": ""
          }
         },
         "name": "1752",
         "offsetgroup": "1752",
         "orientation": "v",
         "showlegend": true,
         "textposition": "auto",
         "type": "bar",
         "x": [
          "1752"
         ],
         "xaxis": "x",
         "y": [
          528.47
         ],
         "yaxis": "y"
        },
        {
         "alignmentgroup": "True",
         "hovertemplate": "公司代號=%{x}<br>營業收入(百萬元)=%{y}<extra></extra>",
         "legendgroup": "1760",
         "marker": {
          "color": "#EF553B",
          "pattern": {
           "shape": ""
          }
         },
         "name": "1760",
         "offsetgroup": "1760",
         "orientation": "v",
         "showlegend": true,
         "textposition": "auto",
         "type": "bar",
         "x": [
          "1760"
         ],
         "xaxis": "x",
         "y": [
          499.49
         ],
         "yaxis": "y"
        },
        {
         "alignmentgroup": "True",
         "hovertemplate": "公司代號=%{x}<br>營業收入(百萬元)=%{y}<extra></extra>",
         "legendgroup": "1762",
         "marker": {
          "color": "#00cc96",
          "pattern": {
           "shape": ""
          }
         },
         "name": "1762",
         "offsetgroup": "1762",
         "orientation": "v",
         "showlegend": true,
         "textposition": "auto",
         "type": "bar",
         "x": [
          "1762"
         ],
         "xaxis": "x",
         "y": [
          251.71
         ],
         "yaxis": "y"
        },
        {
         "alignmentgroup": "True",
         "hovertemplate": "公司代號=%{x}<br>營業收入(百萬元)=%{y}<extra></extra>",
         "legendgroup": "1773",
         "marker": {
          "color": "#ab63fa",
          "pattern": {
           "shape": ""
          }
         },
         "name": "1773",
         "offsetgroup": "1773",
         "orientation": "v",
         "showlegend": true,
         "textposition": "auto",
         "type": "bar",
         "x": [
          "1773"
         ],
         "xaxis": "x",
         "y": [
          2648.98
         ],
         "yaxis": "y"
        },
        {
         "alignmentgroup": "True",
         "hovertemplate": "公司代號=%{x}<br>營業收入(百萬元)=%{y}<extra></extra>",
         "legendgroup": "1776",
         "marker": {
          "color": "#FFA15A",
          "pattern": {
           "shape": ""
          }
         },
         "name": "1776",
         "offsetgroup": "1776",
         "orientation": "v",
         "showlegend": true,
         "textposition": "auto",
         "type": "bar",
         "x": [
          "1776"
         ],
         "xaxis": "x",
         "y": [
          280.8
         ],
         "yaxis": "y"
        },
        {
         "alignmentgroup": "True",
         "hovertemplate": "公司代號=%{x}<br>營業收入(百萬元)=%{y}<extra></extra>",
         "legendgroup": "1783",
         "marker": {
          "color": "#19d3f3",
          "pattern": {
           "shape": ""
          }
         },
         "name": "1783",
         "offsetgroup": "1783",
         "orientation": "v",
         "showlegend": true,
         "textposition": "auto",
         "type": "bar",
         "x": [
          "1783"
         ],
         "xaxis": "x",
         "y": [
          127.06
         ],
         "yaxis": "y"
        },
        {
         "alignmentgroup": "True",
         "hovertemplate": "公司代號=%{x}<br>營業收入(百萬元)=%{y}<extra></extra>",
         "legendgroup": "1786",
         "marker": {
          "color": "#FF6692",
          "pattern": {
           "shape": ""
          }
         },
         "name": "1786",
         "offsetgroup": "1786",
         "orientation": "v",
         "showlegend": true,
         "textposition": "auto",
         "type": "bar",
         "x": [
          "1786"
         ],
         "xaxis": "x",
         "y": [
          195.35
         ],
         "yaxis": "y"
        },
        {
         "alignmentgroup": "True",
         "hovertemplate": "公司代號=%{x}<br>營業收入(百萬元)=%{y}<extra></extra>",
         "legendgroup": "1789",
         "marker": {
          "color": "#B6E880",
          "pattern": {
           "shape": ""
          }
         },
         "name": "1789",
         "offsetgroup": "1789",
         "orientation": "v",
         "showlegend": true,
         "textposition": "auto",
         "type": "bar",
         "x": [
          "1789"
         ],
         "xaxis": "x",
         "y": [
          883.23
         ],
         "yaxis": "y"
        },
        {
         "alignmentgroup": "True",
         "hovertemplate": "公司代號=%{x}<br>營業收入(百萬元)=%{y}<extra></extra>",
         "legendgroup": "1795",
         "marker": {
          "color": "#FF97FF",
          "pattern": {
           "shape": ""
          }
         },
         "name": "1795",
         "offsetgroup": "1795",
         "orientation": "v",
         "showlegend": true,
         "textposition": "auto",
         "type": "bar",
         "x": [
          "1795"
         ],
         "xaxis": "x",
         "y": [
          4198.14
         ],
         "yaxis": "y"
        },
        {
         "alignmentgroup": "True",
         "hovertemplate": "公司代號=%{x}<br>營業收入(百萬元)=%{y}<extra></extra>",
         "legendgroup": "1802",
         "marker": {
          "color": "#FECB52",
          "pattern": {
           "shape": ""
          }
         },
         "name": "1802",
         "offsetgroup": "1802",
         "orientation": "v",
         "showlegend": true,
         "textposition": "auto",
         "type": "bar",
         "x": [
          "1802"
         ],
         "xaxis": "x",
         "y": [
          9865.81
         ],
         "yaxis": "y"
        },
        {
         "alignmentgroup": "True",
         "hovertemplate": "公司代號=%{x}<br>營業收入(百萬元)=%{y}<extra></extra>",
         "legendgroup": "1805",
         "marker": {
          "color": "#636efa",
          "pattern": {
           "shape": ""
          }
         },
         "name": "1805",
         "offsetgroup": "1805",
         "orientation": "v",
         "showlegend": true,
         "textposition": "auto",
         "type": "bar",
         "x": [
          "1805"
         ],
         "xaxis": "x",
         "y": [
          1.59
         ],
         "yaxis": "y"
        },
        {
         "alignmentgroup": "True",
         "hovertemplate": "公司代號=%{x}<br>營業收入(百萬元)=%{y}<extra></extra>",
         "legendgroup": "1806",
         "marker": {
          "color": "#EF553B",
          "pattern": {
           "shape": ""
          }
         },
         "name": "1806",
         "offsetgroup": "1806",
         "orientation": "v",
         "showlegend": true,
         "textposition": "auto",
         "type": "bar",
         "x": [
          "1806"
         ],
         "xaxis": "x",
         "y": [
          854.53
         ],
         "yaxis": "y"
        },
        {
         "alignmentgroup": "True",
         "hovertemplate": "公司代號=%{x}<br>營業收入(百萬元)=%{y}<extra></extra>",
         "legendgroup": "1808",
         "marker": {
          "color": "#00cc96",
          "pattern": {
           "shape": ""
          }
         },
         "name": "1808",
         "offsetgroup": "1808",
         "orientation": "v",
         "showlegend": true,
         "textposition": "auto",
         "type": "bar",
         "x": [
          "1808"
         ],
         "xaxis": "x",
         "y": [
          1348.12
         ],
         "yaxis": "y"
        },
        {
         "alignmentgroup": "True",
         "hovertemplate": "公司代號=%{x}<br>營業收入(百萬元)=%{y}<extra></extra>",
         "legendgroup": "1809",
         "marker": {
          "color": "#ab63fa",
          "pattern": {
           "shape": ""
          }
         },
         "name": "1809",
         "offsetgroup": "1809",
         "orientation": "v",
         "showlegend": true,
         "textposition": "auto",
         "type": "bar",
         "x": [
          "1809"
         ],
         "xaxis": "x",
         "y": [
          591.12
         ],
         "yaxis": "y"
        },
        {
         "alignmentgroup": "True",
         "hovertemplate": "公司代號=%{x}<br>營業收入(百萬元)=%{y}<extra></extra>",
         "legendgroup": "1810",
         "marker": {
          "color": "#FFA15A",
          "pattern": {
           "shape": ""
          }
         },
         "name": "1810",
         "offsetgroup": "1810",
         "orientation": "v",
         "showlegend": true,
         "textposition": "auto",
         "type": "bar",
         "x": [
          "1810"
         ],
         "xaxis": "x",
         "y": [
          1133.53
         ],
         "yaxis": "y"
        },
        {
         "alignmentgroup": "True",
         "hovertemplate": "公司代號=%{x}<br>營業收入(百萬元)=%{y}<extra></extra>",
         "legendgroup": "1817",
         "marker": {
          "color": "#19d3f3",
          "pattern": {
           "shape": ""
          }
         },
         "name": "1817",
         "offsetgroup": "1817",
         "orientation": "v",
         "showlegend": true,
         "textposition": "auto",
         "type": "bar",
         "x": [
          "1817"
         ],
         "xaxis": "x",
         "y": [
          575.64
         ],
         "yaxis": "y"
        },
        {
         "alignmentgroup": "True",
         "hovertemplate": "公司代號=%{x}<br>營業收入(百萬元)=%{y}<extra></extra>",
         "legendgroup": "1903",
         "marker": {
          "color": "#FF6692",
          "pattern": {
           "shape": ""
          }
         },
         "name": "1903",
         "offsetgroup": "1903",
         "orientation": "v",
         "showlegend": true,
         "textposition": "auto",
         "type": "bar",
         "x": [
          "1903"
         ],
         "xaxis": "x",
         "y": [
          41.61
         ],
         "yaxis": "y"
        },
        {
         "alignmentgroup": "True",
         "hovertemplate": "公司代號=%{x}<br>營業收入(百萬元)=%{y}<extra></extra>",
         "legendgroup": "1904",
         "marker": {
          "color": "#B6E880",
          "pattern": {
           "shape": ""
          }
         },
         "name": "1904",
         "offsetgroup": "1904",
         "orientation": "v",
         "showlegend": true,
         "textposition": "auto",
         "type": "bar",
         "x": [
          "1904"
         ],
         "xaxis": "x",
         "y": [
          10099.42
         ],
         "yaxis": "y"
        },
        {
         "alignmentgroup": "True",
         "hovertemplate": "公司代號=%{x}<br>營業收入(百萬元)=%{y}<extra></extra>",
         "legendgroup": "1905",
         "marker": {
          "color": "#FF97FF",
          "pattern": {
           "shape": ""
          }
         },
         "name": "1905",
         "offsetgroup": "1905",
         "orientation": "v",
         "showlegend": true,
         "textposition": "auto",
         "type": "bar",
         "x": [
          "1905"
         ],
         "xaxis": "x",
         "y": [
          5282.8
         ],
         "yaxis": "y"
        },
        {
         "alignmentgroup": "True",
         "hovertemplate": "公司代號=%{x}<br>營業收入(百萬元)=%{y}<extra></extra>",
         "legendgroup": "1906",
         "marker": {
          "color": "#FECB52",
          "pattern": {
           "shape": ""
          }
         },
         "name": "1906",
         "offsetgroup": "1906",
         "orientation": "v",
         "showlegend": true,
         "textposition": "auto",
         "type": "bar",
         "x": [
          "1906"
         ],
         "xaxis": "x",
         "y": [
          935.8
         ],
         "yaxis": "y"
        },
        {
         "alignmentgroup": "True",
         "hovertemplate": "公司代號=%{x}<br>營業收入(百萬元)=%{y}<extra></extra>",
         "legendgroup": "1907",
         "marker": {
          "color": "#636efa",
          "pattern": {
           "shape": ""
          }
         },
         "name": "1907",
         "offsetgroup": "1907",
         "orientation": "v",
         "showlegend": true,
         "textposition": "auto",
         "type": "bar",
         "x": [
          "1907"
         ],
         "xaxis": "x",
         "y": [
          17922.15
         ],
         "yaxis": "y"
        },
        {
         "alignmentgroup": "True",
         "hovertemplate": "公司代號=%{x}<br>營業收入(百萬元)=%{y}<extra></extra>",
         "legendgroup": "1909",
         "marker": {
          "color": "#EF553B",
          "pattern": {
           "shape": ""
          }
         },
         "name": "1909",
         "offsetgroup": "1909",
         "orientation": "v",
         "showlegend": true,
         "textposition": "auto",
         "type": "bar",
         "x": [
          "1909"
         ],
         "xaxis": "x",
         "y": [
          10735.97
         ],
         "yaxis": "y"
        },
        {
         "alignmentgroup": "True",
         "hovertemplate": "公司代號=%{x}<br>營業收入(百萬元)=%{y}<extra></extra>",
         "legendgroup": "2002",
         "marker": {
          "color": "#00cc96",
          "pattern": {
           "shape": ""
          }
         },
         "name": "2002",
         "offsetgroup": "2002",
         "orientation": "v",
         "showlegend": true,
         "textposition": "auto",
         "type": "bar",
         "x": [
          "2002"
         ],
         "xaxis": "x",
         "y": [
          93753.92
         ],
         "yaxis": "y"
        },
        {
         "alignmentgroup": "True",
         "hovertemplate": "公司代號=%{x}<br>營業收入(百萬元)=%{y}<extra></extra>",
         "legendgroup": "2006",
         "marker": {
          "color": "#ab63fa",
          "pattern": {
           "shape": ""
          }
         },
         "name": "2006",
         "offsetgroup": "2006",
         "orientation": "v",
         "showlegend": true,
         "textposition": "auto",
         "type": "bar",
         "x": [
          "2006"
         ],
         "xaxis": "x",
         "y": [
          14846.31
         ],
         "yaxis": "y"
        },
        {
         "alignmentgroup": "True",
         "hovertemplate": "公司代號=%{x}<br>營業收入(百萬元)=%{y}<extra></extra>",
         "legendgroup": "2007",
         "marker": {
          "color": "#FFA15A",
          "pattern": {
           "shape": ""
          }
         },
         "name": "2007",
         "offsetgroup": "2007",
         "orientation": "v",
         "showlegend": true,
         "textposition": "auto",
         "type": "bar",
         "x": [
          "2007"
         ],
         "xaxis": "x",
         "y": [
          1423
         ],
         "yaxis": "y"
        },
        {
         "alignmentgroup": "True",
         "hovertemplate": "公司代號=%{x}<br>營業收入(百萬元)=%{y}<extra></extra>",
         "legendgroup": "2008",
         "marker": {
          "color": "#19d3f3",
          "pattern": {
           "shape": ""
          }
         },
         "name": "2008",
         "offsetgroup": "2008",
         "orientation": "v",
         "showlegend": true,
         "textposition": "auto",
         "type": "bar",
         "x": [
          "2008"
         ],
         "xaxis": "x",
         "y": [
          353.06
         ],
         "yaxis": "y"
        },
        {
         "alignmentgroup": "True",
         "hovertemplate": "公司代號=%{x}<br>營業收入(百萬元)=%{y}<extra></extra>",
         "legendgroup": "2009",
         "marker": {
          "color": "#FF6692",
          "pattern": {
           "shape": ""
          }
         },
         "name": "2009",
         "offsetgroup": "2009",
         "orientation": "v",
         "showlegend": true,
         "textposition": "auto",
         "type": "bar",
         "x": [
          "2009"
         ],
         "xaxis": "x",
         "y": [
          651.21
         ],
         "yaxis": "y"
        },
        {
         "alignmentgroup": "True",
         "hovertemplate": "公司代號=%{x}<br>營業收入(百萬元)=%{y}<extra></extra>",
         "legendgroup": "2010",
         "marker": {
          "color": "#B6E880",
          "pattern": {
           "shape": ""
          }
         },
         "name": "2010",
         "offsetgroup": "2010",
         "orientation": "v",
         "showlegend": true,
         "textposition": "auto",
         "type": "bar",
         "x": [
          "2010"
         ],
         "xaxis": "x",
         "y": [
          5231.5
         ],
         "yaxis": "y"
        },
        {
         "alignmentgroup": "True",
         "hovertemplate": "公司代號=%{x}<br>營業收入(百萬元)=%{y}<extra></extra>",
         "legendgroup": "2012",
         "marker": {
          "color": "#FF97FF",
          "pattern": {
           "shape": ""
          }
         },
         "name": "2012",
         "offsetgroup": "2012",
         "orientation": "v",
         "showlegend": true,
         "textposition": "auto",
         "type": "bar",
         "x": [
          "2012"
         ],
         "xaxis": "x",
         "y": [
          2018.25
         ],
         "yaxis": "y"
        },
        {
         "alignmentgroup": "True",
         "hovertemplate": "公司代號=%{x}<br>營業收入(百萬元)=%{y}<extra></extra>",
         "legendgroup": "2013",
         "marker": {
          "color": "#FECB52",
          "pattern": {
           "shape": ""
          }
         },
         "name": "2013",
         "offsetgroup": "2013",
         "orientation": "v",
         "showlegend": true,
         "textposition": "auto",
         "type": "bar",
         "x": [
          "2013"
         ],
         "xaxis": "x",
         "y": [
          4644.63
         ],
         "yaxis": "y"
        },
        {
         "alignmentgroup": "True",
         "hovertemplate": "公司代號=%{x}<br>營業收入(百萬元)=%{y}<extra></extra>",
         "legendgroup": "2014",
         "marker": {
          "color": "#636efa",
          "pattern": {
           "shape": ""
          }
         },
         "name": "2014",
         "offsetgroup": "2014",
         "orientation": "v",
         "showlegend": true,
         "textposition": "auto",
         "type": "bar",
         "x": [
          "2014"
         ],
         "xaxis": "x",
         "y": [
          9148.18
         ],
         "yaxis": "y"
        },
        {
         "alignmentgroup": "True",
         "hovertemplate": "公司代號=%{x}<br>營業收入(百萬元)=%{y}<extra></extra>",
         "legendgroup": "2015",
         "marker": {
          "color": "#EF553B",
          "pattern": {
           "shape": ""
          }
         },
         "name": "2015",
         "offsetgroup": "2015",
         "orientation": "v",
         "showlegend": true,
         "textposition": "auto",
         "type": "bar",
         "x": [
          "2015"
         ],
         "xaxis": "x",
         "y": [
          8496.91
         ],
         "yaxis": "y"
        },
        {
         "alignmentgroup": "True",
         "hovertemplate": "公司代號=%{x}<br>營業收入(百萬元)=%{y}<extra></extra>",
         "legendgroup": "2017",
         "marker": {
          "color": "#00cc96",
          "pattern": {
           "shape": ""
          }
         },
         "name": "2017",
         "offsetgroup": "2017",
         "orientation": "v",
         "showlegend": true,
         "textposition": "auto",
         "type": "bar",
         "x": [
          "2017"
         ],
         "xaxis": "x",
         "y": [
          726.7
         ],
         "yaxis": "y"
        },
        {
         "alignmentgroup": "True",
         "hovertemplate": "公司代號=%{x}<br>營業收入(百萬元)=%{y}<extra></extra>",
         "legendgroup": "2020",
         "marker": {
          "color": "#ab63fa",
          "pattern": {
           "shape": ""
          }
         },
         "name": "2020",
         "offsetgroup": "2020",
         "orientation": "v",
         "showlegend": true,
         "textposition": "auto",
         "type": "bar",
         "x": [
          "2020"
         ],
         "xaxis": "x",
         "y": [
          1421.4
         ],
         "yaxis": "y"
        },
        {
         "alignmentgroup": "True",
         "hovertemplate": "公司代號=%{x}<br>營業收入(百萬元)=%{y}<extra></extra>",
         "legendgroup": "2022",
         "marker": {
          "color": "#FFA15A",
          "pattern": {
           "shape": ""
          }
         },
         "name": "2022",
         "offsetgroup": "2022",
         "orientation": "v",
         "showlegend": true,
         "textposition": "auto",
         "type": "bar",
         "x": [
          "2022"
         ],
         "xaxis": "x",
         "y": [
          2017.56
         ],
         "yaxis": "y"
        },
        {
         "alignmentgroup": "True",
         "hovertemplate": "公司代號=%{x}<br>營業收入(百萬元)=%{y}<extra></extra>",
         "legendgroup": "2023",
         "marker": {
          "color": "#19d3f3",
          "pattern": {
           "shape": ""
          }
         },
         "name": "2023",
         "offsetgroup": "2023",
         "orientation": "v",
         "showlegend": true,
         "textposition": "auto",
         "type": "bar",
         "x": [
          "2023"
         ],
         "xaxis": "x",
         "y": [
          19540.61
         ],
         "yaxis": "y"
        },
        {
         "alignmentgroup": "True",
         "hovertemplate": "公司代號=%{x}<br>營業收入(百萬元)=%{y}<extra></extra>",
         "legendgroup": "2024",
         "marker": {
          "color": "#FF6692",
          "pattern": {
           "shape": ""
          }
         },
         "name": "2024",
         "offsetgroup": "2024",
         "orientation": "v",
         "showlegend": true,
         "textposition": "auto",
         "type": "bar",
         "x": [
          "2024"
         ],
         "xaxis": "x",
         "y": [
          244.06
         ],
         "yaxis": "y"
        },
        {
         "alignmentgroup": "True",
         "hovertemplate": "公司代號=%{x}<br>營業收入(百萬元)=%{y}<extra></extra>",
         "legendgroup": "2025",
         "marker": {
          "color": "#B6E880",
          "pattern": {
           "shape": ""
          }
         },
         "name": "2025",
         "offsetgroup": "2025",
         "orientation": "v",
         "showlegend": true,
         "textposition": "auto",
         "type": "bar",
         "x": [
          "2025"
         ],
         "xaxis": "x",
         "y": [
          294.9
         ],
         "yaxis": "y"
        },
        {
         "alignmentgroup": "True",
         "hovertemplate": "公司代號=%{x}<br>營業收入(百萬元)=%{y}<extra></extra>",
         "legendgroup": "2027",
         "marker": {
          "color": "#FF97FF",
          "pattern": {
           "shape": ""
          }
         },
         "name": "2027",
         "offsetgroup": "2027",
         "orientation": "v",
         "showlegend": true,
         "textposition": "auto",
         "type": "bar",
         "x": [
          "2027"
         ],
         "xaxis": "x",
         "y": [
          23224.8
         ],
         "yaxis": "y"
        },
        {
         "alignmentgroup": "True",
         "hovertemplate": "公司代號=%{x}<br>營業收入(百萬元)=%{y}<extra></extra>",
         "legendgroup": "2028",
         "marker": {
          "color": "#FECB52",
          "pattern": {
           "shape": ""
          }
         },
         "name": "2028",
         "offsetgroup": "2028",
         "orientation": "v",
         "showlegend": true,
         "textposition": "auto",
         "type": "bar",
         "x": [
          "2028"
         ],
         "xaxis": "x",
         "y": [
          2874.08
         ],
         "yaxis": "y"
        },
        {
         "alignmentgroup": "True",
         "hovertemplate": "公司代號=%{x}<br>營業收入(百萬元)=%{y}<extra></extra>",
         "legendgroup": "2029",
         "marker": {
          "color": "#636efa",
          "pattern": {
           "shape": ""
          }
         },
         "name": "2029",
         "offsetgroup": "2029",
         "orientation": "v",
         "showlegend": true,
         "textposition": "auto",
         "type": "bar",
         "x": [
          "2029"
         ],
         "xaxis": "x",
         "y": [
          3302.74
         ],
         "yaxis": "y"
        },
        {
         "alignmentgroup": "True",
         "hovertemplate": "公司代號=%{x}<br>營業收入(百萬元)=%{y}<extra></extra>",
         "legendgroup": "2030",
         "marker": {
          "color": "#EF553B",
          "pattern": {
           "shape": ""
          }
         },
         "name": "2030",
         "offsetgroup": "2030",
         "orientation": "v",
         "showlegend": true,
         "textposition": "auto",
         "type": "bar",
         "x": [
          "2030"
         ],
         "xaxis": "x",
         "y": [
          2872.74
         ],
         "yaxis": "y"
        },
        {
         "alignmentgroup": "True",
         "hovertemplate": "公司代號=%{x}<br>營業收入(百萬元)=%{y}<extra></extra>",
         "legendgroup": "2031",
         "marker": {
          "color": "#00cc96",
          "pattern": {
           "shape": ""
          }
         },
         "name": "2031",
         "offsetgroup": "2031",
         "orientation": "v",
         "showlegend": true,
         "textposition": "auto",
         "type": "bar",
         "x": [
          "2031"
         ],
         "xaxis": "x",
         "y": [
          3466.17
         ],
         "yaxis": "y"
        },
        {
         "alignmentgroup": "True",
         "hovertemplate": "公司代號=%{x}<br>營業收入(百萬元)=%{y}<extra></extra>",
         "legendgroup": "2032",
         "marker": {
          "color": "#ab63fa",
          "pattern": {
           "shape": ""
          }
         },
         "name": "2032",
         "offsetgroup": "2032",
         "orientation": "v",
         "showlegend": true,
         "textposition": "auto",
         "type": "bar",
         "x": [
          "2032"
         ],
         "xaxis": "x",
         "y": [
          666.89
         ],
         "yaxis": "y"
        },
        {
         "alignmentgroup": "True",
         "hovertemplate": "公司代號=%{x}<br>營業收入(百萬元)=%{y}<extra></extra>",
         "legendgroup": "2033",
         "marker": {
          "color": "#FFA15A",
          "pattern": {
           "shape": ""
          }
         },
         "name": "2033",
         "offsetgroup": "2033",
         "orientation": "v",
         "showlegend": true,
         "textposition": "auto",
         "type": "bar",
         "x": [
          "2033"
         ],
         "xaxis": "x",
         "y": [
          135.73
         ],
         "yaxis": "y"
        },
        {
         "alignmentgroup": "True",
         "hovertemplate": "公司代號=%{x}<br>營業收入(百萬元)=%{y}<extra></extra>",
         "legendgroup": "2034",
         "marker": {
          "color": "#19d3f3",
          "pattern": {
           "shape": ""
          }
         },
         "name": "2034",
         "offsetgroup": "2034",
         "orientation": "v",
         "showlegend": true,
         "textposition": "auto",
         "type": "bar",
         "x": [
          "2034"
         ],
         "xaxis": "x",
         "y": [
          3099.02
         ],
         "yaxis": "y"
        },
        {
         "alignmentgroup": "True",
         "hovertemplate": "公司代號=%{x}<br>營業收入(百萬元)=%{y}<extra></extra>",
         "legendgroup": "2038",
         "marker": {
          "color": "#FF6692",
          "pattern": {
           "shape": ""
          }
         },
         "name": "2038",
         "offsetgroup": "2038",
         "orientation": "v",
         "showlegend": true,
         "textposition": "auto",
         "type": "bar",
         "x": [
          "2038"
         ],
         "xaxis": "x",
         "y": [
          2279.76
         ],
         "yaxis": "y"
        },
        {
         "alignmentgroup": "True",
         "hovertemplate": "公司代號=%{x}<br>營業收入(百萬元)=%{y}<extra></extra>",
         "legendgroup": "2049",
         "marker": {
          "color": "#B6E880",
          "pattern": {
           "shape": ""
          }
         },
         "name": "2049",
         "offsetgroup": "2049",
         "orientation": "v",
         "showlegend": true,
         "textposition": "auto",
         "type": "bar",
         "x": [
          "2049"
         ],
         "xaxis": "x",
         "y": [
          5506.47
         ],
         "yaxis": "y"
        },
        {
         "alignmentgroup": "True",
         "hovertemplate": "公司代號=%{x}<br>營業收入(百萬元)=%{y}<extra></extra>",
         "legendgroup": "2059",
         "marker": {
          "color": "#FF97FF",
          "pattern": {
           "shape": ""
          }
         },
         "name": "2059",
         "offsetgroup": "2059",
         "orientation": "v",
         "showlegend": true,
         "textposition": "auto",
         "type": "bar",
         "x": [
          "2059"
         ],
         "xaxis": "x",
         "y": [
          1937.81
         ],
         "yaxis": "y"
        },
        {
         "alignmentgroup": "True",
         "hovertemplate": "公司代號=%{x}<br>營業收入(百萬元)=%{y}<extra></extra>",
         "legendgroup": "2062",
         "marker": {
          "color": "#FECB52",
          "pattern": {
           "shape": ""
          }
         },
         "name": "2062",
         "offsetgroup": "2062",
         "orientation": "v",
         "showlegend": true,
         "textposition": "auto",
         "type": "bar",
         "x": [
          "2062"
         ],
         "xaxis": "x",
         "y": [
          1988.4
         ],
         "yaxis": "y"
        },
        {
         "alignmentgroup": "True",
         "hovertemplate": "公司代號=%{x}<br>營業收入(百萬元)=%{y}<extra></extra>",
         "legendgroup": "2069",
         "marker": {
          "color": "#636efa",
          "pattern": {
           "shape": ""
          }
         },
         "name": "2069",
         "offsetgroup": "2069",
         "orientation": "v",
         "showlegend": true,
         "textposition": "auto",
         "type": "bar",
         "x": [
          "2069"
         ],
         "xaxis": "x",
         "y": [
          2471.66
         ],
         "yaxis": "y"
        },
        {
         "alignmentgroup": "True",
         "hovertemplate": "公司代號=%{x}<br>營業收入(百萬元)=%{y}<extra></extra>",
         "legendgroup": "2101",
         "marker": {
          "color": "#EF553B",
          "pattern": {
           "shape": ""
          }
         },
         "name": "2101",
         "offsetgroup": "2101",
         "orientation": "v",
         "showlegend": true,
         "textposition": "auto",
         "type": "bar",
         "x": [
          "2101"
         ],
         "xaxis": "x",
         "y": [
          1973.57
         ],
         "yaxis": "y"
        },
        {
         "alignmentgroup": "True",
         "hovertemplate": "公司代號=%{x}<br>營業收入(百萬元)=%{y}<extra></extra>",
         "legendgroup": "2102",
         "marker": {
          "color": "#00cc96",
          "pattern": {
           "shape": ""
          }
         },
         "name": "2102",
         "offsetgroup": "2102",
         "orientation": "v",
         "showlegend": true,
         "textposition": "auto",
         "type": "bar",
         "x": [
          "2102"
         ],
         "xaxis": "x",
         "y": [
          56.15
         ],
         "yaxis": "y"
        },
        {
         "alignmentgroup": "True",
         "hovertemplate": "公司代號=%{x}<br>營業收入(百萬元)=%{y}<extra></extra>",
         "legendgroup": "2103",
         "marker": {
          "color": "#ab63fa",
          "pattern": {
           "shape": ""
          }
         },
         "name": "2103",
         "offsetgroup": "2103",
         "orientation": "v",
         "showlegend": true,
         "textposition": "auto",
         "type": "bar",
         "x": [
          "2103"
         ],
         "xaxis": "x",
         "y": [
          8745.46
         ],
         "yaxis": "y"
        },
        {
         "alignmentgroup": "True",
         "hovertemplate": "公司代號=%{x}<br>營業收入(百萬元)=%{y}<extra></extra>",
         "legendgroup": "2104",
         "marker": {
          "color": "#FFA15A",
          "pattern": {
           "shape": ""
          }
         },
         "name": "2104",
         "offsetgroup": "2104",
         "orientation": "v",
         "showlegend": true,
         "textposition": "auto",
         "type": "bar",
         "x": [
          "2104"
         ],
         "xaxis": "x",
         "y": [
          4423.25
         ],
         "yaxis": "y"
        },
        {
         "alignmentgroup": "True",
         "hovertemplate": "公司代號=%{x}<br>營業收入(百萬元)=%{y}<extra></extra>",
         "legendgroup": "2105",
         "marker": {
          "color": "#19d3f3",
          "pattern": {
           "shape": ""
          }
         },
         "name": "2105",
         "offsetgroup": "2105",
         "orientation": "v",
         "showlegend": true,
         "textposition": "auto",
         "type": "bar",
         "x": [
          "2105"
         ],
         "xaxis": "x",
         "y": [
          23622.35
         ],
         "yaxis": "y"
        },
        {
         "alignmentgroup": "True",
         "hovertemplate": "公司代號=%{x}<br>營業收入(百萬元)=%{y}<extra></extra>",
         "legendgroup": "2106",
         "marker": {
          "color": "#FF6692",
          "pattern": {
           "shape": ""
          }
         },
         "name": "2106",
         "offsetgroup": "2106",
         "orientation": "v",
         "showlegend": true,
         "textposition": "auto",
         "type": "bar",
         "x": [
          "2106"
         ],
         "xaxis": "x",
         "y": [
          8265.24
         ],
         "yaxis": "y"
        },
        {
         "alignmentgroup": "True",
         "hovertemplate": "公司代號=%{x}<br>營業收入(百萬元)=%{y}<extra></extra>",
         "legendgroup": "2107",
         "marker": {
          "color": "#B6E880",
          "pattern": {
           "shape": ""
          }
         },
         "name": "2107",
         "offsetgroup": "2107",
         "orientation": "v",
         "showlegend": true,
         "textposition": "auto",
         "type": "bar",
         "x": [
          "2107"
         ],
         "xaxis": "x",
         "y": [
          271.36
         ],
         "yaxis": "y"
        },
        {
         "alignmentgroup": "True",
         "hovertemplate": "公司代號=%{x}<br>營業收入(百萬元)=%{y}<extra></extra>",
         "legendgroup": "2108",
         "marker": {
          "color": "#FF97FF",
          "pattern": {
           "shape": ""
          }
         },
         "name": "2108",
         "offsetgroup": "2108",
         "orientation": "v",
         "showlegend": true,
         "textposition": "auto",
         "type": "bar",
         "x": [
          "2108"
         ],
         "xaxis": "x",
         "y": [
          2180.68
         ],
         "yaxis": "y"
        },
        {
         "alignmentgroup": "True",
         "hovertemplate": "公司代號=%{x}<br>營業收入(百萬元)=%{y}<extra></extra>",
         "legendgroup": "2109",
         "marker": {
          "color": "#FECB52",
          "pattern": {
           "shape": ""
          }
         },
         "name": "2109",
         "offsetgroup": "2109",
         "orientation": "v",
         "showlegend": true,
         "textposition": "auto",
         "type": "bar",
         "x": [
          "2109"
         ],
         "xaxis": "x",
         "y": [
          1153.67
         ],
         "yaxis": "y"
        },
        {
         "alignmentgroup": "True",
         "hovertemplate": "公司代號=%{x}<br>營業收入(百萬元)=%{y}<extra></extra>",
         "legendgroup": "2114",
         "marker": {
          "color": "#636efa",
          "pattern": {
           "shape": ""
          }
         },
         "name": "2114",
         "offsetgroup": "2114",
         "orientation": "v",
         "showlegend": true,
         "textposition": "auto",
         "type": "bar",
         "x": [
          "2114"
         ],
         "xaxis": "x",
         "y": [
          336.8
         ],
         "yaxis": "y"
        },
        {
         "alignmentgroup": "True",
         "hovertemplate": "公司代號=%{x}<br>營業收入(百萬元)=%{y}<extra></extra>",
         "legendgroup": "2115",
         "marker": {
          "color": "#EF553B",
          "pattern": {
           "shape": ""
          }
         },
         "name": "2115",
         "offsetgroup": "2115",
         "orientation": "v",
         "showlegend": true,
         "textposition": "auto",
         "type": "bar",
         "x": [
          "2115"
         ],
         "xaxis": "x",
         "y": [
          725.63
         ],
         "yaxis": "y"
        },
        {
         "alignmentgroup": "True",
         "hovertemplate": "公司代號=%{x}<br>營業收入(百萬元)=%{y}<extra></extra>",
         "legendgroup": "2201",
         "marker": {
          "color": "#00cc96",
          "pattern": {
           "shape": ""
          }
         },
         "name": "2201",
         "offsetgroup": "2201",
         "orientation": "v",
         "showlegend": true,
         "textposition": "auto",
         "type": "bar",
         "x": [
          "2201"
         ],
         "xaxis": "x",
         "y": [
          20749.93
         ],
         "yaxis": "y"
        },
        {
         "alignmentgroup": "True",
         "hovertemplate": "公司代號=%{x}<br>營業收入(百萬元)=%{y}<extra></extra>",
         "legendgroup": "2204",
         "marker": {
          "color": "#ab63fa",
          "pattern": {
           "shape": ""
          }
         },
         "name": "2204",
         "offsetgroup": "2204",
         "orientation": "v",
         "showlegend": true,
         "textposition": "auto",
         "type": "bar",
         "x": [
          "2204"
         ],
         "xaxis": "x",
         "y": [
          12255.67
         ],
         "yaxis": "y"
        },
        {
         "alignmentgroup": "True",
         "hovertemplate": "公司代號=%{x}<br>營業收入(百萬元)=%{y}<extra></extra>",
         "legendgroup": "2206",
         "marker": {
          "color": "#FFA15A",
          "pattern": {
           "shape": ""
          }
         },
         "name": "2206",
         "offsetgroup": "2206",
         "orientation": "v",
         "showlegend": true,
         "textposition": "auto",
         "type": "bar",
         "x": [
          "2206"
         ],
         "xaxis": "x",
         "y": [
          16817.2
         ],
         "yaxis": "y"
        },
        {
         "alignmentgroup": "True",
         "hovertemplate": "公司代號=%{x}<br>營業收入(百萬元)=%{y}<extra></extra>",
         "legendgroup": "2208",
         "marker": {
          "color": "#19d3f3",
          "pattern": {
           "shape": ""
          }
         },
         "name": "2208",
         "offsetgroup": "2208",
         "orientation": "v",
         "showlegend": true,
         "textposition": "auto",
         "type": "bar",
         "x": [
          "2208"
         ],
         "xaxis": "x",
         "y": [
          3744.14
         ],
         "yaxis": "y"
        },
        {
         "alignmentgroup": "True",
         "hovertemplate": "公司代號=%{x}<br>營業收入(百萬元)=%{y}<extra></extra>",
         "legendgroup": "2211",
         "marker": {
          "color": "#FF6692",
          "pattern": {
           "shape": ""
          }
         },
         "name": "2211",
         "offsetgroup": "2211",
         "orientation": "v",
         "showlegend": true,
         "textposition": "auto",
         "type": "bar",
         "x": [
          "2211"
         ],
         "xaxis": "x",
         "y": [
          2849.57
         ],
         "yaxis": "y"
        },
        {
         "alignmentgroup": "True",
         "hovertemplate": "公司代號=%{x}<br>營業收入(百萬元)=%{y}<extra></extra>",
         "legendgroup": "2227",
         "marker": {
          "color": "#B6E880",
          "pattern": {
           "shape": ""
          }
         },
         "name": "2227",
         "offsetgroup": "2227",
         "orientation": "v",
         "showlegend": true,
         "textposition": "auto",
         "type": "bar",
         "x": [
          "2227"
         ],
         "xaxis": "x",
         "y": [
          7596.06
         ],
         "yaxis": "y"
        },
        {
         "alignmentgroup": "True",
         "hovertemplate": "公司代號=%{x}<br>營業收入(百萬元)=%{y}<extra></extra>",
         "legendgroup": "2228",
         "marker": {
          "color": "#FF97FF",
          "pattern": {
           "shape": ""
          }
         },
         "name": "2228",
         "offsetgroup": "2228",
         "orientation": "v",
         "showlegend": true,
         "textposition": "auto",
         "type": "bar",
         "x": [
          "2228"
         ],
         "xaxis": "x",
         "y": [
          1235.31
         ],
         "yaxis": "y"
        },
        {
         "alignmentgroup": "True",
         "hovertemplate": "公司代號=%{x}<br>營業收入(百萬元)=%{y}<extra></extra>",
         "legendgroup": "2231",
         "marker": {
          "color": "#FECB52",
          "pattern": {
           "shape": ""
          }
         },
         "name": "2231",
         "offsetgroup": "2231",
         "orientation": "v",
         "showlegend": true,
         "textposition": "auto",
         "type": "bar",
         "x": [
          "2231"
         ],
         "xaxis": "x",
         "y": [
          1062.64
         ],
         "yaxis": "y"
        },
        {
         "alignmentgroup": "True",
         "hovertemplate": "公司代號=%{x}<br>營業收入(百萬元)=%{y}<extra></extra>",
         "legendgroup": "2233",
         "marker": {
          "color": "#636efa",
          "pattern": {
           "shape": ""
          }
         },
         "name": "2233",
         "offsetgroup": "2233",
         "orientation": "v",
         "showlegend": true,
         "textposition": "auto",
         "type": "bar",
         "x": [
          "2233"
         ],
         "xaxis": "x",
         "y": [
          865.41
         ],
         "yaxis": "y"
        },
        {
         "alignmentgroup": "True",
         "hovertemplate": "公司代號=%{x}<br>營業收入(百萬元)=%{y}<extra></extra>",
         "legendgroup": "2236",
         "marker": {
          "color": "#EF553B",
          "pattern": {
           "shape": ""
          }
         },
         "name": "2236",
         "offsetgroup": "2236",
         "orientation": "v",
         "showlegend": true,
         "textposition": "auto",
         "type": "bar",
         "x": [
          "2236"
         ],
         "xaxis": "x",
         "y": [
          401.49
         ],
         "yaxis": "y"
        },
        {
         "alignmentgroup": "True",
         "hovertemplate": "公司代號=%{x}<br>營業收入(百萬元)=%{y}<extra></extra>",
         "legendgroup": "2239",
         "marker": {
          "color": "#00cc96",
          "pattern": {
           "shape": ""
          }
         },
         "name": "2239",
         "offsetgroup": "2239",
         "orientation": "v",
         "showlegend": true,
         "textposition": "auto",
         "type": "bar",
         "x": [
          "2239"
         ],
         "xaxis": "x",
         "y": [
          5303.35
         ],
         "yaxis": "y"
        },
        {
         "alignmentgroup": "True",
         "hovertemplate": "公司代號=%{x}<br>營業收入(百萬元)=%{y}<extra></extra>",
         "legendgroup": "2241",
         "marker": {
          "color": "#ab63fa",
          "pattern": {
           "shape": ""
          }
         },
         "name": "2241",
         "offsetgroup": "2241",
         "orientation": "v",
         "showlegend": true,
         "textposition": "auto",
         "type": "bar",
         "x": [
          "2241"
         ],
         "xaxis": "x",
         "y": [
          185.31
         ],
         "yaxis": "y"
        },
        {
         "alignmentgroup": "True",
         "hovertemplate": "公司代號=%{x}<br>營業收入(百萬元)=%{y}<extra></extra>",
         "legendgroup": "2243",
         "marker": {
          "color": "#FFA15A",
          "pattern": {
           "shape": ""
          }
         },
         "name": "2243",
         "offsetgroup": "2243",
         "orientation": "v",
         "showlegend": true,
         "textposition": "auto",
         "type": "bar",
         "x": [
          "2243"
         ],
         "xaxis": "x",
         "y": [
          177.36
         ],
         "yaxis": "y"
        },
        {
         "alignmentgroup": "True",
         "hovertemplate": "公司代號=%{x}<br>營業收入(百萬元)=%{y}<extra></extra>",
         "legendgroup": "2247",
         "marker": {
          "color": "#19d3f3",
          "pattern": {
           "shape": ""
          }
         },
         "name": "2247",
         "offsetgroup": "2247",
         "orientation": "v",
         "showlegend": true,
         "textposition": "auto",
         "type": "bar",
         "x": [
          "2247"
         ],
         "xaxis": "x",
         "y": [
          13468.97
         ],
         "yaxis": "y"
        },
        {
         "alignmentgroup": "True",
         "hovertemplate": "公司代號=%{x}<br>營業收入(百萬元)=%{y}<extra></extra>",
         "legendgroup": "2250",
         "marker": {
          "color": "#FF6692",
          "pattern": {
           "shape": ""
          }
         },
         "name": "2250",
         "offsetgroup": "2250",
         "orientation": "v",
         "showlegend": true,
         "textposition": "auto",
         "type": "bar",
         "x": [
          "2250"
         ],
         "xaxis": "x",
         "y": [
          847.3
         ],
         "yaxis": "y"
        },
        {
         "alignmentgroup": "True",
         "hovertemplate": "公司代號=%{x}<br>營業收入(百萬元)=%{y}<extra></extra>",
         "legendgroup": "2254",
         "marker": {
          "color": "#B6E880",
          "pattern": {
           "shape": ""
          }
         },
         "name": "2254",
         "offsetgroup": "2254",
         "orientation": "v",
         "showlegend": true,
         "textposition": "auto",
         "type": "bar",
         "x": [
          "2254"
         ],
         "xaxis": "x",
         "y": [
          107.96
         ],
         "yaxis": "y"
        },
        {
         "alignmentgroup": "True",
         "hovertemplate": "公司代號=%{x}<br>營業收入(百萬元)=%{y}<extra></extra>",
         "legendgroup": "2258",
         "marker": {
          "color": "#FF97FF",
          "pattern": {
           "shape": ""
          }
         },
         "name": "2258",
         "offsetgroup": "2258",
         "orientation": "v",
         "showlegend": true,
         "textposition": "auto",
         "type": "bar",
         "x": [
          "2258"
         ],
         "xaxis": "x",
         "y": [
          822.16
         ],
         "yaxis": "y"
        },
        {
         "alignmentgroup": "True",
         "hovertemplate": "公司代號=%{x}<br>營業收入(百萬元)=%{y}<extra></extra>",
         "legendgroup": "2301",
         "marker": {
          "color": "#FECB52",
          "pattern": {
           "shape": ""
          }
         },
         "name": "2301",
         "offsetgroup": "2301",
         "orientation": "v",
         "showlegend": true,
         "textposition": "auto",
         "type": "bar",
         "x": [
          "2301"
         ],
         "xaxis": "x",
         "y": [
          28775.9
         ],
         "yaxis": "y"
        },
        {
         "alignmentgroup": "True",
         "hovertemplate": "公司代號=%{x}<br>營業收入(百萬元)=%{y}<extra></extra>",
         "legendgroup": "2302",
         "marker": {
          "color": "#636efa",
          "pattern": {
           "shape": ""
          }
         },
         "name": "2302",
         "offsetgroup": "2302",
         "orientation": "v",
         "showlegend": true,
         "textposition": "auto",
         "type": "bar",
         "x": [
          "2302"
         ],
         "xaxis": "x",
         "y": [
          147.26
         ],
         "yaxis": "y"
        },
        {
         "alignmentgroup": "True",
         "hovertemplate": "公司代號=%{x}<br>營業收入(百萬元)=%{y}<extra></extra>",
         "legendgroup": "2303",
         "marker": {
          "color": "#EF553B",
          "pattern": {
           "shape": ""
          }
         },
         "name": "2303",
         "offsetgroup": "2303",
         "orientation": "v",
         "showlegend": true,
         "textposition": "auto",
         "type": "bar",
         "x": [
          "2303"
         ],
         "xaxis": "x",
         "y": [
          54632.1
         ],
         "yaxis": "y"
        },
        {
         "alignmentgroup": "True",
         "hovertemplate": "公司代號=%{x}<br>營業收入(百萬元)=%{y}<extra></extra>",
         "legendgroup": "2305",
         "marker": {
          "color": "#00cc96",
          "pattern": {
           "shape": ""
          }
         },
         "name": "2305",
         "offsetgroup": "2305",
         "orientation": "v",
         "showlegend": true,
         "textposition": "auto",
         "type": "bar",
         "x": [
          "2305"
         ],
         "xaxis": "x",
         "y": [
          173.65
         ],
         "yaxis": "y"
        },
        {
         "alignmentgroup": "True",
         "hovertemplate": "公司代號=%{x}<br>營業收入(百萬元)=%{y}<extra></extra>",
         "legendgroup": "2308",
         "marker": {
          "color": "#ab63fa",
          "pattern": {
           "shape": ""
          }
         },
         "name": "2308",
         "offsetgroup": "2308",
         "orientation": "v",
         "showlegend": true,
         "textposition": "auto",
         "type": "bar",
         "x": [
          "2308"
         ],
         "xaxis": "x",
         "y": [
          91297.99
         ],
         "yaxis": "y"
        },
        {
         "alignmentgroup": "True",
         "hovertemplate": "公司代號=%{x}<br>營業收入(百萬元)=%{y}<extra></extra>",
         "legendgroup": "2312",
         "marker": {
          "color": "#FFA15A",
          "pattern": {
           "shape": ""
          }
         },
         "name": "2312",
         "offsetgroup": "2312",
         "orientation": "v",
         "showlegend": true,
         "textposition": "auto",
         "type": "bar",
         "x": [
          "2312"
         ],
         "xaxis": "x",
         "y": [
          32899.76
         ],
         "yaxis": "y"
        },
        {
         "alignmentgroup": "True",
         "hovertemplate": "公司代號=%{x}<br>營業收入(百萬元)=%{y}<extra></extra>",
         "legendgroup": "2313",
         "marker": {
          "color": "#19d3f3",
          "pattern": {
           "shape": ""
          }
         },
         "name": "2313",
         "offsetgroup": "2313",
         "orientation": "v",
         "showlegend": true,
         "textposition": "auto",
         "type": "bar",
         "x": [
          "2313"
         ],
         "xaxis": "x",
         "y": [
          15556.84
         ],
         "yaxis": "y"
        },
        {
         "alignmentgroup": "True",
         "hovertemplate": "公司代號=%{x}<br>營業收入(百萬元)=%{y}<extra></extra>",
         "legendgroup": "2314",
         "marker": {
          "color": "#FF6692",
          "pattern": {
           "shape": ""
          }
         },
         "name": "2314",
         "offsetgroup": "2314",
         "orientation": "v",
         "showlegend": true,
         "textposition": "auto",
         "type": "bar",
         "x": [
          "2314"
         ],
         "xaxis": "x",
         "y": [
          431.02
         ],
         "yaxis": "y"
        },
        {
         "alignmentgroup": "True",
         "hovertemplate": "公司代號=%{x}<br>營業收入(百萬元)=%{y}<extra></extra>",
         "legendgroup": "2316",
         "marker": {
          "color": "#B6E880",
          "pattern": {
           "shape": ""
          }
         },
         "name": "2316",
         "offsetgroup": "2316",
         "orientation": "v",
         "showlegend": true,
         "textposition": "auto",
         "type": "bar",
         "x": [
          "2316"
         ],
         "xaxis": "x",
         "y": [
          809.1
         ],
         "yaxis": "y"
        },
        {
         "alignmentgroup": "True",
         "hovertemplate": "公司代號=%{x}<br>營業收入(百萬元)=%{y}<extra></extra>",
         "legendgroup": "2317",
         "marker": {
          "color": "#FF97FF",
          "pattern": {
           "shape": ""
          }
         },
         "name": "2317",
         "offsetgroup": "2317",
         "orientation": "v",
         "showlegend": true,
         "textposition": "auto",
         "type": "bar",
         "x": [
          "2317"
         ],
         "xaxis": "x",
         "y": [
          1323991.65
         ],
         "yaxis": "y"
        },
        {
         "alignmentgroup": "True",
         "hovertemplate": "公司代號=%{x}<br>營業收入(百萬元)=%{y}<extra></extra>",
         "legendgroup": "2321",
         "marker": {
          "color": "#FECB52",
          "pattern": {
           "shape": ""
          }
         },
         "name": "2321",
         "offsetgroup": "2321",
         "orientation": "v",
         "showlegend": true,
         "textposition": "auto",
         "type": "bar",
         "x": [
          "2321"
         ],
         "xaxis": "x",
         "y": [
          163.72
         ],
         "yaxis": "y"
        },
        {
         "alignmentgroup": "True",
         "hovertemplate": "公司代號=%{x}<br>營業收入(百萬元)=%{y}<extra></extra>",
         "legendgroup": "2323",
         "marker": {
          "color": "#636efa",
          "pattern": {
           "shape": ""
          }
         },
         "name": "2323",
         "offsetgroup": "2323",
         "orientation": "v",
         "showlegend": true,
         "textposition": "auto",
         "type": "bar",
         "x": [
          "2323"
         ],
         "xaxis": "x",
         "y": [
          1839.88
         ],
         "yaxis": "y"
        },
        {
         "alignmentgroup": "True",
         "hovertemplate": "公司代號=%{x}<br>營業收入(百萬元)=%{y}<extra></extra>",
         "legendgroup": "2324",
         "marker": {
          "color": "#EF553B",
          "pattern": {
           "shape": ""
          }
         },
         "name": "2324",
         "offsetgroup": "2324",
         "orientation": "v",
         "showlegend": true,
         "textposition": "auto",
         "type": "bar",
         "x": [
          "2324"
         ],
         "xaxis": "x",
         "y": [
          199571.11
         ],
         "yaxis": "y"
        },
        {
         "alignmentgroup": "True",
         "hovertemplate": "公司代號=%{x}<br>營業收入(百萬元)=%{y}<extra></extra>",
         "legendgroup": "2327",
         "marker": {
          "color": "#00cc96",
          "pattern": {
           "shape": ""
          }
         },
         "name": "2327",
         "offsetgroup": "2327",
         "orientation": "v",
         "showlegend": true,
         "textposition": "auto",
         "type": "bar",
         "x": [
          "2327"
         ],
         "xaxis": "x",
         "y": [
          28505.15
         ],
         "yaxis": "y"
        },
        {
         "alignmentgroup": "True",
         "hovertemplate": "公司代號=%{x}<br>營業收入(百萬元)=%{y}<extra></extra>",
         "legendgroup": "2328",
         "marker": {
          "color": "#ab63fa",
          "pattern": {
           "shape": ""
          }
         },
         "name": "2328",
         "offsetgroup": "2328",
         "orientation": "v",
         "showlegend": true,
         "textposition": "auto",
         "type": "bar",
         "x": [
          "2328"
         ],
         "xaxis": "x",
         "y": [
          4657.87
         ],
         "yaxis": "y"
        },
        {
         "alignmentgroup": "True",
         "hovertemplate": "公司代號=%{x}<br>營業收入(百萬元)=%{y}<extra></extra>",
         "legendgroup": "2329",
         "marker": {
          "color": "#FFA15A",
          "pattern": {
           "shape": ""
          }
         },
         "name": "2329",
         "offsetgroup": "2329",
         "orientation": "v",
         "showlegend": true,
         "textposition": "auto",
         "type": "bar",
         "x": [
          "2329"
         ],
         "xaxis": "x",
         "y": [
          4176.03
         ],
         "yaxis": "y"
        },
        {
         "alignmentgroup": "True",
         "hovertemplate": "公司代號=%{x}<br>營業收入(百萬元)=%{y}<extra></extra>",
         "legendgroup": "2330",
         "marker": {
          "color": "#19d3f3",
          "pattern": {
           "shape": ""
          }
         },
         "name": "2330",
         "offsetgroup": "2330",
         "orientation": "v",
         "showlegend": true,
         "textposition": "auto",
         "type": "bar",
         "x": [
          "2330"
         ],
         "xaxis": "x",
         "y": [
          592644.2
         ],
         "yaxis": "y"
        },
        {
         "alignmentgroup": "True",
         "hovertemplate": "公司代號=%{x}<br>營業收入(百萬元)=%{y}<extra></extra>",
         "legendgroup": "2331",
         "marker": {
          "color": "#FF6692",
          "pattern": {
           "shape": ""
          }
         },
         "name": "2331",
         "offsetgroup": "2331",
         "orientation": "v",
         "showlegend": true,
         "textposition": "auto",
         "type": "bar",
         "x": [
          "2331"
         ],
         "xaxis": "x",
         "y": [
          3459.18
         ],
         "yaxis": "y"
        },
        {
         "alignmentgroup": "True",
         "hovertemplate": "公司代號=%{x}<br>營業收入(百萬元)=%{y}<extra></extra>",
         "legendgroup": "2332",
         "marker": {
          "color": "#B6E880",
          "pattern": {
           "shape": ""
          }
         },
         "name": "2332",
         "offsetgroup": "2332",
         "orientation": "v",
         "showlegend": true,
         "textposition": "auto",
         "type": "bar",
         "x": [
          "2332"
         ],
         "xaxis": "x",
         "y": [
          3563.38
         ],
         "yaxis": "y"
        },
        {
         "alignmentgroup": "True",
         "hovertemplate": "公司代號=%{x}<br>營業收入(百萬元)=%{y}<extra></extra>",
         "legendgroup": "2337",
         "marker": {
          "color": "#FF97FF",
          "pattern": {
           "shape": ""
          }
         },
         "name": "2337",
         "offsetgroup": "2337",
         "orientation": "v",
         "showlegend": true,
         "textposition": "auto",
         "type": "bar",
         "x": [
          "2337"
         ],
         "xaxis": "x",
         "y": [
          5760.46
         ],
         "yaxis": "y"
        },
        {
         "alignmentgroup": "True",
         "hovertemplate": "公司代號=%{x}<br>營業收入(百萬元)=%{y}<extra></extra>",
         "legendgroup": "2338",
         "marker": {
          "color": "#FECB52",
          "pattern": {
           "shape": ""
          }
         },
         "name": "2338",
         "offsetgroup": "2338",
         "orientation": "v",
         "showlegend": true,
         "textposition": "auto",
         "type": "bar",
         "x": [
          "2338"
         ],
         "xaxis": "x",
         "y": [
          1850.05
         ],
         "yaxis": "y"
        },
        {
         "alignmentgroup": "True",
         "hovertemplate": "公司代號=%{x}<br>營業收入(百萬元)=%{y}<extra></extra>",
         "legendgroup": "2340",
         "marker": {
          "color": "#636efa",
          "pattern": {
           "shape": ""
          }
         },
         "name": "2340",
         "offsetgroup": "2340",
         "orientation": "v",
         "showlegend": true,
         "textposition": "auto",
         "type": "bar",
         "x": [
          "2340"
         ],
         "xaxis": "x",
         "y": [
          957.34
         ],
         "yaxis": "y"
        },
        {
         "alignmentgroup": "True",
         "hovertemplate": "公司代號=%{x}<br>營業收入(百萬元)=%{y}<extra></extra>",
         "legendgroup": "2342",
         "marker": {
          "color": "#EF553B",
          "pattern": {
           "shape": ""
          }
         },
         "name": "2342",
         "offsetgroup": "2342",
         "orientation": "v",
         "showlegend": true,
         "textposition": "auto",
         "type": "bar",
         "x": [
          "2342"
         ],
         "xaxis": "x",
         "y": [
          351.56
         ],
         "yaxis": "y"
        },
        {
         "alignmentgroup": "True",
         "hovertemplate": "公司代號=%{x}<br>營業收入(百萬元)=%{y}<extra></extra>",
         "legendgroup": "2344",
         "marker": {
          "color": "#00cc96",
          "pattern": {
           "shape": ""
          }
         },
         "name": "2344",
         "offsetgroup": "2344",
         "orientation": "v",
         "showlegend": true,
         "textposition": "auto",
         "type": "bar",
         "x": [
          "2344"
         ],
         "xaxis": "x",
         "y": [
          20121.35
         ],
         "yaxis": "y"
        },
        {
         "alignmentgroup": "True",
         "hovertemplate": "公司代號=%{x}<br>營業收入(百萬元)=%{y}<extra></extra>",
         "legendgroup": "2345",
         "marker": {
          "color": "#ab63fa",
          "pattern": {
           "shape": ""
          }
         },
         "name": "2345",
         "offsetgroup": "2345",
         "orientation": "v",
         "showlegend": true,
         "textposition": "auto",
         "type": "bar",
         "x": [
          "2345"
         ],
         "xaxis": "x",
         "y": [
          18847.71
         ],
         "yaxis": "y"
        },
        {
         "alignmentgroup": "True",
         "hovertemplate": "公司代號=%{x}<br>營業收入(百萬元)=%{y}<extra></extra>",
         "legendgroup": "2347",
         "marker": {
          "color": "#FFA15A",
          "pattern": {
           "shape": ""
          }
         },
         "name": "2347",
         "offsetgroup": "2347",
         "orientation": "v",
         "showlegend": true,
         "textposition": "auto",
         "type": "bar",
         "x": [
          "2347"
         ],
         "xaxis": "x",
         "y": [
          103750.81
         ],
         "yaxis": "y"
        },
        {
         "alignmentgroup": "True",
         "hovertemplate": "公司代號=%{x}<br>營業收入(百萬元)=%{y}<extra></extra>",
         "legendgroup": "2348",
         "marker": {
          "color": "#19d3f3",
          "pattern": {
           "shape": ""
          }
         },
         "name": "2348",
         "offsetgroup": "2348",
         "orientation": "v",
         "showlegend": true,
         "textposition": "auto",
         "type": "bar",
         "x": [
          "2348"
         ],
         "xaxis": "x",
         "y": [
          2279.6
         ],
         "yaxis": "y"
        },
        {
         "alignmentgroup": "True",
         "hovertemplate": "公司代號=%{x}<br>營業收入(百萬元)=%{y}<extra></extra>",
         "legendgroup": "2349",
         "marker": {
          "color": "#FF6692",
          "pattern": {
           "shape": ""
          }
         },
         "name": "2349",
         "offsetgroup": "2349",
         "orientation": "v",
         "showlegend": true,
         "textposition": "auto",
         "type": "bar",
         "x": [
          "2349"
         ],
         "xaxis": "x",
         "y": [
          1883.68
         ],
         "yaxis": "y"
        },
        {
         "alignmentgroup": "True",
         "hovertemplate": "公司代號=%{x}<br>營業收入(百萬元)=%{y}<extra></extra>",
         "legendgroup": "2351",
         "marker": {
          "color": "#B6E880",
          "pattern": {
           "shape": ""
          }
         },
         "name": "2351",
         "offsetgroup": "2351",
         "orientation": "v",
         "showlegend": true,
         "textposition": "auto",
         "type": "bar",
         "x": [
          "2351"
         ],
         "xaxis": "x",
         "y": [
          2388.61
         ],
         "yaxis": "y"
        },
        {
         "alignmentgroup": "True",
         "hovertemplate": "公司代號=%{x}<br>營業收入(百萬元)=%{y}<extra></extra>",
         "legendgroup": "2352",
         "marker": {
          "color": "#FF97FF",
          "pattern": {
           "shape": ""
          }
         },
         "name": "2352",
         "offsetgroup": "2352",
         "orientation": "v",
         "showlegend": true,
         "textposition": "auto",
         "type": "bar",
         "x": [
          "2352"
         ],
         "xaxis": "x",
         "y": [
          46914.42
         ],
         "yaxis": "y"
        },
        {
         "alignmentgroup": "True",
         "hovertemplate": "公司代號=%{x}<br>營業收入(百萬元)=%{y}<extra></extra>",
         "legendgroup": "2353",
         "marker": {
          "color": "#FECB52",
          "pattern": {
           "shape": ""
          }
         },
         "name": "2353",
         "offsetgroup": "2353",
         "orientation": "v",
         "showlegend": true,
         "textposition": "auto",
         "type": "bar",
         "x": [
          "2353"
         ],
         "xaxis": "x",
         "y": [
          58832.22
         ],
         "yaxis": "y"
        },
        {
         "alignmentgroup": "True",
         "hovertemplate": "公司代號=%{x}<br>營業收入(百萬元)=%{y}<extra></extra>",
         "legendgroup": "2354",
         "marker": {
          "color": "#636efa",
          "pattern": {
           "shape": ""
          }
         },
         "name": "2354",
         "offsetgroup": "2354",
         "orientation": "v",
         "showlegend": true,
         "textposition": "auto",
         "type": "bar",
         "x": [
          "2354"
         ],
         "xaxis": "x",
         "y": [
          8859.67
         ],
         "yaxis": "y"
        },
        {
         "alignmentgroup": "True",
         "hovertemplate": "公司代號=%{x}<br>營業收入(百萬元)=%{y}<extra></extra>",
         "legendgroup": "2355",
         "marker": {
          "color": "#EF553B",
          "pattern": {
           "shape": ""
          }
         },
         "name": "2355",
         "offsetgroup": "2355",
         "orientation": "v",
         "showlegend": true,
         "textposition": "auto",
         "type": "bar",
         "x": [
          "2355"
         ],
         "xaxis": "x",
         "y": [
          4101.58
         ],
         "yaxis": "y"
        },
        {
         "alignmentgroup": "True",
         "hovertemplate": "公司代號=%{x}<br>營業收入(百萬元)=%{y}<extra></extra>",
         "legendgroup": "2356",
         "marker": {
          "color": "#00cc96",
          "pattern": {
           "shape": ""
          }
         },
         "name": "2356",
         "offsetgroup": "2356",
         "orientation": "v",
         "showlegend": true,
         "textposition": "auto",
         "type": "bar",
         "x": [
          "2356"
         ],
         "xaxis": "x",
         "y": [
          130505.97
         ],
         "yaxis": "y"
        },
        {
         "alignmentgroup": "True",
         "hovertemplate": "公司代號=%{x}<br>營業收入(百萬元)=%{y}<extra></extra>",
         "legendgroup": "2357",
         "marker": {
          "color": "#ab63fa",
          "pattern": {
           "shape": ""
          }
         },
         "name": "2357",
         "offsetgroup": "2357",
         "orientation": "v",
         "showlegend": true,
         "textposition": "auto",
         "type": "bar",
         "x": [
          "2357"
         ],
         "xaxis": "x",
         "y": [
          121696.89
         ],
         "yaxis": "y"
        },
        {
         "alignmentgroup": "True",
         "hovertemplate": "公司代號=%{x}<br>營業收入(百萬元)=%{y}<extra></extra>",
         "legendgroup": "2359",
         "marker": {
          "color": "#FFA15A",
          "pattern": {
           "shape": ""
          }
         },
         "name": "2359",
         "offsetgroup": "2359",
         "orientation": "v",
         "showlegend": true,
         "textposition": "auto",
         "type": "bar",
         "x": [
          "2359"
         ],
         "xaxis": "x",
         "y": [
          788.22
         ],
         "yaxis": "y"
        },
        {
         "alignmentgroup": "True",
         "hovertemplate": "公司代號=%{x}<br>營業收入(百萬元)=%{y}<extra></extra>",
         "legendgroup": "2360",
         "marker": {
          "color": "#19d3f3",
          "pattern": {
           "shape": ""
          }
         },
         "name": "2360",
         "offsetgroup": "2360",
         "orientation": "v",
         "showlegend": true,
         "textposition": "auto",
         "type": "bar",
         "x": [
          "2360"
         ],
         "xaxis": "x",
         "y": [
          4418.08
         ],
         "yaxis": "y"
        },
        {
         "alignmentgroup": "True",
         "hovertemplate": "公司代號=%{x}<br>營業收入(百萬元)=%{y}<extra></extra>",
         "legendgroup": "2362",
         "marker": {
          "color": "#FF6692",
          "pattern": {
           "shape": ""
          }
         },
         "name": "2362",
         "offsetgroup": "2362",
         "orientation": "v",
         "showlegend": true,
         "textposition": "auto",
         "type": "bar",
         "x": [
          "2362"
         ],
         "xaxis": "x",
         "y": [
          5527.81
         ],
         "yaxis": "y"
        },
        {
         "alignmentgroup": "True",
         "hovertemplate": "公司代號=%{x}<br>營業收入(百萬元)=%{y}<extra></extra>",
         "legendgroup": "2363",
         "marker": {
          "color": "#B6E880",
          "pattern": {
           "shape": ""
          }
         },
         "name": "2363",
         "offsetgroup": "2363",
         "orientation": "v",
         "showlegend": true,
         "textposition": "auto",
         "type": "bar",
         "x": [
          "2363"
         ],
         "xaxis": "x",
         "y": [
          34.29
         ],
         "yaxis": "y"
        },
        {
         "alignmentgroup": "True",
         "hovertemplate": "公司代號=%{x}<br>營業收入(百萬元)=%{y}<extra></extra>",
         "legendgroup": "2364",
         "marker": {
          "color": "#FF97FF",
          "pattern": {
           "shape": ""
          }
         },
         "name": "2364",
         "offsetgroup": "2364",
         "orientation": "v",
         "showlegend": true,
         "textposition": "auto",
         "type": "bar",
         "x": [
          "2364"
         ],
         "xaxis": "x",
         "y": [
          252.52
         ],
         "yaxis": "y"
        },
        {
         "alignmentgroup": "True",
         "hovertemplate": "公司代號=%{x}<br>營業收入(百萬元)=%{y}<extra></extra>",
         "legendgroup": "2365",
         "marker": {
          "color": "#FECB52",
          "pattern": {
           "shape": ""
          }
         },
         "name": "2365",
         "offsetgroup": "2365",
         "orientation": "v",
         "showlegend": true,
         "textposition": "auto",
         "type": "bar",
         "x": [
          "2365"
         ],
         "xaxis": "x",
         "y": [
          223.65
         ],
         "yaxis": "y"
        },
        {
         "alignmentgroup": "True",
         "hovertemplate": "公司代號=%{x}<br>營業收入(百萬元)=%{y}<extra></extra>",
         "legendgroup": "2367",
         "marker": {
          "color": "#636efa",
          "pattern": {
           "shape": ""
          }
         },
         "name": "2367",
         "offsetgroup": "2367",
         "orientation": "v",
         "showlegend": true,
         "textposition": "auto",
         "type": "bar",
         "x": [
          "2367"
         ],
         "xaxis": "x",
         "y": [
          4163.3
         ],
         "yaxis": "y"
        },
        {
         "alignmentgroup": "True",
         "hovertemplate": "公司代號=%{x}<br>營業收入(百萬元)=%{y}<extra></extra>",
         "legendgroup": "2368",
         "marker": {
          "color": "#EF553B",
          "pattern": {
           "shape": ""
          }
         },
         "name": "2368",
         "offsetgroup": "2368",
         "orientation": "v",
         "showlegend": true,
         "textposition": "auto",
         "type": "bar",
         "x": [
          "2368"
         ],
         "xaxis": "x",
         "y": [
          9065.89
         ],
         "yaxis": "y"
        },
        {
         "alignmentgroup": "True",
         "hovertemplate": "公司代號=%{x}<br>營業收入(百萬元)=%{y}<extra></extra>",
         "legendgroup": "2369",
         "marker": {
          "color": "#00cc96",
          "pattern": {
           "shape": ""
          }
         },
         "name": "2369",
         "offsetgroup": "2369",
         "orientation": "v",
         "showlegend": true,
         "textposition": "auto",
         "type": "bar",
         "x": [
          "2369"
         ],
         "xaxis": "x",
         "y": [
          1354.8
         ],
         "yaxis": "y"
        },
        {
         "alignmentgroup": "True",
         "hovertemplate": "公司代號=%{x}<br>營業收入(百萬元)=%{y}<extra></extra>",
         "legendgroup": "2371",
         "marker": {
          "color": "#ab63fa",
          "pattern": {
           "shape": ""
          }
         },
         "name": "2371",
         "offsetgroup": "2371",
         "orientation": "v",
         "showlegend": true,
         "textposition": "auto",
         "type": "bar",
         "x": [
          "2371"
         ],
         "xaxis": "x",
         "y": [
          10820.41
         ],
         "yaxis": "y"
        },
        {
         "alignmentgroup": "True",
         "hovertemplate": "公司代號=%{x}<br>營業收入(百萬元)=%{y}<extra></extra>",
         "legendgroup": "2373",
         "marker": {
          "color": "#FFA15A",
          "pattern": {
           "shape": ""
          }
         },
         "name": "2373",
         "offsetgroup": "2373",
         "orientation": "v",
         "showlegend": true,
         "textposition": "auto",
         "type": "bar",
         "x": [
          "2373"
         ],
         "xaxis": "x",
         "y": [
          2693.35
         ],
         "yaxis": "y"
        },
        {
         "alignmentgroup": "True",
         "hovertemplate": "公司代號=%{x}<br>營業收入(百萬元)=%{y}<extra></extra>",
         "legendgroup": "2374",
         "marker": {
          "color": "#19d3f3",
          "pattern": {
           "shape": ""
          }
         },
         "name": "2374",
         "offsetgroup": "2374",
         "orientation": "v",
         "showlegend": true,
         "textposition": "auto",
         "type": "bar",
         "x": [
          "2374"
         ],
         "xaxis": "x",
         "y": [
          1259.79
         ],
         "yaxis": "y"
        },
        {
         "alignmentgroup": "True",
         "hovertemplate": "公司代號=%{x}<br>營業收入(百萬元)=%{y}<extra></extra>",
         "legendgroup": "2375",
         "marker": {
          "color": "#FF6692",
          "pattern": {
           "shape": ""
          }
         },
         "name": "2375",
         "offsetgroup": "2375",
         "orientation": "v",
         "showlegend": true,
         "textposition": "auto",
         "type": "bar",
         "x": [
          "2375"
         ],
         "xaxis": "x",
         "y": [
          1165.77
         ],
         "yaxis": "y"
        },
        {
         "alignmentgroup": "True",
         "hovertemplate": "公司代號=%{x}<br>營業收入(百萬元)=%{y}<extra></extra>",
         "legendgroup": "2376",
         "marker": {
          "color": "#B6E880",
          "pattern": {
           "shape": ""
          }
         },
         "name": "2376",
         "offsetgroup": "2376",
         "orientation": "v",
         "showlegend": true,
         "textposition": "auto",
         "type": "bar",
         "x": [
          "2376"
         ],
         "xaxis": "x",
         "y": [
          55164.39
         ],
         "yaxis": "y"
        },
        {
         "alignmentgroup": "True",
         "hovertemplate": "公司代號=%{x}<br>營業收入(百萬元)=%{y}<extra></extra>",
         "legendgroup": "2377",
         "marker": {
          "color": "#FF97FF",
          "pattern": {
           "shape": ""
          }
         },
         "name": "2377",
         "offsetgroup": "2377",
         "orientation": "v",
         "showlegend": true,
         "textposition": "auto",
         "type": "bar",
         "x": [
          "2377"
         ],
         "xaxis": "x",
         "y": [
          47626.53
         ],
         "yaxis": "y"
        },
        {
         "alignmentgroup": "True",
         "hovertemplate": "公司代號=%{x}<br>營業收入(百萬元)=%{y}<extra></extra>",
         "legendgroup": "2379",
         "marker": {
          "color": "#FECB52",
          "pattern": {
           "shape": ""
          }
         },
         "name": "2379",
         "offsetgroup": "2379",
         "orientation": "v",
         "showlegend": true,
         "textposition": "auto",
         "type": "bar",
         "x": [
          "2379"
         ],
         "xaxis": "x",
         "y": [
          25622.84
         ],
         "yaxis": "y"
        },
        {
         "alignmentgroup": "True",
         "hovertemplate": "公司代號=%{x}<br>營業收入(百萬元)=%{y}<extra></extra>",
         "legendgroup": "2380",
         "marker": {
          "color": "#636efa",
          "pattern": {
           "shape": ""
          }
         },
         "name": "2380",
         "offsetgroup": "2380",
         "orientation": "v",
         "showlegend": true,
         "textposition": "auto",
         "type": "bar",
         "x": [
          "2380"
         ],
         "xaxis": "x",
         "y": [
          807.12
         ],
         "yaxis": "y"
        },
        {
         "alignmentgroup": "True",
         "hovertemplate": "公司代號=%{x}<br>營業收入(百萬元)=%{y}<extra></extra>",
         "legendgroup": "2382",
         "marker": {
          "color": "#EF553B",
          "pattern": {
           "shape": ""
          }
         },
         "name": "2382",
         "offsetgroup": "2382",
         "orientation": "v",
         "showlegend": true,
         "textposition": "auto",
         "type": "bar",
         "x": [
          "2382"
         ],
         "xaxis": "x",
         "y": [
          258939.38
         ],
         "yaxis": "y"
        },
        {
         "alignmentgroup": "True",
         "hovertemplate": "公司代號=%{x}<br>營業收入(百萬元)=%{y}<extra></extra>",
         "legendgroup": "2383",
         "marker": {
          "color": "#00cc96",
          "pattern": {
           "shape": ""
          }
         },
         "name": "2383",
         "offsetgroup": "2383",
         "orientation": "v",
         "showlegend": true,
         "textposition": "auto",
         "type": "bar",
         "x": [
          "2383"
         ],
         "xaxis": "x",
         "y": [
          12902.46
         ],
         "yaxis": "y"
        },
        {
         "alignmentgroup": "True",
         "hovertemplate": "公司代號=%{x}<br>營業收入(百萬元)=%{y}<extra></extra>",
         "legendgroup": "2385",
         "marker": {
          "color": "#ab63fa",
          "pattern": {
           "shape": ""
          }
         },
         "name": "2385",
         "offsetgroup": "2385",
         "orientation": "v",
         "showlegend": true,
         "textposition": "auto",
         "type": "bar",
         "x": [
          "2385"
         ],
         "xaxis": "x",
         "y": [
          22845.9
         ],
         "yaxis": "y"
        },
        {
         "alignmentgroup": "True",
         "hovertemplate": "公司代號=%{x}<br>營業收入(百萬元)=%{y}<extra></extra>",
         "legendgroup": "2387",
         "marker": {
          "color": "#FFA15A",
          "pattern": {
           "shape": ""
          }
         },
         "name": "2387",
         "offsetgroup": "2387",
         "orientation": "v",
         "showlegend": true,
         "textposition": "auto",
         "type": "bar",
         "x": [
          "2387"
         ],
         "xaxis": "x",
         "y": [
          5015.56
         ],
         "yaxis": "y"
        },
        {
         "alignmentgroup": "True",
         "hovertemplate": "公司代號=%{x}<br>營業收入(百萬元)=%{y}<extra></extra>",
         "legendgroup": "2388",
         "marker": {
          "color": "#19d3f3",
          "pattern": {
           "shape": ""
          }
         },
         "name": "2388",
         "offsetgroup": "2388",
         "orientation": "v",
         "showlegend": true,
         "textposition": "auto",
         "type": "bar",
         "x": [
          "2388"
         ],
         "xaxis": "x",
         "y": [
          2161.44
         ],
         "yaxis": "y"
        },
        {
         "alignmentgroup": "True",
         "hovertemplate": "公司代號=%{x}<br>營業收入(百萬元)=%{y}<extra></extra>",
         "legendgroup": "2390",
         "marker": {
          "color": "#FF6692",
          "pattern": {
           "shape": ""
          }
         },
         "name": "2390",
         "offsetgroup": "2390",
         "orientation": "v",
         "showlegend": true,
         "textposition": "auto",
         "type": "bar",
         "x": [
          "2390"
         ],
         "xaxis": "x",
         "y": [
          156.84
         ],
         "yaxis": "y"
        },
        {
         "alignmentgroup": "True",
         "hovertemplate": "公司代號=%{x}<br>營業收入(百萬元)=%{y}<extra></extra>",
         "legendgroup": "2392",
         "marker": {
          "color": "#B6E880",
          "pattern": {
           "shape": ""
          }
         },
         "name": "2392",
         "offsetgroup": "2392",
         "orientation": "v",
         "showlegend": true,
         "textposition": "auto",
         "type": "bar",
         "x": [
          "2392"
         ],
         "xaxis": "x",
         "y": [
          18981.93
         ],
         "yaxis": "y"
        },
        {
         "alignmentgroup": "True",
         "hovertemplate": "公司代號=%{x}<br>營業收入(百萬元)=%{y}<extra></extra>",
         "legendgroup": "2393",
         "marker": {
          "color": "#FF97FF",
          "pattern": {
           "shape": ""
          }
         },
         "name": "2393",
         "offsetgroup": "2393",
         "orientation": "v",
         "showlegend": true,
         "textposition": "auto",
         "type": "bar",
         "x": [
          "2393"
         ],
         "xaxis": "x",
         "y": [
          4905.02
         ],
         "yaxis": "y"
        },
        {
         "alignmentgroup": "True",
         "hovertemplate": "公司代號=%{x}<br>營業收入(百萬元)=%{y}<extra></extra>",
         "legendgroup": "2395",
         "marker": {
          "color": "#FECB52",
          "pattern": {
           "shape": ""
          }
         },
         "name": "2395",
         "offsetgroup": "2395",
         "orientation": "v",
         "showlegend": true,
         "textposition": "auto",
         "type": "bar",
         "x": [
          "2395"
         ],
         "xaxis": "x",
         "y": [
          13879.27
         ],
         "yaxis": "y"
        },
        {
         "alignmentgroup": "True",
         "hovertemplate": "公司代號=%{x}<br>營業收入(百萬元)=%{y}<extra></extra>",
         "legendgroup": "2397",
         "marker": {
          "color": "#636efa",
          "pattern": {
           "shape": ""
          }
         },
         "name": "2397",
         "offsetgroup": "2397",
         "orientation": "v",
         "showlegend": true,
         "textposition": "auto",
         "type": "bar",
         "x": [
          "2397"
         ],
         "xaxis": "x",
         "y": [
          1906.19
         ],
         "yaxis": "y"
        },
        {
         "alignmentgroup": "True",
         "hovertemplate": "公司代號=%{x}<br>營業收入(百萬元)=%{y}<extra></extra>",
         "legendgroup": "2399",
         "marker": {
          "color": "#EF553B",
          "pattern": {
           "shape": ""
          }
         },
         "name": "2399",
         "offsetgroup": "2399",
         "orientation": "v",
         "showlegend": true,
         "textposition": "auto",
         "type": "bar",
         "x": [
          "2399"
         ],
         "xaxis": "x",
         "y": [
          628.07
         ],
         "yaxis": "y"
        },
        {
         "alignmentgroup": "True",
         "hovertemplate": "公司代號=%{x}<br>營業收入(百萬元)=%{y}<extra></extra>",
         "legendgroup": "2401",
         "marker": {
          "color": "#00cc96",
          "pattern": {
           "shape": ""
          }
         },
         "name": "2401",
         "offsetgroup": "2401",
         "orientation": "v",
         "showlegend": true,
         "textposition": "auto",
         "type": "bar",
         "x": [
          "2401"
         ],
         "xaxis": "x",
         "y": [
          1346.76
         ],
         "yaxis": "y"
        },
        {
         "alignmentgroup": "True",
         "hovertemplate": "公司代號=%{x}<br>營業收入(百萬元)=%{y}<extra></extra>",
         "legendgroup": "2402",
         "marker": {
          "color": "#ab63fa",
          "pattern": {
           "shape": ""
          }
         },
         "name": "2402",
         "offsetgroup": "2402",
         "orientation": "v",
         "showlegend": true,
         "textposition": "auto",
         "type": "bar",
         "x": [
          "2402"
         ],
         "xaxis": "x",
         "y": [
          1999.44
         ],
         "yaxis": "y"
        },
        {
         "alignmentgroup": "True",
         "hovertemplate": "公司代號=%{x}<br>營業收入(百萬元)=%{y}<extra></extra>",
         "legendgroup": "2404",
         "marker": {
          "color": "#FFA15A",
          "pattern": {
           "shape": ""
          }
         },
         "name": "2404",
         "offsetgroup": "2404",
         "orientation": "v",
         "showlegend": true,
         "textposition": "auto",
         "type": "bar",
         "x": [
          "2404"
         ],
         "xaxis": "x",
         "y": [
          12253.85
         ],
         "yaxis": "y"
        },
        {
         "alignmentgroup": "True",
         "hovertemplate": "公司代號=%{x}<br>營業收入(百萬元)=%{y}<extra></extra>",
         "legendgroup": "2405",
         "marker": {
          "color": "#19d3f3",
          "pattern": {
           "shape": ""
          }
         },
         "name": "2405",
         "offsetgroup": "2405",
         "orientation": "v",
         "showlegend": true,
         "textposition": "auto",
         "type": "bar",
         "x": [
          "2405"
         ],
         "xaxis": "x",
         "y": [
          442.68
         ],
         "yaxis": "y"
        },
        {
         "alignmentgroup": "True",
         "hovertemplate": "公司代號=%{x}<br>營業收入(百萬元)=%{y}<extra></extra>",
         "legendgroup": "2406",
         "marker": {
          "color": "#FF6692",
          "pattern": {
           "shape": ""
          }
         },
         "name": "2406",
         "offsetgroup": "2406",
         "orientation": "v",
         "showlegend": true,
         "textposition": "auto",
         "type": "bar",
         "x": [
          "2406"
         ],
         "xaxis": "x",
         "y": [
          1640.08
         ],
         "yaxis": "y"
        },
        {
         "alignmentgroup": "True",
         "hovertemplate": "公司代號=%{x}<br>營業收入(百萬元)=%{y}<extra></extra>",
         "legendgroup": "2408",
         "marker": {
          "color": "#B6E880",
          "pattern": {
           "shape": ""
          }
         },
         "name": "2408",
         "offsetgroup": "2408",
         "orientation": "v",
         "showlegend": true,
         "textposition": "auto",
         "type": "bar",
         "x": [
          "2408"
         ],
         "xaxis": "x",
         "y": [
          9502.94
         ],
         "yaxis": "y"
        },
        {
         "alignmentgroup": "True",
         "hovertemplate": "公司代號=%{x}<br>營業收入(百萬元)=%{y}<extra></extra>",
         "legendgroup": "2409",
         "marker": {
          "color": "#FF97FF",
          "pattern": {
           "shape": ""
          }
         },
         "name": "2409",
         "offsetgroup": "2409",
         "orientation": "v",
         "showlegend": true,
         "textposition": "auto",
         "type": "bar",
         "x": [
          "2409"
         ],
         "xaxis": "x",
         "y": [
          59477.33
         ],
         "yaxis": "y"
        },
        {
         "alignmentgroup": "True",
         "hovertemplate": "公司代號=%{x}<br>營業收入(百萬元)=%{y}<extra></extra>",
         "legendgroup": "2412",
         "marker": {
          "color": "#FECB52",
          "pattern": {
           "shape": ""
          }
         },
         "name": "2412",
         "offsetgroup": "2412",
         "orientation": "v",
         "showlegend": true,
         "textposition": "auto",
         "type": "bar",
         "x": [
          "2412"
         ],
         "xaxis": "x",
         "y": [
          54943.47
         ],
         "yaxis": "y"
        },
        {
         "alignmentgroup": "True",
         "hovertemplate": "公司代號=%{x}<br>營業收入(百萬元)=%{y}<extra></extra>",
         "legendgroup": "2413",
         "marker": {
          "color": "#636efa",
          "pattern": {
           "shape": ""
          }
         },
         "name": "2413",
         "offsetgroup": "2413",
         "orientation": "v",
         "showlegend": true,
         "textposition": "auto",
         "type": "bar",
         "x": [
          "2413"
         ],
         "xaxis": "x",
         "y": [
          841.57
         ],
         "yaxis": "y"
        },
        {
         "alignmentgroup": "True",
         "hovertemplate": "公司代號=%{x}<br>營業收入(百萬元)=%{y}<extra></extra>",
         "legendgroup": "2414",
         "marker": {
          "color": "#EF553B",
          "pattern": {
           "shape": ""
          }
         },
         "name": "2414",
         "offsetgroup": "2414",
         "orientation": "v",
         "showlegend": true,
         "textposition": "auto",
         "type": "bar",
         "x": [
          "2414"
         ],
         "xaxis": "x",
         "y": [
          5251.14
         ],
         "yaxis": "y"
        },
        {
         "alignmentgroup": "True",
         "hovertemplate": "公司代號=%{x}<br>營業收入(百萬元)=%{y}<extra></extra>",
         "legendgroup": "2415",
         "marker": {
          "color": "#00cc96",
          "pattern": {
           "shape": ""
          }
         },
         "name": "2415",
         "offsetgroup": "2415",
         "orientation": "v",
         "showlegend": true,
         "textposition": "auto",
         "type": "bar",
         "x": [
          "2415"
         ],
         "xaxis": "x",
         "y": [
          595.91
         ],
         "yaxis": "y"
        },
        {
         "alignmentgroup": "True",
         "hovertemplate": "公司代號=%{x}<br>營業收入(百萬元)=%{y}<extra></extra>",
         "legendgroup": "2417",
         "marker": {
          "color": "#ab63fa",
          "pattern": {
           "shape": ""
          }
         },
         "name": "2417",
         "offsetgroup": "2417",
         "orientation": "v",
         "showlegend": true,
         "textposition": "auto",
         "type": "bar",
         "x": [
          "2417"
         ],
         "xaxis": "x",
         "y": [
          762.65
         ],
         "yaxis": "y"
        },
        {
         "alignmentgroup": "True",
         "hovertemplate": "公司代號=%{x}<br>營業收入(百萬元)=%{y}<extra></extra>",
         "legendgroup": "2419",
         "marker": {
          "color": "#FFA15A",
          "pattern": {
           "shape": ""
          }
         },
         "name": "2419",
         "offsetgroup": "2419",
         "orientation": "v",
         "showlegend": true,
         "textposition": "auto",
         "type": "bar",
         "x": [
          "2419"
         ],
         "xaxis": "x",
         "y": [
          2109.79
         ],
         "yaxis": "y"
        },
        {
         "alignmentgroup": "True",
         "hovertemplate": "公司代號=%{x}<br>營業收入(百萬元)=%{y}<extra></extra>",
         "legendgroup": "2420",
         "marker": {
          "color": "#19d3f3",
          "pattern": {
           "shape": ""
          }
         },
         "name": "2420",
         "offsetgroup": "2420",
         "orientation": "v",
         "showlegend": true,
         "textposition": "auto",
         "type": "bar",
         "x": [
          "2420"
         ],
         "xaxis": "x",
         "y": [
          558.78
         ],
         "yaxis": "y"
        },
        {
         "alignmentgroup": "True",
         "hovertemplate": "公司代號=%{x}<br>營業收入(百萬元)=%{y}<extra></extra>",
         "legendgroup": "2421",
         "marker": {
          "color": "#FF6692",
          "pattern": {
           "shape": ""
          }
         },
         "name": "2421",
         "offsetgroup": "2421",
         "orientation": "v",
         "showlegend": true,
         "textposition": "auto",
         "type": "bar",
         "x": [
          "2421"
         ],
         "xaxis": "x",
         "y": [
          3060.06
         ],
         "yaxis": "y"
        },
        {
         "alignmentgroup": "True",
         "hovertemplate": "公司代號=%{x}<br>營業收入(百萬元)=%{y}<extra></extra>",
         "legendgroup": "2423",
         "marker": {
          "color": "#B6E880",
          "pattern": {
           "shape": ""
          }
         },
         "name": "2423",
         "offsetgroup": "2423",
         "orientation": "v",
         "showlegend": true,
         "textposition": "auto",
         "type": "bar",
         "x": [
          "2423"
         ],
         "xaxis": "x",
         "y": [
          643.8
         ],
         "yaxis": "y"
        },
        {
         "alignmentgroup": "True",
         "hovertemplate": "公司代號=%{x}<br>營業收入(百萬元)=%{y}<extra></extra>",
         "legendgroup": "2424",
         "marker": {
          "color": "#FF97FF",
          "pattern": {
           "shape": ""
          }
         },
         "name": "2424",
         "offsetgroup": "2424",
         "orientation": "v",
         "showlegend": true,
         "textposition": "auto",
         "type": "bar",
         "x": [
          "2424"
         ],
         "xaxis": "x",
         "y": [
          21.11
         ],
         "yaxis": "y"
        },
        {
         "alignmentgroup": "True",
         "hovertemplate": "公司代號=%{x}<br>營業收入(百萬元)=%{y}<extra></extra>",
         "legendgroup": "2425",
         "marker": {
          "color": "#FECB52",
          "pattern": {
           "shape": ""
          }
         },
         "name": "2425",
         "offsetgroup": "2425",
         "orientation": "v",
         "showlegend": true,
         "textposition": "auto",
         "type": "bar",
         "x": [
          "2425"
         ],
         "xaxis": "x",
         "y": [
          1175.93
         ],
         "yaxis": "y"
        },
        {
         "alignmentgroup": "True",
         "hovertemplate": "公司代號=%{x}<br>營業收入(百萬元)=%{y}<extra></extra>",
         "legendgroup": "2426",
         "marker": {
          "color": "#636efa",
          "pattern": {
           "shape": ""
          }
         },
         "name": "2426",
         "offsetgroup": "2426",
         "orientation": "v",
         "showlegend": true,
         "textposition": "auto",
         "type": "bar",
         "x": [
          "2426"
         ],
         "xaxis": "x",
         "y": [
          554.64
         ],
         "yaxis": "y"
        },
        {
         "alignmentgroup": "True",
         "hovertemplate": "公司代號=%{x}<br>營業收入(百萬元)=%{y}<extra></extra>",
         "legendgroup": "2427",
         "marker": {
          "color": "#EF553B",
          "pattern": {
           "shape": ""
          }
         },
         "name": "2427",
         "offsetgroup": "2427",
         "orientation": "v",
         "showlegend": true,
         "textposition": "auto",
         "type": "bar",
         "x": [
          "2427"
         ],
         "xaxis": "x",
         "y": [
          1515.57
         ],
         "yaxis": "y"
        },
        {
         "alignmentgroup": "True",
         "hovertemplate": "公司代號=%{x}<br>營業收入(百萬元)=%{y}<extra></extra>",
         "legendgroup": "2428",
         "marker": {
          "color": "#00cc96",
          "pattern": {
           "shape": ""
          }
         },
         "name": "2428",
         "offsetgroup": "2428",
         "orientation": "v",
         "showlegend": true,
         "textposition": "auto",
         "type": "bar",
         "x": [
          "2428"
         ],
         "xaxis": "x",
         "y": [
          1561.38
         ],
         "yaxis": "y"
        },
        {
         "alignmentgroup": "True",
         "hovertemplate": "公司代號=%{x}<br>營業收入(百萬元)=%{y}<extra></extra>",
         "legendgroup": "2429",
         "marker": {
          "color": "#ab63fa",
          "pattern": {
           "shape": ""
          }
         },
         "name": "2429",
         "offsetgroup": "2429",
         "orientation": "v",
         "showlegend": true,
         "textposition": "auto",
         "type": "bar",
         "x": [
          "2429"
         ],
         "xaxis": "x",
         "y": [
          59.72
         ],
         "yaxis": "y"
        },
        {
         "alignmentgroup": "True",
         "hovertemplate": "公司代號=%{x}<br>營業收入(百萬元)=%{y}<extra></extra>",
         "legendgroup": "2430",
         "marker": {
          "color": "#FFA15A",
          "pattern": {
           "shape": ""
          }
         },
         "name": "2430",
         "offsetgroup": "2430",
         "orientation": "v",
         "showlegend": true,
         "textposition": "auto",
         "type": "bar",
         "x": [
          "2430"
         ],
         "xaxis": "x",
         "y": [
          4670.55
         ],
         "yaxis": "y"
        },
        {
         "alignmentgroup": "True",
         "hovertemplate": "公司代號=%{x}<br>營業收入(百萬元)=%{y}<extra></extra>",
         "legendgroup": "2431",
         "marker": {
          "color": "#19d3f3",
          "pattern": {
           "shape": ""
          }
         },
         "name": "2431",
         "offsetgroup": "2431",
         "orientation": "v",
         "showlegend": true,
         "textposition": "auto",
         "type": "bar",
         "x": [
          "2431"
         ],
         "xaxis": "x",
         "y": [
          100.6
         ],
         "yaxis": "y"
        },
        {
         "alignmentgroup": "True",
         "hovertemplate": "公司代號=%{x}<br>營業收入(百萬元)=%{y}<extra></extra>",
         "legendgroup": "2432",
         "marker": {
          "color": "#FF6692",
          "pattern": {
           "shape": ""
          }
         },
         "name": "2432",
         "offsetgroup": "2432",
         "orientation": "v",
         "showlegend": true,
         "textposition": "auto",
         "type": "bar",
         "x": [
          "2432"
         ],
         "xaxis": "x",
         "y": [
          572.9
         ],
         "yaxis": "y"
        },
        {
         "alignmentgroup": "True",
         "hovertemplate": "公司代號=%{x}<br>營業收入(百萬元)=%{y}<extra></extra>",
         "legendgroup": "2433",
         "marker": {
          "color": "#B6E880",
          "pattern": {
           "shape": ""
          }
         },
         "name": "2433",
         "offsetgroup": "2433",
         "orientation": "v",
         "showlegend": true,
         "textposition": "auto",
         "type": "bar",
         "x": [
          "2433"
         ],
         "xaxis": "x",
         "y": [
          677.34
         ],
         "yaxis": "y"
        },
        {
         "alignmentgroup": "True",
         "hovertemplate": "公司代號=%{x}<br>營業收入(百萬元)=%{y}<extra></extra>",
         "legendgroup": "2434",
         "marker": {
          "color": "#FF97FF",
          "pattern": {
           "shape": ""
          }
         },
         "name": "2434",
         "offsetgroup": "2434",
         "orientation": "v",
         "showlegend": true,
         "textposition": "auto",
         "type": "bar",
         "x": [
          "2434"
         ],
         "xaxis": "x",
         "y": [
          9.79
         ],
         "yaxis": "y"
        },
        {
         "alignmentgroup": "True",
         "hovertemplate": "公司代號=%{x}<br>營業收入(百萬元)=%{y}<extra></extra>",
         "legendgroup": "2436",
         "marker": {
          "color": "#FECB52",
          "pattern": {
           "shape": ""
          }
         },
         "name": "2436",
         "offsetgroup": "2436",
         "orientation": "v",
         "showlegend": true,
         "textposition": "auto",
         "type": "bar",
         "x": [
          "2436"
         ],
         "xaxis": "x",
         "y": [
          665.01
         ],
         "yaxis": "y"
        },
        {
         "alignmentgroup": "True",
         "hovertemplate": "公司代號=%{x}<br>營業收入(百萬元)=%{y}<extra></extra>",
         "legendgroup": "2438",
         "marker": {
          "color": "#636efa",
          "pattern": {
           "shape": ""
          }
         },
         "name": "2438",
         "offsetgroup": "2438",
         "orientation": "v",
         "showlegend": true,
         "textposition": "auto",
         "type": "bar",
         "x": [
          "2438"
         ],
         "xaxis": "x",
         "y": [
          61.21
         ],
         "yaxis": "y"
        },
        {
         "alignmentgroup": "True",
         "hovertemplate": "公司代號=%{x}<br>營業收入(百萬元)=%{y}<extra></extra>",
         "legendgroup": "2439",
         "marker": {
          "color": "#EF553B",
          "pattern": {
           "shape": ""
          }
         },
         "name": "2439",
         "offsetgroup": "2439",
         "orientation": "v",
         "showlegend": true,
         "textposition": "auto",
         "type": "bar",
         "x": [
          "2439"
         ],
         "xaxis": "x",
         "y": [
          8353.47
         ],
         "yaxis": "y"
        },
        {
         "alignmentgroup": "True",
         "hovertemplate": "公司代號=%{x}<br>營業收入(百萬元)=%{y}<extra></extra>",
         "legendgroup": "2440",
         "marker": {
          "color": "#00cc96",
          "pattern": {
           "shape": ""
          }
         },
         "name": "2440",
         "offsetgroup": "2440",
         "orientation": "v",
         "showlegend": true,
         "textposition": "auto",
         "type": "bar",
         "x": [
          "2440"
         ],
         "xaxis": "x",
         "y": [
          789.66
         ],
         "yaxis": "y"
        },
        {
         "alignmentgroup": "True",
         "hovertemplate": "公司代號=%{x}<br>營業收入(百萬元)=%{y}<extra></extra>",
         "legendgroup": "2441",
         "marker": {
          "color": "#ab63fa",
          "pattern": {
           "shape": ""
          }
         },
         "name": "2441",
         "offsetgroup": "2441",
         "orientation": "v",
         "showlegend": true,
         "textposition": "auto",
         "type": "bar",
         "x": [
          "2441"
         ],
         "xaxis": "x",
         "y": [
          3479.72
         ],
         "yaxis": "y"
        },
        {
         "alignmentgroup": "True",
         "hovertemplate": "公司代號=%{x}<br>營業收入(百萬元)=%{y}<extra></extra>",
         "legendgroup": "2442",
         "marker": {
          "color": "#FFA15A",
          "pattern": {
           "shape": ""
          }
         },
         "name": "2442",
         "offsetgroup": "2442",
         "orientation": "v",
         "showlegend": true,
         "textposition": "auto",
         "type": "bar",
         "x": [
          "2442"
         ],
         "xaxis": "x",
         "y": [
          339.39
         ],
         "yaxis": "y"
        },
        {
         "alignmentgroup": "True",
         "hovertemplate": "公司代號=%{x}<br>營業收入(百萬元)=%{y}<extra></extra>",
         "legendgroup": "2444",
         "marker": {
          "color": "#19d3f3",
          "pattern": {
           "shape": ""
          }
         },
         "name": "2444",
         "offsetgroup": "2444",
         "orientation": "v",
         "showlegend": true,
         "textposition": "auto",
         "type": "bar",
         "x": [
          "2444"
         ],
         "xaxis": "x",
         "y": [
          310.96
         ],
         "yaxis": "y"
        },
        {
         "alignmentgroup": "True",
         "hovertemplate": "公司代號=%{x}<br>營業收入(百萬元)=%{y}<extra></extra>",
         "legendgroup": "2449",
         "marker": {
          "color": "#FF6692",
          "pattern": {
           "shape": ""
          }
         },
         "name": "2449",
         "offsetgroup": "2449",
         "orientation": "v",
         "showlegend": true,
         "textposition": "auto",
         "type": "bar",
         "x": [
          "2449"
         ],
         "xaxis": "x",
         "y": [
          8214.72
         ],
         "yaxis": "y"
        },
        {
         "alignmentgroup": "True",
         "hovertemplate": "公司代號=%{x}<br>營業收入(百萬元)=%{y}<extra></extra>",
         "legendgroup": "2450",
         "marker": {
          "color": "#B6E880",
          "pattern": {
           "shape": ""
          }
         },
         "name": "2450",
         "offsetgroup": "2450",
         "orientation": "v",
         "showlegend": true,
         "textposition": "auto",
         "type": "bar",
         "x": [
          "2450"
         ],
         "xaxis": "x",
         "y": [
          8134.32
         ],
         "yaxis": "y"
        },
        {
         "alignmentgroup": "True",
         "hovertemplate": "公司代號=%{x}<br>營業收入(百萬元)=%{y}<extra></extra>",
         "legendgroup": "2451",
         "marker": {
          "color": "#FF97FF",
          "pattern": {
           "shape": ""
          }
         },
         "name": "2451",
         "offsetgroup": "2451",
         "orientation": "v",
         "showlegend": true,
         "textposition": "auto",
         "type": "bar",
         "x": [
          "2451"
         ],
         "xaxis": "x",
         "y": [
          2732.29
         ],
         "yaxis": "y"
        },
        {
         "alignmentgroup": "True",
         "hovertemplate": "公司代號=%{x}<br>營業收入(百萬元)=%{y}<extra></extra>",
         "legendgroup": "2453",
         "marker": {
          "color": "#FECB52",
          "pattern": {
           "shape": ""
          }
         },
         "name": "2453",
         "offsetgroup": "2453",
         "orientation": "v",
         "showlegend": true,
         "textposition": "auto",
         "type": "bar",
         "x": [
          "2453"
         ],
         "xaxis": "x",
         "y": [
          1399.49
         ],
         "yaxis": "y"
        },
        {
         "alignmentgroup": "True",
         "hovertemplate": "公司代號=%{x}<br>營業收入(百萬元)=%{y}<extra></extra>",
         "legendgroup": "2454",
         "marker": {
          "color": "#636efa",
          "pattern": {
           "shape": ""
          }
         },
         "name": "2454",
         "offsetgroup": "2454",
         "orientation": "v",
         "showlegend": true,
         "textposition": "auto",
         "type": "bar",
         "x": [
          "2454"
         ],
         "xaxis": "x",
         "y": [
          133458.15
         ],
         "yaxis": "y"
        },
        {
         "alignmentgroup": "True",
         "hovertemplate": "公司代號=%{x}<br>營業收入(百萬元)=%{y}<extra></extra>",
         "legendgroup": "2455",
         "marker": {
          "color": "#EF553B",
          "pattern": {
           "shape": ""
          }
         },
         "name": "2455",
         "offsetgroup": "2455",
         "orientation": "v",
         "showlegend": true,
         "textposition": "auto",
         "type": "bar",
         "x": [
          "2455"
         ],
         "xaxis": "x",
         "y": [
          837.4
         ],
         "yaxis": "y"
        },
        {
         "alignmentgroup": "True",
         "hovertemplate": "公司代號=%{x}<br>營業收入(百萬元)=%{y}<extra></extra>",
         "legendgroup": "2457",
         "marker": {
          "color": "#00cc96",
          "pattern": {
           "shape": ""
          }
         },
         "name": "2457",
         "offsetgroup": "2457",
         "orientation": "v",
         "showlegend": true,
         "textposition": "auto",
         "type": "bar",
         "x": [
          "2457"
         ],
         "xaxis": "x",
         "y": [
          2342.3
         ],
         "yaxis": "y"
        },
        {
         "alignmentgroup": "True",
         "hovertemplate": "公司代號=%{x}<br>營業收入(百萬元)=%{y}<extra></extra>",
         "legendgroup": "2458",
         "marker": {
          "color": "#ab63fa",
          "pattern": {
           "shape": ""
          }
         },
         "name": "2458",
         "offsetgroup": "2458",
         "orientation": "v",
         "showlegend": true,
         "textposition": "auto",
         "type": "bar",
         "x": [
          "2458"
         ],
         "xaxis": "x",
         "y": [
          3105.9
         ],
         "yaxis": "y"
        },
        {
         "alignmentgroup": "True",
         "hovertemplate": "公司代號=%{x}<br>營業收入(百萬元)=%{y}<extra></extra>",
         "legendgroup": "2459",
         "marker": {
          "color": "#FFA15A",
          "pattern": {
           "shape": ""
          }
         },
         "name": "2459",
         "offsetgroup": "2459",
         "orientation": "v",
         "showlegend": true,
         "textposition": "auto",
         "type": "bar",
         "x": [
          "2459"
         ],
         "xaxis": "x",
         "y": [
          1341.45
         ],
         "yaxis": "y"
        },
        {
         "alignmentgroup": "True",
         "hovertemplate": "公司代號=%{x}<br>營業收入(百萬元)=%{y}<extra></extra>",
         "legendgroup": "2460",
         "marker": {
          "color": "#19d3f3",
          "pattern": {
           "shape": ""
          }
         },
         "name": "2460",
         "offsetgroup": "2460",
         "orientation": "v",
         "showlegend": true,
         "textposition": "auto",
         "type": "bar",
         "x": [
          "2460"
         ],
         "xaxis": "x",
         "y": [
          613.05
         ],
         "yaxis": "y"
        },
        {
         "alignmentgroup": "True",
         "hovertemplate": "公司代號=%{x}<br>營業收入(百萬元)=%{y}<extra></extra>",
         "legendgroup": "2461",
         "marker": {
          "color": "#FF6692",
          "pattern": {
           "shape": ""
          }
         },
         "name": "2461",
         "offsetgroup": "2461",
         "orientation": "v",
         "showlegend": true,
         "textposition": "auto",
         "type": "bar",
         "x": [
          "2461"
         ],
         "xaxis": "x",
         "y": [
          1426.38
         ],
         "yaxis": "y"
        },
        {
         "alignmentgroup": "True",
         "hovertemplate": "公司代號=%{x}<br>營業收入(百萬元)=%{y}<extra></extra>",
         "legendgroup": "2462",
         "marker": {
          "color": "#B6E880",
          "pattern": {
           "shape": ""
          }
         },
         "name": "2462",
         "offsetgroup": "2462",
         "orientation": "v",
         "showlegend": true,
         "textposition": "auto",
         "type": "bar",
         "x": [
          "2462"
         ],
         "xaxis": "x",
         "y": [
          813.61
         ],
         "yaxis": "y"
        },
        {
         "alignmentgroup": "True",
         "hovertemplate": "公司代號=%{x}<br>營業收入(百萬元)=%{y}<extra></extra>",
         "legendgroup": "2464",
         "marker": {
          "color": "#FF97FF",
          "pattern": {
           "shape": ""
          }
         },
         "name": "2464",
         "offsetgroup": "2464",
         "orientation": "v",
         "showlegend": true,
         "textposition": "auto",
         "type": "bar",
         "x": [
          "2464"
         ],
         "xaxis": "x",
         "y": [
          1431
         ],
         "yaxis": "y"
        },
        {
         "alignmentgroup": "True",
         "hovertemplate": "公司代號=%{x}<br>營業收入(百萬元)=%{y}<extra></extra>",
         "legendgroup": "2465",
         "marker": {
          "color": "#FECB52",
          "pattern": {
           "shape": ""
          }
         },
         "name": "2465",
         "offsetgroup": "2465",
         "orientation": "v",
         "showlegend": true,
         "textposition": "auto",
         "type": "bar",
         "x": [
          "2465"
         ],
         "xaxis": "x",
         "y": [
          939.82
         ],
         "yaxis": "y"
        },
        {
         "alignmentgroup": "True",
         "hovertemplate": "公司代號=%{x}<br>營業收入(百萬元)=%{y}<extra></extra>",
         "legendgroup": "2466",
         "marker": {
          "color": "#636efa",
          "pattern": {
           "shape": ""
          }
         },
         "name": "2466",
         "offsetgroup": "2466",
         "orientation": "v",
         "showlegend": true,
         "textposition": "auto",
         "type": "bar",
         "x": [
          "2466"
         ],
         "xaxis": "x",
         "y": [
          129.07
         ],
         "yaxis": "y"
        },
        {
         "alignmentgroup": "True",
         "hovertemplate": "公司代號=%{x}<br>營業收入(百萬元)=%{y}<extra></extra>",
         "legendgroup": "2467",
         "marker": {
          "color": "#EF553B",
          "pattern": {
           "shape": ""
          }
         },
         "name": "2467",
         "offsetgroup": "2467",
         "orientation": "v",
         "showlegend": true,
         "textposition": "auto",
         "type": "bar",
         "x": [
          "2467"
         ],
         "xaxis": "x",
         "y": [
          1080.02
         ],
         "yaxis": "y"
        },
        {
         "alignmentgroup": "True",
         "hovertemplate": "公司代號=%{x}<br>營業收入(百萬元)=%{y}<extra></extra>",
         "legendgroup": "2468",
         "marker": {
          "color": "#00cc96",
          "pattern": {
           "shape": ""
          }
         },
         "name": "2468",
         "offsetgroup": "2468",
         "orientation": "v",
         "showlegend": true,
         "textposition": "auto",
         "type": "bar",
         "x": [
          "2468"
         ],
         "xaxis": "x",
         "y": [
          499.81
         ],
         "yaxis": "y"
        },
        {
         "alignmentgroup": "True",
         "hovertemplate": "公司代號=%{x}<br>營業收入(百萬元)=%{y}<extra></extra>",
         "legendgroup": "2471",
         "marker": {
          "color": "#ab63fa",
          "pattern": {
           "shape": ""
          }
         },
         "name": "2471",
         "offsetgroup": "2471",
         "orientation": "v",
         "showlegend": true,
         "textposition": "auto",
         "type": "bar",
         "x": [
          "2471"
         ],
         "xaxis": "x",
         "y": [
          165.28
         ],
         "yaxis": "y"
        },
        {
         "alignmentgroup": "True",
         "hovertemplate": "公司代號=%{x}<br>營業收入(百萬元)=%{y}<extra></extra>",
         "legendgroup": "2472",
         "marker": {
          "color": "#FFA15A",
          "pattern": {
           "shape": ""
          }
         },
         "name": "2472",
         "offsetgroup": "2472",
         "orientation": "v",
         "showlegend": true,
         "textposition": "auto",
         "type": "bar",
         "x": [
          "2472"
         ],
         "xaxis": "x",
         "y": [
          2189.88
         ],
         "yaxis": "y"
        },
        {
         "alignmentgroup": "True",
         "hovertemplate": "公司代號=%{x}<br>營業收入(百萬元)=%{y}<extra></extra>",
         "legendgroup": "2474",
         "marker": {
          "color": "#19d3f3",
          "pattern": {
           "shape": ""
          }
         },
         "name": "2474",
         "offsetgroup": "2474",
         "orientation": "v",
         "showlegend": true,
         "textposition": "auto",
         "type": "bar",
         "x": [
          "2474"
         ],
         "xaxis": "x",
         "y": [
          3658.86
         ],
         "yaxis": "y"
        },
        {
         "alignmentgroup": "True",
         "hovertemplate": "公司代號=%{x}<br>營業收入(百萬元)=%{y}<extra></extra>",
         "legendgroup": "2476",
         "marker": {
          "color": "#FF6692",
          "pattern": {
           "shape": ""
          }
         },
         "name": "2476",
         "offsetgroup": "2476",
         "orientation": "v",
         "showlegend": true,
         "textposition": "auto",
         "type": "bar",
         "x": [
          "2476"
         ],
         "xaxis": "x",
         "y": [
          1404.49
         ],
         "yaxis": "y"
        },
        {
         "alignmentgroup": "True",
         "hovertemplate": "公司代號=%{x}<br>營業收入(百萬元)=%{y}<extra></extra>",
         "legendgroup": "2477",
         "marker": {
          "color": "#B6E880",
          "pattern": {
           "shape": ""
          }
         },
         "name": "2477",
         "offsetgroup": "2477",
         "orientation": "v",
         "showlegend": true,
         "textposition": "auto",
         "type": "bar",
         "x": [
          "2477"
         ],
         "xaxis": "x",
         "y": [
          429.22
         ],
         "yaxis": "y"
        },
        {
         "alignmentgroup": "True",
         "hovertemplate": "公司代號=%{x}<br>營業收入(百萬元)=%{y}<extra></extra>",
         "legendgroup": "2478",
         "marker": {
          "color": "#FF97FF",
          "pattern": {
           "shape": ""
          }
         },
         "name": "2478",
         "offsetgroup": "2478",
         "orientation": "v",
         "showlegend": true,
         "textposition": "auto",
         "type": "bar",
         "x": [
          "2478"
         ],
         "xaxis": "x",
         "y": [
          1075.01
         ],
         "yaxis": "y"
        },
        {
         "alignmentgroup": "True",
         "hovertemplate": "公司代號=%{x}<br>營業收入(百萬元)=%{y}<extra></extra>",
         "legendgroup": "2480",
         "marker": {
          "color": "#FECB52",
          "pattern": {
           "shape": ""
          }
         },
         "name": "2480",
         "offsetgroup": "2480",
         "orientation": "v",
         "showlegend": true,
         "textposition": "auto",
         "type": "bar",
         "x": [
          "2480"
         ],
         "xaxis": "x",
         "y": [
          1753.47
         ],
         "yaxis": "y"
        },
        {
         "alignmentgroup": "True",
         "hovertemplate": "公司代號=%{x}<br>營業收入(百萬元)=%{y}<extra></extra>",
         "legendgroup": "2481",
         "marker": {
          "color": "#636efa",
          "pattern": {
           "shape": ""
          }
         },
         "name": "2481",
         "offsetgroup": "2481",
         "orientation": "v",
         "showlegend": true,
         "textposition": "auto",
         "type": "bar",
         "x": [
          "2481"
         ],
         "xaxis": "x",
         "y": [
          2909.13
         ],
         "yaxis": "y"
        },
        {
         "alignmentgroup": "True",
         "hovertemplate": "公司代號=%{x}<br>營業收入(百萬元)=%{y}<extra></extra>",
         "legendgroup": "2482",
         "marker": {
          "color": "#EF553B",
          "pattern": {
           "shape": ""
          }
         },
         "name": "2482",
         "offsetgroup": "2482",
         "orientation": "v",
         "showlegend": true,
         "textposition": "auto",
         "type": "bar",
         "x": [
          "2482"
         ],
         "xaxis": "x",
         "y": [
          138.25
         ],
         "yaxis": "y"
        },
        {
         "alignmentgroup": "True",
         "hovertemplate": "公司代號=%{x}<br>營業收入(百萬元)=%{y}<extra></extra>",
         "legendgroup": "2483",
         "marker": {
          "color": "#00cc96",
          "pattern": {
           "shape": ""
          }
         },
         "name": "2483",
         "offsetgroup": "2483",
         "orientation": "v",
         "showlegend": true,
         "textposition": "auto",
         "type": "bar",
         "x": [
          "2483"
         ],
         "xaxis": "x",
         "y": [
          419.11
         ],
         "yaxis": "y"
        },
        {
         "alignmentgroup": "True",
         "hovertemplate": "公司代號=%{x}<br>營業收入(百萬元)=%{y}<extra></extra>",
         "legendgroup": "2484",
         "marker": {
          "color": "#ab63fa",
          "pattern": {
           "shape": ""
          }
         },
         "name": "2484",
         "offsetgroup": "2484",
         "orientation": "v",
         "showlegend": true,
         "textposition": "auto",
         "type": "bar",
         "x": [
          "2484"
         ],
         "xaxis": "x",
         "y": [
          522.19
         ],
         "yaxis": "y"
        },
        {
         "alignmentgroup": "True",
         "hovertemplate": "公司代號=%{x}<br>營業收入(百萬元)=%{y}<extra></extra>",
         "legendgroup": "2485",
         "marker": {
          "color": "#FFA15A",
          "pattern": {
           "shape": ""
          }
         },
         "name": "2485",
         "offsetgroup": "2485",
         "orientation": "v",
         "showlegend": true,
         "textposition": "auto",
         "type": "bar",
         "x": [
          "2485"
         ],
         "xaxis": "x",
         "y": [
          983.03
         ],
         "yaxis": "y"
        },
        {
         "alignmentgroup": "True",
         "hovertemplate": "公司代號=%{x}<br>營業收入(百萬元)=%{y}<extra></extra>",
         "legendgroup": "2486",
         "marker": {
          "color": "#19d3f3",
          "pattern": {
           "shape": ""
          }
         },
         "name": "2486",
         "offsetgroup": "2486",
         "orientation": "v",
         "showlegend": true,
         "textposition": "auto",
         "type": "bar",
         "x": [
          "2486"
         ],
         "xaxis": "x",
         "y": [
          1173.08
         ],
         "yaxis": "y"
        },
        {
         "alignmentgroup": "True",
         "hovertemplate": "公司代號=%{x}<br>營業收入(百萬元)=%{y}<extra></extra>",
         "legendgroup": "2488",
         "marker": {
          "color": "#FF6692",
          "pattern": {
           "shape": ""
          }
         },
         "name": "2488",
         "offsetgroup": "2488",
         "orientation": "v",
         "showlegend": true,
         "textposition": "auto",
         "type": "bar",
         "x": [
          "2488"
         ],
         "xaxis": "x",
         "y": [
          426.84
         ],
         "yaxis": "y"
        },
        {
         "alignmentgroup": "True",
         "hovertemplate": "公司代號=%{x}<br>營業收入(百萬元)=%{y}<extra></extra>",
         "legendgroup": "2489",
         "marker": {
          "color": "#B6E880",
          "pattern": {
           "shape": ""
          }
         },
         "name": "2489",
         "offsetgroup": "2489",
         "orientation": "v",
         "showlegend": true,
         "textposition": "auto",
         "type": "bar",
         "x": [
          "2489"
         ],
         "xaxis": "x",
         "y": [
          4324.29
         ],
         "yaxis": "y"
        },
        {
         "alignmentgroup": "True",
         "hovertemplate": "公司代號=%{x}<br>營業收入(百萬元)=%{y}<extra></extra>",
         "legendgroup": "2491",
         "marker": {
          "color": "#FF97FF",
          "pattern": {
           "shape": ""
          }
         },
         "name": "2491",
         "offsetgroup": "2491",
         "orientation": "v",
         "showlegend": true,
         "textposition": "auto",
         "type": "bar",
         "x": [
          "2491"
         ],
         "xaxis": "x",
         "y": [
          47.82
         ],
         "yaxis": "y"
        },
        {
         "alignmentgroup": "True",
         "hovertemplate": "公司代號=%{x}<br>營業收入(百萬元)=%{y}<extra></extra>",
         "legendgroup": "2492",
         "marker": {
          "color": "#FECB52",
          "pattern": {
           "shape": ""
          }
         },
         "name": "2492",
         "offsetgroup": "2492",
         "orientation": "v",
         "showlegend": true,
         "textposition": "auto",
         "type": "bar",
         "x": [
          "2492"
         ],
         "xaxis": "x",
         "y": [
          8151.32
         ],
         "yaxis": "y"
        },
        {
         "alignmentgroup": "True",
         "hovertemplate": "公司代號=%{x}<br>營業收入(百萬元)=%{y}<extra></extra>",
         "legendgroup": "2493",
         "marker": {
          "color": "#636efa",
          "pattern": {
           "shape": ""
          }
         },
         "name": "2493",
         "offsetgroup": "2493",
         "orientation": "v",
         "showlegend": true,
         "textposition": "auto",
         "type": "bar",
         "x": [
          "2493"
         ],
         "xaxis": "x",
         "y": [
          859.43
         ],
         "yaxis": "y"
        },
        {
         "alignmentgroup": "True",
         "hovertemplate": "公司代號=%{x}<br>營業收入(百萬元)=%{y}<extra></extra>",
         "legendgroup": "2495",
         "marker": {
          "color": "#EF553B",
          "pattern": {
           "shape": ""
          }
         },
         "name": "2495",
         "offsetgroup": "2495",
         "orientation": "v",
         "showlegend": true,
         "textposition": "auto",
         "type": "bar",
         "x": [
          "2495"
         ],
         "xaxis": "x",
         "y": [
          353.26
         ],
         "yaxis": "y"
        },
        {
         "alignmentgroup": "True",
         "hovertemplate": "公司代號=%{x}<br>營業收入(百萬元)=%{y}<extra></extra>",
         "legendgroup": "2496",
         "marker": {
          "color": "#00cc96",
          "pattern": {
           "shape": ""
          }
         },
         "name": "2496",
         "offsetgroup": "2496",
         "orientation": "v",
         "showlegend": true,
         "textposition": "auto",
         "type": "bar",
         "x": [
          "2496"
         ],
         "xaxis": "x",
         "y": [
          190.89
         ],
         "yaxis": "y"
        },
        {
         "alignmentgroup": "True",
         "hovertemplate": "公司代號=%{x}<br>營業收入(百萬元)=%{y}<extra></extra>",
         "legendgroup": "2497",
         "marker": {
          "color": "#ab63fa",
          "pattern": {
           "shape": ""
          }
         },
         "name": "2497",
         "offsetgroup": "2497",
         "orientation": "v",
         "showlegend": true,
         "textposition": "auto",
         "type": "bar",
         "x": [
          "2497"
         ],
         "xaxis": "x",
         "y": [
          841.05
         ],
         "yaxis": "y"
        },
        {
         "alignmentgroup": "True",
         "hovertemplate": "公司代號=%{x}<br>營業收入(百萬元)=%{y}<extra></extra>",
         "legendgroup": "2498",
         "marker": {
          "color": "#FFA15A",
          "pattern": {
           "shape": ""
          }
         },
         "name": "2498",
         "offsetgroup": "2498",
         "orientation": "v",
         "showlegend": true,
         "textposition": "auto",
         "type": "bar",
         "x": [
          "2498"
         ],
         "xaxis": "x",
         "y": [
          594.93
         ],
         "yaxis": "y"
        },
        {
         "alignmentgroup": "True",
         "hovertemplate": "公司代號=%{x}<br>營業收入(百萬元)=%{y}<extra></extra>",
         "legendgroup": "2501",
         "marker": {
          "color": "#19d3f3",
          "pattern": {
           "shape": ""
          }
         },
         "name": "2501",
         "offsetgroup": "2501",
         "orientation": "v",
         "showlegend": true,
         "textposition": "auto",
         "type": "bar",
         "x": [
          "2501"
         ],
         "xaxis": "x",
         "y": [
          7056.25
         ],
         "yaxis": "y"
        },
        {
         "alignmentgroup": "True",
         "hovertemplate": "公司代號=%{x}<br>營業收入(百萬元)=%{y}<extra></extra>",
         "legendgroup": "2504",
         "marker": {
          "color": "#FF6692",
          "pattern": {
           "shape": ""
          }
         },
         "name": "2504",
         "offsetgroup": "2504",
         "orientation": "v",
         "showlegend": true,
         "textposition": "auto",
         "type": "bar",
         "x": [
          "2504"
         ],
         "xaxis": "x",
         "y": [
          5148.94
         ],
         "yaxis": "y"
        },
        {
         "alignmentgroup": "True",
         "hovertemplate": "公司代號=%{x}<br>營業收入(百萬元)=%{y}<extra></extra>",
         "legendgroup": "2505",
         "marker": {
          "color": "#B6E880",
          "pattern": {
           "shape": ""
          }
         },
         "name": "2505",
         "offsetgroup": "2505",
         "orientation": "v",
         "showlegend": true,
         "textposition": "auto",
         "type": "bar",
         "x": [
          "2505"
         ],
         "xaxis": "x",
         "y": [
          159.79
         ],
         "yaxis": "y"
        },
        {
         "alignmentgroup": "True",
         "hovertemplate": "公司代號=%{x}<br>營業收入(百萬元)=%{y}<extra></extra>",
         "legendgroup": "2506",
         "marker": {
          "color": "#FF97FF",
          "pattern": {
           "shape": ""
          }
         },
         "name": "2506",
         "offsetgroup": "2506",
         "orientation": "v",
         "showlegend": true,
         "textposition": "auto",
         "type": "bar",
         "x": [
          "2506"
         ],
         "xaxis": "x",
         "y": [
          562.16
         ],
         "yaxis": "y"
        },
        {
         "alignmentgroup": "True",
         "hovertemplate": "公司代號=%{x}<br>營業收入(百萬元)=%{y}<extra></extra>",
         "legendgroup": "2509",
         "marker": {
          "color": "#FECB52",
          "pattern": {
           "shape": ""
          }
         },
         "name": "2509",
         "offsetgroup": "2509",
         "orientation": "v",
         "showlegend": true,
         "textposition": "auto",
         "type": "bar",
         "x": [
          "2509"
         ],
         "xaxis": "x",
         "y": [
          58.69
         ],
         "yaxis": "y"
        },
        {
         "alignmentgroup": "True",
         "hovertemplate": "公司代號=%{x}<br>營業收入(百萬元)=%{y}<extra></extra>",
         "legendgroup": "2511",
         "marker": {
          "color": "#636efa",
          "pattern": {
           "shape": ""
          }
         },
         "name": "2511",
         "offsetgroup": "2511",
         "orientation": "v",
         "showlegend": true,
         "textposition": "auto",
         "type": "bar",
         "x": [
          "2511"
         ],
         "xaxis": "x",
         "y": [
          1707.69
         ],
         "yaxis": "y"
        },
        {
         "alignmentgroup": "True",
         "hovertemplate": "公司代號=%{x}<br>營業收入(百萬元)=%{y}<extra></extra>",
         "legendgroup": "2514",
         "marker": {
          "color": "#EF553B",
          "pattern": {
           "shape": ""
          }
         },
         "name": "2514",
         "offsetgroup": "2514",
         "orientation": "v",
         "showlegend": true,
         "textposition": "auto",
         "type": "bar",
         "x": [
          "2514"
         ],
         "xaxis": "x",
         "y": [
          6455.06
         ],
         "yaxis": "y"
        },
        {
         "alignmentgroup": "True",
         "hovertemplate": "公司代號=%{x}<br>營業收入(百萬元)=%{y}<extra></extra>",
         "legendgroup": "2515",
         "marker": {
          "color": "#00cc96",
          "pattern": {
           "shape": ""
          }
         },
         "name": "2515",
         "offsetgroup": "2515",
         "orientation": "v",
         "showlegend": true,
         "textposition": "auto",
         "type": "bar",
         "x": [
          "2515"
         ],
         "xaxis": "x",
         "y": [
          4921.14
         ],
         "yaxis": "y"
        },
        {
         "alignmentgroup": "True",
         "hovertemplate": "公司代號=%{x}<br>營業收入(百萬元)=%{y}<extra></extra>",
         "legendgroup": "2516",
         "marker": {
          "color": "#ab63fa",
          "pattern": {
           "shape": ""
          }
         },
         "name": "2516",
         "offsetgroup": "2516",
         "orientation": "v",
         "showlegend": true,
         "textposition": "auto",
         "type": "bar",
         "x": [
          "2516"
         ],
         "xaxis": "x",
         "y": [
          1976.34
         ],
         "yaxis": "y"
        },
        {
         "alignmentgroup": "True",
         "hovertemplate": "公司代號=%{x}<br>營業收入(百萬元)=%{y}<extra></extra>",
         "legendgroup": "2520",
         "marker": {
          "color": "#FFA15A",
          "pattern": {
           "shape": ""
          }
         },
         "name": "2520",
         "offsetgroup": "2520",
         "orientation": "v",
         "showlegend": true,
         "textposition": "auto",
         "type": "bar",
         "x": [
          "2520"
         ],
         "xaxis": "x",
         "y": [
          4812.66
         ],
         "yaxis": "y"
        },
        {
         "alignmentgroup": "True",
         "hovertemplate": "公司代號=%{x}<br>營業收入(百萬元)=%{y}<extra></extra>",
         "legendgroup": "2524",
         "marker": {
          "color": "#19d3f3",
          "pattern": {
           "shape": ""
          }
         },
         "name": "2524",
         "offsetgroup": "2524",
         "orientation": "v",
         "showlegend": true,
         "textposition": "auto",
         "type": "bar",
         "x": [
          "2524"
         ],
         "xaxis": "x",
         "y": [
          892.17
         ],
         "yaxis": "y"
        },
        {
         "alignmentgroup": "True",
         "hovertemplate": "公司代號=%{x}<br>營業收入(百萬元)=%{y}<extra></extra>",
         "legendgroup": "2527",
         "marker": {
          "color": "#FF6692",
          "pattern": {
           "shape": ""
          }
         },
         "name": "2527",
         "offsetgroup": "2527",
         "orientation": "v",
         "showlegend": true,
         "textposition": "auto",
         "type": "bar",
         "x": [
          "2527"
         ],
         "xaxis": "x",
         "y": [
          428.73
         ],
         "yaxis": "y"
        },
        {
         "alignmentgroup": "True",
         "hovertemplate": "公司代號=%{x}<br>營業收入(百萬元)=%{y}<extra></extra>",
         "legendgroup": "2528",
         "marker": {
          "color": "#B6E880",
          "pattern": {
           "shape": ""
          }
         },
         "name": "2528",
         "offsetgroup": "2528",
         "orientation": "v",
         "showlegend": true,
         "textposition": "auto",
         "type": "bar",
         "x": [
          "2528"
         ],
         "xaxis": "x",
         "y": [
          0.1
         ],
         "yaxis": "y"
        },
        {
         "alignmentgroup": "True",
         "hovertemplate": "公司代號=%{x}<br>營業收入(百萬元)=%{y}<extra></extra>",
         "legendgroup": "2530",
         "marker": {
          "color": "#FF97FF",
          "pattern": {
           "shape": ""
          }
         },
         "name": "2530",
         "offsetgroup": "2530",
         "orientation": "v",
         "showlegend": true,
         "textposition": "auto",
         "type": "bar",
         "x": [
          "2530"
         ],
         "xaxis": "x",
         "y": [
          759.85
         ],
         "yaxis": "y"
        },
        {
         "alignmentgroup": "True",
         "hovertemplate": "公司代號=%{x}<br>營業收入(百萬元)=%{y}<extra></extra>",
         "legendgroup": "2534",
         "marker": {
          "color": "#FECB52",
          "pattern": {
           "shape": ""
          }
         },
         "name": "2534",
         "offsetgroup": "2534",
         "orientation": "v",
         "showlegend": true,
         "textposition": "auto",
         "type": "bar",
         "x": [
          "2534"
         ],
         "xaxis": "x",
         "y": [
          362.88
         ],
         "yaxis": "y"
        },
        {
         "alignmentgroup": "True",
         "hovertemplate": "公司代號=%{x}<br>營業收入(百萬元)=%{y}<extra></extra>",
         "legendgroup": "2535",
         "marker": {
          "color": "#636efa",
          "pattern": {
           "shape": ""
          }
         },
         "name": "2535",
         "offsetgroup": "2535",
         "orientation": "v",
         "showlegend": true,
         "textposition": "auto",
         "type": "bar",
         "x": [
          "2535"
         ],
         "xaxis": "x",
         "y": [
          3355.92
         ],
         "yaxis": "y"
        },
        {
         "alignmentgroup": "True",
         "hovertemplate": "公司代號=%{x}<br>營業收入(百萬元)=%{y}<extra></extra>",
         "legendgroup": "2536",
         "marker": {
          "color": "#EF553B",
          "pattern": {
           "shape": ""
          }
         },
         "name": "2536",
         "offsetgroup": "2536",
         "orientation": "v",
         "showlegend": true,
         "textposition": "auto",
         "type": "bar",
         "x": [
          "2536"
         ],
         "xaxis": "x",
         "y": [
          342.19
         ],
         "yaxis": "y"
        },
        {
         "alignmentgroup": "True",
         "hovertemplate": "公司代號=%{x}<br>營業收入(百萬元)=%{y}<extra></extra>",
         "legendgroup": "2537",
         "marker": {
          "color": "#00cc96",
          "pattern": {
           "shape": ""
          }
         },
         "name": "2537",
         "offsetgroup": "2537",
         "orientation": "v",
         "showlegend": true,
         "textposition": "auto",
         "type": "bar",
         "x": [
          "2537"
         ],
         "xaxis": "x",
         "y": [
          332.31
         ],
         "yaxis": "y"
        },
        {
         "alignmentgroup": "True",
         "hovertemplate": "公司代號=%{x}<br>營業收入(百萬元)=%{y}<extra></extra>",
         "legendgroup": "2538",
         "marker": {
          "color": "#ab63fa",
          "pattern": {
           "shape": ""
          }
         },
         "name": "2538",
         "offsetgroup": "2538",
         "orientation": "v",
         "showlegend": true,
         "textposition": "auto",
         "type": "bar",
         "x": [
          "2538"
         ],
         "xaxis": "x",
         "y": [
          56.51
         ],
         "yaxis": "y"
        },
        {
         "alignmentgroup": "True",
         "hovertemplate": "公司代號=%{x}<br>營業收入(百萬元)=%{y}<extra></extra>",
         "legendgroup": "2539",
         "marker": {
          "color": "#FFA15A",
          "pattern": {
           "shape": ""
          }
         },
         "name": "2539",
         "offsetgroup": "2539",
         "orientation": "v",
         "showlegend": true,
         "textposition": "auto",
         "type": "bar",
         "x": [
          "2539"
         ],
         "xaxis": "x",
         "y": [
          1296.52
         ],
         "yaxis": "y"
        },
        {
         "alignmentgroup": "True",
         "hovertemplate": "公司代號=%{x}<br>營業收入(百萬元)=%{y}<extra></extra>",
         "legendgroup": "2540",
         "marker": {
          "color": "#19d3f3",
          "pattern": {
           "shape": ""
          }
         },
         "name": "2540",
         "offsetgroup": "2540",
         "orientation": "v",
         "showlegend": true,
         "textposition": "auto",
         "type": "bar",
         "x": [
          "2540"
         ],
         "xaxis": "x",
         "y": [
          2329.42
         ],
         "yaxis": "y"
        },
        {
         "alignmentgroup": "True",
         "hovertemplate": "公司代號=%{x}<br>營業收入(百萬元)=%{y}<extra></extra>",
         "legendgroup": "2542",
         "marker": {
          "color": "#FF6692",
          "pattern": {
           "shape": ""
          }
         },
         "name": "2542",
         "offsetgroup": "2542",
         "orientation": "v",
         "showlegend": true,
         "textposition": "auto",
         "type": "bar",
         "x": [
          "2542"
         ],
         "xaxis": "x",
         "y": [
          5210.16
         ],
         "yaxis": "y"
        },
        {
         "alignmentgroup": "True",
         "hovertemplate": "公司代號=%{x}<br>營業收入(百萬元)=%{y}<extra></extra>",
         "legendgroup": "2543",
         "marker": {
          "color": "#B6E880",
          "pattern": {
           "shape": ""
          }
         },
         "name": "2543",
         "offsetgroup": "2543",
         "orientation": "v",
         "showlegend": true,
         "textposition": "auto",
         "type": "bar",
         "x": [
          "2543"
         ],
         "xaxis": "x",
         "y": [
          2338.89
         ],
         "yaxis": "y"
        },
        {
         "alignmentgroup": "True",
         "hovertemplate": "公司代號=%{x}<br>營業收入(百萬元)=%{y}<extra></extra>",
         "legendgroup": "2545",
         "marker": {
          "color": "#FF97FF",
          "pattern": {
           "shape": ""
          }
         },
         "name": "2545",
         "offsetgroup": "2545",
         "orientation": "v",
         "showlegend": true,
         "textposition": "auto",
         "type": "bar",
         "x": [
          "2545"
         ],
         "xaxis": "x",
         "y": [
          2430.17
         ],
         "yaxis": "y"
        },
        {
         "alignmentgroup": "True",
         "hovertemplate": "公司代號=%{x}<br>營業收入(百萬元)=%{y}<extra></extra>",
         "legendgroup": "2546",
         "marker": {
          "color": "#FECB52",
          "pattern": {
           "shape": ""
          }
         },
         "name": "2546",
         "offsetgroup": "2546",
         "orientation": "v",
         "showlegend": true,
         "textposition": "auto",
         "type": "bar",
         "x": [
          "2546"
         ],
         "xaxis": "x",
         "y": [
          3002.4
         ],
         "yaxis": "y"
        },
        {
         "alignmentgroup": "True",
         "hovertemplate": "公司代號=%{x}<br>營業收入(百萬元)=%{y}<extra></extra>",
         "legendgroup": "2547",
         "marker": {
          "color": "#636efa",
          "pattern": {
           "shape": ""
          }
         },
         "name": "2547",
         "offsetgroup": "2547",
         "orientation": "v",
         "showlegend": true,
         "textposition": "auto",
         "type": "bar",
         "x": [
          "2547"
         ],
         "xaxis": "x",
         "y": [
          1453.79
         ],
         "yaxis": "y"
        },
        {
         "alignmentgroup": "True",
         "hovertemplate": "公司代號=%{x}<br>營業收入(百萬元)=%{y}<extra></extra>",
         "legendgroup": "2548",
         "marker": {
          "color": "#EF553B",
          "pattern": {
           "shape": ""
          }
         },
         "name": "2548",
         "offsetgroup": "2548",
         "orientation": "v",
         "showlegend": true,
         "textposition": "auto",
         "type": "bar",
         "x": [
          "2548"
         ],
         "xaxis": "x",
         "y": [
          7.25
         ],
         "yaxis": "y"
        },
        {
         "alignmentgroup": "True",
         "hovertemplate": "公司代號=%{x}<br>營業收入(百萬元)=%{y}<extra></extra>",
         "legendgroup": "2597",
         "marker": {
          "color": "#00cc96",
          "pattern": {
           "shape": ""
          }
         },
         "name": "2597",
         "offsetgroup": "2597",
         "orientation": "v",
         "showlegend": true,
         "textposition": "auto",
         "type": "bar",
         "x": [
          "2597"
         ],
         "xaxis": "x",
         "y": [
          5356.9
         ],
         "yaxis": "y"
        },
        {
         "alignmentgroup": "True",
         "hovertemplate": "公司代號=%{x}<br>營業收入(百萬元)=%{y}<extra></extra>",
         "legendgroup": "2601",
         "marker": {
          "color": "#ab63fa",
          "pattern": {
           "shape": ""
          }
         },
         "name": "2601",
         "offsetgroup": "2601",
         "orientation": "v",
         "showlegend": true,
         "textposition": "auto",
         "type": "bar",
         "x": [
          "2601"
         ],
         "xaxis": "x",
         "y": [
          1293.34
         ],
         "yaxis": "y"
        },
        {
         "alignmentgroup": "True",
         "hovertemplate": "公司代號=%{x}<br>營業收入(百萬元)=%{y}<extra></extra>",
         "legendgroup": "2603",
         "marker": {
          "color": "#FFA15A",
          "pattern": {
           "shape": ""
          }
         },
         "name": "2603",
         "offsetgroup": "2603",
         "orientation": "v",
         "showlegend": true,
         "textposition": "auto",
         "type": "bar",
         "x": [
          "2603"
         ],
         "xaxis": "x",
         "y": [
          88638.66
         ],
         "yaxis": "y"
        },
        {
         "alignmentgroup": "True",
         "hovertemplate": "公司代號=%{x}<br>營業收入(百萬元)=%{y}<extra></extra>",
         "legendgroup": "2605",
         "marker": {
          "color": "#19d3f3",
          "pattern": {
           "shape": ""
          }
         },
         "name": "2605",
         "offsetgroup": "2605",
         "orientation": "v",
         "showlegend": true,
         "textposition": "auto",
         "type": "bar",
         "x": [
          "2605"
         ],
         "xaxis": "x",
         "y": [
          1139.56
         ],
         "yaxis": "y"
        },
        {
         "alignmentgroup": "True",
         "hovertemplate": "公司代號=%{x}<br>營業收入(百萬元)=%{y}<extra></extra>",
         "legendgroup": "2606",
         "marker": {
          "color": "#FF6692",
          "pattern": {
           "shape": ""
          }
         },
         "name": "2606",
         "offsetgroup": "2606",
         "orientation": "v",
         "showlegend": true,
         "textposition": "auto",
         "type": "bar",
         "x": [
          "2606"
         ],
         "xaxis": "x",
         "y": [
          3845.25
         ],
         "yaxis": "y"
        },
        {
         "alignmentgroup": "True",
         "hovertemplate": "公司代號=%{x}<br>營業收入(百萬元)=%{y}<extra></extra>",
         "legendgroup": "2607",
         "marker": {
          "color": "#B6E880",
          "pattern": {
           "shape": ""
          }
         },
         "name": "2607",
         "offsetgroup": "2607",
         "orientation": "v",
         "showlegend": true,
         "textposition": "auto",
         "type": "bar",
         "x": [
          "2607"
         ],
         "xaxis": "x",
         "y": [
          4485.96
         ],
         "yaxis": "y"
        },
        {
         "alignmentgroup": "True",
         "hovertemplate": "公司代號=%{x}<br>營業收入(百萬元)=%{y}<extra></extra>",
         "legendgroup": "2608",
         "marker": {
          "color": "#FF97FF",
          "pattern": {
           "shape": ""
          }
         },
         "name": "2608",
         "offsetgroup": "2608",
         "orientation": "v",
         "showlegend": true,
         "textposition": "auto",
         "type": "bar",
         "x": [
          "2608"
         ],
         "xaxis": "x",
         "y": [
          2999.5
         ],
         "yaxis": "y"
        },
        {
         "alignmentgroup": "True",
         "hovertemplate": "公司代號=%{x}<br>營業收入(百萬元)=%{y}<extra></extra>",
         "legendgroup": "2609",
         "marker": {
          "color": "#FECB52",
          "pattern": {
           "shape": ""
          }
         },
         "name": "2609",
         "offsetgroup": "2609",
         "orientation": "v",
         "showlegend": true,
         "textposition": "auto",
         "type": "bar",
         "x": [
          "2609"
         ],
         "xaxis": "x",
         "y": [
          43801.43
         ],
         "yaxis": "y"
        },
        {
         "alignmentgroup": "True",
         "hovertemplate": "公司代號=%{x}<br>營業收入(百萬元)=%{y}<extra></extra>",
         "legendgroup": "2610",
         "marker": {
          "color": "#636efa",
          "pattern": {
           "shape": ""
          }
         },
         "name": "2610",
         "offsetgroup": "2610",
         "orientation": "v",
         "showlegend": true,
         "textposition": "auto",
         "type": "bar",
         "x": [
          "2610"
         ],
         "xaxis": "x",
         "y": [
          48644.56
         ],
         "yaxis": "y"
        },
        {
         "alignmentgroup": "True",
         "hovertemplate": "公司代號=%{x}<br>營業收入(百萬元)=%{y}<extra></extra>",
         "legendgroup": "2611",
         "marker": {
          "color": "#EF553B",
          "pattern": {
           "shape": ""
          }
         },
         "name": "2611",
         "offsetgroup": "2611",
         "orientation": "v",
         "showlegend": true,
         "textposition": "auto",
         "type": "bar",
         "x": [
          "2611"
         ],
         "xaxis": "x",
         "y": [
          167.51
         ],
         "yaxis": "y"
        },
        {
         "alignmentgroup": "True",
         "hovertemplate": "公司代號=%{x}<br>營業收入(百萬元)=%{y}<extra></extra>",
         "legendgroup": "2612",
         "marker": {
          "color": "#00cc96",
          "pattern": {
           "shape": ""
          }
         },
         "name": "2612",
         "offsetgroup": "2612",
         "orientation": "v",
         "showlegend": true,
         "textposition": "auto",
         "type": "bar",
         "x": [
          "2612"
         ],
         "xaxis": "x",
         "y": [
          1015.64
         ],
         "yaxis": "y"
        },
        {
         "alignmentgroup": "True",
         "hovertemplate": "公司代號=%{x}<br>營業收入(百萬元)=%{y}<extra></extra>",
         "legendgroup": "2613",
         "marker": {
          "color": "#ab63fa",
          "pattern": {
           "shape": ""
          }
         },
         "name": "2613",
         "offsetgroup": "2613",
         "orientation": "v",
         "showlegend": true,
         "textposition": "auto",
         "type": "bar",
         "x": [
          "2613"
         ],
         "xaxis": "x",
         "y": [
          768.71
         ],
         "yaxis": "y"
        },
        {
         "alignmentgroup": "True",
         "hovertemplate": "公司代號=%{x}<br>營業收入(百萬元)=%{y}<extra></extra>",
         "legendgroup": "2614",
         "marker": {
          "color": "#FFA15A",
          "pattern": {
           "shape": ""
          }
         },
         "name": "2614",
         "offsetgroup": "2614",
         "orientation": "v",
         "showlegend": true,
         "textposition": "auto",
         "type": "bar",
         "x": [
          "2614"
         ],
         "xaxis": "x",
         "y": [
          1435.35
         ],
         "yaxis": "y"
        },
        {
         "alignmentgroup": "True",
         "hovertemplate": "公司代號=%{x}<br>營業收入(百萬元)=%{y}<extra></extra>",
         "legendgroup": "2615",
         "marker": {
          "color": "#19d3f3",
          "pattern": {
           "shape": ""
          }
         },
         "name": "2615",
         "offsetgroup": "2615",
         "orientation": "v",
         "showlegend": true,
         "textposition": "auto",
         "type": "bar",
         "x": [
          "2615"
         ],
         "xaxis": "x",
         "y": [
          27617.58
         ],
         "yaxis": "y"
        },
        {
         "alignmentgroup": "True",
         "hovertemplate": "公司代號=%{x}<br>營業收入(百萬元)=%{y}<extra></extra>",
         "legendgroup": "2616",
         "marker": {
          "color": "#FF6692",
          "pattern": {
           "shape": ""
          }
         },
         "name": "2616",
         "offsetgroup": "2616",
         "orientation": "v",
         "showlegend": true,
         "textposition": "auto",
         "type": "bar",
         "x": [
          "2616"
         ],
         "xaxis": "x",
         "y": [
          3608.53
         ],
         "yaxis": "y"
        },
        {
         "alignmentgroup": "True",
         "hovertemplate": "公司代號=%{x}<br>營業收入(百萬元)=%{y}<extra></extra>",
         "legendgroup": "2617",
         "marker": {
          "color": "#B6E880",
          "pattern": {
           "shape": ""
          }
         },
         "name": "2617",
         "offsetgroup": "2617",
         "orientation": "v",
         "showlegend": true,
         "textposition": "auto",
         "type": "bar",
         "x": [
          "2617"
         ],
         "xaxis": "x",
         "y": [
          1027.22
         ],
         "yaxis": "y"
        },
        {
         "alignmentgroup": "True",
         "hovertemplate": "公司代號=%{x}<br>營業收入(百萬元)=%{y}<extra></extra>",
         "legendgroup": "2618",
         "marker": {
          "color": "#FF97FF",
          "pattern": {
           "shape": ""
          }
         },
         "name": "2618",
         "offsetgroup": "2618",
         "orientation": "v",
         "showlegend": true,
         "textposition": "auto",
         "type": "bar",
         "x": [
          "2618"
         ],
         "xaxis": "x",
         "y": [
          51915.46
         ],
         "yaxis": "y"
        },
        {
         "alignmentgroup": "True",
         "hovertemplate": "公司代號=%{x}<br>營業收入(百萬元)=%{y}<extra></extra>",
         "legendgroup": "2630",
         "marker": {
          "color": "#FECB52",
          "pattern": {
           "shape": ""
          }
         },
         "name": "2630",
         "offsetgroup": "2630",
         "orientation": "v",
         "showlegend": true,
         "textposition": "auto",
         "type": "bar",
         "x": [
          "2630"
         ],
         "xaxis": "x",
         "y": [
          1260.48
         ],
         "yaxis": "y"
        },
        {
         "alignmentgroup": "True",
         "hovertemplate": "公司代號=%{x}<br>營業收入(百萬元)=%{y}<extra></extra>",
         "legendgroup": "2633",
         "marker": {
          "color": "#636efa",
          "pattern": {
           "shape": ""
          }
         },
         "name": "2633",
         "offsetgroup": "2633",
         "orientation": "v",
         "showlegend": true,
         "textposition": "auto",
         "type": "bar",
         "x": [
          "2633"
         ],
         "xaxis": "x",
         "y": [
          13378.27
         ],
         "yaxis": "y"
        },
        {
         "alignmentgroup": "True",
         "hovertemplate": "公司代號=%{x}<br>營業收入(百萬元)=%{y}<extra></extra>",
         "legendgroup": "2634",
         "marker": {
          "color": "#EF553B",
          "pattern": {
           "shape": ""
          }
         },
         "name": "2634",
         "offsetgroup": "2634",
         "orientation": "v",
         "showlegend": true,
         "textposition": "auto",
         "type": "bar",
         "x": [
          "2634"
         ],
         "xaxis": "x",
         "y": [
          10575.59
         ],
         "yaxis": "y"
        },
        {
         "alignmentgroup": "True",
         "hovertemplate": "公司代號=%{x}<br>營業收入(百萬元)=%{y}<extra></extra>",
         "legendgroup": "2636",
         "marker": {
          "color": "#00cc96",
          "pattern": {
           "shape": ""
          }
         },
         "name": "2636",
         "offsetgroup": "2636",
         "orientation": "v",
         "showlegend": true,
         "textposition": "auto",
         "type": "bar",
         "x": [
          "2636"
         ],
         "xaxis": "x",
         "y": [
          4657.1
         ],
         "yaxis": "y"
        },
        {
         "alignmentgroup": "True",
         "hovertemplate": "公司代號=%{x}<br>營業收入(百萬元)=%{y}<extra></extra>",
         "legendgroup": "2637",
         "marker": {
          "color": "#ab63fa",
          "pattern": {
           "shape": ""
          }
         },
         "name": "2637",
         "offsetgroup": "2637",
         "orientation": "v",
         "showlegend": true,
         "textposition": "auto",
         "type": "bar",
         "x": [
          "2637"
         ],
         "xaxis": "x",
         "y": [
          4694
         ],
         "yaxis": "y"
        },
        {
         "alignmentgroup": "True",
         "hovertemplate": "公司代號=%{x}<br>營業收入(百萬元)=%{y}<extra></extra>",
         "legendgroup": "2642",
         "marker": {
          "color": "#FFA15A",
          "pattern": {
           "shape": ""
          }
         },
         "name": "2642",
         "offsetgroup": "2642",
         "orientation": "v",
         "showlegend": true,
         "textposition": "auto",
         "type": "bar",
         "x": [
          "2642"
         ],
         "xaxis": "x",
         "y": [
          1021.47
         ],
         "yaxis": "y"
        },
        {
         "alignmentgroup": "True",
         "hovertemplate": "公司代號=%{x}<br>營業收入(百萬元)=%{y}<extra></extra>",
         "legendgroup": "2645",
         "marker": {
          "color": "#19d3f3",
          "pattern": {
           "shape": ""
          }
         },
         "name": "2645",
         "offsetgroup": "2645",
         "orientation": "v",
         "showlegend": true,
         "textposition": "auto",
         "type": "bar",
         "x": [
          "2645"
         ],
         "xaxis": "x",
         "y": [
          3698.28
         ],
         "yaxis": "y"
        },
        {
         "alignmentgroup": "True",
         "hovertemplate": "公司代號=%{x}<br>營業收入(百萬元)=%{y}<extra></extra>",
         "legendgroup": "2701",
         "marker": {
          "color": "#FF6692",
          "pattern": {
           "shape": ""
          }
         },
         "name": "2701",
         "offsetgroup": "2701",
         "orientation": "v",
         "showlegend": true,
         "textposition": "auto",
         "type": "bar",
         "x": [
          "2701"
         ],
         "xaxis": "x",
         "y": [
          75.76
         ],
         "yaxis": "y"
        },
        {
         "alignmentgroup": "True",
         "hovertemplate": "公司代號=%{x}<br>營業收入(百萬元)=%{y}<extra></extra>",
         "legendgroup": "2702",
         "marker": {
          "color": "#B6E880",
          "pattern": {
           "shape": ""
          }
         },
         "name": "2702",
         "offsetgroup": "2702",
         "orientation": "v",
         "showlegend": true,
         "textposition": "auto",
         "type": "bar",
         "x": [
          "2702"
         ],
         "xaxis": "x",
         "y": [
          333.37
         ],
         "yaxis": "y"
        },
        {
         "alignmentgroup": "True",
         "hovertemplate": "公司代號=%{x}<br>營業收入(百萬元)=%{y}<extra></extra>",
         "legendgroup": "2704",
         "marker": {
          "color": "#FF97FF",
          "pattern": {
           "shape": ""
          }
         },
         "name": "2704",
         "offsetgroup": "2704",
         "orientation": "v",
         "showlegend": true,
         "textposition": "auto",
         "type": "bar",
         "x": [
          "2704"
         ],
         "xaxis": "x",
         "y": [
          352.65
         ],
         "yaxis": "y"
        },
        {
         "alignmentgroup": "True",
         "hovertemplate": "公司代號=%{x}<br>營業收入(百萬元)=%{y}<extra></extra>",
         "legendgroup": "2705",
         "marker": {
          "color": "#FECB52",
          "pattern": {
           "shape": ""
          }
         },
         "name": "2705",
         "offsetgroup": "2705",
         "orientation": "v",
         "showlegend": true,
         "textposition": "auto",
         "type": "bar",
         "x": [
          "2705"
         ],
         "xaxis": "x",
         "y": [
          505.94
         ],
         "yaxis": "y"
        },
        {
         "alignmentgroup": "True",
         "hovertemplate": "公司代號=%{x}<br>營業收入(百萬元)=%{y}<extra></extra>",
         "legendgroup": "2706",
         "marker": {
          "color": "#636efa",
          "pattern": {
           "shape": ""
          }
         },
         "name": "2706",
         "offsetgroup": "2706",
         "orientation": "v",
         "showlegend": true,
         "textposition": "auto",
         "type": "bar",
         "x": [
          "2706"
         ],
         "xaxis": "x",
         "y": [
          85.24
         ],
         "yaxis": "y"
        },
        {
         "alignmentgroup": "True",
         "hovertemplate": "公司代號=%{x}<br>營業收入(百萬元)=%{y}<extra></extra>",
         "legendgroup": "2707",
         "marker": {
          "color": "#EF553B",
          "pattern": {
           "shape": ""
          }
         },
         "name": "2707",
         "offsetgroup": "2707",
         "orientation": "v",
         "showlegend": true,
         "textposition": "auto",
         "type": "bar",
         "x": [
          "2707"
         ],
         "xaxis": "x",
         "y": [
          1747.11
         ],
         "yaxis": "y"
        },
        {
         "alignmentgroup": "True",
         "hovertemplate": "公司代號=%{x}<br>營業收入(百萬元)=%{y}<extra></extra>",
         "legendgroup": "2712",
         "marker": {
          "color": "#00cc96",
          "pattern": {
           "shape": ""
          }
         },
         "name": "2712",
         "offsetgroup": "2712",
         "orientation": "v",
         "showlegend": true,
         "textposition": "auto",
         "type": "bar",
         "x": [
          "2712"
         ],
         "xaxis": "x",
         "y": [
          125.95
         ],
         "yaxis": "y"
        },
        {
         "alignmentgroup": "True",
         "hovertemplate": "公司代號=%{x}<br>營業收入(百萬元)=%{y}<extra></extra>",
         "legendgroup": "2722",
         "marker": {
          "color": "#ab63fa",
          "pattern": {
           "shape": ""
          }
         },
         "name": "2722",
         "offsetgroup": "2722",
         "orientation": "v",
         "showlegend": true,
         "textposition": "auto",
         "type": "bar",
         "x": [
          "2722"
         ],
         "xaxis": "x",
         "y": [
          154.43
         ],
         "yaxis": "y"
        },
        {
         "alignmentgroup": "True",
         "hovertemplate": "公司代號=%{x}<br>營業收入(百萬元)=%{y}<extra></extra>",
         "legendgroup": "2723",
         "marker": {
          "color": "#FFA15A",
          "pattern": {
           "shape": ""
          }
         },
         "name": "2723",
         "offsetgroup": "2723",
         "orientation": "v",
         "showlegend": true,
         "textposition": "auto",
         "type": "bar",
         "x": [
          "2723"
         ],
         "xaxis": "x",
         "y": [
          4647.91
         ],
         "yaxis": "y"
        },
        {
         "alignmentgroup": "True",
         "hovertemplate": "公司代號=%{x}<br>營業收入(百萬元)=%{y}<extra></extra>",
         "legendgroup": "2727",
         "marker": {
          "color": "#19d3f3",
          "pattern": {
           "shape": ""
          }
         },
         "name": "2727",
         "offsetgroup": "2727",
         "orientation": "v",
         "showlegend": true,
         "textposition": "auto",
         "type": "bar",
         "x": [
          "2727"
         ],
         "xaxis": "x",
         "y": [
          5652.1
         ],
         "yaxis": "y"
        },
        {
         "alignmentgroup": "True",
         "hovertemplate": "公司代號=%{x}<br>營業收入(百萬元)=%{y}<extra></extra>",
         "legendgroup": "2731",
         "marker": {
          "color": "#FF6692",
          "pattern": {
           "shape": ""
          }
         },
         "name": "2731",
         "offsetgroup": "2731",
         "orientation": "v",
         "showlegend": true,
         "textposition": "auto",
         "type": "bar",
         "x": [
          "2731"
         ],
         "xaxis": "x",
         "y": [
          5944.61
         ],
         "yaxis": "y"
        },
        {
         "alignmentgroup": "True",
         "hovertemplate": "公司代號=%{x}<br>營業收入(百萬元)=%{y}<extra></extra>",
         "legendgroup": "2739",
         "marker": {
          "color": "#B6E880",
          "pattern": {
           "shape": ""
          }
         },
         "name": "2739",
         "offsetgroup": "2739",
         "orientation": "v",
         "showlegend": true,
         "textposition": "auto",
         "type": "bar",
         "x": [
          "2739"
         ],
         "xaxis": "x",
         "y": [
          1355.84
         ],
         "yaxis": "y"
        },
        {
         "alignmentgroup": "True",
         "hovertemplate": "公司代號=%{x}<br>營業收入(百萬元)=%{y}<extra></extra>",
         "legendgroup": "2748",
         "marker": {
          "color": "#FF97FF",
          "pattern": {
           "shape": ""
          }
         },
         "name": "2748",
         "offsetgroup": "2748",
         "orientation": "v",
         "showlegend": true,
         "textposition": "auto",
         "type": "bar",
         "x": [
          "2748"
         ],
         "xaxis": "x",
         "y": [
          743.22
         ],
         "yaxis": "y"
        },
        {
         "alignmentgroup": "True",
         "hovertemplate": "公司代號=%{x}<br>營業收入(百萬元)=%{y}<extra></extra>",
         "legendgroup": "2753",
         "marker": {
          "color": "#FECB52",
          "pattern": {
           "shape": ""
          }
         },
         "name": "2753",
         "offsetgroup": "2753",
         "orientation": "v",
         "showlegend": true,
         "textposition": "auto",
         "type": "bar",
         "x": [
          "2753"
         ],
         "xaxis": "x",
         "y": [
          1927.41
         ],
         "yaxis": "y"
        },
        {
         "alignmentgroup": "True",
         "hovertemplate": "公司代號=%{x}<br>營業收入(百萬元)=%{y}<extra></extra>",
         "legendgroup": "2762",
         "marker": {
          "color": "#636efa",
          "pattern": {
           "shape": ""
          }
         },
         "name": "2762",
         "offsetgroup": "2762",
         "orientation": "v",
         "showlegend": true,
         "textposition": "auto",
         "type": "bar",
         "x": [
          "2762"
         ],
         "xaxis": "x",
         "y": [
          2335.61
         ],
         "yaxis": "y"
        },
        {
         "alignmentgroup": "True",
         "hovertemplate": "公司代號=%{x}<br>營業收入(百萬元)=%{y}<extra></extra>",
         "legendgroup": "2816",
         "marker": {
          "color": "#EF553B",
          "pattern": {
           "shape": ""
          }
         },
         "name": "2816",
         "offsetgroup": "2816",
         "orientation": "v",
         "showlegend": true,
         "textposition": "auto",
         "type": "bar",
         "x": [
          "2816"
         ],
         "xaxis": "x",
         "y": [
          2771.18
         ],
         "yaxis": "y"
        },
        {
         "alignmentgroup": "True",
         "hovertemplate": "公司代號=%{x}<br>營業收入(百萬元)=%{y}<extra></extra>",
         "legendgroup": "2832",
         "marker": {
          "color": "#00cc96",
          "pattern": {
           "shape": ""
          }
         },
         "name": "2832",
         "offsetgroup": "2832",
         "orientation": "v",
         "showlegend": true,
         "textposition": "auto",
         "type": "bar",
         "x": [
          "2832"
         ],
         "xaxis": "x",
         "y": [
          1863.76
         ],
         "yaxis": "y"
        },
        {
         "alignmentgroup": "True",
         "hovertemplate": "公司代號=%{x}<br>營業收入(百萬元)=%{y}<extra></extra>",
         "legendgroup": "2850",
         "marker": {
          "color": "#ab63fa",
          "pattern": {
           "shape": ""
          }
         },
         "name": "2850",
         "offsetgroup": "2850",
         "orientation": "v",
         "showlegend": true,
         "textposition": "auto",
         "type": "bar",
         "x": [
          "2850"
         ],
         "xaxis": "x",
         "y": [
          5255.4
         ],
         "yaxis": "y"
        },
        {
         "alignmentgroup": "True",
         "hovertemplate": "公司代號=%{x}<br>營業收入(百萬元)=%{y}<extra></extra>",
         "legendgroup": "2851",
         "marker": {
          "color": "#FFA15A",
          "pattern": {
           "shape": ""
          }
         },
         "name": "2851",
         "offsetgroup": "2851",
         "orientation": "v",
         "showlegend": true,
         "textposition": "auto",
         "type": "bar",
         "x": [
          "2851"
         ],
         "xaxis": "x",
         "y": [
          6377.76
         ],
         "yaxis": "y"
        },
        {
         "alignmentgroup": "True",
         "hovertemplate": "公司代號=%{x}<br>營業收入(百萬元)=%{y}<extra></extra>",
         "legendgroup": "2852",
         "marker": {
          "color": "#19d3f3",
          "pattern": {
           "shape": ""
          }
         },
         "name": "2852",
         "offsetgroup": "2852",
         "orientation": "v",
         "showlegend": true,
         "textposition": "auto",
         "type": "bar",
         "x": [
          "2852"
         ],
         "xaxis": "x",
         "y": [
          1912.98
         ],
         "yaxis": "y"
        },
        {
         "alignmentgroup": "True",
         "hovertemplate": "公司代號=%{x}<br>營業收入(百萬元)=%{y}<extra></extra>",
         "legendgroup": "2867",
         "marker": {
          "color": "#FF6692",
          "pattern": {
           "shape": ""
          }
         },
         "name": "2867",
         "offsetgroup": "2867",
         "orientation": "v",
         "showlegend": true,
         "textposition": "auto",
         "type": "bar",
         "x": [
          "2867"
         ],
         "xaxis": "x",
         "y": [
          40139.28
         ],
         "yaxis": "y"
        },
        {
         "alignmentgroup": "True",
         "hovertemplate": "公司代號=%{x}<br>營業收入(百萬元)=%{y}<extra></extra>",
         "legendgroup": "2901",
         "marker": {
          "color": "#B6E880",
          "pattern": {
           "shape": ""
          }
         },
         "name": "2901",
         "offsetgroup": "2901",
         "orientation": "v",
         "showlegend": true,
         "textposition": "auto",
         "type": "bar",
         "x": [
          "2901"
         ],
         "xaxis": "x",
         "y": [
          34.33
         ],
         "yaxis": "y"
        },
        {
         "alignmentgroup": "True",
         "hovertemplate": "公司代號=%{x}<br>營業收入(百萬元)=%{y}<extra></extra>",
         "legendgroup": "2903",
         "marker": {
          "color": "#FF97FF",
          "pattern": {
           "shape": ""
          }
         },
         "name": "2903",
         "offsetgroup": "2903",
         "orientation": "v",
         "showlegend": true,
         "textposition": "auto",
         "type": "bar",
         "x": [
          "2903"
         ],
         "xaxis": "x",
         "y": [
          8821.08
         ],
         "yaxis": "y"
        },
        {
         "alignmentgroup": "True",
         "hovertemplate": "公司代號=%{x}<br>營業收入(百萬元)=%{y}<extra></extra>",
         "legendgroup": "2904",
         "marker": {
          "color": "#FECB52",
          "pattern": {
           "shape": ""
          }
         },
         "name": "2904",
         "offsetgroup": "2904",
         "orientation": "v",
         "showlegend": true,
         "textposition": "auto",
         "type": "bar",
         "x": [
          "2904"
         ],
         "xaxis": "x",
         "y": [
          114.38
         ],
         "yaxis": "y"
        },
        {
         "alignmentgroup": "True",
         "hovertemplate": "公司代號=%{x}<br>營業收入(百萬元)=%{y}<extra></extra>",
         "legendgroup": "2906",
         "marker": {
          "color": "#636efa",
          "pattern": {
           "shape": ""
          }
         },
         "name": "2906",
         "offsetgroup": "2906",
         "orientation": "v",
         "showlegend": true,
         "textposition": "auto",
         "type": "bar",
         "x": [
          "2906"
         ],
         "xaxis": "x",
         "y": [
          2050.97
         ],
         "yaxis": "y"
        },
        {
         "alignmentgroup": "True",
         "hovertemplate": "公司代號=%{x}<br>營業收入(百萬元)=%{y}<extra></extra>",
         "legendgroup": "2908",
         "marker": {
          "color": "#EF553B",
          "pattern": {
           "shape": ""
          }
         },
         "name": "2908",
         "offsetgroup": "2908",
         "orientation": "v",
         "showlegend": true,
         "textposition": "auto",
         "type": "bar",
         "x": [
          "2908"
         ],
         "xaxis": "x",
         "y": [
          9088.36
         ],
         "yaxis": "y"
        },
        {
         "alignmentgroup": "True",
         "hovertemplate": "公司代號=%{x}<br>營業收入(百萬元)=%{y}<extra></extra>",
         "legendgroup": "2910",
         "marker": {
          "color": "#00cc96",
          "pattern": {
           "shape": ""
          }
         },
         "name": "2910",
         "offsetgroup": "2910",
         "orientation": "v",
         "showlegend": true,
         "textposition": "auto",
         "type": "bar",
         "x": [
          "2910"
         ],
         "xaxis": "x",
         "y": [
          130.62
         ],
         "yaxis": "y"
        },
        {
         "alignmentgroup": "True",
         "hovertemplate": "公司代號=%{x}<br>營業收入(百萬元)=%{y}<extra></extra>",
         "legendgroup": "2911",
         "marker": {
          "color": "#ab63fa",
          "pattern": {
           "shape": ""
          }
         },
         "name": "2911",
         "offsetgroup": "2911",
         "orientation": "v",
         "showlegend": true,
         "textposition": "auto",
         "type": "bar",
         "x": [
          "2911"
         ],
         "xaxis": "x",
         "y": [
          737.05
         ],
         "yaxis": "y"
        },
        {
         "alignmentgroup": "True",
         "hovertemplate": "公司代號=%{x}<br>營業收入(百萬元)=%{y}<extra></extra>",
         "legendgroup": "2912",
         "marker": {
          "color": "#FFA15A",
          "pattern": {
           "shape": ""
          }
         },
         "name": "2912",
         "offsetgroup": "2912",
         "orientation": "v",
         "showlegend": true,
         "textposition": "auto",
         "type": "bar",
         "x": [
          "2912"
         ],
         "xaxis": "x",
         "y": [
          81070.78
         ],
         "yaxis": "y"
        },
        {
         "alignmentgroup": "True",
         "hovertemplate": "公司代號=%{x}<br>營業收入(百萬元)=%{y}<extra></extra>",
         "legendgroup": "2913",
         "marker": {
          "color": "#19d3f3",
          "pattern": {
           "shape": ""
          }
         },
         "name": "2913",
         "offsetgroup": "2913",
         "orientation": "v",
         "showlegend": true,
         "textposition": "auto",
         "type": "bar",
         "x": [
          "2913"
         ],
         "xaxis": "x",
         "y": [
          93.41
         ],
         "yaxis": "y"
        },
        {
         "alignmentgroup": "True",
         "hovertemplate": "公司代號=%{x}<br>營業收入(百萬元)=%{y}<extra></extra>",
         "legendgroup": "2915",
         "marker": {
          "color": "#FF6692",
          "pattern": {
           "shape": ""
          }
         },
         "name": "2915",
         "offsetgroup": "2915",
         "orientation": "v",
         "showlegend": true,
         "textposition": "auto",
         "type": "bar",
         "x": [
          "2915"
         ],
         "xaxis": "x",
         "y": [
          702.43
         ],
         "yaxis": "y"
        },
        {
         "alignmentgroup": "True",
         "hovertemplate": "公司代號=%{x}<br>營業收入(百萬元)=%{y}<extra></extra>",
         "legendgroup": "2923",
         "marker": {
          "color": "#B6E880",
          "pattern": {
           "shape": ""
          }
         },
         "name": "2923",
         "offsetgroup": "2923",
         "orientation": "v",
         "showlegend": true,
         "textposition": "auto",
         "type": "bar",
         "x": [
          "2923"
         ],
         "xaxis": "x",
         "y": [
          4176.63
         ],
         "yaxis": "y"
        },
        {
         "alignmentgroup": "True",
         "hovertemplate": "公司代號=%{x}<br>營業收入(百萬元)=%{y}<extra></extra>",
         "legendgroup": "2929",
         "marker": {
          "color": "#FF97FF",
          "pattern": {
           "shape": ""
          }
         },
         "name": "2929",
         "offsetgroup": "2929",
         "orientation": "v",
         "showlegend": true,
         "textposition": "auto",
         "type": "bar",
         "x": [
          "2929"
         ],
         "xaxis": "x",
         "y": [
          472.55
         ],
         "yaxis": "y"
        },
        {
         "alignmentgroup": "True",
         "hovertemplate": "公司代號=%{x}<br>營業收入(百萬元)=%{y}<extra></extra>",
         "legendgroup": "2939",
         "marker": {
          "color": "#FECB52",
          "pattern": {
           "shape": ""
          }
         },
         "name": "2939",
         "offsetgroup": "2939",
         "orientation": "v",
         "showlegend": true,
         "textposition": "auto",
         "type": "bar",
         "x": [
          "2939"
         ],
         "xaxis": "x",
         "y": [
          59.39
         ],
         "yaxis": "y"
        },
        {
         "alignmentgroup": "True",
         "hovertemplate": "公司代號=%{x}<br>營業收入(百萬元)=%{y}<extra></extra>",
         "legendgroup": "2945",
         "marker": {
          "color": "#636efa",
          "pattern": {
           "shape": ""
          }
         },
         "name": "2945",
         "offsetgroup": "2945",
         "orientation": "v",
         "showlegend": true,
         "textposition": "auto",
         "type": "bar",
         "x": [
          "2945"
         ],
         "xaxis": "x",
         "y": [
          3367.29
         ],
         "yaxis": "y"
        },
        {
         "alignmentgroup": "True",
         "hovertemplate": "公司代號=%{x}<br>營業收入(百萬元)=%{y}<extra></extra>",
         "legendgroup": "3002",
         "marker": {
          "color": "#EF553B",
          "pattern": {
           "shape": ""
          }
         },
         "name": "3002",
         "offsetgroup": "3002",
         "orientation": "v",
         "showlegend": true,
         "textposition": "auto",
         "type": "bar",
         "x": [
          "3002"
         ],
         "xaxis": "x",
         "y": [
          159.09
         ],
         "yaxis": "y"
        },
        {
         "alignmentgroup": "True",
         "hovertemplate": "公司代號=%{x}<br>營業收入(百萬元)=%{y}<extra></extra>",
         "legendgroup": "3003",
         "marker": {
          "color": "#00cc96",
          "pattern": {
           "shape": ""
          }
         },
         "name": "3003",
         "offsetgroup": "3003",
         "orientation": "v",
         "showlegend": true,
         "textposition": "auto",
         "type": "bar",
         "x": [
          "3003"
         ],
         "xaxis": "x",
         "y": [
          1026.51
         ],
         "yaxis": "y"
        },
        {
         "alignmentgroup": "True",
         "hovertemplate": "公司代號=%{x}<br>營業收入(百萬元)=%{y}<extra></extra>",
         "legendgroup": "3004",
         "marker": {
          "color": "#ab63fa",
          "pattern": {
           "shape": ""
          }
         },
         "name": "3004",
         "offsetgroup": "3004",
         "orientation": "v",
         "showlegend": true,
         "textposition": "auto",
         "type": "bar",
         "x": [
          "3004"
         ],
         "xaxis": "x",
         "y": [
          835.06
         ],
         "yaxis": "y"
        },
        {
         "alignmentgroup": "True",
         "hovertemplate": "公司代號=%{x}<br>營業收入(百萬元)=%{y}<extra></extra>",
         "legendgroup": "3005",
         "marker": {
          "color": "#FFA15A",
          "pattern": {
           "shape": ""
          }
         },
         "name": "3005",
         "offsetgroup": "3005",
         "orientation": "v",
         "showlegend": true,
         "textposition": "auto",
         "type": "bar",
         "x": [
          "3005"
         ],
         "xaxis": "x",
         "y": [
          8705.37
         ],
         "yaxis": "y"
        },
        {
         "alignmentgroup": "True",
         "hovertemplate": "公司代號=%{x}<br>營業收入(百萬元)=%{y}<extra></extra>",
         "legendgroup": "3006",
         "marker": {
          "color": "#19d3f3",
          "pattern": {
           "shape": ""
          }
         },
         "name": "3006",
         "offsetgroup": "3006",
         "orientation": "v",
         "showlegend": true,
         "textposition": "auto",
         "type": "bar",
         "x": [
          "3006"
         ],
         "xaxis": "x",
         "y": [
          3337.96
         ],
         "yaxis": "y"
        },
        {
         "alignmentgroup": "True",
         "hovertemplate": "公司代號=%{x}<br>營業收入(百萬元)=%{y}<extra></extra>",
         "legendgroup": "3008",
         "marker": {
          "color": "#FF6692",
          "pattern": {
           "shape": ""
          }
         },
         "name": "3008",
         "offsetgroup": "3008",
         "orientation": "v",
         "showlegend": true,
         "textposition": "auto",
         "type": "bar",
         "x": [
          "3008"
         ],
         "xaxis": "x",
         "y": [
          11313.19
         ],
         "yaxis": "y"
        },
        {
         "alignmentgroup": "True",
         "hovertemplate": "公司代號=%{x}<br>營業收入(百萬元)=%{y}<extra></extra>",
         "legendgroup": "3010",
         "marker": {
          "color": "#B6E880",
          "pattern": {
           "shape": ""
          }
         },
         "name": "3010",
         "offsetgroup": "3010",
         "orientation": "v",
         "showlegend": true,
         "textposition": "auto",
         "type": "bar",
         "x": [
          "3010"
         ],
         "xaxis": "x",
         "y": [
          17250.87
         ],
         "yaxis": "y"
        },
        {
         "alignmentgroup": "True",
         "hovertemplate": "公司代號=%{x}<br>營業收入(百萬元)=%{y}<extra></extra>",
         "legendgroup": "3011",
         "marker": {
          "color": "#FF97FF",
          "pattern": {
           "shape": ""
          }
         },
         "name": "3011",
         "offsetgroup": "3011",
         "orientation": "v",
         "showlegend": true,
         "textposition": "auto",
         "type": "bar",
         "x": [
          "3011"
         ],
         "xaxis": "x",
         "y": [
          264.25
         ],
         "yaxis": "y"
        },
        {
         "alignmentgroup": "True",
         "hovertemplate": "公司代號=%{x}<br>營業收入(百萬元)=%{y}<extra></extra>",
         "legendgroup": "3013",
         "marker": {
          "color": "#FECB52",
          "pattern": {
           "shape": ""
          }
         },
         "name": "3013",
         "offsetgroup": "3013",
         "orientation": "v",
         "showlegend": true,
         "textposition": "auto",
         "type": "bar",
         "x": [
          "3013"
         ],
         "xaxis": "x",
         "y": [
          1459.17
         ],
         "yaxis": "y"
        },
        {
         "alignmentgroup": "True",
         "hovertemplate": "公司代號=%{x}<br>營業收入(百萬元)=%{y}<extra></extra>",
         "legendgroup": "3014",
         "marker": {
          "color": "#636efa",
          "pattern": {
           "shape": ""
          }
         },
         "name": "3014",
         "offsetgroup": "3014",
         "orientation": "v",
         "showlegend": true,
         "textposition": "auto",
         "type": "bar",
         "x": [
          "3014"
         ],
         "xaxis": "x",
         "y": [
          1512.35
         ],
         "yaxis": "y"
        },
        {
         "alignmentgroup": "True",
         "hovertemplate": "公司代號=%{x}<br>營業收入(百萬元)=%{y}<extra></extra>",
         "legendgroup": "3015",
         "marker": {
          "color": "#EF553B",
          "pattern": {
           "shape": ""
          }
         },
         "name": "3015",
         "offsetgroup": "3015",
         "orientation": "v",
         "showlegend": true,
         "textposition": "auto",
         "type": "bar",
         "x": [
          "3015"
         ],
         "xaxis": "x",
         "y": [
          2706.53
         ],
         "yaxis": "y"
        },
        {
         "alignmentgroup": "True",
         "hovertemplate": "公司代號=%{x}<br>營業收入(百萬元)=%{y}<extra></extra>",
         "legendgroup": "3016",
         "marker": {
          "color": "#00cc96",
          "pattern": {
           "shape": ""
          }
         },
         "name": "3016",
         "offsetgroup": "3016",
         "orientation": "v",
         "showlegend": true,
         "textposition": "auto",
         "type": "bar",
         "x": [
          "3016"
         ],
         "xaxis": "x",
         "y": [
          1030.06
         ],
         "yaxis": "y"
        },
        {
         "alignmentgroup": "True",
         "hovertemplate": "公司代號=%{x}<br>營業收入(百萬元)=%{y}<extra></extra>",
         "legendgroup": "3017",
         "marker": {
          "color": "#ab63fa",
          "pattern": {
           "shape": ""
          }
         },
         "name": "3017",
         "offsetgroup": "3017",
         "orientation": "v",
         "showlegend": true,
         "textposition": "auto",
         "type": "bar",
         "x": [
          "3017"
         ],
         "xaxis": "x",
         "y": [
          15308.69
         ],
         "yaxis": "y"
        },
        {
         "alignmentgroup": "True",
         "hovertemplate": "公司代號=%{x}<br>營業收入(百萬元)=%{y}<extra></extra>",
         "legendgroup": "3018",
         "marker": {
          "color": "#FFA15A",
          "pattern": {
           "shape": ""
          }
         },
         "name": "3018",
         "offsetgroup": "3018",
         "orientation": "v",
         "showlegend": true,
         "textposition": "auto",
         "type": "bar",
         "x": [
          "3018"
         ],
         "xaxis": "x",
         "y": [
          97.61
         ],
         "yaxis": "y"
        },
        {
         "alignmentgroup": "True",
         "hovertemplate": "公司代號=%{x}<br>營業收入(百萬元)=%{y}<extra></extra>",
         "legendgroup": "3019",
         "marker": {
          "color": "#19d3f3",
          "pattern": {
           "shape": ""
          }
         },
         "name": "3019",
         "offsetgroup": "3019",
         "orientation": "v",
         "showlegend": true,
         "textposition": "auto",
         "type": "bar",
         "x": [
          "3019"
         ],
         "xaxis": "x",
         "y": [
          4288.39
         ],
         "yaxis": "y"
        },
        {
         "alignmentgroup": "True",
         "hovertemplate": "公司代號=%{x}<br>營業收入(百萬元)=%{y}<extra></extra>",
         "legendgroup": "3021",
         "marker": {
          "color": "#FF6692",
          "pattern": {
           "shape": ""
          }
         },
         "name": "3021",
         "offsetgroup": "3021",
         "orientation": "v",
         "showlegend": true,
         "textposition": "auto",
         "type": "bar",
         "x": [
          "3021"
         ],
         "xaxis": "x",
         "y": [
          762.98
         ],
         "yaxis": "y"
        },
        {
         "alignmentgroup": "True",
         "hovertemplate": "公司代號=%{x}<br>營業收入(百萬元)=%{y}<extra></extra>",
         "legendgroup": "3022",
         "marker": {
          "color": "#B6E880",
          "pattern": {
           "shape": ""
          }
         },
         "name": "3022",
         "offsetgroup": "3022",
         "orientation": "v",
         "showlegend": true,
         "textposition": "auto",
         "type": "bar",
         "x": [
          "3022"
         ],
         "xaxis": "x",
         "y": [
          1704.29
         ],
         "yaxis": "y"
        },
        {
         "alignmentgroup": "True",
         "hovertemplate": "公司代號=%{x}<br>營業收入(百萬元)=%{y}<extra></extra>",
         "legendgroup": "3023",
         "marker": {
          "color": "#FF97FF",
          "pattern": {
           "shape": ""
          }
         },
         "name": "3023",
         "offsetgroup": "3023",
         "orientation": "v",
         "showlegend": true,
         "textposition": "auto",
         "type": "bar",
         "x": [
          "3023"
         ],
         "xaxis": "x",
         "y": [
          8035.89
         ],
         "yaxis": "y"
        },
        {
         "alignmentgroup": "True",
         "hovertemplate": "公司代號=%{x}<br>營業收入(百萬元)=%{y}<extra></extra>",
         "legendgroup": "3024",
         "marker": {
          "color": "#FECB52",
          "pattern": {
           "shape": ""
          }
         },
         "name": "3024",
         "offsetgroup": "3024",
         "orientation": "v",
         "showlegend": true,
         "textposition": "auto",
         "type": "bar",
         "x": [
          "3024"
         ],
         "xaxis": "x",
         "y": [
          348.23
         ],
         "yaxis": "y"
        },
        {
         "alignmentgroup": "True",
         "hovertemplate": "公司代號=%{x}<br>營業收入(百萬元)=%{y}<extra></extra>",
         "legendgroup": "3025",
         "marker": {
          "color": "#636efa",
          "pattern": {
           "shape": ""
          }
         },
         "name": "3025",
         "offsetgroup": "3025",
         "orientation": "v",
         "showlegend": true,
         "textposition": "auto",
         "type": "bar",
         "x": [
          "3025"
         ],
         "xaxis": "x",
         "y": [
          113.88
         ],
         "yaxis": "y"
        },
        {
         "alignmentgroup": "True",
         "hovertemplate": "公司代號=%{x}<br>營業收入(百萬元)=%{y}<extra></extra>",
         "legendgroup": "3026",
         "marker": {
          "color": "#EF553B",
          "pattern": {
           "shape": ""
          }
         },
         "name": "3026",
         "offsetgroup": "3026",
         "orientation": "v",
         "showlegend": true,
         "textposition": "auto",
         "type": "bar",
         "x": [
          "3026"
         ],
         "xaxis": "x",
         "y": [
          2939.49
         ],
         "yaxis": "y"
        },
        {
         "alignmentgroup": "True",
         "hovertemplate": "公司代號=%{x}<br>營業收入(百萬元)=%{y}<extra></extra>",
         "legendgroup": "3027",
         "marker": {
          "color": "#00cc96",
          "pattern": {
           "shape": ""
          }
         },
         "name": "3027",
         "offsetgroup": "3027",
         "orientation": "v",
         "showlegend": true,
         "textposition": "auto",
         "type": "bar",
         "x": [
          "3027"
         ],
         "xaxis": "x",
         "y": [
          528.94
         ],
         "yaxis": "y"
        },
        {
         "alignmentgroup": "True",
         "hovertemplate": "公司代號=%{x}<br>營業收入(百萬元)=%{y}<extra></extra>",
         "legendgroup": "3028",
         "marker": {
          "color": "#ab63fa",
          "pattern": {
           "shape": ""
          }
         },
         "name": "3028",
         "offsetgroup": "3028",
         "orientation": "v",
         "showlegend": true,
         "textposition": "auto",
         "type": "bar",
         "x": [
          "3028"
         ],
         "xaxis": "x",
         "y": [
          8565.49
         ],
         "yaxis": "y"
        },
        {
         "alignmentgroup": "True",
         "hovertemplate": "公司代號=%{x}<br>營業收入(百萬元)=%{y}<extra></extra>",
         "legendgroup": "3029",
         "marker": {
          "color": "#FFA15A",
          "pattern": {
           "shape": ""
          }
         },
         "name": "3029",
         "offsetgroup": "3029",
         "orientation": "v",
         "showlegend": true,
         "textposition": "auto",
         "type": "bar",
         "x": [
          "3029"
         ],
         "xaxis": "x",
         "y": [
          4005.21
         ],
         "yaxis": "y"
        },
        {
         "alignmentgroup": "True",
         "hovertemplate": "公司代號=%{x}<br>營業收入(百萬元)=%{y}<extra></extra>",
         "legendgroup": "3030",
         "marker": {
          "color": "#19d3f3",
          "pattern": {
           "shape": ""
          }
         },
         "name": "3030",
         "offsetgroup": "3030",
         "orientation": "v",
         "showlegend": true,
         "textposition": "auto",
         "type": "bar",
         "x": [
          "3030"
         ],
         "xaxis": "x",
         "y": [
          1510.65
         ],
         "yaxis": "y"
        },
        {
         "alignmentgroup": "True",
         "hovertemplate": "公司代號=%{x}<br>營業收入(百萬元)=%{y}<extra></extra>",
         "legendgroup": "3031",
         "marker": {
          "color": "#FF6692",
          "pattern": {
           "shape": ""
          }
         },
         "name": "3031",
         "offsetgroup": "3031",
         "orientation": "v",
         "showlegend": true,
         "textposition": "auto",
         "type": "bar",
         "x": [
          "3031"
         ],
         "xaxis": "x",
         "y": [
          268.37
         ],
         "yaxis": "y"
        },
        {
         "alignmentgroup": "True",
         "hovertemplate": "公司代號=%{x}<br>營業收入(百萬元)=%{y}<extra></extra>",
         "legendgroup": "3032",
         "marker": {
          "color": "#B6E880",
          "pattern": {
           "shape": ""
          }
         },
         "name": "3032",
         "offsetgroup": "3032",
         "orientation": "v",
         "showlegend": true,
         "textposition": "auto",
         "type": "bar",
         "x": [
          "3032"
         ],
         "xaxis": "x",
         "y": [
          2026.15
         ],
         "yaxis": "y"
        },
        {
         "alignmentgroup": "True",
         "hovertemplate": "公司代號=%{x}<br>營業收入(百萬元)=%{y}<extra></extra>",
         "legendgroup": "3033",
         "marker": {
          "color": "#FF97FF",
          "pattern": {
           "shape": ""
          }
         },
         "name": "3033",
         "offsetgroup": "3033",
         "orientation": "v",
         "showlegend": true,
         "textposition": "auto",
         "type": "bar",
         "x": [
          "3033"
         ],
         "xaxis": "x",
         "y": [
          18444.28
         ],
         "yaxis": "y"
        },
        {
         "alignmentgroup": "True",
         "hovertemplate": "公司代號=%{x}<br>營業收入(百萬元)=%{y}<extra></extra>",
         "legendgroup": "3034",
         "marker": {
          "color": "#FECB52",
          "pattern": {
           "shape": ""
          }
         },
         "name": "3034",
         "offsetgroup": "3034",
         "orientation": "v",
         "showlegend": true,
         "textposition": "auto",
         "type": "bar",
         "x": [
          "3034"
         ],
         "xaxis": "x",
         "y": [
          24427.89
         ],
         "yaxis": "y"
        },
        {
         "alignmentgroup": "True",
         "hovertemplate": "公司代號=%{x}<br>營業收入(百萬元)=%{y}<extra></extra>",
         "legendgroup": "3035",
         "marker": {
          "color": "#636efa",
          "pattern": {
           "shape": ""
          }
         },
         "name": "3035",
         "offsetgroup": "3035",
         "orientation": "v",
         "showlegend": true,
         "textposition": "auto",
         "type": "bar",
         "x": [
          "3035"
         ],
         "xaxis": "x",
         "y": [
          2578.63
         ],
         "yaxis": "y"
        },
        {
         "alignmentgroup": "True",
         "hovertemplate": "公司代號=%{x}<br>營業收入(百萬元)=%{y}<extra></extra>",
         "legendgroup": "3036",
         "marker": {
          "color": "#EF553B",
          "pattern": {
           "shape": ""
          }
         },
         "name": "3036",
         "offsetgroup": "3036",
         "orientation": "v",
         "showlegend": true,
         "textposition": "auto",
         "type": "bar",
         "x": [
          "3036"
         ],
         "xaxis": "x",
         "y": [
          192651.37
         ],
         "yaxis": "y"
        },
        {
         "alignmentgroup": "True",
         "hovertemplate": "公司代號=%{x}<br>營業收入(百萬元)=%{y}<extra></extra>",
         "legendgroup": "3037",
         "marker": {
          "color": "#00cc96",
          "pattern": {
           "shape": ""
          }
         },
         "name": "3037",
         "offsetgroup": "3037",
         "orientation": "v",
         "showlegend": true,
         "textposition": "auto",
         "type": "bar",
         "x": [
          "3037"
         ],
         "xaxis": "x",
         "y": [
          26402.82
         ],
         "yaxis": "y"
        },
        {
         "alignmentgroup": "True",
         "hovertemplate": "公司代號=%{x}<br>營業收入(百萬元)=%{y}<extra></extra>",
         "legendgroup": "3038",
         "marker": {
          "color": "#ab63fa",
          "pattern": {
           "shape": ""
          }
         },
         "name": "3038",
         "offsetgroup": "3038",
         "orientation": "v",
         "showlegend": true,
         "textposition": "auto",
         "type": "bar",
         "x": [
          "3038"
         ],
         "xaxis": "x",
         "y": [
          949.64
         ],
         "yaxis": "y"
        },
        {
         "alignmentgroup": "True",
         "hovertemplate": "公司代號=%{x}<br>營業收入(百萬元)=%{y}<extra></extra>",
         "legendgroup": "3040",
         "marker": {
          "color": "#FFA15A",
          "pattern": {
           "shape": ""
          }
         },
         "name": "3040",
         "offsetgroup": "3040",
         "orientation": "v",
         "showlegend": true,
         "textposition": "auto",
         "type": "bar",
         "x": [
          "3040"
         ],
         "xaxis": "x",
         "y": [
          32.07
         ],
         "yaxis": "y"
        },
        {
         "alignmentgroup": "True",
         "hovertemplate": "公司代號=%{x}<br>營業收入(百萬元)=%{y}<extra></extra>",
         "legendgroup": "3041",
         "marker": {
          "color": "#19d3f3",
          "pattern": {
           "shape": ""
          }
         },
         "name": "3041",
         "offsetgroup": "3041",
         "orientation": "v",
         "showlegend": true,
         "textposition": "auto",
         "type": "bar",
         "x": [
          "3041"
         ],
         "xaxis": "x",
         "y": [
          394.31
         ],
         "yaxis": "y"
        },
        {
         "alignmentgroup": "True",
         "hovertemplate": "公司代號=%{x}<br>營業收入(百萬元)=%{y}<extra></extra>",
         "legendgroup": "3042",
         "marker": {
          "color": "#FF6692",
          "pattern": {
           "shape": ""
          }
         },
         "name": "3042",
         "offsetgroup": "3042",
         "orientation": "v",
         "showlegend": true,
         "textposition": "auto",
         "type": "bar",
         "x": [
          "3042"
         ],
         "xaxis": "x",
         "y": [
          2753.58
         ],
         "yaxis": "y"
        },
        {
         "alignmentgroup": "True",
         "hovertemplate": "公司代號=%{x}<br>營業收入(百萬元)=%{y}<extra></extra>",
         "legendgroup": "3043",
         "marker": {
          "color": "#B6E880",
          "pattern": {
           "shape": ""
          }
         },
         "name": "3043",
         "offsetgroup": "3043",
         "orientation": "v",
         "showlegend": true,
         "textposition": "auto",
         "type": "bar",
         "x": [
          "3043"
         ],
         "xaxis": "x",
         "y": [
          173.08
         ],
         "yaxis": "y"
        },
        {
         "alignmentgroup": "True",
         "hovertemplate": "公司代號=%{x}<br>營業收入(百萬元)=%{y}<extra></extra>",
         "legendgroup": "3044",
         "marker": {
          "color": "#FF97FF",
          "pattern": {
           "shape": ""
          }
         },
         "name": "3044",
         "offsetgroup": "3044",
         "orientation": "v",
         "showlegend": true,
         "textposition": "auto",
         "type": "bar",
         "x": [
          "3044"
         ],
         "xaxis": "x",
         "y": [
          15285.32
         ],
         "yaxis": "y"
        },
        {
         "alignmentgroup": "True",
         "hovertemplate": "公司代號=%{x}<br>營業收入(百萬元)=%{y}<extra></extra>",
         "legendgroup": "3045",
         "marker": {
          "color": "#FECB52",
          "pattern": {
           "shape": ""
          }
         },
         "name": "3045",
         "offsetgroup": "3045",
         "orientation": "v",
         "showlegend": true,
         "textposition": "auto",
         "type": "bar",
         "x": [
          "3045"
         ],
         "xaxis": "x",
         "y": [
          48276.63
         ],
         "yaxis": "y"
        },
        {
         "alignmentgroup": "True",
         "hovertemplate": "公司代號=%{x}<br>營業收入(百萬元)=%{y}<extra></extra>",
         "legendgroup": "3046",
         "marker": {
          "color": "#636efa",
          "pattern": {
           "shape": ""
          }
         },
         "name": "3046",
         "offsetgroup": "3046",
         "orientation": "v",
         "showlegend": true,
         "textposition": "auto",
         "type": "bar",
         "x": [
          "3046"
         ],
         "xaxis": "x",
         "y": [
          1579.69
         ],
         "yaxis": "y"
        },
        {
         "alignmentgroup": "True",
         "hovertemplate": "公司代號=%{x}<br>營業收入(百萬元)=%{y}<extra></extra>",
         "legendgroup": "3047",
         "marker": {
          "color": "#EF553B",
          "pattern": {
           "shape": ""
          }
         },
         "name": "3047",
         "offsetgroup": "3047",
         "orientation": "v",
         "showlegend": true,
         "textposition": "auto",
         "type": "bar",
         "x": [
          "3047"
         ],
         "xaxis": "x",
         "y": [
          959.26
         ],
         "yaxis": "y"
        },
        {
         "alignmentgroup": "True",
         "hovertemplate": "公司代號=%{x}<br>營業收入(百萬元)=%{y}<extra></extra>",
         "legendgroup": "3048",
         "marker": {
          "color": "#00cc96",
          "pattern": {
           "shape": ""
          }
         },
         "name": "3048",
         "offsetgroup": "3048",
         "orientation": "v",
         "showlegend": true,
         "textposition": "auto",
         "type": "bar",
         "x": [
          "3048"
         ],
         "xaxis": "x",
         "y": [
          24715.48
         ],
         "yaxis": "y"
        },
        {
         "alignmentgroup": "True",
         "hovertemplate": "公司代號=%{x}<br>營業收入(百萬元)=%{y}<extra></extra>",
         "legendgroup": "3049",
         "marker": {
          "color": "#ab63fa",
          "pattern": {
           "shape": ""
          }
         },
         "name": "3049",
         "offsetgroup": "3049",
         "orientation": "v",
         "showlegend": true,
         "textposition": "auto",
         "type": "bar",
         "x": [
          "3049"
         ],
         "xaxis": "x",
         "y": [
          296.02
         ],
         "yaxis": "y"
        },
        {
         "alignmentgroup": "True",
         "hovertemplate": "公司代號=%{x}<br>營業收入(百萬元)=%{y}<extra></extra>",
         "legendgroup": "3050",
         "marker": {
          "color": "#FFA15A",
          "pattern": {
           "shape": ""
          }
         },
         "name": "3050",
         "offsetgroup": "3050",
         "orientation": "v",
         "showlegend": true,
         "textposition": "auto",
         "type": "bar",
         "x": [
          "3050"
         ],
         "xaxis": "x",
         "y": [
          305.73
         ],
         "yaxis": "y"
        },
        {
         "alignmentgroup": "True",
         "hovertemplate": "公司代號=%{x}<br>營業收入(百萬元)=%{y}<extra></extra>",
         "legendgroup": "3051",
         "marker": {
          "color": "#19d3f3",
          "pattern": {
           "shape": ""
          }
         },
         "name": "3051",
         "offsetgroup": "3051",
         "orientation": "v",
         "showlegend": true,
         "textposition": "auto",
         "type": "bar",
         "x": [
          "3051"
         ],
         "xaxis": "x",
         "y": [
          379.22
         ],
         "yaxis": "y"
        },
        {
         "alignmentgroup": "True",
         "hovertemplate": "公司代號=%{x}<br>營業收入(百萬元)=%{y}<extra></extra>",
         "legendgroup": "3052",
         "marker": {
          "color": "#FF6692",
          "pattern": {
           "shape": ""
          }
         },
         "name": "3052",
         "offsetgroup": "3052",
         "orientation": "v",
         "showlegend": true,
         "textposition": "auto",
         "type": "bar",
         "x": [
          "3052"
         ],
         "xaxis": "x",
         "y": [
          697.68
         ],
         "yaxis": "y"
        },
        {
         "alignmentgroup": "True",
         "hovertemplate": "公司代號=%{x}<br>營業收入(百萬元)=%{y}<extra></extra>",
         "legendgroup": "3054",
         "marker": {
          "color": "#B6E880",
          "pattern": {
           "shape": ""
          }
         },
         "name": "3054",
         "offsetgroup": "3054",
         "orientation": "v",
         "showlegend": true,
         "textposition": "auto",
         "type": "bar",
         "x": [
          "3054"
         ],
         "xaxis": "x",
         "y": [
          35.05
         ],
         "yaxis": "y"
        },
        {
         "alignmentgroup": "True",
         "hovertemplate": "公司代號=%{x}<br>營業收入(百萬元)=%{y}<extra></extra>",
         "legendgroup": "3055",
         "marker": {
          "color": "#FF97FF",
          "pattern": {
           "shape": ""
          }
         },
         "name": "3055",
         "offsetgroup": "3055",
         "orientation": "v",
         "showlegend": true,
         "textposition": "auto",
         "type": "bar",
         "x": [
          "3055"
         ],
         "xaxis": "x",
         "y": [
          223.06
         ],
         "yaxis": "y"
        },
        {
         "alignmentgroup": "True",
         "hovertemplate": "公司代號=%{x}<br>營業收入(百萬元)=%{y}<extra></extra>",
         "legendgroup": "3056",
         "marker": {
          "color": "#FECB52",
          "pattern": {
           "shape": ""
          }
         },
         "name": "3056",
         "offsetgroup": "3056",
         "orientation": "v",
         "showlegend": true,
         "textposition": "auto",
         "type": "bar",
         "x": [
          "3056"
         ],
         "xaxis": "x",
         "y": [
          35.82
         ],
         "yaxis": "y"
        },
        {
         "alignmentgroup": "True",
         "hovertemplate": "公司代號=%{x}<br>營業收入(百萬元)=%{y}<extra></extra>",
         "legendgroup": "3057",
         "marker": {
          "color": "#636efa",
          "pattern": {
           "shape": ""
          }
         },
         "name": "3057",
         "offsetgroup": "3057",
         "orientation": "v",
         "showlegend": true,
         "textposition": "auto",
         "type": "bar",
         "x": [
          "3057"
         ],
         "xaxis": "x",
         "y": [
          140.42
         ],
         "yaxis": "y"
        },
        {
         "alignmentgroup": "True",
         "hovertemplate": "公司代號=%{x}<br>營業收入(百萬元)=%{y}<extra></extra>",
         "legendgroup": "3058",
         "marker": {
          "color": "#EF553B",
          "pattern": {
           "shape": ""
          }
         },
         "name": "3058",
         "offsetgroup": "3058",
         "orientation": "v",
         "showlegend": true,
         "textposition": "auto",
         "type": "bar",
         "x": [
          "3058"
         ],
         "xaxis": "x",
         "y": [
          761.82
         ],
         "yaxis": "y"
        },
        {
         "alignmentgroup": "True",
         "hovertemplate": "公司代號=%{x}<br>營業收入(百萬元)=%{y}<extra></extra>",
         "legendgroup": "3059",
         "marker": {
          "color": "#00cc96",
          "pattern": {
           "shape": ""
          }
         },
         "name": "3059",
         "offsetgroup": "3059",
         "orientation": "v",
         "showlegend": true,
         "textposition": "auto",
         "type": "bar",
         "x": [
          "3059"
         ],
         "xaxis": "x",
         "y": [
          1599.84
         ],
         "yaxis": "y"
        },
        {
         "alignmentgroup": "True",
         "hovertemplate": "公司代號=%{x}<br>營業收入(百萬元)=%{y}<extra></extra>",
         "legendgroup": "3060",
         "marker": {
          "color": "#ab63fa",
          "pattern": {
           "shape": ""
          }
         },
         "name": "3060",
         "offsetgroup": "3060",
         "orientation": "v",
         "showlegend": true,
         "textposition": "auto",
         "type": "bar",
         "x": [
          "3060"
         ],
         "xaxis": "x",
         "y": [
          778.9
         ],
         "yaxis": "y"
        },
        {
         "alignmentgroup": "True",
         "hovertemplate": "公司代號=%{x}<br>營業收入(百萬元)=%{y}<extra></extra>",
         "legendgroup": "3062",
         "marker": {
          "color": "#FFA15A",
          "pattern": {
           "shape": ""
          }
         },
         "name": "3062",
         "offsetgroup": "3062",
         "orientation": "v",
         "showlegend": true,
         "textposition": "auto",
         "type": "bar",
         "x": [
          "3062"
         ],
         "xaxis": "x",
         "y": [
          659.08
         ],
         "yaxis": "y"
        },
        {
         "alignmentgroup": "True",
         "hovertemplate": "公司代號=%{x}<br>營業收入(百萬元)=%{y}<extra></extra>",
         "legendgroup": "3090",
         "marker": {
          "color": "#19d3f3",
          "pattern": {
           "shape": ""
          }
         },
         "name": "3090",
         "offsetgroup": "3090",
         "orientation": "v",
         "showlegend": true,
         "textposition": "auto",
         "type": "bar",
         "x": [
          "3090"
         ],
         "xaxis": "x",
         "y": [
          2854.63
         ],
         "yaxis": "y"
        },
        {
         "alignmentgroup": "True",
         "hovertemplate": "公司代號=%{x}<br>營業收入(百萬元)=%{y}<extra></extra>",
         "legendgroup": "3092",
         "marker": {
          "color": "#FF6692",
          "pattern": {
           "shape": ""
          }
         },
         "name": "3092",
         "offsetgroup": "3092",
         "orientation": "v",
         "showlegend": true,
         "textposition": "auto",
         "type": "bar",
         "x": [
          "3092"
         ],
         "xaxis": "x",
         "y": [
          449.89
         ],
         "yaxis": "y"
        },
        {
         "alignmentgroup": "True",
         "hovertemplate": "公司代號=%{x}<br>營業收入(百萬元)=%{y}<extra></extra>",
         "legendgroup": "3094",
         "marker": {
          "color": "#B6E880",
          "pattern": {
           "shape": ""
          }
         },
         "name": "3094",
         "offsetgroup": "3094",
         "orientation": "v",
         "showlegend": true,
         "textposition": "auto",
         "type": "bar",
         "x": [
          "3094"
         ],
         "xaxis": "x",
         "y": [
          36.92
         ],
         "yaxis": "y"
        },
        {
         "alignmentgroup": "True",
         "hovertemplate": "公司代號=%{x}<br>營業收入(百萬元)=%{y}<extra></extra>",
         "legendgroup": "3130",
         "marker": {
          "color": "#FF97FF",
          "pattern": {
           "shape": ""
          }
         },
         "name": "3130",
         "offsetgroup": "3130",
         "orientation": "v",
         "showlegend": true,
         "textposition": "auto",
         "type": "bar",
         "x": [
          "3130"
         ],
         "xaxis": "x",
         "y": [
          562.75
         ],
         "yaxis": "y"
        },
        {
         "alignmentgroup": "True",
         "hovertemplate": "公司代號=%{x}<br>營業收入(百萬元)=%{y}<extra></extra>",
         "legendgroup": "3138",
         "marker": {
          "color": "#FECB52",
          "pattern": {
           "shape": ""
          }
         },
         "name": "3138",
         "offsetgroup": "3138",
         "orientation": "v",
         "showlegend": true,
         "textposition": "auto",
         "type": "bar",
         "x": [
          "3138"
         ],
         "xaxis": "x",
         "y": [
          367.33
         ],
         "yaxis": "y"
        },
        {
         "alignmentgroup": "True",
         "hovertemplate": "公司代號=%{x}<br>營業收入(百萬元)=%{y}<extra></extra>",
         "legendgroup": "3149",
         "marker": {
          "color": "#636efa",
          "pattern": {
           "shape": ""
          }
         },
         "name": "3149",
         "offsetgroup": "3149",
         "orientation": "v",
         "showlegend": true,
         "textposition": "auto",
         "type": "bar",
         "x": [
          "3149"
         ],
         "xaxis": "x",
         "y": [
          412.89
         ],
         "yaxis": "y"
        },
        {
         "alignmentgroup": "True",
         "hovertemplate": "公司代號=%{x}<br>營業收入(百萬元)=%{y}<extra></extra>",
         "legendgroup": "3164",
         "marker": {
          "color": "#EF553B",
          "pattern": {
           "shape": ""
          }
         },
         "name": "3164",
         "offsetgroup": "3164",
         "orientation": "v",
         "showlegend": true,
         "textposition": "auto",
         "type": "bar",
         "x": [
          "3164"
         ],
         "xaxis": "x",
         "y": [
          116.42
         ],
         "yaxis": "y"
        },
        {
         "alignmentgroup": "True",
         "hovertemplate": "公司代號=%{x}<br>營業收入(百萬元)=%{y}<extra></extra>",
         "legendgroup": "3167",
         "marker": {
          "color": "#00cc96",
          "pattern": {
           "shape": ""
          }
         },
         "name": "3167",
         "offsetgroup": "3167",
         "orientation": "v",
         "showlegend": true,
         "textposition": "auto",
         "type": "bar",
         "x": [
          "3167"
         ],
         "xaxis": "x",
         "y": [
          398.81
         ],
         "yaxis": "y"
        },
        {
         "alignmentgroup": "True",
         "hovertemplate": "公司代號=%{x}<br>營業收入(百萬元)=%{y}<extra></extra>",
         "legendgroup": "3168",
         "marker": {
          "color": "#ab63fa",
          "pattern": {
           "shape": ""
          }
         },
         "name": "3168",
         "offsetgroup": "3168",
         "orientation": "v",
         "showlegend": true,
         "textposition": "auto",
         "type": "bar",
         "x": [
          "3168"
         ],
         "xaxis": "x",
         "y": [
          861.39
         ],
         "yaxis": "y"
        },
        {
         "alignmentgroup": "True",
         "hovertemplate": "公司代號=%{x}<br>營業收入(百萬元)=%{y}<extra></extra>",
         "legendgroup": "3189",
         "marker": {
          "color": "#FFA15A",
          "pattern": {
           "shape": ""
          }
         },
         "name": "3189",
         "offsetgroup": "3189",
         "orientation": "v",
         "showlegend": true,
         "textposition": "auto",
         "type": "bar",
         "x": [
          "3189"
         ],
         "xaxis": "x",
         "y": [
          6994.38
         ],
         "yaxis": "y"
        },
        {
         "alignmentgroup": "True",
         "hovertemplate": "公司代號=%{x}<br>營業收入(百萬元)=%{y}<extra></extra>",
         "legendgroup": "3209",
         "marker": {
          "color": "#19d3f3",
          "pattern": {
           "shape": ""
          }
         },
         "name": "3209",
         "offsetgroup": "3209",
         "orientation": "v",
         "showlegend": true,
         "textposition": "auto",
         "type": "bar",
         "x": [
          "3209"
         ],
         "xaxis": "x",
         "y": [
          10791.08
         ],
         "yaxis": "y"
        },
        {
         "alignmentgroup": "True",
         "hovertemplate": "公司代號=%{x}<br>營業收入(百萬元)=%{y}<extra></extra>",
         "legendgroup": "3229",
         "marker": {
          "color": "#FF6692",
          "pattern": {
           "shape": ""
          }
         },
         "name": "3229",
         "offsetgroup": "3229",
         "orientation": "v",
         "showlegend": true,
         "textposition": "auto",
         "type": "bar",
         "x": [
          "3229"
         ],
         "xaxis": "x",
         "y": [
          202.89
         ],
         "yaxis": "y"
        },
        {
         "alignmentgroup": "True",
         "hovertemplate": "公司代號=%{x}<br>營業收入(百萬元)=%{y}<extra></extra>",
         "legendgroup": "3231",
         "marker": {
          "color": "#B6E880",
          "pattern": {
           "shape": ""
          }
         },
         "name": "3231",
         "offsetgroup": "3231",
         "orientation": "v",
         "showlegend": true,
         "textposition": "auto",
         "type": "bar",
         "x": [
          "3231"
         ],
         "xaxis": "x",
         "y": [
          239325.15
         ],
         "yaxis": "y"
        },
        {
         "alignmentgroup": "True",
         "hovertemplate": "公司代號=%{x}<br>營業收入(百萬元)=%{y}<extra></extra>",
         "legendgroup": "3257",
         "marker": {
          "color": "#FF97FF",
          "pattern": {
           "shape": ""
          }
         },
         "name": "3257",
         "offsetgroup": "3257",
         "orientation": "v",
         "showlegend": true,
         "textposition": "auto",
         "type": "bar",
         "x": [
          "3257"
         ],
         "xaxis": "x",
         "y": [
          210.98
         ],
         "yaxis": "y"
        },
        {
         "alignmentgroup": "True",
         "hovertemplate": "公司代號=%{x}<br>營業收入(百萬元)=%{y}<extra></extra>",
         "legendgroup": "3266",
         "marker": {
          "color": "#FECB52",
          "pattern": {
           "shape": ""
          }
         },
         "name": "3266",
         "offsetgroup": "3266",
         "orientation": "v",
         "showlegend": true,
         "textposition": "auto",
         "type": "bar",
         "x": [
          "3266"
         ],
         "xaxis": "x",
         "y": [
          1094.79
         ],
         "yaxis": "y"
        },
        {
         "alignmentgroup": "True",
         "hovertemplate": "公司代號=%{x}<br>營業收入(百萬元)=%{y}<extra></extra>",
         "legendgroup": "3296",
         "marker": {
          "color": "#636efa",
          "pattern": {
           "shape": ""
          }
         },
         "name": "3296",
         "offsetgroup": "3296",
         "orientation": "v",
         "showlegend": true,
         "textposition": "auto",
         "type": "bar",
         "x": [
          "3296"
         ],
         "xaxis": "x",
         "y": [
          386.84
         ],
         "yaxis": "y"
        },
        {
         "alignmentgroup": "True",
         "hovertemplate": "公司代號=%{x}<br>營業收入(百萬元)=%{y}<extra></extra>",
         "legendgroup": "3305",
         "marker": {
          "color": "#EF553B",
          "pattern": {
           "shape": ""
          }
         },
         "name": "3305",
         "offsetgroup": "3305",
         "orientation": "v",
         "showlegend": true,
         "textposition": "auto",
         "type": "bar",
         "x": [
          "3305"
         ],
         "xaxis": "x",
         "y": [
          1511.46
         ],
         "yaxis": "y"
        },
        {
         "alignmentgroup": "True",
         "hovertemplate": "公司代號=%{x}<br>營業收入(百萬元)=%{y}<extra></extra>",
         "legendgroup": "3308",
         "marker": {
          "color": "#00cc96",
          "pattern": {
           "shape": ""
          }
         },
         "name": "3308",
         "offsetgroup": "3308",
         "orientation": "v",
         "showlegend": true,
         "textposition": "auto",
         "type": "bar",
         "x": [
          "3308"
         ],
         "xaxis": "x",
         "y": [
          31.15
         ],
         "yaxis": "y"
        },
        {
         "alignmentgroup": "True",
         "hovertemplate": "公司代號=%{x}<br>營業收入(百萬元)=%{y}<extra></extra>",
         "legendgroup": "3311",
         "marker": {
          "color": "#ab63fa",
          "pattern": {
           "shape": ""
          }
         },
         "name": "3311",
         "offsetgroup": "3311",
         "orientation": "v",
         "showlegend": true,
         "textposition": "auto",
         "type": "bar",
         "x": [
          "3311"
         ],
         "xaxis": "x",
         "y": [
          531.98
         ],
         "yaxis": "y"
        },
        {
         "alignmentgroup": "True",
         "hovertemplate": "公司代號=%{x}<br>營業收入(百萬元)=%{y}<extra></extra>",
         "legendgroup": "3312",
         "marker": {
          "color": "#FFA15A",
          "pattern": {
           "shape": ""
          }
         },
         "name": "3312",
         "offsetgroup": "3312",
         "orientation": "v",
         "showlegend": true,
         "textposition": "auto",
         "type": "bar",
         "x": [
          "3312"
         ],
         "xaxis": "x",
         "y": [
          4030.79
         ],
         "yaxis": "y"
        },
        {
         "alignmentgroup": "True",
         "hovertemplate": "公司代號=%{x}<br>營業收入(百萬元)=%{y}<extra></extra>",
         "legendgroup": "3321",
         "marker": {
          "color": "#19d3f3",
          "pattern": {
           "shape": ""
          }
         },
         "name": "3321",
         "offsetgroup": "3321",
         "orientation": "v",
         "showlegend": true,
         "textposition": "auto",
         "type": "bar",
         "x": [
          "3321"
         ],
         "xaxis": "x",
         "y": [
          419.44
         ],
         "yaxis": "y"
        },
        {
         "alignmentgroup": "True",
         "hovertemplate": "公司代號=%{x}<br>營業收入(百萬元)=%{y}<extra></extra>",
         "legendgroup": "3338",
         "marker": {
          "color": "#FF6692",
          "pattern": {
           "shape": ""
          }
         },
         "name": "3338",
         "offsetgroup": "3338",
         "orientation": "v",
         "showlegend": true,
         "textposition": "auto",
         "type": "bar",
         "x": [
          "3338"
         ],
         "xaxis": "x",
         "y": [
          859.33
         ],
         "yaxis": "y"
        },
        {
         "alignmentgroup": "True",
         "hovertemplate": "公司代號=%{x}<br>營業收入(百萬元)=%{y}<extra></extra>",
         "legendgroup": "3346",
         "marker": {
          "color": "#B6E880",
          "pattern": {
           "shape": ""
          }
         },
         "name": "3346",
         "offsetgroup": "3346",
         "orientation": "v",
         "showlegend": true,
         "textposition": "auto",
         "type": "bar",
         "x": [
          "3346"
         ],
         "xaxis": "x",
         "y": [
          1751.63
         ],
         "yaxis": "y"
        },
        {
         "alignmentgroup": "True",
         "hovertemplate": "公司代號=%{x}<br>營業收入(百萬元)=%{y}<extra></extra>",
         "legendgroup": "3356",
         "marker": {
          "color": "#FF97FF",
          "pattern": {
           "shape": ""
          }
         },
         "name": "3356",
         "offsetgroup": "3356",
         "orientation": "v",
         "showlegend": true,
         "textposition": "auto",
         "type": "bar",
         "x": [
          "3356"
         ],
         "xaxis": "x",
         "y": [
          323.58
         ],
         "yaxis": "y"
        },
        {
         "alignmentgroup": "True",
         "hovertemplate": "公司代號=%{x}<br>營業收入(百萬元)=%{y}<extra></extra>",
         "legendgroup": "3376",
         "marker": {
          "color": "#FECB52",
          "pattern": {
           "shape": ""
          }
         },
         "name": "3376",
         "offsetgroup": "3376",
         "orientation": "v",
         "showlegend": true,
         "textposition": "auto",
         "type": "bar",
         "x": [
          "3376"
         ],
         "xaxis": "x",
         "y": [
          2889.39
         ],
         "yaxis": "y"
        },
        {
         "alignmentgroup": "True",
         "hovertemplate": "公司代號=%{x}<br>營業收入(百萬元)=%{y}<extra></extra>",
         "legendgroup": "3380",
         "marker": {
          "color": "#636efa",
          "pattern": {
           "shape": ""
          }
         },
         "name": "3380",
         "offsetgroup": "3380",
         "orientation": "v",
         "showlegend": true,
         "textposition": "auto",
         "type": "bar",
         "x": [
          "3380"
         ],
         "xaxis": "x",
         "y": [
          5180.2
         ],
         "yaxis": "y"
        },
        {
         "alignmentgroup": "True",
         "hovertemplate": "公司代號=%{x}<br>營業收入(百萬元)=%{y}<extra></extra>",
         "legendgroup": "3406",
         "marker": {
          "color": "#EF553B",
          "pattern": {
           "shape": ""
          }
         },
         "name": "3406",
         "offsetgroup": "3406",
         "orientation": "v",
         "showlegend": true,
         "textposition": "auto",
         "type": "bar",
         "x": [
          "3406"
         ],
         "xaxis": "x",
         "y": [
          5236.16
         ],
         "yaxis": "y"
        },
        {
         "alignmentgroup": "True",
         "hovertemplate": "公司代號=%{x}<br>營業收入(百萬元)=%{y}<extra></extra>",
         "legendgroup": "3413",
         "marker": {
          "color": "#00cc96",
          "pattern": {
           "shape": ""
          }
         },
         "name": "3413",
         "offsetgroup": "3413",
         "orientation": "v",
         "showlegend": true,
         "textposition": "auto",
         "type": "bar",
         "x": [
          "3413"
         ],
         "xaxis": "x",
         "y": [
          3322.22
         ],
         "yaxis": "y"
        },
        {
         "alignmentgroup": "True",
         "hovertemplate": "公司代號=%{x}<br>營業收入(百萬元)=%{y}<extra></extra>",
         "legendgroup": "3416",
         "marker": {
          "color": "#ab63fa",
          "pattern": {
           "shape": ""
          }
         },
         "name": "3416",
         "offsetgroup": "3416",
         "orientation": "v",
         "showlegend": true,
         "textposition": "auto",
         "type": "bar",
         "x": [
          "3416"
         ],
         "xaxis": "x",
         "y": [
          700.19
         ],
         "yaxis": "y"
        },
        {
         "alignmentgroup": "True",
         "hovertemplate": "公司代號=%{x}<br>營業收入(百萬元)=%{y}<extra></extra>",
         "legendgroup": "3419",
         "marker": {
          "color": "#FFA15A",
          "pattern": {
           "shape": ""
          }
         },
         "name": "3419",
         "offsetgroup": "3419",
         "orientation": "v",
         "showlegend": true,
         "textposition": "auto",
         "type": "bar",
         "x": [
          "3419"
         ],
         "xaxis": "x",
         "y": [
          328.41
         ],
         "yaxis": "y"
        },
        {
         "alignmentgroup": "True",
         "hovertemplate": "公司代號=%{x}<br>營業收入(百萬元)=%{y}<extra></extra>",
         "legendgroup": "3432",
         "marker": {
          "color": "#19d3f3",
          "pattern": {
           "shape": ""
          }
         },
         "name": "3432",
         "offsetgroup": "3432",
         "orientation": "v",
         "showlegend": true,
         "textposition": "auto",
         "type": "bar",
         "x": [
          "3432"
         ],
         "xaxis": "x",
         "y": [
          5.98
         ],
         "yaxis": "y"
        },
        {
         "alignmentgroup": "True",
         "hovertemplate": "公司代號=%{x}<br>營業收入(百萬元)=%{y}<extra></extra>",
         "legendgroup": "3437",
         "marker": {
          "color": "#FF6692",
          "pattern": {
           "shape": ""
          }
         },
         "name": "3437",
         "offsetgroup": "3437",
         "orientation": "v",
         "showlegend": true,
         "textposition": "auto",
         "type": "bar",
         "x": [
          "3437"
         ],
         "xaxis": "x",
         "y": [
          508.79
         ],
         "yaxis": "y"
        },
        {
         "alignmentgroup": "True",
         "hovertemplate": "公司代號=%{x}<br>營業收入(百萬元)=%{y}<extra></extra>",
         "legendgroup": "3443",
         "marker": {
          "color": "#B6E880",
          "pattern": {
           "shape": ""
          }
         },
         "name": "3443",
         "offsetgroup": "3443",
         "orientation": "v",
         "showlegend": true,
         "textposition": "auto",
         "type": "bar",
         "x": [
          "3443"
         ],
         "xaxis": "x",
         "y": [
          5690.37
         ],
         "yaxis": "y"
        },
        {
         "alignmentgroup": "True",
         "hovertemplate": "公司代號=%{x}<br>營業收入(百萬元)=%{y}<extra></extra>",
         "legendgroup": "3447",
         "marker": {
          "color": "#FF97FF",
          "pattern": {
           "shape": ""
          }
         },
         "name": "3447",
         "offsetgroup": "3447",
         "orientation": "v",
         "showlegend": true,
         "textposition": "auto",
         "type": "bar",
         "x": [
          "3447"
         ],
         "xaxis": "x",
         "y": [
          417.03
         ],
         "yaxis": "y"
        },
        {
         "alignmentgroup": "True",
         "hovertemplate": "公司代號=%{x}<br>營業收入(百萬元)=%{y}<extra></extra>",
         "legendgroup": "3450",
         "marker": {
          "color": "#FECB52",
          "pattern": {
           "shape": ""
          }
         },
         "name": "3450",
         "offsetgroup": "3450",
         "orientation": "v",
         "showlegend": true,
         "textposition": "auto",
         "type": "bar",
         "x": [
          "3450"
         ],
         "xaxis": "x",
         "y": [
          1285.49
         ],
         "yaxis": "y"
        },
        {
         "alignmentgroup": "True",
         "hovertemplate": "公司代號=%{x}<br>營業收入(百萬元)=%{y}<extra></extra>",
         "legendgroup": "3454",
         "marker": {
          "color": "#636efa",
          "pattern": {
           "shape": ""
          }
         },
         "name": "3454",
         "offsetgroup": "3454",
         "orientation": "v",
         "showlegend": true,
         "textposition": "auto",
         "type": "bar",
         "x": [
          "3454"
         ],
         "xaxis": "x",
         "y": [
          1583.34
         ],
         "yaxis": "y"
        },
        {
         "alignmentgroup": "True",
         "hovertemplate": "公司代號=%{x}<br>營業收入(百萬元)=%{y}<extra></extra>",
         "legendgroup": "3481",
         "marker": {
          "color": "#EF553B",
          "pattern": {
           "shape": ""
          }
         },
         "name": "3481",
         "offsetgroup": "3481",
         "orientation": "v",
         "showlegend": true,
         "textposition": "auto",
         "type": "bar",
         "x": [
          "3481"
         ],
         "xaxis": "x",
         "y": [
          50492.21
         ],
         "yaxis": "y"
        },
        {
         "alignmentgroup": "True",
         "hovertemplate": "公司代號=%{x}<br>營業收入(百萬元)=%{y}<extra></extra>",
         "legendgroup": "3494",
         "marker": {
          "color": "#00cc96",
          "pattern": {
           "shape": ""
          }
         },
         "name": "3494",
         "offsetgroup": "3494",
         "orientation": "v",
         "showlegend": true,
         "textposition": "auto",
         "type": "bar",
         "x": [
          "3494"
         ],
         "xaxis": "x",
         "y": [
          182.55
         ],
         "yaxis": "y"
        },
        {
         "alignmentgroup": "True",
         "hovertemplate": "公司代號=%{x}<br>營業收入(百萬元)=%{y}<extra></extra>",
         "legendgroup": "3501",
         "marker": {
          "color": "#ab63fa",
          "pattern": {
           "shape": ""
          }
         },
         "name": "3501",
         "offsetgroup": "3501",
         "orientation": "v",
         "showlegend": true,
         "textposition": "auto",
         "type": "bar",
         "x": [
          "3501"
         ],
         "xaxis": "x",
         "y": [
          1378.98
         ],
         "yaxis": "y"
        },
        {
         "alignmentgroup": "True",
         "hovertemplate": "公司代號=%{x}<br>營業收入(百萬元)=%{y}<extra></extra>",
         "legendgroup": "3504",
         "marker": {
          "color": "#FFA15A",
          "pattern": {
           "shape": ""
          }
         },
         "name": "3504",
         "offsetgroup": "3504",
         "orientation": "v",
         "showlegend": true,
         "textposition": "auto",
         "type": "bar",
         "x": [
          "3504"
         ],
         "xaxis": "x",
         "y": [
          560.13
         ],
         "yaxis": "y"
        },
        {
         "alignmentgroup": "True",
         "hovertemplate": "公司代號=%{x}<br>營業收入(百萬元)=%{y}<extra></extra>",
         "legendgroup": "3515",
         "marker": {
          "color": "#19d3f3",
          "pattern": {
           "shape": ""
          }
         },
         "name": "3515",
         "offsetgroup": "3515",
         "orientation": "v",
         "showlegend": true,
         "textposition": "auto",
         "type": "bar",
         "x": [
          "3515"
         ],
         "xaxis": "x",
         "y": [
          4953.22
         ],
         "yaxis": "y"
        },
        {
         "alignmentgroup": "True",
         "hovertemplate": "公司代號=%{x}<br>營業收入(百萬元)=%{y}<extra></extra>",
         "legendgroup": "3518",
         "marker": {
          "color": "#FF6692",
          "pattern": {
           "shape": ""
          }
         },
         "name": "3518",
         "offsetgroup": "3518",
         "orientation": "v",
         "showlegend": true,
         "textposition": "auto",
         "type": "bar",
         "x": [
          "3518"
         ],
         "xaxis": "x",
         "y": [
          81.46
         ],
         "yaxis": "y"
        },
        {
         "alignmentgroup": "True",
         "hovertemplate": "公司代號=%{x}<br>營業收入(百萬元)=%{y}<extra></extra>",
         "legendgroup": "3528",
         "marker": {
          "color": "#B6E880",
          "pattern": {
           "shape": ""
          }
         },
         "name": "3528",
         "offsetgroup": "3528",
         "orientation": "v",
         "showlegend": true,
         "textposition": "auto",
         "type": "bar",
         "x": [
          "3528"
         ],
         "xaxis": "x",
         "y": [
          1235.35
         ],
         "yaxis": "y"
        },
        {
         "alignmentgroup": "True",
         "hovertemplate": "公司代號=%{x}<br>營業收入(百萬元)=%{y}<extra></extra>",
         "legendgroup": "3530",
         "marker": {
          "color": "#FF97FF",
          "pattern": {
           "shape": ""
          }
         },
         "name": "3530",
         "offsetgroup": "3530",
         "orientation": "v",
         "showlegend": true,
         "textposition": "auto",
         "type": "bar",
         "x": [
          "3530"
         ],
         "xaxis": "x",
         "y": [
          346.79
         ],
         "yaxis": "y"
        },
        {
         "alignmentgroup": "True",
         "hovertemplate": "公司代號=%{x}<br>營業收入(百萬元)=%{y}<extra></extra>",
         "legendgroup": "3532",
         "marker": {
          "color": "#FECB52",
          "pattern": {
           "shape": ""
          }
         },
         "name": "3532",
         "offsetgroup": "3532",
         "orientation": "v",
         "showlegend": true,
         "textposition": "auto",
         "type": "bar",
         "x": [
          "3532"
         ],
         "xaxis": "x",
         "y": [
          3029.42
         ],
         "yaxis": "y"
        },
        {
         "alignmentgroup": "True",
         "hovertemplate": "公司代號=%{x}<br>營業收入(百萬元)=%{y}<extra></extra>",
         "legendgroup": "3533",
         "marker": {
          "color": "#636efa",
          "pattern": {
           "shape": ""
          }
         },
         "name": "3533",
         "offsetgroup": "3533",
         "orientation": "v",
         "showlegend": true,
         "textposition": "auto",
         "type": "bar",
         "x": [
          "3533"
         ],
         "xaxis": "x",
         "y": [
          6347.84
         ],
         "yaxis": "y"
        },
        {
         "alignmentgroup": "True",
         "hovertemplate": "公司代號=%{x}<br>營業收入(百萬元)=%{y}<extra></extra>",
         "legendgroup": "3535",
         "marker": {
          "color": "#EF553B",
          "pattern": {
           "shape": ""
          }
         },
         "name": "3535",
         "offsetgroup": "3535",
         "orientation": "v",
         "showlegend": true,
         "textposition": "auto",
         "type": "bar",
         "x": [
          "3535"
         ],
         "xaxis": "x",
         "y": [
          58.07
         ],
         "yaxis": "y"
        },
        {
         "alignmentgroup": "True",
         "hovertemplate": "公司代號=%{x}<br>營業收入(百萬元)=%{y}<extra></extra>",
         "legendgroup": "3543",
         "marker": {
          "color": "#00cc96",
          "pattern": {
           "shape": ""
          }
         },
         "name": "3543",
         "offsetgroup": "3543",
         "orientation": "v",
         "showlegend": true,
         "textposition": "auto",
         "type": "bar",
         "x": [
          "3543"
         ],
         "xaxis": "x",
         "y": [
          759.67
         ],
         "yaxis": "y"
        },
        {
         "alignmentgroup": "True",
         "hovertemplate": "公司代號=%{x}<br>營業收入(百萬元)=%{y}<extra></extra>",
         "legendgroup": "3545",
         "marker": {
          "color": "#ab63fa",
          "pattern": {
           "shape": ""
          }
         },
         "name": "3545",
         "offsetgroup": "3545",
         "orientation": "v",
         "showlegend": true,
         "textposition": "auto",
         "type": "bar",
         "x": [
          "3545"
         ],
         "xaxis": "x",
         "y": [
          3560.52
         ],
         "yaxis": "y"
        },
        {
         "alignmentgroup": "True",
         "hovertemplate": "公司代號=%{x}<br>營業收入(百萬元)=%{y}<extra></extra>",
         "legendgroup": "3550",
         "marker": {
          "color": "#FFA15A",
          "pattern": {
           "shape": ""
          }
         },
         "name": "3550",
         "offsetgroup": "3550",
         "orientation": "v",
         "showlegend": true,
         "textposition": "auto",
         "type": "bar",
         "x": [
          "3550"
         ],
         "xaxis": "x",
         "y": [
          751.23
         ],
         "yaxis": "y"
        },
        {
         "alignmentgroup": "True",
         "hovertemplate": "公司代號=%{x}<br>營業收入(百萬元)=%{y}<extra></extra>",
         "legendgroup": "3557",
         "marker": {
          "color": "#19d3f3",
          "pattern": {
           "shape": ""
          }
         },
         "name": "3557",
         "offsetgroup": "3557",
         "orientation": "v",
         "showlegend": true,
         "textposition": "auto",
         "type": "bar",
         "x": [
          "3557"
         ],
         "xaxis": "x",
         "y": [
          2045.77
         ],
         "yaxis": "y"
        },
        {
         "alignmentgroup": "True",
         "hovertemplate": "公司代號=%{x}<br>營業收入(百萬元)=%{y}<extra></extra>",
         "legendgroup": "3563",
         "marker": {
          "color": "#FF6692",
          "pattern": {
           "shape": ""
          }
         },
         "name": "3563",
         "offsetgroup": "3563",
         "orientation": "v",
         "showlegend": true,
         "textposition": "auto",
         "type": "bar",
         "x": [
          "3563"
         ],
         "xaxis": "x",
         "y": [
          267.58
         ],
         "yaxis": "y"
        },
        {
         "alignmentgroup": "True",
         "hovertemplate": "公司代號=%{x}<br>營業收入(百萬元)=%{y}<extra></extra>",
         "legendgroup": "3576",
         "marker": {
          "color": "#B6E880",
          "pattern": {
           "shape": ""
          }
         },
         "name": "3576",
         "offsetgroup": "3576",
         "orientation": "v",
         "showlegend": true,
         "textposition": "auto",
         "type": "bar",
         "x": [
          "3576"
         ],
         "xaxis": "x",
         "y": [
          1490.81
         ],
         "yaxis": "y"
        },
        {
         "alignmentgroup": "True",
         "hovertemplate": "公司代號=%{x}<br>營業收入(百萬元)=%{y}<extra></extra>",
         "legendgroup": "3583",
         "marker": {
          "color": "#FF97FF",
          "pattern": {
           "shape": ""
          }
         },
         "name": "3583",
         "offsetgroup": "3583",
         "orientation": "v",
         "showlegend": true,
         "textposition": "auto",
         "type": "bar",
         "x": [
          "3583"
         ],
         "xaxis": "x",
         "y": [
          2244.51
         ],
         "yaxis": "y"
        },
        {
         "alignmentgroup": "True",
         "hovertemplate": "公司代號=%{x}<br>營業收入(百萬元)=%{y}<extra></extra>",
         "legendgroup": "3588",
         "marker": {
          "color": "#FECB52",
          "pattern": {
           "shape": ""
          }
         },
         "name": "3588",
         "offsetgroup": "3588",
         "orientation": "v",
         "showlegend": true,
         "textposition": "auto",
         "type": "bar",
         "x": [
          "3588"
         ],
         "xaxis": "x",
         "y": [
          311.08
         ],
         "yaxis": "y"
        },
        {
         "alignmentgroup": "True",
         "hovertemplate": "公司代號=%{x}<br>營業收入(百萬元)=%{y}<extra></extra>",
         "legendgroup": "3591",
         "marker": {
          "color": "#636efa",
          "pattern": {
           "shape": ""
          }
         },
         "name": "3591",
         "offsetgroup": "3591",
         "orientation": "v",
         "showlegend": true,
         "textposition": "auto",
         "type": "bar",
         "x": [
          "3591"
         ],
         "xaxis": "x",
         "y": [
          539.46
         ],
         "yaxis": "y"
        },
        {
         "alignmentgroup": "True",
         "hovertemplate": "公司代號=%{x}<br>營業收入(百萬元)=%{y}<extra></extra>",
         "legendgroup": "3592",
         "marker": {
          "color": "#EF553B",
          "pattern": {
           "shape": ""
          }
         },
         "name": "3592",
         "offsetgroup": "3592",
         "orientation": "v",
         "showlegend": true,
         "textposition": "auto",
         "type": "bar",
         "x": [
          "3592"
         ],
         "xaxis": "x",
         "y": [
          6036.45
         ],
         "yaxis": "y"
        },
        {
         "alignmentgroup": "True",
         "hovertemplate": "公司代號=%{x}<br>營業收入(百萬元)=%{y}<extra></extra>",
         "legendgroup": "3593",
         "marker": {
          "color": "#00cc96",
          "pattern": {
           "shape": ""
          }
         },
         "name": "3593",
         "offsetgroup": "3593",
         "orientation": "v",
         "showlegend": true,
         "textposition": "auto",
         "type": "bar",
         "x": [
          "3593"
         ],
         "xaxis": "x",
         "y": [
          199.42
         ],
         "yaxis": "y"
        },
        {
         "alignmentgroup": "True",
         "hovertemplate": "公司代號=%{x}<br>營業收入(百萬元)=%{y}<extra></extra>",
         "legendgroup": "3596",
         "marker": {
          "color": "#ab63fa",
          "pattern": {
           "shape": ""
          }
         },
         "name": "3596",
         "offsetgroup": "3596",
         "orientation": "v",
         "showlegend": true,
         "textposition": "auto",
         "type": "bar",
         "x": [
          "3596"
         ],
         "xaxis": "x",
         "y": [
          12546.68
         ],
         "yaxis": "y"
        },
        {
         "alignmentgroup": "True",
         "hovertemplate": "公司代號=%{x}<br>營業收入(百萬元)=%{y}<extra></extra>",
         "legendgroup": "3605",
         "marker": {
          "color": "#FFA15A",
          "pattern": {
           "shape": ""
          }
         },
         "name": "3605",
         "offsetgroup": "3605",
         "orientation": "v",
         "showlegend": true,
         "textposition": "auto",
         "type": "bar",
         "x": [
          "3605"
         ],
         "xaxis": "x",
         "y": [
          1943.26
         ],
         "yaxis": "y"
        },
        {
         "alignmentgroup": "True",
         "hovertemplate": "公司代號=%{x}<br>營業收入(百萬元)=%{y}<extra></extra>",
         "legendgroup": "3607",
         "marker": {
          "color": "#19d3f3",
          "pattern": {
           "shape": ""
          }
         },
         "name": "3607",
         "offsetgroup": "3607",
         "orientation": "v",
         "showlegend": true,
         "textposition": "auto",
         "type": "bar",
         "x": [
          "3607"
         ],
         "xaxis": "x",
         "y": [
          587.36
         ],
         "yaxis": "y"
        },
        {
         "alignmentgroup": "True",
         "hovertemplate": "公司代號=%{x}<br>營業收入(百萬元)=%{y}<extra></extra>",
         "legendgroup": "3617",
         "marker": {
          "color": "#FF6692",
          "pattern": {
           "shape": ""
          }
         },
         "name": "3617",
         "offsetgroup": "3617",
         "orientation": "v",
         "showlegend": true,
         "textposition": "auto",
         "type": "bar",
         "x": [
          "3617"
         ],
         "xaxis": "x",
         "y": [
          2564.25
         ],
         "yaxis": "y"
        },
        {
         "alignmentgroup": "True",
         "hovertemplate": "公司代號=%{x}<br>營業收入(百萬元)=%{y}<extra></extra>",
         "legendgroup": "3622",
         "marker": {
          "color": "#B6E880",
          "pattern": {
           "shape": ""
          }
         },
         "name": "3622",
         "offsetgroup": "3622",
         "orientation": "v",
         "showlegend": true,
         "textposition": "auto",
         "type": "bar",
         "x": [
          "3622"
         ],
         "xaxis": "x",
         "y": [
          337.05
         ],
         "yaxis": "y"
        },
        {
         "alignmentgroup": "True",
         "hovertemplate": "公司代號=%{x}<br>營業收入(百萬元)=%{y}<extra></extra>",
         "legendgroup": "3645",
         "marker": {
          "color": "#FF97FF",
          "pattern": {
           "shape": ""
          }
         },
         "name": "3645",
         "offsetgroup": "3645",
         "orientation": "v",
         "showlegend": true,
         "textposition": "auto",
         "type": "bar",
         "x": [
          "3645"
         ],
         "xaxis": "x",
         "y": [
          464.95
         ],
         "yaxis": "y"
        },
        {
         "alignmentgroup": "True",
         "hovertemplate": "公司代號=%{x}<br>營業收入(百萬元)=%{y}<extra></extra>",
         "legendgroup": "3652",
         "marker": {
          "color": "#FECB52",
          "pattern": {
           "shape": ""
          }
         },
         "name": "3652",
         "offsetgroup": "3652",
         "orientation": "v",
         "showlegend": true,
         "textposition": "auto",
         "type": "bar",
         "x": [
          "3652"
         ],
         "xaxis": "x",
         "y": [
          526.84
         ],
         "yaxis": "y"
        },
        {
         "alignmentgroup": "True",
         "hovertemplate": "公司代號=%{x}<br>營業收入(百萬元)=%{y}<extra></extra>",
         "legendgroup": "3653",
         "marker": {
          "color": "#636efa",
          "pattern": {
           "shape": ""
          }
         },
         "name": "3653",
         "offsetgroup": "3653",
         "orientation": "v",
         "showlegend": true,
         "textposition": "auto",
         "type": "bar",
         "x": [
          "3653"
         ],
         "xaxis": "x",
         "y": [
          2864.33
         ],
         "yaxis": "y"
        },
        {
         "alignmentgroup": "True",
         "hovertemplate": "公司代號=%{x}<br>營業收入(百萬元)=%{y}<extra></extra>",
         "legendgroup": "3661",
         "marker": {
          "color": "#EF553B",
          "pattern": {
           "shape": ""
          }
         },
         "name": "3661",
         "offsetgroup": "3661",
         "orientation": "v",
         "showlegend": true,
         "textposition": "auto",
         "type": "bar",
         "x": [
          "3661"
         ],
         "xaxis": "x",
         "y": [
          10489.99
         ],
         "yaxis": "y"
        },
        {
         "alignmentgroup": "True",
         "hovertemplate": "公司代號=%{x}<br>營業收入(百萬元)=%{y}<extra></extra>",
         "legendgroup": "3665",
         "marker": {
          "color": "#00cc96",
          "pattern": {
           "shape": ""
          }
         },
         "name": "3665",
         "offsetgroup": "3665",
         "orientation": "v",
         "showlegend": true,
         "textposition": "auto",
         "type": "bar",
         "x": [
          "3665"
         ],
         "xaxis": "x",
         "y": [
          12425.56
         ],
         "yaxis": "y"
        },
        {
         "alignmentgroup": "True",
         "hovertemplate": "公司代號=%{x}<br>營業收入(百萬元)=%{y}<extra></extra>",
         "legendgroup": "3669",
         "marker": {
          "color": "#ab63fa",
          "pattern": {
           "shape": ""
          }
         },
         "name": "3669",
         "offsetgroup": "3669",
         "orientation": "v",
         "showlegend": true,
         "textposition": "auto",
         "type": "bar",
         "x": [
          "3669"
         ],
         "xaxis": "x",
         "y": [
          591.64
         ],
         "yaxis": "y"
        },
        {
         "alignmentgroup": "True",
         "hovertemplate": "公司代號=%{x}<br>營業收入(百萬元)=%{y}<extra></extra>",
         "legendgroup": "3673",
         "marker": {
          "color": "#FFA15A",
          "pattern": {
           "shape": ""
          }
         },
         "name": "3673",
         "offsetgroup": "3673",
         "orientation": "v",
         "showlegend": true,
         "textposition": "auto",
         "type": "bar",
         "x": [
          "3673"
         ],
         "xaxis": "x",
         "y": [
          15330.2
         ],
         "yaxis": "y"
        },
        {
         "alignmentgroup": "True",
         "hovertemplate": "公司代號=%{x}<br>營業收入(百萬元)=%{y}<extra></extra>",
         "legendgroup": "3679",
         "marker": {
          "color": "#19d3f3",
          "pattern": {
           "shape": ""
          }
         },
         "name": "3679",
         "offsetgroup": "3679",
         "orientation": "v",
         "showlegend": true,
         "textposition": "auto",
         "type": "bar",
         "x": [
          "3679"
         ],
         "xaxis": "x",
         "y": [
          920
         ],
         "yaxis": "y"
        },
        {
         "alignmentgroup": "True",
         "hovertemplate": "公司代號=%{x}<br>營業收入(百萬元)=%{y}<extra></extra>",
         "legendgroup": "3686",
         "marker": {
          "color": "#FF6692",
          "pattern": {
           "shape": ""
          }
         },
         "name": "3686",
         "offsetgroup": "3686",
         "orientation": "v",
         "showlegend": true,
         "textposition": "auto",
         "type": "bar",
         "x": [
          "3686"
         ],
         "xaxis": "x",
         "y": [
          21.77
         ],
         "yaxis": "y"
        },
        {
         "alignmentgroup": "True",
         "hovertemplate": "公司代號=%{x}<br>營業收入(百萬元)=%{y}<extra></extra>",
         "legendgroup": "3694",
         "marker": {
          "color": "#B6E880",
          "pattern": {
           "shape": ""
          }
         },
         "name": "3694",
         "offsetgroup": "3694",
         "orientation": "v",
         "showlegend": true,
         "textposition": "auto",
         "type": "bar",
         "x": [
          "3694"
         ],
         "xaxis": "x",
         "y": [
          2056.34
         ],
         "yaxis": "y"
        },
        {
         "alignmentgroup": "True",
         "hovertemplate": "公司代號=%{x}<br>營業收入(百萬元)=%{y}<extra></extra>",
         "legendgroup": "3701",
         "marker": {
          "color": "#FF97FF",
          "pattern": {
           "shape": ""
          }
         },
         "name": "3701",
         "offsetgroup": "3701",
         "orientation": "v",
         "showlegend": true,
         "textposition": "auto",
         "type": "bar",
         "x": [
          "3701"
         ],
         "xaxis": "x",
         "y": [
          3195.37
         ],
         "yaxis": "y"
        },
        {
         "alignmentgroup": "True",
         "hovertemplate": "公司代號=%{x}<br>營業收入(百萬元)=%{y}<extra></extra>",
         "legendgroup": "3702",
         "marker": {
          "color": "#FECB52",
          "pattern": {
           "shape": ""
          }
         },
         "name": "3702",
         "offsetgroup": "3702",
         "orientation": "v",
         "showlegend": true,
         "textposition": "auto",
         "type": "bar",
         "x": [
          "3702"
         ],
         "xaxis": "x",
         "y": [
          181903.71
         ],
         "yaxis": "y"
        },
        {
         "alignmentgroup": "True",
         "hovertemplate": "公司代號=%{x}<br>營業收入(百萬元)=%{y}<extra></extra>",
         "legendgroup": "3703",
         "marker": {
          "color": "#636efa",
          "pattern": {
           "shape": ""
          }
         },
         "name": "3703",
         "offsetgroup": "3703",
         "orientation": "v",
         "showlegend": true,
         "textposition": "auto",
         "type": "bar",
         "x": [
          "3703"
         ],
         "xaxis": "x",
         "y": [
          6160.95
         ],
         "yaxis": "y"
        },
        {
         "alignmentgroup": "True",
         "hovertemplate": "公司代號=%{x}<br>營業收入(百萬元)=%{y}<extra></extra>",
         "legendgroup": "3704",
         "marker": {
          "color": "#EF553B",
          "pattern": {
           "shape": ""
          }
         },
         "name": "3704",
         "offsetgroup": "3704",
         "orientation": "v",
         "showlegend": true,
         "textposition": "auto",
         "type": "bar",
         "x": [
          "3704"
         ],
         "xaxis": "x",
         "y": [
          5558.6
         ],
         "yaxis": "y"
        },
        {
         "alignmentgroup": "True",
         "hovertemplate": "公司代號=%{x}<br>營業收入(百萬元)=%{y}<extra></extra>",
         "legendgroup": "3705",
         "marker": {
          "color": "#00cc96",
          "pattern": {
           "shape": ""
          }
         },
         "name": "3705",
         "offsetgroup": "3705",
         "orientation": "v",
         "showlegend": true,
         "textposition": "auto",
         "type": "bar",
         "x": [
          "3705"
         ],
         "xaxis": "x",
         "y": [
          1796.84
         ],
         "yaxis": "y"
        },
        {
         "alignmentgroup": "True",
         "hovertemplate": "公司代號=%{x}<br>營業收入(百萬元)=%{y}<extra></extra>",
         "legendgroup": "3706",
         "marker": {
          "color": "#ab63fa",
          "pattern": {
           "shape": ""
          }
         },
         "name": "3706",
         "offsetgroup": "3706",
         "orientation": "v",
         "showlegend": true,
         "textposition": "auto",
         "type": "bar",
         "x": [
          "3706"
         ],
         "xaxis": "x",
         "y": [
          9653.94
         ],
         "yaxis": "y"
        },
        {
         "alignmentgroup": "True",
         "hovertemplate": "公司代號=%{x}<br>營業收入(百萬元)=%{y}<extra></extra>",
         "legendgroup": "3708",
         "marker": {
          "color": "#FFA15A",
          "pattern": {
           "shape": ""
          }
         },
         "name": "3708",
         "offsetgroup": "3708",
         "orientation": "v",
         "showlegend": true,
         "textposition": "auto",
         "type": "bar",
         "x": [
          "3708"
         ],
         "xaxis": "x",
         "y": [
          1735.3
         ],
         "yaxis": "y"
        },
        {
         "alignmentgroup": "True",
         "hovertemplate": "公司代號=%{x}<br>營業收入(百萬元)=%{y}<extra></extra>",
         "legendgroup": "3711",
         "marker": {
          "color": "#19d3f3",
          "pattern": {
           "shape": ""
          }
         },
         "name": "3711",
         "offsetgroup": "3711",
         "orientation": "v",
         "showlegend": true,
         "textposition": "auto",
         "type": "bar",
         "x": [
          "3711"
         ],
         "xaxis": "x",
         "y": [
          132802.86
         ],
         "yaxis": "y"
        },
        {
         "alignmentgroup": "True",
         "hovertemplate": "公司代號=%{x}<br>營業收入(百萬元)=%{y}<extra></extra>",
         "legendgroup": "3712",
         "marker": {
          "color": "#FF6692",
          "pattern": {
           "shape": ""
          }
         },
         "name": "3712",
         "offsetgroup": "3712",
         "orientation": "v",
         "showlegend": true,
         "textposition": "auto",
         "type": "bar",
         "x": [
          "3712"
         ],
         "xaxis": "x",
         "y": [
          3850.36
         ],
         "yaxis": "y"
        },
        {
         "alignmentgroup": "True",
         "hovertemplate": "公司代號=%{x}<br>營業收入(百萬元)=%{y}<extra></extra>",
         "legendgroup": "3714",
         "marker": {
          "color": "#B6E880",
          "pattern": {
           "shape": ""
          }
         },
         "name": "3714",
         "offsetgroup": "3714",
         "orientation": "v",
         "showlegend": true,
         "textposition": "auto",
         "type": "bar",
         "x": [
          "3714"
         ],
         "xaxis": "x",
         "y": [
          5582.95
         ],
         "yaxis": "y"
        },
        {
         "alignmentgroup": "True",
         "hovertemplate": "公司代號=%{x}<br>營業收入(百萬元)=%{y}<extra></extra>",
         "legendgroup": "3715",
         "marker": {
          "color": "#FF97FF",
          "pattern": {
           "shape": ""
          }
         },
         "name": "3715",
         "offsetgroup": "3715",
         "orientation": "v",
         "showlegend": true,
         "textposition": "auto",
         "type": "bar",
         "x": [
          "3715"
         ],
         "xaxis": "x",
         "y": [
          4170.87
         ],
         "yaxis": "y"
        },
        {
         "alignmentgroup": "True",
         "hovertemplate": "公司代號=%{x}<br>營業收入(百萬元)=%{y}<extra></extra>",
         "legendgroup": "4104",
         "marker": {
          "color": "#FECB52",
          "pattern": {
           "shape": ""
          }
         },
         "name": "4104",
         "offsetgroup": "4104",
         "orientation": "v",
         "showlegend": true,
         "textposition": "auto",
         "type": "bar",
         "x": [
          "4104"
         ],
         "xaxis": "x",
         "y": [
          2042.04
         ],
         "yaxis": "y"
        },
        {
         "alignmentgroup": "True",
         "hovertemplate": "公司代號=%{x}<br>營業收入(百萬元)=%{y}<extra></extra>",
         "legendgroup": "4106",
         "marker": {
          "color": "#636efa",
          "pattern": {
           "shape": ""
          }
         },
         "name": "4106",
         "offsetgroup": "4106",
         "orientation": "v",
         "showlegend": true,
         "textposition": "auto",
         "type": "bar",
         "x": [
          "4106"
         ],
         "xaxis": "x",
         "y": [
          646.68
         ],
         "yaxis": "y"
        },
        {
         "alignmentgroup": "True",
         "hovertemplate": "公司代號=%{x}<br>營業收入(百萬元)=%{y}<extra></extra>",
         "legendgroup": "4108",
         "marker": {
          "color": "#EF553B",
          "pattern": {
           "shape": ""
          }
         },
         "name": "4108",
         "offsetgroup": "4108",
         "orientation": "v",
         "showlegend": true,
         "textposition": "auto",
         "type": "bar",
         "x": [
          "4108"
         ],
         "xaxis": "x",
         "y": [
          32.59
         ],
         "yaxis": "y"
        },
        {
         "alignmentgroup": "True",
         "hovertemplate": "公司代號=%{x}<br>營業收入(百萬元)=%{y}<extra></extra>",
         "legendgroup": "4119",
         "marker": {
          "color": "#00cc96",
          "pattern": {
           "shape": ""
          }
         },
         "name": "4119",
         "offsetgroup": "4119",
         "orientation": "v",
         "showlegend": true,
         "textposition": "auto",
         "type": "bar",
         "x": [
          "4119"
         ],
         "xaxis": "x",
         "y": [
          309.88
         ],
         "yaxis": "y"
        },
        {
         "alignmentgroup": "True",
         "hovertemplate": "公司代號=%{x}<br>營業收入(百萬元)=%{y}<extra></extra>",
         "legendgroup": "4133",
         "marker": {
          "color": "#ab63fa",
          "pattern": {
           "shape": ""
          }
         },
         "name": "4133",
         "offsetgroup": "4133",
         "orientation": "v",
         "showlegend": true,
         "textposition": "auto",
         "type": "bar",
         "x": [
          "4133"
         ],
         "xaxis": "x",
         "y": [
          85
         ],
         "yaxis": "y"
        },
        {
         "alignmentgroup": "True",
         "hovertemplate": "公司代號=%{x}<br>營業收入(百萬元)=%{y}<extra></extra>",
         "legendgroup": "4137",
         "marker": {
          "color": "#FFA15A",
          "pattern": {
           "shape": ""
          }
         },
         "name": "4137",
         "offsetgroup": "4137",
         "orientation": "v",
         "showlegend": true,
         "textposition": "auto",
         "type": "bar",
         "x": [
          "4137"
         ],
         "xaxis": "x",
         "y": [
          998.34
         ],
         "yaxis": "y"
        },
        {
         "alignmentgroup": "True",
         "hovertemplate": "公司代號=%{x}<br>營業收入(百萬元)=%{y}<extra></extra>",
         "legendgroup": "4142",
         "marker": {
          "color": "#19d3f3",
          "pattern": {
           "shape": ""
          }
         },
         "name": "4142",
         "offsetgroup": "4142",
         "orientation": "v",
         "showlegend": true,
         "textposition": "auto",
         "type": "bar",
         "x": [
          "4142"
         ],
         "xaxis": "x",
         "y": [
          43.88
         ],
         "yaxis": "y"
        },
        {
         "alignmentgroup": "True",
         "hovertemplate": "公司代號=%{x}<br>營業收入(百萬元)=%{y}<extra></extra>",
         "legendgroup": "4148",
         "marker": {
          "color": "#FF6692",
          "pattern": {
           "shape": ""
          }
         },
         "name": "4148",
         "offsetgroup": "4148",
         "orientation": "v",
         "showlegend": true,
         "textposition": "auto",
         "type": "bar",
         "x": [
          "4148"
         ],
         "xaxis": "x",
         "y": [
          523.55
         ],
         "yaxis": "y"
        },
        {
         "alignmentgroup": "True",
         "hovertemplate": "公司代號=%{x}<br>營業收入(百萬元)=%{y}<extra></extra>",
         "legendgroup": "4155",
         "marker": {
          "color": "#B6E880",
          "pattern": {
           "shape": ""
          }
         },
         "name": "4155",
         "offsetgroup": "4155",
         "orientation": "v",
         "showlegend": true,
         "textposition": "auto",
         "type": "bar",
         "x": [
          "4155"
         ],
         "xaxis": "x",
         "y": [
          352.28
         ],
         "yaxis": "y"
        },
        {
         "alignmentgroup": "True",
         "hovertemplate": "公司代號=%{x}<br>營業收入(百萬元)=%{y}<extra></extra>",
         "legendgroup": "4164",
         "marker": {
          "color": "#FF97FF",
          "pattern": {
           "shape": ""
          }
         },
         "name": "4164",
         "offsetgroup": "4164",
         "orientation": "v",
         "showlegend": true,
         "textposition": "auto",
         "type": "bar",
         "x": [
          "4164"
         ],
         "xaxis": "x",
         "y": [
          657.62
         ],
         "yaxis": "y"
        },
        {
         "alignmentgroup": "True",
         "hovertemplate": "公司代號=%{x}<br>營業收入(百萬元)=%{y}<extra></extra>",
         "legendgroup": "4190",
         "marker": {
          "color": "#FECB52",
          "pattern": {
           "shape": ""
          }
         },
         "name": "4190",
         "offsetgroup": "4190",
         "orientation": "v",
         "showlegend": true,
         "textposition": "auto",
         "type": "bar",
         "x": [
          "4190"
         ],
         "xaxis": "x",
         "y": [
          561.88
         ],
         "yaxis": "y"
        },
        {
         "alignmentgroup": "True",
         "hovertemplate": "公司代號=%{x}<br>營業收入(百萬元)=%{y}<extra></extra>",
         "legendgroup": "4306",
         "marker": {
          "color": "#636efa",
          "pattern": {
           "shape": ""
          }
         },
         "name": "4306",
         "offsetgroup": "4306",
         "orientation": "v",
         "showlegend": true,
         "textposition": "auto",
         "type": "bar",
         "x": [
          "4306"
         ],
         "xaxis": "x",
         "y": [
          3087.93
         ],
         "yaxis": "y"
        },
        {
         "alignmentgroup": "True",
         "hovertemplate": "公司代號=%{x}<br>營業收入(百萬元)=%{y}<extra></extra>",
         "legendgroup": "4414",
         "marker": {
          "color": "#EF553B",
          "pattern": {
           "shape": ""
          }
         },
         "name": "4414",
         "offsetgroup": "4414",
         "orientation": "v",
         "showlegend": true,
         "textposition": "auto",
         "type": "bar",
         "x": [
          "4414"
         ],
         "xaxis": "x",
         "y": [
          3120.79
         ],
         "yaxis": "y"
        },
        {
         "alignmentgroup": "True",
         "hovertemplate": "公司代號=%{x}<br>營業收入(百萬元)=%{y}<extra></extra>",
         "legendgroup": "4426",
         "marker": {
          "color": "#00cc96",
          "pattern": {
           "shape": ""
          }
         },
         "name": "4426",
         "offsetgroup": "4426",
         "orientation": "v",
         "showlegend": true,
         "textposition": "auto",
         "type": "bar",
         "x": [
          "4426"
         ],
         "xaxis": "x",
         "y": [
          266.95
         ],
         "yaxis": "y"
        },
        {
         "alignmentgroup": "True",
         "hovertemplate": "公司代號=%{x}<br>營業收入(百萬元)=%{y}<extra></extra>",
         "legendgroup": "4438",
         "marker": {
          "color": "#ab63fa",
          "pattern": {
           "shape": ""
          }
         },
         "name": "4438",
         "offsetgroup": "4438",
         "orientation": "v",
         "showlegend": true,
         "textposition": "auto",
         "type": "bar",
         "x": [
          "4438"
         ],
         "xaxis": "x",
         "y": [
          2367.64
         ],
         "yaxis": "y"
        },
        {
         "alignmentgroup": "True",
         "hovertemplate": "公司代號=%{x}<br>營業收入(百萬元)=%{y}<extra></extra>",
         "legendgroup": "4439",
         "marker": {
          "color": "#FFA15A",
          "pattern": {
           "shape": ""
          }
         },
         "name": "4439",
         "offsetgroup": "4439",
         "orientation": "v",
         "showlegend": true,
         "textposition": "auto",
         "type": "bar",
         "x": [
          "4439"
         ],
         "xaxis": "x",
         "y": [
          1390.91
         ],
         "yaxis": "y"
        },
        {
         "alignmentgroup": "True",
         "hovertemplate": "公司代號=%{x}<br>營業收入(百萬元)=%{y}<extra></extra>",
         "legendgroup": "4440",
         "marker": {
          "color": "#19d3f3",
          "pattern": {
           "shape": ""
          }
         },
         "name": "4440",
         "offsetgroup": "4440",
         "orientation": "v",
         "showlegend": true,
         "textposition": "auto",
         "type": "bar",
         "x": [
          "4440"
         ],
         "xaxis": "x",
         "y": [
          235.04
         ],
         "yaxis": "y"
        },
        {
         "alignmentgroup": "True",
         "hovertemplate": "公司代號=%{x}<br>營業收入(百萬元)=%{y}<extra></extra>",
         "legendgroup": "4526",
         "marker": {
          "color": "#FF6692",
          "pattern": {
           "shape": ""
          }
         },
         "name": "4526",
         "offsetgroup": "4526",
         "orientation": "v",
         "showlegend": true,
         "textposition": "auto",
         "type": "bar",
         "x": [
          "4526"
         ],
         "xaxis": "x",
         "y": [
          1323.21
         ],
         "yaxis": "y"
        },
        {
         "alignmentgroup": "True",
         "hovertemplate": "公司代號=%{x}<br>營業收入(百萬元)=%{y}<extra></extra>",
         "legendgroup": "4532",
         "marker": {
          "color": "#B6E880",
          "pattern": {
           "shape": ""
          }
         },
         "name": "4532",
         "offsetgroup": "4532",
         "orientation": "v",
         "showlegend": true,
         "textposition": "auto",
         "type": "bar",
         "x": [
          "4532"
         ],
         "xaxis": "x",
         "y": [
          4931.25
         ],
         "yaxis": "y"
        },
        {
         "alignmentgroup": "True",
         "hovertemplate": "公司代號=%{x}<br>營業收入(百萬元)=%{y}<extra></extra>",
         "legendgroup": "4536",
         "marker": {
          "color": "#FF97FF",
          "pattern": {
           "shape": ""
          }
         },
         "name": "4536",
         "offsetgroup": "4536",
         "orientation": "v",
         "showlegend": true,
         "textposition": "auto",
         "type": "bar",
         "x": [
          "4536"
         ],
         "xaxis": "x",
         "y": [
          1899.97
         ],
         "yaxis": "y"
        },
        {
         "alignmentgroup": "True",
         "hovertemplate": "公司代號=%{x}<br>營業收入(百萬元)=%{y}<extra></extra>",
         "legendgroup": "4540",
         "marker": {
          "color": "#FECB52",
          "pattern": {
           "shape": ""
          }
         },
         "name": "4540",
         "offsetgroup": "4540",
         "orientation": "v",
         "showlegend": true,
         "textposition": "auto",
         "type": "bar",
         "x": [
          "4540"
         ],
         "xaxis": "x",
         "y": [
          589.74
         ],
         "yaxis": "y"
        },
        {
         "alignmentgroup": "True",
         "hovertemplate": "公司代號=%{x}<br>營業收入(百萬元)=%{y}<extra></extra>",
         "legendgroup": "4545",
         "marker": {
          "color": "#636efa",
          "pattern": {
           "shape": ""
          }
         },
         "name": "4545",
         "offsetgroup": "4545",
         "orientation": "v",
         "showlegend": true,
         "textposition": "auto",
         "type": "bar",
         "x": [
          "4545"
         ],
         "xaxis": "x",
         "y": [
          534.53
         ],
         "yaxis": "y"
        },
        {
         "alignmentgroup": "True",
         "hovertemplate": "公司代號=%{x}<br>營業收入(百萬元)=%{y}<extra></extra>",
         "legendgroup": "4551",
         "marker": {
          "color": "#EF553B",
          "pattern": {
           "shape": ""
          }
         },
         "name": "4551",
         "offsetgroup": "4551",
         "orientation": "v",
         "showlegend": true,
         "textposition": "auto",
         "type": "bar",
         "x": [
          "4551"
         ],
         "xaxis": "x",
         "y": [
          1636.34
         ],
         "yaxis": "y"
        },
        {
         "alignmentgroup": "True",
         "hovertemplate": "公司代號=%{x}<br>營業收入(百萬元)=%{y}<extra></extra>",
         "legendgroup": "4552",
         "marker": {
          "color": "#00cc96",
          "pattern": {
           "shape": ""
          }
         },
         "name": "4552",
         "offsetgroup": "4552",
         "orientation": "v",
         "showlegend": true,
         "textposition": "auto",
         "type": "bar",
         "x": [
          "4552"
         ],
         "xaxis": "x",
         "y": [
          714.09
         ],
         "yaxis": "y"
        },
        {
         "alignmentgroup": "True",
         "hovertemplate": "公司代號=%{x}<br>營業收入(百萬元)=%{y}<extra></extra>",
         "legendgroup": "4555",
         "marker": {
          "color": "#ab63fa",
          "pattern": {
           "shape": ""
          }
         },
         "name": "4555",
         "offsetgroup": "4555",
         "orientation": "v",
         "showlegend": true,
         "textposition": "auto",
         "type": "bar",
         "x": [
          "4555"
         ],
         "xaxis": "x",
         "y": [
          325.6
         ],
         "yaxis": "y"
        },
        {
         "alignmentgroup": "True",
         "hovertemplate": "公司代號=%{x}<br>營業收入(百萬元)=%{y}<extra></extra>",
         "legendgroup": "4557",
         "marker": {
          "color": "#FFA15A",
          "pattern": {
           "shape": ""
          }
         },
         "name": "4557",
         "offsetgroup": "4557",
         "orientation": "v",
         "showlegend": true,
         "textposition": "auto",
         "type": "bar",
         "x": [
          "4557"
         ],
         "xaxis": "x",
         "y": [
          763.57
         ],
         "yaxis": "y"
        },
        {
         "alignmentgroup": "True",
         "hovertemplate": "公司代號=%{x}<br>營業收入(百萬元)=%{y}<extra></extra>",
         "legendgroup": "4560",
         "marker": {
          "color": "#19d3f3",
          "pattern": {
           "shape": ""
          }
         },
         "name": "4560",
         "offsetgroup": "4560",
         "orientation": "v",
         "showlegend": true,
         "textposition": "auto",
         "type": "bar",
         "x": [
          "4560"
         ],
         "xaxis": "x",
         "y": [
          338.46
         ],
         "yaxis": "y"
        },
        {
         "alignmentgroup": "True",
         "hovertemplate": "公司代號=%{x}<br>營業收入(百萬元)=%{y}<extra></extra>",
         "legendgroup": "4562",
         "marker": {
          "color": "#FF6692",
          "pattern": {
           "shape": ""
          }
         },
         "name": "4562",
         "offsetgroup": "4562",
         "orientation": "v",
         "showlegend": true,
         "textposition": "auto",
         "type": "bar",
         "x": [
          "4562"
         ],
         "xaxis": "x",
         "y": [
          178.67
         ],
         "yaxis": "y"
        },
        {
         "alignmentgroup": "True",
         "hovertemplate": "公司代號=%{x}<br>營業收入(百萬元)=%{y}<extra></extra>",
         "legendgroup": "4564",
         "marker": {
          "color": "#B6E880",
          "pattern": {
           "shape": ""
          }
         },
         "name": "4564",
         "offsetgroup": "4564",
         "orientation": "v",
         "showlegend": true,
         "textposition": "auto",
         "type": "bar",
         "x": [
          "4564"
         ],
         "xaxis": "x",
         "y": [
          180.3
         ],
         "yaxis": "y"
        },
        {
         "alignmentgroup": "True",
         "hovertemplate": "公司代號=%{x}<br>營業收入(百萬元)=%{y}<extra></extra>",
         "legendgroup": "4566",
         "marker": {
          "color": "#FF97FF",
          "pattern": {
           "shape": ""
          }
         },
         "name": "4566",
         "offsetgroup": "4566",
         "orientation": "v",
         "showlegend": true,
         "textposition": "auto",
         "type": "bar",
         "x": [
          "4566"
         ],
         "xaxis": "x",
         "y": [
          1054.69
         ],
         "yaxis": "y"
        },
        {
         "alignmentgroup": "True",
         "hovertemplate": "公司代號=%{x}<br>營業收入(百萬元)=%{y}<extra></extra>",
         "legendgroup": "4569",
         "marker": {
          "color": "#FECB52",
          "pattern": {
           "shape": ""
          }
         },
         "name": "4569",
         "offsetgroup": "4569",
         "orientation": "v",
         "showlegend": true,
         "textposition": "auto",
         "type": "bar",
         "x": [
          "4569"
         ],
         "xaxis": "x",
         "y": [
          350.35
         ],
         "yaxis": "y"
        },
        {
         "alignmentgroup": "True",
         "hovertemplate": "公司代號=%{x}<br>營業收入(百萬元)=%{y}<extra></extra>",
         "legendgroup": "4571",
         "marker": {
          "color": "#636efa",
          "pattern": {
           "shape": ""
          }
         },
         "name": "4571",
         "offsetgroup": "4571",
         "orientation": "v",
         "showlegend": true,
         "textposition": "auto",
         "type": "bar",
         "x": [
          "4571"
         ],
         "xaxis": "x",
         "y": [
          769.66
         ],
         "yaxis": "y"
        },
        {
         "alignmentgroup": "True",
         "hovertemplate": "公司代號=%{x}<br>營業收入(百萬元)=%{y}<extra></extra>",
         "legendgroup": "4572",
         "marker": {
          "color": "#EF553B",
          "pattern": {
           "shape": ""
          }
         },
         "name": "4572",
         "offsetgroup": "4572",
         "orientation": "v",
         "showlegend": true,
         "textposition": "auto",
         "type": "bar",
         "x": [
          "4572"
         ],
         "xaxis": "x",
         "y": [
          231.69
         ],
         "yaxis": "y"
        },
        {
         "alignmentgroup": "True",
         "hovertemplate": "公司代號=%{x}<br>營業收入(百萬元)=%{y}<extra></extra>",
         "legendgroup": "4576",
         "marker": {
          "color": "#00cc96",
          "pattern": {
           "shape": ""
          }
         },
         "name": "4576",
         "offsetgroup": "4576",
         "orientation": "v",
         "showlegend": true,
         "textposition": "auto",
         "type": "bar",
         "x": [
          "4576"
         ],
         "xaxis": "x",
         "y": [
          453.94
         ],
         "yaxis": "y"
        },
        {
         "alignmentgroup": "True",
         "hovertemplate": "公司代號=%{x}<br>營業收入(百萬元)=%{y}<extra></extra>",
         "legendgroup": "4581",
         "marker": {
          "color": "#ab63fa",
          "pattern": {
           "shape": ""
          }
         },
         "name": "4581",
         "offsetgroup": "4581",
         "orientation": "v",
         "showlegend": true,
         "textposition": "auto",
         "type": "bar",
         "x": [
          "4581"
         ],
         "xaxis": "x",
         "y": [
          281
         ],
         "yaxis": "y"
        },
        {
         "alignmentgroup": "True",
         "hovertemplate": "公司代號=%{x}<br>營業收入(百萬元)=%{y}<extra></extra>",
         "legendgroup": "4583",
         "marker": {
          "color": "#FFA15A",
          "pattern": {
           "shape": ""
          }
         },
         "name": "4583",
         "offsetgroup": "4583",
         "orientation": "v",
         "showlegend": true,
         "textposition": "auto",
         "type": "bar",
         "x": [
          "4583"
         ],
         "xaxis": "x",
         "y": [
          719.76
         ],
         "yaxis": "y"
        },
        {
         "alignmentgroup": "True",
         "hovertemplate": "公司代號=%{x}<br>營業收入(百萬元)=%{y}<extra></extra>",
         "legendgroup": "4588",
         "marker": {
          "color": "#19d3f3",
          "pattern": {
           "shape": ""
          }
         },
         "name": "4588",
         "offsetgroup": "4588",
         "orientation": "v",
         "showlegend": true,
         "textposition": "auto",
         "type": "bar",
         "x": [
          "4588"
         ],
         "xaxis": "x",
         "y": [
          243.87
         ],
         "yaxis": "y"
        },
        {
         "alignmentgroup": "True",
         "hovertemplate": "公司代號=%{x}<br>營業收入(百萬元)=%{y}<extra></extra>",
         "legendgroup": "4720",
         "marker": {
          "color": "#FF6692",
          "pattern": {
           "shape": ""
          }
         },
         "name": "4720",
         "offsetgroup": "4720",
         "orientation": "v",
         "showlegend": true,
         "textposition": "auto",
         "type": "bar",
         "x": [
          "4720"
         ],
         "xaxis": "x",
         "y": [
          861.39
         ],
         "yaxis": "y"
        },
        {
         "alignmentgroup": "True",
         "hovertemplate": "公司代號=%{x}<br>營業收入(百萬元)=%{y}<extra></extra>",
         "legendgroup": "4722",
         "marker": {
          "color": "#B6E880",
          "pattern": {
           "shape": ""
          }
         },
         "name": "4722",
         "offsetgroup": "4722",
         "orientation": "v",
         "showlegend": true,
         "textposition": "auto",
         "type": "bar",
         "x": [
          "4722"
         ],
         "xaxis": "x",
         "y": [
          908.44
         ],
         "yaxis": "y"
        },
        {
         "alignmentgroup": "True",
         "hovertemplate": "公司代號=%{x}<br>營業收入(百萬元)=%{y}<extra></extra>",
         "legendgroup": "4736",
         "marker": {
          "color": "#FF97FF",
          "pattern": {
           "shape": ""
          }
         },
         "name": "4736",
         "offsetgroup": "4736",
         "orientation": "v",
         "showlegend": true,
         "textposition": "auto",
         "type": "bar",
         "x": [
          "4736"
         ],
         "xaxis": "x",
         "y": [
          1078.4
         ],
         "yaxis": "y"
        },
        {
         "alignmentgroup": "True",
         "hovertemplate": "公司代號=%{x}<br>營業收入(百萬元)=%{y}<extra></extra>",
         "legendgroup": "4737",
         "marker": {
          "color": "#FECB52",
          "pattern": {
           "shape": ""
          }
         },
         "name": "4737",
         "offsetgroup": "4737",
         "orientation": "v",
         "showlegend": true,
         "textposition": "auto",
         "type": "bar",
         "x": [
          "4737"
         ],
         "xaxis": "x",
         "y": [
          468.47
         ],
         "yaxis": "y"
        },
        {
         "alignmentgroup": "True",
         "hovertemplate": "公司代號=%{x}<br>營業收入(百萬元)=%{y}<extra></extra>",
         "legendgroup": "4739",
         "marker": {
          "color": "#636efa",
          "pattern": {
           "shape": ""
          }
         },
         "name": "4739",
         "offsetgroup": "4739",
         "orientation": "v",
         "showlegend": true,
         "textposition": "auto",
         "type": "bar",
         "x": [
          "4739"
         ],
         "xaxis": "x",
         "y": [
          1090.21
         ],
         "yaxis": "y"
        },
        {
         "alignmentgroup": "True",
         "hovertemplate": "公司代號=%{x}<br>營業收入(百萬元)=%{y}<extra></extra>",
         "legendgroup": "4746",
         "marker": {
          "color": "#EF553B",
          "pattern": {
           "shape": ""
          }
         },
         "name": "4746",
         "offsetgroup": "4746",
         "orientation": "v",
         "showlegend": true,
         "textposition": "auto",
         "type": "bar",
         "x": [
          "4746"
         ],
         "xaxis": "x",
         "y": [
          1134.1
         ],
         "yaxis": "y"
        },
        {
         "alignmentgroup": "True",
         "hovertemplate": "公司代號=%{x}<br>營業收入(百萬元)=%{y}<extra></extra>",
         "legendgroup": "4755",
         "marker": {
          "color": "#00cc96",
          "pattern": {
           "shape": ""
          }
         },
         "name": "4755",
         "offsetgroup": "4755",
         "orientation": "v",
         "showlegend": true,
         "textposition": "auto",
         "type": "bar",
         "x": [
          "4755"
         ],
         "xaxis": "x",
         "y": [
          1132.11
         ],
         "yaxis": "y"
        },
        {
         "alignmentgroup": "True",
         "hovertemplate": "公司代號=%{x}<br>營業收入(百萬元)=%{y}<extra></extra>",
         "legendgroup": "4763",
         "marker": {
          "color": "#ab63fa",
          "pattern": {
           "shape": ""
          }
         },
         "name": "4763",
         "offsetgroup": "4763",
         "orientation": "v",
         "showlegend": true,
         "textposition": "auto",
         "type": "bar",
         "x": [
          "4763"
         ],
         "xaxis": "x",
         "y": [
          3613.52
         ],
         "yaxis": "y"
        },
        {
         "alignmentgroup": "True",
         "hovertemplate": "公司代號=%{x}<br>營業收入(百萬元)=%{y}<extra></extra>",
         "legendgroup": "4764",
         "marker": {
          "color": "#FFA15A",
          "pattern": {
           "shape": ""
          }
         },
         "name": "4764",
         "offsetgroup": "4764",
         "orientation": "v",
         "showlegend": true,
         "textposition": "auto",
         "type": "bar",
         "x": [
          "4764"
         ],
         "xaxis": "x",
         "y": [
          521.37
         ],
         "yaxis": "y"
        },
        {
         "alignmentgroup": "True",
         "hovertemplate": "公司代號=%{x}<br>營業收入(百萬元)=%{y}<extra></extra>",
         "legendgroup": "4766",
         "marker": {
          "color": "#19d3f3",
          "pattern": {
           "shape": ""
          }
         },
         "name": "4766",
         "offsetgroup": "4766",
         "orientation": "v",
         "showlegend": true,
         "textposition": "auto",
         "type": "bar",
         "x": [
          "4766"
         ],
         "xaxis": "x",
         "y": [
          4989.91
         ],
         "yaxis": "y"
        },
        {
         "alignmentgroup": "True",
         "hovertemplate": "公司代號=%{x}<br>營業收入(百萬元)=%{y}<extra></extra>",
         "legendgroup": "4770",
         "marker": {
          "color": "#FF6692",
          "pattern": {
           "shape": ""
          }
         },
         "name": "4770",
         "offsetgroup": "4770",
         "orientation": "v",
         "showlegend": true,
         "textposition": "auto",
         "type": "bar",
         "x": [
          "4770"
         ],
         "xaxis": "x",
         "y": [
          1479.22
         ],
         "yaxis": "y"
        },
        {
         "alignmentgroup": "True",
         "hovertemplate": "公司代號=%{x}<br>營業收入(百萬元)=%{y}<extra></extra>",
         "legendgroup": "4771",
         "marker": {
          "color": "#B6E880",
          "pattern": {
           "shape": ""
          }
         },
         "name": "4771",
         "offsetgroup": "4771",
         "orientation": "v",
         "showlegend": true,
         "textposition": "auto",
         "type": "bar",
         "x": [
          "4771"
         ],
         "xaxis": "x",
         "y": [
          768.03
         ],
         "yaxis": "y"
        },
        {
         "alignmentgroup": "True",
         "hovertemplate": "公司代號=%{x}<br>營業收入(百萬元)=%{y}<extra></extra>",
         "legendgroup": "4807",
         "marker": {
          "color": "#FF97FF",
          "pattern": {
           "shape": ""
          }
         },
         "name": "4807",
         "offsetgroup": "4807",
         "orientation": "v",
         "showlegend": true,
         "textposition": "auto",
         "type": "bar",
         "x": [
          "4807"
         ],
         "xaxis": "x",
         "y": [
          290.96
         ],
         "yaxis": "y"
        },
        {
         "alignmentgroup": "True",
         "hovertemplate": "公司代號=%{x}<br>營業收入(百萬元)=%{y}<extra></extra>",
         "legendgroup": "4904",
         "marker": {
          "color": "#FECB52",
          "pattern": {
           "shape": ""
          }
         },
         "name": "4904",
         "offsetgroup": "4904",
         "orientation": "v",
         "showlegend": true,
         "textposition": "auto",
         "type": "bar",
         "x": [
          "4904"
         ],
         "xaxis": "x",
         "y": [
          25746.08
         ],
         "yaxis": "y"
        },
        {
         "alignmentgroup": "True",
         "hovertemplate": "公司代號=%{x}<br>營業收入(百萬元)=%{y}<extra></extra>",
         "legendgroup": "4906",
         "marker": {
          "color": "#636efa",
          "pattern": {
           "shape": ""
          }
         },
         "name": "4906",
         "offsetgroup": "4906",
         "orientation": "v",
         "showlegend": true,
         "textposition": "auto",
         "type": "bar",
         "x": [
          "4906"
         ],
         "xaxis": "x",
         "y": [
          5760.95
         ],
         "yaxis": "y"
        },
        {
         "alignmentgroup": "True",
         "hovertemplate": "公司代號=%{x}<br>營業收入(百萬元)=%{y}<extra></extra>",
         "legendgroup": "4912",
         "marker": {
          "color": "#EF553B",
          "pattern": {
           "shape": ""
          }
         },
         "name": "4912",
         "offsetgroup": "4912",
         "orientation": "v",
         "showlegend": true,
         "textposition": "auto",
         "type": "bar",
         "x": [
          "4912"
         ],
         "xaxis": "x",
         "y": [
          1182.85
         ],
         "yaxis": "y"
        },
        {
         "alignmentgroup": "True",
         "hovertemplate": "公司代號=%{x}<br>營業收入(百萬元)=%{y}<extra></extra>",
         "legendgroup": "4915",
         "marker": {
          "color": "#00cc96",
          "pattern": {
           "shape": ""
          }
         },
         "name": "4915",
         "offsetgroup": "4915",
         "orientation": "v",
         "showlegend": true,
         "textposition": "auto",
         "type": "bar",
         "x": [
          "4915"
         ],
         "xaxis": "x",
         "y": [
          13648.74
         ],
         "yaxis": "y"
        },
        {
         "alignmentgroup": "True",
         "hovertemplate": "公司代號=%{x}<br>營業收入(百萬元)=%{y}<extra></extra>",
         "legendgroup": "4916",
         "marker": {
          "color": "#ab63fa",
          "pattern": {
           "shape": ""
          }
         },
         "name": "4916",
         "offsetgroup": "4916",
         "orientation": "v",
         "showlegend": true,
         "textposition": "auto",
         "type": "bar",
         "x": [
          "4916"
         ],
         "xaxis": "x",
         "y": [
          969.95
         ],
         "yaxis": "y"
        },
        {
         "alignmentgroup": "True",
         "hovertemplate": "公司代號=%{x}<br>營業收入(百萬元)=%{y}<extra></extra>",
         "legendgroup": "4919",
         "marker": {
          "color": "#FFA15A",
          "pattern": {
           "shape": ""
          }
         },
         "name": "4919",
         "offsetgroup": "4919",
         "orientation": "v",
         "showlegend": true,
         "textposition": "auto",
         "type": "bar",
         "x": [
          "4919"
         ],
         "xaxis": "x",
         "y": [
          8468.26
         ],
         "yaxis": "y"
        },
        {
         "alignmentgroup": "True",
         "hovertemplate": "公司代號=%{x}<br>營業收入(百萬元)=%{y}<extra></extra>",
         "legendgroup": "4927",
         "marker": {
          "color": "#19d3f3",
          "pattern": {
           "shape": ""
          }
         },
         "name": "4927",
         "offsetgroup": "4927",
         "orientation": "v",
         "showlegend": true,
         "textposition": "auto",
         "type": "bar",
         "x": [
          "4927"
         ],
         "xaxis": "x",
         "y": [
          2814.86
         ],
         "yaxis": "y"
        },
        {
         "alignmentgroup": "True",
         "hovertemplate": "公司代號=%{x}<br>營業收入(百萬元)=%{y}<extra></extra>",
         "legendgroup": "4930",
         "marker": {
          "color": "#FF6692",
          "pattern": {
           "shape": ""
          }
         },
         "name": "4930",
         "offsetgroup": "4930",
         "orientation": "v",
         "showlegend": true,
         "textposition": "auto",
         "type": "bar",
         "x": [
          "4930"
         ],
         "xaxis": "x",
         "y": [
          1706.55
         ],
         "yaxis": "y"
        },
        {
         "alignmentgroup": "True",
         "hovertemplate": "公司代號=%{x}<br>營業收入(百萬元)=%{y}<extra></extra>",
         "legendgroup": "4934",
         "marker": {
          "color": "#B6E880",
          "pattern": {
           "shape": ""
          }
         },
         "name": "4934",
         "offsetgroup": "4934",
         "orientation": "v",
         "showlegend": true,
         "textposition": "auto",
         "type": "bar",
         "x": [
          "4934"
         ],
         "xaxis": "x",
         "y": [
          71.13
         ],
         "yaxis": "y"
        },
        {
         "alignmentgroup": "True",
         "hovertemplate": "公司代號=%{x}<br>營業收入(百萬元)=%{y}<extra></extra>",
         "legendgroup": "4935",
         "marker": {
          "color": "#FF97FF",
          "pattern": {
           "shape": ""
          }
         },
         "name": "4935",
         "offsetgroup": "4935",
         "orientation": "v",
         "showlegend": true,
         "textposition": "auto",
         "type": "bar",
         "x": [
          "4935"
         ],
         "xaxis": "x",
         "y": [
          1407.65
         ],
         "yaxis": "y"
        },
        {
         "alignmentgroup": "True",
         "hovertemplate": "公司代號=%{x}<br>營業收入(百萬元)=%{y}<extra></extra>",
         "legendgroup": "4938",
         "marker": {
          "color": "#FECB52",
          "pattern": {
           "shape": ""
          }
         },
         "name": "4938",
         "offsetgroup": "4938",
         "orientation": "v",
         "showlegend": true,
         "textposition": "auto",
         "type": "bar",
         "x": [
          "4938"
         ],
         "xaxis": "x",
         "y": [
          250399.66
         ],
         "yaxis": "y"
        },
        {
         "alignmentgroup": "True",
         "hovertemplate": "公司代號=%{x}<br>營業收入(百萬元)=%{y}<extra></extra>",
         "legendgroup": "4942",
         "marker": {
          "color": "#636efa",
          "pattern": {
           "shape": ""
          }
         },
         "name": "4942",
         "offsetgroup": "4942",
         "orientation": "v",
         "showlegend": true,
         "textposition": "auto",
         "type": "bar",
         "x": [
          "4942"
         ],
         "xaxis": "x",
         "y": [
          1319.36
         ],
         "yaxis": "y"
        },
        {
         "alignmentgroup": "True",
         "hovertemplate": "公司代號=%{x}<br>營業收入(百萬元)=%{y}<extra></extra>",
         "legendgroup": "4943",
         "marker": {
          "color": "#EF553B",
          "pattern": {
           "shape": ""
          }
         },
         "name": "4943",
         "offsetgroup": "4943",
         "orientation": "v",
         "showlegend": true,
         "textposition": "auto",
         "type": "bar",
         "x": [
          "4943"
         ],
         "xaxis": "x",
         "y": [
          375.97
         ],
         "yaxis": "y"
        },
        {
         "alignmentgroup": "True",
         "hovertemplate": "公司代號=%{x}<br>營業收入(百萬元)=%{y}<extra></extra>",
         "legendgroup": "4949",
         "marker": {
          "color": "#00cc96",
          "pattern": {
           "shape": ""
          }
         },
         "name": "4949",
         "offsetgroup": "4949",
         "orientation": "v",
         "showlegend": true,
         "textposition": "auto",
         "type": "bar",
         "x": [
          "4949"
         ],
         "xaxis": "x",
         "y": [
          607.96
         ],
         "yaxis": "y"
        },
        {
         "alignmentgroup": "True",
         "hovertemplate": "公司代號=%{x}<br>營業收入(百萬元)=%{y}<extra></extra>",
         "legendgroup": "4952",
         "marker": {
          "color": "#ab63fa",
          "pattern": {
           "shape": ""
          }
         },
         "name": "4952",
         "offsetgroup": "4952",
         "orientation": "v",
         "showlegend": true,
         "textposition": "auto",
         "type": "bar",
         "x": [
          "4952"
         ],
         "xaxis": "x",
         "y": [
          543.76
         ],
         "yaxis": "y"
        },
        {
         "alignmentgroup": "True",
         "hovertemplate": "公司代號=%{x}<br>營業收入(百萬元)=%{y}<extra></extra>",
         "legendgroup": "4956",
         "marker": {
          "color": "#FFA15A",
          "pattern": {
           "shape": ""
          }
         },
         "name": "4956",
         "offsetgroup": "4956",
         "orientation": "v",
         "showlegend": true,
         "textposition": "auto",
         "type": "bar",
         "x": [
          "4956"
         ],
         "xaxis": "x",
         "y": [
          269.99
         ],
         "yaxis": "y"
        },
        {
         "alignmentgroup": "True",
         "hovertemplate": "公司代號=%{x}<br>營業收入(百萬元)=%{y}<extra></extra>",
         "legendgroup": "4958",
         "marker": {
          "color": "#19d3f3",
          "pattern": {
           "shape": ""
          }
         },
         "name": "4958",
         "offsetgroup": "4958",
         "orientation": "v",
         "showlegend": true,
         "textposition": "auto",
         "type": "bar",
         "x": [
          "4958"
         ],
         "xaxis": "x",
         "y": [
          32510.32
         ],
         "yaxis": "y"
        },
        {
         "alignmentgroup": "True",
         "hovertemplate": "公司代號=%{x}<br>營業收入(百萬元)=%{y}<extra></extra>",
         "legendgroup": "4960",
         "marker": {
          "color": "#FF6692",
          "pattern": {
           "shape": ""
          }
         },
         "name": "4960",
         "offsetgroup": "4960",
         "orientation": "v",
         "showlegend": true,
         "textposition": "auto",
         "type": "bar",
         "x": [
          "4960"
         ],
         "xaxis": "x",
         "y": [
          1908.23
         ],
         "yaxis": "y"
        },
        {
         "alignmentgroup": "True",
         "hovertemplate": "公司代號=%{x}<br>營業收入(百萬元)=%{y}<extra></extra>",
         "legendgroup": "4961",
         "marker": {
          "color": "#B6E880",
          "pattern": {
           "shape": ""
          }
         },
         "name": "4961",
         "offsetgroup": "4961",
         "orientation": "v",
         "showlegend": true,
         "textposition": "auto",
         "type": "bar",
         "x": [
          "4961"
         ],
         "xaxis": "x",
         "y": [
          3722.91
         ],
         "yaxis": "y"
        },
        {
         "alignmentgroup": "True",
         "hovertemplate": "公司代號=%{x}<br>營業收入(百萬元)=%{y}<extra></extra>",
         "legendgroup": "4967",
         "marker": {
          "color": "#FF97FF",
          "pattern": {
           "shape": ""
          }
         },
         "name": "4967",
         "offsetgroup": "4967",
         "orientation": "v",
         "showlegend": true,
         "textposition": "auto",
         "type": "bar",
         "x": [
          "4967"
         ],
         "xaxis": "x",
         "y": [
          2994.34
         ],
         "yaxis": "y"
        },
        {
         "alignmentgroup": "True",
         "hovertemplate": "公司代號=%{x}<br>營業收入(百萬元)=%{y}<extra></extra>",
         "legendgroup": "4968",
         "marker": {
          "color": "#FECB52",
          "pattern": {
           "shape": ""
          }
         },
         "name": "4968",
         "offsetgroup": "4968",
         "orientation": "v",
         "showlegend": true,
         "textposition": "auto",
         "type": "bar",
         "x": [
          "4968"
         ],
         "xaxis": "x",
         "y": [
          860.74
         ],
         "yaxis": "y"
        },
        {
         "alignmentgroup": "True",
         "hovertemplate": "公司代號=%{x}<br>營業收入(百萬元)=%{y}<extra></extra>",
         "legendgroup": "4976",
         "marker": {
          "color": "#636efa",
          "pattern": {
           "shape": ""
          }
         },
         "name": "4976",
         "offsetgroup": "4976",
         "orientation": "v",
         "showlegend": true,
         "textposition": "auto",
         "type": "bar",
         "x": [
          "4976"
         ],
         "xaxis": "x",
         "y": [
          249.19
         ],
         "yaxis": "y"
        },
        {
         "alignmentgroup": "True",
         "hovertemplate": "公司代號=%{x}<br>營業收入(百萬元)=%{y}<extra></extra>",
         "legendgroup": "4977",
         "marker": {
          "color": "#EF553B",
          "pattern": {
           "shape": ""
          }
         },
         "name": "4977",
         "offsetgroup": "4977",
         "orientation": "v",
         "showlegend": true,
         "textposition": "auto",
         "type": "bar",
         "x": [
          "4977"
         ],
         "xaxis": "x",
         "y": [
          137.44
         ],
         "yaxis": "y"
        },
        {
         "alignmentgroup": "True",
         "hovertemplate": "公司代號=%{x}<br>營業收入(百萬元)=%{y}<extra></extra>",
         "legendgroup": "4989",
         "marker": {
          "color": "#00cc96",
          "pattern": {
           "shape": ""
          }
         },
         "name": "4989",
         "offsetgroup": "4989",
         "orientation": "v",
         "showlegend": true,
         "textposition": "auto",
         "type": "bar",
         "x": [
          "4989"
         ],
         "xaxis": "x",
         "y": [
          788.26
         ],
         "yaxis": "y"
        },
        {
         "alignmentgroup": "True",
         "hovertemplate": "公司代號=%{x}<br>營業收入(百萬元)=%{y}<extra></extra>",
         "legendgroup": "4994",
         "marker": {
          "color": "#ab63fa",
          "pattern": {
           "shape": ""
          }
         },
         "name": "4994",
         "offsetgroup": "4994",
         "orientation": "v",
         "showlegend": true,
         "textposition": "auto",
         "type": "bar",
         "x": [
          "4994"
         ],
         "xaxis": "x",
         "y": [
          447.24
         ],
         "yaxis": "y"
        },
        {
         "alignmentgroup": "True",
         "hovertemplate": "公司代號=%{x}<br>營業收入(百萬元)=%{y}<extra></extra>",
         "legendgroup": "4999",
         "marker": {
          "color": "#FFA15A",
          "pattern": {
           "shape": ""
          }
         },
         "name": "4999",
         "offsetgroup": "4999",
         "orientation": "v",
         "showlegend": true,
         "textposition": "auto",
         "type": "bar",
         "x": [
          "4999"
         ],
         "xaxis": "x",
         "y": [
          415.86
         ],
         "yaxis": "y"
        },
        {
         "alignmentgroup": "True",
         "hovertemplate": "公司代號=%{x}<br>營業收入(百萬元)=%{y}<extra></extra>",
         "legendgroup": "5007",
         "marker": {
          "color": "#19d3f3",
          "pattern": {
           "shape": ""
          }
         },
         "name": "5007",
         "offsetgroup": "5007",
         "orientation": "v",
         "showlegend": true,
         "textposition": "auto",
         "type": "bar",
         "x": [
          "5007"
         ],
         "xaxis": "x",
         "y": [
          1782.5
         ],
         "yaxis": "y"
        },
        {
         "alignmentgroup": "True",
         "hovertemplate": "公司代號=%{x}<br>營業收入(百萬元)=%{y}<extra></extra>",
         "legendgroup": "5203",
         "marker": {
          "color": "#FF6692",
          "pattern": {
           "shape": ""
          }
         },
         "name": "5203",
         "offsetgroup": "5203",
         "orientation": "v",
         "showlegend": true,
         "textposition": "auto",
         "type": "bar",
         "x": [
          "5203"
         ],
         "xaxis": "x",
         "y": [
          492.11
         ],
         "yaxis": "y"
        },
        {
         "alignmentgroup": "True",
         "hovertemplate": "公司代號=%{x}<br>營業收入(百萬元)=%{y}<extra></extra>",
         "legendgroup": "5215",
         "marker": {
          "color": "#B6E880",
          "pattern": {
           "shape": ""
          }
         },
         "name": "5215",
         "offsetgroup": "5215",
         "orientation": "v",
         "showlegend": true,
         "textposition": "auto",
         "type": "bar",
         "x": [
          "5215"
         ],
         "xaxis": "x",
         "y": [
          549.92
         ],
         "yaxis": "y"
        },
        {
         "alignmentgroup": "True",
         "hovertemplate": "公司代號=%{x}<br>營業收入(百萬元)=%{y}<extra></extra>",
         "legendgroup": "5222",
         "marker": {
          "color": "#FF97FF",
          "pattern": {
           "shape": ""
          }
         },
         "name": "5222",
         "offsetgroup": "5222",
         "orientation": "v",
         "showlegend": true,
         "textposition": "auto",
         "type": "bar",
         "x": [
          "5222"
         ],
         "xaxis": "x",
         "y": [
          278.1
         ],
         "yaxis": "y"
        },
        {
         "alignmentgroup": "True",
         "hovertemplate": "公司代號=%{x}<br>營業收入(百萬元)=%{y}<extra></extra>",
         "legendgroup": "5225",
         "marker": {
          "color": "#FECB52",
          "pattern": {
           "shape": ""
          }
         },
         "name": "5225",
         "offsetgroup": "5225",
         "orientation": "v",
         "showlegend": true,
         "textposition": "auto",
         "type": "bar",
         "x": [
          "5225"
         ],
         "xaxis": "x",
         "y": [
          2763.01
         ],
         "yaxis": "y"
        },
        {
         "alignmentgroup": "True",
         "hovertemplate": "公司代號=%{x}<br>營業收入(百萬元)=%{y}<extra></extra>",
         "legendgroup": "5234",
         "marker": {
          "color": "#636efa",
          "pattern": {
           "shape": ""
          }
         },
         "name": "5234",
         "offsetgroup": "5234",
         "orientation": "v",
         "showlegend": true,
         "textposition": "auto",
         "type": "bar",
         "x": [
          "5234"
         ],
         "xaxis": "x",
         "y": [
          948.76
         ],
         "yaxis": "y"
        },
        {
         "alignmentgroup": "True",
         "hovertemplate": "公司代號=%{x}<br>營業收入(百萬元)=%{y}<extra></extra>",
         "legendgroup": "5243",
         "marker": {
          "color": "#EF553B",
          "pattern": {
           "shape": ""
          }
         },
         "name": "5243",
         "offsetgroup": "5243",
         "orientation": "v",
         "showlegend": true,
         "textposition": "auto",
         "type": "bar",
         "x": [
          "5243"
         ],
         "xaxis": "x",
         "y": [
          2875.47
         ],
         "yaxis": "y"
        },
        {
         "alignmentgroup": "True",
         "hovertemplate": "公司代號=%{x}<br>營業收入(百萬元)=%{y}<extra></extra>",
         "legendgroup": "5244",
         "marker": {
          "color": "#00cc96",
          "pattern": {
           "shape": ""
          }
         },
         "name": "5244",
         "offsetgroup": "5244",
         "orientation": "v",
         "showlegend": true,
         "textposition": "auto",
         "type": "bar",
         "x": [
          "5244"
         ],
         "xaxis": "x",
         "y": [
          183.49
         ],
         "yaxis": "y"
        },
        {
         "alignmentgroup": "True",
         "hovertemplate": "公司代號=%{x}<br>營業收入(百萬元)=%{y}<extra></extra>",
         "legendgroup": "5258",
         "marker": {
          "color": "#ab63fa",
          "pattern": {
           "shape": ""
          }
         },
         "name": "5258",
         "offsetgroup": "5258",
         "orientation": "v",
         "showlegend": true,
         "textposition": "auto",
         "type": "bar",
         "x": [
          "5258"
         ],
         "xaxis": "x",
         "y": [
          1713.18
         ],
         "yaxis": "y"
        },
        {
         "alignmentgroup": "True",
         "hovertemplate": "公司代號=%{x}<br>營業收入(百萬元)=%{y}<extra></extra>",
         "legendgroup": "5269",
         "marker": {
          "color": "#FFA15A",
          "pattern": {
           "shape": ""
          }
         },
         "name": "5269",
         "offsetgroup": "5269",
         "orientation": "v",
         "showlegend": true,
         "textposition": "auto",
         "type": "bar",
         "x": [
          "5269"
         ],
         "xaxis": "x",
         "y": [
          1948.19
         ],
         "yaxis": "y"
        },
        {
         "alignmentgroup": "True",
         "hovertemplate": "公司代號=%{x}<br>營業收入(百萬元)=%{y}<extra></extra>",
         "legendgroup": "5283",
         "marker": {
          "color": "#19d3f3",
          "pattern": {
           "shape": ""
          }
         },
         "name": "5283",
         "offsetgroup": "5283",
         "orientation": "v",
         "showlegend": true,
         "textposition": "auto",
         "type": "bar",
         "x": [
          "5283"
         ],
         "xaxis": "x",
         "y": [
          1124.42
         ],
         "yaxis": "y"
        },
        {
         "alignmentgroup": "True",
         "hovertemplate": "公司代號=%{x}<br>營業收入(百萬元)=%{y}<extra></extra>",
         "legendgroup": "5284",
         "marker": {
          "color": "#FF6692",
          "pattern": {
           "shape": ""
          }
         },
         "name": "5284",
         "offsetgroup": "5284",
         "orientation": "v",
         "showlegend": true,
         "textposition": "auto",
         "type": "bar",
         "x": [
          "5284"
         ],
         "xaxis": "x",
         "y": [
          602.54
         ],
         "yaxis": "y"
        },
        {
         "alignmentgroup": "True",
         "hovertemplate": "公司代號=%{x}<br>營業收入(百萬元)=%{y}<extra></extra>",
         "legendgroup": "5285",
         "marker": {
          "color": "#B6E880",
          "pattern": {
           "shape": ""
          }
         },
         "name": "5285",
         "offsetgroup": "5285",
         "orientation": "v",
         "showlegend": true,
         "textposition": "auto",
         "type": "bar",
         "x": [
          "5285"
         ],
         "xaxis": "x",
         "y": [
          1185.51
         ],
         "yaxis": "y"
        },
        {
         "alignmentgroup": "True",
         "hovertemplate": "公司代號=%{x}<br>營業收入(百萬元)=%{y}<extra></extra>",
         "legendgroup": "5288",
         "marker": {
          "color": "#FF97FF",
          "pattern": {
           "shape": ""
          }
         },
         "name": "5288",
         "offsetgroup": "5288",
         "orientation": "v",
         "showlegend": true,
         "textposition": "auto",
         "type": "bar",
         "x": [
          "5288"
         ],
         "xaxis": "x",
         "y": [
          1775.15
         ],
         "yaxis": "y"
        },
        {
         "alignmentgroup": "True",
         "hovertemplate": "公司代號=%{x}<br>營業收入(百萬元)=%{y}<extra></extra>",
         "legendgroup": "5292",
         "marker": {
          "color": "#FECB52",
          "pattern": {
           "shape": ""
          }
         },
         "name": "5292",
         "offsetgroup": "5292",
         "orientation": "v",
         "showlegend": true,
         "textposition": "auto",
         "type": "bar",
         "x": [
          "5292"
         ],
         "xaxis": "x",
         "y": [
          551.47
         ],
         "yaxis": "y"
        },
        {
         "alignmentgroup": "True",
         "hovertemplate": "公司代號=%{x}<br>營業收入(百萬元)=%{y}<extra></extra>",
         "legendgroup": "5306",
         "marker": {
          "color": "#636efa",
          "pattern": {
           "shape": ""
          }
         },
         "name": "5306",
         "offsetgroup": "5306",
         "orientation": "v",
         "showlegend": true,
         "textposition": "auto",
         "type": "bar",
         "x": [
          "5306"
         ],
         "xaxis": "x",
         "y": [
          1101.73
         ],
         "yaxis": "y"
        },
        {
         "alignmentgroup": "True",
         "hovertemplate": "公司代號=%{x}<br>營業收入(百萬元)=%{y}<extra></extra>",
         "legendgroup": "5388",
         "marker": {
          "color": "#EF553B",
          "pattern": {
           "shape": ""
          }
         },
         "name": "5388",
         "offsetgroup": "5388",
         "orientation": "v",
         "showlegend": true,
         "textposition": "auto",
         "type": "bar",
         "x": [
          "5388"
         ],
         "xaxis": "x",
         "y": [
          16193.48
         ],
         "yaxis": "y"
        },
        {
         "alignmentgroup": "True",
         "hovertemplate": "公司代號=%{x}<br>營業收入(百萬元)=%{y}<extra></extra>",
         "legendgroup": "5434",
         "marker": {
          "color": "#00cc96",
          "pattern": {
           "shape": ""
          }
         },
         "name": "5434",
         "offsetgroup": "5434",
         "orientation": "v",
         "showlegend": true,
         "textposition": "auto",
         "type": "bar",
         "x": [
          "5434"
         ],
         "xaxis": "x",
         "y": [
          11931.58
         ],
         "yaxis": "y"
        },
        {
         "alignmentgroup": "True",
         "hovertemplate": "公司代號=%{x}<br>營業收入(百萬元)=%{y}<extra></extra>",
         "legendgroup": "5469",
         "marker": {
          "color": "#ab63fa",
          "pattern": {
           "shape": ""
          }
         },
         "name": "5469",
         "offsetgroup": "5469",
         "orientation": "v",
         "showlegend": true,
         "textposition": "auto",
         "type": "bar",
         "x": [
          "5469"
         ],
         "xaxis": "x",
         "y": [
          9246.15
         ],
         "yaxis": "y"
        },
        {
         "alignmentgroup": "True",
         "hovertemplate": "公司代號=%{x}<br>營業收入(百萬元)=%{y}<extra></extra>",
         "legendgroup": "5471",
         "marker": {
          "color": "#FFA15A",
          "pattern": {
           "shape": ""
          }
         },
         "name": "5471",
         "offsetgroup": "5471",
         "orientation": "v",
         "showlegend": true,
         "textposition": "auto",
         "type": "bar",
         "x": [
          "5471"
         ],
         "xaxis": "x",
         "y": [
          612.03
         ],
         "yaxis": "y"
        },
        {
         "alignmentgroup": "True",
         "hovertemplate": "公司代號=%{x}<br>營業收入(百萬元)=%{y}<extra></extra>",
         "legendgroup": "5484",
         "marker": {
          "color": "#19d3f3",
          "pattern": {
           "shape": ""
          }
         },
         "name": "5484",
         "offsetgroup": "5484",
         "orientation": "v",
         "showlegend": true,
         "textposition": "auto",
         "type": "bar",
         "x": [
          "5484"
         ],
         "xaxis": "x",
         "y": [
          82.18
         ],
         "yaxis": "y"
        },
        {
         "alignmentgroup": "True",
         "hovertemplate": "公司代號=%{x}<br>營業收入(百萬元)=%{y}<extra></extra>",
         "legendgroup": "5515",
         "marker": {
          "color": "#FF6692",
          "pattern": {
           "shape": ""
          }
         },
         "name": "5515",
         "offsetgroup": "5515",
         "orientation": "v",
         "showlegend": true,
         "textposition": "auto",
         "type": "bar",
         "x": [
          "5515"
         ],
         "xaxis": "x",
         "y": [
          1162.34
         ],
         "yaxis": "y"
        },
        {
         "alignmentgroup": "True",
         "hovertemplate": "公司代號=%{x}<br>營業收入(百萬元)=%{y}<extra></extra>",
         "legendgroup": "5519",
         "marker": {
          "color": "#B6E880",
          "pattern": {
           "shape": ""
          }
         },
         "name": "5519",
         "offsetgroup": "5519",
         "orientation": "v",
         "showlegend": true,
         "textposition": "auto",
         "type": "bar",
         "x": [
          "5519"
         ],
         "xaxis": "x",
         "y": [
          2422.84
         ],
         "yaxis": "y"
        },
        {
         "alignmentgroup": "True",
         "hovertemplate": "公司代號=%{x}<br>營業收入(百萬元)=%{y}<extra></extra>",
         "legendgroup": "5521",
         "marker": {
          "color": "#FF97FF",
          "pattern": {
           "shape": ""
          }
         },
         "name": "5521",
         "offsetgroup": "5521",
         "orientation": "v",
         "showlegend": true,
         "textposition": "auto",
         "type": "bar",
         "x": [
          "5521"
         ],
         "xaxis": "x",
         "y": [
          1501.7
         ],
         "yaxis": "y"
        },
        {
         "alignmentgroup": "True",
         "hovertemplate": "公司代號=%{x}<br>營業收入(百萬元)=%{y}<extra></extra>",
         "legendgroup": "5522",
         "marker": {
          "color": "#FECB52",
          "pattern": {
           "shape": ""
          }
         },
         "name": "5522",
         "offsetgroup": "5522",
         "orientation": "v",
         "showlegend": true,
         "textposition": "auto",
         "type": "bar",
         "x": [
          "5522"
         ],
         "xaxis": "x",
         "y": [
          3314.41
         ],
         "yaxis": "y"
        },
        {
         "alignmentgroup": "True",
         "hovertemplate": "公司代號=%{x}<br>營業收入(百萬元)=%{y}<extra></extra>",
         "legendgroup": "5525",
         "marker": {
          "color": "#636efa",
          "pattern": {
           "shape": ""
          }
         },
         "name": "5525",
         "offsetgroup": "5525",
         "orientation": "v",
         "showlegend": true,
         "textposition": "auto",
         "type": "bar",
         "x": [
          "5525"
         ],
         "xaxis": "x",
         "y": [
          149.46
         ],
         "yaxis": "y"
        },
        {
         "alignmentgroup": "True",
         "hovertemplate": "公司代號=%{x}<br>營業收入(百萬元)=%{y}<extra></extra>",
         "legendgroup": "5531",
         "marker": {
          "color": "#EF553B",
          "pattern": {
           "shape": ""
          }
         },
         "name": "5531",
         "offsetgroup": "5531",
         "orientation": "v",
         "showlegend": true,
         "textposition": "auto",
         "type": "bar",
         "x": [
          "5531"
         ],
         "xaxis": "x",
         "y": [
          170.19
         ],
         "yaxis": "y"
        },
        {
         "alignmentgroup": "True",
         "hovertemplate": "公司代號=%{x}<br>營業收入(百萬元)=%{y}<extra></extra>",
         "legendgroup": "5533",
         "marker": {
          "color": "#00cc96",
          "pattern": {
           "shape": ""
          }
         },
         "name": "5533",
         "offsetgroup": "5533",
         "orientation": "v",
         "showlegend": true,
         "textposition": "auto",
         "type": "bar",
         "x": [
          "5533"
         ],
         "xaxis": "x",
         "y": [
          245.69
         ],
         "yaxis": "y"
        },
        {
         "alignmentgroup": "True",
         "hovertemplate": "公司代號=%{x}<br>營業收入(百萬元)=%{y}<extra></extra>",
         "legendgroup": "5534",
         "marker": {
          "color": "#ab63fa",
          "pattern": {
           "shape": ""
          }
         },
         "name": "5534",
         "offsetgroup": "5534",
         "orientation": "v",
         "showlegend": true,
         "textposition": "auto",
         "type": "bar",
         "x": [
          "5534"
         ],
         "xaxis": "x",
         "y": [
          544.11
         ],
         "yaxis": "y"
        },
        {
         "alignmentgroup": "True",
         "hovertemplate": "公司代號=%{x}<br>營業收入(百萬元)=%{y}<extra></extra>",
         "legendgroup": "5538",
         "marker": {
          "color": "#FFA15A",
          "pattern": {
           "shape": ""
          }
         },
         "name": "5538",
         "offsetgroup": "5538",
         "orientation": "v",
         "showlegend": true,
         "textposition": "auto",
         "type": "bar",
         "x": [
          "5538"
         ],
         "xaxis": "x",
         "y": [
          2573.39
         ],
         "yaxis": "y"
        },
        {
         "alignmentgroup": "True",
         "hovertemplate": "公司代號=%{x}<br>營業收入(百萬元)=%{y}<extra></extra>",
         "legendgroup": "5546",
         "marker": {
          "color": "#19d3f3",
          "pattern": {
           "shape": ""
          }
         },
         "name": "5546",
         "offsetgroup": "5546",
         "orientation": "v",
         "showlegend": true,
         "textposition": "auto",
         "type": "bar",
         "x": [
          "5546"
         ],
         "xaxis": "x",
         "y": [
          791.22
         ],
         "yaxis": "y"
        },
        {
         "alignmentgroup": "True",
         "hovertemplate": "公司代號=%{x}<br>營業收入(百萬元)=%{y}<extra></extra>",
         "legendgroup": "5607",
         "marker": {
          "color": "#FF6692",
          "pattern": {
           "shape": ""
          }
         },
         "name": "5607",
         "offsetgroup": "5607",
         "orientation": "v",
         "showlegend": true,
         "textposition": "auto",
         "type": "bar",
         "x": [
          "5607"
         ],
         "xaxis": "x",
         "y": [
          805.2
         ],
         "yaxis": "y"
        },
        {
         "alignmentgroup": "True",
         "hovertemplate": "公司代號=%{x}<br>營業收入(百萬元)=%{y}<extra></extra>",
         "legendgroup": "5608",
         "marker": {
          "color": "#B6E880",
          "pattern": {
           "shape": ""
          }
         },
         "name": "5608",
         "offsetgroup": "5608",
         "orientation": "v",
         "showlegend": true,
         "textposition": "auto",
         "type": "bar",
         "x": [
          "5608"
         ],
         "xaxis": "x",
         "y": [
          785.2
         ],
         "yaxis": "y"
        },
        {
         "alignmentgroup": "True",
         "hovertemplate": "公司代號=%{x}<br>營業收入(百萬元)=%{y}<extra></extra>",
         "legendgroup": "5706",
         "marker": {
          "color": "#FF97FF",
          "pattern": {
           "shape": ""
          }
         },
         "name": "5706",
         "offsetgroup": "5706",
         "orientation": "v",
         "showlegend": true,
         "textposition": "auto",
         "type": "bar",
         "x": [
          "5706"
         ],
         "xaxis": "x",
         "y": [
          596.63
         ],
         "yaxis": "y"
        },
        {
         "alignmentgroup": "True",
         "hovertemplate": "公司代號=%{x}<br>營業收入(百萬元)=%{y}<extra></extra>",
         "legendgroup": "5871",
         "marker": {
          "color": "#FECB52",
          "pattern": {
           "shape": ""
          }
         },
         "name": "5871",
         "offsetgroup": "5871",
         "orientation": "v",
         "showlegend": true,
         "textposition": "auto",
         "type": "bar",
         "x": [
          "5871"
         ],
         "xaxis": "x",
         "y": [
          25011.02
         ],
         "yaxis": "y"
        },
        {
         "alignmentgroup": "True",
         "hovertemplate": "公司代號=%{x}<br>營業收入(百萬元)=%{y}<extra></extra>",
         "legendgroup": "5906",
         "marker": {
          "color": "#636efa",
          "pattern": {
           "shape": ""
          }
         },
         "name": "5906",
         "offsetgroup": "5906",
         "orientation": "v",
         "showlegend": true,
         "textposition": "auto",
         "type": "bar",
         "x": [
          "5906"
         ],
         "xaxis": "x",
         "y": [
          497.39
         ],
         "yaxis": "y"
        },
        {
         "alignmentgroup": "True",
         "hovertemplate": "公司代號=%{x}<br>營業收入(百萬元)=%{y}<extra></extra>",
         "legendgroup": "5907",
         "marker": {
          "color": "#EF553B",
          "pattern": {
           "shape": ""
          }
         },
         "name": "5907",
         "offsetgroup": "5907",
         "orientation": "v",
         "showlegend": true,
         "textposition": "auto",
         "type": "bar",
         "x": [
          "5907"
         ],
         "xaxis": "x",
         "y": [
          910.98
         ],
         "yaxis": "y"
        },
        {
         "alignmentgroup": "True",
         "hovertemplate": "公司代號=%{x}<br>營業收入(百萬元)=%{y}<extra></extra>",
         "legendgroup": "6108",
         "marker": {
          "color": "#00cc96",
          "pattern": {
           "shape": ""
          }
         },
         "name": "6108",
         "offsetgroup": "6108",
         "orientation": "v",
         "showlegend": true,
         "textposition": "auto",
         "type": "bar",
         "x": [
          "6108"
         ],
         "xaxis": "x",
         "y": [
          1353.61
         ],
         "yaxis": "y"
        },
        {
         "alignmentgroup": "True",
         "hovertemplate": "公司代號=%{x}<br>營業收入(百萬元)=%{y}<extra></extra>",
         "legendgroup": "6112",
         "marker": {
          "color": "#ab63fa",
          "pattern": {
           "shape": ""
          }
         },
         "name": "6112",
         "offsetgroup": "6112",
         "orientation": "v",
         "showlegend": true,
         "textposition": "auto",
         "type": "bar",
         "x": [
          "6112"
         ],
         "xaxis": "x",
         "y": [
          4749.49
         ],
         "yaxis": "y"
        },
        {
         "alignmentgroup": "True",
         "hovertemplate": "公司代號=%{x}<br>營業收入(百萬元)=%{y}<extra></extra>",
         "legendgroup": "6115",
         "marker": {
          "color": "#FFA15A",
          "pattern": {
           "shape": ""
          }
         },
         "name": "6115",
         "offsetgroup": "6115",
         "orientation": "v",
         "showlegend": true,
         "textposition": "auto",
         "type": "bar",
         "x": [
          "6115"
         ],
         "xaxis": "x",
         "y": [
          1593.26
         ],
         "yaxis": "y"
        },
        {
         "alignmentgroup": "True",
         "hovertemplate": "公司代號=%{x}<br>營業收入(百萬元)=%{y}<extra></extra>",
         "legendgroup": "6116",
         "marker": {
          "color": "#19d3f3",
          "pattern": {
           "shape": ""
          }
         },
         "name": "6116",
         "offsetgroup": "6116",
         "orientation": "v",
         "showlegend": true,
         "textposition": "auto",
         "type": "bar",
         "x": [
          "6116"
         ],
         "xaxis": "x",
         "y": [
          2536.53
         ],
         "yaxis": "y"
        },
        {
         "alignmentgroup": "True",
         "hovertemplate": "公司代號=%{x}<br>營業收入(百萬元)=%{y}<extra></extra>",
         "legendgroup": "6117",
         "marker": {
          "color": "#FF6692",
          "pattern": {
           "shape": ""
          }
         },
         "name": "6117",
         "offsetgroup": "6117",
         "orientation": "v",
         "showlegend": true,
         "textposition": "auto",
         "type": "bar",
         "x": [
          "6117"
         ],
         "xaxis": "x",
         "y": [
          717.05
         ],
         "yaxis": "y"
        },
        {
         "alignmentgroup": "True",
         "hovertemplate": "公司代號=%{x}<br>營業收入(百萬元)=%{y}<extra></extra>",
         "legendgroup": "6120",
         "marker": {
          "color": "#B6E880",
          "pattern": {
           "shape": ""
          }
         },
         "name": "6120",
         "offsetgroup": "6120",
         "orientation": "v",
         "showlegend": true,
         "textposition": "auto",
         "type": "bar",
         "x": [
          "6120"
         ],
         "xaxis": "x",
         "y": [
          4997.86
         ],
         "yaxis": "y"
        },
        {
         "alignmentgroup": "True",
         "hovertemplate": "公司代號=%{x}<br>營業收入(百萬元)=%{y}<extra></extra>",
         "legendgroup": "6128",
         "marker": {
          "color": "#FF97FF",
          "pattern": {
           "shape": ""
          }
         },
         "name": "6128",
         "offsetgroup": "6128",
         "orientation": "v",
         "showlegend": true,
         "textposition": "auto",
         "type": "bar",
         "x": [
          "6128"
         ],
         "xaxis": "x",
         "y": [
          1374.42
         ],
         "yaxis": "y"
        },
        {
         "alignmentgroup": "True",
         "hovertemplate": "公司代號=%{x}<br>營業收入(百萬元)=%{y}<extra></extra>",
         "legendgroup": "6133",
         "marker": {
          "color": "#FECB52",
          "pattern": {
           "shape": ""
          }
         },
         "name": "6133",
         "offsetgroup": "6133",
         "orientation": "v",
         "showlegend": true,
         "textposition": "auto",
         "type": "bar",
         "x": [
          "6133"
         ],
         "xaxis": "x",
         "y": [
          224.98
         ],
         "yaxis": "y"
        },
        {
         "alignmentgroup": "True",
         "hovertemplate": "公司代號=%{x}<br>營業收入(百萬元)=%{y}<extra></extra>",
         "legendgroup": "6136",
         "marker": {
          "color": "#636efa",
          "pattern": {
           "shape": ""
          }
         },
         "name": "6136",
         "offsetgroup": "6136",
         "orientation": "v",
         "showlegend": true,
         "textposition": "auto",
         "type": "bar",
         "x": [
          "6136"
         ],
         "xaxis": "x",
         "y": [
          123.71
         ],
         "yaxis": "y"
        },
        {
         "alignmentgroup": "True",
         "hovertemplate": "公司代號=%{x}<br>營業收入(百萬元)=%{y}<extra></extra>",
         "legendgroup": "6139",
         "marker": {
          "color": "#EF553B",
          "pattern": {
           "shape": ""
          }
         },
         "name": "6139",
         "offsetgroup": "6139",
         "orientation": "v",
         "showlegend": true,
         "textposition": "auto",
         "type": "bar",
         "x": [
          "6139"
         ],
         "xaxis": "x",
         "y": [
          19166.56
         ],
         "yaxis": "y"
        },
        {
         "alignmentgroup": "True",
         "hovertemplate": "公司代號=%{x}<br>營業收入(百萬元)=%{y}<extra></extra>",
         "legendgroup": "6141",
         "marker": {
          "color": "#00cc96",
          "pattern": {
           "shape": ""
          }
         },
         "name": "6141",
         "offsetgroup": "6141",
         "orientation": "v",
         "showlegend": true,
         "textposition": "auto",
         "type": "bar",
         "x": [
          "6141"
         ],
         "xaxis": "x",
         "y": [
          757.74
         ],
         "yaxis": "y"
        },
        {
         "alignmentgroup": "True",
         "hovertemplate": "公司代號=%{x}<br>營業收入(百萬元)=%{y}<extra></extra>",
         "legendgroup": "6142",
         "marker": {
          "color": "#ab63fa",
          "pattern": {
           "shape": ""
          }
         },
         "name": "6142",
         "offsetgroup": "6142",
         "orientation": "v",
         "showlegend": true,
         "textposition": "auto",
         "type": "bar",
         "x": [
          "6142"
         ],
         "xaxis": "x",
         "y": [
          234.77
         ],
         "yaxis": "y"
        },
        {
         "alignmentgroup": "True",
         "hovertemplate": "公司代號=%{x}<br>營業收入(百萬元)=%{y}<extra></extra>",
         "legendgroup": "6152",
         "marker": {
          "color": "#FFA15A",
          "pattern": {
           "shape": ""
          }
         },
         "name": "6152",
         "offsetgroup": "6152",
         "orientation": "v",
         "showlegend": true,
         "textposition": "auto",
         "type": "bar",
         "x": [
          "6152"
         ],
         "xaxis": "x",
         "y": [
          351.57
         ],
         "yaxis": "y"
        },
        {
         "alignmentgroup": "True",
         "hovertemplate": "公司代號=%{x}<br>營業收入(百萬元)=%{y}<extra></extra>",
         "legendgroup": "6153",
         "marker": {
          "color": "#19d3f3",
          "pattern": {
           "shape": ""
          }
         },
         "name": "6153",
         "offsetgroup": "6153",
         "orientation": "v",
         "showlegend": true,
         "textposition": "auto",
         "type": "bar",
         "x": [
          "6153"
         ],
         "xaxis": "x",
         "y": [
          1578.8
         ],
         "yaxis": "y"
        },
        {
         "alignmentgroup": "True",
         "hovertemplate": "公司代號=%{x}<br>營業收入(百萬元)=%{y}<extra></extra>",
         "legendgroup": "6155",
         "marker": {
          "color": "#FF6692",
          "pattern": {
           "shape": ""
          }
         },
         "name": "6155",
         "offsetgroup": "6155",
         "orientation": "v",
         "showlegend": true,
         "textposition": "auto",
         "type": "bar",
         "x": [
          "6155"
         ],
         "xaxis": "x",
         "y": [
          122.03
         ],
         "yaxis": "y"
        },
        {
         "alignmentgroup": "True",
         "hovertemplate": "公司代號=%{x}<br>營業收入(百萬元)=%{y}<extra></extra>",
         "legendgroup": "6164",
         "marker": {
          "color": "#B6E880",
          "pattern": {
           "shape": ""
          }
         },
         "name": "6164",
         "offsetgroup": "6164",
         "orientation": "v",
         "showlegend": true,
         "textposition": "auto",
         "type": "bar",
         "x": [
          "6164"
         ],
         "xaxis": "x",
         "y": [
          214.37
         ],
         "yaxis": "y"
        },
        {
         "alignmentgroup": "True",
         "hovertemplate": "公司代號=%{x}<br>營業收入(百萬元)=%{y}<extra></extra>",
         "legendgroup": "6165",
         "marker": {
          "color": "#FF97FF",
          "pattern": {
           "shape": ""
          }
         },
         "name": "6165",
         "offsetgroup": "6165",
         "orientation": "v",
         "showlegend": true,
         "textposition": "auto",
         "type": "bar",
         "x": [
          "6165"
         ],
         "xaxis": "x",
         "y": [
          717.77
         ],
         "yaxis": "y"
        },
        {
         "alignmentgroup": "True",
         "hovertemplate": "公司代號=%{x}<br>營業收入(百萬元)=%{y}<extra></extra>",
         "legendgroup": "6166",
         "marker": {
          "color": "#FECB52",
          "pattern": {
           "shape": ""
          }
         },
         "name": "6166",
         "offsetgroup": "6166",
         "orientation": "v",
         "showlegend": true,
         "textposition": "auto",
         "type": "bar",
         "x": [
          "6166"
         ],
         "xaxis": "x",
         "y": [
          2053.73
         ],
         "yaxis": "y"
        },
        {
         "alignmentgroup": "True",
         "hovertemplate": "公司代號=%{x}<br>營業收入(百萬元)=%{y}<extra></extra>",
         "legendgroup": "6168",
         "marker": {
          "color": "#636efa",
          "pattern": {
           "shape": ""
          }
         },
         "name": "6168",
         "offsetgroup": "6168",
         "orientation": "v",
         "showlegend": true,
         "textposition": "auto",
         "type": "bar",
         "x": [
          "6168"
         ],
         "xaxis": "x",
         "y": [
          459
         ],
         "yaxis": "y"
        },
        {
         "alignmentgroup": "True",
         "hovertemplate": "公司代號=%{x}<br>營業收入(百萬元)=%{y}<extra></extra>",
         "legendgroup": "6176",
         "marker": {
          "color": "#EF553B",
          "pattern": {
           "shape": ""
          }
         },
         "name": "6176",
         "offsetgroup": "6176",
         "orientation": "v",
         "showlegend": true,
         "textposition": "auto",
         "type": "bar",
         "x": [
          "6176"
         ],
         "xaxis": "x",
         "y": [
          10827.18
         ],
         "yaxis": "y"
        },
        {
         "alignmentgroup": "True",
         "hovertemplate": "公司代號=%{x}<br>營業收入(百萬元)=%{y}<extra></extra>",
         "legendgroup": "6177",
         "marker": {
          "color": "#00cc96",
          "pattern": {
           "shape": ""
          }
         },
         "name": "6177",
         "offsetgroup": "6177",
         "orientation": "v",
         "showlegend": true,
         "textposition": "auto",
         "type": "bar",
         "x": [
          "6177"
         ],
         "xaxis": "x",
         "y": [
          505.13
         ],
         "yaxis": "y"
        },
        {
         "alignmentgroup": "True",
         "hovertemplate": "公司代號=%{x}<br>營業收入(百萬元)=%{y}<extra></extra>",
         "legendgroup": "6183",
         "marker": {
          "color": "#ab63fa",
          "pattern": {
           "shape": ""
          }
         },
         "name": "6183",
         "offsetgroup": "6183",
         "orientation": "v",
         "showlegend": true,
         "textposition": "auto",
         "type": "bar",
         "x": [
          "6183"
         ],
         "xaxis": "x",
         "y": [
          574.27
         ],
         "yaxis": "y"
        },
        {
         "alignmentgroup": "True",
         "hovertemplate": "公司代號=%{x}<br>營業收入(百萬元)=%{y}<extra></extra>",
         "legendgroup": "6184",
         "marker": {
          "color": "#FFA15A",
          "pattern": {
           "shape": ""
          }
         },
         "name": "6184",
         "offsetgroup": "6184",
         "orientation": "v",
         "showlegend": true,
         "textposition": "auto",
         "type": "bar",
         "x": [
          "6184"
         ],
         "xaxis": "x",
         "y": [
          520.45
         ],
         "yaxis": "y"
        },
        {
         "alignmentgroup": "True",
         "hovertemplate": "公司代號=%{x}<br>營業收入(百萬元)=%{y}<extra></extra>",
         "legendgroup": "6189",
         "marker": {
          "color": "#19d3f3",
          "pattern": {
           "shape": ""
          }
         },
         "name": "6189",
         "offsetgroup": "6189",
         "orientation": "v",
         "showlegend": true,
         "textposition": "auto",
         "type": "bar",
         "x": [
          "6189"
         ],
         "xaxis": "x",
         "y": [
          11358.53
         ],
         "yaxis": "y"
        },
        {
         "alignmentgroup": "True",
         "hovertemplate": "公司代號=%{x}<br>營業收入(百萬元)=%{y}<extra></extra>",
         "legendgroup": "6191",
         "marker": {
          "color": "#FF6692",
          "pattern": {
           "shape": ""
          }
         },
         "name": "6191",
         "offsetgroup": "6191",
         "orientation": "v",
         "showlegend": true,
         "textposition": "auto",
         "type": "bar",
         "x": [
          "6191"
         ],
         "xaxis": "x",
         "y": [
          5124.83
         ],
         "yaxis": "y"
        },
        {
         "alignmentgroup": "True",
         "hovertemplate": "公司代號=%{x}<br>營業收入(百萬元)=%{y}<extra></extra>",
         "legendgroup": "6192",
         "marker": {
          "color": "#B6E880",
          "pattern": {
           "shape": ""
          }
         },
         "name": "6192",
         "offsetgroup": "6192",
         "orientation": "v",
         "showlegend": true,
         "textposition": "auto",
         "type": "bar",
         "x": [
          "6192"
         ],
         "xaxis": "x",
         "y": [
          1796.38
         ],
         "yaxis": "y"
        },
        {
         "alignmentgroup": "True",
         "hovertemplate": "公司代號=%{x}<br>營業收入(百萬元)=%{y}<extra></extra>",
         "legendgroup": "6196",
         "marker": {
          "color": "#FF97FF",
          "pattern": {
           "shape": ""
          }
         },
         "name": "6196",
         "offsetgroup": "6196",
         "orientation": "v",
         "showlegend": true,
         "textposition": "auto",
         "type": "bar",
         "x": [
          "6196"
         ],
         "xaxis": "x",
         "y": [
          14615.32
         ],
         "yaxis": "y"
        },
        {
         "alignmentgroup": "True",
         "hovertemplate": "公司代號=%{x}<br>營業收入(百萬元)=%{y}<extra></extra>",
         "legendgroup": "6197",
         "marker": {
          "color": "#FECB52",
          "pattern": {
           "shape": ""
          }
         },
         "name": "6197",
         "offsetgroup": "6197",
         "orientation": "v",
         "showlegend": true,
         "textposition": "auto",
         "type": "bar",
         "x": [
          "6197"
         ],
         "xaxis": "x",
         "y": [
          1476.64
         ],
         "yaxis": "y"
        },
        {
         "alignmentgroup": "True",
         "hovertemplate": "公司代號=%{x}<br>營業收入(百萬元)=%{y}<extra></extra>",
         "legendgroup": "6201",
         "marker": {
          "color": "#636efa",
          "pattern": {
           "shape": ""
          }
         },
         "name": "6201",
         "offsetgroup": "6201",
         "orientation": "v",
         "showlegend": true,
         "textposition": "auto",
         "type": "bar",
         "x": [
          "6201"
         ],
         "xaxis": "x",
         "y": [
          606.06
         ],
         "yaxis": "y"
        },
        {
         "alignmentgroup": "True",
         "hovertemplate": "公司代號=%{x}<br>營業收入(百萬元)=%{y}<extra></extra>",
         "legendgroup": "6202",
         "marker": {
          "color": "#EF553B",
          "pattern": {
           "shape": ""
          }
         },
         "name": "6202",
         "offsetgroup": "6202",
         "orientation": "v",
         "showlegend": true,
         "textposition": "auto",
         "type": "bar",
         "x": [
          "6202"
         ],
         "xaxis": "x",
         "y": [
          443.53
         ],
         "yaxis": "y"
        },
        {
         "alignmentgroup": "True",
         "hovertemplate": "公司代號=%{x}<br>營業收入(百萬元)=%{y}<extra></extra>",
         "legendgroup": "6205",
         "marker": {
          "color": "#00cc96",
          "pattern": {
           "shape": ""
          }
         },
         "name": "6205",
         "offsetgroup": "6205",
         "orientation": "v",
         "showlegend": true,
         "textposition": "auto",
         "type": "bar",
         "x": [
          "6205"
         ],
         "xaxis": "x",
         "y": [
          329.64
         ],
         "yaxis": "y"
        },
        {
         "alignmentgroup": "True",
         "hovertemplate": "公司代號=%{x}<br>營業收入(百萬元)=%{y}<extra></extra>",
         "legendgroup": "6206",
         "marker": {
          "color": "#ab63fa",
          "pattern": {
           "shape": ""
          }
         },
         "name": "6206",
         "offsetgroup": "6206",
         "orientation": "v",
         "showlegend": true,
         "textposition": "auto",
         "type": "bar",
         "x": [
          "6206"
         ],
         "xaxis": "x",
         "y": [
          1013.35
         ],
         "yaxis": "y"
        },
        {
         "alignmentgroup": "True",
         "hovertemplate": "公司代號=%{x}<br>營業收入(百萬元)=%{y}<extra></extra>",
         "legendgroup": "6209",
         "marker": {
          "color": "#FFA15A",
          "pattern": {
           "shape": ""
          }
         },
         "name": "6209",
         "offsetgroup": "6209",
         "orientation": "v",
         "showlegend": true,
         "textposition": "auto",
         "type": "bar",
         "x": [
          "6209"
         ],
         "xaxis": "x",
         "y": [
          601.35
         ],
         "yaxis": "y"
        },
        {
         "alignmentgroup": "True",
         "hovertemplate": "公司代號=%{x}<br>營業收入(百萬元)=%{y}<extra></extra>",
         "legendgroup": "6213",
         "marker": {
          "color": "#19d3f3",
          "pattern": {
           "shape": ""
          }
         },
         "name": "6213",
         "offsetgroup": "6213",
         "orientation": "v",
         "showlegend": true,
         "textposition": "auto",
         "type": "bar",
         "x": [
          "6213"
         ],
         "xaxis": "x",
         "y": [
          6154.69
         ],
         "yaxis": "y"
        },
        {
         "alignmentgroup": "True",
         "hovertemplate": "公司代號=%{x}<br>營業收入(百萬元)=%{y}<extra></extra>",
         "legendgroup": "6214",
         "marker": {
          "color": "#FF6692",
          "pattern": {
           "shape": ""
          }
         },
         "name": "6214",
         "offsetgroup": "6214",
         "orientation": "v",
         "showlegend": true,
         "textposition": "auto",
         "type": "bar",
         "x": [
          "6214"
         ],
         "xaxis": "x",
         "y": [
          10187.35
         ],
         "yaxis": "y"
        },
        {
         "alignmentgroup": "True",
         "hovertemplate": "公司代號=%{x}<br>營業收入(百萬元)=%{y}<extra></extra>",
         "legendgroup": "6215",
         "marker": {
          "color": "#B6E880",
          "pattern": {
           "shape": ""
          }
         },
         "name": "6215",
         "offsetgroup": "6215",
         "orientation": "v",
         "showlegend": true,
         "textposition": "auto",
         "type": "bar",
         "x": [
          "6215"
         ],
         "xaxis": "x",
         "y": [
          290.02
         ],
         "yaxis": "y"
        },
        {
         "alignmentgroup": "True",
         "hovertemplate": "公司代號=%{x}<br>營業收入(百萬元)=%{y}<extra></extra>",
         "legendgroup": "6216",
         "marker": {
          "color": "#FF97FF",
          "pattern": {
           "shape": ""
          }
         },
         "name": "6216",
         "offsetgroup": "6216",
         "orientation": "v",
         "showlegend": true,
         "textposition": "auto",
         "type": "bar",
         "x": [
          "6216"
         ],
         "xaxis": "x",
         "y": [
          279.87
         ],
         "yaxis": "y"
        },
        {
         "alignmentgroup": "True",
         "hovertemplate": "公司代號=%{x}<br>營業收入(百萬元)=%{y}<extra></extra>",
         "legendgroup": "6224",
         "marker": {
          "color": "#FECB52",
          "pattern": {
           "shape": ""
          }
         },
         "name": "6224",
         "offsetgroup": "6224",
         "orientation": "v",
         "showlegend": true,
         "textposition": "auto",
         "type": "bar",
         "x": [
          "6224"
         ],
         "xaxis": "x",
         "y": [
          622.82
         ],
         "yaxis": "y"
        },
        {
         "alignmentgroup": "True",
         "hovertemplate": "公司代號=%{x}<br>營業收入(百萬元)=%{y}<extra></extra>",
         "legendgroup": "6225",
         "marker": {
          "color": "#636efa",
          "pattern": {
           "shape": ""
          }
         },
         "name": "6225",
         "offsetgroup": "6225",
         "orientation": "v",
         "showlegend": true,
         "textposition": "auto",
         "type": "bar",
         "x": [
          "6225"
         ],
         "xaxis": "x",
         "y": [
          13.77
         ],
         "yaxis": "y"
        },
        {
         "alignmentgroup": "True",
         "hovertemplate": "公司代號=%{x}<br>營業收入(百萬元)=%{y}<extra></extra>",
         "legendgroup": "6226",
         "marker": {
          "color": "#EF553B",
          "pattern": {
           "shape": ""
          }
         },
         "name": "6226",
         "offsetgroup": "6226",
         "orientation": "v",
         "showlegend": true,
         "textposition": "auto",
         "type": "bar",
         "x": [
          "6226"
         ],
         "xaxis": "x",
         "y": [
          151.16
         ],
         "yaxis": "y"
        },
        {
         "alignmentgroup": "True",
         "hovertemplate": "公司代號=%{x}<br>營業收入(百萬元)=%{y}<extra></extra>",
         "legendgroup": "6230",
         "marker": {
          "color": "#00cc96",
          "pattern": {
           "shape": ""
          }
         },
         "name": "6230",
         "offsetgroup": "6230",
         "orientation": "v",
         "showlegend": true,
         "textposition": "auto",
         "type": "bar",
         "x": [
          "6230"
         ],
         "xaxis": "x",
         "y": [
          1767.52
         ],
         "yaxis": "y"
        },
        {
         "alignmentgroup": "True",
         "hovertemplate": "公司代號=%{x}<br>營業收入(百萬元)=%{y}<extra></extra>",
         "legendgroup": "6235",
         "marker": {
          "color": "#ab63fa",
          "pattern": {
           "shape": ""
          }
         },
         "name": "6235",
         "offsetgroup": "6235",
         "orientation": "v",
         "showlegend": true,
         "textposition": "auto",
         "type": "bar",
         "x": [
          "6235"
         ],
         "xaxis": "x",
         "y": [
          1555.99
         ],
         "yaxis": "y"
        },
        {
         "alignmentgroup": "True",
         "hovertemplate": "公司代號=%{x}<br>營業收入(百萬元)=%{y}<extra></extra>",
         "legendgroup": "6239",
         "marker": {
          "color": "#FFA15A",
          "pattern": {
           "shape": ""
          }
         },
         "name": "6239",
         "offsetgroup": "6239",
         "orientation": "v",
         "showlegend": true,
         "textposition": "auto",
         "type": "bar",
         "x": [
          "6239"
         ],
         "xaxis": "x",
         "y": [
          18328.88
         ],
         "yaxis": "y"
        },
        {
         "alignmentgroup": "True",
         "hovertemplate": "公司代號=%{x}<br>營業收入(百萬元)=%{y}<extra></extra>",
         "legendgroup": "6243",
         "marker": {
          "color": "#19d3f3",
          "pattern": {
           "shape": ""
          }
         },
         "name": "6243",
         "offsetgroup": "6243",
         "orientation": "v",
         "showlegend": true,
         "textposition": "auto",
         "type": "bar",
         "x": [
          "6243"
         ],
         "xaxis": "x",
         "y": [
          179.34
         ],
         "yaxis": "y"
        },
        {
         "alignmentgroup": "True",
         "hovertemplate": "公司代號=%{x}<br>營業收入(百萬元)=%{y}<extra></extra>",
         "legendgroup": "6257",
         "marker": {
          "color": "#FF6692",
          "pattern": {
           "shape": ""
          }
         },
         "name": "6257",
         "offsetgroup": "6257",
         "orientation": "v",
         "showlegend": true,
         "textposition": "auto",
         "type": "bar",
         "x": [
          "6257"
         ],
         "xaxis": "x",
         "y": [
          4161.94
         ],
         "yaxis": "y"
        },
        {
         "alignmentgroup": "True",
         "hovertemplate": "公司代號=%{x}<br>營業收入(百萬元)=%{y}<extra></extra>",
         "legendgroup": "6269",
         "marker": {
          "color": "#B6E880",
          "pattern": {
           "shape": ""
          }
         },
         "name": "6269",
         "offsetgroup": "6269",
         "orientation": "v",
         "showlegend": true,
         "textposition": "auto",
         "type": "bar",
         "x": [
          "6269"
         ],
         "xaxis": "x",
         "y": [
          6788.41
         ],
         "yaxis": "y"
        },
        {
         "alignmentgroup": "True",
         "hovertemplate": "公司代號=%{x}<br>營業收入(百萬元)=%{y}<extra></extra>",
         "legendgroup": "6271",
         "marker": {
          "color": "#FF97FF",
          "pattern": {
           "shape": ""
          }
         },
         "name": "6271",
         "offsetgroup": "6271",
         "orientation": "v",
         "showlegend": true,
         "textposition": "auto",
         "type": "bar",
         "x": [
          "6271"
         ],
         "xaxis": "x",
         "y": [
          2971.02
         ],
         "yaxis": "y"
        },
        {
         "alignmentgroup": "True",
         "hovertemplate": "公司代號=%{x}<br>營業收入(百萬元)=%{y}<extra></extra>",
         "legendgroup": "6277",
         "marker": {
          "color": "#FECB52",
          "pattern": {
           "shape": ""
          }
         },
         "name": "6277",
         "offsetgroup": "6277",
         "orientation": "v",
         "showlegend": true,
         "textposition": "auto",
         "type": "bar",
         "x": [
          "6277"
         ],
         "xaxis": "x",
         "y": [
          1175.02
         ],
         "yaxis": "y"
        },
        {
         "alignmentgroup": "True",
         "hovertemplate": "公司代號=%{x}<br>營業收入(百萬元)=%{y}<extra></extra>",
         "legendgroup": "6278",
         "marker": {
          "color": "#636efa",
          "pattern": {
           "shape": ""
          }
         },
         "name": "6278",
         "offsetgroup": "6278",
         "orientation": "v",
         "showlegend": true,
         "textposition": "auto",
         "type": "bar",
         "x": [
          "6278"
         ],
         "xaxis": "x",
         "y": [
          10928.92
         ],
         "yaxis": "y"
        },
        {
         "alignmentgroup": "True",
         "hovertemplate": "公司代號=%{x}<br>營業收入(百萬元)=%{y}<extra></extra>",
         "legendgroup": "6281",
         "marker": {
          "color": "#EF553B",
          "pattern": {
           "shape": ""
          }
         },
         "name": "6281",
         "offsetgroup": "6281",
         "orientation": "v",
         "showlegend": true,
         "textposition": "auto",
         "type": "bar",
         "x": [
          "6281"
         ],
         "xaxis": "x",
         "y": [
          4459.48
         ],
         "yaxis": "y"
        },
        {
         "alignmentgroup": "True",
         "hovertemplate": "公司代號=%{x}<br>營業收入(百萬元)=%{y}<extra></extra>",
         "legendgroup": "6282",
         "marker": {
          "color": "#00cc96",
          "pattern": {
           "shape": ""
          }
         },
         "name": "6282",
         "offsetgroup": "6282",
         "orientation": "v",
         "showlegend": true,
         "textposition": "auto",
         "type": "bar",
         "x": [
          "6282"
         ],
         "xaxis": "x",
         "y": [
          7184.9
         ],
         "yaxis": "y"
        },
        {
         "alignmentgroup": "True",
         "hovertemplate": "公司代號=%{x}<br>營業收入(百萬元)=%{y}<extra></extra>",
         "legendgroup": "6283",
         "marker": {
          "color": "#ab63fa",
          "pattern": {
           "shape": ""
          }
         },
         "name": "6283",
         "offsetgroup": "6283",
         "orientation": "v",
         "showlegend": true,
         "textposition": "auto",
         "type": "bar",
         "x": [
          "6283"
         ],
         "xaxis": "x",
         "y": [
          337.82
         ],
         "yaxis": "y"
        },
        {
         "alignmentgroup": "True",
         "hovertemplate": "公司代號=%{x}<br>營業收入(百萬元)=%{y}<extra></extra>",
         "legendgroup": "6285",
         "marker": {
          "color": "#FFA15A",
          "pattern": {
           "shape": ""
          }
         },
         "name": "6285",
         "offsetgroup": "6285",
         "orientation": "v",
         "showlegend": true,
         "textposition": "auto",
         "type": "bar",
         "x": [
          "6285"
         ],
         "xaxis": "x",
         "y": [
          25584.58
         ],
         "yaxis": "y"
        },
        {
         "alignmentgroup": "True",
         "hovertemplate": "公司代號=%{x}<br>營業收入(百萬元)=%{y}<extra></extra>",
         "legendgroup": "6288",
         "marker": {
          "color": "#19d3f3",
          "pattern": {
           "shape": ""
          }
         },
         "name": "6288",
         "offsetgroup": "6288",
         "orientation": "v",
         "showlegend": true,
         "textposition": "auto",
         "type": "bar",
         "x": [
          "6288"
         ],
         "xaxis": "x",
         "y": [
          1387.18
         ],
         "yaxis": "y"
        },
        {
         "alignmentgroup": "True",
         "hovertemplate": "公司代號=%{x}<br>營業收入(百萬元)=%{y}<extra></extra>",
         "legendgroup": "6405",
         "marker": {
          "color": "#FF6692",
          "pattern": {
           "shape": ""
          }
         },
         "name": "6405",
         "offsetgroup": "6405",
         "orientation": "v",
         "showlegend": true,
         "textposition": "auto",
         "type": "bar",
         "x": [
          "6405"
         ],
         "xaxis": "x",
         "y": [
          39.22
         ],
         "yaxis": "y"
        },
        {
         "alignmentgroup": "True",
         "hovertemplate": "公司代號=%{x}<br>營業收入(百萬元)=%{y}<extra></extra>",
         "legendgroup": "6409",
         "marker": {
          "color": "#B6E880",
          "pattern": {
           "shape": ""
          }
         },
         "name": "6409",
         "offsetgroup": "6409",
         "orientation": "v",
         "showlegend": true,
         "textposition": "auto",
         "type": "bar",
         "x": [
          "6409"
         ],
         "xaxis": "x",
         "y": [
          4598.7
         ],
         "yaxis": "y"
        },
        {
         "alignmentgroup": "True",
         "hovertemplate": "公司代號=%{x}<br>營業收入(百萬元)=%{y}<extra></extra>",
         "legendgroup": "6412",
         "marker": {
          "color": "#FF97FF",
          "pattern": {
           "shape": ""
          }
         },
         "name": "6412",
         "offsetgroup": "6412",
         "orientation": "v",
         "showlegend": true,
         "textposition": "auto",
         "type": "bar",
         "x": [
          "6412"
         ],
         "xaxis": "x",
         "y": [
          8046.01
         ],
         "yaxis": "y"
        },
        {
         "alignmentgroup": "True",
         "hovertemplate": "公司代號=%{x}<br>營業收入(百萬元)=%{y}<extra></extra>",
         "legendgroup": "6414",
         "marker": {
          "color": "#FECB52",
          "pattern": {
           "shape": ""
          }
         },
         "name": "6414",
         "offsetgroup": "6414",
         "orientation": "v",
         "showlegend": true,
         "textposition": "auto",
         "type": "bar",
         "x": [
          "6414"
         ],
         "xaxis": "x",
         "y": [
          32717.01
         ],
         "yaxis": "y"
        },
        {
         "alignmentgroup": "True",
         "hovertemplate": "公司代號=%{x}<br>營業收入(百萬元)=%{y}<extra></extra>",
         "legendgroup": "6415",
         "marker": {
          "color": "#636efa",
          "pattern": {
           "shape": ""
          }
         },
         "name": "6415",
         "offsetgroup": "6415",
         "orientation": "v",
         "showlegend": true,
         "textposition": "auto",
         "type": "bar",
         "x": [
          "6415"
         ],
         "xaxis": "x",
         "y": [
          3841.6
         ],
         "yaxis": "y"
        },
        {
         "alignmentgroup": "True",
         "hovertemplate": "公司代號=%{x}<br>營業收入(百萬元)=%{y}<extra></extra>",
         "legendgroup": "6416",
         "marker": {
          "color": "#EF553B",
          "pattern": {
           "shape": ""
          }
         },
         "name": "6416",
         "offsetgroup": "6416",
         "orientation": "v",
         "showlegend": true,
         "textposition": "auto",
         "type": "bar",
         "x": [
          "6416"
         ],
         "xaxis": "x",
         "y": [
          839.36
         ],
         "yaxis": "y"
        },
        {
         "alignmentgroup": "True",
         "hovertemplate": "公司代號=%{x}<br>營業收入(百萬元)=%{y}<extra></extra>",
         "legendgroup": "6423",
         "marker": {
          "color": "#00cc96",
          "pattern": {
           "shape": ""
          }
         },
         "name": "6423",
         "offsetgroup": "6423",
         "orientation": "v",
         "showlegend": true,
         "textposition": "auto",
         "type": "bar",
         "x": [
          "6423"
         ],
         "xaxis": "x",
         "y": [
          59.89
         ],
         "yaxis": "y"
        },
        {
         "alignmentgroup": "True",
         "hovertemplate": "公司代號=%{x}<br>營業收入(百萬元)=%{y}<extra></extra>",
         "legendgroup": "6426",
         "marker": {
          "color": "#ab63fa",
          "pattern": {
           "shape": ""
          }
         },
         "name": "6426",
         "offsetgroup": "6426",
         "orientation": "v",
         "showlegend": true,
         "textposition": "auto",
         "type": "bar",
         "x": [
          "6426"
         ],
         "xaxis": "x",
         "y": [
          79.56
         ],
         "yaxis": "y"
        },
        {
         "alignmentgroup": "True",
         "hovertemplate": "公司代號=%{x}<br>營業收入(百萬元)=%{y}<extra></extra>",
         "legendgroup": "6431",
         "marker": {
          "color": "#FFA15A",
          "pattern": {
           "shape": ""
          }
         },
         "name": "6431",
         "offsetgroup": "6431",
         "orientation": "v",
         "showlegend": true,
         "textposition": "auto",
         "type": "bar",
         "x": [
          "6431"
         ],
         "xaxis": "x",
         "y": [
          62.24
         ],
         "yaxis": "y"
        },
        {
         "alignmentgroup": "True",
         "hovertemplate": "公司代號=%{x}<br>營業收入(百萬元)=%{y}<extra></extra>",
         "legendgroup": "6438",
         "marker": {
          "color": "#19d3f3",
          "pattern": {
           "shape": ""
          }
         },
         "name": "6438",
         "offsetgroup": "6438",
         "orientation": "v",
         "showlegend": true,
         "textposition": "auto",
         "type": "bar",
         "x": [
          "6438"
         ],
         "xaxis": "x",
         "y": [
          1273.3
         ],
         "yaxis": "y"
        },
        {
         "alignmentgroup": "True",
         "hovertemplate": "公司代號=%{x}<br>營業收入(百萬元)=%{y}<extra></extra>",
         "legendgroup": "6442",
         "marker": {
          "color": "#FF6692",
          "pattern": {
           "shape": ""
          }
         },
         "name": "6442",
         "offsetgroup": "6442",
         "orientation": "v",
         "showlegend": true,
         "textposition": "auto",
         "type": "bar",
         "x": [
          "6442"
         ],
         "xaxis": "x",
         "y": [
          826.32
         ],
         "yaxis": "y"
        },
        {
         "alignmentgroup": "True",
         "hovertemplate": "公司代號=%{x}<br>營業收入(百萬元)=%{y}<extra></extra>",
         "legendgroup": "6443",
         "marker": {
          "color": "#B6E880",
          "pattern": {
           "shape": ""
          }
         },
         "name": "6443",
         "offsetgroup": "6443",
         "orientation": "v",
         "showlegend": true,
         "textposition": "auto",
         "type": "bar",
         "x": [
          "6443"
         ],
         "xaxis": "x",
         "y": [
          1167.61
         ],
         "yaxis": "y"
        },
        {
         "alignmentgroup": "True",
         "hovertemplate": "公司代號=%{x}<br>營業收入(百萬元)=%{y}<extra></extra>",
         "legendgroup": "6446",
         "marker": {
          "color": "#FF97FF",
          "pattern": {
           "shape": ""
          }
         },
         "name": "6446",
         "offsetgroup": "6446",
         "orientation": "v",
         "showlegend": true,
         "textposition": "auto",
         "type": "bar",
         "x": [
          "6446"
         ],
         "xaxis": "x",
         "y": [
          1653.44
         ],
         "yaxis": "y"
        },
        {
         "alignmentgroup": "True",
         "hovertemplate": "公司代號=%{x}<br>營業收入(百萬元)=%{y}<extra></extra>",
         "legendgroup": "6449",
         "marker": {
          "color": "#FECB52",
          "pattern": {
           "shape": ""
          }
         },
         "name": "6449",
         "offsetgroup": "6449",
         "orientation": "v",
         "showlegend": true,
         "textposition": "auto",
         "type": "bar",
         "x": [
          "6449"
         ],
         "xaxis": "x",
         "y": [
          721.37
         ],
         "yaxis": "y"
        },
        {
         "alignmentgroup": "True",
         "hovertemplate": "公司代號=%{x}<br>營業收入(百萬元)=%{y}<extra></extra>",
         "legendgroup": "6451",
         "marker": {
          "color": "#636efa",
          "pattern": {
           "shape": ""
          }
         },
         "name": "6451",
         "offsetgroup": "6451",
         "orientation": "v",
         "showlegend": true,
         "textposition": "auto",
         "type": "bar",
         "x": [
          "6451"
         ],
         "xaxis": "x",
         "y": [
          925.43
         ],
         "yaxis": "y"
        },
        {
         "alignmentgroup": "True",
         "hovertemplate": "公司代號=%{x}<br>營業收入(百萬元)=%{y}<extra></extra>",
         "legendgroup": "6456",
         "marker": {
          "color": "#EF553B",
          "pattern": {
           "shape": ""
          }
         },
         "name": "6456",
         "offsetgroup": "6456",
         "orientation": "v",
         "showlegend": true,
         "textposition": "auto",
         "type": "bar",
         "x": [
          "6456"
         ],
         "xaxis": "x",
         "y": [
          15107.54
         ],
         "yaxis": "y"
        },
        {
         "alignmentgroup": "True",
         "hovertemplate": "公司代號=%{x}<br>營業收入(百萬元)=%{y}<extra></extra>",
         "legendgroup": "6464",
         "marker": {
          "color": "#00cc96",
          "pattern": {
           "shape": ""
          }
         },
         "name": "6464",
         "offsetgroup": "6464",
         "orientation": "v",
         "showlegend": true,
         "textposition": "auto",
         "type": "bar",
         "x": [
          "6464"
         ],
         "xaxis": "x",
         "y": [
          1069.35
         ],
         "yaxis": "y"
        },
        {
         "alignmentgroup": "True",
         "hovertemplate": "公司代號=%{x}<br>營業收入(百萬元)=%{y}<extra></extra>",
         "legendgroup": "6472",
         "marker": {
          "color": "#ab63fa",
          "pattern": {
           "shape": ""
          }
         },
         "name": "6472",
         "offsetgroup": "6472",
         "orientation": "v",
         "showlegend": true,
         "textposition": "auto",
         "type": "bar",
         "x": [
          "6472"
         ],
         "xaxis": "x",
         "y": [
          2857.49
         ],
         "yaxis": "y"
        },
        {
         "alignmentgroup": "True",
         "hovertemplate": "公司代號=%{x}<br>營業收入(百萬元)=%{y}<extra></extra>",
         "legendgroup": "6477",
         "marker": {
          "color": "#FFA15A",
          "pattern": {
           "shape": ""
          }
         },
         "name": "6477",
         "offsetgroup": "6477",
         "orientation": "v",
         "showlegend": true,
         "textposition": "auto",
         "type": "bar",
         "x": [
          "6477"
         ],
         "xaxis": "x",
         "y": [
          186.49
         ],
         "yaxis": "y"
        },
        {
         "alignmentgroup": "True",
         "hovertemplate": "公司代號=%{x}<br>營業收入(百萬元)=%{y}<extra></extra>",
         "legendgroup": "6491",
         "marker": {
          "color": "#19d3f3",
          "pattern": {
           "shape": ""
          }
         },
         "name": "6491",
         "offsetgroup": "6491",
         "orientation": "v",
         "showlegend": true,
         "textposition": "auto",
         "type": "bar",
         "x": [
          "6491"
         ],
         "xaxis": "x",
         "y": [
          1725.12
         ],
         "yaxis": "y"
        },
        {
         "alignmentgroup": "True",
         "hovertemplate": "公司代號=%{x}<br>營業收入(百萬元)=%{y}<extra></extra>",
         "legendgroup": "6504",
         "marker": {
          "color": "#FF6692",
          "pattern": {
           "shape": ""
          }
         },
         "name": "6504",
         "offsetgroup": "6504",
         "orientation": "v",
         "showlegend": true,
         "textposition": "auto",
         "type": "bar",
         "x": [
          "6504"
         ],
         "xaxis": "x",
         "y": [
          1428.58
         ],
         "yaxis": "y"
        },
        {
         "alignmentgroup": "True",
         "hovertemplate": "公司代號=%{x}<br>營業收入(百萬元)=%{y}<extra></extra>",
         "legendgroup": "6505",
         "marker": {
          "color": "#B6E880",
          "pattern": {
           "shape": ""
          }
         },
         "name": "6505",
         "offsetgroup": "6505",
         "orientation": "v",
         "showlegend": true,
         "textposition": "auto",
         "type": "bar",
         "x": [
          "6505"
         ],
         "xaxis": "x",
         "y": [
          171196.94
         ],
         "yaxis": "y"
        },
        {
         "alignmentgroup": "True",
         "hovertemplate": "公司代號=%{x}<br>營業收入(百萬元)=%{y}<extra></extra>",
         "legendgroup": "6515",
         "marker": {
          "color": "#FF97FF",
          "pattern": {
           "shape": ""
          }
         },
         "name": "6515",
         "offsetgroup": "6515",
         "orientation": "v",
         "showlegend": true,
         "textposition": "auto",
         "type": "bar",
         "x": [
          "6515"
         ],
         "xaxis": "x",
         "y": [
          1073.08
         ],
         "yaxis": "y"
        },
        {
         "alignmentgroup": "True",
         "hovertemplate": "公司代號=%{x}<br>營業收入(百萬元)=%{y}<extra></extra>",
         "legendgroup": "6525",
         "marker": {
          "color": "#FECB52",
          "pattern": {
           "shape": ""
          }
         },
         "name": "6525",
         "offsetgroup": "6525",
         "orientation": "v",
         "showlegend": true,
         "textposition": "auto",
         "type": "bar",
         "x": [
          "6525"
         ],
         "xaxis": "x",
         "y": [
          1061.43
         ],
         "yaxis": "y"
        },
        {
         "alignmentgroup": "True",
         "hovertemplate": "公司代號=%{x}<br>營業收入(百萬元)=%{y}<extra></extra>",
         "legendgroup": "6526",
         "marker": {
          "color": "#636efa",
          "pattern": {
           "shape": ""
          }
         },
         "name": "6526",
         "offsetgroup": "6526",
         "orientation": "v",
         "showlegend": true,
         "textposition": "auto",
         "type": "bar",
         "x": [
          "6526"
         ],
         "xaxis": "x",
         "y": [
          3826.57
         ],
         "yaxis": "y"
        },
        {
         "alignmentgroup": "True",
         "hovertemplate": "公司代號=%{x}<br>營業收入(百萬元)=%{y}<extra></extra>",
         "legendgroup": "6531",
         "marker": {
          "color": "#EF553B",
          "pattern": {
           "shape": ""
          }
         },
         "name": "6531",
         "offsetgroup": "6531",
         "orientation": "v",
         "showlegend": true,
         "textposition": "auto",
         "type": "bar",
         "x": [
          "6531"
         ],
         "xaxis": "x",
         "y": [
          747.86
         ],
         "yaxis": "y"
        },
        {
         "alignmentgroup": "True",
         "hovertemplate": "公司代號=%{x}<br>營業收入(百萬元)=%{y}<extra></extra>",
         "legendgroup": "6533",
         "marker": {
          "color": "#00cc96",
          "pattern": {
           "shape": ""
          }
         },
         "name": "6533",
         "offsetgroup": "6533",
         "orientation": "v",
         "showlegend": true,
         "textposition": "auto",
         "type": "bar",
         "x": [
          "6533"
         ],
         "xaxis": "x",
         "y": [
          213.14
         ],
         "yaxis": "y"
        },
        {
         "alignmentgroup": "True",
         "hovertemplate": "公司代號=%{x}<br>營業收入(百萬元)=%{y}<extra></extra>",
         "legendgroup": "6534",
         "marker": {
          "color": "#ab63fa",
          "pattern": {
           "shape": ""
          }
         },
         "name": "6534",
         "offsetgroup": "6534",
         "orientation": "v",
         "showlegend": true,
         "textposition": "auto",
         "type": "bar",
         "x": [
          "6534"
         ],
         "xaxis": "x",
         "y": [
          824.81
         ],
         "yaxis": "y"
        },
        {
         "alignmentgroup": "True",
         "hovertemplate": "公司代號=%{x}<br>營業收入(百萬元)=%{y}<extra></extra>",
         "legendgroup": "6541",
         "marker": {
          "color": "#FFA15A",
          "pattern": {
           "shape": ""
          }
         },
         "name": "6541",
         "offsetgroup": "6541",
         "orientation": "v",
         "showlegend": true,
         "textposition": "auto",
         "type": "bar",
         "x": [
          "6541"
         ],
         "xaxis": "x",
         "y": [
          3.36
         ],
         "yaxis": "y"
        },
        {
         "alignmentgroup": "True",
         "hovertemplate": "公司代號=%{x}<br>營業收入(百萬元)=%{y}<extra></extra>",
         "legendgroup": "6550",
         "marker": {
          "color": "#19d3f3",
          "pattern": {
           "shape": ""
          }
         },
         "name": "6550",
         "offsetgroup": "6550",
         "orientation": "v",
         "showlegend": true,
         "textposition": "auto",
         "type": "bar",
         "x": [
          "6550"
         ],
         "xaxis": "x",
         "y": [
          27.76
         ],
         "yaxis": "y"
        },
        {
         "alignmentgroup": "True",
         "hovertemplate": "公司代號=%{x}<br>營業收入(百萬元)=%{y}<extra></extra>",
         "legendgroup": "6552",
         "marker": {
          "color": "#FF6692",
          "pattern": {
           "shape": ""
          }
         },
         "name": "6552",
         "offsetgroup": "6552",
         "orientation": "v",
         "showlegend": true,
         "textposition": "auto",
         "type": "bar",
         "x": [
          "6552"
         ],
         "xaxis": "x",
         "y": [
          491.91
         ],
         "yaxis": "y"
        },
        {
         "alignmentgroup": "True",
         "hovertemplate": "公司代號=%{x}<br>營業收入(百萬元)=%{y}<extra></extra>",
         "legendgroup": "6558",
         "marker": {
          "color": "#B6E880",
          "pattern": {
           "shape": ""
          }
         },
         "name": "6558",
         "offsetgroup": "6558",
         "orientation": "v",
         "showlegend": true,
         "textposition": "auto",
         "type": "bar",
         "x": [
          "6558"
         ],
         "xaxis": "x",
         "y": [
          258.11
         ],
         "yaxis": "y"
        },
        {
         "alignmentgroup": "True",
         "hovertemplate": "公司代號=%{x}<br>營業收入(百萬元)=%{y}<extra></extra>",
         "legendgroup": "6573",
         "marker": {
          "color": "#FF97FF",
          "pattern": {
           "shape": ""
          }
         },
         "name": "6573",
         "offsetgroup": "6573",
         "orientation": "v",
         "showlegend": true,
         "textposition": "auto",
         "type": "bar",
         "x": [
          "6573"
         ],
         "xaxis": "x",
         "y": [
          260.1
         ],
         "yaxis": "y"
        },
        {
         "alignmentgroup": "True",
         "hovertemplate": "公司代號=%{x}<br>營業收入(百萬元)=%{y}<extra></extra>",
         "legendgroup": "6579",
         "marker": {
          "color": "#FECB52",
          "pattern": {
           "shape": ""
          }
         },
         "name": "6579",
         "offsetgroup": "6579",
         "orientation": "v",
         "showlegend": true,
         "textposition": "auto",
         "type": "bar",
         "x": [
          "6579"
         ],
         "xaxis": "x",
         "y": [
          1802.5
         ],
         "yaxis": "y"
        },
        {
         "alignmentgroup": "True",
         "hovertemplate": "公司代號=%{x}<br>營業收入(百萬元)=%{y}<extra></extra>",
         "legendgroup": "6581",
         "marker": {
          "color": "#636efa",
          "pattern": {
           "shape": ""
          }
         },
         "name": "6581",
         "offsetgroup": "6581",
         "orientation": "v",
         "showlegend": true,
         "textposition": "auto",
         "type": "bar",
         "x": [
          "6581"
         ],
         "xaxis": "x",
         "y": [
          467.43
         ],
         "yaxis": "y"
        },
        {
         "alignmentgroup": "True",
         "hovertemplate": "公司代號=%{x}<br>營業收入(百萬元)=%{y}<extra></extra>",
         "legendgroup": "6582",
         "marker": {
          "color": "#EF553B",
          "pattern": {
           "shape": ""
          }
         },
         "name": "6582",
         "offsetgroup": "6582",
         "orientation": "v",
         "showlegend": true,
         "textposition": "auto",
         "type": "bar",
         "x": [
          "6582"
         ],
         "xaxis": "x",
         "y": [
          211.88
         ],
         "yaxis": "y"
        },
        {
         "alignmentgroup": "True",
         "hovertemplate": "公司代號=%{x}<br>營業收入(百萬元)=%{y}<extra></extra>",
         "legendgroup": "6585",
         "marker": {
          "color": "#00cc96",
          "pattern": {
           "shape": ""
          }
         },
         "name": "6585",
         "offsetgroup": "6585",
         "orientation": "v",
         "showlegend": true,
         "textposition": "auto",
         "type": "bar",
         "x": [
          "6585"
         ],
         "xaxis": "x",
         "y": [
          792.62
         ],
         "yaxis": "y"
        },
        {
         "alignmentgroup": "True",
         "hovertemplate": "公司代號=%{x}<br>營業收入(百萬元)=%{y}<extra></extra>",
         "legendgroup": "6591",
         "marker": {
          "color": "#ab63fa",
          "pattern": {
           "shape": ""
          }
         },
         "name": "6591",
         "offsetgroup": "6591",
         "orientation": "v",
         "showlegend": true,
         "textposition": "auto",
         "type": "bar",
         "x": [
          "6591"
         ],
         "xaxis": "x",
         "y": [
          308.09
         ],
         "yaxis": "y"
        },
        {
         "alignmentgroup": "True",
         "hovertemplate": "公司代號=%{x}<br>營業收入(百萬元)=%{y}<extra></extra>",
         "legendgroup": "6592",
         "marker": {
          "color": "#FFA15A",
          "pattern": {
           "shape": ""
          }
         },
         "name": "6592",
         "offsetgroup": "6592",
         "orientation": "v",
         "showlegend": true,
         "textposition": "auto",
         "type": "bar",
         "x": [
          "6592"
         ],
         "xaxis": "x",
         "y": [
          7783.71
         ],
         "yaxis": "y"
        },
        {
         "alignmentgroup": "True",
         "hovertemplate": "公司代號=%{x}<br>營業收入(百萬元)=%{y}<extra></extra>",
         "legendgroup": "6598",
         "marker": {
          "color": "#19d3f3",
          "pattern": {
           "shape": ""
          }
         },
         "name": "6598",
         "offsetgroup": "6598",
         "orientation": "v",
         "showlegend": true,
         "textposition": "auto",
         "type": "bar",
         "x": [
          "6598"
         ],
         "xaxis": "x",
         "y": [
          81.5
         ],
         "yaxis": "y"
        },
        {
         "alignmentgroup": "True",
         "hovertemplate": "公司代號=%{x}<br>營業收入(百萬元)=%{y}<extra></extra>",
         "legendgroup": "6605",
         "marker": {
          "color": "#FF6692",
          "pattern": {
           "shape": ""
          }
         },
         "name": "6605",
         "offsetgroup": "6605",
         "orientation": "v",
         "showlegend": true,
         "textposition": "auto",
         "type": "bar",
         "x": [
          "6605"
         ],
         "xaxis": "x",
         "y": [
          4851.24
         ],
         "yaxis": "y"
        },
        {
         "alignmentgroup": "True",
         "hovertemplate": "公司代號=%{x}<br>營業收入(百萬元)=%{y}<extra></extra>",
         "legendgroup": "6606",
         "marker": {
          "color": "#B6E880",
          "pattern": {
           "shape": ""
          }
         },
         "name": "6606",
         "offsetgroup": "6606",
         "orientation": "v",
         "showlegend": true,
         "textposition": "auto",
         "type": "bar",
         "x": [
          "6606"
         ],
         "xaxis": "x",
         "y": [
          173.47
         ],
         "yaxis": "y"
        },
        {
         "alignmentgroup": "True",
         "hovertemplate": "公司代號=%{x}<br>營業收入(百萬元)=%{y}<extra></extra>",
         "legendgroup": "6625",
         "marker": {
          "color": "#FF97FF",
          "pattern": {
           "shape": ""
          }
         },
         "name": "6625",
         "offsetgroup": "6625",
         "orientation": "v",
         "showlegend": true,
         "textposition": "auto",
         "type": "bar",
         "x": [
          "6625"
         ],
         "xaxis": "x",
         "y": [
          466.7
         ],
         "yaxis": "y"
        },
        {
         "alignmentgroup": "True",
         "hovertemplate": "公司代號=%{x}<br>營業收入(百萬元)=%{y}<extra></extra>",
         "legendgroup": "6641",
         "marker": {
          "color": "#FECB52",
          "pattern": {
           "shape": ""
          }
         },
         "name": "6641",
         "offsetgroup": "6641",
         "orientation": "v",
         "showlegend": true,
         "textposition": "auto",
         "type": "bar",
         "x": [
          "6641"
         ],
         "xaxis": "x",
         "y": [
          406.8
         ],
         "yaxis": "y"
        },
        {
         "alignmentgroup": "True",
         "hovertemplate": "公司代號=%{x}<br>營業收入(百萬元)=%{y}<extra></extra>",
         "legendgroup": "6645",
         "marker": {
          "color": "#636efa",
          "pattern": {
           "shape": ""
          }
         },
         "name": "6645",
         "offsetgroup": "6645",
         "orientation": "v",
         "showlegend": true,
         "textposition": "auto",
         "type": "bar",
         "x": [
          "6645"
         ],
         "xaxis": "x",
         "y": [
          96.44
         ],
         "yaxis": "y"
        },
        {
         "alignmentgroup": "True",
         "hovertemplate": "公司代號=%{x}<br>營業收入(百萬元)=%{y}<extra></extra>",
         "legendgroup": "6655",
         "marker": {
          "color": "#EF553B",
          "pattern": {
           "shape": ""
          }
         },
         "name": "6655",
         "offsetgroup": "6655",
         "orientation": "v",
         "showlegend": true,
         "textposition": "auto",
         "type": "bar",
         "x": [
          "6655"
         ],
         "xaxis": "x",
         "y": [
          536.66
         ],
         "yaxis": "y"
        },
        {
         "alignmentgroup": "True",
         "hovertemplate": "公司代號=%{x}<br>營業收入(百萬元)=%{y}<extra></extra>",
         "legendgroup": "6657",
         "marker": {
          "color": "#00cc96",
          "pattern": {
           "shape": ""
          }
         },
         "name": "6657",
         "offsetgroup": "6657",
         "orientation": "v",
         "showlegend": true,
         "textposition": "auto",
         "type": "bar",
         "x": [
          "6657"
         ],
         "xaxis": "x",
         "y": [
          1.41
         ],
         "yaxis": "y"
        },
        {
         "alignmentgroup": "True",
         "hovertemplate": "公司代號=%{x}<br>營業收入(百萬元)=%{y}<extra></extra>",
         "legendgroup": "6658",
         "marker": {
          "color": "#ab63fa",
          "pattern": {
           "shape": ""
          }
         },
         "name": "6658",
         "offsetgroup": "6658",
         "orientation": "v",
         "showlegend": true,
         "textposition": "auto",
         "type": "bar",
         "x": [
          "6658"
         ],
         "xaxis": "x",
         "y": [
          282.89
         ],
         "yaxis": "y"
        },
        {
         "alignmentgroup": "True",
         "hovertemplate": "公司代號=%{x}<br>營業收入(百萬元)=%{y}<extra></extra>",
         "legendgroup": "6666",
         "marker": {
          "color": "#FFA15A",
          "pattern": {
           "shape": ""
          }
         },
         "name": "6666",
         "offsetgroup": "6666",
         "orientation": "v",
         "showlegend": true,
         "textposition": "auto",
         "type": "bar",
         "x": [
          "6666"
         ],
         "xaxis": "x",
         "y": [
          238.62
         ],
         "yaxis": "y"
        },
        {
         "alignmentgroup": "True",
         "hovertemplate": "公司代號=%{x}<br>營業收入(百萬元)=%{y}<extra></extra>",
         "legendgroup": "6668",
         "marker": {
          "color": "#19d3f3",
          "pattern": {
           "shape": ""
          }
         },
         "name": "6668",
         "offsetgroup": "6668",
         "orientation": "v",
         "showlegend": true,
         "textposition": "auto",
         "type": "bar",
         "x": [
          "6668"
         ],
         "xaxis": "x",
         "y": [
          224.9
         ],
         "yaxis": "y"
        },
        {
         "alignmentgroup": "True",
         "hovertemplate": "公司代號=%{x}<br>營業收入(百萬元)=%{y}<extra></extra>",
         "legendgroup": "6669",
         "marker": {
          "color": "#FF6692",
          "pattern": {
           "shape": ""
          }
         },
         "name": "6669",
         "offsetgroup": "6669",
         "orientation": "v",
         "showlegend": true,
         "textposition": "auto",
         "type": "bar",
         "x": [
          "6669"
         ],
         "xaxis": "x",
         "y": [
          69628.24
         ],
         "yaxis": "y"
        },
        {
         "alignmentgroup": "True",
         "hovertemplate": "公司代號=%{x}<br>營業收入(百萬元)=%{y}<extra></extra>",
         "legendgroup": "6670",
         "marker": {
          "color": "#B6E880",
          "pattern": {
           "shape": ""
          }
         },
         "name": "6670",
         "offsetgroup": "6670",
         "orientation": "v",
         "showlegend": true,
         "textposition": "auto",
         "type": "bar",
         "x": [
          "6670"
         ],
         "xaxis": "x",
         "y": [
          6369.63
         ],
         "yaxis": "y"
        },
        {
         "alignmentgroup": "True",
         "hovertemplate": "公司代號=%{x}<br>營業收入(百萬元)=%{y}<extra></extra>",
         "legendgroup": "6671",
         "marker": {
          "color": "#FF97FF",
          "pattern": {
           "shape": ""
          }
         },
         "name": "6671",
         "offsetgroup": "6671",
         "orientation": "v",
         "showlegend": true,
         "textposition": "auto",
         "type": "bar",
         "x": [
          "6671"
         ],
         "xaxis": "x",
         "y": [
          430.2
         ],
         "yaxis": "y"
        },
        {
         "alignmentgroup": "True",
         "hovertemplate": "公司代號=%{x}<br>營業收入(百萬元)=%{y}<extra></extra>",
         "legendgroup": "6672",
         "marker": {
          "color": "#FECB52",
          "pattern": {
           "shape": ""
          }
         },
         "name": "6672",
         "offsetgroup": "6672",
         "orientation": "v",
         "showlegend": true,
         "textposition": "auto",
         "type": "bar",
         "x": [
          "6672"
         ],
         "xaxis": "x",
         "y": [
          1074.6
         ],
         "yaxis": "y"
        },
        {
         "alignmentgroup": "True",
         "hovertemplate": "公司代號=%{x}<br>營業收入(百萬元)=%{y}<extra></extra>",
         "legendgroup": "6674",
         "marker": {
          "color": "#636efa",
          "pattern": {
           "shape": ""
          }
         },
         "name": "6674",
         "offsetgroup": "6674",
         "orientation": "v",
         "showlegend": true,
         "textposition": "auto",
         "type": "bar",
         "x": [
          "6674"
         ],
         "xaxis": "x",
         "y": [
          225.46
         ],
         "yaxis": "y"
        },
        {
         "alignmentgroup": "True",
         "hovertemplate": "公司代號=%{x}<br>營業收入(百萬元)=%{y}<extra></extra>",
         "legendgroup": "6689",
         "marker": {
          "color": "#EF553B",
          "pattern": {
           "shape": ""
          }
         },
         "name": "6689",
         "offsetgroup": "6689",
         "orientation": "v",
         "showlegend": true,
         "textposition": "auto",
         "type": "bar",
         "x": [
          "6689"
         ],
         "xaxis": "x",
         "y": [
          2711.81
         ],
         "yaxis": "y"
        },
        {
         "alignmentgroup": "True",
         "hovertemplate": "公司代號=%{x}<br>營業收入(百萬元)=%{y}<extra></extra>",
         "legendgroup": "6691",
         "marker": {
          "color": "#00cc96",
          "pattern": {
           "shape": ""
          }
         },
         "name": "6691",
         "offsetgroup": "6691",
         "orientation": "v",
         "showlegend": true,
         "textposition": "auto",
         "type": "bar",
         "x": [
          "6691"
         ],
         "xaxis": "x",
         "y": [
          2754.28
         ],
         "yaxis": "y"
        },
        {
         "alignmentgroup": "True",
         "hovertemplate": "公司代號=%{x}<br>營業收入(百萬元)=%{y}<extra></extra>",
         "legendgroup": "6695",
         "marker": {
          "color": "#ab63fa",
          "pattern": {
           "shape": ""
          }
         },
         "name": "6695",
         "offsetgroup": "6695",
         "orientation": "v",
         "showlegend": true,
         "textposition": "auto",
         "type": "bar",
         "x": [
          "6695"
         ],
         "xaxis": "x",
         "y": [
          215.13
         ],
         "yaxis": "y"
        },
        {
         "alignmentgroup": "True",
         "hovertemplate": "公司代號=%{x}<br>營業收入(百萬元)=%{y}<extra></extra>",
         "legendgroup": "6698",
         "marker": {
          "color": "#FFA15A",
          "pattern": {
           "shape": ""
          }
         },
         "name": "6698",
         "offsetgroup": "6698",
         "orientation": "v",
         "showlegend": true,
         "textposition": "auto",
         "type": "bar",
         "x": [
          "6698"
         ],
         "xaxis": "x",
         "y": [
          217.04
         ],
         "yaxis": "y"
        },
        {
         "alignmentgroup": "True",
         "hovertemplate": "公司代號=%{x}<br>營業收入(百萬元)=%{y}<extra></extra>",
         "legendgroup": "6706",
         "marker": {
          "color": "#19d3f3",
          "pattern": {
           "shape": ""
          }
         },
         "name": "6706",
         "offsetgroup": "6706",
         "orientation": "v",
         "showlegend": true,
         "textposition": "auto",
         "type": "bar",
         "x": [
          "6706"
         ],
         "xaxis": "x",
         "y": [
          179.71
         ],
         "yaxis": "y"
        },
        {
         "alignmentgroup": "True",
         "hovertemplate": "公司代號=%{x}<br>營業收入(百萬元)=%{y}<extra></extra>",
         "legendgroup": "6715",
         "marker": {
          "color": "#FF6692",
          "pattern": {
           "shape": ""
          }
         },
         "name": "6715",
         "offsetgroup": "6715",
         "orientation": "v",
         "showlegend": true,
         "textposition": "auto",
         "type": "bar",
         "x": [
          "6715"
         ],
         "xaxis": "x",
         "y": [
          556.11
         ],
         "yaxis": "y"
        },
        {
         "alignmentgroup": "True",
         "hovertemplate": "公司代號=%{x}<br>營業收入(百萬元)=%{y}<extra></extra>",
         "legendgroup": "6719",
         "marker": {
          "color": "#B6E880",
          "pattern": {
           "shape": ""
          }
         },
         "name": "6719",
         "offsetgroup": "6719",
         "orientation": "v",
         "showlegend": true,
         "textposition": "auto",
         "type": "bar",
         "x": [
          "6719"
         ],
         "xaxis": "x",
         "y": [
          846.27
         ],
         "yaxis": "y"
        },
        {
         "alignmentgroup": "True",
         "hovertemplate": "公司代號=%{x}<br>營業收入(百萬元)=%{y}<extra></extra>",
         "legendgroup": "6742",
         "marker": {
          "color": "#FF97FF",
          "pattern": {
           "shape": ""
          }
         },
         "name": "6742",
         "offsetgroup": "6742",
         "orientation": "v",
         "showlegend": true,
         "textposition": "auto",
         "type": "bar",
         "x": [
          "6742"
         ],
         "xaxis": "x",
         "y": [
          142.8
         ],
         "yaxis": "y"
        },
        {
         "alignmentgroup": "True",
         "hovertemplate": "公司代號=%{x}<br>營業收入(百萬元)=%{y}<extra></extra>",
         "legendgroup": "6743",
         "marker": {
          "color": "#FECB52",
          "pattern": {
           "shape": ""
          }
         },
         "name": "6743",
         "offsetgroup": "6743",
         "orientation": "v",
         "showlegend": true,
         "textposition": "auto",
         "type": "bar",
         "x": [
          "6743"
         ],
         "xaxis": "x",
         "y": [
          1144.83
         ],
         "yaxis": "y"
        },
        {
         "alignmentgroup": "True",
         "hovertemplate": "公司代號=%{x}<br>營業收入(百萬元)=%{y}<extra></extra>",
         "legendgroup": "6753",
         "marker": {
          "color": "#636efa",
          "pattern": {
           "shape": ""
          }
         },
         "name": "6753",
         "offsetgroup": "6753",
         "orientation": "v",
         "showlegend": true,
         "textposition": "auto",
         "type": "bar",
         "x": [
          "6753"
         ],
         "xaxis": "x",
         "y": [
          1139.24
         ],
         "yaxis": "y"
        },
        {
         "alignmentgroup": "True",
         "hovertemplate": "公司代號=%{x}<br>營業收入(百萬元)=%{y}<extra></extra>",
         "legendgroup": "6754",
         "marker": {
          "color": "#EF553B",
          "pattern": {
           "shape": ""
          }
         },
         "name": "6754",
         "offsetgroup": "6754",
         "orientation": "v",
         "showlegend": true,
         "textposition": "auto",
         "type": "bar",
         "x": [
          "6754"
         ],
         "xaxis": "x",
         "y": [
          1140.21
         ],
         "yaxis": "y"
        },
        {
         "alignmentgroup": "True",
         "hovertemplate": "公司代號=%{x}<br>營業收入(百萬元)=%{y}<extra></extra>",
         "legendgroup": "6756",
         "marker": {
          "color": "#00cc96",
          "pattern": {
           "shape": ""
          }
         },
         "name": "6756",
         "offsetgroup": "6756",
         "orientation": "v",
         "showlegend": true,
         "textposition": "auto",
         "type": "bar",
         "x": [
          "6756"
         ],
         "xaxis": "x",
         "y": [
          391.66
         ],
         "yaxis": "y"
        },
        {
         "alignmentgroup": "True",
         "hovertemplate": "公司代號=%{x}<br>營業收入(百萬元)=%{y}<extra></extra>",
         "legendgroup": "6757",
         "marker": {
          "color": "#ab63fa",
          "pattern": {
           "shape": ""
          }
         },
         "name": "6757",
         "offsetgroup": "6757",
         "orientation": "v",
         "showlegend": true,
         "textposition": "auto",
         "type": "bar",
         "x": [
          "6757"
         ],
         "xaxis": "x",
         "y": [
          4246.51
         ],
         "yaxis": "y"
        },
        {
         "alignmentgroup": "True",
         "hovertemplate": "公司代號=%{x}<br>營業收入(百萬元)=%{y}<extra></extra>",
         "legendgroup": "6768",
         "marker": {
          "color": "#FFA15A",
          "pattern": {
           "shape": ""
          }
         },
         "name": "6768",
         "offsetgroup": "6768",
         "orientation": "v",
         "showlegend": true,
         "textposition": "auto",
         "type": "bar",
         "x": [
          "6768"
         ],
         "xaxis": "x",
         "y": [
          4011.93
         ],
         "yaxis": "y"
        },
        {
         "alignmentgroup": "True",
         "hovertemplate": "公司代號=%{x}<br>營業收入(百萬元)=%{y}<extra></extra>",
         "legendgroup": "6770",
         "marker": {
          "color": "#19d3f3",
          "pattern": {
           "shape": ""
          }
         },
         "name": "6770",
         "offsetgroup": "6770",
         "orientation": "v",
         "showlegend": true,
         "textposition": "auto",
         "type": "bar",
         "x": [
          "6770"
         ],
         "xaxis": "x",
         "y": [
          10820.05
         ],
         "yaxis": "y"
        },
        {
         "alignmentgroup": "True",
         "hovertemplate": "公司代號=%{x}<br>營業收入(百萬元)=%{y}<extra></extra>",
         "legendgroup": "6771",
         "marker": {
          "color": "#FF6692",
          "pattern": {
           "shape": ""
          }
         },
         "name": "6771",
         "offsetgroup": "6771",
         "orientation": "v",
         "showlegend": true,
         "textposition": "auto",
         "type": "bar",
         "x": [
          "6771"
         ],
         "xaxis": "x",
         "y": [
          150.86
         ],
         "yaxis": "y"
        },
        {
         "alignmentgroup": "True",
         "hovertemplate": "公司代號=%{x}<br>營業收入(百萬元)=%{y}<extra></extra>",
         "legendgroup": "6776",
         "marker": {
          "color": "#B6E880",
          "pattern": {
           "shape": ""
          }
         },
         "name": "6776",
         "offsetgroup": "6776",
         "orientation": "v",
         "showlegend": true,
         "textposition": "auto",
         "type": "bar",
         "x": [
          "6776"
         ],
         "xaxis": "x",
         "y": [
          5510.56
         ],
         "yaxis": "y"
        },
        {
         "alignmentgroup": "True",
         "hovertemplate": "公司代號=%{x}<br>營業收入(百萬元)=%{y}<extra></extra>",
         "legendgroup": "6781",
         "marker": {
          "color": "#FF97FF",
          "pattern": {
           "shape": ""
          }
         },
         "name": "6781",
         "offsetgroup": "6781",
         "orientation": "v",
         "showlegend": true,
         "textposition": "auto",
         "type": "bar",
         "x": [
          "6781"
         ],
         "xaxis": "x",
         "y": [
          2307.06
         ],
         "yaxis": "y"
        },
        {
         "alignmentgroup": "True",
         "hovertemplate": "公司代號=%{x}<br>營業收入(百萬元)=%{y}<extra></extra>",
         "legendgroup": "6782",
         "marker": {
          "color": "#FECB52",
          "pattern": {
           "shape": ""
          }
         },
         "name": "6782",
         "offsetgroup": "6782",
         "orientation": "v",
         "showlegend": true,
         "textposition": "auto",
         "type": "bar",
         "x": [
          "6782"
         ],
         "xaxis": "x",
         "y": [
          815.95
         ],
         "yaxis": "y"
        },
        {
         "alignmentgroup": "True",
         "hovertemplate": "公司代號=%{x}<br>營業收入(百萬元)=%{y}<extra></extra>",
         "legendgroup": "6789",
         "marker": {
          "color": "#636efa",
          "pattern": {
           "shape": ""
          }
         },
         "name": "6789",
         "offsetgroup": "6789",
         "orientation": "v",
         "showlegend": true,
         "textposition": "auto",
         "type": "bar",
         "x": [
          "6789"
         ],
         "xaxis": "x",
         "y": [
          2109.36
         ],
         "yaxis": "y"
        },
        {
         "alignmentgroup": "True",
         "hovertemplate": "公司代號=%{x}<br>營業收入(百萬元)=%{y}<extra></extra>",
         "legendgroup": "6790",
         "marker": {
          "color": "#EF553B",
          "pattern": {
           "shape": ""
          }
         },
         "name": "6790",
         "offsetgroup": "6790",
         "orientation": "v",
         "showlegend": true,
         "textposition": "auto",
         "type": "bar",
         "x": [
          "6790"
         ],
         "xaxis": "x",
         "y": [
          2602.46
         ],
         "yaxis": "y"
        },
        {
         "alignmentgroup": "True",
         "hovertemplate": "公司代號=%{x}<br>營業收入(百萬元)=%{y}<extra></extra>",
         "legendgroup": "6792",
         "marker": {
          "color": "#00cc96",
          "pattern": {
           "shape": ""
          }
         },
         "name": "6792",
         "offsetgroup": "6792",
         "orientation": "v",
         "showlegend": true,
         "textposition": "auto",
         "type": "bar",
         "x": [
          "6792"
         ],
         "xaxis": "x",
         "y": [
          304.63
         ],
         "yaxis": "y"
        },
        {
         "alignmentgroup": "True",
         "hovertemplate": "公司代號=%{x}<br>營業收入(百萬元)=%{y}<extra></extra>",
         "legendgroup": "6794",
         "marker": {
          "color": "#ab63fa",
          "pattern": {
           "shape": ""
          }
         },
         "name": "6794",
         "offsetgroup": "6794",
         "orientation": "v",
         "showlegend": true,
         "textposition": "auto",
         "type": "bar",
         "x": [
          "6794"
         ],
         "xaxis": "x",
         "y": [
          2.67
         ],
         "yaxis": "y"
        },
        {
         "alignmentgroup": "True",
         "hovertemplate": "公司代號=%{x}<br>營業收入(百萬元)=%{y}<extra></extra>",
         "legendgroup": "6796",
         "marker": {
          "color": "#FFA15A",
          "pattern": {
           "shape": ""
          }
         },
         "name": "6796",
         "offsetgroup": "6796",
         "orientation": "v",
         "showlegend": true,
         "textposition": "auto",
         "type": "bar",
         "x": [
          "6796"
         ],
         "xaxis": "x",
         "y": [
          97.1
         ],
         "yaxis": "y"
        },
        {
         "alignmentgroup": "True",
         "hovertemplate": "公司代號=%{x}<br>營業收入(百萬元)=%{y}<extra></extra>",
         "legendgroup": "6799",
         "marker": {
          "color": "#19d3f3",
          "pattern": {
           "shape": ""
          }
         },
         "name": "6799",
         "offsetgroup": "6799",
         "orientation": "v",
         "showlegend": true,
         "textposition": "auto",
         "type": "bar",
         "x": [
          "6799"
         ],
         "xaxis": "x",
         "y": [
          222.22
         ],
         "yaxis": "y"
        },
        {
         "alignmentgroup": "True",
         "hovertemplate": "公司代號=%{x}<br>營業收入(百萬元)=%{y}<extra></extra>",
         "legendgroup": "6805",
         "marker": {
          "color": "#FF6692",
          "pattern": {
           "shape": ""
          }
         },
         "name": "6805",
         "offsetgroup": "6805",
         "orientation": "v",
         "showlegend": true,
         "textposition": "auto",
         "type": "bar",
         "x": [
          "6805"
         ],
         "xaxis": "x",
         "y": [
          1710.76
         ],
         "yaxis": "y"
        },
        {
         "alignmentgroup": "True",
         "hovertemplate": "公司代號=%{x}<br>營業收入(百萬元)=%{y}<extra></extra>",
         "legendgroup": "6806",
         "marker": {
          "color": "#B6E880",
          "pattern": {
           "shape": ""
          }
         },
         "name": "6806",
         "offsetgroup": "6806",
         "orientation": "v",
         "showlegend": true,
         "textposition": "auto",
         "type": "bar",
         "x": [
          "6806"
         ],
         "xaxis": "x",
         "y": [
          2331.34
         ],
         "yaxis": "y"
        },
        {
         "alignmentgroup": "True",
         "hovertemplate": "公司代號=%{x}<br>營業收入(百萬元)=%{y}<extra></extra>",
         "legendgroup": "6807",
         "marker": {
          "color": "#FF97FF",
          "pattern": {
           "shape": ""
          }
         },
         "name": "6807",
         "offsetgroup": "6807",
         "orientation": "v",
         "showlegend": true,
         "textposition": "auto",
         "type": "bar",
         "x": [
          "6807"
         ],
         "xaxis": "x",
         "y": [
          994.63
         ],
         "yaxis": "y"
        },
        {
         "alignmentgroup": "True",
         "hovertemplate": "公司代號=%{x}<br>營業收入(百萬元)=%{y}<extra></extra>",
         "legendgroup": "6830",
         "marker": {
          "color": "#FECB52",
          "pattern": {
           "shape": ""
          }
         },
         "name": "6830",
         "offsetgroup": "6830",
         "orientation": "v",
         "showlegend": true,
         "textposition": "auto",
         "type": "bar",
         "x": [
          "6830"
         ],
         "xaxis": "x",
         "y": [
          434.85
         ],
         "yaxis": "y"
        },
        {
         "alignmentgroup": "True",
         "hovertemplate": "公司代號=%{x}<br>營業收入(百萬元)=%{y}<extra></extra>",
         "legendgroup": "6834",
         "marker": {
          "color": "#636efa",
          "pattern": {
           "shape": ""
          }
         },
         "name": "6834",
         "offsetgroup": "6834",
         "orientation": "v",
         "showlegend": true,
         "textposition": "auto",
         "type": "bar",
         "x": [
          "6834"
         ],
         "xaxis": "x",
         "y": [
          256.28
         ],
         "yaxis": "y"
        },
        {
         "alignmentgroup": "True",
         "hovertemplate": "公司代號=%{x}<br>營業收入(百萬元)=%{y}<extra></extra>",
         "legendgroup": "6835",
         "marker": {
          "color": "#EF553B",
          "pattern": {
           "shape": ""
          }
         },
         "name": "6835",
         "offsetgroup": "6835",
         "orientation": "v",
         "showlegend": true,
         "textposition": "auto",
         "type": "bar",
         "x": [
          "6835"
         ],
         "xaxis": "x",
         "y": [
          575.46
         ],
         "yaxis": "y"
        },
        {
         "alignmentgroup": "True",
         "hovertemplate": "公司代號=%{x}<br>營業收入(百萬元)=%{y}<extra></extra>",
         "legendgroup": "6854",
         "marker": {
          "color": "#00cc96",
          "pattern": {
           "shape": ""
          }
         },
         "name": "6854",
         "offsetgroup": "6854",
         "orientation": "v",
         "showlegend": true,
         "textposition": "auto",
         "type": "bar",
         "x": [
          "6854"
         ],
         "xaxis": "x",
         "y": [
          205.81
         ],
         "yaxis": "y"
        },
        {
         "alignmentgroup": "True",
         "hovertemplate": "公司代號=%{x}<br>營業收入(百萬元)=%{y}<extra></extra>",
         "legendgroup": "6861",
         "marker": {
          "color": "#ab63fa",
          "pattern": {
           "shape": ""
          }
         },
         "name": "6861",
         "offsetgroup": "6861",
         "orientation": "v",
         "showlegend": true,
         "textposition": "auto",
         "type": "bar",
         "x": [
          "6861"
         ],
         "xaxis": "x",
         "y": [
          458.32
         ],
         "yaxis": "y"
        },
        {
         "alignmentgroup": "True",
         "hovertemplate": "公司代號=%{x}<br>營業收入(百萬元)=%{y}<extra></extra>",
         "legendgroup": "6863",
         "marker": {
          "color": "#FFA15A",
          "pattern": {
           "shape": ""
          }
         },
         "name": "6863",
         "offsetgroup": "6863",
         "orientation": "v",
         "showlegend": true,
         "textposition": "auto",
         "type": "bar",
         "x": [
          "6863"
         ],
         "xaxis": "x",
         "y": [
          901.12
         ],
         "yaxis": "y"
        },
        {
         "alignmentgroup": "True",
         "hovertemplate": "公司代號=%{x}<br>營業收入(百萬元)=%{y}<extra></extra>",
         "legendgroup": "6869",
         "marker": {
          "color": "#19d3f3",
          "pattern": {
           "shape": ""
          }
         },
         "name": "6869",
         "offsetgroup": "6869",
         "orientation": "v",
         "showlegend": true,
         "textposition": "auto",
         "type": "bar",
         "x": [
          "6869"
         ],
         "xaxis": "x",
         "y": [
          1001.97
         ],
         "yaxis": "y"
        },
        {
         "alignmentgroup": "True",
         "hovertemplate": "公司代號=%{x}<br>營業收入(百萬元)=%{y}<extra></extra>",
         "legendgroup": "6873",
         "marker": {
          "color": "#FF6692",
          "pattern": {
           "shape": ""
          }
         },
         "name": "6873",
         "offsetgroup": "6873",
         "orientation": "v",
         "showlegend": true,
         "textposition": "auto",
         "type": "bar",
         "x": [
          "6873"
         ],
         "xaxis": "x",
         "y": [
          883.58
         ],
         "yaxis": "y"
        },
        {
         "alignmentgroup": "True",
         "hovertemplate": "公司代號=%{x}<br>營業收入(百萬元)=%{y}<extra></extra>",
         "legendgroup": "6901",
         "marker": {
          "color": "#B6E880",
          "pattern": {
           "shape": ""
          }
         },
         "name": "6901",
         "offsetgroup": "6901",
         "orientation": "v",
         "showlegend": true,
         "textposition": "auto",
         "type": "bar",
         "x": [
          "6901"
         ],
         "xaxis": "x",
         "y": [
          -773.7
         ],
         "yaxis": "y"
        },
        {
         "alignmentgroup": "True",
         "hovertemplate": "公司代號=%{x}<br>營業收入(百萬元)=%{y}<extra></extra>",
         "legendgroup": "6902",
         "marker": {
          "color": "#FF97FF",
          "pattern": {
           "shape": ""
          }
         },
         "name": "6902",
         "offsetgroup": "6902",
         "orientation": "v",
         "showlegend": true,
         "textposition": "auto",
         "type": "bar",
         "x": [
          "6902"
         ],
         "xaxis": "x",
         "y": [
          207.19
         ],
         "yaxis": "y"
        },
        {
         "alignmentgroup": "True",
         "hovertemplate": "公司代號=%{x}<br>營業收入(百萬元)=%{y}<extra></extra>",
         "legendgroup": "6906",
         "marker": {
          "color": "#FECB52",
          "pattern": {
           "shape": ""
          }
         },
         "name": "6906",
         "offsetgroup": "6906",
         "orientation": "v",
         "showlegend": true,
         "textposition": "auto",
         "type": "bar",
         "x": [
          "6906"
         ],
         "xaxis": "x",
         "y": [
          77.19
         ],
         "yaxis": "y"
        },
        {
         "alignmentgroup": "True",
         "hovertemplate": "公司代號=%{x}<br>營業收入(百萬元)=%{y}<extra></extra>",
         "legendgroup": "6914",
         "marker": {
          "color": "#636efa",
          "pattern": {
           "shape": ""
          }
         },
         "name": "6914",
         "offsetgroup": "6914",
         "orientation": "v",
         "showlegend": true,
         "textposition": "auto",
         "type": "bar",
         "x": [
          "6914"
         ],
         "xaxis": "x",
         "y": [
          1112.35
         ],
         "yaxis": "y"
        },
        {
         "alignmentgroup": "True",
         "hovertemplate": "公司代號=%{x}<br>營業收入(百萬元)=%{y}<extra></extra>",
         "legendgroup": "6916",
         "marker": {
          "color": "#EF553B",
          "pattern": {
           "shape": ""
          }
         },
         "name": "6916",
         "offsetgroup": "6916",
         "orientation": "v",
         "showlegend": true,
         "textposition": "auto",
         "type": "bar",
         "x": [
          "6916"
         ],
         "xaxis": "x",
         "y": [
          468.13
         ],
         "yaxis": "y"
        },
        {
         "alignmentgroup": "True",
         "hovertemplate": "公司代號=%{x}<br>營業收入(百萬元)=%{y}<extra></extra>",
         "legendgroup": "6928",
         "marker": {
          "color": "#00cc96",
          "pattern": {
           "shape": ""
          }
         },
         "name": "6928",
         "offsetgroup": "6928",
         "orientation": "v",
         "showlegend": true,
         "textposition": "auto",
         "type": "bar",
         "x": [
          "6928"
         ],
         "xaxis": "x",
         "y": [
          516.52
         ],
         "yaxis": "y"
        },
        {
         "alignmentgroup": "True",
         "hovertemplate": "公司代號=%{x}<br>營業收入(百萬元)=%{y}<extra></extra>",
         "legendgroup": "6933",
         "marker": {
          "color": "#ab63fa",
          "pattern": {
           "shape": ""
          }
         },
         "name": "6933",
         "offsetgroup": "6933",
         "orientation": "v",
         "showlegend": true,
         "textposition": "auto",
         "type": "bar",
         "x": [
          "6933"
         ],
         "xaxis": "x",
         "y": [
          1273.1
         ],
         "yaxis": "y"
        },
        {
         "alignmentgroup": "True",
         "hovertemplate": "公司代號=%{x}<br>營業收入(百萬元)=%{y}<extra></extra>",
         "legendgroup": "6937",
         "marker": {
          "color": "#FFA15A",
          "pattern": {
           "shape": ""
          }
         },
         "name": "6937",
         "offsetgroup": "6937",
         "orientation": "v",
         "showlegend": true,
         "textposition": "auto",
         "type": "bar",
         "x": [
          "6937"
         ],
         "xaxis": "x",
         "y": [
          509.76
         ],
         "yaxis": "y"
        },
        {
         "alignmentgroup": "True",
         "hovertemplate": "公司代號=%{x}<br>營業收入(百萬元)=%{y}<extra></extra>",
         "legendgroup": "6949",
         "marker": {
          "color": "#19d3f3",
          "pattern": {
           "shape": ""
          }
         },
         "name": "6949",
         "offsetgroup": "6949",
         "orientation": "v",
         "showlegend": true,
         "textposition": "auto",
         "type": "bar",
         "x": [
          "6949"
         ],
         "xaxis": "x",
         "y": [
          5
         ],
         "yaxis": "y"
        },
        {
         "alignmentgroup": "True",
         "hovertemplate": "公司代號=%{x}<br>營業收入(百萬元)=%{y}<extra></extra>",
         "legendgroup": "8011",
         "marker": {
          "color": "#FF6692",
          "pattern": {
           "shape": ""
          }
         },
         "name": "8011",
         "offsetgroup": "8011",
         "orientation": "v",
         "showlegend": true,
         "textposition": "auto",
         "type": "bar",
         "x": [
          "8011"
         ],
         "xaxis": "x",
         "y": [
          741.19
         ],
         "yaxis": "y"
        },
        {
         "alignmentgroup": "True",
         "hovertemplate": "公司代號=%{x}<br>營業收入(百萬元)=%{y}<extra></extra>",
         "legendgroup": "8016",
         "marker": {
          "color": "#B6E880",
          "pattern": {
           "shape": ""
          }
         },
         "name": "8016",
         "offsetgroup": "8016",
         "orientation": "v",
         "showlegend": true,
         "textposition": "auto",
         "type": "bar",
         "x": [
          "8016"
         ],
         "xaxis": "x",
         "y": [
          4149.23
         ],
         "yaxis": "y"
        },
        {
         "alignmentgroup": "True",
         "hovertemplate": "公司代號=%{x}<br>營業收入(百萬元)=%{y}<extra></extra>",
         "legendgroup": "8021",
         "marker": {
          "color": "#FF97FF",
          "pattern": {
           "shape": ""
          }
         },
         "name": "8021",
         "offsetgroup": "8021",
         "orientation": "v",
         "showlegend": true,
         "textposition": "auto",
         "type": "bar",
         "x": [
          "8021"
         ],
         "xaxis": "x",
         "y": [
          736.39
         ],
         "yaxis": "y"
        },
        {
         "alignmentgroup": "True",
         "hovertemplate": "公司代號=%{x}<br>營業收入(百萬元)=%{y}<extra></extra>",
         "legendgroup": "8028",
         "marker": {
          "color": "#FECB52",
          "pattern": {
           "shape": ""
          }
         },
         "name": "8028",
         "offsetgroup": "8028",
         "orientation": "v",
         "showlegend": true,
         "textposition": "auto",
         "type": "bar",
         "x": [
          "8028"
         ],
         "xaxis": "x",
         "y": [
          735.45
         ],
         "yaxis": "y"
        },
        {
         "alignmentgroup": "True",
         "hovertemplate": "公司代號=%{x}<br>營業收入(百萬元)=%{y}<extra></extra>",
         "legendgroup": "8033",
         "marker": {
          "color": "#636efa",
          "pattern": {
           "shape": ""
          }
         },
         "name": "8033",
         "offsetgroup": "8033",
         "orientation": "v",
         "showlegend": true,
         "textposition": "auto",
         "type": "bar",
         "x": [
          "8033"
         ],
         "xaxis": "x",
         "y": [
          286.43
         ],
         "yaxis": "y"
        },
        {
         "alignmentgroup": "True",
         "hovertemplate": "公司代號=%{x}<br>營業收入(百萬元)=%{y}<extra></extra>",
         "legendgroup": "8039",
         "marker": {
          "color": "#EF553B",
          "pattern": {
           "shape": ""
          }
         },
         "name": "8039",
         "offsetgroup": "8039",
         "orientation": "v",
         "showlegend": true,
         "textposition": "auto",
         "type": "bar",
         "x": [
          "8039"
         ],
         "xaxis": "x",
         "y": [
          1973.25
         ],
         "yaxis": "y"
        },
        {
         "alignmentgroup": "True",
         "hovertemplate": "公司代號=%{x}<br>營業收入(百萬元)=%{y}<extra></extra>",
         "legendgroup": "8046",
         "marker": {
          "color": "#00cc96",
          "pattern": {
           "shape": ""
          }
         },
         "name": "8046",
         "offsetgroup": "8046",
         "orientation": "v",
         "showlegend": true,
         "textposition": "auto",
         "type": "bar",
         "x": [
          "8046"
         ],
         "xaxis": "x",
         "y": [
          7100.57
         ],
         "yaxis": "y"
        },
        {
         "alignmentgroup": "True",
         "hovertemplate": "公司代號=%{x}<br>營業收入(百萬元)=%{y}<extra></extra>",
         "legendgroup": "8070",
         "marker": {
          "color": "#ab63fa",
          "pattern": {
           "shape": ""
          }
         },
         "name": "8070",
         "offsetgroup": "8070",
         "orientation": "v",
         "showlegend": true,
         "textposition": "auto",
         "type": "bar",
         "x": [
          "8070"
         ],
         "xaxis": "x",
         "y": [
          4019.13
         ],
         "yaxis": "y"
        },
        {
         "alignmentgroup": "True",
         "hovertemplate": "公司代號=%{x}<br>營業收入(百萬元)=%{y}<extra></extra>",
         "legendgroup": "8072",
         "marker": {
          "color": "#FFA15A",
          "pattern": {
           "shape": ""
          }
         },
         "name": "8072",
         "offsetgroup": "8072",
         "orientation": "v",
         "showlegend": true,
         "textposition": "auto",
         "type": "bar",
         "x": [
          "8072"
         ],
         "xaxis": "x",
         "y": [
          225.66
         ],
         "yaxis": "y"
        },
        {
         "alignmentgroup": "True",
         "hovertemplate": "公司代號=%{x}<br>營業收入(百萬元)=%{y}<extra></extra>",
         "legendgroup": "8081",
         "marker": {
          "color": "#19d3f3",
          "pattern": {
           "shape": ""
          }
         },
         "name": "8081",
         "offsetgroup": "8081",
         "orientation": "v",
         "showlegend": true,
         "textposition": "auto",
         "type": "bar",
         "x": [
          "8081"
         ],
         "xaxis": "x",
         "y": [
          1938.92
         ],
         "yaxis": "y"
        },
        {
         "alignmentgroup": "True",
         "hovertemplate": "公司代號=%{x}<br>營業收入(百萬元)=%{y}<extra></extra>",
         "legendgroup": "8101",
         "marker": {
          "color": "#FF6692",
          "pattern": {
           "shape": ""
          }
         },
         "name": "8101",
         "offsetgroup": "8101",
         "orientation": "v",
         "showlegend": true,
         "textposition": "auto",
         "type": "bar",
         "x": [
          "8101"
         ],
         "xaxis": "x",
         "y": [
          27.68
         ],
         "yaxis": "y"
        },
        {
         "alignmentgroup": "True",
         "hovertemplate": "公司代號=%{x}<br>營業收入(百萬元)=%{y}<extra></extra>",
         "legendgroup": "8103",
         "marker": {
          "color": "#B6E880",
          "pattern": {
           "shape": ""
          }
         },
         "name": "8103",
         "offsetgroup": "8103",
         "orientation": "v",
         "showlegend": true,
         "textposition": "auto",
         "type": "bar",
         "x": [
          "8103"
         ],
         "xaxis": "x",
         "y": [
          673.01
         ],
         "yaxis": "y"
        },
        {
         "alignmentgroup": "True",
         "hovertemplate": "公司代號=%{x}<br>營業收入(百萬元)=%{y}<extra></extra>",
         "legendgroup": "8104",
         "marker": {
          "color": "#FF97FF",
          "pattern": {
           "shape": ""
          }
         },
         "name": "8104",
         "offsetgroup": "8104",
         "orientation": "v",
         "showlegend": true,
         "textposition": "auto",
         "type": "bar",
         "x": [
          "8104"
         ],
         "xaxis": "x",
         "y": [
          554.64
         ],
         "yaxis": "y"
        },
        {
         "alignmentgroup": "True",
         "hovertemplate": "公司代號=%{x}<br>營業收入(百萬元)=%{y}<extra></extra>",
         "legendgroup": "8105",
         "marker": {
          "color": "#FECB52",
          "pattern": {
           "shape": ""
          }
         },
         "name": "8105",
         "offsetgroup": "8105",
         "orientation": "v",
         "showlegend": true,
         "textposition": "auto",
         "type": "bar",
         "x": [
          "8105"
         ],
         "xaxis": "x",
         "y": [
          1995.67
         ],
         "yaxis": "y"
        },
        {
         "alignmentgroup": "True",
         "hovertemplate": "公司代號=%{x}<br>營業收入(百萬元)=%{y}<extra></extra>",
         "legendgroup": "8110",
         "marker": {
          "color": "#636efa",
          "pattern": {
           "shape": ""
          }
         },
         "name": "8110",
         "offsetgroup": "8110",
         "orientation": "v",
         "showlegend": true,
         "textposition": "auto",
         "type": "bar",
         "x": [
          "8110"
         ],
         "xaxis": "x",
         "y": [
          1978.64
         ],
         "yaxis": "y"
        },
        {
         "alignmentgroup": "True",
         "hovertemplate": "公司代號=%{x}<br>營業收入(百萬元)=%{y}<extra></extra>",
         "legendgroup": "8112",
         "marker": {
          "color": "#EF553B",
          "pattern": {
           "shape": ""
          }
         },
         "name": "8112",
         "offsetgroup": "8112",
         "orientation": "v",
         "showlegend": true,
         "textposition": "auto",
         "type": "bar",
         "x": [
          "8112"
         ],
         "xaxis": "x",
         "y": [
          55822.3
         ],
         "yaxis": "y"
        },
        {
         "alignmentgroup": "True",
         "hovertemplate": "公司代號=%{x}<br>營業收入(百萬元)=%{y}<extra></extra>",
         "legendgroup": "8114",
         "marker": {
          "color": "#00cc96",
          "pattern": {
           "shape": ""
          }
         },
         "name": "8114",
         "offsetgroup": "8114",
         "orientation": "v",
         "showlegend": true,
         "textposition": "auto",
         "type": "bar",
         "x": [
          "8114"
         ],
         "xaxis": "x",
         "y": [
          2215.96
         ],
         "yaxis": "y"
        },
        {
         "alignmentgroup": "True",
         "hovertemplate": "公司代號=%{x}<br>營業收入(百萬元)=%{y}<extra></extra>",
         "legendgroup": "8131",
         "marker": {
          "color": "#ab63fa",
          "pattern": {
           "shape": ""
          }
         },
         "name": "8131",
         "offsetgroup": "8131",
         "orientation": "v",
         "showlegend": true,
         "textposition": "auto",
         "type": "bar",
         "x": [
          "8131"
         ],
         "xaxis": "x",
         "y": [
          2359.65
         ],
         "yaxis": "y"
        },
        {
         "alignmentgroup": "True",
         "hovertemplate": "公司代號=%{x}<br>營業收入(百萬元)=%{y}<extra></extra>",
         "legendgroup": "8150",
         "marker": {
          "color": "#FFA15A",
          "pattern": {
           "shape": ""
          }
         },
         "name": "8150",
         "offsetgroup": "8150",
         "orientation": "v",
         "showlegend": true,
         "textposition": "auto",
         "type": "bar",
         "x": [
          "8150"
         ],
         "xaxis": "x",
         "y": [
          5418.71
         ],
         "yaxis": "y"
        },
        {
         "alignmentgroup": "True",
         "hovertemplate": "公司代號=%{x}<br>營業收入(百萬元)=%{y}<extra></extra>",
         "legendgroup": "8162",
         "marker": {
          "color": "#19d3f3",
          "pattern": {
           "shape": ""
          }
         },
         "name": "8162",
         "offsetgroup": "8162",
         "orientation": "v",
         "showlegend": true,
         "textposition": "auto",
         "type": "bar",
         "x": [
          "8162"
         ],
         "xaxis": "x",
         "y": [
          242.11
         ],
         "yaxis": "y"
        },
        {
         "alignmentgroup": "True",
         "hovertemplate": "公司代號=%{x}<br>營業收入(百萬元)=%{y}<extra></extra>",
         "legendgroup": "8163",
         "marker": {
          "color": "#FF6692",
          "pattern": {
           "shape": ""
          }
         },
         "name": "8163",
         "offsetgroup": "8163",
         "orientation": "v",
         "showlegend": true,
         "textposition": "auto",
         "type": "bar",
         "x": [
          "8163"
         ],
         "xaxis": "x",
         "y": [
          5111.17
         ],
         "yaxis": "y"
        },
        {
         "alignmentgroup": "True",
         "hovertemplate": "公司代號=%{x}<br>營業收入(百萬元)=%{y}<extra></extra>",
         "legendgroup": "8201",
         "marker": {
          "color": "#B6E880",
          "pattern": {
           "shape": ""
          }
         },
         "name": "8201",
         "offsetgroup": "8201",
         "orientation": "v",
         "showlegend": true,
         "textposition": "auto",
         "type": "bar",
         "x": [
          "8201"
         ],
         "xaxis": "x",
         "y": [
          103.17
         ],
         "yaxis": "y"
        },
        {
         "alignmentgroup": "True",
         "hovertemplate": "公司代號=%{x}<br>營業收入(百萬元)=%{y}<extra></extra>",
         "legendgroup": "8210",
         "marker": {
          "color": "#FF97FF",
          "pattern": {
           "shape": ""
          }
         },
         "name": "8210",
         "offsetgroup": "8210",
         "orientation": "v",
         "showlegend": true,
         "textposition": "auto",
         "type": "bar",
         "x": [
          "8210"
         ],
         "xaxis": "x",
         "y": [
          2773.24
         ],
         "yaxis": "y"
        },
        {
         "alignmentgroup": "True",
         "hovertemplate": "公司代號=%{x}<br>營業收入(百萬元)=%{y}<extra></extra>",
         "legendgroup": "8213",
         "marker": {
          "color": "#FECB52",
          "pattern": {
           "shape": ""
          }
         },
         "name": "8213",
         "offsetgroup": "8213",
         "orientation": "v",
         "showlegend": true,
         "textposition": "auto",
         "type": "bar",
         "x": [
          "8213"
         ],
         "xaxis": "x",
         "y": [
          4174.48
         ],
         "yaxis": "y"
        },
        {
         "alignmentgroup": "True",
         "hovertemplate": "公司代號=%{x}<br>營業收入(百萬元)=%{y}<extra></extra>",
         "legendgroup": "8215",
         "marker": {
          "color": "#636efa",
          "pattern": {
           "shape": ""
          }
         },
         "name": "8215",
         "offsetgroup": "8215",
         "orientation": "v",
         "showlegend": true,
         "textposition": "auto",
         "type": "bar",
         "x": [
          "8215"
         ],
         "xaxis": "x",
         "y": [
          4593.01
         ],
         "yaxis": "y"
        },
        {
         "alignmentgroup": "True",
         "hovertemplate": "公司代號=%{x}<br>營業收入(百萬元)=%{y}<extra></extra>",
         "legendgroup": "8222",
         "marker": {
          "color": "#EF553B",
          "pattern": {
           "shape": ""
          }
         },
         "name": "8222",
         "offsetgroup": "8222",
         "orientation": "v",
         "showlegend": true,
         "textposition": "auto",
         "type": "bar",
         "x": [
          "8222"
         ],
         "xaxis": "x",
         "y": [
          188.63
         ],
         "yaxis": "y"
        },
        {
         "alignmentgroup": "True",
         "hovertemplate": "公司代號=%{x}<br>營業收入(百萬元)=%{y}<extra></extra>",
         "legendgroup": "8249",
         "marker": {
          "color": "#00cc96",
          "pattern": {
           "shape": ""
          }
         },
         "name": "8249",
         "offsetgroup": "8249",
         "orientation": "v",
         "showlegend": true,
         "textposition": "auto",
         "type": "bar",
         "x": [
          "8249"
         ],
         "xaxis": "x",
         "y": [
          678.43
         ],
         "yaxis": "y"
        },
        {
         "alignmentgroup": "True",
         "hovertemplate": "公司代號=%{x}<br>營業收入(百萬元)=%{y}<extra></extra>",
         "legendgroup": "8261",
         "marker": {
          "color": "#ab63fa",
          "pattern": {
           "shape": ""
          }
         },
         "name": "8261",
         "offsetgroup": "8261",
         "orientation": "v",
         "showlegend": true,
         "textposition": "auto",
         "type": "bar",
         "x": [
          "8261"
         ],
         "xaxis": "x",
         "y": [
          589.75
         ],
         "yaxis": "y"
        },
        {
         "alignmentgroup": "True",
         "hovertemplate": "公司代號=%{x}<br>營業收入(百萬元)=%{y}<extra></extra>",
         "legendgroup": "8271",
         "marker": {
          "color": "#FFA15A",
          "pattern": {
           "shape": ""
          }
         },
         "name": "8271",
         "offsetgroup": "8271",
         "orientation": "v",
         "showlegend": true,
         "textposition": "auto",
         "type": "bar",
         "x": [
          "8271"
         ],
         "xaxis": "x",
         "y": [
          1946.7
         ],
         "yaxis": "y"
        },
        {
         "alignmentgroup": "True",
         "hovertemplate": "公司代號=%{x}<br>營業收入(百萬元)=%{y}<extra></extra>",
         "legendgroup": "8341",
         "marker": {
          "color": "#19d3f3",
          "pattern": {
           "shape": ""
          }
         },
         "name": "8341",
         "offsetgroup": "8341",
         "orientation": "v",
         "showlegend": true,
         "textposition": "auto",
         "type": "bar",
         "x": [
          "8341"
         ],
         "xaxis": "x",
         "y": [
          763.3
         ],
         "yaxis": "y"
        },
        {
         "alignmentgroup": "True",
         "hovertemplate": "公司代號=%{x}<br>營業收入(百萬元)=%{y}<extra></extra>",
         "legendgroup": "8367",
         "marker": {
          "color": "#FF6692",
          "pattern": {
           "shape": ""
          }
         },
         "name": "8367",
         "offsetgroup": "8367",
         "orientation": "v",
         "showlegend": true,
         "textposition": "auto",
         "type": "bar",
         "x": [
          "8367"
         ],
         "xaxis": "x",
         "y": [
          625.09
         ],
         "yaxis": "y"
        },
        {
         "alignmentgroup": "True",
         "hovertemplate": "公司代號=%{x}<br>營業收入(百萬元)=%{y}<extra></extra>",
         "legendgroup": "8374",
         "marker": {
          "color": "#B6E880",
          "pattern": {
           "shape": ""
          }
         },
         "name": "8374",
         "offsetgroup": "8374",
         "orientation": "v",
         "showlegend": true,
         "textposition": "auto",
         "type": "bar",
         "x": [
          "8374"
         ],
         "xaxis": "x",
         "y": [
          702.41
         ],
         "yaxis": "y"
        },
        {
         "alignmentgroup": "True",
         "hovertemplate": "公司代號=%{x}<br>營業收入(百萬元)=%{y}<extra></extra>",
         "legendgroup": "8404",
         "marker": {
          "color": "#FF97FF",
          "pattern": {
           "shape": ""
          }
         },
         "name": "8404",
         "offsetgroup": "8404",
         "orientation": "v",
         "showlegend": true,
         "textposition": "auto",
         "type": "bar",
         "x": [
          "8404"
         ],
         "xaxis": "x",
         "y": [
          1532.35
         ],
         "yaxis": "y"
        },
        {
         "alignmentgroup": "True",
         "hovertemplate": "公司代號=%{x}<br>營業收入(百萬元)=%{y}<extra></extra>",
         "legendgroup": "8411",
         "marker": {
          "color": "#FECB52",
          "pattern": {
           "shape": ""
          }
         },
         "name": "8411",
         "offsetgroup": "8411",
         "orientation": "v",
         "showlegend": true,
         "textposition": "auto",
         "type": "bar",
         "x": [
          "8411"
         ],
         "xaxis": "x",
         "y": [
          2029.51
         ],
         "yaxis": "y"
        },
        {
         "alignmentgroup": "True",
         "hovertemplate": "公司代號=%{x}<br>營業收入(百萬元)=%{y}<extra></extra>",
         "legendgroup": "8422",
         "marker": {
          "color": "#636efa",
          "pattern": {
           "shape": ""
          }
         },
         "name": "8422",
         "offsetgroup": "8422",
         "orientation": "v",
         "showlegend": true,
         "textposition": "auto",
         "type": "bar",
         "x": [
          "8422"
         ],
         "xaxis": "x",
         "y": [
          1280.09
         ],
         "yaxis": "y"
        },
        {
         "alignmentgroup": "True",
         "hovertemplate": "公司代號=%{x}<br>營業收入(百萬元)=%{y}<extra></extra>",
         "legendgroup": "8429",
         "marker": {
          "color": "#EF553B",
          "pattern": {
           "shape": ""
          }
         },
         "name": "8429",
         "offsetgroup": "8429",
         "orientation": "v",
         "showlegend": true,
         "textposition": "auto",
         "type": "bar",
         "x": [
          "8429"
         ],
         "xaxis": "x",
         "y": [
          12.85
         ],
         "yaxis": "y"
        },
        {
         "alignmentgroup": "True",
         "hovertemplate": "公司代號=%{x}<br>營業收入(百萬元)=%{y}<extra></extra>",
         "legendgroup": "8438",
         "marker": {
          "color": "#00cc96",
          "pattern": {
           "shape": ""
          }
         },
         "name": "8438",
         "offsetgroup": "8438",
         "orientation": "v",
         "showlegend": true,
         "textposition": "auto",
         "type": "bar",
         "x": [
          "8438"
         ],
         "xaxis": "x",
         "y": [
          696.78
         ],
         "yaxis": "y"
        },
        {
         "alignmentgroup": "True",
         "hovertemplate": "公司代號=%{x}<br>營業收入(百萬元)=%{y}<extra></extra>",
         "legendgroup": "8442",
         "marker": {
          "color": "#ab63fa",
          "pattern": {
           "shape": ""
          }
         },
         "name": "8442",
         "offsetgroup": "8442",
         "orientation": "v",
         "showlegend": true,
         "textposition": "auto",
         "type": "bar",
         "x": [
          "8442"
         ],
         "xaxis": "x",
         "y": [
          1808.22
         ],
         "yaxis": "y"
        },
        {
         "alignmentgroup": "True",
         "hovertemplate": "公司代號=%{x}<br>營業收入(百萬元)=%{y}<extra></extra>",
         "legendgroup": "8443",
         "marker": {
          "color": "#FFA15A",
          "pattern": {
           "shape": ""
          }
         },
         "name": "8443",
         "offsetgroup": "8443",
         "orientation": "v",
         "showlegend": true,
         "textposition": "auto",
         "type": "bar",
         "x": [
          "8443"
         ],
         "xaxis": "x",
         "y": [
          304.21
         ],
         "yaxis": "y"
        },
        {
         "alignmentgroup": "True",
         "hovertemplate": "公司代號=%{x}<br>營業收入(百萬元)=%{y}<extra></extra>",
         "legendgroup": "8454",
         "marker": {
          "color": "#19d3f3",
          "pattern": {
           "shape": ""
          }
         },
         "name": "8454",
         "offsetgroup": "8454",
         "orientation": "v",
         "showlegend": true,
         "textposition": "auto",
         "type": "bar",
         "x": [
          "8454"
         ],
         "xaxis": "x",
         "y": [
          26877.87
         ],
         "yaxis": "y"
        },
        {
         "alignmentgroup": "True",
         "hovertemplate": "公司代號=%{x}<br>營業收入(百萬元)=%{y}<extra></extra>",
         "legendgroup": "8462",
         "marker": {
          "color": "#FF6692",
          "pattern": {
           "shape": ""
          }
         },
         "name": "8462",
         "offsetgroup": "8462",
         "orientation": "v",
         "showlegend": true,
         "textposition": "auto",
         "type": "bar",
         "x": [
          "8462"
         ],
         "xaxis": "x",
         "y": [
          1142.57
         ],
         "yaxis": "y"
        },
        {
         "alignmentgroup": "True",
         "hovertemplate": "公司代號=%{x}<br>營業收入(百萬元)=%{y}<extra></extra>",
         "legendgroup": "8463",
         "marker": {
          "color": "#B6E880",
          "pattern": {
           "shape": ""
          }
         },
         "name": "8463",
         "offsetgroup": "8463",
         "orientation": "v",
         "showlegend": true,
         "textposition": "auto",
         "type": "bar",
         "x": [
          "8463"
         ],
         "xaxis": "x",
         "y": [
          1518.95
         ],
         "yaxis": "y"
        },
        {
         "alignmentgroup": "True",
         "hovertemplate": "公司代號=%{x}<br>營業收入(百萬元)=%{y}<extra></extra>",
         "legendgroup": "8464",
         "marker": {
          "color": "#FF97FF",
          "pattern": {
           "shape": ""
          }
         },
         "name": "8464",
         "offsetgroup": "8464",
         "orientation": "v",
         "showlegend": true,
         "textposition": "auto",
         "type": "bar",
         "x": [
          "8464"
         ],
         "xaxis": "x",
         "y": [
          6312.59
         ],
         "yaxis": "y"
        },
        {
         "alignmentgroup": "True",
         "hovertemplate": "公司代號=%{x}<br>營業收入(百萬元)=%{y}<extra></extra>",
         "legendgroup": "8466",
         "marker": {
          "color": "#FECB52",
          "pattern": {
           "shape": ""
          }
         },
         "name": "8466",
         "offsetgroup": "8466",
         "orientation": "v",
         "showlegend": true,
         "textposition": "auto",
         "type": "bar",
         "x": [
          "8466"
         ],
         "xaxis": "x",
         "y": [
          713.74
         ],
         "yaxis": "y"
        },
        {
         "alignmentgroup": "True",
         "hovertemplate": "公司代號=%{x}<br>營業收入(百萬元)=%{y}<extra></extra>",
         "legendgroup": "8467",
         "marker": {
          "color": "#636efa",
          "pattern": {
           "shape": ""
          }
         },
         "name": "8467",
         "offsetgroup": "8467",
         "orientation": "v",
         "showlegend": true,
         "textposition": "auto",
         "type": "bar",
         "x": [
          "8467"
         ],
         "xaxis": "x",
         "y": [
          518.73
         ],
         "yaxis": "y"
        },
        {
         "alignmentgroup": "True",
         "hovertemplate": "公司代號=%{x}<br>營業收入(百萬元)=%{y}<extra></extra>",
         "legendgroup": "8473",
         "marker": {
          "color": "#EF553B",
          "pattern": {
           "shape": ""
          }
         },
         "name": "8473",
         "offsetgroup": "8473",
         "orientation": "v",
         "showlegend": true,
         "textposition": "auto",
         "type": "bar",
         "x": [
          "8473"
         ],
         "xaxis": "x",
         "y": [
          745.05
         ],
         "yaxis": "y"
        },
        {
         "alignmentgroup": "True",
         "hovertemplate": "公司代號=%{x}<br>營業收入(百萬元)=%{y}<extra></extra>",
         "legendgroup": "8476",
         "marker": {
          "color": "#00cc96",
          "pattern": {
           "shape": ""
          }
         },
         "name": "8476",
         "offsetgroup": "8476",
         "orientation": "v",
         "showlegend": true,
         "textposition": "auto",
         "type": "bar",
         "x": [
          "8476"
         ],
         "xaxis": "x",
         "y": [
          320.42
         ],
         "yaxis": "y"
        },
        {
         "alignmentgroup": "True",
         "hovertemplate": "公司代號=%{x}<br>營業收入(百萬元)=%{y}<extra></extra>",
         "legendgroup": "8478",
         "marker": {
          "color": "#ab63fa",
          "pattern": {
           "shape": ""
          }
         },
         "name": "8478",
         "offsetgroup": "8478",
         "orientation": "v",
         "showlegend": true,
         "textposition": "auto",
         "type": "bar",
         "x": [
          "8478"
         ],
         "xaxis": "x",
         "y": [
          1820.29
         ],
         "yaxis": "y"
        },
        {
         "alignmentgroup": "True",
         "hovertemplate": "公司代號=%{x}<br>營業收入(百萬元)=%{y}<extra></extra>",
         "legendgroup": "8481",
         "marker": {
          "color": "#FFA15A",
          "pattern": {
           "shape": ""
          }
         },
         "name": "8481",
         "offsetgroup": "8481",
         "orientation": "v",
         "showlegend": true,
         "textposition": "auto",
         "type": "bar",
         "x": [
          "8481"
         ],
         "xaxis": "x",
         "y": [
          243.63
         ],
         "yaxis": "y"
        },
        {
         "alignmentgroup": "True",
         "hovertemplate": "公司代號=%{x}<br>營業收入(百萬元)=%{y}<extra></extra>",
         "legendgroup": "8482",
         "marker": {
          "color": "#19d3f3",
          "pattern": {
           "shape": ""
          }
         },
         "name": "8482",
         "offsetgroup": "8482",
         "orientation": "v",
         "showlegend": true,
         "textposition": "auto",
         "type": "bar",
         "x": [
          "8482"
         ],
         "xaxis": "x",
         "y": [
          762.7
         ],
         "yaxis": "y"
        },
        {
         "alignmentgroup": "True",
         "hovertemplate": "公司代號=%{x}<br>營業收入(百萬元)=%{y}<extra></extra>",
         "legendgroup": "8487",
         "marker": {
          "color": "#FF6692",
          "pattern": {
           "shape": ""
          }
         },
         "name": "8487",
         "offsetgroup": "8487",
         "orientation": "v",
         "showlegend": true,
         "textposition": "auto",
         "type": "bar",
         "x": [
          "8487"
         ],
         "xaxis": "x",
         "y": [
          200.83
         ],
         "yaxis": "y"
        },
        {
         "alignmentgroup": "True",
         "hovertemplate": "公司代號=%{x}<br>營業收入(百萬元)=%{y}<extra></extra>",
         "legendgroup": "8488",
         "marker": {
          "color": "#B6E880",
          "pattern": {
           "shape": ""
          }
         },
         "name": "8488",
         "offsetgroup": "8488",
         "orientation": "v",
         "showlegend": true,
         "textposition": "auto",
         "type": "bar",
         "x": [
          "8488"
         ],
         "xaxis": "x",
         "y": [
          851.27
         ],
         "yaxis": "y"
        },
        {
         "alignmentgroup": "True",
         "hovertemplate": "公司代號=%{x}<br>營業收入(百萬元)=%{y}<extra></extra>",
         "legendgroup": "8499",
         "marker": {
          "color": "#FF97FF",
          "pattern": {
           "shape": ""
          }
         },
         "name": "8499",
         "offsetgroup": "8499",
         "orientation": "v",
         "showlegend": true,
         "textposition": "auto",
         "type": "bar",
         "x": [
          "8499"
         ],
         "xaxis": "x",
         "y": [
          411.86
         ],
         "yaxis": "y"
        },
        {
         "alignmentgroup": "True",
         "hovertemplate": "公司代號=%{x}<br>營業收入(百萬元)=%{y}<extra></extra>",
         "legendgroup": "8926",
         "marker": {
          "color": "#FECB52",
          "pattern": {
           "shape": ""
          }
         },
         "name": "8926",
         "offsetgroup": "8926",
         "orientation": "v",
         "showlegend": true,
         "textposition": "auto",
         "type": "bar",
         "x": [
          "8926"
         ],
         "xaxis": "x",
         "y": [
          2026.52
         ],
         "yaxis": "y"
        },
        {
         "alignmentgroup": "True",
         "hovertemplate": "公司代號=%{x}<br>營業收入(百萬元)=%{y}<extra></extra>",
         "legendgroup": "8940",
         "marker": {
          "color": "#636efa",
          "pattern": {
           "shape": ""
          }
         },
         "name": "8940",
         "offsetgroup": "8940",
         "orientation": "v",
         "showlegend": true,
         "textposition": "auto",
         "type": "bar",
         "x": [
          "8940"
         ],
         "xaxis": "x",
         "y": [
          627.7
         ],
         "yaxis": "y"
        },
        {
         "alignmentgroup": "True",
         "hovertemplate": "公司代號=%{x}<br>營業收入(百萬元)=%{y}<extra></extra>",
         "legendgroup": "8996",
         "marker": {
          "color": "#EF553B",
          "pattern": {
           "shape": ""
          }
         },
         "name": "8996",
         "offsetgroup": "8996",
         "orientation": "v",
         "showlegend": true,
         "textposition": "auto",
         "type": "bar",
         "x": [
          "8996"
         ],
         "xaxis": "x",
         "y": [
          797.92
         ],
         "yaxis": "y"
        },
        {
         "alignmentgroup": "True",
         "hovertemplate": "公司代號=%{x}<br>營業收入(百萬元)=%{y}<extra></extra>",
         "legendgroup": "9802",
         "marker": {
          "color": "#00cc96",
          "pattern": {
           "shape": ""
          }
         },
         "name": "9802",
         "offsetgroup": "9802",
         "orientation": "v",
         "showlegend": true,
         "textposition": "auto",
         "type": "bar",
         "x": [
          "9802"
         ],
         "xaxis": "x",
         "y": [
          2659.21
         ],
         "yaxis": "y"
        },
        {
         "alignmentgroup": "True",
         "hovertemplate": "公司代號=%{x}<br>營業收入(百萬元)=%{y}<extra></extra>",
         "legendgroup": "9902",
         "marker": {
          "color": "#ab63fa",
          "pattern": {
           "shape": ""
          }
         },
         "name": "9902",
         "offsetgroup": "9902",
         "orientation": "v",
         "showlegend": true,
         "textposition": "auto",
         "type": "bar",
         "x": [
          "9902"
         ],
         "xaxis": "x",
         "y": [
          142.92
         ],
         "yaxis": "y"
        },
        {
         "alignmentgroup": "True",
         "hovertemplate": "公司代號=%{x}<br>營業收入(百萬元)=%{y}<extra></extra>",
         "legendgroup": "9904",
         "marker": {
          "color": "#FFA15A",
          "pattern": {
           "shape": ""
          }
         },
         "name": "9904",
         "offsetgroup": "9904",
         "orientation": "v",
         "showlegend": true,
         "textposition": "auto",
         "type": "bar",
         "x": [
          "9904"
         ],
         "xaxis": "x",
         "y": [
          63288.87
         ],
         "yaxis": "y"
        },
        {
         "alignmentgroup": "True",
         "hovertemplate": "公司代號=%{x}<br>營業收入(百萬元)=%{y}<extra></extra>",
         "legendgroup": "9905",
         "marker": {
          "color": "#19d3f3",
          "pattern": {
           "shape": ""
          }
         },
         "name": "9905",
         "offsetgroup": "9905",
         "orientation": "v",
         "showlegend": true,
         "textposition": "auto",
         "type": "bar",
         "x": [
          "9905"
         ],
         "xaxis": "x",
         "y": [
          1929.52
         ],
         "yaxis": "y"
        },
        {
         "alignmentgroup": "True",
         "hovertemplate": "公司代號=%{x}<br>營業收入(百萬元)=%{y}<extra></extra>",
         "legendgroup": "9906",
         "marker": {
          "color": "#FF6692",
          "pattern": {
           "shape": ""
          }
         },
         "name": "9906",
         "offsetgroup": "9906",
         "orientation": "v",
         "showlegend": true,
         "textposition": "auto",
         "type": "bar",
         "x": [
          "9906"
         ],
         "xaxis": "x",
         "y": [
          85.95
         ],
         "yaxis": "y"
        },
        {
         "alignmentgroup": "True",
         "hovertemplate": "公司代號=%{x}<br>營業收入(百萬元)=%{y}<extra></extra>",
         "legendgroup": "9907",
         "marker": {
          "color": "#B6E880",
          "pattern": {
           "shape": ""
          }
         },
         "name": "9907",
         "offsetgroup": "9907",
         "orientation": "v",
         "showlegend": true,
         "textposition": "auto",
         "type": "bar",
         "x": [
          "9907"
         ],
         "xaxis": "x",
         "y": [
          9370.34
         ],
         "yaxis": "y"
        },
        {
         "alignmentgroup": "True",
         "hovertemplate": "公司代號=%{x}<br>營業收入(百萬元)=%{y}<extra></extra>",
         "legendgroup": "9908",
         "marker": {
          "color": "#FF97FF",
          "pattern": {
           "shape": ""
          }
         },
         "name": "9908",
         "offsetgroup": "9908",
         "orientation": "v",
         "showlegend": true,
         "textposition": "auto",
         "type": "bar",
         "x": [
          "9908"
         ],
         "xaxis": "x",
         "y": [
          930.52
         ],
         "yaxis": "y"
        },
        {
         "alignmentgroup": "True",
         "hovertemplate": "公司代號=%{x}<br>營業收入(百萬元)=%{y}<extra></extra>",
         "legendgroup": "9910",
         "marker": {
          "color": "#FECB52",
          "pattern": {
           "shape": ""
          }
         },
         "name": "9910",
         "offsetgroup": "9910",
         "orientation": "v",
         "showlegend": true,
         "textposition": "auto",
         "type": "bar",
         "x": [
          "9910"
         ],
         "xaxis": "x",
         "y": [
          20616.45
         ],
         "yaxis": "y"
        },
        {
         "alignmentgroup": "True",
         "hovertemplate": "公司代號=%{x}<br>營業收入(百萬元)=%{y}<extra></extra>",
         "legendgroup": "9911",
         "marker": {
          "color": "#636efa",
          "pattern": {
           "shape": ""
          }
         },
         "name": "9911",
         "offsetgroup": "9911",
         "orientation": "v",
         "showlegend": true,
         "textposition": "auto",
         "type": "bar",
         "x": [
          "9911"
         ],
         "xaxis": "x",
         "y": [
          2415.76
         ],
         "yaxis": "y"
        },
        {
         "alignmentgroup": "True",
         "hovertemplate": "公司代號=%{x}<br>營業收入(百萬元)=%{y}<extra></extra>",
         "legendgroup": "9912",
         "marker": {
          "color": "#EF553B",
          "pattern": {
           "shape": ""
          }
         },
         "name": "9912",
         "offsetgroup": "9912",
         "orientation": "v",
         "showlegend": true,
         "textposition": "auto",
         "type": "bar",
         "x": [
          "9912"
         ],
         "xaxis": "x",
         "y": [
          121.05
         ],
         "yaxis": "y"
        },
        {
         "alignmentgroup": "True",
         "hovertemplate": "公司代號=%{x}<br>營業收入(百萬元)=%{y}<extra></extra>",
         "legendgroup": "9914",
         "marker": {
          "color": "#00cc96",
          "pattern": {
           "shape": ""
          }
         },
         "name": "9914",
         "offsetgroup": "9914",
         "orientation": "v",
         "showlegend": true,
         "textposition": "auto",
         "type": "bar",
         "x": [
          "9914"
         ],
         "xaxis": "x",
         "y": [
          5845.5
         ],
         "yaxis": "y"
        },
        {
         "alignmentgroup": "True",
         "hovertemplate": "公司代號=%{x}<br>營業收入(百萬元)=%{y}<extra></extra>",
         "legendgroup": "9917",
         "marker": {
          "color": "#ab63fa",
          "pattern": {
           "shape": ""
          }
         },
         "name": "9917",
         "offsetgroup": "9917",
         "orientation": "v",
         "showlegend": true,
         "textposition": "auto",
         "type": "bar",
         "x": [
          "9917"
         ],
         "xaxis": "x",
         "y": [
          4282.41
         ],
         "yaxis": "y"
        },
        {
         "alignmentgroup": "True",
         "hovertemplate": "公司代號=%{x}<br>營業收入(百萬元)=%{y}<extra></extra>",
         "legendgroup": "9918",
         "marker": {
          "color": "#FFA15A",
          "pattern": {
           "shape": ""
          }
         },
         "name": "9918",
         "offsetgroup": "9918",
         "orientation": "v",
         "showlegend": true,
         "textposition": "auto",
         "type": "bar",
         "x": [
          "9918"
         ],
         "xaxis": "x",
         "y": [
          673.79
         ],
         "yaxis": "y"
        },
        {
         "alignmentgroup": "True",
         "hovertemplate": "公司代號=%{x}<br>營業收入(百萬元)=%{y}<extra></extra>",
         "legendgroup": "9919",
         "marker": {
          "color": "#19d3f3",
          "pattern": {
           "shape": ""
          }
         },
         "name": "9919",
         "offsetgroup": "9919",
         "orientation": "v",
         "showlegend": true,
         "textposition": "auto",
         "type": "bar",
         "x": [
          "9919"
         ],
         "xaxis": "x",
         "y": [
          718.8
         ],
         "yaxis": "y"
        },
        {
         "alignmentgroup": "True",
         "hovertemplate": "公司代號=%{x}<br>營業收入(百萬元)=%{y}<extra></extra>",
         "legendgroup": "9921",
         "marker": {
          "color": "#FF6692",
          "pattern": {
           "shape": ""
          }
         },
         "name": "9921",
         "offsetgroup": "9921",
         "orientation": "v",
         "showlegend": true,
         "textposition": "auto",
         "type": "bar",
         "x": [
          "9921"
         ],
         "xaxis": "x",
         "y": [
          16063.16
         ],
         "yaxis": "y"
        },
        {
         "alignmentgroup": "True",
         "hovertemplate": "公司代號=%{x}<br>營業收入(百萬元)=%{y}<extra></extra>",
         "legendgroup": "9924",
         "marker": {
          "color": "#B6E880",
          "pattern": {
           "shape": ""
          }
         },
         "name": "9924",
         "offsetgroup": "9924",
         "orientation": "v",
         "showlegend": true,
         "textposition": "auto",
         "type": "bar",
         "x": [
          "9924"
         ],
         "xaxis": "x",
         "y": [
          1907.56
         ],
         "yaxis": "y"
        },
        {
         "alignmentgroup": "True",
         "hovertemplate": "公司代號=%{x}<br>營業收入(百萬元)=%{y}<extra></extra>",
         "legendgroup": "9925",
         "marker": {
          "color": "#FF97FF",
          "pattern": {
           "shape": ""
          }
         },
         "name": "9925",
         "offsetgroup": "9925",
         "orientation": "v",
         "showlegend": true,
         "textposition": "auto",
         "type": "bar",
         "x": [
          "9925"
         ],
         "xaxis": "x",
         "y": [
          1946.64
         ],
         "yaxis": "y"
        },
        {
         "alignmentgroup": "True",
         "hovertemplate": "公司代號=%{x}<br>營業收入(百萬元)=%{y}<extra></extra>",
         "legendgroup": "9926",
         "marker": {
          "color": "#FECB52",
          "pattern": {
           "shape": ""
          }
         },
         "name": "9926",
         "offsetgroup": "9926",
         "orientation": "v",
         "showlegend": true,
         "textposition": "auto",
         "type": "bar",
         "x": [
          "9926"
         ],
         "xaxis": "x",
         "y": [
          693.24
         ],
         "yaxis": "y"
        },
        {
         "alignmentgroup": "True",
         "hovertemplate": "公司代號=%{x}<br>營業收入(百萬元)=%{y}<extra></extra>",
         "legendgroup": "9927",
         "marker": {
          "color": "#636efa",
          "pattern": {
           "shape": ""
          }
         },
         "name": "9927",
         "offsetgroup": "9927",
         "orientation": "v",
         "showlegend": true,
         "textposition": "auto",
         "type": "bar",
         "x": [
          "9927"
         ],
         "xaxis": "x",
         "y": [
          2105.5
         ],
         "yaxis": "y"
        },
        {
         "alignmentgroup": "True",
         "hovertemplate": "公司代號=%{x}<br>營業收入(百萬元)=%{y}<extra></extra>",
         "legendgroup": "9928",
         "marker": {
          "color": "#EF553B",
          "pattern": {
           "shape": ""
          }
         },
         "name": "9928",
         "offsetgroup": "9928",
         "orientation": "v",
         "showlegend": true,
         "textposition": "auto",
         "type": "bar",
         "x": [
          "9928"
         ],
         "xaxis": "x",
         "y": [
          229.24
         ],
         "yaxis": "y"
        },
        {
         "alignmentgroup": "True",
         "hovertemplate": "公司代號=%{x}<br>營業收入(百萬元)=%{y}<extra></extra>",
         "legendgroup": "9929",
         "marker": {
          "color": "#00cc96",
          "pattern": {
           "shape": ""
          }
         },
         "name": "9929",
         "offsetgroup": "9929",
         "orientation": "v",
         "showlegend": true,
         "textposition": "auto",
         "type": "bar",
         "x": [
          "9929"
         ],
         "xaxis": "x",
         "y": [
          179.19
         ],
         "yaxis": "y"
        },
        {
         "alignmentgroup": "True",
         "hovertemplate": "公司代號=%{x}<br>營業收入(百萬元)=%{y}<extra></extra>",
         "legendgroup": "9930",
         "marker": {
          "color": "#ab63fa",
          "pattern": {
           "shape": ""
          }
         },
         "name": "9930",
         "offsetgroup": "9930",
         "orientation": "v",
         "showlegend": true,
         "textposition": "auto",
         "type": "bar",
         "x": [
          "9930"
         ],
         "xaxis": "x",
         "y": [
          2938.54
         ],
         "yaxis": "y"
        },
        {
         "alignmentgroup": "True",
         "hovertemplate": "公司代號=%{x}<br>營業收入(百萬元)=%{y}<extra></extra>",
         "legendgroup": "9931",
         "marker": {
          "color": "#FFA15A",
          "pattern": {
           "shape": ""
          }
         },
         "name": "9931",
         "offsetgroup": "9931",
         "orientation": "v",
         "showlegend": true,
         "textposition": "auto",
         "type": "bar",
         "x": [
          "9931"
         ],
         "xaxis": "x",
         "y": [
          659.22
         ],
         "yaxis": "y"
        },
        {
         "alignmentgroup": "True",
         "hovertemplate": "公司代號=%{x}<br>營業收入(百萬元)=%{y}<extra></extra>",
         "legendgroup": "9933",
         "marker": {
          "color": "#19d3f3",
          "pattern": {
           "shape": ""
          }
         },
         "name": "9933",
         "offsetgroup": "9933",
         "orientation": "v",
         "showlegend": true,
         "textposition": "auto",
         "type": "bar",
         "x": [
          "9933"
         ],
         "xaxis": "x",
         "y": [
          29272.37
         ],
         "yaxis": "y"
        },
        {
         "alignmentgroup": "True",
         "hovertemplate": "公司代號=%{x}<br>營業收入(百萬元)=%{y}<extra></extra>",
         "legendgroup": "9934",
         "marker": {
          "color": "#FF6692",
          "pattern": {
           "shape": ""
          }
         },
         "name": "9934",
         "offsetgroup": "9934",
         "orientation": "v",
         "showlegend": true,
         "textposition": "auto",
         "type": "bar",
         "x": [
          "9934"
         ],
         "xaxis": "x",
         "y": [
          4321.69
         ],
         "yaxis": "y"
        },
        {
         "alignmentgroup": "True",
         "hovertemplate": "公司代號=%{x}<br>營業收入(百萬元)=%{y}<extra></extra>",
         "legendgroup": "9935",
         "marker": {
          "color": "#B6E880",
          "pattern": {
           "shape": ""
          }
         },
         "name": "9935",
         "offsetgroup": "9935",
         "orientation": "v",
         "showlegend": true,
         "textposition": "auto",
         "type": "bar",
         "x": [
          "9935"
         ],
         "xaxis": "x",
         "y": [
          1117.97
         ],
         "yaxis": "y"
        },
        {
         "alignmentgroup": "True",
         "hovertemplate": "公司代號=%{x}<br>營業收入(百萬元)=%{y}<extra></extra>",
         "legendgroup": "9937",
         "marker": {
          "color": "#FF97FF",
          "pattern": {
           "shape": ""
          }
         },
         "name": "9937",
         "offsetgroup": "9937",
         "orientation": "v",
         "showlegend": true,
         "textposition": "auto",
         "type": "bar",
         "x": [
          "9937"
         ],
         "xaxis": "x",
         "y": [
          5866.56
         ],
         "yaxis": "y"
        },
        {
         "alignmentgroup": "True",
         "hovertemplate": "公司代號=%{x}<br>營業收入(百萬元)=%{y}<extra></extra>",
         "legendgroup": "9938",
         "marker": {
          "color": "#FECB52",
          "pattern": {
           "shape": ""
          }
         },
         "name": "9938",
         "offsetgroup": "9938",
         "orientation": "v",
         "showlegend": true,
         "textposition": "auto",
         "type": "bar",
         "x": [
          "9938"
         ],
         "xaxis": "x",
         "y": [
          3555.19
         ],
         "yaxis": "y"
        },
        {
         "alignmentgroup": "True",
         "hovertemplate": "公司代號=%{x}<br>營業收入(百萬元)=%{y}<extra></extra>",
         "legendgroup": "9939",
         "marker": {
          "color": "#636efa",
          "pattern": {
           "shape": ""
          }
         },
         "name": "9939",
         "offsetgroup": "9939",
         "orientation": "v",
         "showlegend": true,
         "textposition": "auto",
         "type": "bar",
         "x": [
          "9939"
         ],
         "xaxis": "x",
         "y": [
          6476.9
         ],
         "yaxis": "y"
        },
        {
         "alignmentgroup": "True",
         "hovertemplate": "公司代號=%{x}<br>營業收入(百萬元)=%{y}<extra></extra>",
         "legendgroup": "9940",
         "marker": {
          "color": "#EF553B",
          "pattern": {
           "shape": ""
          }
         },
         "name": "9940",
         "offsetgroup": "9940",
         "orientation": "v",
         "showlegend": true,
         "textposition": "auto",
         "type": "bar",
         "x": [
          "9940"
         ],
         "xaxis": "x",
         "y": [
          3139.67
         ],
         "yaxis": "y"
        },
        {
         "alignmentgroup": "True",
         "hovertemplate": "公司代號=%{x}<br>營業收入(百萬元)=%{y}<extra></extra>",
         "legendgroup": "9941",
         "marker": {
          "color": "#00cc96",
          "pattern": {
           "shape": ""
          }
         },
         "name": "9941",
         "offsetgroup": "9941",
         "orientation": "v",
         "showlegend": true,
         "textposition": "auto",
         "type": "bar",
         "x": [
          "9941"
         ],
         "xaxis": "x",
         "y": [
          10396.7
         ],
         "yaxis": "y"
        },
        {
         "alignmentgroup": "True",
         "hovertemplate": "公司代號=%{x}<br>營業收入(百萬元)=%{y}<extra></extra>",
         "legendgroup": "9942",
         "marker": {
          "color": "#ab63fa",
          "pattern": {
           "shape": ""
          }
         },
         "name": "9942",
         "offsetgroup": "9942",
         "orientation": "v",
         "showlegend": true,
         "textposition": "auto",
         "type": "bar",
         "x": [
          "9942"
         ],
         "xaxis": "x",
         "y": [
          956.49
         ],
         "yaxis": "y"
        },
        {
         "alignmentgroup": "True",
         "hovertemplate": "公司代號=%{x}<br>營業收入(百萬元)=%{y}<extra></extra>",
         "legendgroup": "9943",
         "marker": {
          "color": "#FFA15A",
          "pattern": {
           "shape": ""
          }
         },
         "name": "9943",
         "offsetgroup": "9943",
         "orientation": "v",
         "showlegend": true,
         "textposition": "auto",
         "type": "bar",
         "x": [
          "9943"
         ],
         "xaxis": "x",
         "y": [
          688.29
         ],
         "yaxis": "y"
        },
        {
         "alignmentgroup": "True",
         "hovertemplate": "公司代號=%{x}<br>營業收入(百萬元)=%{y}<extra></extra>",
         "legendgroup": "9944",
         "marker": {
          "color": "#19d3f3",
          "pattern": {
           "shape": ""
          }
         },
         "name": "9944",
         "offsetgroup": "9944",
         "orientation": "v",
         "showlegend": true,
         "textposition": "auto",
         "type": "bar",
         "x": [
          "9944"
         ],
         "xaxis": "x",
         "y": [
          732.92
         ],
         "yaxis": "y"
        },
        {
         "alignmentgroup": "True",
         "hovertemplate": "公司代號=%{x}<br>營業收入(百萬元)=%{y}<extra></extra>",
         "legendgroup": "9945",
         "marker": {
          "color": "#FF6692",
          "pattern": {
           "shape": ""
          }
         },
         "name": "9945",
         "offsetgroup": "9945",
         "orientation": "v",
         "showlegend": true,
         "textposition": "auto",
         "type": "bar",
         "x": [
          "9945"
         ],
         "xaxis": "x",
         "y": [
          7000.52
         ],
         "yaxis": "y"
        },
        {
         "alignmentgroup": "True",
         "hovertemplate": "公司代號=%{x}<br>營業收入(百萬元)=%{y}<extra></extra>",
         "legendgroup": "9946",
         "marker": {
          "color": "#B6E880",
          "pattern": {
           "shape": ""
          }
         },
         "name": "9946",
         "offsetgroup": "9946",
         "orientation": "v",
         "showlegend": true,
         "textposition": "auto",
         "type": "bar",
         "x": [
          "9946"
         ],
         "xaxis": "x",
         "y": [
          301.27
         ],
         "yaxis": "y"
        },
        {
         "alignmentgroup": "True",
         "hovertemplate": "公司代號=%{x}<br>營業收入(百萬元)=%{y}<extra></extra>",
         "legendgroup": "9955",
         "marker": {
          "color": "#FF97FF",
          "pattern": {
           "shape": ""
          }
         },
         "name": "9955",
         "offsetgroup": "9955",
         "orientation": "v",
         "showlegend": true,
         "textposition": "auto",
         "type": "bar",
         "x": [
          "9955"
         ],
         "xaxis": "x",
         "y": [
          272.89
         ],
         "yaxis": "y"
        },
        {
         "alignmentgroup": "True",
         "hovertemplate": "公司代號=%{x}<br>營業收入(百萬元)=%{y}<extra></extra>",
         "legendgroup": "9958",
         "marker": {
          "color": "#FECB52",
          "pattern": {
           "shape": ""
          }
         },
         "name": "9958",
         "offsetgroup": "9958",
         "orientation": "v",
         "showlegend": true,
         "textposition": "auto",
         "type": "bar",
         "x": [
          "9958"
         ],
         "xaxis": "x",
         "y": [
          3148.96
         ],
         "yaxis": "y"
        }
       ],
       "layout": {
        "autosize": true,
        "barmode": "group",
        "legend": {
         "title": {
          "text": "公司代號"
         },
         "tracegroupgap": 0
        },
        "margin": {
         "t": 60
        },
        "template": {
         "data": {
          "bar": [
           {
            "error_x": {
             "color": "#2a3f5f"
            },
            "error_y": {
             "color": "#2a3f5f"
            },
            "marker": {
             "line": {
              "color": "#E5ECF6",
              "width": 0.5
             },
             "pattern": {
              "fillmode": "overlay",
              "size": 10,
              "solidity": 0.2
             }
            },
            "type": "bar"
           }
          ],
          "barpolar": [
           {
            "marker": {
             "line": {
              "color": "#E5ECF6",
              "width": 0.5
             },
             "pattern": {
              "fillmode": "overlay",
              "size": 10,
              "solidity": 0.2
             }
            },
            "type": "barpolar"
           }
          ],
          "carpet": [
           {
            "aaxis": {
             "endlinecolor": "#2a3f5f",
             "gridcolor": "white",
             "linecolor": "white",
             "minorgridcolor": "white",
             "startlinecolor": "#2a3f5f"
            },
            "baxis": {
             "endlinecolor": "#2a3f5f",
             "gridcolor": "white",
             "linecolor": "white",
             "minorgridcolor": "white",
             "startlinecolor": "#2a3f5f"
            },
            "type": "carpet"
           }
          ],
          "choropleth": [
           {
            "colorbar": {
             "outlinewidth": 0,
             "ticks": ""
            },
            "type": "choropleth"
           }
          ],
          "contour": [
           {
            "colorbar": {
             "outlinewidth": 0,
             "ticks": ""
            },
            "colorscale": [
             [
              0,
              "#0d0887"
             ],
             [
              0.1111111111111111,
              "#46039f"
             ],
             [
              0.2222222222222222,
              "#7201a8"
             ],
             [
              0.3333333333333333,
              "#9c179e"
             ],
             [
              0.4444444444444444,
              "#bd3786"
             ],
             [
              0.5555555555555556,
              "#d8576b"
             ],
             [
              0.6666666666666666,
              "#ed7953"
             ],
             [
              0.7777777777777778,
              "#fb9f3a"
             ],
             [
              0.8888888888888888,
              "#fdca26"
             ],
             [
              1,
              "#f0f921"
             ]
            ],
            "type": "contour"
           }
          ],
          "contourcarpet": [
           {
            "colorbar": {
             "outlinewidth": 0,
             "ticks": ""
            },
            "type": "contourcarpet"
           }
          ],
          "heatmap": [
           {
            "colorbar": {
             "outlinewidth": 0,
             "ticks": ""
            },
            "colorscale": [
             [
              0,
              "#0d0887"
             ],
             [
              0.1111111111111111,
              "#46039f"
             ],
             [
              0.2222222222222222,
              "#7201a8"
             ],
             [
              0.3333333333333333,
              "#9c179e"
             ],
             [
              0.4444444444444444,
              "#bd3786"
             ],
             [
              0.5555555555555556,
              "#d8576b"
             ],
             [
              0.6666666666666666,
              "#ed7953"
             ],
             [
              0.7777777777777778,
              "#fb9f3a"
             ],
             [
              0.8888888888888888,
              "#fdca26"
             ],
             [
              1,
              "#f0f921"
             ]
            ],
            "type": "heatmap"
           }
          ],
          "heatmapgl": [
           {
            "colorbar": {
             "outlinewidth": 0,
             "ticks": ""
            },
            "colorscale": [
             [
              0,
              "#0d0887"
             ],
             [
              0.1111111111111111,
              "#46039f"
             ],
             [
              0.2222222222222222,
              "#7201a8"
             ],
             [
              0.3333333333333333,
              "#9c179e"
             ],
             [
              0.4444444444444444,
              "#bd3786"
             ],
             [
              0.5555555555555556,
              "#d8576b"
             ],
             [
              0.6666666666666666,
              "#ed7953"
             ],
             [
              0.7777777777777778,
              "#fb9f3a"
             ],
             [
              0.8888888888888888,
              "#fdca26"
             ],
             [
              1,
              "#f0f921"
             ]
            ],
            "type": "heatmapgl"
           }
          ],
          "histogram": [
           {
            "marker": {
             "pattern": {
              "fillmode": "overlay",
              "size": 10,
              "solidity": 0.2
             }
            },
            "type": "histogram"
           }
          ],
          "histogram2d": [
           {
            "colorbar": {
             "outlinewidth": 0,
             "ticks": ""
            },
            "colorscale": [
             [
              0,
              "#0d0887"
             ],
             [
              0.1111111111111111,
              "#46039f"
             ],
             [
              0.2222222222222222,
              "#7201a8"
             ],
             [
              0.3333333333333333,
              "#9c179e"
             ],
             [
              0.4444444444444444,
              "#bd3786"
             ],
             [
              0.5555555555555556,
              "#d8576b"
             ],
             [
              0.6666666666666666,
              "#ed7953"
             ],
             [
              0.7777777777777778,
              "#fb9f3a"
             ],
             [
              0.8888888888888888,
              "#fdca26"
             ],
             [
              1,
              "#f0f921"
             ]
            ],
            "type": "histogram2d"
           }
          ],
          "histogram2dcontour": [
           {
            "colorbar": {
             "outlinewidth": 0,
             "ticks": ""
            },
            "colorscale": [
             [
              0,
              "#0d0887"
             ],
             [
              0.1111111111111111,
              "#46039f"
             ],
             [
              0.2222222222222222,
              "#7201a8"
             ],
             [
              0.3333333333333333,
              "#9c179e"
             ],
             [
              0.4444444444444444,
              "#bd3786"
             ],
             [
              0.5555555555555556,
              "#d8576b"
             ],
             [
              0.6666666666666666,
              "#ed7953"
             ],
             [
              0.7777777777777778,
              "#fb9f3a"
             ],
             [
              0.8888888888888888,
              "#fdca26"
             ],
             [
              1,
              "#f0f921"
             ]
            ],
            "type": "histogram2dcontour"
           }
          ],
          "mesh3d": [
           {
            "colorbar": {
             "outlinewidth": 0,
             "ticks": ""
            },
            "type": "mesh3d"
           }
          ],
          "parcoords": [
           {
            "line": {
             "colorbar": {
              "outlinewidth": 0,
              "ticks": ""
             }
            },
            "type": "parcoords"
           }
          ],
          "pie": [
           {
            "automargin": true,
            "type": "pie"
           }
          ],
          "scatter": [
           {
            "fillpattern": {
             "fillmode": "overlay",
             "size": 10,
             "solidity": 0.2
            },
            "type": "scatter"
           }
          ],
          "scatter3d": [
           {
            "line": {
             "colorbar": {
              "outlinewidth": 0,
              "ticks": ""
             }
            },
            "marker": {
             "colorbar": {
              "outlinewidth": 0,
              "ticks": ""
             }
            },
            "type": "scatter3d"
           }
          ],
          "scattercarpet": [
           {
            "marker": {
             "colorbar": {
              "outlinewidth": 0,
              "ticks": ""
             }
            },
            "type": "scattercarpet"
           }
          ],
          "scattergeo": [
           {
            "marker": {
             "colorbar": {
              "outlinewidth": 0,
              "ticks": ""
             }
            },
            "type": "scattergeo"
           }
          ],
          "scattergl": [
           {
            "marker": {
             "colorbar": {
              "outlinewidth": 0,
              "ticks": ""
             }
            },
            "type": "scattergl"
           }
          ],
          "scattermapbox": [
           {
            "marker": {
             "colorbar": {
              "outlinewidth": 0,
              "ticks": ""
             }
            },
            "type": "scattermapbox"
           }
          ],
          "scatterpolar": [
           {
            "marker": {
             "colorbar": {
              "outlinewidth": 0,
              "ticks": ""
             }
            },
            "type": "scatterpolar"
           }
          ],
          "scatterpolargl": [
           {
            "marker": {
             "colorbar": {
              "outlinewidth": 0,
              "ticks": ""
             }
            },
            "type": "scatterpolargl"
           }
          ],
          "scatterternary": [
           {
            "marker": {
             "colorbar": {
              "outlinewidth": 0,
              "ticks": ""
             }
            },
            "type": "scatterternary"
           }
          ],
          "surface": [
           {
            "colorbar": {
             "outlinewidth": 0,
             "ticks": ""
            },
            "colorscale": [
             [
              0,
              "#0d0887"
             ],
             [
              0.1111111111111111,
              "#46039f"
             ],
             [
              0.2222222222222222,
              "#7201a8"
             ],
             [
              0.3333333333333333,
              "#9c179e"
             ],
             [
              0.4444444444444444,
              "#bd3786"
             ],
             [
              0.5555555555555556,
              "#d8576b"
             ],
             [
              0.6666666666666666,
              "#ed7953"
             ],
             [
              0.7777777777777778,
              "#fb9f3a"
             ],
             [
              0.8888888888888888,
              "#fdca26"
             ],
             [
              1,
              "#f0f921"
             ]
            ],
            "type": "surface"
           }
          ],
          "table": [
           {
            "cells": {
             "fill": {
              "color": "#EBF0F8"
             },
             "line": {
              "color": "white"
             }
            },
            "header": {
             "fill": {
              "color": "#C8D4E3"
             },
             "line": {
              "color": "white"
             }
            },
            "type": "table"
           }
          ]
         },
         "layout": {
          "annotationdefaults": {
           "arrowcolor": "#2a3f5f",
           "arrowhead": 0,
           "arrowwidth": 1
          },
          "autotypenumbers": "strict",
          "coloraxis": {
           "colorbar": {
            "outlinewidth": 0,
            "ticks": ""
           }
          },
          "colorscale": {
           "diverging": [
            [
             0,
             "#8e0152"
            ],
            [
             0.1,
             "#c51b7d"
            ],
            [
             0.2,
             "#de77ae"
            ],
            [
             0.3,
             "#f1b6da"
            ],
            [
             0.4,
             "#fde0ef"
            ],
            [
             0.5,
             "#f7f7f7"
            ],
            [
             0.6,
             "#e6f5d0"
            ],
            [
             0.7,
             "#b8e186"
            ],
            [
             0.8,
             "#7fbc41"
            ],
            [
             0.9,
             "#4d9221"
            ],
            [
             1,
             "#276419"
            ]
           ],
           "sequential": [
            [
             0,
             "#0d0887"
            ],
            [
             0.1111111111111111,
             "#46039f"
            ],
            [
             0.2222222222222222,
             "#7201a8"
            ],
            [
             0.3333333333333333,
             "#9c179e"
            ],
            [
             0.4444444444444444,
             "#bd3786"
            ],
            [
             0.5555555555555556,
             "#d8576b"
            ],
            [
             0.6666666666666666,
             "#ed7953"
            ],
            [
             0.7777777777777778,
             "#fb9f3a"
            ],
            [
             0.8888888888888888,
             "#fdca26"
            ],
            [
             1,
             "#f0f921"
            ]
           ],
           "sequentialminus": [
            [
             0,
             "#0d0887"
            ],
            [
             0.1111111111111111,
             "#46039f"
            ],
            [
             0.2222222222222222,
             "#7201a8"
            ],
            [
             0.3333333333333333,
             "#9c179e"
            ],
            [
             0.4444444444444444,
             "#bd3786"
            ],
            [
             0.5555555555555556,
             "#d8576b"
            ],
            [
             0.6666666666666666,
             "#ed7953"
            ],
            [
             0.7777777777777778,
             "#fb9f3a"
            ],
            [
             0.8888888888888888,
             "#fdca26"
            ],
            [
             1,
             "#f0f921"
            ]
           ]
          },
          "colorway": [
           "#636efa",
           "#EF553B",
           "#00cc96",
           "#ab63fa",
           "#FFA15A",
           "#19d3f3",
           "#FF6692",
           "#B6E880",
           "#FF97FF",
           "#FECB52"
          ],
          "font": {
           "color": "#2a3f5f"
          },
          "geo": {
           "bgcolor": "white",
           "lakecolor": "white",
           "landcolor": "#E5ECF6",
           "showlakes": true,
           "showland": true,
           "subunitcolor": "white"
          },
          "hoverlabel": {
           "align": "left"
          },
          "hovermode": "closest",
          "mapbox": {
           "style": "light"
          },
          "paper_bgcolor": "white",
          "plot_bgcolor": "#E5ECF6",
          "polar": {
           "angularaxis": {
            "gridcolor": "white",
            "linecolor": "white",
            "ticks": ""
           },
           "bgcolor": "#E5ECF6",
           "radialaxis": {
            "gridcolor": "white",
            "linecolor": "white",
            "ticks": ""
           }
          },
          "scene": {
           "xaxis": {
            "backgroundcolor": "#E5ECF6",
            "gridcolor": "white",
            "gridwidth": 2,
            "linecolor": "white",
            "showbackground": true,
            "ticks": "",
            "zerolinecolor": "white"
           },
           "yaxis": {
            "backgroundcolor": "#E5ECF6",
            "gridcolor": "white",
            "gridwidth": 2,
            "linecolor": "white",
            "showbackground": true,
            "ticks": "",
            "zerolinecolor": "white"
           },
           "zaxis": {
            "backgroundcolor": "#E5ECF6",
            "gridcolor": "white",
            "gridwidth": 2,
            "linecolor": "white",
            "showbackground": true,
            "ticks": "",
            "zerolinecolor": "white"
           }
          },
          "shapedefaults": {
           "line": {
            "color": "#2a3f5f"
           }
          },
          "ternary": {
           "aaxis": {
            "gridcolor": "white",
            "linecolor": "white",
            "ticks": ""
           },
           "baxis": {
            "gridcolor": "white",
            "linecolor": "white",
            "ticks": ""
           },
           "bgcolor": "#E5ECF6",
           "caxis": {
            "gridcolor": "white",
            "linecolor": "white",
            "ticks": ""
           }
          },
          "title": {
           "x": 0.05
          },
          "xaxis": {
           "automargin": true,
           "gridcolor": "white",
           "linecolor": "white",
           "ticks": "",
           "title": {
            "standoff": 15
           },
           "zerolinecolor": "white",
           "zerolinewidth": 2
          },
          "yaxis": {
           "automargin": true,
           "gridcolor": "white",
           "linecolor": "white",
           "ticks": "",
           "title": {
            "standoff": 15
           },
           "zerolinecolor": "white",
           "zerolinewidth": 2
          }
         }
        },
        "xaxis": {
         "anchor": "y",
         "autorange": true,
         "categoryarray": [
          "1101",
          "1102",
          "1103",
          "1104",
          "1108",
          "1109",
          "1110",
          "1201",
          "1203",
          "1210",
          "1213",
          "1215",
          "1216",
          "1217",
          "1218",
          "公司代號",
          "1219",
          "1220",
          "1225",
          "1227",
          "1229",
          "1231",
          "1232",
          "1233",
          "1234",
          "1235",
          "1236",
          "1256",
          "1301",
          "1303",
          "1304",
          "1305",
          "1307",
          "1308",
          "1309",
          "1310",
          "1312",
          "1313",
          "1314",
          "1315",
          "1316",
          "1319",
          "1321",
          "1323",
          "1324",
          "1325",
          "1326",
          "1337",
          "1338",
          "1339",
          "1340",
          "1341",
          "1342",
          "1402",
          "1410",
          "1413",
          "1414",
          "1416",
          "1417",
          "1418",
          "1419",
          "1423",
          "1432",
          "1434",
          "1435",
          "1436",
          "1437",
          "1438",
          "1439",
          "1440",
          "1441",
          "1442",
          "1443",
          "1444",
          "1445",
          "1446",
          "1447",
          "1449",
          "1451",
          "1452",
          "1453",
          "1454",
          "1455",
          "1456",
          "1457",
          "1459",
          "1460",
          "1463",
          "1464",
          "1465",
          "1466",
          "1467",
          "1468",
          "1470",
          "1471",
          "1472",
          "1473",
          "1474",
          "1475",
          "1476",
          "1477",
          "1503",
          "1504",
          "1506",
          "1512",
          "1513",
          "1514",
          "1515",
          "1516",
          "1517",
          "1519",
          "1521",
          "1522",
          "1524",
          "1525",
          "1526",
          "1527",
          "1528",
          "1529",
          "1530",
          "1531",
          "1532",
          "1533",
          "1535",
          "1536",
          "1537",
          "1538",
          "1539",
          "1540",
          "1541",
          "1558",
          "1560",
          "1563",
          "1568",
          "1582",
          "1583",
          "1587",
          "1589",
          "1590",
          "1597",
          "1598",
          "1603",
          "1604",
          "1605",
          "1608",
          "1609",
          "1611",
          "1612",
          "1614",
          "1615",
          "1616",
          "1617",
          "1618",
          "1626",
          "1701",
          "1702",
          "1707",
          "1708",
          "1709",
          "1710",
          "1711",
          "1712",
          "1713",
          "1714",
          "1717",
          "1720",
          "1721",
          "1722",
          "1723",
          "1725",
          "1726",
          "1727",
          "1730",
          "1731",
          "1732",
          "1733",
          "1734",
          "1735",
          "1736",
          "1737",
          "1752",
          "1760",
          "1762",
          "1773",
          "1776",
          "1783",
          "1786",
          "1789",
          "1795",
          "1802",
          "1805",
          "1806",
          "1808",
          "1809",
          "1810",
          "1817",
          "1903",
          "1904",
          "1905",
          "1906",
          "1907",
          "1909",
          "2002",
          "2006",
          "2007",
          "2008",
          "2009",
          "2010",
          "2012",
          "2013",
          "2014",
          "2015",
          "2017",
          "2020",
          "2022",
          "2023",
          "2024",
          "2025",
          "2027",
          "2028",
          "2029",
          "2030",
          "2031",
          "2032",
          "2033",
          "2034",
          "2038",
          "2049",
          "2059",
          "2062",
          "2069",
          "2101",
          "2102",
          "2103",
          "2104",
          "2105",
          "2106",
          "2107",
          "2108",
          "2109",
          "2114",
          "2115",
          "2201",
          "2204",
          "2206",
          "2208",
          "2211",
          "2227",
          "2228",
          "2231",
          "2233",
          "2236",
          "2239",
          "2241",
          "2243",
          "2247",
          "2250",
          "2254",
          "2258",
          "2301",
          "2302",
          "2303",
          "2305",
          "2308",
          "2312",
          "2313",
          "2314",
          "2316",
          "2317",
          "2321",
          "2323",
          "2324",
          "2327",
          "2328",
          "2329",
          "2330",
          "2331",
          "2332",
          "2337",
          "2338",
          "2340",
          "2342",
          "2344",
          "2345",
          "2347",
          "2348",
          "2349",
          "2351",
          "2352",
          "2353",
          "2354",
          "2355",
          "2356",
          "2357",
          "2359",
          "2360",
          "2362",
          "2363",
          "2364",
          "2365",
          "2367",
          "2368",
          "2369",
          "2371",
          "2373",
          "2374",
          "2375",
          "2376",
          "2377",
          "2379",
          "2380",
          "2382",
          "2383",
          "2385",
          "2387",
          "2388",
          "2390",
          "2392",
          "2393",
          "2395",
          "2397",
          "2399",
          "2401",
          "2402",
          "2404",
          "2405",
          "2406",
          "2408",
          "2409",
          "2412",
          "2413",
          "2414",
          "2415",
          "2417",
          "2419",
          "2420",
          "2421",
          "2423",
          "2424",
          "2425",
          "2426",
          "2427",
          "2428",
          "2429",
          "2430",
          "2431",
          "2432",
          "2433",
          "2434",
          "2436",
          "2438",
          "2439",
          "2440",
          "2441",
          "2442",
          "2444",
          "2449",
          "2450",
          "2451",
          "2453",
          "2454",
          "2455",
          "2457",
          "2458",
          "2459",
          "2460",
          "2461",
          "2462",
          "2464",
          "2465",
          "2466",
          "2467",
          "2468",
          "2471",
          "2472",
          "2474",
          "2476",
          "2477",
          "2478",
          "2480",
          "2481",
          "2482",
          "2483",
          "2484",
          "2485",
          "2486",
          "2488",
          "2489",
          "2491",
          "2492",
          "2493",
          "2495",
          "2496",
          "2497",
          "2498",
          "2501",
          "2504",
          "2505",
          "2506",
          "2509",
          "2511",
          "2514",
          "2515",
          "2516",
          "2520",
          "2524",
          "2527",
          "2528",
          "2530",
          "2534",
          "2535",
          "2536",
          "2537",
          "2538",
          "2539",
          "2540",
          "2542",
          "2543",
          "2545",
          "2546",
          "2547",
          "2548",
          "2597",
          "2601",
          "2603",
          "2605",
          "2606",
          "2607",
          "2608",
          "2609",
          "2610",
          "2611",
          "2612",
          "2613",
          "2614",
          "2615",
          "2616",
          "2617",
          "2618",
          "2630",
          "2633",
          "2634",
          "2636",
          "2637",
          "2642",
          "2645",
          "2701",
          "2702",
          "2704",
          "2705",
          "2706",
          "2707",
          "2712",
          "2722",
          "2723",
          "2727",
          "2731",
          "2739",
          "2748",
          "2753",
          "2762",
          "2816",
          "2832",
          "2850",
          "2851",
          "2852",
          "2867",
          "2901",
          "2903",
          "2904",
          "2906",
          "2908",
          "2910",
          "2911",
          "2912",
          "2913",
          "2915",
          "2923",
          "2929",
          "2939",
          "2945",
          "3002",
          "3003",
          "3004",
          "3005",
          "3006",
          "3008",
          "3010",
          "3011",
          "3013",
          "3014",
          "3015",
          "3016",
          "3017",
          "3018",
          "3019",
          "3021",
          "3022",
          "3023",
          "3024",
          "3025",
          "3026",
          "3027",
          "3028",
          "3029",
          "3030",
          "3031",
          "3032",
          "3033",
          "3034",
          "3035",
          "3036",
          "3037",
          "3038",
          "3040",
          "3041",
          "3042",
          "3043",
          "3044",
          "3045",
          "3046",
          "3047",
          "3048",
          "3049",
          "3050",
          "3051",
          "3052",
          "3054",
          "3055",
          "3056",
          "3057",
          "3058",
          "3059",
          "3060",
          "3062",
          "3090",
          "3092",
          "3094",
          "3130",
          "3138",
          "3149",
          "3164",
          "3167",
          "3168",
          "3189",
          "3209",
          "3229",
          "3231",
          "3257",
          "3266",
          "3296",
          "3305",
          "3308",
          "3311",
          "3312",
          "3321",
          "3338",
          "3346",
          "3356",
          "3376",
          "3380",
          "3406",
          "3413",
          "3416",
          "3419",
          "3432",
          "3437",
          "3443",
          "3447",
          "3450",
          "3454",
          "3481",
          "3494",
          "3501",
          "3504",
          "3515",
          "3518",
          "3528",
          "3530",
          "3532",
          "3533",
          "3535",
          "3543",
          "3545",
          "3550",
          "3557",
          "3563",
          "3576",
          "3583",
          "3588",
          "3591",
          "3592",
          "3593",
          "3596",
          "3605",
          "3607",
          "3617",
          "3622",
          "3645",
          "3652",
          "3653",
          "3661",
          "3665",
          "3669",
          "3673",
          "3679",
          "3686",
          "3694",
          "3701",
          "3702",
          "3703",
          "3704",
          "3705",
          "3706",
          "3708",
          "3711",
          "3712",
          "3714",
          "3715",
          "4104",
          "4106",
          "4108",
          "4119",
          "4133",
          "4137",
          "4142",
          "4148",
          "4155",
          "4164",
          "4190",
          "4306",
          "4414",
          "4426",
          "4438",
          "4439",
          "4440",
          "4526",
          "4532",
          "4536",
          "4540",
          "4545",
          "4551",
          "4552",
          "4555",
          "4557",
          "4560",
          "4562",
          "4564",
          "4566",
          "4569",
          "4571",
          "4572",
          "4576",
          "4581",
          "4583",
          "4588",
          "4720",
          "4722",
          "4736",
          "4737",
          "4739",
          "4746",
          "4755",
          "4763",
          "4764",
          "4766",
          "4770",
          "4771",
          "4807",
          "4904",
          "4906",
          "4912",
          "4915",
          "4916",
          "4919",
          "4927",
          "4930",
          "4934",
          "4935",
          "4938",
          "4942",
          "4943",
          "4949",
          "4952",
          "4956",
          "4958",
          "4960",
          "4961",
          "4967",
          "4968",
          "4976",
          "4977",
          "4989",
          "4994",
          "4999",
          "5007",
          "5203",
          "5215",
          "5222",
          "5225",
          "5234",
          "5243",
          "5244",
          "5258",
          "5269",
          "5283",
          "5284",
          "5285",
          "5288",
          "5292",
          "5306",
          "5388",
          "5434",
          "5469",
          "5471",
          "5484",
          "5515",
          "5519",
          "5521",
          "5522",
          "5525",
          "5531",
          "5533",
          "5534",
          "5538",
          "5546",
          "5607",
          "5608",
          "5706",
          "5871",
          "5906",
          "5907",
          "6108",
          "6112",
          "6115",
          "6116",
          "6117",
          "6120",
          "6128",
          "6133",
          "6136",
          "6139",
          "6141",
          "6142",
          "6152",
          "6153",
          "6155",
          "6164",
          "6165",
          "6166",
          "6168",
          "6176",
          "6177",
          "6183",
          "6184",
          "6189",
          "6191",
          "6192",
          "6196",
          "6197",
          "6201",
          "6202",
          "6205",
          "6206",
          "6209",
          "6213",
          "6214",
          "6215",
          "6216",
          "6224",
          "6225",
          "6226",
          "6230",
          "6235",
          "6239",
          "6243",
          "6257",
          "6269",
          "6271",
          "6277",
          "6278",
          "6281",
          "6282",
          "6283",
          "6285",
          "6288",
          "6405",
          "6409",
          "6412",
          "6414",
          "6415",
          "6416",
          "6423",
          "6426",
          "6431",
          "6438",
          "6442",
          "6443",
          "6446",
          "6449",
          "6451",
          "6456",
          "6464",
          "6472",
          "6477",
          "6491",
          "6504",
          "6505",
          "6515",
          "6525",
          "6526",
          "6531",
          "6533",
          "6534",
          "6541",
          "6550",
          "6552",
          "6558",
          "6573",
          "6579",
          "6581",
          "6582",
          "6585",
          "6591",
          "6592",
          "6598",
          "6605",
          "6606",
          "6625",
          "6641",
          "6645",
          "6655",
          "6657",
          "6658",
          "6666",
          "6668",
          "6669",
          "6670",
          "6671",
          "6672",
          "6674",
          "6689",
          "6691",
          "6695",
          "6698",
          "6706",
          "6715",
          "6719",
          "6742",
          "6743",
          "6753",
          "6754",
          "6756",
          "6757",
          "6768",
          "6770",
          "6771",
          "6776",
          "6781",
          "6782",
          "6789",
          "6790",
          "6792",
          "6794",
          "6796",
          "6799",
          "6805",
          "6806",
          "6807",
          "6830",
          "6834",
          "6835",
          "6854",
          "6861",
          "6863",
          "6869",
          "6873",
          "6901",
          "6902",
          "6906",
          "6914",
          "6916",
          "6928",
          "6933",
          "6937",
          "6949",
          "8011",
          "8016",
          "8021",
          "8028",
          "8033",
          "8039",
          "8046",
          "8070",
          "8072",
          "8081",
          "8101",
          "8103",
          "8104",
          "8105",
          "8110",
          "8112",
          "8114",
          "8131",
          "8150",
          "8162",
          "8163",
          "8201",
          "8210",
          "8213",
          "8215",
          "8222",
          "8249",
          "8261",
          "8271",
          "8341",
          "8367",
          "8374",
          "8404",
          "8411",
          "8422",
          "8429",
          "8438",
          "8442",
          "8443",
          "8454",
          "8462",
          "8463",
          "8464",
          "8466",
          "8467",
          "8473",
          "8476",
          "8478",
          "8481",
          "8482",
          "8487",
          "8488",
          "8499",
          "8926",
          "8940",
          "8996",
          "9802",
          "9902",
          "9904",
          "9905",
          "9906",
          "9907",
          "9908",
          "9910",
          "9911",
          "9912",
          "9914",
          "9917",
          "9918",
          "9919",
          "9921",
          "9924",
          "9925",
          "9926",
          "9927",
          "9928",
          "9929",
          "9930",
          "9931",
          "9933",
          "9934",
          "9935",
          "9937",
          "9938",
          "9939",
          "9940",
          "9941",
          "9942",
          "9943",
          "9944",
          "9945",
          "9946",
          "9955",
          "9958"
         ],
         "categoryorder": "array",
         "domain": [
          0,
          1
         ],
         "range": [
          -0.5,
          979.5
         ],
         "title": {
          "text": "公司代號"
         },
         "type": "category"
        },
        "yaxis": {
         "anchor": "x",
         "autorange": true,
         "domain": [
          0,
          1
         ],
         "range": [
          -74371.77499999998,
          1397589.7249999999
         ],
         "title": {
          "text": "營業收入(百萬元)"
         },
         "type": "linear"
        }
       }
      },
      "image/png": "[encoded data removed]"
     },
     "metadata": {},
     "output_type": "display_data"
    }
   ],
   "source": [
    "# 使用 Plotly 繪製條形圖\n",
    "fig = px.bar(df_fin[:10], x=\"公司代號\", y=\"營業收入(百萬元)\", color=\"公司代號\", barmode=\"group\")\n",
    "\n",
    "# 顯示圖表\n",
    "fig.show()"
   ]
  },
  {
   "cell_type": "code",
   "execution_count": null,
   "metadata": {},
   "outputs": [],
   "source": [
    "import pandas as pd\n",
    "import dash\n",
    "import dash_core_components as dcc\n",
    "import dash_html_components as html\n",
    "from dash.dependencies import Input, Output\n",
    "import plotly.express as px\n",
    "\n",
    "# 創建 Dash 應用\n",
    "app = dash.Dash(__name__)\n",
    "\n",
    "# 讀取數據\n",
    "df = pd.read_csv('taiwan_stock_index_10y.csv')\n",
    "\n",
    "# 確保日期列被識別為日期類型\n",
    "df['Date'] = pd.to_datetime(df['Date'])\n",
    "\n",
    "# 定義應用的佈局\n",
    "app.layout = html.Div([\n",
    "    html.H1(\"Taiwan Stock Index 10 Years\"),\n",
    "    dcc.Graph(id='line-chart'),\n",
    "    dcc.RangeSlider(\n",
    "        id='date-range-slider',\n",
    "        min=0,\n",
    "        max=len(df)-1,\n",
    "        value=[0, len(df)-1],\n",
    "        marks={i: date.strftime('%Y-%m-%d') for i, date in enumerate(df['Date'].iloc[::len(df)//10])},\n",
    "        step=1\n",
    "    )\n",
    "])\n",
    "\n",
    "# 定義回調函數\n",
    "@app.callback(\n",
    "    Output('line-chart', 'figure'),\n",
    "    [Input('date-range-slider', 'value')]\n",
    ")\n",
    "def update_line_chart(date_range):\n",
    "    filtered_df = df.iloc[date_range[0]:date_range[1]+1]\n",
    "    fig = px.line(filtered_df, x='Date', y='Close', title='Taiwan Stock Index Over Time')\n",
    "    return fig\n",
    "\n",
    "# 運行應用\n",
    "app.run_server(mode='inline', port=8051, dev_tools_ui=True, dev_tools_props_check=True)\n"
   ]
  },
  {
   "cell_type": "code",
   "execution_count": null,
   "metadata": {},
   "outputs": [],
   "source": []
  }
 ],
 "metadata": {
  "kernelspec": {
   "display_name": "Python 3 (ipykernel)",
   "language": "python",
   "name": "python3"
  },
  "language_info": {
   "codemirror_mode": {
    "name": "ipython",
    "version": 3
   },
   "file_extension": ".py",
   "mimetype": "text/x-python",
   "name": "python",
   "nbconvert_exporter": "python",
   "pygments_lexer": "ipython3",
   "version": "3.11.9"
  }
 },
 "nbformat": 4,
 "nbformat_minor": 4
}
