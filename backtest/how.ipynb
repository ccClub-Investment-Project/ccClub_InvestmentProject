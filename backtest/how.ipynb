{
 "cells": [
  {
   "cell_type": "markdown",
   "metadata": {},
   "source": [
    "### Step1. 選出市值前20名的ETF國內成分股"
   ]
  },
  {
   "cell_type": "code",
   "execution_count": 1,
   "metadata": {},
   "outputs": [
    {
     "name": "stdout",
     "output_type": "stream",
     "text": [
      "Log in successful\n",
      "Log in successful\n"
     ]
    },
    {
     "data": {
      "text/plain": [
       "<module 'strategy.dollar_cost_averaging' from '/opt/ccclub/backtest/strategy/dollar_cost_averaging.py'>"
      ]
     },
     "execution_count": 1,
     "metadata": {},
     "output_type": "execute_result"
    }
   ],
   "source": [
    "import importlib, data\n",
    "import backtest_manager\n",
    "import strategy.dollar_cost_averaging\n",
    "importlib.reload(data)\n",
    "importlib.reload(backtest_manager)\n",
    "importlib.reload(strategy.dollar_cost_averaging)"
   ]
  },
  {
   "cell_type": "code",
   "execution_count": 2,
   "metadata": {},
   "outputs": [],
   "source": [
    "from data import api_table_data\n",
    "# eg. etf_all_info, etf_domestic_nav, etf_domestic_list, etf_0050_constituents...\n",
    "table_name = \"etf_domestic_nav\"\n",
    "df_etf_domestic_nav = api_table_data(table_name)"
   ]
  },
  {
   "cell_type": "code",
   "execution_count": 3,
   "metadata": {},
   "outputs": [],
   "source": [
    "df_sorted = df_etf_domestic_nav.sort_values(by='Market Cap',ascending=False)\n",
    "all_code = df_sorted['code']"
   ]
  },
  {
   "cell_type": "markdown",
   "metadata": {},
   "source": [
    "### Step2. 進行回測"
   ]
  },
  {
   "cell_type": "code",
   "execution_count": 4,
   "metadata": {},
   "outputs": [
    {
     "name": "stdout",
     "output_type": "stream",
     "text": [
      "0050\n"
     ]
    },
    {
     "name": "stderr",
     "output_type": "stream",
     "text": [
      "[*********************100%%**********************]  1 of 1 completed\n"
     ]
    },
    {
     "name": "stdout",
     "output_type": "stream",
     "text": [
      "0056\n"
     ]
    },
    {
     "name": "stderr",
     "output_type": "stream",
     "text": [
      "[*********************100%%**********************]  1 of 1 completed\n",
      "[*********************100%%**********************]  1 of 1 completed"
     ]
    },
    {
     "name": "stdout",
     "output_type": "stream",
     "text": [
      "00878\n"
     ]
    },
    {
     "name": "stderr",
     "output_type": "stream",
     "text": [
      "\n",
      "[*********************100%%**********************]  1 of 1 completed"
     ]
    },
    {
     "name": "stdout",
     "output_type": "stream",
     "text": [
      "00929\n",
      "00919\n"
     ]
    },
    {
     "name": "stderr",
     "output_type": "stream",
     "text": [
      "\n",
      "[*********************100%%**********************]  1 of 1 completed\n",
      "[*********************100%%**********************]  1 of 1 completed\n"
     ]
    },
    {
     "name": "stdout",
     "output_type": "stream",
     "text": [
      "00940\n",
      "006208\n"
     ]
    },
    {
     "name": "stderr",
     "output_type": "stream",
     "text": [
      "[*********************100%%**********************]  1 of 1 completed\n"
     ]
    },
    {
     "name": "stdout",
     "output_type": "stream",
     "text": [
      "00713\n"
     ]
    },
    {
     "name": "stderr",
     "output_type": "stream",
     "text": [
      "[*********************100%%**********************]  1 of 1 completed\n",
      "[*********************100%%**********************]  1 of 1 completed"
     ]
    },
    {
     "name": "stdout",
     "output_type": "stream",
     "text": [
      "00939\n"
     ]
    },
    {
     "name": "stderr",
     "output_type": "stream",
     "text": [
      "\n",
      "[*********************100%%**********************]  1 of 1 completed\n"
     ]
    },
    {
     "name": "stdout",
     "output_type": "stream",
     "text": [
      "00881\n"
     ]
    },
    {
     "name": "stderr",
     "output_type": "stream",
     "text": [
      "[*********************100%%**********************]  1 of 1 completed"
     ]
    },
    {
     "name": "stdout",
     "output_type": "stream",
     "text": [
      "00900\n"
     ]
    },
    {
     "name": "stderr",
     "output_type": "stream",
     "text": [
      "\n",
      "[*********************100%%**********************]  1 of 1 completed"
     ]
    },
    {
     "name": "stdout",
     "output_type": "stream",
     "text": [
      "00918\n",
      "00692\n"
     ]
    },
    {
     "name": "stderr",
     "output_type": "stream",
     "text": [
      "\n",
      "[*********************100%%**********************]  1 of 1 completed\n"
     ]
    },
    {
     "name": "stdout",
     "output_type": "stream",
     "text": [
      "00891\n"
     ]
    },
    {
     "name": "stderr",
     "output_type": "stream",
     "text": [
      "[*********************100%%**********************]  1 of 1 completed\n",
      "[*********************100%%**********************]  1 of 1 completed"
     ]
    },
    {
     "name": "stdout",
     "output_type": "stream",
     "text": [
      "00850\n"
     ]
    },
    {
     "name": "stderr",
     "output_type": "stream",
     "text": [
      "\n",
      "[*********************100%%**********************]  1 of 1 completed"
     ]
    },
    {
     "name": "stdout",
     "output_type": "stream",
     "text": [
      "00915\n",
      "00923\n"
     ]
    },
    {
     "name": "stderr",
     "output_type": "stream",
     "text": [
      "\n",
      "[*********************100%%**********************]  1 of 1 completed\n",
      "[*********************100%%**********************]  1 of 1 completed\n"
     ]
    },
    {
     "name": "stdout",
     "output_type": "stream",
     "text": [
      "00922\n",
      "00934\n"
     ]
    },
    {
     "name": "stderr",
     "output_type": "stream",
     "text": [
      "[*********************100%%**********************]  1 of 1 completed\n",
      "[*********************100%%**********************]  1 of 1 completed\n"
     ]
    },
    {
     "name": "stdout",
     "output_type": "stream",
     "text": [
      "00927\n",
      "00733\n"
     ]
    },
    {
     "name": "stderr",
     "output_type": "stream",
     "text": [
      "[*********************100%%**********************]  1 of 1 completed\n",
      "[*********************100%%**********************]  1 of 1 completed"
     ]
    },
    {
     "name": "stdout",
     "output_type": "stream",
     "text": [
      "00936\n",
      "00892\n"
     ]
    },
    {
     "name": "stderr",
     "output_type": "stream",
     "text": [
      "\n",
      "[*********************100%%**********************]  1 of 1 completed\n",
      "[*********************100%%**********************]  1 of 1 completed"
     ]
    },
    {
     "name": "stdout",
     "output_type": "stream",
     "text": [
      "00946\n",
      "0052\n"
     ]
    },
    {
     "name": "stderr",
     "output_type": "stream",
     "text": [
      "\n",
      "[*********************100%%**********************]  1 of 1 completed\n",
      "[*********************100%%**********************]  1 of 1 completed"
     ]
    },
    {
     "name": "stdout",
     "output_type": "stream",
     "text": [
      "00935\n",
      "00701\n"
     ]
    },
    {
     "name": "stderr",
     "output_type": "stream",
     "text": [
      "\n",
      "[*********************100%%**********************]  1 of 1 completed\n",
      "[*********************100%%**********************]  1 of 1 completed"
     ]
    },
    {
     "name": "stdout",
     "output_type": "stream",
     "text": [
      "00896\n"
     ]
    },
    {
     "name": "stderr",
     "output_type": "stream",
     "text": [
      "\n",
      "[*********************100%%**********************]  1 of 1 completed"
     ]
    },
    {
     "name": "stdout",
     "output_type": "stream",
     "text": [
      "00932\n",
      "00930\n"
     ]
    },
    {
     "name": "stderr",
     "output_type": "stream",
     "text": [
      "\n",
      "[*********************100%%**********************]  1 of 1 completed\n",
      "[*********************100%%**********************]  1 of 1 completed\n"
     ]
    },
    {
     "name": "stdout",
     "output_type": "stream",
     "text": [
      "00907\n",
      "00944\n"
     ]
    },
    {
     "name": "stderr",
     "output_type": "stream",
     "text": [
      "[*********************100%%**********************]  1 of 1 completed\n",
      "[*********************100%%**********************]  1 of 1 completed\n"
     ]
    },
    {
     "name": "stdout",
     "output_type": "stream",
     "text": [
      "00905\n"
     ]
    },
    {
     "name": "stderr",
     "output_type": "stream",
     "text": [
      "[*********************100%%**********************]  1 of 1 completed"
     ]
    },
    {
     "name": "stdout",
     "output_type": "stream",
     "text": [
      "00731\n"
     ]
    },
    {
     "name": "stderr",
     "output_type": "stream",
     "text": [
      "\n",
      "[*********************100%%**********************]  1 of 1 completed"
     ]
    },
    {
     "name": "stdout",
     "output_type": "stream",
     "text": [
      "00921\n",
      "0055\n"
     ]
    },
    {
     "name": "stderr",
     "output_type": "stream",
     "text": [
      "\n",
      "[*********************100%%**********************]  1 of 1 completed\n",
      "[*********************100%%**********************]  1 of 1 completed"
     ]
    },
    {
     "name": "stdout",
     "output_type": "stream",
     "text": [
      "00690\n"
     ]
    },
    {
     "name": "stderr",
     "output_type": "stream",
     "text": [
      "\n",
      "[*********************100%%**********************]  1 of 1 completed"
     ]
    },
    {
     "name": "stdout",
     "output_type": "stream",
     "text": [
      "00901\n"
     ]
    },
    {
     "name": "stderr",
     "output_type": "stream",
     "text": [
      "\n"
     ]
    },
    {
     "name": "stdout",
     "output_type": "stream",
     "text": [
      "00730\n"
     ]
    },
    {
     "name": "stderr",
     "output_type": "stream",
     "text": [
      "[*********************100%%**********************]  1 of 1 completed\n",
      "[*********************100%%**********************]  1 of 1 completed"
     ]
    },
    {
     "name": "stdout",
     "output_type": "stream",
     "text": [
      "00728\n"
     ]
    },
    {
     "name": "stderr",
     "output_type": "stream",
     "text": [
      "\n",
      "[*********************100%%**********************]  1 of 1 completed"
     ]
    },
    {
     "name": "stdout",
     "output_type": "stream",
     "text": [
      "00894\n"
     ]
    },
    {
     "name": "stderr",
     "output_type": "stream",
     "text": [
      "\n"
     ]
    },
    {
     "name": "stdout",
     "output_type": "stream",
     "text": [
      "0051\n"
     ]
    },
    {
     "name": "stderr",
     "output_type": "stream",
     "text": [
      "[*********************100%%**********************]  1 of 1 completed\n",
      "[*********************100%%**********************]  1 of 1 completed"
     ]
    },
    {
     "name": "stdout",
     "output_type": "stream",
     "text": [
      "00943\n",
      "006203\n"
     ]
    },
    {
     "name": "stderr",
     "output_type": "stream",
     "text": [
      "\n",
      "[*********************100%%**********************]  1 of 1 completed\n",
      "[*********************100%%**********************]  1 of 1 completed"
     ]
    },
    {
     "name": "stdout",
     "output_type": "stream",
     "text": [
      "00912\n"
     ]
    },
    {
     "name": "stderr",
     "output_type": "stream",
     "text": [
      "\n"
     ]
    },
    {
     "name": "stdout",
     "output_type": "stream",
     "text": [
      "0053\n"
     ]
    },
    {
     "name": "stderr",
     "output_type": "stream",
     "text": [
      "[*********************100%%**********************]  1 of 1 completed\n",
      "[*********************100%%**********************]  1 of 1 completed"
     ]
    },
    {
     "name": "stdout",
     "output_type": "stream",
     "text": [
      "00913\n"
     ]
    },
    {
     "name": "stderr",
     "output_type": "stream",
     "text": [
      "\n"
     ]
    },
    {
     "name": "stdout",
     "output_type": "stream",
     "text": [
      "0057\n"
     ]
    },
    {
     "name": "stderr",
     "output_type": "stream",
     "text": [
      "[*********************100%%**********************]  1 of 1 completed\n"
     ]
    },
    {
     "name": "stdout",
     "output_type": "stream",
     "text": [
      "006204\n"
     ]
    },
    {
     "name": "stderr",
     "output_type": "stream",
     "text": [
      "[*********************100%%**********************]  1 of 1 completed\n",
      "[*********************100%%**********************]  1 of 1 completed"
     ]
    },
    {
     "name": "stdout",
     "output_type": "stream",
     "text": [
      "00947\n"
     ]
    },
    {
     "name": "stderr",
     "output_type": "stream",
     "text": [
      "\n"
     ]
    }
   ],
   "source": [
    "from backtest_manager import BacktestManager\n",
    "analysis_result = []\n",
    "info_result = []\n",
    "for code in all_code:\n",
    "    print(code)\n",
    "    backtest = BacktestManager()\n",
    "    stock_id = f\"{code}.TW\"\n",
    "    buy_amount = 6000\n",
    "    buy_date = 5\n",
    "    backtest.load_data_yahoo(stock_id=stock_id)\n",
    "    info = backtest.buy_period(buy_amount)\n",
    "    log = backtest.run()\n",
    "    analysis = backtest.analysis()\n",
    "    info_result.append(info)\n",
    "    analysis_result.append(analysis)"
   ]
  },
  {
   "cell_type": "code",
   "execution_count": 5,
   "metadata": {},
   "outputs": [],
   "source": [
    "# from backtest_manager import BacktestManager\n",
    "# backtest = BacktestManager()\n",
    "# stock_ids = \"0050.TW\"\n",
    "# buy_amount = 6000\n",
    "# backtest.load_data_yahoo(stock_id=stock_id)\n",
    "# info = backtest.buy_period(buy_amount)\n",
    "# log = backtest.run()\n",
    "# analysis = backtest.analysis()\n",
    "# %matplotlib inline\n",
    "# backtest.plot()"
   ]
  },
  {
   "cell_type": "code",
   "execution_count": 6,
   "metadata": {},
   "outputs": [
    {
     "data": {
      "text/html": [
       "<div>\n",
       "<style scoped>\n",
       "    .dataframe tbody tr th:only-of-type {\n",
       "        vertical-align: middle;\n",
       "    }\n",
       "\n",
       "    .dataframe tbody tr th {\n",
       "        vertical-align: top;\n",
       "    }\n",
       "\n",
       "    .dataframe thead th {\n",
       "        text-align: right;\n",
       "    }\n",
       "</style>\n",
       "<table border=\"1\" class=\"dataframe\">\n",
       "  <thead>\n",
       "    <tr style=\"text-align: right;\">\n",
       "      <th></th>\n",
       "      <th>夏普值</th>\n",
       "      <th>最大回撤(%)</th>\n",
       "      <th>年化報酬率(%)</th>\n",
       "      <th>每月投資金額(元)</th>\n",
       "      <th>累績投資金額(元)</th>\n",
       "      <th>回測範圍(年)</th>\n",
       "    </tr>\n",
       "    <tr>\n",
       "      <th>stock_id</th>\n",
       "      <th></th>\n",
       "      <th></th>\n",
       "      <th></th>\n",
       "      <th></th>\n",
       "      <th></th>\n",
       "      <th></th>\n",
       "    </tr>\n",
       "  </thead>\n",
       "  <tbody>\n",
       "    <tr>\n",
       "      <th>00935.TW</th>\n",
       "      <td>1.11</td>\n",
       "      <td>7.41</td>\n",
       "      <td>37.64</td>\n",
       "      <td>6000</td>\n",
       "      <td>60000</td>\n",
       "      <td>0.75</td>\n",
       "    </tr>\n",
       "    <tr>\n",
       "      <th>00923.TW</th>\n",
       "      <td>1.47</td>\n",
       "      <td>7.11</td>\n",
       "      <td>25.04</td>\n",
       "      <td>6000</td>\n",
       "      <td>108000</td>\n",
       "      <td>1.42</td>\n",
       "    </tr>\n",
       "    <tr>\n",
       "      <th>00934.TW</th>\n",
       "      <td>1.29</td>\n",
       "      <td>4.99</td>\n",
       "      <td>23.83</td>\n",
       "      <td>6000</td>\n",
       "      <td>60000</td>\n",
       "      <td>0.75</td>\n",
       "    </tr>\n",
       "    <tr>\n",
       "      <th>00927.TW</th>\n",
       "      <td>1.67</td>\n",
       "      <td>9.59</td>\n",
       "      <td>23.06</td>\n",
       "      <td>6000</td>\n",
       "      <td>84000</td>\n",
       "      <td>1.08</td>\n",
       "    </tr>\n",
       "    <tr>\n",
       "      <th>00922.TW</th>\n",
       "      <td>1.26</td>\n",
       "      <td>6.26</td>\n",
       "      <td>22.34</td>\n",
       "      <td>6000</td>\n",
       "      <td>102000</td>\n",
       "      <td>1.33</td>\n",
       "    </tr>\n",
       "    <tr>\n",
       "      <th>00915.TW</th>\n",
       "      <td>1.36</td>\n",
       "      <td>6.25</td>\n",
       "      <td>21.43</td>\n",
       "      <td>6000</td>\n",
       "      <td>144000</td>\n",
       "      <td>1.92</td>\n",
       "    </tr>\n",
       "    <tr>\n",
       "      <th>00946.TW</th>\n",
       "      <td>數據長度不足, 無法計算</td>\n",
       "      <td>1.68</td>\n",
       "      <td>20.70</td>\n",
       "      <td>6000</td>\n",
       "      <td>18000</td>\n",
       "      <td>0.17</td>\n",
       "    </tr>\n",
       "    <tr>\n",
       "      <th>00930.TW</th>\n",
       "      <td>2.7</td>\n",
       "      <td>7.53</td>\n",
       "      <td>19.19</td>\n",
       "      <td>6000</td>\n",
       "      <td>78000</td>\n",
       "      <td>1.00</td>\n",
       "    </tr>\n",
       "    <tr>\n",
       "      <th>00905.TW</th>\n",
       "      <td>0.95</td>\n",
       "      <td>8.86</td>\n",
       "      <td>18.52</td>\n",
       "      <td>6000</td>\n",
       "      <td>168000</td>\n",
       "      <td>2.25</td>\n",
       "    </tr>\n",
       "    <tr>\n",
       "      <th>00901.TW</th>\n",
       "      <td>0.68</td>\n",
       "      <td>8.50</td>\n",
       "      <td>17.86</td>\n",
       "      <td>6000</td>\n",
       "      <td>192000</td>\n",
       "      <td>2.58</td>\n",
       "    </tr>\n",
       "  </tbody>\n",
       "</table>\n",
       "</div>"
      ],
      "text/plain": [
       "                   夏普值  最大回撤(%)  年化報酬率(%)  每月投資金額(元)  累績投資金額(元)  回測範圍(年)\n",
       "stock_id                                                                \n",
       "00935.TW          1.11     7.41     37.64       6000      60000     0.75\n",
       "00923.TW          1.47     7.11     25.04       6000     108000     1.42\n",
       "00934.TW          1.29     4.99     23.83       6000      60000     0.75\n",
       "00927.TW          1.67     9.59     23.06       6000      84000     1.08\n",
       "00922.TW          1.26     6.26     22.34       6000     102000     1.33\n",
       "00915.TW          1.36     6.25     21.43       6000     144000     1.92\n",
       "00946.TW  數據長度不足, 無法計算     1.68     20.70       6000      18000     0.17\n",
       "00930.TW           2.7     7.53     19.19       6000      78000     1.00\n",
       "00905.TW          0.95     8.86     18.52       6000     168000     2.25\n",
       "00901.TW          0.68     8.50     17.86       6000     192000     2.58"
      ]
     },
     "execution_count": 6,
     "metadata": {},
     "output_type": "execute_result"
    }
   ],
   "source": [
    "import pandas as pd\n",
    "# 创建 info_result 的 DataFrame\n",
    "info_df = pd.DataFrame(info_result)\n",
    "info_df['stock_id'] = [f\"{code}.TW\" for code in all_code]\n",
    "info_df.set_index('stock_id', inplace=True)\n",
    "\n",
    "# 创建 analysis_result 的 DataFrame\n",
    "analysis_df = pd.DataFrame(analysis_result)\n",
    "analysis_df['stock_id'] = [f\"{code}.TW\" for code in all_code]\n",
    "analysis_df.set_index('stock_id', inplace=True)\n",
    "\n",
    "# 合并 info_df 和 analysis_df\n",
    "result_combined = analysis_df.join(info_df)\n",
    "\n",
    "# 排除回測範圍小於1的记录\n",
    "# result_filtered = result_combined[result_combined['回測範圍(年)'] >= 1]\n",
    "\n",
    "# 排序\n",
    "result_sorted = result_combined.sort_values(by=\"年化報酬率(%)\", ascending=False)\n",
    "# 显示最终的 DataFrame\n",
    "result_sorted.head(10)"
   ]
  },
  {
   "cell_type": "code",
   "execution_count": 7,
   "metadata": {},
   "outputs": [
    {
     "data": {
      "text/html": [
       "<div>\n",
       "<style scoped>\n",
       "    .dataframe tbody tr th:only-of-type {\n",
       "        vertical-align: middle;\n",
       "    }\n",
       "\n",
       "    .dataframe tbody tr th {\n",
       "        vertical-align: top;\n",
       "    }\n",
       "\n",
       "    .dataframe thead th {\n",
       "        text-align: right;\n",
       "    }\n",
       "</style>\n",
       "<table border=\"1\" class=\"dataframe\">\n",
       "  <thead>\n",
       "    <tr style=\"text-align: right;\">\n",
       "      <th></th>\n",
       "      <th>夏普值</th>\n",
       "      <th>最大回撤(%)</th>\n",
       "      <th>年化報酬率(%)</th>\n",
       "      <th>每月投資金額(元)</th>\n",
       "      <th>累績投資金額(元)</th>\n",
       "      <th>回測範圍(年)</th>\n",
       "    </tr>\n",
       "    <tr>\n",
       "      <th>stock_id</th>\n",
       "      <th></th>\n",
       "      <th></th>\n",
       "      <th></th>\n",
       "      <th></th>\n",
       "      <th></th>\n",
       "      <th></th>\n",
       "    </tr>\n",
       "  </thead>\n",
       "  <tbody>\n",
       "    <tr>\n",
       "      <th>00935.TW</th>\n",
       "      <td>1.11</td>\n",
       "      <td>7.41</td>\n",
       "      <td>37.64</td>\n",
       "      <td>6000</td>\n",
       "      <td>60000</td>\n",
       "      <td>0.75</td>\n",
       "    </tr>\n",
       "    <tr>\n",
       "      <th>00923.TW</th>\n",
       "      <td>1.47</td>\n",
       "      <td>7.11</td>\n",
       "      <td>25.04</td>\n",
       "      <td>6000</td>\n",
       "      <td>108000</td>\n",
       "      <td>1.42</td>\n",
       "    </tr>\n",
       "    <tr>\n",
       "      <th>00934.TW</th>\n",
       "      <td>1.29</td>\n",
       "      <td>4.99</td>\n",
       "      <td>23.83</td>\n",
       "      <td>6000</td>\n",
       "      <td>60000</td>\n",
       "      <td>0.75</td>\n",
       "    </tr>\n",
       "    <tr>\n",
       "      <th>00927.TW</th>\n",
       "      <td>1.67</td>\n",
       "      <td>9.59</td>\n",
       "      <td>23.06</td>\n",
       "      <td>6000</td>\n",
       "      <td>84000</td>\n",
       "      <td>1.08</td>\n",
       "    </tr>\n",
       "    <tr>\n",
       "      <th>00922.TW</th>\n",
       "      <td>1.26</td>\n",
       "      <td>6.26</td>\n",
       "      <td>22.34</td>\n",
       "      <td>6000</td>\n",
       "      <td>102000</td>\n",
       "      <td>1.33</td>\n",
       "    </tr>\n",
       "    <tr>\n",
       "      <th>00915.TW</th>\n",
       "      <td>1.36</td>\n",
       "      <td>6.25</td>\n",
       "      <td>21.43</td>\n",
       "      <td>6000</td>\n",
       "      <td>144000</td>\n",
       "      <td>1.92</td>\n",
       "    </tr>\n",
       "    <tr>\n",
       "      <th>00946.TW</th>\n",
       "      <td>數據長度不足, 無法計算</td>\n",
       "      <td>1.68</td>\n",
       "      <td>20.70</td>\n",
       "      <td>6000</td>\n",
       "      <td>18000</td>\n",
       "      <td>0.17</td>\n",
       "    </tr>\n",
       "    <tr>\n",
       "      <th>00930.TW</th>\n",
       "      <td>2.7</td>\n",
       "      <td>7.53</td>\n",
       "      <td>19.19</td>\n",
       "      <td>6000</td>\n",
       "      <td>78000</td>\n",
       "      <td>1.00</td>\n",
       "    </tr>\n",
       "    <tr>\n",
       "      <th>00905.TW</th>\n",
       "      <td>0.95</td>\n",
       "      <td>8.86</td>\n",
       "      <td>18.52</td>\n",
       "      <td>6000</td>\n",
       "      <td>168000</td>\n",
       "      <td>2.25</td>\n",
       "    </tr>\n",
       "    <tr>\n",
       "      <th>00901.TW</th>\n",
       "      <td>0.68</td>\n",
       "      <td>8.50</td>\n",
       "      <td>17.86</td>\n",
       "      <td>6000</td>\n",
       "      <td>192000</td>\n",
       "      <td>2.58</td>\n",
       "    </tr>\n",
       "    <tr>\n",
       "      <th>00913.TW</th>\n",
       "      <td>1.09</td>\n",
       "      <td>9.61</td>\n",
       "      <td>17.53</td>\n",
       "      <td>6000</td>\n",
       "      <td>144000</td>\n",
       "      <td>1.92</td>\n",
       "    </tr>\n",
       "    <tr>\n",
       "      <th>00918.TW</th>\n",
       "      <td>1.24</td>\n",
       "      <td>5.49</td>\n",
       "      <td>17.40</td>\n",
       "      <td>6000</td>\n",
       "      <td>126000</td>\n",
       "      <td>1.67</td>\n",
       "    </tr>\n",
       "    <tr>\n",
       "      <th>00944.TW</th>\n",
       "      <td>數據長度不足, 無法計算</td>\n",
       "      <td>0.88</td>\n",
       "      <td>16.30</td>\n",
       "      <td>6000</td>\n",
       "      <td>18000</td>\n",
       "      <td>0.17</td>\n",
       "    </tr>\n",
       "    <tr>\n",
       "      <th>00894.TW</th>\n",
       "      <td>0.69</td>\n",
       "      <td>13.31</td>\n",
       "      <td>16.16</td>\n",
       "      <td>6000</td>\n",
       "      <td>216000</td>\n",
       "      <td>2.92</td>\n",
       "    </tr>\n",
       "    <tr>\n",
       "      <th>00919.TW</th>\n",
       "      <td>1.29</td>\n",
       "      <td>10.53</td>\n",
       "      <td>16.07</td>\n",
       "      <td>6000</td>\n",
       "      <td>132000</td>\n",
       "      <td>1.75</td>\n",
       "    </tr>\n",
       "    <tr>\n",
       "      <th>00733.TW</th>\n",
       "      <td>0.58</td>\n",
       "      <td>36.23</td>\n",
       "      <td>13.98</td>\n",
       "      <td>6000</td>\n",
       "      <td>450000</td>\n",
       "      <td>6.17</td>\n",
       "    </tr>\n",
       "    <tr>\n",
       "      <th>00912.TW</th>\n",
       "      <td>0.86</td>\n",
       "      <td>7.38</td>\n",
       "      <td>13.98</td>\n",
       "      <td>6000</td>\n",
       "      <td>156000</td>\n",
       "      <td>2.08</td>\n",
       "    </tr>\n",
       "    <tr>\n",
       "      <th>00943.TW</th>\n",
       "      <td>數據長度不足, 無法計算</td>\n",
       "      <td>0.99</td>\n",
       "      <td>13.81</td>\n",
       "      <td>6000</td>\n",
       "      <td>18000</td>\n",
       "      <td>0.17</td>\n",
       "    </tr>\n",
       "    <tr>\n",
       "      <th>00936.TW</th>\n",
       "      <td>0.99</td>\n",
       "      <td>6.83</td>\n",
       "      <td>13.15</td>\n",
       "      <td>6000</td>\n",
       "      <td>60000</td>\n",
       "      <td>0.75</td>\n",
       "    </tr>\n",
       "    <tr>\n",
       "      <th>00881.TW</th>\n",
       "      <td>0.53</td>\n",
       "      <td>16.13</td>\n",
       "      <td>12.76</td>\n",
       "      <td>6000</td>\n",
       "      <td>264000</td>\n",
       "      <td>3.58</td>\n",
       "    </tr>\n",
       "    <tr>\n",
       "      <th>00932.TW</th>\n",
       "      <td>2.17</td>\n",
       "      <td>4.40</td>\n",
       "      <td>11.98</td>\n",
       "      <td>6000</td>\n",
       "      <td>72000</td>\n",
       "      <td>0.92</td>\n",
       "    </tr>\n",
       "    <tr>\n",
       "      <th>00900.TW</th>\n",
       "      <td>0.58</td>\n",
       "      <td>8.54</td>\n",
       "      <td>11.53</td>\n",
       "      <td>6000</td>\n",
       "      <td>192000</td>\n",
       "      <td>2.58</td>\n",
       "    </tr>\n",
       "    <tr>\n",
       "      <th>00891.TW</th>\n",
       "      <td>0.53</td>\n",
       "      <td>17.16</td>\n",
       "      <td>11.24</td>\n",
       "      <td>6000</td>\n",
       "      <td>234000</td>\n",
       "      <td>3.17</td>\n",
       "    </tr>\n",
       "    <tr>\n",
       "      <th>00929.TW</th>\n",
       "      <td>18.05</td>\n",
       "      <td>7.54</td>\n",
       "      <td>10.71</td>\n",
       "      <td>6000</td>\n",
       "      <td>84000</td>\n",
       "      <td>1.08</td>\n",
       "    </tr>\n",
       "    <tr>\n",
       "      <th>00892.TW</th>\n",
       "      <td>0.48</td>\n",
       "      <td>17.61</td>\n",
       "      <td>10.16</td>\n",
       "      <td>6000</td>\n",
       "      <td>228000</td>\n",
       "      <td>3.08</td>\n",
       "    </tr>\n",
       "    <tr>\n",
       "      <th>00940.TW</th>\n",
       "      <td>數據長度不足, 無法計算</td>\n",
       "      <td>1.98</td>\n",
       "      <td>9.77</td>\n",
       "      <td>6000</td>\n",
       "      <td>24000</td>\n",
       "      <td>0.25</td>\n",
       "    </tr>\n",
       "    <tr>\n",
       "      <th>00850.TW</th>\n",
       "      <td>0.54</td>\n",
       "      <td>18.39</td>\n",
       "      <td>9.74</td>\n",
       "      <td>6000</td>\n",
       "      <td>360000</td>\n",
       "      <td>4.92</td>\n",
       "    </tr>\n",
       "    <tr>\n",
       "      <th>0052.TW</th>\n",
       "      <td>0.49</td>\n",
       "      <td>40.36</td>\n",
       "      <td>9.29</td>\n",
       "      <td>6000</td>\n",
       "      <td>1194000</td>\n",
       "      <td>16.50</td>\n",
       "    </tr>\n",
       "    <tr>\n",
       "      <th>0057.TW</th>\n",
       "      <td>0.53</td>\n",
       "      <td>30.60</td>\n",
       "      <td>8.01</td>\n",
       "      <td>6000</td>\n",
       "      <td>1188000</td>\n",
       "      <td>16.42</td>\n",
       "    </tr>\n",
       "    <tr>\n",
       "      <th>00896.TW</th>\n",
       "      <td>0.6</td>\n",
       "      <td>11.66</td>\n",
       "      <td>8.00</td>\n",
       "      <td>6000</td>\n",
       "      <td>210000</td>\n",
       "      <td>2.83</td>\n",
       "    </tr>\n",
       "    <tr>\n",
       "      <th>00692.TW</th>\n",
       "      <td>0.46</td>\n",
       "      <td>27.20</td>\n",
       "      <td>7.87</td>\n",
       "      <td>6000</td>\n",
       "      <td>522000</td>\n",
       "      <td>7.17</td>\n",
       "    </tr>\n",
       "    <tr>\n",
       "      <th>0053.TW</th>\n",
       "      <td>0.44</td>\n",
       "      <td>32.44</td>\n",
       "      <td>7.75</td>\n",
       "      <td>6000</td>\n",
       "      <td>1194000</td>\n",
       "      <td>16.50</td>\n",
       "    </tr>\n",
       "    <tr>\n",
       "      <th>006208.TW</th>\n",
       "      <td>0.45</td>\n",
       "      <td>31.80</td>\n",
       "      <td>7.67</td>\n",
       "      <td>6000</td>\n",
       "      <td>876000</td>\n",
       "      <td>12.08</td>\n",
       "    </tr>\n",
       "    <tr>\n",
       "      <th>00713.TW</th>\n",
       "      <td>0.48</td>\n",
       "      <td>17.59</td>\n",
       "      <td>7.56</td>\n",
       "      <td>6000</td>\n",
       "      <td>498000</td>\n",
       "      <td>6.83</td>\n",
       "    </tr>\n",
       "    <tr>\n",
       "      <th>00878.TW</th>\n",
       "      <td>0.48</td>\n",
       "      <td>11.37</td>\n",
       "      <td>7.31</td>\n",
       "      <td>6000</td>\n",
       "      <td>294000</td>\n",
       "      <td>4.00</td>\n",
       "    </tr>\n",
       "    <tr>\n",
       "      <th>00921.TW</th>\n",
       "      <td>16.29</td>\n",
       "      <td>3.61</td>\n",
       "      <td>7.25</td>\n",
       "      <td>6000</td>\n",
       "      <td>114000</td>\n",
       "      <td>1.50</td>\n",
       "    </tr>\n",
       "    <tr>\n",
       "      <th>006203.TW</th>\n",
       "      <td>0.46</td>\n",
       "      <td>32.01</td>\n",
       "      <td>7.07</td>\n",
       "      <td>6000</td>\n",
       "      <td>960000</td>\n",
       "      <td>13.25</td>\n",
       "    </tr>\n",
       "    <tr>\n",
       "      <th>006204.TW</th>\n",
       "      <td>0.43</td>\n",
       "      <td>29.87</td>\n",
       "      <td>6.47</td>\n",
       "      <td>6000</td>\n",
       "      <td>930000</td>\n",
       "      <td>12.83</td>\n",
       "    </tr>\n",
       "    <tr>\n",
       "      <th>0050.TW</th>\n",
       "      <td>0.43</td>\n",
       "      <td>34.28</td>\n",
       "      <td>6.32</td>\n",
       "      <td>6000</td>\n",
       "      <td>1194000</td>\n",
       "      <td>16.50</td>\n",
       "    </tr>\n",
       "    <tr>\n",
       "      <th>0051.TW</th>\n",
       "      <td>0.4</td>\n",
       "      <td>24.54</td>\n",
       "      <td>6.28</td>\n",
       "      <td>6000</td>\n",
       "      <td>1194000</td>\n",
       "      <td>16.50</td>\n",
       "    </tr>\n",
       "    <tr>\n",
       "      <th>00728.TW</th>\n",
       "      <td>0.38</td>\n",
       "      <td>32.32</td>\n",
       "      <td>6.14</td>\n",
       "      <td>6000</td>\n",
       "      <td>456000</td>\n",
       "      <td>6.25</td>\n",
       "    </tr>\n",
       "    <tr>\n",
       "      <th>00731.TW</th>\n",
       "      <td>0.47</td>\n",
       "      <td>13.37</td>\n",
       "      <td>6.06</td>\n",
       "      <td>6000</td>\n",
       "      <td>456000</td>\n",
       "      <td>6.25</td>\n",
       "    </tr>\n",
       "    <tr>\n",
       "      <th>00907.TW</th>\n",
       "      <td>0.66</td>\n",
       "      <td>5.69</td>\n",
       "      <td>5.76</td>\n",
       "      <td>6000</td>\n",
       "      <td>162000</td>\n",
       "      <td>2.17</td>\n",
       "    </tr>\n",
       "    <tr>\n",
       "      <th>00690.TW</th>\n",
       "      <td>0.34</td>\n",
       "      <td>24.85</td>\n",
       "      <td>5.06</td>\n",
       "      <td>6000</td>\n",
       "      <td>534000</td>\n",
       "      <td>7.33</td>\n",
       "    </tr>\n",
       "    <tr>\n",
       "      <th>0055.TW</th>\n",
       "      <td>0.34</td>\n",
       "      <td>25.03</td>\n",
       "      <td>4.15</td>\n",
       "      <td>6000</td>\n",
       "      <td>1194000</td>\n",
       "      <td>16.50</td>\n",
       "    </tr>\n",
       "    <tr>\n",
       "      <th>00939.TW</th>\n",
       "      <td>數據長度不足, 無法計算</td>\n",
       "      <td>3.24</td>\n",
       "      <td>3.67</td>\n",
       "      <td>6000</td>\n",
       "      <td>30000</td>\n",
       "      <td>0.33</td>\n",
       "    </tr>\n",
       "    <tr>\n",
       "      <th>00730.TW</th>\n",
       "      <td>0.3</td>\n",
       "      <td>23.22</td>\n",
       "      <td>3.60</td>\n",
       "      <td>6000</td>\n",
       "      <td>474000</td>\n",
       "      <td>6.50</td>\n",
       "    </tr>\n",
       "    <tr>\n",
       "      <th>00701.TW</th>\n",
       "      <td>0.28</td>\n",
       "      <td>18.60</td>\n",
       "      <td>3.60</td>\n",
       "      <td>6000</td>\n",
       "      <td>504000</td>\n",
       "      <td>6.92</td>\n",
       "    </tr>\n",
       "    <tr>\n",
       "      <th>0056.TW</th>\n",
       "      <td>0.21</td>\n",
       "      <td>32.23</td>\n",
       "      <td>3.15</td>\n",
       "      <td>6000</td>\n",
       "      <td>1194000</td>\n",
       "      <td>16.50</td>\n",
       "    </tr>\n",
       "    <tr>\n",
       "      <th>00947.TW</th>\n",
       "      <td>數據長度不足, 無法計算</td>\n",
       "      <td>2.57</td>\n",
       "      <td>-13.26</td>\n",
       "      <td>6000</td>\n",
       "      <td>12000</td>\n",
       "      <td>0.08</td>\n",
       "    </tr>\n",
       "  </tbody>\n",
       "</table>\n",
       "</div>"
      ],
      "text/plain": [
       "                    夏普值  最大回撤(%)  年化報酬率(%)  每月投資金額(元)  累績投資金額(元)  回測範圍(年)\n",
       "stock_id                                                                 \n",
       "00935.TW           1.11     7.41     37.64       6000      60000     0.75\n",
       "00923.TW           1.47     7.11     25.04       6000     108000     1.42\n",
       "00934.TW           1.29     4.99     23.83       6000      60000     0.75\n",
       "00927.TW           1.67     9.59     23.06       6000      84000     1.08\n",
       "00922.TW           1.26     6.26     22.34       6000     102000     1.33\n",
       "00915.TW           1.36     6.25     21.43       6000     144000     1.92\n",
       "00946.TW   數據長度不足, 無法計算     1.68     20.70       6000      18000     0.17\n",
       "00930.TW            2.7     7.53     19.19       6000      78000     1.00\n",
       "00905.TW           0.95     8.86     18.52       6000     168000     2.25\n",
       "00901.TW           0.68     8.50     17.86       6000     192000     2.58\n",
       "00913.TW           1.09     9.61     17.53       6000     144000     1.92\n",
       "00918.TW           1.24     5.49     17.40       6000     126000     1.67\n",
       "00944.TW   數據長度不足, 無法計算     0.88     16.30       6000      18000     0.17\n",
       "00894.TW           0.69    13.31     16.16       6000     216000     2.92\n",
       "00919.TW           1.29    10.53     16.07       6000     132000     1.75\n",
       "00733.TW           0.58    36.23     13.98       6000     450000     6.17\n",
       "00912.TW           0.86     7.38     13.98       6000     156000     2.08\n",
       "00943.TW   數據長度不足, 無法計算     0.99     13.81       6000      18000     0.17\n",
       "00936.TW           0.99     6.83     13.15       6000      60000     0.75\n",
       "00881.TW           0.53    16.13     12.76       6000     264000     3.58\n",
       "00932.TW           2.17     4.40     11.98       6000      72000     0.92\n",
       "00900.TW           0.58     8.54     11.53       6000     192000     2.58\n",
       "00891.TW           0.53    17.16     11.24       6000     234000     3.17\n",
       "00929.TW          18.05     7.54     10.71       6000      84000     1.08\n",
       "00892.TW           0.48    17.61     10.16       6000     228000     3.08\n",
       "00940.TW   數據長度不足, 無法計算     1.98      9.77       6000      24000     0.25\n",
       "00850.TW           0.54    18.39      9.74       6000     360000     4.92\n",
       "0052.TW            0.49    40.36      9.29       6000    1194000    16.50\n",
       "0057.TW            0.53    30.60      8.01       6000    1188000    16.42\n",
       "00896.TW            0.6    11.66      8.00       6000     210000     2.83\n",
       "00692.TW           0.46    27.20      7.87       6000     522000     7.17\n",
       "0053.TW            0.44    32.44      7.75       6000    1194000    16.50\n",
       "006208.TW          0.45    31.80      7.67       6000     876000    12.08\n",
       "00713.TW           0.48    17.59      7.56       6000     498000     6.83\n",
       "00878.TW           0.48    11.37      7.31       6000     294000     4.00\n",
       "00921.TW          16.29     3.61      7.25       6000     114000     1.50\n",
       "006203.TW          0.46    32.01      7.07       6000     960000    13.25\n",
       "006204.TW          0.43    29.87      6.47       6000     930000    12.83\n",
       "0050.TW            0.43    34.28      6.32       6000    1194000    16.50\n",
       "0051.TW             0.4    24.54      6.28       6000    1194000    16.50\n",
       "00728.TW           0.38    32.32      6.14       6000     456000     6.25\n",
       "00731.TW           0.47    13.37      6.06       6000     456000     6.25\n",
       "00907.TW           0.66     5.69      5.76       6000     162000     2.17\n",
       "00690.TW           0.34    24.85      5.06       6000     534000     7.33\n",
       "0055.TW            0.34    25.03      4.15       6000    1194000    16.50\n",
       "00939.TW   數據長度不足, 無法計算     3.24      3.67       6000      30000     0.33\n",
       "00730.TW            0.3    23.22      3.60       6000     474000     6.50\n",
       "00701.TW           0.28    18.60      3.60       6000     504000     6.92\n",
       "0056.TW            0.21    32.23      3.15       6000    1194000    16.50\n",
       "00947.TW   數據長度不足, 無法計算     2.57    -13.26       6000      12000     0.08"
      ]
     },
     "execution_count": 7,
     "metadata": {},
     "output_type": "execute_result"
    }
   ],
   "source": [
    "result_sorted"
   ]
  },
  {
   "cell_type": "code",
   "execution_count": 1,
   "metadata": {},
   "outputs": [
    {
     "name": "stdout",
     "output_type": "stream",
     "text": [
      "Log in successful\n",
      "0050\n"
     ]
    },
    {
     "name": "stderr",
     "output_type": "stream",
     "text": [
      "[*********************100%%**********************]  1 of 1 completed\n"
     ]
    },
    {
     "name": "stdout",
     "output_type": "stream",
     "text": [
      "0056\n"
     ]
    },
    {
     "name": "stderr",
     "output_type": "stream",
     "text": [
      "[*********************100%%**********************]  1 of 1 completed\n",
      "[*********************100%%**********************]  1 of 1 completed"
     ]
    },
    {
     "name": "stdout",
     "output_type": "stream",
     "text": [
      "00878\n"
     ]
    },
    {
     "name": "stderr",
     "output_type": "stream",
     "text": [
      "\n",
      "[*********************100%%**********************]  1 of 1 completed"
     ]
    },
    {
     "name": "stdout",
     "output_type": "stream",
     "text": [
      "00929\n",
      "00919\n"
     ]
    },
    {
     "name": "stderr",
     "output_type": "stream",
     "text": [
      "\n",
      "[*********************100%%**********************]  1 of 1 completed\n",
      "[*********************100%%**********************]  1 of 1 completed\n"
     ]
    },
    {
     "name": "stdout",
     "output_type": "stream",
     "text": [
      "00940\n",
      "006208\n"
     ]
    },
    {
     "name": "stderr",
     "output_type": "stream",
     "text": [
      "[*********************100%%**********************]  1 of 1 completed\n",
      "[*********************100%%**********************]  1 of 1 completed"
     ]
    },
    {
     "name": "stdout",
     "output_type": "stream",
     "text": [
      "00713\n"
     ]
    },
    {
     "name": "stderr",
     "output_type": "stream",
     "text": [
      "\n",
      "[*********************100%%**********************]  1 of 1 completed"
     ]
    },
    {
     "name": "stdout",
     "output_type": "stream",
     "text": [
      "00939\n",
      "00881\n"
     ]
    },
    {
     "name": "stderr",
     "output_type": "stream",
     "text": [
      "\n",
      "[*********************100%%**********************]  1 of 1 completed\n",
      "[*********************100%%**********************]  1 of 1 completed"
     ]
    },
    {
     "name": "stdout",
     "output_type": "stream",
     "text": [
      "00900\n"
     ]
    },
    {
     "name": "stderr",
     "output_type": "stream",
     "text": [
      "\n",
      "[*********************100%%**********************]  1 of 1 completed"
     ]
    },
    {
     "name": "stdout",
     "output_type": "stream",
     "text": [
      "00918\n",
      "00692\n"
     ]
    },
    {
     "name": "stderr",
     "output_type": "stream",
     "text": [
      "\n",
      "[*********************100%%**********************]  1 of 1 completed\n",
      "[*********************100%%**********************]  1 of 1 completed"
     ]
    },
    {
     "name": "stdout",
     "output_type": "stream",
     "text": [
      "00891\n"
     ]
    },
    {
     "name": "stderr",
     "output_type": "stream",
     "text": [
      "\n",
      "[*********************100%%**********************]  1 of 1 completed"
     ]
    },
    {
     "name": "stdout",
     "output_type": "stream",
     "text": [
      "00850\n"
     ]
    },
    {
     "name": "stderr",
     "output_type": "stream",
     "text": [
      "\n",
      "[*********************100%%**********************]  1 of 1 completed"
     ]
    },
    {
     "name": "stdout",
     "output_type": "stream",
     "text": [
      "00915\n",
      "00923\n"
     ]
    },
    {
     "name": "stderr",
     "output_type": "stream",
     "text": [
      "\n",
      "[*********************100%%**********************]  1 of 1 completed\n",
      "[*********************100%%**********************]  1 of 1 completed\n"
     ]
    },
    {
     "name": "stdout",
     "output_type": "stream",
     "text": [
      "00922\n",
      "00934\n"
     ]
    },
    {
     "name": "stderr",
     "output_type": "stream",
     "text": [
      "[*********************100%%**********************]  1 of 1 completed\n",
      "[*********************100%%**********************]  1 of 1 completed\n"
     ]
    },
    {
     "name": "stdout",
     "output_type": "stream",
     "text": [
      "00927\n",
      "00733\n"
     ]
    },
    {
     "name": "stderr",
     "output_type": "stream",
     "text": [
      "[*********************100%%**********************]  1 of 1 completed\n",
      "[*********************100%%**********************]  1 of 1 completed"
     ]
    },
    {
     "name": "stdout",
     "output_type": "stream",
     "text": [
      "00936\n",
      "00892\n"
     ]
    },
    {
     "name": "stderr",
     "output_type": "stream",
     "text": [
      "\n",
      "[*********************100%%**********************]  1 of 1 completed\n",
      "[*********************100%%**********************]  1 of 1 completed"
     ]
    },
    {
     "name": "stdout",
     "output_type": "stream",
     "text": [
      "00946\n",
      "0052\n"
     ]
    },
    {
     "name": "stderr",
     "output_type": "stream",
     "text": [
      "\n",
      "[*********************100%%**********************]  1 of 1 completed\n",
      "[*********************100%%**********************]  1 of 1 completed"
     ]
    },
    {
     "name": "stdout",
     "output_type": "stream",
     "text": [
      "00935\n",
      "00701\n"
     ]
    },
    {
     "name": "stderr",
     "output_type": "stream",
     "text": [
      "\n",
      "[*********************100%%**********************]  1 of 1 completed\n",
      "[*********************100%%**********************]  1 of 1 completed"
     ]
    },
    {
     "name": "stdout",
     "output_type": "stream",
     "text": [
      "00896\n"
     ]
    },
    {
     "name": "stderr",
     "output_type": "stream",
     "text": [
      "\n",
      "[*********************100%%**********************]  1 of 1 completed"
     ]
    },
    {
     "name": "stdout",
     "output_type": "stream",
     "text": [
      "00932\n",
      "00930\n"
     ]
    },
    {
     "name": "stderr",
     "output_type": "stream",
     "text": [
      "\n",
      "[*********************100%%**********************]  1 of 1 completed\n",
      "[*********************100%%**********************]  1 of 1 completed\n"
     ]
    },
    {
     "name": "stdout",
     "output_type": "stream",
     "text": [
      "00907\n",
      "00944\n"
     ]
    },
    {
     "name": "stderr",
     "output_type": "stream",
     "text": [
      "[*********************100%%**********************]  1 of 1 completed\n",
      "[*********************100%%**********************]  1 of 1 completed\n"
     ]
    },
    {
     "name": "stdout",
     "output_type": "stream",
     "text": [
      "00905\n"
     ]
    },
    {
     "name": "stderr",
     "output_type": "stream",
     "text": [
      "[*********************100%%**********************]  1 of 1 completed"
     ]
    },
    {
     "name": "stdout",
     "output_type": "stream",
     "text": [
      "00731\n"
     ]
    },
    {
     "name": "stderr",
     "output_type": "stream",
     "text": [
      "\n",
      "[*********************100%%**********************]  1 of 1 completed"
     ]
    },
    {
     "name": "stdout",
     "output_type": "stream",
     "text": [
      "00921\n"
     ]
    },
    {
     "name": "stderr",
     "output_type": "stream",
     "text": [
      "\n"
     ]
    },
    {
     "name": "stdout",
     "output_type": "stream",
     "text": [
      "0055\n"
     ]
    },
    {
     "name": "stderr",
     "output_type": "stream",
     "text": [
      "[*********************100%%**********************]  1 of 1 completed\n",
      "[*********************100%%**********************]  1 of 1 completed"
     ]
    },
    {
     "name": "stdout",
     "output_type": "stream",
     "text": [
      "00690\n"
     ]
    },
    {
     "name": "stderr",
     "output_type": "stream",
     "text": [
      "\n",
      "[*********************100%%**********************]  1 of 1 completed"
     ]
    },
    {
     "name": "stdout",
     "output_type": "stream",
     "text": [
      "00901\n"
     ]
    },
    {
     "name": "stderr",
     "output_type": "stream",
     "text": [
      "\n",
      "[*********************100%%**********************]  1 of 1 completed"
     ]
    },
    {
     "name": "stdout",
     "output_type": "stream",
     "text": [
      "00730\n"
     ]
    },
    {
     "name": "stderr",
     "output_type": "stream",
     "text": [
      "\n"
     ]
    },
    {
     "name": "stdout",
     "output_type": "stream",
     "text": [
      "00728\n"
     ]
    },
    {
     "name": "stderr",
     "output_type": "stream",
     "text": [
      "[*********************100%%**********************]  1 of 1 completed\n",
      "[*********************100%%**********************]  1 of 1 completed"
     ]
    },
    {
     "name": "stdout",
     "output_type": "stream",
     "text": [
      "00894\n"
     ]
    },
    {
     "name": "stderr",
     "output_type": "stream",
     "text": [
      "\n"
     ]
    },
    {
     "name": "stdout",
     "output_type": "stream",
     "text": [
      "0051\n"
     ]
    },
    {
     "name": "stderr",
     "output_type": "stream",
     "text": [
      "[*********************100%%**********************]  1 of 1 completed\n",
      "[*********************100%%**********************]  1 of 1 completed"
     ]
    },
    {
     "name": "stdout",
     "output_type": "stream",
     "text": [
      "00943\n",
      "006203\n"
     ]
    },
    {
     "name": "stderr",
     "output_type": "stream",
     "text": [
      "\n",
      "[*********************100%%**********************]  1 of 1 completed\n",
      "[*********************100%%**********************]  1 of 1 completed"
     ]
    },
    {
     "name": "stdout",
     "output_type": "stream",
     "text": [
      "00912\n"
     ]
    },
    {
     "name": "stderr",
     "output_type": "stream",
     "text": [
      "\n"
     ]
    },
    {
     "name": "stdout",
     "output_type": "stream",
     "text": [
      "0053\n"
     ]
    },
    {
     "name": "stderr",
     "output_type": "stream",
     "text": [
      "[*********************100%%**********************]  1 of 1 completed\n",
      "[*********************100%%**********************]  1 of 1 completed"
     ]
    },
    {
     "name": "stdout",
     "output_type": "stream",
     "text": [
      "00913\n"
     ]
    },
    {
     "name": "stderr",
     "output_type": "stream",
     "text": [
      "\n"
     ]
    },
    {
     "name": "stdout",
     "output_type": "stream",
     "text": [
      "0057\n"
     ]
    },
    {
     "name": "stderr",
     "output_type": "stream",
     "text": [
      "[*********************100%%**********************]  1 of 1 completed\n"
     ]
    },
    {
     "name": "stdout",
     "output_type": "stream",
     "text": [
      "006204\n"
     ]
    },
    {
     "name": "stderr",
     "output_type": "stream",
     "text": [
      "[*********************100%%**********************]  1 of 1 completed\n",
      "[*********************100%%**********************]  1 of 1 completed"
     ]
    },
    {
     "name": "stdout",
     "output_type": "stream",
     "text": [
      "00947\n"
     ]
    },
    {
     "name": "stderr",
     "output_type": "stream",
     "text": [
      "\n"
     ]
    }
   ],
   "source": [
    "from all_etf_performance import eft_performance\n",
    "\n",
    "df = eft_performance()\n"
   ]
  },
  {
   "cell_type": "code",
   "execution_count": 3,
   "metadata": {},
   "outputs": [],
   "source": [
    "\n",
    "# 連結到SQL\n",
    "import os\n",
    "from dotenv import load_dotenv\n",
    "from sqlalchemy import create_engine\n",
    "\n",
    "load_dotenv()\n",
    "dbname = os.getenv(\"dbname\")\n",
    "user = os.getenv(\"user\")\n",
    "password = os.getenv(\"password\")\n",
    "host = os.getenv(\"host\")\n",
    "port = os.getenv(\"port\")\n",
    "\n",
    "import psycopg2\n",
    "import matplotlib.pyplot as plt\n",
    "\n",
    "# conn = psycopg2.connect(\n",
    "#         dbname=dbname,\n",
    "#         user=user,\n",
    "#         password=password,\n",
    "#         host=host,\n",
    "#         port=port,\n",
    "#         client_encoding='utf-8'  # Set client encoding to utf-8\n",
    "#     )\n",
    "\n",
    "connection_string = f'postgresql+psycopg2://{user}:{password}@{host}:{port}/{dbname}'\n",
    "engine = create_engine(connection_string)"
   ]
  },
  {
   "cell_type": "code",
   "execution_count": 8,
   "metadata": {},
   "outputs": [
    {
     "data": {
      "text/html": [
       "<div>\n",
       "<style scoped>\n",
       "    .dataframe tbody tr th:only-of-type {\n",
       "        vertical-align: middle;\n",
       "    }\n",
       "\n",
       "    .dataframe tbody tr th {\n",
       "        vertical-align: top;\n",
       "    }\n",
       "\n",
       "    .dataframe thead th {\n",
       "        text-align: right;\n",
       "    }\n",
       "</style>\n",
       "<table border=\"1\" class=\"dataframe\">\n",
       "  <thead>\n",
       "    <tr style=\"text-align: right;\">\n",
       "      <th></th>\n",
       "      <th>index</th>\n",
       "      <th>stock_id</th>\n",
       "      <th>夏普值</th>\n",
       "      <th>最大回撤(%)</th>\n",
       "      <th>年化報酬率(%)</th>\n",
       "      <th>每月投資金額(元)</th>\n",
       "      <th>累績投資金額(元)</th>\n",
       "      <th>回測範圍(年)</th>\n",
       "    </tr>\n",
       "  </thead>\n",
       "  <tbody>\n",
       "    <tr>\n",
       "      <th>0</th>\n",
       "      <td>0</td>\n",
       "      <td>00935.TW</td>\n",
       "      <td>1.11</td>\n",
       "      <td>7.41</td>\n",
       "      <td>37.64</td>\n",
       "      <td>6000</td>\n",
       "      <td>60000</td>\n",
       "      <td>0.75</td>\n",
       "    </tr>\n",
       "    <tr>\n",
       "      <th>1</th>\n",
       "      <td>1</td>\n",
       "      <td>00923.TW</td>\n",
       "      <td>1.47</td>\n",
       "      <td>7.11</td>\n",
       "      <td>25.04</td>\n",
       "      <td>6000</td>\n",
       "      <td>108000</td>\n",
       "      <td>1.42</td>\n",
       "    </tr>\n",
       "    <tr>\n",
       "      <th>2</th>\n",
       "      <td>2</td>\n",
       "      <td>00934.TW</td>\n",
       "      <td>1.29</td>\n",
       "      <td>4.99</td>\n",
       "      <td>23.83</td>\n",
       "      <td>6000</td>\n",
       "      <td>60000</td>\n",
       "      <td>0.75</td>\n",
       "    </tr>\n",
       "    <tr>\n",
       "      <th>3</th>\n",
       "      <td>3</td>\n",
       "      <td>00927.TW</td>\n",
       "      <td>1.67</td>\n",
       "      <td>9.59</td>\n",
       "      <td>23.06</td>\n",
       "      <td>6000</td>\n",
       "      <td>84000</td>\n",
       "      <td>1.08</td>\n",
       "    </tr>\n",
       "    <tr>\n",
       "      <th>4</th>\n",
       "      <td>4</td>\n",
       "      <td>00922.TW</td>\n",
       "      <td>1.26</td>\n",
       "      <td>6.26</td>\n",
       "      <td>22.34</td>\n",
       "      <td>6000</td>\n",
       "      <td>102000</td>\n",
       "      <td>1.33</td>\n",
       "    </tr>\n",
       "    <tr>\n",
       "      <th>5</th>\n",
       "      <td>5</td>\n",
       "      <td>00915.TW</td>\n",
       "      <td>1.36</td>\n",
       "      <td>6.25</td>\n",
       "      <td>21.43</td>\n",
       "      <td>6000</td>\n",
       "      <td>144000</td>\n",
       "      <td>1.92</td>\n",
       "    </tr>\n",
       "    <tr>\n",
       "      <th>6</th>\n",
       "      <td>6</td>\n",
       "      <td>00946.TW</td>\n",
       "      <td>數據長度不足, 無法計算</td>\n",
       "      <td>1.68</td>\n",
       "      <td>20.70</td>\n",
       "      <td>6000</td>\n",
       "      <td>18000</td>\n",
       "      <td>0.17</td>\n",
       "    </tr>\n",
       "    <tr>\n",
       "      <th>7</th>\n",
       "      <td>7</td>\n",
       "      <td>00930.TW</td>\n",
       "      <td>2.7</td>\n",
       "      <td>7.53</td>\n",
       "      <td>19.19</td>\n",
       "      <td>6000</td>\n",
       "      <td>78000</td>\n",
       "      <td>1.00</td>\n",
       "    </tr>\n",
       "    <tr>\n",
       "      <th>8</th>\n",
       "      <td>8</td>\n",
       "      <td>00905.TW</td>\n",
       "      <td>0.95</td>\n",
       "      <td>8.86</td>\n",
       "      <td>18.52</td>\n",
       "      <td>6000</td>\n",
       "      <td>168000</td>\n",
       "      <td>2.25</td>\n",
       "    </tr>\n",
       "    <tr>\n",
       "      <th>9</th>\n",
       "      <td>9</td>\n",
       "      <td>00901.TW</td>\n",
       "      <td>0.68</td>\n",
       "      <td>8.50</td>\n",
       "      <td>17.86</td>\n",
       "      <td>6000</td>\n",
       "      <td>192000</td>\n",
       "      <td>2.58</td>\n",
       "    </tr>\n",
       "    <tr>\n",
       "      <th>10</th>\n",
       "      <td>10</td>\n",
       "      <td>00913.TW</td>\n",
       "      <td>1.09</td>\n",
       "      <td>9.61</td>\n",
       "      <td>17.53</td>\n",
       "      <td>6000</td>\n",
       "      <td>144000</td>\n",
       "      <td>1.92</td>\n",
       "    </tr>\n",
       "    <tr>\n",
       "      <th>11</th>\n",
       "      <td>11</td>\n",
       "      <td>00918.TW</td>\n",
       "      <td>1.24</td>\n",
       "      <td>5.49</td>\n",
       "      <td>17.40</td>\n",
       "      <td>6000</td>\n",
       "      <td>126000</td>\n",
       "      <td>1.67</td>\n",
       "    </tr>\n",
       "    <tr>\n",
       "      <th>12</th>\n",
       "      <td>12</td>\n",
       "      <td>00944.TW</td>\n",
       "      <td>數據長度不足, 無法計算</td>\n",
       "      <td>0.88</td>\n",
       "      <td>16.30</td>\n",
       "      <td>6000</td>\n",
       "      <td>18000</td>\n",
       "      <td>0.17</td>\n",
       "    </tr>\n",
       "    <tr>\n",
       "      <th>13</th>\n",
       "      <td>13</td>\n",
       "      <td>00894.TW</td>\n",
       "      <td>0.69</td>\n",
       "      <td>13.31</td>\n",
       "      <td>16.16</td>\n",
       "      <td>6000</td>\n",
       "      <td>216000</td>\n",
       "      <td>2.92</td>\n",
       "    </tr>\n",
       "    <tr>\n",
       "      <th>14</th>\n",
       "      <td>14</td>\n",
       "      <td>00919.TW</td>\n",
       "      <td>1.29</td>\n",
       "      <td>10.53</td>\n",
       "      <td>16.07</td>\n",
       "      <td>6000</td>\n",
       "      <td>132000</td>\n",
       "      <td>1.75</td>\n",
       "    </tr>\n",
       "    <tr>\n",
       "      <th>15</th>\n",
       "      <td>15</td>\n",
       "      <td>00733.TW</td>\n",
       "      <td>0.58</td>\n",
       "      <td>36.23</td>\n",
       "      <td>13.98</td>\n",
       "      <td>6000</td>\n",
       "      <td>450000</td>\n",
       "      <td>6.17</td>\n",
       "    </tr>\n",
       "    <tr>\n",
       "      <th>16</th>\n",
       "      <td>16</td>\n",
       "      <td>00912.TW</td>\n",
       "      <td>0.86</td>\n",
       "      <td>7.38</td>\n",
       "      <td>13.98</td>\n",
       "      <td>6000</td>\n",
       "      <td>156000</td>\n",
       "      <td>2.08</td>\n",
       "    </tr>\n",
       "    <tr>\n",
       "      <th>17</th>\n",
       "      <td>17</td>\n",
       "      <td>00943.TW</td>\n",
       "      <td>數據長度不足, 無法計算</td>\n",
       "      <td>0.99</td>\n",
       "      <td>13.81</td>\n",
       "      <td>6000</td>\n",
       "      <td>18000</td>\n",
       "      <td>0.17</td>\n",
       "    </tr>\n",
       "    <tr>\n",
       "      <th>18</th>\n",
       "      <td>18</td>\n",
       "      <td>00936.TW</td>\n",
       "      <td>0.99</td>\n",
       "      <td>6.83</td>\n",
       "      <td>13.15</td>\n",
       "      <td>6000</td>\n",
       "      <td>60000</td>\n",
       "      <td>0.75</td>\n",
       "    </tr>\n",
       "    <tr>\n",
       "      <th>19</th>\n",
       "      <td>19</td>\n",
       "      <td>00881.TW</td>\n",
       "      <td>0.53</td>\n",
       "      <td>16.13</td>\n",
       "      <td>12.76</td>\n",
       "      <td>6000</td>\n",
       "      <td>264000</td>\n",
       "      <td>3.58</td>\n",
       "    </tr>\n",
       "    <tr>\n",
       "      <th>20</th>\n",
       "      <td>20</td>\n",
       "      <td>00932.TW</td>\n",
       "      <td>2.17</td>\n",
       "      <td>4.40</td>\n",
       "      <td>11.98</td>\n",
       "      <td>6000</td>\n",
       "      <td>72000</td>\n",
       "      <td>0.92</td>\n",
       "    </tr>\n",
       "    <tr>\n",
       "      <th>21</th>\n",
       "      <td>21</td>\n",
       "      <td>00900.TW</td>\n",
       "      <td>0.58</td>\n",
       "      <td>8.54</td>\n",
       "      <td>11.53</td>\n",
       "      <td>6000</td>\n",
       "      <td>192000</td>\n",
       "      <td>2.58</td>\n",
       "    </tr>\n",
       "    <tr>\n",
       "      <th>22</th>\n",
       "      <td>22</td>\n",
       "      <td>00891.TW</td>\n",
       "      <td>0.53</td>\n",
       "      <td>17.16</td>\n",
       "      <td>11.24</td>\n",
       "      <td>6000</td>\n",
       "      <td>234000</td>\n",
       "      <td>3.17</td>\n",
       "    </tr>\n",
       "    <tr>\n",
       "      <th>23</th>\n",
       "      <td>23</td>\n",
       "      <td>00929.TW</td>\n",
       "      <td>18.05</td>\n",
       "      <td>7.54</td>\n",
       "      <td>10.71</td>\n",
       "      <td>6000</td>\n",
       "      <td>84000</td>\n",
       "      <td>1.08</td>\n",
       "    </tr>\n",
       "    <tr>\n",
       "      <th>24</th>\n",
       "      <td>24</td>\n",
       "      <td>00892.TW</td>\n",
       "      <td>0.48</td>\n",
       "      <td>17.61</td>\n",
       "      <td>10.16</td>\n",
       "      <td>6000</td>\n",
       "      <td>228000</td>\n",
       "      <td>3.08</td>\n",
       "    </tr>\n",
       "    <tr>\n",
       "      <th>25</th>\n",
       "      <td>25</td>\n",
       "      <td>00940.TW</td>\n",
       "      <td>數據長度不足, 無法計算</td>\n",
       "      <td>1.98</td>\n",
       "      <td>9.77</td>\n",
       "      <td>6000</td>\n",
       "      <td>24000</td>\n",
       "      <td>0.25</td>\n",
       "    </tr>\n",
       "    <tr>\n",
       "      <th>26</th>\n",
       "      <td>26</td>\n",
       "      <td>00850.TW</td>\n",
       "      <td>0.54</td>\n",
       "      <td>18.39</td>\n",
       "      <td>9.74</td>\n",
       "      <td>6000</td>\n",
       "      <td>360000</td>\n",
       "      <td>4.92</td>\n",
       "    </tr>\n",
       "    <tr>\n",
       "      <th>27</th>\n",
       "      <td>27</td>\n",
       "      <td>0052.TW</td>\n",
       "      <td>0.49</td>\n",
       "      <td>40.36</td>\n",
       "      <td>9.29</td>\n",
       "      <td>6000</td>\n",
       "      <td>1194000</td>\n",
       "      <td>16.50</td>\n",
       "    </tr>\n",
       "    <tr>\n",
       "      <th>28</th>\n",
       "      <td>28</td>\n",
       "      <td>0057.TW</td>\n",
       "      <td>0.53</td>\n",
       "      <td>30.60</td>\n",
       "      <td>8.01</td>\n",
       "      <td>6000</td>\n",
       "      <td>1188000</td>\n",
       "      <td>16.42</td>\n",
       "    </tr>\n",
       "    <tr>\n",
       "      <th>29</th>\n",
       "      <td>29</td>\n",
       "      <td>00896.TW</td>\n",
       "      <td>0.6</td>\n",
       "      <td>11.66</td>\n",
       "      <td>8.00</td>\n",
       "      <td>6000</td>\n",
       "      <td>210000</td>\n",
       "      <td>2.83</td>\n",
       "    </tr>\n",
       "    <tr>\n",
       "      <th>30</th>\n",
       "      <td>30</td>\n",
       "      <td>00692.TW</td>\n",
       "      <td>0.46</td>\n",
       "      <td>27.20</td>\n",
       "      <td>7.87</td>\n",
       "      <td>6000</td>\n",
       "      <td>522000</td>\n",
       "      <td>7.17</td>\n",
       "    </tr>\n",
       "    <tr>\n",
       "      <th>31</th>\n",
       "      <td>31</td>\n",
       "      <td>0053.TW</td>\n",
       "      <td>0.44</td>\n",
       "      <td>32.44</td>\n",
       "      <td>7.75</td>\n",
       "      <td>6000</td>\n",
       "      <td>1194000</td>\n",
       "      <td>16.50</td>\n",
       "    </tr>\n",
       "    <tr>\n",
       "      <th>32</th>\n",
       "      <td>32</td>\n",
       "      <td>006208.TW</td>\n",
       "      <td>0.45</td>\n",
       "      <td>31.80</td>\n",
       "      <td>7.67</td>\n",
       "      <td>6000</td>\n",
       "      <td>876000</td>\n",
       "      <td>12.08</td>\n",
       "    </tr>\n",
       "    <tr>\n",
       "      <th>33</th>\n",
       "      <td>33</td>\n",
       "      <td>00713.TW</td>\n",
       "      <td>0.48</td>\n",
       "      <td>17.59</td>\n",
       "      <td>7.56</td>\n",
       "      <td>6000</td>\n",
       "      <td>498000</td>\n",
       "      <td>6.83</td>\n",
       "    </tr>\n",
       "    <tr>\n",
       "      <th>34</th>\n",
       "      <td>34</td>\n",
       "      <td>00878.TW</td>\n",
       "      <td>0.48</td>\n",
       "      <td>11.37</td>\n",
       "      <td>7.31</td>\n",
       "      <td>6000</td>\n",
       "      <td>294000</td>\n",
       "      <td>4.00</td>\n",
       "    </tr>\n",
       "    <tr>\n",
       "      <th>35</th>\n",
       "      <td>35</td>\n",
       "      <td>00921.TW</td>\n",
       "      <td>16.29</td>\n",
       "      <td>3.61</td>\n",
       "      <td>7.25</td>\n",
       "      <td>6000</td>\n",
       "      <td>114000</td>\n",
       "      <td>1.50</td>\n",
       "    </tr>\n",
       "    <tr>\n",
       "      <th>36</th>\n",
       "      <td>36</td>\n",
       "      <td>006203.TW</td>\n",
       "      <td>0.46</td>\n",
       "      <td>32.01</td>\n",
       "      <td>7.07</td>\n",
       "      <td>6000</td>\n",
       "      <td>960000</td>\n",
       "      <td>13.25</td>\n",
       "    </tr>\n",
       "    <tr>\n",
       "      <th>37</th>\n",
       "      <td>37</td>\n",
       "      <td>006204.TW</td>\n",
       "      <td>0.43</td>\n",
       "      <td>29.87</td>\n",
       "      <td>6.47</td>\n",
       "      <td>6000</td>\n",
       "      <td>930000</td>\n",
       "      <td>12.83</td>\n",
       "    </tr>\n",
       "    <tr>\n",
       "      <th>38</th>\n",
       "      <td>38</td>\n",
       "      <td>0050.TW</td>\n",
       "      <td>0.43</td>\n",
       "      <td>34.28</td>\n",
       "      <td>6.32</td>\n",
       "      <td>6000</td>\n",
       "      <td>1194000</td>\n",
       "      <td>16.50</td>\n",
       "    </tr>\n",
       "    <tr>\n",
       "      <th>39</th>\n",
       "      <td>39</td>\n",
       "      <td>0051.TW</td>\n",
       "      <td>0.4</td>\n",
       "      <td>24.54</td>\n",
       "      <td>6.28</td>\n",
       "      <td>6000</td>\n",
       "      <td>1194000</td>\n",
       "      <td>16.50</td>\n",
       "    </tr>\n",
       "    <tr>\n",
       "      <th>40</th>\n",
       "      <td>40</td>\n",
       "      <td>00728.TW</td>\n",
       "      <td>0.38</td>\n",
       "      <td>32.32</td>\n",
       "      <td>6.14</td>\n",
       "      <td>6000</td>\n",
       "      <td>456000</td>\n",
       "      <td>6.25</td>\n",
       "    </tr>\n",
       "    <tr>\n",
       "      <th>41</th>\n",
       "      <td>41</td>\n",
       "      <td>00731.TW</td>\n",
       "      <td>0.47</td>\n",
       "      <td>13.37</td>\n",
       "      <td>6.06</td>\n",
       "      <td>6000</td>\n",
       "      <td>456000</td>\n",
       "      <td>6.25</td>\n",
       "    </tr>\n",
       "    <tr>\n",
       "      <th>42</th>\n",
       "      <td>42</td>\n",
       "      <td>00907.TW</td>\n",
       "      <td>0.66</td>\n",
       "      <td>5.69</td>\n",
       "      <td>5.76</td>\n",
       "      <td>6000</td>\n",
       "      <td>162000</td>\n",
       "      <td>2.17</td>\n",
       "    </tr>\n",
       "    <tr>\n",
       "      <th>43</th>\n",
       "      <td>43</td>\n",
       "      <td>00690.TW</td>\n",
       "      <td>0.34</td>\n",
       "      <td>24.85</td>\n",
       "      <td>5.06</td>\n",
       "      <td>6000</td>\n",
       "      <td>534000</td>\n",
       "      <td>7.33</td>\n",
       "    </tr>\n",
       "    <tr>\n",
       "      <th>44</th>\n",
       "      <td>44</td>\n",
       "      <td>0055.TW</td>\n",
       "      <td>0.34</td>\n",
       "      <td>25.03</td>\n",
       "      <td>4.15</td>\n",
       "      <td>6000</td>\n",
       "      <td>1194000</td>\n",
       "      <td>16.50</td>\n",
       "    </tr>\n",
       "    <tr>\n",
       "      <th>45</th>\n",
       "      <td>45</td>\n",
       "      <td>00939.TW</td>\n",
       "      <td>數據長度不足, 無法計算</td>\n",
       "      <td>3.24</td>\n",
       "      <td>3.67</td>\n",
       "      <td>6000</td>\n",
       "      <td>30000</td>\n",
       "      <td>0.33</td>\n",
       "    </tr>\n",
       "    <tr>\n",
       "      <th>46</th>\n",
       "      <td>46</td>\n",
       "      <td>00730.TW</td>\n",
       "      <td>0.3</td>\n",
       "      <td>23.22</td>\n",
       "      <td>3.60</td>\n",
       "      <td>6000</td>\n",
       "      <td>474000</td>\n",
       "      <td>6.50</td>\n",
       "    </tr>\n",
       "    <tr>\n",
       "      <th>47</th>\n",
       "      <td>47</td>\n",
       "      <td>00701.TW</td>\n",
       "      <td>0.28</td>\n",
       "      <td>18.60</td>\n",
       "      <td>3.60</td>\n",
       "      <td>6000</td>\n",
       "      <td>504000</td>\n",
       "      <td>6.92</td>\n",
       "    </tr>\n",
       "    <tr>\n",
       "      <th>48</th>\n",
       "      <td>48</td>\n",
       "      <td>0056.TW</td>\n",
       "      <td>0.21</td>\n",
       "      <td>32.23</td>\n",
       "      <td>3.15</td>\n",
       "      <td>6000</td>\n",
       "      <td>1194000</td>\n",
       "      <td>16.50</td>\n",
       "    </tr>\n",
       "    <tr>\n",
       "      <th>49</th>\n",
       "      <td>49</td>\n",
       "      <td>00947.TW</td>\n",
       "      <td>數據長度不足, 無法計算</td>\n",
       "      <td>2.57</td>\n",
       "      <td>-13.26</td>\n",
       "      <td>6000</td>\n",
       "      <td>12000</td>\n",
       "      <td>0.08</td>\n",
       "    </tr>\n",
       "  </tbody>\n",
       "</table>\n",
       "</div>"
      ],
      "text/plain": [
       "    index   stock_id           夏普值  最大回撤(%)  年化報酬率(%)  每月投資金額(元)  累績投資金額(元)  \\\n",
       "0       0   00935.TW          1.11     7.41     37.64       6000      60000   \n",
       "1       1   00923.TW          1.47     7.11     25.04       6000     108000   \n",
       "2       2   00934.TW          1.29     4.99     23.83       6000      60000   \n",
       "3       3   00927.TW          1.67     9.59     23.06       6000      84000   \n",
       "4       4   00922.TW          1.26     6.26     22.34       6000     102000   \n",
       "5       5   00915.TW          1.36     6.25     21.43       6000     144000   \n",
       "6       6   00946.TW  數據長度不足, 無法計算     1.68     20.70       6000      18000   \n",
       "7       7   00930.TW           2.7     7.53     19.19       6000      78000   \n",
       "8       8   00905.TW          0.95     8.86     18.52       6000     168000   \n",
       "9       9   00901.TW          0.68     8.50     17.86       6000     192000   \n",
       "10     10   00913.TW          1.09     9.61     17.53       6000     144000   \n",
       "11     11   00918.TW          1.24     5.49     17.40       6000     126000   \n",
       "12     12   00944.TW  數據長度不足, 無法計算     0.88     16.30       6000      18000   \n",
       "13     13   00894.TW          0.69    13.31     16.16       6000     216000   \n",
       "14     14   00919.TW          1.29    10.53     16.07       6000     132000   \n",
       "15     15   00733.TW          0.58    36.23     13.98       6000     450000   \n",
       "16     16   00912.TW          0.86     7.38     13.98       6000     156000   \n",
       "17     17   00943.TW  數據長度不足, 無法計算     0.99     13.81       6000      18000   \n",
       "18     18   00936.TW          0.99     6.83     13.15       6000      60000   \n",
       "19     19   00881.TW          0.53    16.13     12.76       6000     264000   \n",
       "20     20   00932.TW          2.17     4.40     11.98       6000      72000   \n",
       "21     21   00900.TW          0.58     8.54     11.53       6000     192000   \n",
       "22     22   00891.TW          0.53    17.16     11.24       6000     234000   \n",
       "23     23   00929.TW         18.05     7.54     10.71       6000      84000   \n",
       "24     24   00892.TW          0.48    17.61     10.16       6000     228000   \n",
       "25     25   00940.TW  數據長度不足, 無法計算     1.98      9.77       6000      24000   \n",
       "26     26   00850.TW          0.54    18.39      9.74       6000     360000   \n",
       "27     27    0052.TW          0.49    40.36      9.29       6000    1194000   \n",
       "28     28    0057.TW          0.53    30.60      8.01       6000    1188000   \n",
       "29     29   00896.TW           0.6    11.66      8.00       6000     210000   \n",
       "30     30   00692.TW          0.46    27.20      7.87       6000     522000   \n",
       "31     31    0053.TW          0.44    32.44      7.75       6000    1194000   \n",
       "32     32  006208.TW          0.45    31.80      7.67       6000     876000   \n",
       "33     33   00713.TW          0.48    17.59      7.56       6000     498000   \n",
       "34     34   00878.TW          0.48    11.37      7.31       6000     294000   \n",
       "35     35   00921.TW         16.29     3.61      7.25       6000     114000   \n",
       "36     36  006203.TW          0.46    32.01      7.07       6000     960000   \n",
       "37     37  006204.TW          0.43    29.87      6.47       6000     930000   \n",
       "38     38    0050.TW          0.43    34.28      6.32       6000    1194000   \n",
       "39     39    0051.TW           0.4    24.54      6.28       6000    1194000   \n",
       "40     40   00728.TW          0.38    32.32      6.14       6000     456000   \n",
       "41     41   00731.TW          0.47    13.37      6.06       6000     456000   \n",
       "42     42   00907.TW          0.66     5.69      5.76       6000     162000   \n",
       "43     43   00690.TW          0.34    24.85      5.06       6000     534000   \n",
       "44     44    0055.TW          0.34    25.03      4.15       6000    1194000   \n",
       "45     45   00939.TW  數據長度不足, 無法計算     3.24      3.67       6000      30000   \n",
       "46     46   00730.TW           0.3    23.22      3.60       6000     474000   \n",
       "47     47   00701.TW          0.28    18.60      3.60       6000     504000   \n",
       "48     48    0056.TW          0.21    32.23      3.15       6000    1194000   \n",
       "49     49   00947.TW  數據長度不足, 無法計算     2.57    -13.26       6000      12000   \n",
       "\n",
       "    回測範圍(年)  \n",
       "0      0.75  \n",
       "1      1.42  \n",
       "2      0.75  \n",
       "3      1.08  \n",
       "4      1.33  \n",
       "5      1.92  \n",
       "6      0.17  \n",
       "7      1.00  \n",
       "8      2.25  \n",
       "9      2.58  \n",
       "10     1.92  \n",
       "11     1.67  \n",
       "12     0.17  \n",
       "13     2.92  \n",
       "14     1.75  \n",
       "15     6.17  \n",
       "16     2.08  \n",
       "17     0.17  \n",
       "18     0.75  \n",
       "19     3.58  \n",
       "20     0.92  \n",
       "21     2.58  \n",
       "22     3.17  \n",
       "23     1.08  \n",
       "24     3.08  \n",
       "25     0.25  \n",
       "26     4.92  \n",
       "27    16.50  \n",
       "28    16.42  \n",
       "29     2.83  \n",
       "30     7.17  \n",
       "31    16.50  \n",
       "32    12.08  \n",
       "33     6.83  \n",
       "34     4.00  \n",
       "35     1.50  \n",
       "36    13.25  \n",
       "37    12.83  \n",
       "38    16.50  \n",
       "39    16.50  \n",
       "40     6.25  \n",
       "41     6.25  \n",
       "42     2.17  \n",
       "43     7.33  \n",
       "44    16.50  \n",
       "45     0.33  \n",
       "46     6.50  \n",
       "47     6.92  \n",
       "48    16.50  \n",
       "49     0.08  "
      ]
     },
     "execution_count": 8,
     "metadata": {},
     "output_type": "execute_result"
    }
   ],
   "source": [
    "df_reset = df.reset_index()\n",
    "df_reset"
   ]
  },
  {
   "cell_type": "code",
   "execution_count": 9,
   "metadata": {},
   "outputs": [
    {
     "name": "stdout",
     "output_type": "stream",
     "text": [
      "0050\n"
     ]
    },
    {
     "name": "stderr",
     "output_type": "stream",
     "text": [
      "[*********************100%%**********************]  1 of 1 completed\n"
     ]
    },
    {
     "name": "stdout",
     "output_type": "stream",
     "text": [
      "0056\n"
     ]
    },
    {
     "name": "stderr",
     "output_type": "stream",
     "text": [
      "[*********************100%%**********************]  1 of 1 completed\n"
     ]
    },
    {
     "name": "stdout",
     "output_type": "stream",
     "text": [
      "00878\n"
     ]
    },
    {
     "name": "stderr",
     "output_type": "stream",
     "text": [
      "[*********************100%%**********************]  1 of 1 completed\n",
      "[*********************100%%**********************]  1 of 1 completed"
     ]
    },
    {
     "name": "stdout",
     "output_type": "stream",
     "text": [
      "00929\n",
      "00919\n"
     ]
    },
    {
     "name": "stderr",
     "output_type": "stream",
     "text": [
      "\n",
      "[*********************100%%**********************]  1 of 1 completed\n",
      "[*********************100%%**********************]  1 of 1 completed"
     ]
    },
    {
     "name": "stdout",
     "output_type": "stream",
     "text": [
      "00940\n",
      "006208\n"
     ]
    },
    {
     "name": "stderr",
     "output_type": "stream",
     "text": [
      "\n",
      "[*********************100%%**********************]  1 of 1 completed\n"
     ]
    },
    {
     "name": "stdout",
     "output_type": "stream",
     "text": [
      "00713\n"
     ]
    },
    {
     "name": "stderr",
     "output_type": "stream",
     "text": [
      "[*********************100%%**********************]  1 of 1 completed\n",
      "[*********************100%%**********************]  1 of 1 completed"
     ]
    },
    {
     "name": "stdout",
     "output_type": "stream",
     "text": [
      "00939\n",
      "00881\n"
     ]
    },
    {
     "name": "stderr",
     "output_type": "stream",
     "text": [
      "\n",
      "[*********************100%%**********************]  1 of 1 completed\n",
      "[*********************100%%**********************]  1 of 1 completed"
     ]
    },
    {
     "name": "stdout",
     "output_type": "stream",
     "text": [
      "00900\n"
     ]
    },
    {
     "name": "stderr",
     "output_type": "stream",
     "text": [
      "\n",
      "[*********************100%%**********************]  1 of 1 completed"
     ]
    },
    {
     "name": "stdout",
     "output_type": "stream",
     "text": [
      "00918\n"
     ]
    },
    {
     "name": "stderr",
     "output_type": "stream",
     "text": [
      "\n"
     ]
    },
    {
     "name": "stdout",
     "output_type": "stream",
     "text": [
      "00692\n"
     ]
    },
    {
     "name": "stderr",
     "output_type": "stream",
     "text": [
      "[*********************100%%**********************]  1 of 1 completed\n",
      "[*********************100%%**********************]  1 of 1 completed"
     ]
    },
    {
     "name": "stdout",
     "output_type": "stream",
     "text": [
      "00891\n"
     ]
    },
    {
     "name": "stderr",
     "output_type": "stream",
     "text": [
      "\n",
      "[*********************100%%**********************]  1 of 1 completed"
     ]
    },
    {
     "name": "stdout",
     "output_type": "stream",
     "text": [
      "00850\n"
     ]
    },
    {
     "name": "stderr",
     "output_type": "stream",
     "text": [
      "\n",
      "[*********************100%%**********************]  1 of 1 completed"
     ]
    },
    {
     "name": "stdout",
     "output_type": "stream",
     "text": [
      "00915\n",
      "00923\n"
     ]
    },
    {
     "name": "stderr",
     "output_type": "stream",
     "text": [
      "\n",
      "[*********************100%%**********************]  1 of 1 completed\n",
      "[*********************100%%**********************]  1 of 1 completed\n"
     ]
    },
    {
     "name": "stdout",
     "output_type": "stream",
     "text": [
      "00922\n"
     ]
    },
    {
     "name": "stderr",
     "output_type": "stream",
     "text": [
      "[*********************100%%**********************]  1 of 1 completed\n"
     ]
    },
    {
     "name": "stdout",
     "output_type": "stream",
     "text": [
      "00934\n",
      "00927\n"
     ]
    },
    {
     "name": "stderr",
     "output_type": "stream",
     "text": [
      "[*********************100%%**********************]  1 of 1 completed\n"
     ]
    },
    {
     "name": "stdout",
     "output_type": "stream",
     "text": [
      "00733\n"
     ]
    },
    {
     "name": "stderr",
     "output_type": "stream",
     "text": [
      "[*********************100%%**********************]  1 of 1 completed\n",
      "[*********************100%%**********************]  1 of 1 completed"
     ]
    },
    {
     "name": "stdout",
     "output_type": "stream",
     "text": [
      "00936\n",
      "00892\n"
     ]
    },
    {
     "name": "stderr",
     "output_type": "stream",
     "text": [
      "\n",
      "[*********************100%%**********************]  1 of 1 completed\n",
      "[*********************100%%**********************]  1 of 1 completed"
     ]
    },
    {
     "name": "stdout",
     "output_type": "stream",
     "text": [
      "00946\n",
      "0052\n"
     ]
    },
    {
     "name": "stderr",
     "output_type": "stream",
     "text": [
      "\n",
      "[*********************100%%**********************]  1 of 1 completed\n",
      "[*********************100%%**********************]  1 of 1 completed"
     ]
    },
    {
     "name": "stdout",
     "output_type": "stream",
     "text": [
      "00935\n",
      "00701\n"
     ]
    },
    {
     "name": "stderr",
     "output_type": "stream",
     "text": [
      "\n",
      "[*********************100%%**********************]  1 of 1 completed\n",
      "[*********************100%%**********************]  1 of 1 completed"
     ]
    },
    {
     "name": "stdout",
     "output_type": "stream",
     "text": [
      "00896\n"
     ]
    },
    {
     "name": "stderr",
     "output_type": "stream",
     "text": [
      "\n",
      "[*********************100%%**********************]  1 of 1 completed"
     ]
    },
    {
     "name": "stdout",
     "output_type": "stream",
     "text": [
      "00932\n"
     ]
    },
    {
     "name": "stderr",
     "output_type": "stream",
     "text": [
      "\n",
      "[*********************100%%**********************]  1 of 1 completed\n"
     ]
    },
    {
     "name": "stdout",
     "output_type": "stream",
     "text": [
      "00930\n",
      "00907\n"
     ]
    },
    {
     "name": "stderr",
     "output_type": "stream",
     "text": [
      "[*********************100%%**********************]  1 of 1 completed\n",
      "[*********************100%%**********************]  1 of 1 completed"
     ]
    },
    {
     "name": "stdout",
     "output_type": "stream",
     "text": [
      "00944\n",
      "00905\n"
     ]
    },
    {
     "name": "stderr",
     "output_type": "stream",
     "text": [
      "\n",
      "[*********************100%%**********************]  1 of 1 completed\n",
      "[*********************100%%**********************]  1 of 1 completed"
     ]
    },
    {
     "name": "stdout",
     "output_type": "stream",
     "text": [
      "00731\n"
     ]
    },
    {
     "name": "stderr",
     "output_type": "stream",
     "text": [
      "\n",
      "[*********************100%%**********************]  1 of 1 completed"
     ]
    },
    {
     "name": "stdout",
     "output_type": "stream",
     "text": [
      "00921\n",
      "0055\n"
     ]
    },
    {
     "name": "stderr",
     "output_type": "stream",
     "text": [
      "\n",
      "[*********************100%%**********************]  1 of 1 completed\n"
     ]
    },
    {
     "name": "stdout",
     "output_type": "stream",
     "text": [
      "00690\n"
     ]
    },
    {
     "name": "stderr",
     "output_type": "stream",
     "text": [
      "[*********************100%%**********************]  1 of 1 completed\n",
      "[*********************100%%**********************]  1 of 1 completed"
     ]
    },
    {
     "name": "stdout",
     "output_type": "stream",
     "text": [
      "00901\n"
     ]
    },
    {
     "name": "stderr",
     "output_type": "stream",
     "text": [
      "\n",
      "[*********************100%%**********************]  1 of 1 completed"
     ]
    },
    {
     "name": "stdout",
     "output_type": "stream",
     "text": [
      "00730\n"
     ]
    },
    {
     "name": "stderr",
     "output_type": "stream",
     "text": [
      "\n",
      "[*********************100%%**********************]  1 of 1 completed"
     ]
    },
    {
     "name": "stdout",
     "output_type": "stream",
     "text": [
      "00728\n"
     ]
    },
    {
     "name": "stderr",
     "output_type": "stream",
     "text": [
      "\n",
      "[*********************100%%**********************]  1 of 1 completed"
     ]
    },
    {
     "name": "stdout",
     "output_type": "stream",
     "text": [
      "00894\n"
     ]
    },
    {
     "name": "stderr",
     "output_type": "stream",
     "text": [
      "\n"
     ]
    },
    {
     "name": "stdout",
     "output_type": "stream",
     "text": [
      "0051\n"
     ]
    },
    {
     "name": "stderr",
     "output_type": "stream",
     "text": [
      "[*********************100%%**********************]  1 of 1 completed\n",
      "[*********************100%%**********************]  1 of 1 completed"
     ]
    },
    {
     "name": "stdout",
     "output_type": "stream",
     "text": [
      "00943\n",
      "006203\n"
     ]
    },
    {
     "name": "stderr",
     "output_type": "stream",
     "text": [
      "\n",
      "[*********************100%%**********************]  1 of 1 completed\n",
      "[*********************100%%**********************]  1 of 1 completed"
     ]
    },
    {
     "name": "stdout",
     "output_type": "stream",
     "text": [
      "00912\n"
     ]
    },
    {
     "name": "stderr",
     "output_type": "stream",
     "text": [
      "\n"
     ]
    },
    {
     "name": "stdout",
     "output_type": "stream",
     "text": [
      "0053\n"
     ]
    },
    {
     "name": "stderr",
     "output_type": "stream",
     "text": [
      "[*********************100%%**********************]  1 of 1 completed\n",
      "[*********************100%%**********************]  1 of 1 completed"
     ]
    },
    {
     "name": "stdout",
     "output_type": "stream",
     "text": [
      "00913\n"
     ]
    },
    {
     "name": "stderr",
     "output_type": "stream",
     "text": [
      "\n",
      "[*********************100%%**********************]  1 of 1 completed"
     ]
    },
    {
     "name": "stdout",
     "output_type": "stream",
     "text": [
      "0057\n"
     ]
    },
    {
     "name": "stderr",
     "output_type": "stream",
     "text": [
      "\n"
     ]
    },
    {
     "name": "stdout",
     "output_type": "stream",
     "text": [
      "006204\n"
     ]
    },
    {
     "name": "stderr",
     "output_type": "stream",
     "text": [
      "[*********************100%%**********************]  1 of 1 completed\n",
      "[*********************100%%**********************]  1 of 1 completed"
     ]
    },
    {
     "name": "stdout",
     "output_type": "stream",
     "text": [
      "00947\n"
     ]
    },
    {
     "name": "stderr",
     "output_type": "stream",
     "text": [
      "\n"
     ]
    },
    {
     "data": {
      "text/plain": [
       "50"
      ]
     },
     "execution_count": 9,
     "metadata": {},
     "output_type": "execute_result"
    }
   ],
   "source": [
    "# 上傳ETF 回測績效\n",
    "df = eft_performance().reset_index()\n",
    "table_name = \"etf_performance\"\n",
    "df.to_sql(table_name, engine, if_exists='replace', index=False)"
   ]
  }
 ],
 "metadata": {
  "kernelspec": {
   "display_name": "ccclub",
   "language": "python",
   "name": "python3"
  },
  "language_info": {
   "codemirror_mode": {
    "name": "ipython",
    "version": 3
   },
   "file_extension": ".py",
   "mimetype": "text/x-python",
   "name": "python",
   "nbconvert_exporter": "python",
   "pygments_lexer": "ipython3",
   "version": "3.10.13"
  }
 },
 "nbformat": 4,
 "nbformat_minor": 2
}
