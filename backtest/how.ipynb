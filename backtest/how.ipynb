{
 "cells": [
  {
   "cell_type": "markdown",
   "metadata": {},
   "source": [
    "### Step1. 選出市值前20名的ETF國內成分股"
   ]
  },
  {
   "cell_type": "code",
   "execution_count": 99,
   "metadata": {},
   "outputs": [
    {
     "name": "stdout",
     "output_type": "stream",
     "text": [
      "Log in successful\n"
     ]
    },
    {
     "data": {
      "text/plain": [
       "<module 'strategy.dollar_cost_averaging' from '/opt/ccclub/backtest/strategy/dollar_cost_averaging.py'>"
      ]
     },
     "execution_count": 99,
     "metadata": {},
     "output_type": "execute_result"
    }
   ],
   "source": [
    "import importlib, data\n",
    "import backtest_manager\n",
    "import strategy.dollar_cost_averaging\n",
    "importlib.reload(data)\n",
    "importlib.reload(backtest_manager)\n",
    "importlib.reload(strategy.dollar_cost_averaging)"
   ]
  },
  {
   "cell_type": "code",
   "execution_count": 100,
   "metadata": {},
   "outputs": [],
   "source": [
    "from data import api_table_data\n",
    "# eg. etf_all_info, etf_domestic_nav, etf_domestic_list, etf_0050_constituents...\n",
    "table_name = \"etf_domestic_nav\"\n",
    "df_etf_domestic_nav = api_table_data(table_name)"
   ]
  },
  {
   "cell_type": "code",
   "execution_count": 114,
   "metadata": {},
   "outputs": [],
   "source": [
    "df_sorted = df_etf_domestic_nav.sort_values(by='Market Cap',ascending=False)\n",
    "all_code = df_sorted['code']"
   ]
  },
  {
   "cell_type": "code",
   "execution_count": 115,
   "metadata": {},
   "outputs": [
    {
     "name": "stdout",
     "output_type": "stream",
     "text": [
      "0050\n"
     ]
    },
    {
     "name": "stderr",
     "output_type": "stream",
     "text": [
      "[*********************100%%**********************]  1 of 1 completed\n"
     ]
    },
    {
     "name": "stdout",
     "output_type": "stream",
     "text": [
      "0056\n"
     ]
    },
    {
     "name": "stderr",
     "output_type": "stream",
     "text": [
      "[*********************100%%**********************]  1 of 1 completed\n",
      "[*********************100%%**********************]  1 of 1 completed"
     ]
    },
    {
     "name": "stdout",
     "output_type": "stream",
     "text": [
      "00878\n"
     ]
    },
    {
     "name": "stderr",
     "output_type": "stream",
     "text": [
      "\n",
      "[*********************100%%**********************]  1 of 1 completed"
     ]
    },
    {
     "name": "stdout",
     "output_type": "stream",
     "text": [
      "00929\n"
     ]
    },
    {
     "name": "stderr",
     "output_type": "stream",
     "text": [
      "\n",
      "[*********************100%%**********************]  1 of 1 completed"
     ]
    },
    {
     "name": "stdout",
     "output_type": "stream",
     "text": [
      "00919\n"
     ]
    },
    {
     "name": "stderr",
     "output_type": "stream",
     "text": [
      "\n",
      "[*********************100%%**********************]  1 of 1 completed"
     ]
    },
    {
     "name": "stdout",
     "output_type": "stream",
     "text": [
      "00940\n",
      "006208\n"
     ]
    },
    {
     "name": "stderr",
     "output_type": "stream",
     "text": [
      "\n",
      "[*********************100%%**********************]  1 of 1 completed\n"
     ]
    },
    {
     "name": "stdout",
     "output_type": "stream",
     "text": [
      "00713\n"
     ]
    },
    {
     "name": "stderr",
     "output_type": "stream",
     "text": [
      "[*********************100%%**********************]  1 of 1 completed\n",
      "[*********************100%%**********************]  1 of 1 completed"
     ]
    },
    {
     "name": "stdout",
     "output_type": "stream",
     "text": [
      "00939\n",
      "00881\n"
     ]
    },
    {
     "name": "stderr",
     "output_type": "stream",
     "text": [
      "\n",
      "[*********************100%%**********************]  1 of 1 completed\n",
      "[*********************100%%**********************]  1 of 1 completed"
     ]
    },
    {
     "name": "stdout",
     "output_type": "stream",
     "text": [
      "00900\n"
     ]
    },
    {
     "name": "stderr",
     "output_type": "stream",
     "text": [
      "\n",
      "[*********************100%%**********************]  1 of 1 completed"
     ]
    },
    {
     "name": "stdout",
     "output_type": "stream",
     "text": [
      "00918\n",
      "00692\n"
     ]
    },
    {
     "name": "stderr",
     "output_type": "stream",
     "text": [
      "\n",
      "[*********************100%%**********************]  1 of 1 completed\n",
      "[*********************100%%**********************]  1 of 1 completed"
     ]
    },
    {
     "name": "stdout",
     "output_type": "stream",
     "text": [
      "00891\n"
     ]
    },
    {
     "name": "stderr",
     "output_type": "stream",
     "text": [
      "\n",
      "[*********************100%%**********************]  1 of 1 completed"
     ]
    },
    {
     "name": "stdout",
     "output_type": "stream",
     "text": [
      "00850\n"
     ]
    },
    {
     "name": "stderr",
     "output_type": "stream",
     "text": [
      "\n",
      "[*********************100%%**********************]  1 of 1 completed"
     ]
    },
    {
     "name": "stdout",
     "output_type": "stream",
     "text": [
      "00915\n",
      "00923\n"
     ]
    },
    {
     "name": "stderr",
     "output_type": "stream",
     "text": [
      "\n",
      "[*********************100%%**********************]  1 of 1 completed\n",
      "[*********************100%%**********************]  1 of 1 completed"
     ]
    },
    {
     "name": "stdout",
     "output_type": "stream",
     "text": [
      "00922\n",
      "00934\n"
     ]
    },
    {
     "name": "stderr",
     "output_type": "stream",
     "text": [
      "\n",
      "[*********************100%%**********************]  1 of 1 completed\n",
      "[*********************100%%**********************]  1 of 1 completed\n"
     ]
    },
    {
     "name": "stdout",
     "output_type": "stream",
     "text": [
      "00927\n",
      "00733\n"
     ]
    },
    {
     "name": "stderr",
     "output_type": "stream",
     "text": [
      "[*********************100%%**********************]  1 of 1 completed\n",
      "[*********************100%%**********************]  1 of 1 completed"
     ]
    },
    {
     "name": "stdout",
     "output_type": "stream",
     "text": [
      "00936\n",
      "00892\n"
     ]
    },
    {
     "name": "stderr",
     "output_type": "stream",
     "text": [
      "\n",
      "[*********************100%%**********************]  1 of 1 completed\n",
      "[*********************100%%**********************]  1 of 1 completed"
     ]
    },
    {
     "name": "stdout",
     "output_type": "stream",
     "text": [
      "00946\n",
      "0052\n"
     ]
    },
    {
     "name": "stderr",
     "output_type": "stream",
     "text": [
      "\n",
      "[*********************100%%**********************]  1 of 1 completed\n",
      "[*********************100%%**********************]  1 of 1 completed"
     ]
    },
    {
     "name": "stdout",
     "output_type": "stream",
     "text": [
      "00935\n",
      "00701\n"
     ]
    },
    {
     "name": "stderr",
     "output_type": "stream",
     "text": [
      "\n",
      "[*********************100%%**********************]  1 of 1 completed\n",
      "[*********************100%%**********************]  1 of 1 completed"
     ]
    },
    {
     "name": "stdout",
     "output_type": "stream",
     "text": [
      "00896\n"
     ]
    },
    {
     "name": "stderr",
     "output_type": "stream",
     "text": [
      "\n",
      "[*********************100%%**********************]  1 of 1 completed"
     ]
    },
    {
     "name": "stdout",
     "output_type": "stream",
     "text": [
      "00932\n",
      "00930\n"
     ]
    },
    {
     "name": "stderr",
     "output_type": "stream",
     "text": [
      "\n",
      "[*********************100%%**********************]  1 of 1 completed\n",
      "[*********************100%%**********************]  1 of 1 completed\n"
     ]
    },
    {
     "name": "stdout",
     "output_type": "stream",
     "text": [
      "00907\n"
     ]
    },
    {
     "name": "stderr",
     "output_type": "stream",
     "text": [
      "[*********************100%%**********************]  1 of 1 completed"
     ]
    },
    {
     "name": "stdout",
     "output_type": "stream",
     "text": [
      "00944\n",
      "00905\n"
     ]
    },
    {
     "name": "stderr",
     "output_type": "stream",
     "text": [
      "\n",
      "[*********************100%%**********************]  1 of 1 completed\n"
     ]
    },
    {
     "name": "stdout",
     "output_type": "stream",
     "text": [
      "00731\n"
     ]
    },
    {
     "name": "stderr",
     "output_type": "stream",
     "text": [
      "[*********************100%%**********************]  1 of 1 completed\n"
     ]
    },
    {
     "name": "stdout",
     "output_type": "stream",
     "text": [
      "00921\n"
     ]
    },
    {
     "name": "stderr",
     "output_type": "stream",
     "text": [
      "[*********************100%%**********************]  1 of 1 completed\n"
     ]
    },
    {
     "name": "stdout",
     "output_type": "stream",
     "text": [
      "0055\n"
     ]
    },
    {
     "name": "stderr",
     "output_type": "stream",
     "text": [
      "[*********************100%%**********************]  1 of 1 completed\n",
      "[*********************100%%**********************]  1 of 1 completed"
     ]
    },
    {
     "name": "stdout",
     "output_type": "stream",
     "text": [
      "00690\n"
     ]
    },
    {
     "name": "stderr",
     "output_type": "stream",
     "text": [
      "\n",
      "[*********************100%%**********************]  1 of 1 completed"
     ]
    },
    {
     "name": "stdout",
     "output_type": "stream",
     "text": [
      "00901\n"
     ]
    },
    {
     "name": "stderr",
     "output_type": "stream",
     "text": [
      "\n",
      "[*********************100%%**********************]  1 of 1 completed"
     ]
    },
    {
     "name": "stdout",
     "output_type": "stream",
     "text": [
      "00730\n"
     ]
    },
    {
     "name": "stderr",
     "output_type": "stream",
     "text": [
      "\n",
      "[*********************100%%**********************]  1 of 1 completed"
     ]
    },
    {
     "name": "stdout",
     "output_type": "stream",
     "text": [
      "00728\n"
     ]
    },
    {
     "name": "stderr",
     "output_type": "stream",
     "text": [
      "\n",
      "[*********************100%%**********************]  1 of 1 completed"
     ]
    },
    {
     "name": "stdout",
     "output_type": "stream",
     "text": [
      "00894\n"
     ]
    },
    {
     "name": "stderr",
     "output_type": "stream",
     "text": [
      "\n"
     ]
    },
    {
     "name": "stdout",
     "output_type": "stream",
     "text": [
      "0051\n"
     ]
    },
    {
     "name": "stderr",
     "output_type": "stream",
     "text": [
      "[*********************100%%**********************]  1 of 1 completed\n",
      "[*********************100%%**********************]  1 of 1 completed"
     ]
    },
    {
     "name": "stdout",
     "output_type": "stream",
     "text": [
      "00943\n",
      "006203\n"
     ]
    },
    {
     "name": "stderr",
     "output_type": "stream",
     "text": [
      "\n",
      "[*********************100%%**********************]  1 of 1 completed\n",
      "[*********************100%%**********************]  1 of 1 completed"
     ]
    },
    {
     "name": "stdout",
     "output_type": "stream",
     "text": [
      "00912\n"
     ]
    },
    {
     "name": "stderr",
     "output_type": "stream",
     "text": [
      "\n"
     ]
    },
    {
     "name": "stdout",
     "output_type": "stream",
     "text": [
      "0053\n"
     ]
    },
    {
     "name": "stderr",
     "output_type": "stream",
     "text": [
      "[*********************100%%**********************]  1 of 1 completed\n",
      "[*********************100%%**********************]  1 of 1 completed"
     ]
    },
    {
     "name": "stdout",
     "output_type": "stream",
     "text": [
      "00913\n"
     ]
    },
    {
     "name": "stderr",
     "output_type": "stream",
     "text": [
      "\n",
      "[*********************100%%**********************]  1 of 1 completed"
     ]
    },
    {
     "name": "stdout",
     "output_type": "stream",
     "text": [
      "0057\n"
     ]
    },
    {
     "name": "stderr",
     "output_type": "stream",
     "text": [
      "\n"
     ]
    },
    {
     "name": "stdout",
     "output_type": "stream",
     "text": [
      "006204\n"
     ]
    },
    {
     "name": "stderr",
     "output_type": "stream",
     "text": [
      "[*********************100%%**********************]  1 of 1 completed\n",
      "[*********************100%%**********************]  1 of 1 completed"
     ]
    },
    {
     "name": "stdout",
     "output_type": "stream",
     "text": [
      "00947\n"
     ]
    },
    {
     "name": "stderr",
     "output_type": "stream",
     "text": [
      "\n"
     ]
    }
   ],
   "source": [
    "from backtest_manager import BacktestManager\n",
    "analysis_result = []\n",
    "for code in all_code:\n",
    "    print(code)\n",
    "    backtest = BacktestManager()\n",
    "    stock_id = f\"{code}.TW\"\n",
    "    buy_amount = 6000\n",
    "    buy_date = 5\n",
    "    backtest.load_data_yahoo(stock_id=stock_id)\n",
    "    info = backtest.buy_period(buy_amount)\n",
    "    log = backtest.run()\n",
    "    analysis = backtest.analysis()\n",
    "    analysis_result.append(analysis)"
   ]
  },
  {
   "cell_type": "markdown",
   "metadata": {},
   "source": [
    "### Step2. 進行回測"
   ]
  },
  {
   "cell_type": "code",
   "execution_count": 97,
   "metadata": {},
   "outputs": [
    {
     "name": "stderr",
     "output_type": "stream",
     "text": [
      "[*********************100%%**********************]  1 of 1 completed\n"
     ]
    },
    {
     "data": {
      "image/png": "[encoded data removed]",
      "text/plain": [
       "<Figure size 640x480 with 4 Axes>"
      ]
     },
     "metadata": {},
     "output_type": "display_data"
    }
   ],
   "source": [
    "from backtest_manager import BacktestManager\n",
    "backtest = BacktestManager()\n",
    "stock_ids = \"0050.TW\"\n",
    "buy_amount = 6000\n",
    "backtest.load_data_yahoo(stock_id=stock_id)\n",
    "info = backtest.buy_period(buy_amount)\n",
    "log = backtest.run()\n",
    "analysis = backtest.analysis()\n",
    "%matplotlib inline\n",
    "backtest.plot()"
   ]
  },
  {
   "cell_type": "code",
   "execution_count": 117,
   "metadata": {},
   "outputs": [
    {
     "data": {
      "text/html": [
       "<div>\n",
       "<style scoped>\n",
       "    .dataframe tbody tr th:only-of-type {\n",
       "        vertical-align: middle;\n",
       "    }\n",
       "\n",
       "    .dataframe tbody tr th {\n",
       "        vertical-align: top;\n",
       "    }\n",
       "\n",
       "    .dataframe thead th {\n",
       "        text-align: right;\n",
       "    }\n",
       "</style>\n",
       "<table border=\"1\" class=\"dataframe\">\n",
       "  <thead>\n",
       "    <tr style=\"text-align: right;\">\n",
       "      <th></th>\n",
       "      <th>夏普值</th>\n",
       "      <th>最大回撤(%)</th>\n",
       "      <th>年化報酬率(%)</th>\n",
       "    </tr>\n",
       "    <tr>\n",
       "      <th>stock_id</th>\n",
       "      <th></th>\n",
       "      <th></th>\n",
       "      <th></th>\n",
       "    </tr>\n",
       "  </thead>\n",
       "  <tbody>\n",
       "    <tr>\n",
       "      <th>00935</th>\n",
       "      <td>1.13</td>\n",
       "      <td>8.14</td>\n",
       "      <td>40.82</td>\n",
       "    </tr>\n",
       "    <tr>\n",
       "      <th>00934</th>\n",
       "      <td>1.36</td>\n",
       "      <td>5.49</td>\n",
       "      <td>25.08</td>\n",
       "    </tr>\n",
       "    <tr>\n",
       "      <th>00923</th>\n",
       "      <td>1.54</td>\n",
       "      <td>7.46</td>\n",
       "      <td>25.05</td>\n",
       "    </tr>\n",
       "    <tr>\n",
       "      <th>00946</th>\n",
       "      <td>數據長度不足, 無法計算</td>\n",
       "      <td>1.39</td>\n",
       "      <td>24.51</td>\n",
       "    </tr>\n",
       "    <tr>\n",
       "      <th>00927</th>\n",
       "      <td>1.8</td>\n",
       "      <td>10.23</td>\n",
       "      <td>23.34</td>\n",
       "    </tr>\n",
       "    <tr>\n",
       "      <th>00915</th>\n",
       "      <td>1.37</td>\n",
       "      <td>6.44</td>\n",
       "      <td>22.76</td>\n",
       "    </tr>\n",
       "    <tr>\n",
       "      <th>00922</th>\n",
       "      <td>1.3</td>\n",
       "      <td>6.59</td>\n",
       "      <td>22.34</td>\n",
       "    </tr>\n",
       "    <tr>\n",
       "      <th>00930</th>\n",
       "      <td>2.62</td>\n",
       "      <td>8.06</td>\n",
       "      <td>21.76</td>\n",
       "    </tr>\n",
       "    <tr>\n",
       "      <th>00905</th>\n",
       "      <td>0.97</td>\n",
       "      <td>9.1</td>\n",
       "      <td>18.62</td>\n",
       "    </tr>\n",
       "    <tr>\n",
       "      <th>00918</th>\n",
       "      <td>1.24</td>\n",
       "      <td>5.73</td>\n",
       "      <td>18.25</td>\n",
       "    </tr>\n",
       "    <tr>\n",
       "      <th>00901</th>\n",
       "      <td>0.68</td>\n",
       "      <td>8.71</td>\n",
       "      <td>17.87</td>\n",
       "    </tr>\n",
       "    <tr>\n",
       "      <th>00936</th>\n",
       "      <td>1.02</td>\n",
       "      <td>6.09</td>\n",
       "      <td>17.49</td>\n",
       "    </tr>\n",
       "    <tr>\n",
       "      <th>00913</th>\n",
       "      <td>1.11</td>\n",
       "      <td>9.95</td>\n",
       "      <td>17.2</td>\n",
       "    </tr>\n",
       "    <tr>\n",
       "      <th>00919</th>\n",
       "      <td>1.3</td>\n",
       "      <td>10.9</td>\n",
       "      <td>16.22</td>\n",
       "    </tr>\n",
       "    <tr>\n",
       "      <th>00894</th>\n",
       "      <td>0.68</td>\n",
       "      <td>13.69</td>\n",
       "      <td>15.92</td>\n",
       "    </tr>\n",
       "    <tr>\n",
       "      <th>00733</th>\n",
       "      <td>0.57</td>\n",
       "      <td>36.5</td>\n",
       "      <td>13.98</td>\n",
       "    </tr>\n",
       "    <tr>\n",
       "      <th>00912</th>\n",
       "      <td>0.88</td>\n",
       "      <td>7.63</td>\n",
       "      <td>13.1</td>\n",
       "    </tr>\n",
       "    <tr>\n",
       "      <th>00943</th>\n",
       "      <td>數據長度不足, 無法計算</td>\n",
       "      <td>1.24</td>\n",
       "      <td>12.72</td>\n",
       "    </tr>\n",
       "    <tr>\n",
       "      <th>00881</th>\n",
       "      <td>0.52</td>\n",
       "      <td>16.49</td>\n",
       "      <td>12.67</td>\n",
       "    </tr>\n",
       "    <tr>\n",
       "      <th>00929</th>\n",
       "      <td>8.75</td>\n",
       "      <td>8.05</td>\n",
       "      <td>12.46</td>\n",
       "    </tr>\n",
       "    <tr>\n",
       "      <th>00932</th>\n",
       "      <td>3.09</td>\n",
       "      <td>4.76</td>\n",
       "      <td>11.37</td>\n",
       "    </tr>\n",
       "    <tr>\n",
       "      <th>00900</th>\n",
       "      <td>0.57</td>\n",
       "      <td>8.81</td>\n",
       "      <td>11.37</td>\n",
       "    </tr>\n",
       "    <tr>\n",
       "      <th>00891</th>\n",
       "      <td>0.52</td>\n",
       "      <td>17.6</td>\n",
       "      <td>11.24</td>\n",
       "    </tr>\n",
       "    <tr>\n",
       "      <th>00940</th>\n",
       "      <td>數據長度不足, 無法計算</td>\n",
       "      <td>2.89</td>\n",
       "      <td>10.39</td>\n",
       "    </tr>\n",
       "    <tr>\n",
       "      <th>00892</th>\n",
       "      <td>0.47</td>\n",
       "      <td>18.08</td>\n",
       "      <td>10.04</td>\n",
       "    </tr>\n",
       "    <tr>\n",
       "      <th>00850</th>\n",
       "      <td>0.54</td>\n",
       "      <td>18.65</td>\n",
       "      <td>9.47</td>\n",
       "    </tr>\n",
       "    <tr>\n",
       "      <th>0052</th>\n",
       "      <td>0.49</td>\n",
       "      <td>40.42</td>\n",
       "      <td>9.21</td>\n",
       "    </tr>\n",
       "    <tr>\n",
       "      <th>0057</th>\n",
       "      <td>0.53</td>\n",
       "      <td>30.66</td>\n",
       "      <td>7.9</td>\n",
       "    </tr>\n",
       "    <tr>\n",
       "      <th>00896</th>\n",
       "      <td>0.59</td>\n",
       "      <td>11.96</td>\n",
       "      <td>7.86</td>\n",
       "    </tr>\n",
       "    <tr>\n",
       "      <th>0053</th>\n",
       "      <td>0.44</td>\n",
       "      <td>32.51</td>\n",
       "      <td>7.67</td>\n",
       "    </tr>\n",
       "    <tr>\n",
       "      <th>00692</th>\n",
       "      <td>0.45</td>\n",
       "      <td>27.44</td>\n",
       "      <td>7.63</td>\n",
       "    </tr>\n",
       "    <tr>\n",
       "      <th>006208</th>\n",
       "      <td>0.45</td>\n",
       "      <td>31.93</td>\n",
       "      <td>7.52</td>\n",
       "    </tr>\n",
       "    <tr>\n",
       "      <th>00921</th>\n",
       "      <td>73.4</td>\n",
       "      <td>3.8</td>\n",
       "      <td>7.47</td>\n",
       "    </tr>\n",
       "    <tr>\n",
       "      <th>00713</th>\n",
       "      <td>0.47</td>\n",
       "      <td>17.76</td>\n",
       "      <td>7.31</td>\n",
       "    </tr>\n",
       "    <tr>\n",
       "      <th>006203</th>\n",
       "      <td>0.45</td>\n",
       "      <td>32.12</td>\n",
       "      <td>6.99</td>\n",
       "    </tr>\n",
       "    <tr>\n",
       "      <th>00878</th>\n",
       "      <td>0.43</td>\n",
       "      <td>11.59</td>\n",
       "      <td>6.79</td>\n",
       "    </tr>\n",
       "    <tr>\n",
       "      <th>006204</th>\n",
       "      <td>0.43</td>\n",
       "      <td>29.98</td>\n",
       "      <td>6.36</td>\n",
       "    </tr>\n",
       "    <tr>\n",
       "      <th>0051</th>\n",
       "      <td>0.4</td>\n",
       "      <td>24.64</td>\n",
       "      <td>6.26</td>\n",
       "    </tr>\n",
       "    <tr>\n",
       "      <th>0050</th>\n",
       "      <td>0.43</td>\n",
       "      <td>34.36</td>\n",
       "      <td>6.21</td>\n",
       "    </tr>\n",
       "    <tr>\n",
       "      <th>00728</th>\n",
       "      <td>0.37</td>\n",
       "      <td>32.64</td>\n",
       "      <td>6.08</td>\n",
       "    </tr>\n",
       "    <tr>\n",
       "      <th>00731</th>\n",
       "      <td>0.47</td>\n",
       "      <td>13.52</td>\n",
       "      <td>6.0</td>\n",
       "    </tr>\n",
       "    <tr>\n",
       "      <th>00907</th>\n",
       "      <td>0.66</td>\n",
       "      <td>5.9</td>\n",
       "      <td>4.98</td>\n",
       "    </tr>\n",
       "    <tr>\n",
       "      <th>00690</th>\n",
       "      <td>0.32</td>\n",
       "      <td>25.06</td>\n",
       "      <td>4.84</td>\n",
       "    </tr>\n",
       "    <tr>\n",
       "      <th>00944</th>\n",
       "      <td>數據長度不足, 無法計算</td>\n",
       "      <td>0.93</td>\n",
       "      <td>3.92</td>\n",
       "    </tr>\n",
       "    <tr>\n",
       "      <th>0055</th>\n",
       "      <td>0.32</td>\n",
       "      <td>25.09</td>\n",
       "      <td>3.86</td>\n",
       "    </tr>\n",
       "    <tr>\n",
       "      <th>00730</th>\n",
       "      <td>0.28</td>\n",
       "      <td>23.49</td>\n",
       "      <td>3.45</td>\n",
       "    </tr>\n",
       "    <tr>\n",
       "      <th>00701</th>\n",
       "      <td>0.23</td>\n",
       "      <td>18.79</td>\n",
       "      <td>3.08</td>\n",
       "    </tr>\n",
       "    <tr>\n",
       "      <th>0056</th>\n",
       "      <td>0.21</td>\n",
       "      <td>32.34</td>\n",
       "      <td>3.08</td>\n",
       "    </tr>\n",
       "    <tr>\n",
       "      <th>00939</th>\n",
       "      <td>數據長度不足, 無法計算</td>\n",
       "      <td>4.05</td>\n",
       "      <td>0.1</td>\n",
       "    </tr>\n",
       "    <tr>\n",
       "      <th>00947</th>\n",
       "      <td>數據長度不足, 無法計算</td>\n",
       "      <td>0.0</td>\n",
       "      <td>0.0</td>\n",
       "    </tr>\n",
       "  </tbody>\n",
       "</table>\n",
       "</div>"
      ],
      "text/plain": [
       "                   夏普值 最大回撤(%) 年化報酬率(%)\n",
       "stock_id                               \n",
       "00935             1.13    8.14    40.82\n",
       "00934             1.36    5.49    25.08\n",
       "00923             1.54    7.46    25.05\n",
       "00946     數據長度不足, 無法計算    1.39    24.51\n",
       "00927              1.8   10.23    23.34\n",
       "00915             1.37    6.44    22.76\n",
       "00922              1.3    6.59    22.34\n",
       "00930             2.62    8.06    21.76\n",
       "00905             0.97     9.1    18.62\n",
       "00918             1.24    5.73    18.25\n",
       "00901             0.68    8.71    17.87\n",
       "00936             1.02    6.09    17.49\n",
       "00913             1.11    9.95     17.2\n",
       "00919              1.3    10.9    16.22\n",
       "00894             0.68   13.69    15.92\n",
       "00733             0.57    36.5    13.98\n",
       "00912             0.88    7.63     13.1\n",
       "00943     數據長度不足, 無法計算    1.24    12.72\n",
       "00881             0.52   16.49    12.67\n",
       "00929             8.75    8.05    12.46\n",
       "00932             3.09    4.76    11.37\n",
       "00900             0.57    8.81    11.37\n",
       "00891             0.52    17.6    11.24\n",
       "00940     數據長度不足, 無法計算    2.89    10.39\n",
       "00892             0.47   18.08    10.04\n",
       "00850             0.54   18.65     9.47\n",
       "0052              0.49   40.42     9.21\n",
       "0057              0.53   30.66      7.9\n",
       "00896             0.59   11.96     7.86\n",
       "0053              0.44   32.51     7.67\n",
       "00692             0.45   27.44     7.63\n",
       "006208            0.45   31.93     7.52\n",
       "00921             73.4     3.8     7.47\n",
       "00713             0.47   17.76     7.31\n",
       "006203            0.45   32.12     6.99\n",
       "00878             0.43   11.59     6.79\n",
       "006204            0.43   29.98     6.36\n",
       "0051               0.4   24.64     6.26\n",
       "0050              0.43   34.36     6.21\n",
       "00728             0.37   32.64     6.08\n",
       "00731             0.47   13.52      6.0\n",
       "00907             0.66     5.9     4.98\n",
       "00690             0.32   25.06     4.84\n",
       "00944     數據長度不足, 無法計算    0.93     3.92\n",
       "0055              0.32   25.09     3.86\n",
       "00730             0.28   23.49     3.45\n",
       "00701             0.23   18.79     3.08\n",
       "0056              0.21   32.34     3.08\n",
       "00939     數據長度不足, 無法計算    4.05      0.1\n",
       "00947     數據長度不足, 無法計算     0.0      0.0"
      ]
     },
     "execution_count": 117,
     "metadata": {},
     "output_type": "execute_result"
    }
   ],
   "source": [
    "result_dict = dict(zip(all_code, analysis_result))\n",
    "import pandas as pd\n",
    "result = pd.DataFrame(result_dict).T\n",
    "result.index.name = 'stock_id'\n",
    "result_sorted = result.sort_values(by=\"年化報酬率(%)\",ascending=False)\n",
    "result_sorted"
   ]
  },
  {
   "cell_type": "code",
   "execution_count": null,
   "metadata": {},
   "outputs": [],
   "source": []
  }
 ],
 "metadata": {
  "kernelspec": {
   "display_name": "ccclub",
   "language": "python",
   "name": "python3"
  },
  "language_info": {
   "codemirror_mode": {
    "name": "ipython",
    "version": 3
   },
   "file_extension": ".py",
   "mimetype": "text/x-python",
   "name": "python",
   "nbconvert_exporter": "python",
   "pygments_lexer": "ipython3",
   "version": "3.10.13"
  }
 },
 "nbformat": 4,
 "nbformat_minor": 2
}
