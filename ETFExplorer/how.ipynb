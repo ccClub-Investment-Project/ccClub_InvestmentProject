{
 "cells": [
  {
   "cell_type": "markdown",
   "metadata": {},
   "source": [
    "# pre-load data"
   ]
  },
  {
   "cell_type": "code",
   "execution_count": 3,
   "metadata": {},
   "outputs": [],
   "source": [
    "# 儲存與讀取 暫存檔\n",
    "from app_tools.pickle_handler import save_data, load_data\n",
    "# 先執行 初始化 在讀檔\n",
    "# import preload.data_loader as loader\n",
    "# loader.initialize_data()"
   ]
  },
  {
   "cell_type": "code",
   "execution_count": 4,
   "metadata": {},
   "outputs": [],
   "source": [
    "# 測試讀檔與資料\n",
    "# loader.etf_domestic_list\n",
    "# loader.etf_performance\n",
    "# loader.twse_listed\n",
    "# loader.tpex_listed\n",
    "# loader.all_yield\n",
    "# loader.all_history"
   ]
  },
  {
   "cell_type": "markdown",
   "metadata": {},
   "source": [
    "# update data (pickle)"
   ]
  },
  {
   "cell_type": "code",
   "execution_count": 1,
   "metadata": {},
   "outputs": [
    {
     "name": "stdout",
     "output_type": "stream",
     "text": [
      "Error fetching table data: 500 Server Error: Internal Server Error for url: https://backtest-2.onrender.com/tables/etf_domestic_list\n",
      "Error fetching table data: 500 Server Error: Internal Server Error for url: https://backtest-2.onrender.com/tables/etf_performance\n",
      "從api下載完畢並存至pickle\n"
     ]
    }
   ],
   "source": [
    "from preload.data_update import update_from_api, update_from_crawler\n",
    "update_from_api()\n",
    "# update_from_crawler()\n",
    "\n",
    "# 發現上傳pickle網站讀取還是很慢＠＠"
   ]
  },
  {
   "cell_type": "markdown",
   "metadata": {},
   "source": [
    "# 繼續處理pickle資料"
   ]
  },
  {
   "cell_type": "code",
   "execution_count": 2,
   "metadata": {},
   "outputs": [],
   "source": [
    "from collection.crawler.stock_history import get_history, get_etf_history\n",
    "from app_tools.pickle_handler import save_data, load_data"
   ]
  },
  {
   "cell_type": "code",
   "execution_count": 3,
   "metadata": {},
   "outputs": [],
   "source": [
    "\n",
    "all_yield = load_data('all_yield')\n",
    "# filter_yield = [item for item in all_yield if item['現金殖利率'] > (value/100)]"
   ]
  },
  {
   "cell_type": "code",
   "execution_count": 4,
   "metadata": {},
   "outputs": [
    {
     "data": {
      "text/plain": [
       "0       1808.TW\n",
       "1       2548.TW\n",
       "2       9933.TW\n",
       "3       2204.TW\n",
       "4       2006.TW\n",
       "         ...   \n",
       "124    3529.TWO\n",
       "125     3706.TW\n",
       "126    5274.TWO\n",
       "127     2002.TW\n",
       "128     6415.TW\n",
       "Name: code, Length: 129, dtype: object"
      ]
     },
     "execution_count": 4,
     "metadata": {},
     "output_type": "execute_result"
    }
   ],
   "source": [
    "all_yield['code']"
   ]
  },
  {
   "cell_type": "code",
   "execution_count": 23,
   "metadata": {},
   "outputs": [
    {
     "name": "stdout",
     "output_type": "stream",
     "text": [
      "test\n"
     ]
    }
   ],
   "source": [
    "all_yield = load_data('all_yield')\n",
    "type(all_yield)\n",
    "import pandas as pd \n",
    "df = pd.DataFrame(all_yield)\n",
    "df['code'] = df['代號']\n",
    "\n",
    "tpex_listed = load_data(\"tpex_listed\")\n",
    "\n",
    "if '1240' in list(tpex_listed['code']):\n",
    "    print(\"test\")\n",
    "\n"
   ]
  },
  {
   "cell_type": "code",
   "execution_count": 25,
   "metadata": {},
   "outputs": [
    {
     "data": {
      "text/plain": [
       "[1808,\n",
       " 2548,\n",
       " 9933,\n",
       " 2204,\n",
       " 2006,\n",
       " 2303,\n",
       " 1722,\n",
       " 6005,\n",
       " 1102,\n",
       " 6147,\n",
       " 2206,\n",
       " 4763,\n",
       " 2404,\n",
       " 2211,\n",
       " 1210,\n",
       " 3034,\n",
       " 6121,\n",
       " 2504,\n",
       " 5522,\n",
       " 2301,\n",
       " 6488,\n",
       " 3005,\n",
       " 6412,\n",
       " 4938,\n",
       " 4904,\n",
       " 6176,\n",
       " 2912,\n",
       " 2201,\n",
       " 2385,\n",
       " 2451,\n",
       " 9941,\n",
       " 1402,\n",
       " 5434,\n",
       " 2412,\n",
       " 3045,\n",
       " 4915,\n",
       " 2474,\n",
       " 8112,\n",
       " 2324,\n",
       " 2454,\n",
       " 1504,\n",
       " 3702,\n",
       " 2606,\n",
       " 3044,\n",
       " 2105,\n",
       " 3023,\n",
       " 6285,\n",
       " 1319,\n",
       " 6239,\n",
       " 2637,\n",
       " 4919,\n",
       " 2357,\n",
       " 1216,\n",
       " 3293,\n",
       " 8046,\n",
       " 2377,\n",
       " 2317,\n",
       " 2356,\n",
       " 2379,\n",
       " 2392,\n",
       " 2382,\n",
       " 2634,\n",
       " 3711,\n",
       " 6505,\n",
       " 2353,\n",
       " 2395,\n",
       " 8454,\n",
       " 3231,\n",
       " 4958,\n",
       " 1476,\n",
       " 3008,\n",
       " 9910,\n",
       " 2352,\n",
       " 1101,\n",
       " 6414,\n",
       " 2363,\n",
       " 2354,\n",
       " 2027,\n",
       " 1326,\n",
       " 5347,\n",
       " 2360,\n",
       " 2345,\n",
       " 2383,\n",
       " 2542,\n",
       " 8069,\n",
       " 6409,\n",
       " 2308,\n",
       " 6781,\n",
       " 2915,\n",
       " 3036,\n",
       " 3037,\n",
       " 3406,\n",
       " 1609,\n",
       " 6669,\n",
       " 2330,\n",
       " 2492,\n",
       " 8299,\n",
       " 3533,\n",
       " 4966,\n",
       " 1301,\n",
       " 2376,\n",
       " 1590,\n",
       " 6223,\n",
       " 3376,\n",
       " 9914,\n",
       " 6274,\n",
       " 1605,\n",
       " 2327,\n",
       " 3035,\n",
       " 8996,\n",
       " 1303,\n",
       " 2049,\n",
       " 1513,\n",
       " 6472,\n",
       " 2059,\n",
       " 6531,\n",
       " 3443,\n",
       " 3661,\n",
       " 3017,\n",
       " 3653,\n",
       " 1519,\n",
       " 1503,\n",
       " 3324,\n",
       " 9958,\n",
       " 3529,\n",
       " 3706,\n",
       " 5274,\n",
       " 2002,\n",
       " 6415]"
      ]
     },
     "execution_count": 25,
     "metadata": {},
     "output_type": "execute_result"
    }
   ],
   "source": [
    "list(df['code'])"
   ]
  },
  {
   "cell_type": "code",
   "execution_count": 12,
   "metadata": {},
   "outputs": [],
   "source": [
    "df = load_data(\"all_etf_history\")"
   ]
  },
  {
   "cell_type": "code",
   "execution_count": 13,
   "metadata": {},
   "outputs": [
    {
     "data": {
      "text/plain": [
       "1614   2014-07-14\n",
       "1615   2014-07-15\n",
       "1616   2014-07-16\n",
       "1617   2014-07-17\n",
       "1618   2014-07-18\n",
       "          ...    \n",
       "4051   2024-07-03\n",
       "4052   2024-07-04\n",
       "4053   2024-07-05\n",
       "4054   2024-07-08\n",
       "4055   2024-07-09\n",
       "Name: Date, Length: 2442, dtype: datetime64[ns]"
      ]
     },
     "execution_count": 13,
     "metadata": {},
     "output_type": "execute_result"
    }
   ],
   "source": [
    "type(df)\n",
    "df['0050.TW']['Date']\n",
    "# df['2330.TW']['Date']"
   ]
  },
  {
   "cell_type": "markdown",
   "metadata": {},
   "source": [
    "# 把資料存到後端api看看 讀取速度"
   ]
  },
  {
   "cell_type": "code",
   "execution_count": 7,
   "metadata": {},
   "outputs": [
    {
     "name": "stdout",
     "output_type": "stream",
     "text": [
      "129\n"
     ]
    }
   ],
   "source": [
    "codes = api_code()\n",
    "# 129\n",
    "print(len(codes))\n",
    "all_df = {}\n",
    "for code in codes:\n",
    "    df = api_history(code)\n",
    "    all_df[code] = df"
   ]
  },
  {
   "cell_type": "code",
   "execution_count": 9,
   "metadata": {},
   "outputs": [
    {
     "data": {
      "text/plain": [
       "dict_keys(['1808.TW', '2548.TW', '9933.TW', '2204.TW', '2006.TW', '2303.TW', '1722.TW', '6005.TW', '1102.TW', '6147.TWO', '2206.TW', '4763.TW', '2404.TW', '2211.TW', '1210.TW', '3034.TW', '6121.TWO', '2504.TW', '5522.TW', '2301.TW', '6488.TWO', '3005.TW', '6412.TW', '4938.TW', '4904.TW', '6176.TW', '2912.TW', '2201.TW', '2385.TW', '2451.TW', '9941.TW', '1402.TW', '5434.TW', '2412.TW', '3045.TW', '4915.TW', '2474.TW', '8112.TW', '2324.TW', '2454.TW', '1504.TW', '3702.TW', '2606.TW', '3044.TW', '2105.TW', '3023.TW', '6285.TW', '1319.TW', '6239.TW', '2637.TW', '4919.TW', '2357.TW', '1216.TW', '3293.TWO', '8046.TW', '2377.TW', '2317.TW', '2356.TW', '2379.TW', '2392.TW', '2382.TW', '2634.TW', '3711.TW', '6505.TW', '2353.TW', '2395.TW', '8454.TW', '3231.TW', '4958.TW', '1476.TW', '3008.TW', '9910.TW', '2352.TW', '1101.TW', '6414.TW', '2363.TW', '2354.TW', '2027.TW', '1326.TW', '5347.TWO', '2360.TW', '2345.TW', '2383.TW', '2542.TW', '8069.TWO', '6409.TW', '2308.TW', '6781.TW', '2915.TW', '3036.TW', '3037.TW', '3406.TW', '1609.TW', '6669.TW', '2330.TW', '2492.TW', '8299.TWO', '3533.TW', '4966.TWO', '1301.TW', '2376.TW', '1590.TW', '6223.TWO', '3376.TW', '9914.TW', '6274.TWO', '1605.TW', '2327.TW', '3035.TW', '8996.TW', '1303.TW', '2049.TW', '1513.TW', '6472.TW', '2059.TW', '6531.TW', '3443.TW', '3661.TW', '3017.TW', '3653.TW', '1519.TW', '1503.TW', '3324.TWO', '9958.TW', '3529.TWO', '3706.TW', '5274.TWO', '2002.TW', '6415.TW'])"
      ]
     },
     "execution_count": 9,
     "metadata": {},
     "output_type": "execute_result"
    }
   ],
   "source": [
    "all_df.keys()\n"
   ]
  },
  {
   "cell_type": "code",
   "execution_count": 1,
   "metadata": {},
   "outputs": [
    {
     "data": {
      "text/plain": [
       "'0050.TW'"
      ]
     },
     "execution_count": 1,
     "metadata": {},
     "output_type": "execute_result"
    }
   ],
   "source": [
    "from collection.api_data import api_etf_code,api_etf_history, api_history, api_code\n",
    "test = api_etf_code()\n",
    "test[0]"
   ]
  },
  {
   "cell_type": "code",
   "execution_count": 2,
   "metadata": {},
   "outputs": [],
   "source": [
    "test2 = api_etf_history('0050.TW')\n",
    "test3 = api_history('2330.TW')"
   ]
  },
  {
   "cell_type": "code",
   "execution_count": 3,
   "metadata": {},
   "outputs": [],
   "source": [
    "import pandas as pd\n",
    "df = pd.DataFrame(test2)\n",
    "df3 = pd.DataFrame(test3)"
   ]
  },
  {
   "cell_type": "code",
   "execution_count": 4,
   "metadata": {},
   "outputs": [
    {
     "data": {
      "text/html": [
       "<div>\n",
       "<style scoped>\n",
       "    .dataframe tbody tr th:only-of-type {\n",
       "        vertical-align: middle;\n",
       "    }\n",
       "\n",
       "    .dataframe tbody tr th {\n",
       "        vertical-align: top;\n",
       "    }\n",
       "\n",
       "    .dataframe thead th {\n",
       "        text-align: right;\n",
       "    }\n",
       "</style>\n",
       "<table border=\"1\" class=\"dataframe\">\n",
       "  <thead>\n",
       "    <tr style=\"text-align: right;\">\n",
       "      <th></th>\n",
       "      <th>Close</th>\n",
       "      <th>Date</th>\n",
       "    </tr>\n",
       "  </thead>\n",
       "  <tbody>\n",
       "    <tr>\n",
       "      <th>0</th>\n",
       "      <td>132.5</td>\n",
       "      <td>Mon, 14 Jul 2014 00:00:00 GMT</td>\n",
       "    </tr>\n",
       "    <tr>\n",
       "      <th>1</th>\n",
       "      <td>133.0</td>\n",
       "      <td>Tue, 15 Jul 2014 00:00:00 GMT</td>\n",
       "    </tr>\n",
       "    <tr>\n",
       "      <th>2</th>\n",
       "      <td>130.5</td>\n",
       "      <td>Wed, 16 Jul 2014 00:00:00 GMT</td>\n",
       "    </tr>\n",
       "    <tr>\n",
       "      <th>3</th>\n",
       "      <td>124.5</td>\n",
       "      <td>Thu, 17 Jul 2014 00:00:00 GMT</td>\n",
       "    </tr>\n",
       "    <tr>\n",
       "      <th>4</th>\n",
       "      <td>123.5</td>\n",
       "      <td>Fri, 18 Jul 2014 00:00:00 GMT</td>\n",
       "    </tr>\n",
       "    <tr>\n",
       "      <th>...</th>\n",
       "      <td>...</td>\n",
       "      <td>...</td>\n",
       "    </tr>\n",
       "    <tr>\n",
       "      <th>2432</th>\n",
       "      <td>979.0</td>\n",
       "      <td>Wed, 03 Jul 2024 00:00:00 GMT</td>\n",
       "    </tr>\n",
       "    <tr>\n",
       "      <th>2433</th>\n",
       "      <td>1005.0</td>\n",
       "      <td>Thu, 04 Jul 2024 00:00:00 GMT</td>\n",
       "    </tr>\n",
       "    <tr>\n",
       "      <th>2434</th>\n",
       "      <td>1005.0</td>\n",
       "      <td>Fri, 05 Jul 2024 00:00:00 GMT</td>\n",
       "    </tr>\n",
       "    <tr>\n",
       "      <th>2435</th>\n",
       "      <td>1035.0</td>\n",
       "      <td>Mon, 08 Jul 2024 00:00:00 GMT</td>\n",
       "    </tr>\n",
       "    <tr>\n",
       "      <th>2436</th>\n",
       "      <td>1040.0</td>\n",
       "      <td>Tue, 09 Jul 2024 00:00:00 GMT</td>\n",
       "    </tr>\n",
       "  </tbody>\n",
       "</table>\n",
       "<p>2437 rows × 2 columns</p>\n",
       "</div>"
      ],
      "text/plain": [
       "       Close                           Date\n",
       "0      132.5  Mon, 14 Jul 2014 00:00:00 GMT\n",
       "1      133.0  Tue, 15 Jul 2014 00:00:00 GMT\n",
       "2      130.5  Wed, 16 Jul 2014 00:00:00 GMT\n",
       "3      124.5  Thu, 17 Jul 2014 00:00:00 GMT\n",
       "4      123.5  Fri, 18 Jul 2014 00:00:00 GMT\n",
       "...      ...                            ...\n",
       "2432   979.0  Wed, 03 Jul 2024 00:00:00 GMT\n",
       "2433  1005.0  Thu, 04 Jul 2024 00:00:00 GMT\n",
       "2434  1005.0  Fri, 05 Jul 2024 00:00:00 GMT\n",
       "2435  1035.0  Mon, 08 Jul 2024 00:00:00 GMT\n",
       "2436  1040.0  Tue, 09 Jul 2024 00:00:00 GMT\n",
       "\n",
       "[2437 rows x 2 columns]"
      ]
     },
     "execution_count": 4,
     "metadata": {},
     "output_type": "execute_result"
    }
   ],
   "source": [
    "df3"
   ]
  },
  {
   "cell_type": "code",
   "execution_count": null,
   "metadata": {},
   "outputs": [],
   "source": []
  }
 ],
 "metadata": {
  "kernelspec": {
   "display_name": "ccclub",
   "language": "python",
   "name": "python3"
  },
  "language_info": {
   "codemirror_mode": {
    "name": "ipython",
    "version": 3
   },
   "file_extension": ".py",
   "mimetype": "text/x-python",
   "name": "python",
   "nbconvert_exporter": "python",
   "pygments_lexer": "ipython3",
   "version": "3.10.13"
  }
 },
 "nbformat": 4,
 "nbformat_minor": 2
}
