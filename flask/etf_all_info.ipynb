{
 "cells": [
  {
   "cell_type": "code",
   "execution_count": 1,
   "metadata": {},
   "outputs": [],
   "source": [
    "import os\n",
    "os.chdir('C:/python-training/ccClub_InvestmentProject/aila')\n",
    "# print(os.getcwd())"
   ]
  },
  {
   "cell_type": "code",
   "execution_count": 2,
   "metadata": {},
   "outputs": [
    {
     "name": "stdout",
     "output_type": "stream",
     "text": [
      "Connecting to database at dpg-cphhmpe3e1ms73d8lqc0-a.singapore-postgres.render.com with user admin\n",
      "Log in successful\n"
     ]
    }
   ],
   "source": [
    "from use_pg_SQL import log_in\n",
    "# 連接到資料庫\n",
    "engine = log_in.log_in_pgSQL()"
   ]
  },
  {
   "cell_type": "code",
   "execution_count": 3,
   "metadata": {},
   "outputs": [
    {
     "name": "stdout",
     "output_type": "stream",
     "text": [
      "Connecting to database at dpg-cphhmpe3e1ms73d8lqc0-a.singapore-postgres.render.com with user admin\n",
      "Log in successful\n"
     ]
    }
   ],
   "source": [
    "from use_pg_SQL import getdata\n",
    "\n",
    "table = 'etf_all_info'\n",
    "df = getdata.fetch_data_from_db(table)"
   ]
  },
  {
   "cell_type": "code",
   "execution_count": 7,
   "metadata": {},
   "outputs": [],
   "source": [
    "import pandas as pd\n",
    "# print(len(df))\n",
    "df\n",
    "# 最終保存所有資料\n",
    "pd.DataFrame(df).to_csv(\n",
    "    f'{table}.csv', # 檔案名稱\n",
    "    encoding='utf-8-sig', # 編碼\n",
    "    index=False # 是否保留index\n",
    ")"
   ]
  }
 ],
 "metadata": {
  "kernelspec": {
   "display_name": "common",
   "language": "python",
   "name": "python3"
  },
  "language_info": {
   "codemirror_mode": {
    "name": "ipython",
    "version": 3
   },
   "file_extension": ".py",
   "mimetype": "text/x-python",
   "name": "python",
   "nbconvert_exporter": "python",
   "pygments_lexer": "ipython3",
   "version": "3.11.9"
  }
 },
 "nbformat": 4,
 "nbformat_minor": 2
}
