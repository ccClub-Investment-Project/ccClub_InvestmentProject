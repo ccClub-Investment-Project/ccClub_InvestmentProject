{
 "cells": [
  {
   "cell_type": "code",
   "execution_count": 1,
   "id": "7b14c849-3557-4292-bcf1-25385c859dbe",
   "metadata": {},
   "outputs": [
    {
     "data": {
      "text/plain": [
       "<module 'crawler' from '/opt/ccclub/sola/crawler.py'>"
      ]
     },
     "execution_count": 1,
     "metadata": {},
     "output_type": "execute_result"
    }
   ],
   "source": [
    "import crawler\n",
    "import importlib\n",
    "importlib.reload(crawler)"
   ]
  },
  {
   "cell_type": "code",
   "execution_count": 2,
   "id": "eb0c87bf-3e7e-4f9a-8137-e9b4cfc157e7",
   "metadata": {},
   "outputs": [],
   "source": [
    "from crawler import Crawler                \n",
    "import time\n",
    "from selenium import webdriver\n",
    "from selenium.webdriver.common.by import By\n",
    "from selenium.webdriver.support.ui import WebDriverWait\n",
    "from selenium.webdriver.support import expected_conditions as EC\n",
    "import json"
   ]
  },
  {
   "cell_type": "code",
   "execution_count": 5,
   "id": "91aa6549-b112-42fd-9ca6-073ea63572f8",
   "metadata": {},
   "outputs": [],
   "source": [
    "# 初始chrome\n",
    "crawler_ccclub = Crawler(remote=True, diff_container=True)\n",
    "driver = crawler_ccclub.configure_driver()"
   ]
  },
  {
   "cell_type": "code",
   "execution_count": 6,
   "id": "b3568a10-c65a-438e-88fd-50d9c0a9254e",
   "metadata": {},
   "outputs": [],
   "source": [
    "# step 01 - 處理 login\n",
    "url_login = \"https://www.ccclub.io/login\"\n",
    "\n",
    "driver.get(url_login)\n",
    "time.sleep(2)\n",
    "input_email = driver.find_element(By.CSS_SELECTOR, 'input[type=text]')\n",
    "input_password = driver.find_element(By.CSS_SELECTOR, 'input[type=password]')\n",
    "button_login = driver.find_element(By.CLASS_NAME, 'loginBtn')\n",
    "\n",
    "email = \"XXXXXXXXXXX@gmail.com\"\n",
    "password = \"ctC6CQZgaaaqf\"\n",
    "\n",
    "input_email.send_keys(email)\n",
    "time.sleep(2)\n",
    "input_password.send_keys(password)\n",
    "time.sleep(2)\n",
    "button_login.click()"
   ]
  },
  {
   "cell_type": "code",
   "execution_count": null,
   "id": "29b94b93-8e71-4809-ae04-f8a3993e42c1",
   "metadata": {},
   "outputs": [],
   "source": [
    "# step 02 -進入achievement\n",
    "url=\"https://www.ccclub.io/achievement\"\n",
    "driver.get(url)\n",
    "print(\"Chrome driver is available.\")\n",
    "time.sleep(2)"
   ]
  },
  {
   "cell_type": "code",
   "execution_count": null,
   "id": "fbbd1340-206c-4966-b72e-1f5512a66380",
   "metadata": {},
   "outputs": [],
   "source": [
    "def scroll_to_bottom():\n",
    "    last_height = driver.execute_script(\"return document.body.scrollHeight\")\n",
    "    while True:\n",
    "        driver.execute_script(\"window.scrollTo(0, document.body.scrollHeight);\")\n",
    "        time.sleep(2)\n",
    "        new_height = driver.execute_script(\"return document.body.scrollHeight\")\n",
    "        if new_height == last_height:\n",
    "            # print(\"已經到底\")\n",
    "            break\n",
    "        last_height = new_height\n",
    "    time.sleep(2)\n",
    "\n",
    "scroll_to_bottom()"
   ]
  },
  {
   "cell_type": "code",
   "execution_count": null,
   "id": "39e8a97b-0c85-4077-baa1-5094bedc8193",
   "metadata": {},
   "outputs": [],
   "source": [
    "def click_page(page:int):\n",
    "    try:\n",
    "        # 显式等待，直到class为'pagination-link'且text为'2'的元素出现\n",
    "        element = WebDriverWait(driver, 5).until(\n",
    "            EC.presence_of_element_located((By.XPATH, f\"//a[@class='pagination-link' and text()='{str(page)}']\"))\n",
    "        )\n",
    "        # 输出找到的元素\n",
    "        # print(\"Element found:\", element)\n",
    "        # print(\"Element text:\", element.text)\n",
    "        element.click()\n",
    "        # print(\"Element clicked successfully.\")\n",
    "        time.sleep(5)\n",
    "    \n",
    "    except Exception as e:\n",
    "        print(f\"An error occurred: {e}\")\n"
   ]
  },
  {
   "cell_type": "code",
   "execution_count": null,
   "id": "0843bf96-342f-4eab-b148-a8ebf99fb1cd",
   "metadata": {},
   "outputs": [],
   "source": [
    "def fetch_data():\n",
    "    gallery_items = []\n",
    "    \n",
    "    elements = driver.find_elements(By.CLASS_NAME, 'achievement__gallery-item-body')\n",
    "    \n",
    "    for idx, item in enumerate(elements):\n",
    "        item_data = {}\n",
    "        # print(f\"Gallery Item {idx + 1}:\", end=' | ')\n",
    "        item_name = item.find_element(By.CLASS_NAME, 'achievement__gallery-item-name')\n",
    "        item_author = item.find_element(By.CLASS_NAME, 'achievement__gallery-item-author')\n",
    "        item_tags = item.find_element(By.CLASS_NAME, 'achievement__gallery-item-tags')\n",
    "        item_actions = item.find_elements(By.CLASS_NAME, 'achievement__gallery-item-actions')\n",
    "        \n",
    "        item_data['Name']=item_name.text.strip()\n",
    "        item_data['Author']=item_author.text.strip().split('、')\n",
    "        item_data['tags']=[tag.lstrip('#') for tag in item_tags.text.strip().split()]\n",
    "    \n",
    "        for item_action in item_actions:\n",
    "            links = item_action.find_elements(By.CLASS_NAME, 'achievement__gallery-item-action-link')\n",
    "            for link in links:\n",
    "                # print(link.text)\n",
    "                if \"看發表影片\" in link.text.strip():\n",
    "                    # print(f\"link-video:{link.get_attribute('href')}\")\n",
    "                    item_data['link-video'] = link.get_attribute('href')\n",
    "                if \"下載簡報\"in link.text.strip():\n",
    "                    # print(f\"link-pdf:{link.get_attribute('href')}\")\n",
    "                    item_data['link-pdf'] = link.get_attribute('href')\n",
    "                if \"Github\" in link.text.strip():\n",
    "                    # print(f\"link-github:{link.get_attribute('href')}\")\n",
    "                    item_data['link-github'] = link.get_attribute('href')\n",
    "                    \n",
    "        gallery_items.append(item_data)\n",
    "    \n",
    "    return gallery_items"
   ]
  },
  {
   "cell_type": "code",
   "execution_count": null,
   "id": "3290ed72-1ade-47a1-b7a4-ba79bd1e6877",
   "metadata": {},
   "outputs": [],
   "source": [
    "def get_max_page():\n",
    "    elements = driver.find_elements(By.CLASS_NAME, 'pagination-link')\n",
    "    max_page = 0\n",
    "    for element in elements:\n",
    "        if element.text.strip() != \"\":\n",
    "            page = int(element.text)\n",
    "            max_page = max(page, max_page)\n",
    "    return max_page"
   ]
  },
  {
   "cell_type": "code",
   "execution_count": null,
   "id": "24aa3190-1e1b-43dc-80d5-55473114ae58",
   "metadata": {},
   "outputs": [],
   "source": [
    "def get_current_page():\n",
    "    element = driver.find_element(By.XPATH, \"//a[contains(@class, 'pagination-link') and contains(@class, 'is-current')]\")\n",
    "    page = int(element.text)\n",
    "    return page"
   ]
  },
  {
   "cell_type": "code",
   "execution_count": null,
   "id": "5235e41c-4ad4-4a20-a1fb-94b007dd2ee1",
   "metadata": {},
   "outputs": [],
   "source": [
    "max_page = get_max_page()\n",
    "page = 1\n",
    "all_items = []\n",
    "\n",
    "for _ in range(max_page):\n",
    "    time.sleep(2)\n",
    "    current = get_current_page()\n",
    "    if page == current:\n",
    "        scroll_to_bottom()\n",
    "        print(f\"現在正在第{page}頁\")\n",
    "        page_data = fetch_data()\n",
    "        all_items.extend(page_data)\n",
    "        time.sleep(2)\n",
    "    # 進入下一頁\n",
    "    if page <= max_page:\n",
    "        page +=1\n",
    "        click_page(page)"
   ]
  },
  {
   "cell_type": "code",
   "execution_count": null,
   "id": "4986f427-5167-4379-971e-2b790d685683",
   "metadata": {},
   "outputs": [],
   "source": [
    "driver.quit()"
   ]
  },
  {
   "cell_type": "code",
   "execution_count": null,
   "id": "6ccacaa1-4ae3-458c-80ce-6ad596353d9d",
   "metadata": {},
   "outputs": [],
   "source": [
    "# 存成json檔案\n",
    "import json\n",
    "json_filename = 'ccclub_achievement.json'\n",
    "\n",
    "def save_json(all_items, json_filename):\n",
    "    json_data = json.dumps(all_items, ensure_ascii=False, indent=4)\n",
    "    \n",
    "    with open(json_filename, 'w' ,encoding='utf-8') as json_file:\n",
    "        json_file.write(json_data)\n",
    "        print(f\"Save json file: {json_filename}\")\n",
    "\n",
    "save_json(all_items, json_filename)"
   ]
  },
  {
   "cell_type": "code",
   "execution_count": 3,
   "id": "a358a183-b4a8-4d9d-88ee-b3aeae064453",
   "metadata": {},
   "outputs": [
    {
     "name": "stdout",
     "output_type": "stream",
     "text": [
      "310\n",
      "Transfer from JSON into Excel: ccclub_achievement.xlsx\n"
     ]
    }
   ],
   "source": [
    "# 讀出json檔案 轉成excle\n",
    "import pandas as pd\n",
    "\n",
    "def json_to_excel(json_filename, excel_filename):\n",
    "    with open(json_filename, 'r', encoding='utf-8') as file:\n",
    "        file_content = json.load(file)\n",
    "        # 處理json檔案(適合excel)\n",
    "        df = pd.json_normalize(file_content)\n",
    "        df.to_excel(excel_filename, index=False)\n",
    "        print(len(df))\n",
    "    print(f\"Transfer from JSON into Excel: {excel_filename}\")\n",
    "\n",
    "json_filename = 'ccclub_achievement.json'\n",
    "excel_filename = 'ccclub_achievement.xlsx'\n",
    "json_to_excel(json_filename, excel_filename)"
   ]
  },
  {
   "cell_type": "code",
   "execution_count": 30,
   "id": "ecca6c27-1006-40ee-968e-b781bab1e8a9",
   "metadata": {},
   "outputs": [],
   "source": [
    "# 將link欄位變成超連結(text顯示)\n",
    "\n",
    "import pandas as pd\n",
    "from openpyxl import load_workbook\n",
    "from openpyxl.utils.dataframe import dataframe_to_rows\n",
    "from openpyxl.worksheet.hyperlink import Hyperlink\n",
    "\n",
    "# 使用 openpyxl 加載生成的 Excel 文件\n",
    "wb = load_workbook('project.xlsx')\n",
    "ws = wb.active\n",
    "\n",
    "# 310個專案\n",
    "\n",
    "def fix_link(display_text, url_index, target_index):\n",
    "    # 設置超連結\n",
    "    for row in ws.iter_rows(min_row=2, max_col=9, max_row=311):\n",
    "        \n",
    "        # title\n",
    "        ws[1][target_index].value = display_text\n",
    "        \n",
    "        url_pdf_cell = row[url_index] # D column\n",
    "        url = url_pdf_cell.value\n",
    "        if url and url.strip():\n",
    "            display_cell = row[target_index] # G column\n",
    "            # 設置顯示文本為超連結\n",
    "            display_cell.hyperlink = Hyperlink(ref=display_cell.coordinate, target=url)\n",
    "            display_cell.value = display_text\n",
    "            display_cell.style = \"Hyperlink\"\n",
    "\n",
    "display_text = \"pdf_link\"\n",
    "url_index = 3\n",
    "target_index = 6\n",
    "fix_link(display_text, url_index, target_index)\n",
    "\n",
    "display_text = \"pdf_video\"\n",
    "url_index = 4\n",
    "target_index = 7\n",
    "fix_link(display_text, url_index, target_index)\n",
    "\n",
    "display_text = \"pdf_github\"\n",
    "url_index = 5\n",
    "target_index = 8\n",
    "fix_link(display_text, url_index, target_index)\n",
    "\n",
    "# 需要隐藏的列索引\n",
    "hidden_columns = [3,4,5]  #要隐藏第3列\n",
    "\n",
    "# 设置隐藏列\n",
    "for col_idx in hidden_columns:\n",
    "    ws.column_dimensions[ws.cell(row=1, column=col_idx + 1).column_letter].hidden = True\n",
    "\n",
    "\n",
    "# 保存修改過的 Excel 文件\n",
    "wb.save('project.xlsx')\n"
   ]
  },
  {
   "cell_type": "code",
   "execution_count": null,
   "id": "21a94508-b45b-4caa-9b52-a237a7ea25fc",
   "metadata": {},
   "outputs": [],
   "source": []
  }
 ],
 "metadata": {
  "kernelspec": {
   "display_name": "Python 3 (ipykernel)",
   "language": "python",
   "name": "python3"
  },
  "language_info": {
   "codemirror_mode": {
    "name": "ipython",
    "version": 3
   },
   "file_extension": ".py",
   "mimetype": "text/x-python",
   "name": "python",
   "nbconvert_exporter": "python",
   "pygments_lexer": "ipython3",
   "version": "3.10.13"
  }
 },
 "nbformat": 4,
 "nbformat_minor": 5
}
