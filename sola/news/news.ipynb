{
 "cells": [
  {
   "cell_type": "code",
   "execution_count": 25,
   "metadata": {},
   "outputs": [],
   "source": [
    "import os\n",
    "import sys\n",
    "current_path = os.getcwd()\n",
    "project_root = os.path.join(current_path, '..', '..')\n",
    "sys.path.insert(0, project_root)\n",
    "os.chdir(project_root)\n",
    "\n",
    "import importlib\n",
    "import linebot.news\n",
    "importlib.reload(linebot.news)\n",
    "import linebot.news\n",
    "from linebot.news import CnyesNewsSpider"
   ]
  },
  {
   "cell_type": "code",
   "execution_count": 26,
   "metadata": {},
   "outputs": [
    {
     "name": "stdout",
     "output_type": "stream",
     "text": [
      "鉅亨網編譯段智恆  2024-06-27 22:50\n",
      "鉅亨網編譯段智恆  2024-06-27 22:10\n",
      "鉅亨網編譯段智恆  2024-06-27 21:40\n",
      "鉅亨網編譯張祖仁  2024-06-27 21:20\n",
      "鉅亨網新聞中心  2024-06-27 21:19\n",
      "鉅亨網新聞中心  2024-06-27 20:59\n",
      "鉅亨網編譯段智恆  2024-06-27 20:46\n",
      "鉅亨網記者彭昱文 台北  2024-06-27 20:34\n",
      "鉅亨網編譯張祖仁  2024-06-27 20:33\n",
      "鉅亨網記者陳于晴 台北  2024-06-27 20:31\n",
      "鉅亨網編譯張祖仁  2024-06-27 20:19\n",
      "鉅亨網新聞中心  2024-06-27 20:19\n",
      "鉅亨網編譯段智恆  2024-06-27 20:15\n",
      "鉅亨網編譯張祖仁  2024-06-27 20:04\n",
      "鉅亨網新聞中心  2024-06-27 19:46\n",
      "鉅亨網編譯段智恆  2024-06-27 19:43\n",
      "鉅亨網記者張韶雯 台北  2024-06-27 19:41\n",
      "鉅亨網記者彭昱文 台北  2024-06-27 19:37\n",
      "鉅亨網記者陳于晴 台北  2024-06-27 19:34\n",
      "鉅亨網記者劉玟妤 台北  2024-06-27 19:32\n",
      "鉅亨網記者張韶雯 台北  2024-06-27 19:30\n",
      "鉅亨網編譯張祖仁  2024-06-27 19:23\n",
      "鉅亨網記者張欽發 台北  2024-06-27 19:14\n",
      "鉅亨網記者彭昱文 台北  2024-06-27 19:06\n",
      "鉅亨網記者劉玟妤 台北  2024-06-27 19:03\n",
      "鉅亨網記者張韶雯 台北  2024-06-27 19:02\n",
      "鉅亨網編譯張祖仁  2024-06-27 19:01\n",
      "鉅亨網編譯鍾詠翔  2024-06-27 18:54\n",
      "鉅亨網記者王莞甯 台北  2024-06-27 18:38\n",
      "鉅亨網記者張欽發 台北  2024-06-27 18:37\n",
      "鉅亨網新聞中心  2024-06-27 18:32\n",
      "鉅亨網編譯張祖仁  2024-06-27 18:25\n",
      "鉅亨網記者陳于晴 台北  2024-06-27 18:18\n",
      "鉅亨網新聞中心  2024-06-27 18:00\n",
      "鉅亨研報  2024-06-27 17:53\n",
      "鉅亨網記者陳于晴 台北  2024-06-27 17:48\n",
      "鉅亨網記者張韶雯 台北  2024-06-27 17:43\n",
      "鉅亨網記者魏志豪 台北  2024-06-27 17:37\n",
      "鉅亨網記者王莞甯 台北  2024-06-27 17:33\n",
      "鉅亨網記者張韶雯 台北  2024-06-27 17:22\n",
      "鉅亨網記者劉玟妤 台北  2024-06-27 17:15\n",
      "鉅亨網新聞中心  2024-06-27 17:10\n",
      "鉅亨網編譯陳韋廷  2024-06-27 17:07\n",
      "鉅亨網記者魏志豪 台北  2024-06-27 16:57\n",
      "鉅亨網新聞中心  2024-06-27 16:40\n",
      "鉅亨研報  2024-06-27 16:37\n",
      "鉅亨網記者劉玟妤 台北  2024-06-27 16:24\n",
      "鉅亨網新聞中心  2024-06-27 16:19\n",
      "鉅亨網記者張欽發 台北  2024-06-27 16:11\n",
      "鉅亨網新聞中心  2024-06-27 16:03\n",
      "鉅亨網新聞中心  2024-06-27 16:00\n",
      "鉅亨網新聞中心  2024-06-27 16:00\n",
      "鉅亨網記者張欽發 台北  2024-06-27 15:55\n",
      "鉅亨網新聞中心  2024-06-27 15:51\n",
      "鉅亨網新聞中心  2024-06-27 15:20\n",
      "鉅亨網記者彭昱文 台北  2024-06-27 15:14\n",
      "鉅亨網記者張欽發 台北  2024-06-27 15:13\n",
      "鉅亨網編譯陳韋廷  2024-06-27 15:09\n",
      "鉅亨網新聞中心  2024-06-27 15:02\n",
      "鉅亨網新聞中心  2024-06-27 14:40\n",
      "BitoPro幣託交易所  2024-06-27 14:30\n",
      "鉅亨網記者魏志豪 台北  2024-06-27 14:11\n",
      "鉅亨網新聞中心  2024-06-27 14:10\n",
      "鉅亨網記者劉玟妤 台北  2024-06-27 14:01\n",
      "鉅亨網新聞中心  2024-06-27 14:00\n",
      "鉅亨網新聞中心  2024-06-27 13:57\n",
      "鉅亨研報  2024-06-27 13:57\n",
      "鉅亨網記者彭昱文 台北  2024-06-27 13:54\n",
      "鉅亨網新聞中心  2024-06-27 13:40\n",
      "鉅亨網編譯鍾詠翔  2024-06-27 13:24\n",
      "鉅亨網記者魏志豪 台北  2024-06-27 13:06\n",
      "鉅亨網記者王莞甯 台北  2024-06-27 12:54\n",
      "鉅亨網記者陳于晴 台北  2024-06-27 12:53\n",
      "鉅亨網記者王莞甯 台北  2024-06-27 12:22\n",
      "鉅亨網新聞中心  2024-06-27 12:21\n",
      "鉅亨網編譯許家華  2024-06-27 12:20\n",
      "鉅亨網記者張欽發 台北  2024-06-27 12:14\n",
      "鉅亨網新聞中心  2024-06-27 12:07\n",
      "鉅亨網編譯陳又嘉  2024-06-27 12:00\n",
      "鉅亨網記者劉玟妤 桃園  2024-06-27 11:54\n",
      "鉅亨網記者張欽發 台北  2024-06-27 11:29\n",
      "鉅亨網記者魏志豪 台北  2024-06-27 11:28\n",
      "鉅亨網記者王莞甯 台北  2024-06-27 11:14\n",
      "鉅亨網新聞中心  2024-06-27 11:09\n",
      "鉅亨網記者陳于晴 台北  2024-06-27 11:09\n",
      "鉅亨網記者魏志豪 台北  2024-06-27 11:07\n",
      "鉅亨研報  2024-06-27 11:03\n",
      "鉅亨網記者張欽發 台北  2024-06-27 10:54\n",
      "鉅亨研報  2024-06-27 10:44\n",
      "鉅亨網記者魏志豪 台北  2024-06-27 10:40\n",
      "鉅亨網編譯羅昀玫  2024-06-27 10:37\n",
      "鉅亨網編譯鍾詠翔  2024-06-27 10:33\n",
      "鉅亨網記者王莞甯 台北  2024-06-27 10:23\n",
      "鉅亨網新聞中心  2024-06-27 10:19\n",
      "鉅亨網編譯陳又嘉  2024-06-27 10:16\n",
      "鉅亨網新聞中心  2024-06-27 10:15\n",
      "鉅亨網記者王莞甯 台北  2024-06-27 10:13\n",
      "鉅亨網新聞中心  2024-06-27 10:11\n",
      "鉅亨網記者陳于晴 台北  2024-06-27 09:43\n",
      "鉅亨網記者彭昱文 台北  2024-06-27 09:42\n"
     ]
    }
   ],
   "source": [
    "news = CnyesNewsSpider()\n",
    "all_news = news.get_latest_news()"
   ]
  },
  {
   "cell_type": "code",
   "execution_count": 27,
   "metadata": {},
   "outputs": [
    {
     "data": {
      "text/plain": [
       "100"
      ]
     },
     "execution_count": 27,
     "metadata": {},
     "output_type": "execute_result"
    }
   ],
   "source": [
    "type(all_news)\n",
    "len(all_news)"
   ]
  },
  {
   "cell_type": "code",
   "execution_count": 31,
   "metadata": {},
   "outputs": [
    {
     "data": {
      "text/plain": [
       "{'newsId': 5617889,\n",
       " 'title': '〈遠東新股東會〉工業用地價值翻漲 手握龐大精華地段土地將積極活化',\n",
       " 'content': '&lt;p&gt;遠東新 (1402-TW) 今 (27) 日召開股東會，董事長徐旭東表示，隨著台灣企業擴廠需求增加，工業用地價值翻漲，遠東新具有龐大的精華地段工業土地，將透過多方合作策略，活化資產。&lt;/p&gt;\\n\\n&lt;p&gt;遠東新在台灣持有 57 萬坪土地，主要集中於北部精華地段，其中投資性不動產占比近 4 成，具備可觀土地價值；目前開發重點包括新北市板橋區「台北遠東通訊園區」以及桃園市「內壢土地開發案」等，未來開發利益有望倍增。&lt;/p&gt;\\n\\n&lt;p&gt;「台北遠東通訊園區」不僅是台灣首座由民間開發的通訊數位產業專業園區，也是全台首座取得美國 LEED Campus 認證之產業園區。目前園區內已完成多座研發大樓興建，並由 Google 等國際知名公司承租，帶來豐厚的租金報酬。&lt;/p&gt;\\n\\n&lt;p&gt;此外，園區內高級住宅大樓「遠揚之森」，全數完銷，銷售額逾 55 億元，另已動工興建雙棟 27 層住宅大樓，滿足市場熱切需求。&lt;/p&gt;\\n\\n&lt;p&gt;桃園市「內壢土地開發案」土地變更已獲地方政府審核通過，現由內政部審理，將打造為綜合生活園區，包含商業區與住宅區，持續活化土地資產，促進區域經濟活力與繁榮。&lt;/p&gt;\\n\\n&lt;p&gt;遠東新表示，隨著台灣企業擴廠需求增加，工業用地價值翻漲，本公司具有龐大的精華地段工業土地，包括桃園觀音、新竹新埔與湖口等地區之土地面積合計 40 萬坪，將透過多方合作策略，活化資產，創造最大價值。&lt;/p&gt;\\n\\n&lt;p&gt;此外，遠東新也發展多元優質的轉投資事業，主要投資標的包括遠傳、亞泥 (1102-TW)、遠百等遠東集團績優上市公司，公司投資事業佔總資產超過 4 成，每年不僅帶來穩定的股利收入，也創造可觀的增值空間。&lt;/p&gt;\\n\\n&lt;p&gt;以目前遠東新投資集團上市公司股價計算，總持股市值超過 1700 億元，較帳面成本增加 1 倍以上，潛在利益超過 850 億元，整體增值空間可期。&lt;/p&gt;\\n',\n",
       " 'hasCoverPhoto': 1,\n",
       " 'isIndex': 1,\n",
       " 'summary': '遠東新 (1402-TW) 今 (27) 日召開股東會，董事長徐旭東表示，隨著台灣企業擴廠需求增加，工業用地價值翻漲，遠東新具有龐大的精華地段工業土地，將透過多方合作策略，活化資產。',\n",
       " 'isCategoryHeadline': 1,\n",
       " 'stock': ['1402', '1102'],\n",
       " 'video': '',\n",
       " 'payment': 0,\n",
       " 'feature': 0,\n",
       " 'otherProduct': ['TWS:1402:STOCK:COMMON', 'TWS:1102:STOCK:COMMON'],\n",
       " 'source': '',\n",
       " 'isOutsource': 0,\n",
       " 'keyword': ['遠東新', '徐旭東', '土地'],\n",
       " 'is24h': 1,\n",
       " 'publishAt': 1719486382,\n",
       " 'coverSrc': {'xs': {'src': 'https://cimg.cnyes.cool/prod/news/5617889/xs/40499a247a1baf4fe13d02a2708383ec.jpg',\n",
       "   'width': 100,\n",
       "   'height': 56},\n",
       "  's': {'src': 'https://cimg.cnyes.cool/prod/news/5617889/s/40499a247a1baf4fe13d02a2708383ec.jpg',\n",
       "   'width': 180,\n",
       "   'height': 101},\n",
       "  'm': {'src': 'https://cimg.cnyes.cool/prod/news/5617889/m/40499a247a1baf4fe13d02a2708383ec.jpg',\n",
       "   'width': 380,\n",
       "   'height': 214},\n",
       "  'l': {'src': 'https://cimg.cnyes.cool/prod/news/5617889/l/40499a247a1baf4fe13d02a2708383ec.jpg',\n",
       "   'width': 640,\n",
       "   'height': 360},\n",
       "  'xl': {'src': 'https://cimg.cnyes.cool/prod/news/5617889/xl/40499a247a1baf4fe13d02a2708383ec.jpg',\n",
       "   'width': 960,\n",
       "   'height': 540},\n",
       "  'xxl': {'src': 'https://cimg.cnyes.cool/prod/news/5617889/xl/40499a247a1baf4fe13d02a2708383ec.jpg',\n",
       "   'width': 960,\n",
       "   'height': 540}},\n",
       " 'abTesting': None,\n",
       " 'categoryId': 827,\n",
       " 'categoryName': '台股新聞',\n",
       " 'columnists': None,\n",
       " 'fundCategoryAbbr': [],\n",
       " 'etf': [],\n",
       " 'fbShare': 0,\n",
       " 'fbComment': 0,\n",
       " 'fbCommentPluginCount': 0,\n",
       " 'market': [{'code': '1402', 'name': '遠東新', 'symbol': 'TWS:1402:STOCK'},\n",
       "  {'code': '1102', 'name': '亞泥', 'symbol': 'TWS:1102:STOCK'}],\n",
       " 'date_author': '鉅亨網記者彭昱文 台北  2024-06-27 19:06'}"
      ]
     },
     "execution_count": 31,
     "metadata": {},
     "output_type": "execute_result"
    }
   ],
   "source": [
    "all_news[23]"
   ]
  },
  {
   "cell_type": "code",
   "execution_count": 29,
   "metadata": {},
   "outputs": [
    {
     "name": "stdout",
     "output_type": "stream",
     "text": [
      "[{'newsId': 5616678, 'title': 'AI 與半導體的未來趨勢明確 投資日本半導體ETF就看這檔00951', 'content': '&lt;p&gt;全球 AI 浪潮下，現在已是離不開晶片的世代， 半導體設備產業先蹲後跳，可望在 2024 年發動成長引擎，帶動獲利持續走揚，尤其日本更是產業的重中之重，台新投信看準日本半導體展「芯」局，重磅推出台灣首檔日本半導體 ETF&mdash;00951 台新日本半導體 ETF 基金 (基金之配息來源可能為收益平準金)，同時也是首檔發行價 10 元、具收益平準金的日股 ETF，寫下三大創舉，預計 7/8 開始募集，讓投資人輕鬆參與日本半導體的大多頭行情。&lt;/p&gt;\\n\\n&lt;p&gt;近年中美角力持續影響全球半導體業，2020 年美國對中國施行晶片鎖喉政策，使得中美科技競爭不斷升溫，美國政府祭出 2022 年《晶片和科學法案》，補貼美國製造的尖端半導體。在供應鏈轉移下，日本政府也端出晶片法案，補助具戰略重要性的半導體和生成式人工智慧 (AI) 技術在日本國內製造。&lt;/p&gt;\\n\\n&lt;p&gt;護國神山台積電已陸續進駐日本熊本、美國亞利桑那州興建晶圓廠，預估今年資本支出 280 億至 320 億美元，半導體相關設備廠營運吞下大補丸，預估營收將從 2024 年 1278.7 億美元成長至 2029 年 1560.9 億美元，年複合成長率達 4.1%。【上述個股僅供舉例，未有推薦之意，亦不代表必然之投資，實際投資需視當時市場情況而定。】&lt;/p&gt;\\n\\n&lt;p&gt;根據 Bloomberg 統計，2023/5/24~2024/5/23 期間，日本半導體指數累計大漲 52%(指數聚焦日本)，上游半導體指數累計漲幅 40%(指數納入日韓台美法荷等企業)，觀察日本半導體指標股表現，其中，迪思科 Disco 今年來飆漲 60%，東京威力科創亦有 31% 的漲幅。【上述個股僅供舉例，未有推薦之意，亦不代表必然之投資，實際投資需視當時市場情況而定。】&lt;/p&gt;\\n\\n&lt;figure&gt;&lt;img data-height=&quot;441&quot; data-mime=&quot;image/png&quot; data-ratio=&quot;1.7233560090702948&quot; data-src-m=&quot;https://cimg.cnyes.cool/prod/news/5616678/m/9c13923f46eba0abe0c23de52050ed4e.jpg&quot; data-width=&quot;760&quot; src=&quot;https://cimg.cnyes.cool/prod/news/5616678/l/9c13923f46eba0abe0c23de52050ed4e.jpg&quot;&gt;&lt;/figure&gt;\\n\\n&lt;p&gt;市面上日股 ETF 追蹤日本大型指數，如日經 225、東證指數等，納入了交通、金融、消費等各領域個股，產業布局相對分散，進一步分析，日股去年以來擁有強勁的漲勢，主要是由半導體族群扮演幕後功臣去驅動，而 NYSE FactSet 日本半導體指數即是聚焦在半導體製造、設備、材料及零組件等相關族群。&lt;/p&gt;\\n\\n&lt;figure&gt;&lt;img data-height=&quot;410&quot; data-mime=&quot;image/png&quot; data-ratio=&quot;1.853658536585366&quot; data-src-m=&quot;https://cimg.cnyes.cool/prod/news/5616678/m/241370139ad3dc3a0b3b540c5717a502.jpg&quot; data-width=&quot;760&quot; src=&quot;https://cimg.cnyes.cool/prod/news/5616678/l/241370139ad3dc3a0b3b540c5717a502.jpg&quot;&gt;&lt;/figure&gt;\\n\\n&lt;p&gt;日本半導體出口以半導體生產設備為大宗，占總出口近 6 成，其次則為零組件占約 2 成，值得注意的是，日本半導體設備在全球市占率高達 3 成，僅次於美國。在日本職人高度專注、耐心地去最佳化每個環節下，因此形成難以打破的壁壘。&lt;/p&gt;\\n\\n&lt;p&gt;日本政府大刀闊斧推出「半導體振興計畫」， 外資援引台積電等外企，本土則力推日本 8 家 企業包含索尼、豐田等扶植的新創公司 Rapidus 研發 2 奈米技術，推進日本半導體發展。【上述個股僅供舉例，未有推薦之意，亦不代表必然之投資，實際投資需視當時市場情況而定。】&lt;/p&gt;\\n\\n&lt;p&gt;日股走出失落的 30 年，在全球股市中脫穎而出，主要有三大看點，首先是東證改革計畫，促使日企推出庫藏股計畫與提高股利率；其次是產業改革，受疫情影響，政府強化數位轉向，喊出日本半導體企業營收從 2020 年的 5 兆日圓提升至 2030 年 15 兆日圓，並積極引進外資投資，包括台積電熊本廠；第三則是資金面，外資熱錢不斷湧進日股，今年來已買超 5 兆日圓。&lt;/p&gt;\\n\\n&lt;figure&gt;&lt;img data-height=&quot;416&quot; data-mime=&quot;image/png&quot; data-ratio=&quot;1.8269230769230769&quot; data-src-m=&quot;https://cimg.cnyes.cool/prod/news/5616678/m/6207a350acce814a6d4328913f87ff63.jpg&quot; data-width=&quot;760&quot; src=&quot;https://cimg.cnyes.cool/prod/news/5616678/l/6207a350acce814a6d4328913f87ff63.jpg&quot;&gt;&lt;/figure&gt;\\n\\n&lt;p&gt;國人偏愛赴日旅遊，最不能錯過的行程就是在「激安殿堂」血拚，台新投信推出這檔堪稱是最「激安」的日本半導體 ETF(00951)，發行價只要 10 元，銅板價讓小資族也能輕鬆入手，透過一籃子股票的 ETF 來布局，就能參與日本半導體上升行情，並降低投資風險。&lt;/p&gt;\\n\\n&lt;p&gt;台新日本半導體 ETF 基金 (基金之配息來源可能為收益平準金) (00951) 寫下三個第一的輝煌紀錄，首先是台灣首檔日本半導體 ETF，其次是首檔發行價 10 元的日股 ETF，第三則是首檔具收益平準金的日股 ETF，可望提供投資人相對穩定的配息來源。&lt;/p&gt;\\n\\n&lt;figure&gt;&lt;img data-height=&quot;240&quot; data-mime=&quot;image/png&quot; data-ratio=&quot;3.1666666666666665&quot; data-src-m=&quot;https://cimg.cnyes.cool/prod/news/5616678/m/1987b66b77f410a180d5cfc132cb20b5.jpg&quot; data-width=&quot;760&quot; src=&quot;https://cimg.cnyes.cool/prod/news/5616678/l/1987b66b77f410a180d5cfc132cb20b5.jpg&quot;&gt;&lt;/figure&gt;\\n\\n&lt;p&gt;00951 台新日本半導體 ETF 基金 (基金之配息來源可能為收益平準金) 追蹤 NYSE FactSet 日本半導體指數，必須經過四道篩選關卡，包含產業初篩、營收純度分類、市值排序、權重決定，最後精選出高純度半導體優質股 50 檔，單一股票權重上限為 15%、前五大成分股總權重上限為 60%，指數每半年定審一次，於每年 2 月、8 月第 15 個營業日收盤生效。基金收益分配採年配息，於每年 10 月 31 日評價。&lt;/p&gt;\\n\\n&lt;p&gt;本文為台新投信行銷文宣&lt;/p&gt;\\n\\n&lt;p&gt;基金投資涉及一定程度之風險，建議投資人應一併審視自己的風險承受度及投資目的，再選擇最適合的投資標的。&lt;br&gt;\\n股票入息基金所稱之「入息」係指基金會使用符合其投資目標之衍生性工具，以產生額外之收入。為獲取較一致性之配息收入，除股票投資之資本利得及股息收益外，賣出短期選擇權之已實現權利金收入亦屬於基金之配息來源之一。基金之衍生性金融商品投資策略，包括賣出短期選擇權買權操作，與其他股票型基金特性不同，在市場短線大幅上漲時，可能導致基金績效落後於市場之情形。為尋求一致地於該期間每月向股東分配股息，基金之配息可能由本金支出；惟上述配息政策並不表示配息固定不變。基金投資全球股票市場，亦即基金投資人亦將承擔股票基金一般所應承擔之風險，不會因為衍生性金融商品的操作而有所降低。此外，投資人應留意衍生性工具操作與本策略所可能產生之投資風險 (詳見公開說明書或投資人須知)。&lt;br&gt;\\n※公司提供新聞稿予媒體時，有未提醒媒體若將新聞稿再編製者，應以公司所公開資料為主，不得為誇大不實之報導&lt;br&gt;\\n【台新投信獨立經營管理】&lt;br&gt;\\n本基金經金管會核准或同意生效，惟不表示絕無風險。基金經理公司以往之經理績效不保證基金之最低投資收益；基金經理公司除盡善良管理人之注意義務外，不負責本基金之盈虧，亦不保證最低之收益，投資人申購前應詳閱基金公開說明書 (或簡式公開說明書) 及風險預告書。有關基金應負擔之費用及相關投資風險已揭露於基金之公開說明書中，投資人可向本公司及基金銷售機構索取，或至本公司網站及公開資訊觀測站中查詢。本文提及之經濟走勢預測不必然代表本基金之績效，本基金投資風險請詳閱基金公開說明書。投資人申購本基金係持有基金受益憑證，而非本文提及之投資資產或標的。投資人於成立日 (不含當日) 前參與申購所買入的每受益權單位之發行價格，不等同於基金掛牌上市後之價格，參與申購之投資人需自行承擔基金成立日起至掛牌上市日止期間，基金價格波動所產生折 / 溢價之風險。本基金自成立日起至上市日前一個營業日止，經理公司不接受本基金受益權單位之申購或買回。本基金受益憑證之上市買賣，應依臺灣證券交易所有關規定辦理。本基金因採被動式管理方式，以追蹤標的指數報酬為目標，因此基金之投資績效將視其追蹤之標的指數之走勢而定。當其追蹤之指數價格波動劇烈時，基金之淨資產價值將有波動之風險。此外本基金雖以追蹤標的指數為操作目標，然因需負擔交易費用或其他相關費用 (如經理費、保管費、上市費)；或承受期貨及股票對市場信息反應不一所產生的價格波動等，可能使基金報酬偏離標的指數報酬，且偏離方向無法預估。本基金配息可能由基金的收益平準金中支付。任何涉及由收益平準金支出的部份，可能導致原始投資金額減損。有關本基金之淨值組成可至本公司官網查詢。基金配息率不代表基金報酬率，且過去配息率不代表未來配息率；基金淨值可能因市場因素而上下波動，投資人於獲配息時，宜一併注意基金淨值之變動。經許可使用來源 ICE Data Indices, LLC(以下稱「ICE Data」)。「NYSE FactSet&reg;」係 ICE Data 或其關係企業之服務／商標，且已與 NYSE FactSet 日本半導體指數 (NYSE FactSet Japan Semiconductor Index)(以下稱「指數」) 一併授權以供台新投信針對台新日本半導體 ETF 證券投資信託基金 (以下稱「基金」) 使用之。台新投信及基金均非由 ICE Data Indices, LLC、其關係企業或第三方供應商 (以下稱「ICE Data 及其供應商」) 贊助、背書、銷售或推廣。ICE Data 及其供應商對於基金內之證券投資建議、台新投信或指數追蹤一般市場績效之能力，不作任何相關聲明或保證。指數之過往績效不代表或保證未來之表現。ICE Data 及其供應商對於指數、指數數據或其包含之資訊、與之相關或衍生之資訊，就特定目的或用途之適銷性與適合性不作任何保證、陳述、明示和 / 或暗示。指數和指數數據均按現狀提供，ICE Data 及其供應商不就其充分性、準確性、時效性或完整性承擔任何損害或責任，使用者應自行承擔風險。&lt;/p&gt;\\n', 'hasCoverPhoto': 1, 'isIndex': 1, 'summary': '', 'isCategoryHeadline': 1, 'stock': [], 'video': '', 'payment': 0, 'feature': 0, 'otherProduct': ['FX:JPYUSD:FOREX:COMMON'], 'source': '鉅亨網新聞中心', 'isOutsource': 0, 'keyword': ['台新投信', '日本半導體', 'ETF', '00951', '趨勢分析'], 'is24h': 0, 'publishAt': 1719468048, 'coverSrc': {'xs': {'src': 'https://cimg.cnyes.cool/prod/news/5616678/xs/ea4399754fc103ffc9184cff2bde16ab.jpg', 'width': 100, 'height': 56}, 's': {'src': 'https://cimg.cnyes.cool/prod/news/5616678/s/ea4399754fc103ffc9184cff2bde16ab.jpg', 'width': 180, 'height': 101}, 'm': {'src': 'https://cimg.cnyes.cool/prod/news/5616678/m/ea4399754fc103ffc9184cff2bde16ab.jpg', 'width': 380, 'height': 214}, 'l': {'src': 'https://cimg.cnyes.cool/prod/news/5616678/l/ea4399754fc103ffc9184cff2bde16ab.jpg', 'width': 640, 'height': 360}, 'xl': {'src': 'https://cimg.cnyes.cool/prod/news/5616678/xl/ea4399754fc103ffc9184cff2bde16ab.jpg', 'width': 960, 'height': 539}, 'xxl': {'src': 'https://cimg.cnyes.cool/prod/news/5616678/xxl/ea4399754fc103ffc9184cff2bde16ab.jpg', 'width': 1080, 'height': 607}}, 'abTesting': None, 'categoryId': 852, 'categoryName': '基金', 'columnists': None, 'fundCategoryAbbr': [], 'etf': [], 'fbShare': 0, 'fbComment': 0, 'fbCommentPluginCount': 0, 'date_author': '鉅亨網新聞中心  2024-06-27 14:00'}]\n",
      "1\n"
     ]
    }
   ],
   "source": [
    "filtered_news = []\n",
    "keywords = ['etf']\n",
    "for news in all_news:\n",
    "    # print(news['keyword'])\n",
    "    if any(keyword.lower() in news.get(\"title\", \"\").lower() for keyword in keywords):\n",
    "        filtered_news.append(news)\n",
    "    # if any(keyword in news.get(\"keyword\") for keyword in keywords):\n",
    "        # filtered_news.append(news)\n",
    "\n",
    "print(filtered_news)\n",
    "print(len(filtered_news))"
   ]
  },
  {
   "cell_type": "code",
   "execution_count": 30,
   "metadata": {},
   "outputs": [
    {
     "data": {
      "text/plain": [
       "100"
      ]
     },
     "execution_count": 30,
     "metadata": {},
     "output_type": "execute_result"
    }
   ],
   "source": [
    "len(all_news)\n",
    "# all_news[:300]"
   ]
  },
  {
   "cell_type": "code",
   "execution_count": 51,
   "metadata": {},
   "outputs": [
    {
     "data": {
      "text/plain": [
       "5612750"
      ]
     },
     "execution_count": 51,
     "metadata": {},
     "output_type": "execute_result"
    }
   ],
   "source": [
    "# 設定ETF filter\n",
    "def get_etf_filter(etf,all_news):\n",
    "    etf_list=[]\n",
    "    if etf == True:\n",
    "        for new in all_news:\n",
    "            if new['etf']!=[]:\n",
    "                etf_list.append(new)\n",
    "    return etf_list\n",
    "etf = True\n",
    "etf_list = get_etf_filter(etf, all_news)\n",
    "etf_list[0]['newsId']"
   ]
  },
  {
   "cell_type": "code",
   "execution_count": 6,
   "metadata": {},
   "outputs": [],
   "source": [
    "new_id = all_news[0]['newsId']\n",
    "url = f\"https://news.cnyes.com/news/id/{new_id}\"\n",
    "\n",
    "import requests\n",
    "\n",
    "headers = {\n",
    "            'Origin': 'https://news.cnyes.com/',\n",
    "            'Referer': 'https://news.cnyes.com/',\n",
    "            'user-agent': 'Mozilla/5.0 (Windows NT 10.0; Win64; x64) AppleWebKit/537.36 (KHTML, like Gecko) Chrome/122.0.0.0 Safari/537.36',\n",
    "        }\n",
    "response = requests.get(url,headers=headers)"
   ]
  },
  {
   "cell_type": "code",
   "execution_count": 11,
   "metadata": {},
   "outputs": [
    {
     "name": "stdout",
     "output_type": "stream",
     "text": [
      "鉅亨網記者陳于晴 台北  2024-06-27 20:31\n"
     ]
    }
   ],
   "source": [
    "from bs4 import BeautifulSoup\n",
    "soup = BeautifulSoup(response.content, 'html.parser')\n",
    "\n",
    "# 使用 CSS 選擇器提取相應元素的內容\n",
    "element = soup.select_one('body > div.content-main > main > div > article > p')\n",
    "# body > div.content-main > main > div > article > p\n",
    "if element:\n",
    "    print(element.get_text())\n",
    "else:\n",
    "    print(\"沒有找到匹配的元素\")"
   ]
  },
  {
   "cell_type": "code",
   "execution_count": 46,
   "metadata": {},
   "outputs": [
    {
     "name": "stdout",
     "output_type": "stream",
     "text": [
      "〈美股盤後〉輝達陷入修正 那指收黑超1%創4月來最差單日表現\n",
      "壅塞情況加劇 海運價格正朝新冠疫情時期高點逼近\n",
      "巴隆周刊：輝達連跌 市值失守美股第一 分析師仍一片看好\n",
      "美股科技股可能暫時休息 由小型股和價值股接棒\n",
      "報導：蘋果與Meta等公司商談AI領域合作\n"
     ]
    }
   ],
   "source": [
    "for test in etf:\n",
    "    print(test['title'])"
   ]
  },
  {
   "cell_type": "code",
   "execution_count": null,
   "metadata": {},
   "outputs": [],
   "source": [
    "def filter_news(self, newslist, keywords):\n",
    "    filtered_news = []\n",
    "    for news in newslist:\n",
    "        if any(keyword.lower() in news.get(\"title\", \"\").lower() for keyword in keywords):\n",
    "            filtered_news.append(news)\n",
    "    return filtered_news"
   ]
  }
 ],
 "metadata": {
  "kernelspec": {
   "display_name": "ccclub",
   "language": "python",
   "name": "python3"
  },
  "language_info": {
   "codemirror_mode": {
    "name": "ipython",
    "version": 3
   },
   "file_extension": ".py",
   "mimetype": "text/x-python",
   "name": "python",
   "nbconvert_exporter": "python",
   "pygments_lexer": "ipython3",
   "version": "3.10.13"
  }
 },
 "nbformat": 4,
 "nbformat_minor": 2
}
