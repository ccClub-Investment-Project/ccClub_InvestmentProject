{
 "cells": [
  {
   "cell_type": "code",
   "execution_count": 3,
   "id": "7b14c849-3557-4292-bcf1-25385c859dbe",
   "metadata": {},
   "outputs": [
    {
     "data": {
      "text/plain": [
       "<module 'crawler' from '/opt/ccclub/sola/crawler/crawler.py'>"
      ]
     },
     "execution_count": 3,
     "metadata": {},
     "output_type": "execute_result"
    }
   ],
   "source": [
    "import crawler\n",
    "import importlib\n",
    "importlib.reload(crawler)"
   ]
  },
  {
   "cell_type": "code",
   "execution_count": 2,
   "id": "eb0c87bf-3e7e-4f9a-8137-e9b4cfc157e7",
   "metadata": {},
   "outputs": [],
   "source": [
    "from crawler import Crawler                \n",
    "import time\n",
    "from selenium import webdriver\n",
    "from selenium.webdriver.common.by import By\n",
    "from selenium.webdriver.support.ui import WebDriverWait\n",
    "from selenium.webdriver.support import expected_conditions as EC\n",
    "import json"
   ]
  },
  {
   "cell_type": "code",
   "execution_count": 4,
   "id": "91aa6549-b112-42fd-9ca6-073ea63572f8",
   "metadata": {},
   "outputs": [],
   "source": [
    "# 初始chrome\n",
    "crawler_ccclub = Crawler(remote=True, diff_container=True)\n",
    "driver = crawler_ccclub.configure_driver()"
   ]
  },
  {
   "cell_type": "code",
   "execution_count": 5,
   "id": "671851b4",
   "metadata": {},
   "outputs": [],
   "source": [
    "url_login = \"https://docs.google.com/spreadsheets/u/0/d/1fQh2oRUWNJWkjiHoijqGZ-xqo1x5i_v8196LdXJGK1w/htmlview\"\n",
    "driver.get(url_login)\n",
    "time.sleep(4)\n"
   ]
  },
  {
   "cell_type": "code",
   "execution_count": 20,
   "id": "0d593f06",
   "metadata": {},
   "outputs": [
    {
     "name": "stderr",
     "output_type": "stream",
     "text": [
      "/tmp/ipykernel_74556/2672288770.py:3: FutureWarning: Passing literal html to 'read_html' is deprecated and will be removed in a future version. To read from a literal string, wrap it in a 'StringIO' object.\n",
      "  df =pd.read_html(html_content)\n"
     ]
    }
   ],
   "source": [
    "html_content = driver.page_source\n",
    "import pandas as pd\n",
    "df =pd.read_html(html_content)"
   ]
  },
  {
   "cell_type": "code",
   "execution_count": 34,
   "id": "343b8655",
   "metadata": {},
   "outputs": [
    {
     "name": "stdout",
     "output_type": "stream",
     "text": [
      "Index([                       1.0,                     '公司名稱',\n",
      "                             '職務',                        nan,\n",
      "                             '職級',                     '相關年資',\n",
      "                           '現職年資',                       '底薪',\n",
      "                       'Bonus(月)',          '總年薪(萬) 分紅+年終+底薪',\n",
      "                         '每日平均工時',                     '每月加班',\n",
      "                           '加班頻率',              '爽度(1~5) 5最爽',\n",
      "                        'Loading',      '心得 是否推薦 面試相關....etc',\n",
      "                             '地點', '股票總價值以及 Vesting Schedule',\n",
      "                              nan,                        nan,\n",
      "                              nan,                        nan,\n",
      "                              nan,                        nan,\n",
      "                              nan],\n",
      "      dtype='object', name=0)\n"
     ]
    },
    {
     "ename": "KeyError",
     "evalue": "\"['總年薪(萬) 分紅+年終+底薪每日平均工時'] not in index\"",
     "output_type": "error",
     "traceback": [
      "\u001b[0;31m---------------------------------------------------------------------------\u001b[0m",
      "\u001b[0;31mKeyError\u001b[0m                                  Traceback (most recent call last)",
      "Cell \u001b[0;32mIn[34], line 9\u001b[0m\n\u001b[1;32m      5\u001b[0m \u001b[38;5;28mprint\u001b[39m(df_table\u001b[38;5;241m.\u001b[39mcolumns)\n\u001b[1;32m      6\u001b[0m columns_to_keep \u001b[38;5;241m=\u001b[39m [\u001b[38;5;124m'\u001b[39m\u001b[38;5;124m公司名稱\u001b[39m\u001b[38;5;124m'\u001b[39m, \u001b[38;5;124m'\u001b[39m\u001b[38;5;124m職務\u001b[39m\u001b[38;5;124m'\u001b[39m, \u001b[38;5;124m'\u001b[39m\u001b[38;5;124m職級\u001b[39m\u001b[38;5;124m'\u001b[39m,\u001b[38;5;124m'\u001b[39m\u001b[38;5;124m相關年資\u001b[39m\u001b[38;5;124m'\u001b[39m,\u001b[38;5;124m'\u001b[39m\u001b[38;5;124m現職年資\u001b[39m\u001b[38;5;124m'\u001b[39m,\u001b[38;5;124m'\u001b[39m\u001b[38;5;124m底薪\u001b[39m\u001b[38;5;124m'\u001b[39m,\u001b[38;5;124m'\u001b[39m\u001b[38;5;124mBonus(月)\u001b[39m\u001b[38;5;124m'\u001b[39m,\u001b[38;5;124m'\u001b[39m\u001b[38;5;124m總年薪(萬) 分紅+年終+底薪\u001b[39m\u001b[38;5;124m'\u001b[39m\u001b[38;5;124m'\u001b[39m\u001b[38;5;124m每日平均工時\u001b[39m\u001b[38;5;124m'\u001b[39m,                     \u001b[38;5;124m'\u001b[39m\u001b[38;5;124m每月加班\u001b[39m\u001b[38;5;124m'\u001b[39m,\n\u001b[1;32m      7\u001b[0m                            \u001b[38;5;124m'\u001b[39m\u001b[38;5;124m加班頻率\u001b[39m\u001b[38;5;124m'\u001b[39m, \u001b[38;5;124m'\u001b[39m\u001b[38;5;124m爽度(1~5) 5最爽\u001b[39m\u001b[38;5;124m'\u001b[39m,\u001b[38;5;124m'\u001b[39m\u001b[38;5;124mLoading\u001b[39m\u001b[38;5;124m'\u001b[39m,\u001b[38;5;124m'\u001b[39m\u001b[38;5;124m心得 是否推薦 面試相關....etc\u001b[39m\u001b[38;5;124m'\u001b[39m,\n\u001b[1;32m      8\u001b[0m                              \u001b[38;5;124m'\u001b[39m\u001b[38;5;124m地點\u001b[39m\u001b[38;5;124m'\u001b[39m, \u001b[38;5;124m'\u001b[39m\u001b[38;5;124m股票總價值以及 Vesting Schedule\u001b[39m\u001b[38;5;124m'\u001b[39m,]  \u001b[38;5;66;03m# 替换为你想保留的列名\u001b[39;00m\n\u001b[0;32m----> 9\u001b[0m df_table \u001b[38;5;241m=\u001b[39m \u001b[43mdf_table\u001b[49m\u001b[43m[\u001b[49m\u001b[43mcolumns_to_keep\u001b[49m\u001b[43m]\u001b[49m\n\u001b[1;32m     10\u001b[0m df_table\n",
      "File \u001b[0;32m/opt/conda/envs/ccclub/lib/python3.10/site-packages/pandas/core/frame.py:4108\u001b[0m, in \u001b[0;36mDataFrame.__getitem__\u001b[0;34m(self, key)\u001b[0m\n\u001b[1;32m   4106\u001b[0m     \u001b[38;5;28;01mif\u001b[39;00m is_iterator(key):\n\u001b[1;32m   4107\u001b[0m         key \u001b[38;5;241m=\u001b[39m \u001b[38;5;28mlist\u001b[39m(key)\n\u001b[0;32m-> 4108\u001b[0m     indexer \u001b[38;5;241m=\u001b[39m \u001b[38;5;28;43mself\u001b[39;49m\u001b[38;5;241;43m.\u001b[39;49m\u001b[43mcolumns\u001b[49m\u001b[38;5;241;43m.\u001b[39;49m\u001b[43m_get_indexer_strict\u001b[49m\u001b[43m(\u001b[49m\u001b[43mkey\u001b[49m\u001b[43m,\u001b[49m\u001b[43m \u001b[49m\u001b[38;5;124;43m\"\u001b[39;49m\u001b[38;5;124;43mcolumns\u001b[39;49m\u001b[38;5;124;43m\"\u001b[39;49m\u001b[43m)\u001b[49m[\u001b[38;5;241m1\u001b[39m]\n\u001b[1;32m   4110\u001b[0m \u001b[38;5;66;03m# take() does not accept boolean indexers\u001b[39;00m\n\u001b[1;32m   4111\u001b[0m \u001b[38;5;28;01mif\u001b[39;00m \u001b[38;5;28mgetattr\u001b[39m(indexer, \u001b[38;5;124m\"\u001b[39m\u001b[38;5;124mdtype\u001b[39m\u001b[38;5;124m\"\u001b[39m, \u001b[38;5;28;01mNone\u001b[39;00m) \u001b[38;5;241m==\u001b[39m \u001b[38;5;28mbool\u001b[39m:\n",
      "File \u001b[0;32m/opt/conda/envs/ccclub/lib/python3.10/site-packages/pandas/core/indexes/base.py:6200\u001b[0m, in \u001b[0;36mIndex._get_indexer_strict\u001b[0;34m(self, key, axis_name)\u001b[0m\n\u001b[1;32m   6197\u001b[0m \u001b[38;5;28;01melse\u001b[39;00m:\n\u001b[1;32m   6198\u001b[0m     keyarr, indexer, new_indexer \u001b[38;5;241m=\u001b[39m \u001b[38;5;28mself\u001b[39m\u001b[38;5;241m.\u001b[39m_reindex_non_unique(keyarr)\n\u001b[0;32m-> 6200\u001b[0m \u001b[38;5;28;43mself\u001b[39;49m\u001b[38;5;241;43m.\u001b[39;49m\u001b[43m_raise_if_missing\u001b[49m\u001b[43m(\u001b[49m\u001b[43mkeyarr\u001b[49m\u001b[43m,\u001b[49m\u001b[43m \u001b[49m\u001b[43mindexer\u001b[49m\u001b[43m,\u001b[49m\u001b[43m \u001b[49m\u001b[43maxis_name\u001b[49m\u001b[43m)\u001b[49m\n\u001b[1;32m   6202\u001b[0m keyarr \u001b[38;5;241m=\u001b[39m \u001b[38;5;28mself\u001b[39m\u001b[38;5;241m.\u001b[39mtake(indexer)\n\u001b[1;32m   6203\u001b[0m \u001b[38;5;28;01mif\u001b[39;00m \u001b[38;5;28misinstance\u001b[39m(key, Index):\n\u001b[1;32m   6204\u001b[0m     \u001b[38;5;66;03m# GH 42790 - Preserve name from an Index\u001b[39;00m\n",
      "File \u001b[0;32m/opt/conda/envs/ccclub/lib/python3.10/site-packages/pandas/core/indexes/base.py:6252\u001b[0m, in \u001b[0;36mIndex._raise_if_missing\u001b[0;34m(self, key, indexer, axis_name)\u001b[0m\n\u001b[1;32m   6249\u001b[0m     \u001b[38;5;28;01mraise\u001b[39;00m \u001b[38;5;167;01mKeyError\u001b[39;00m(\u001b[38;5;124mf\u001b[39m\u001b[38;5;124m\"\u001b[39m\u001b[38;5;124mNone of [\u001b[39m\u001b[38;5;132;01m{\u001b[39;00mkey\u001b[38;5;132;01m}\u001b[39;00m\u001b[38;5;124m] are in the [\u001b[39m\u001b[38;5;132;01m{\u001b[39;00maxis_name\u001b[38;5;132;01m}\u001b[39;00m\u001b[38;5;124m]\u001b[39m\u001b[38;5;124m\"\u001b[39m)\n\u001b[1;32m   6251\u001b[0m not_found \u001b[38;5;241m=\u001b[39m \u001b[38;5;28mlist\u001b[39m(ensure_index(key)[missing_mask\u001b[38;5;241m.\u001b[39mnonzero()[\u001b[38;5;241m0\u001b[39m]]\u001b[38;5;241m.\u001b[39munique())\n\u001b[0;32m-> 6252\u001b[0m \u001b[38;5;28;01mraise\u001b[39;00m \u001b[38;5;167;01mKeyError\u001b[39;00m(\u001b[38;5;124mf\u001b[39m\u001b[38;5;124m\"\u001b[39m\u001b[38;5;132;01m{\u001b[39;00mnot_found\u001b[38;5;132;01m}\u001b[39;00m\u001b[38;5;124m not in index\u001b[39m\u001b[38;5;124m\"\u001b[39m)\n",
      "\u001b[0;31mKeyError\u001b[0m: \"['總年薪(萬) 分紅+年終+底薪每日平均工時'] not in index\""
     ]
    }
   ],
   "source": [
    "df_table = df[0]\n",
    "new_columns = df_table.iloc[0]\n",
    "df_table.columns = new_columns\n",
    "df_table = df_table[2:]\n",
    "print(df_table.columns)\n",
    "columns_to_keep = ['公司名稱', '職務', '職級','相關年資','現職年資','底薪',\n",
    "                   'Bonus(月)','總年薪(萬) 分紅+年終+底薪','每日平均工時',\n",
    "                   '每月加班','加班頻率', '爽度(1~5) 5最爽','Loading',\n",
    "                   '心得 是否推薦 面試相關....etc','地點', \n",
    "                   '股票總價值以及 Vesting Schedule',]  # 替换为你想保留的列名\n",
    "df_table = df_table[columns_to_keep]\n",
    "df_table"
   ]
  },
  {
   "cell_type": "code",
   "execution_count": 6,
   "id": "b3568a10-c65a-438e-88fd-50d9c0a9254e",
   "metadata": {},
   "outputs": [],
   "source": [
    "# step 01 - 處理 login\n",
    "url_login = \"https://www.ccclub.io/login\"\n",
    "\n",
    "driver.get(url_login)\n",
    "time.sleep(2)\n",
    "input_email = driver.find_element(By.CSS_SELECTOR, 'input[type=text]')\n",
    "input_password = driver.find_element(By.CSS_SELECTOR, 'input[type=password]')\n",
    "button_login = driver.find_element(By.CLASS_NAME, 'loginBtn')\n",
    "\n",
    "email = \"XXXXXXXXXXX@gmail.com\"\n",
    "password = \"ctC6CQZgaaaqf\"\n",
    "\n",
    "input_email.send_keys(email)\n",
    "time.sleep(2)\n",
    "input_password.send_keys(password)\n",
    "time.sleep(2)\n",
    "button_login.click()"
   ]
  },
  {
   "cell_type": "code",
   "execution_count": null,
   "id": "29b94b93-8e71-4809-ae04-f8a3993e42c1",
   "metadata": {},
   "outputs": [],
   "source": [
    "# step 02 -進入achievement\n",
    "url=\"https://www.ccclub.io/achievement\"\n",
    "driver.get(url)\n",
    "print(\"Chrome driver is available.\")\n",
    "time.sleep(2)"
   ]
  },
  {
   "cell_type": "code",
   "execution_count": null,
   "id": "fbbd1340-206c-4966-b72e-1f5512a66380",
   "metadata": {},
   "outputs": [],
   "source": [
    "def scroll_to_bottom():\n",
    "    last_height = driver.execute_script(\"return document.body.scrollHeight\")\n",
    "    while True:\n",
    "        driver.execute_script(\"window.scrollTo(0, document.body.scrollHeight);\")\n",
    "        time.sleep(2)\n",
    "        new_height = driver.execute_script(\"return document.body.scrollHeight\")\n",
    "        if new_height == last_height:\n",
    "            # print(\"已經到底\")\n",
    "            break\n",
    "        last_height = new_height\n",
    "    time.sleep(2)\n",
    "\n",
    "scroll_to_bottom()"
   ]
  },
  {
   "cell_type": "code",
   "execution_count": null,
   "id": "39e8a97b-0c85-4077-baa1-5094bedc8193",
   "metadata": {},
   "outputs": [],
   "source": [
    "def click_page(page:int):\n",
    "    try:\n",
    "        # 显式等待，直到class为'pagination-link'且text为'2'的元素出现\n",
    "        element = WebDriverWait(driver, 5).until(\n",
    "            EC.presence_of_element_located((By.XPATH, f\"//a[@class='pagination-link' and text()='{str(page)}']\"))\n",
    "        )\n",
    "        # 输出找到的元素\n",
    "        # print(\"Element found:\", element)\n",
    "        # print(\"Element text:\", element.text)\n",
    "        element.click()\n",
    "        # print(\"Element clicked successfully.\")\n",
    "        time.sleep(5)\n",
    "    \n",
    "    except Exception as e:\n",
    "        print(f\"An error occurred: {e}\")\n"
   ]
  },
  {
   "cell_type": "code",
   "execution_count": null,
   "id": "0843bf96-342f-4eab-b148-a8ebf99fb1cd",
   "metadata": {},
   "outputs": [],
   "source": [
    "def fetch_data():\n",
    "    gallery_items = []\n",
    "    \n",
    "    elements = driver.find_elements(By.CLASS_NAME, 'achievement__gallery-item-body')\n",
    "    \n",
    "    for idx, item in enumerate(elements):\n",
    "        item_data = {}\n",
    "        # print(f\"Gallery Item {idx + 1}:\", end=' | ')\n",
    "        item_name = item.find_element(By.CLASS_NAME, 'achievement__gallery-item-name')\n",
    "        item_author = item.find_element(By.CLASS_NAME, 'achievement__gallery-item-author')\n",
    "        item_tags = item.find_element(By.CLASS_NAME, 'achievement__gallery-item-tags')\n",
    "        item_actions = item.find_elements(By.CLASS_NAME, 'achievement__gallery-item-actions')\n",
    "        \n",
    "        item_data['Name']=item_name.text.strip()\n",
    "        item_data['Author']=item_author.text.strip().split('、')\n",
    "        item_data['tags']=[tag.lstrip('#') for tag in item_tags.text.strip().split()]\n",
    "    \n",
    "        for item_action in item_actions:\n",
    "            links = item_action.find_elements(By.CLASS_NAME, 'achievement__gallery-item-action-link')\n",
    "            for link in links:\n",
    "                # print(link.text)\n",
    "                if \"看發表影片\" in link.text.strip():\n",
    "                    # print(f\"link-video:{link.get_attribute('href')}\")\n",
    "                    item_data['link-video'] = link.get_attribute('href')\n",
    "                if \"下載簡報\"in link.text.strip():\n",
    "                    # print(f\"link-pdf:{link.get_attribute('href')}\")\n",
    "                    item_data['link-pdf'] = link.get_attribute('href')\n",
    "                if \"Github\" in link.text.strip():\n",
    "                    # print(f\"link-github:{link.get_attribute('href')}\")\n",
    "                    item_data['link-github'] = link.get_attribute('href')\n",
    "                    \n",
    "        gallery_items.append(item_data)\n",
    "    \n",
    "    return gallery_items"
   ]
  },
  {
   "cell_type": "code",
   "execution_count": null,
   "id": "3290ed72-1ade-47a1-b7a4-ba79bd1e6877",
   "metadata": {},
   "outputs": [],
   "source": [
    "def get_max_page():\n",
    "    elements = driver.find_elements(By.CLASS_NAME, 'pagination-link')\n",
    "    max_page = 0\n",
    "    for element in elements:\n",
    "        if element.text.strip() != \"\":\n",
    "            page = int(element.text)\n",
    "            max_page = max(page, max_page)\n",
    "    return max_page"
   ]
  },
  {
   "cell_type": "code",
   "execution_count": null,
   "id": "24aa3190-1e1b-43dc-80d5-55473114ae58",
   "metadata": {},
   "outputs": [],
   "source": [
    "def get_current_page():\n",
    "    element = driver.find_element(By.XPATH, \"//a[contains(@class, 'pagination-link') and contains(@class, 'is-current')]\")\n",
    "    page = int(element.text)\n",
    "    return page"
   ]
  },
  {
   "cell_type": "code",
   "execution_count": null,
   "id": "5235e41c-4ad4-4a20-a1fb-94b007dd2ee1",
   "metadata": {},
   "outputs": [],
   "source": [
    "max_page = get_max_page()\n",
    "page = 1\n",
    "all_items = []\n",
    "\n",
    "for _ in range(max_page):\n",
    "    time.sleep(2)\n",
    "    current = get_current_page()\n",
    "    if page == current:\n",
    "        scroll_to_bottom()\n",
    "        print(f\"現在正在第{page}頁\")\n",
    "        page_data = fetch_data()\n",
    "        all_items.extend(page_data)\n",
    "        time.sleep(2)\n",
    "    # 進入下一頁\n",
    "    if page <= max_page:\n",
    "        page +=1\n",
    "        click_page(page)"
   ]
  },
  {
   "cell_type": "code",
   "execution_count": null,
   "id": "4986f427-5167-4379-971e-2b790d685683",
   "metadata": {},
   "outputs": [],
   "source": [
    "driver.quit()"
   ]
  },
  {
   "cell_type": "code",
   "execution_count": null,
   "id": "6ccacaa1-4ae3-458c-80ce-6ad596353d9d",
   "metadata": {},
   "outputs": [],
   "source": [
    "# 存成json檔案\n",
    "import json\n",
    "json_filename = 'ccclub_achievement.json'\n",
    "\n",
    "def save_json(all_items, json_filename):\n",
    "    json_data = json.dumps(all_items, ensure_ascii=False, indent=4)\n",
    "    \n",
    "    with open(json_filename, 'w' ,encoding='utf-8') as json_file:\n",
    "        json_file.write(json_data)\n",
    "        print(f\"Save json file: {json_filename}\")\n",
    "\n",
    "save_json(all_items, json_filename)"
   ]
  },
  {
   "cell_type": "code",
   "execution_count": 3,
   "id": "a358a183-b4a8-4d9d-88ee-b3aeae064453",
   "metadata": {},
   "outputs": [
    {
     "name": "stdout",
     "output_type": "stream",
     "text": [
      "310\n",
      "Transfer from JSON into Excel: ccclub_achievement.xlsx\n"
     ]
    }
   ],
   "source": [
    "# 讀出json檔案 轉成excle\n",
    "import pandas as pd\n",
    "\n",
    "def json_to_excel(json_filename, excel_filename):\n",
    "    with open(json_filename, 'r', encoding='utf-8') as file:\n",
    "        file_content = json.load(file)\n",
    "        # 處理json檔案(適合excel)\n",
    "        df = pd.json_normalize(file_content)\n",
    "        df.to_excel(excel_filename, index=False)\n",
    "        print(len(df))\n",
    "    print(f\"Transfer from JSON into Excel: {excel_filename}\")\n",
    "\n",
    "json_filename = 'ccclub_achievement.json'\n",
    "excel_filename = 'ccclub_achievement.xlsx'\n",
    "json_to_excel(json_filename, excel_filename)"
   ]
  },
  {
   "cell_type": "code",
   "execution_count": 30,
   "id": "ecca6c27-1006-40ee-968e-b781bab1e8a9",
   "metadata": {},
   "outputs": [],
   "source": [
    "# 將link欄位變成超連結(text顯示)\n",
    "\n",
    "import pandas as pd\n",
    "from openpyxl import load_workbook\n",
    "from openpyxl.utils.dataframe import dataframe_to_rows\n",
    "from openpyxl.worksheet.hyperlink import Hyperlink\n",
    "\n",
    "# 使用 openpyxl 加載生成的 Excel 文件\n",
    "wb = load_workbook('project.xlsx')\n",
    "ws = wb.active\n",
    "\n",
    "# 310個專案\n",
    "\n",
    "def fix_link(display_text, url_index, target_index):\n",
    "    # 設置超連結\n",
    "    for row in ws.iter_rows(min_row=2, max_col=9, max_row=311):\n",
    "        \n",
    "        # title\n",
    "        ws[1][target_index].value = display_text\n",
    "        \n",
    "        url_pdf_cell = row[url_index] # D column\n",
    "        url = url_pdf_cell.value\n",
    "        if url and url.strip():\n",
    "            display_cell = row[target_index] # G column\n",
    "            # 設置顯示文本為超連結\n",
    "            display_cell.hyperlink = Hyperlink(ref=display_cell.coordinate, target=url)\n",
    "            display_cell.value = display_text\n",
    "            display_cell.style = \"Hyperlink\"\n",
    "\n",
    "display_text = \"pdf_link\"\n",
    "url_index = 3\n",
    "target_index = 6\n",
    "fix_link(display_text, url_index, target_index)\n",
    "\n",
    "display_text = \"pdf_video\"\n",
    "url_index = 4\n",
    "target_index = 7\n",
    "fix_link(display_text, url_index, target_index)\n",
    "\n",
    "display_text = \"pdf_github\"\n",
    "url_index = 5\n",
    "target_index = 8\n",
    "fix_link(display_text, url_index, target_index)\n",
    "\n",
    "# 需要隐藏的列索引\n",
    "hidden_columns = [3,4,5]  #要隐藏第3列\n",
    "\n",
    "# 设置隐藏列\n",
    "for col_idx in hidden_columns:\n",
    "    ws.column_dimensions[ws.cell(row=1, column=col_idx + 1).column_letter].hidden = True\n",
    "\n",
    "\n",
    "# 保存修改過的 Excel 文件\n",
    "wb.save('project.xlsx')\n"
   ]
  },
  {
   "cell_type": "code",
   "execution_count": 3,
   "id": "21a94508-b45b-4caa-9b52-a237a7ea25fc",
   "metadata": {},
   "outputs": [],
   "source": [
    "# 技術支援\n",
    "# https://mops.twse.com.tw/mops/web/t164sb05\n",
    "\n",
    "# Url 109年到113年 發放現金股利\n",
    "# top_mar_cap_companies.csv\n",
    "\n",
    "\n",
    "# test 2330\n",
    "\n",
    "# 對的 \n",
    "# 現金流量表 找現金股利\n",
    "# 綜合損益表 找歸屬母公司淨利潤\n",
    "\n",
    "# 2020-23 整年的(因為股利發放和獲利回錯開一年\n",
    "\n",
    "import requests\n",
    "\n",
    "\n",
    "headers = { 'User-Agent': 'Mozilla/5.0 (Windows NT 10.0; Win64; x64) \\\n",
    "                         AppleWebKit/537.36 (KHTML, like Gecko) Chrome/125.0.0.0 Safari/537.36' }\n",
    "        \n",
    "\n",
    "url = \"https://mops.twse.com.tw/mops/web/ajax_t164sb05\"\n",
    "payload = {\n",
    "    \"encodeURIComponent\": 1,\n",
    "    \"step\": 1,\n",
    "    \"firstin\": 1,\n",
    "    \"off\": 1,\n",
    "    \"keyword4\": \"\",\n",
    "    \"code1\": \"\",\n",
    "    \"TYPEK2\": \"\",\n",
    "    \"checkbtn\": \"\",\n",
    "    \"queryName\": \"co_id\",\n",
    "    \"inpuType\": \"co_id\",\n",
    "    \"TYPEK\": \"all\",\n",
    "    \"isnew\": \"true\",\n",
    "    \"co_id\": \"2330\",\n",
    "    \"year\": \"\",\n",
    "    \"season\": \"\"\n",
    "}\n",
    "\n",
    "\n",
    "response = requests.post(url, data=payload, headers=headers)\n",
    "\n",
    "# print(response.text)"
   ]
  },
  {
   "cell_type": "code",
   "execution_count": 6,
   "id": "f1d83fba",
   "metadata": {},
   "outputs": [],
   "source": [
    "from bs4 import BeautifulSoup\n",
    "soup = BeautifulSoup(response.text, 'html.parser')\n",
    "tables = soup.find_all('table')\n"
   ]
  },
  {
   "cell_type": "code",
   "execution_count": 10,
   "id": "9c3a7e81",
   "metadata": {},
   "outputs": [
    {
     "name": "stdout",
     "output_type": "stream",
     "text": [
      "<table align=\"center\" class=\"hasBorder\"><tr><th class=\"tblHead\" colspan=\"7\">民國113年第1季</th></tr><tr><th class=\"tblHead\" colspan=\"7\" style=\"text-align:right;\">單位：新台幣仟元</th></tr><tr><th class=\"tblHead\" style=\"text-align:left;\">會計項目</th><th class=\"tblHead\" style=\"text-align:left;white-space:nowrap;\">113年01月01日至113年03月31日</th><th class=\"tblHead\" style=\"text-align:left;white-space:nowrap;\">112年01月01日至112年03月31日</th></tr><tr><th align=\"center\" class=\"tblHead\"> </th><th align=\"center\" class=\"tblHead\">金額</th><th align=\"center\" class=\"tblHead\">金額</th></tr><tr><td class=\"even\" style=\"text-align:left;white-space:nowrap;\">營業活動之現金流量－間接法</td><td class=\"even\" style=\"text-align:right;\"></td><td class=\"even\" style=\"text-align:right;\"></td></tr><tr><td class=\"odd\" style=\"text-align:left;white-space:nowrap;\">　繼續營業單位稅前淨利（淨損）</td><td class=\"odd\" style=\"text-align:right;\">                    266,543,204</td><td class=\"odd\" style=\"text-align:right;\">                    244,274,931</td></tr><tr><td class=\"odd\" style=\"text-align:left;white-space:nowrap;\">　本期稅前淨利（淨損）</td><td class=\"odd\" style=\"text-align:right;\">                    266,543,204</td><td class=\"odd\" style=\"text-align:right;\">                    244,274,931</td></tr><tr><td class=\"even\" style=\"text-align:left;white-space:nowrap;\">　　　折舊費用</td><td class=\"even\" style=\"text-align:right;\">                    156,697,101</td><td class=\"even\" style=\"text-align:right;\">                    108,083,376</td></tr><tr><td class=\"odd\" style=\"text-align:left;white-space:nowrap;\">　　　攤銷費用</td><td class=\"odd\" style=\"text-align:right;\">                      2,326,061</td><td class=\"odd\" style=\"text-align:right;\">                      2,239,265</td></tr><tr><td class=\"even\" style=\"text-align:left;white-space:nowrap;\">　　　預期信用減損損失（利益）數∕呆帳費用提列（轉列收入）數</td><td class=\"even\" style=\"text-align:right;\">                          6,573</td><td class=\"even\" style=\"text-align:right;\">                          6,164</td></tr><tr><td class=\"odd\" style=\"text-align:left;white-space:nowrap;\">　　　透過損益按公允價值衡量金融資產及負債之淨損失（利益）</td><td class=\"odd\" style=\"text-align:right;\">                            752</td><td class=\"odd\" style=\"text-align:right;\">                        -23,522</td></tr><tr><td class=\"even\" style=\"text-align:left;white-space:nowrap;\">　　　利息費用</td><td class=\"even\" style=\"text-align:right;\">                      2,698,255</td><td class=\"even\" style=\"text-align:right;\">                      2,963,686</td></tr><tr><td class=\"odd\" style=\"text-align:left;white-space:nowrap;\">　　　利息收入</td><td class=\"odd\" style=\"text-align:right;\">                    -19,359,172</td><td class=\"odd\" style=\"text-align:right;\">                    -13,617,818</td></tr><tr><td class=\"even\" style=\"text-align:left;white-space:nowrap;\">　　　股利收入</td><td class=\"even\" style=\"text-align:right;\">                        -71,879</td><td class=\"even\" style=\"text-align:right;\">                        -72,021</td></tr><tr><td class=\"odd\" style=\"text-align:left;white-space:nowrap;\">　　　股份基礎給付酬勞成本</td><td class=\"odd\" style=\"text-align:right;\">                        181,831</td><td class=\"odd\" style=\"text-align:right;\">                        100,772</td></tr><tr><td class=\"odd\" style=\"text-align:left;white-space:nowrap;\">　　　採用權益法認列之關聯企業及合資損失（利益）之份額</td><td class=\"odd\" style=\"text-align:right;\">                       -878,001</td><td class=\"odd\" style=\"text-align:right;\">                     -1,038,817</td></tr><tr><td class=\"even\" style=\"text-align:left;white-space:nowrap;\">　　　處分及報廢不動產、廠房及設備損失（利益）</td><td class=\"even\" style=\"text-align:right;\">                        294,092</td><td class=\"even\" style=\"text-align:right;\">                        114,442</td></tr><tr><td class=\"odd\" style=\"text-align:left;white-space:nowrap;\">　　　處分無形資產損失（利益）</td><td class=\"odd\" style=\"text-align:right;\">                              0</td><td class=\"odd\" style=\"text-align:right;\">                           -769</td></tr><tr><td class=\"even\" style=\"text-align:left;white-space:nowrap;\">　　　處分投資損失（利益）</td><td class=\"even\" style=\"text-align:right;\">                        102,504</td><td class=\"even\" style=\"text-align:right;\">                        135,693</td></tr><tr><td class=\"even\" style=\"text-align:left;white-space:nowrap;\">　　　未實現外幣兌換損失（利益）</td><td class=\"even\" style=\"text-align:right;\">                      3,336,832</td><td class=\"even\" style=\"text-align:right;\">                     -1,319,013</td></tr><tr><td class=\"even\" style=\"text-align:left;white-space:nowrap;\">　　　其他項目</td><td class=\"even\" style=\"text-align:right;\">                       -134,755</td><td class=\"even\" style=\"text-align:right;\">                         85,997</td></tr><tr><td class=\"odd\" style=\"text-align:left;white-space:nowrap;\">　　　收益費損項目合計</td><td class=\"odd\" style=\"text-align:right;\">                    145,200,194</td><td class=\"odd\" style=\"text-align:right;\">                     97,657,435</td></tr><tr><td class=\"even\" style=\"text-align:left;white-space:nowrap;\">　　　　強制透過損益按公允價值衡量之金融資產（增加）減少</td><td class=\"even\" style=\"text-align:right;\">                      1,506,824</td><td class=\"even\" style=\"text-align:right;\">                        633,098</td></tr><tr><td class=\"odd\" style=\"text-align:left;white-space:nowrap;\">　　　　應收帳款（增加）減少</td><td class=\"odd\" style=\"text-align:right;\">                       -186,469</td><td class=\"odd\" style=\"text-align:right;\">                     82,040,768</td></tr><tr><td class=\"even\" style=\"text-align:left;white-space:nowrap;\">　　　　應收帳款－關係人（增加）減少</td><td class=\"even\" style=\"text-align:right;\">                        145,088</td><td class=\"even\" style=\"text-align:right;\">                      1,251,404</td></tr><tr><td class=\"even\" style=\"text-align:left;white-space:nowrap;\">　　　　其他應收款－關係人（增加）減少</td><td class=\"even\" style=\"text-align:right;\">                         -7,436</td><td class=\"even\" style=\"text-align:right;\">                         -7,633</td></tr><tr><td class=\"odd\" style=\"text-align:left;white-space:nowrap;\">　　　　存貨（增加）減少</td><td class=\"odd\" style=\"text-align:right;\">                    -16,126,251</td><td class=\"odd\" style=\"text-align:right;\">                      5,081,167</td></tr><tr><td class=\"odd\" style=\"text-align:left;white-space:nowrap;\">　　　　其他流動資產（增加）減少</td><td class=\"odd\" style=\"text-align:right;\">                     -1,432,213</td><td class=\"odd\" style=\"text-align:right;\">                     -3,559,651</td></tr><tr><td class=\"even\" style=\"text-align:left;white-space:nowrap;\">　　　　其他金融資產（增加）減少</td><td class=\"even\" style=\"text-align:right;\">                       -796,912</td><td class=\"even\" style=\"text-align:right;\">                        813,274</td></tr><tr><td class=\"even\" style=\"text-align:left;white-space:nowrap;\">　　　　其他營業資產（增加）減少</td><td class=\"even\" style=\"text-align:right;\">                     -2,387,734</td><td class=\"even\" style=\"text-align:right;\">                              0</td></tr><tr><td class=\"odd\" style=\"text-align:left;white-space:nowrap;\">　　　　與營業活動相關之資產之淨變動合計</td><td class=\"odd\" style=\"text-align:right;\">                    -19,285,103</td><td class=\"odd\" style=\"text-align:right;\">                     86,252,427</td></tr><tr><td class=\"odd\" style=\"text-align:left;white-space:nowrap;\">　　　　應付帳款增加（減少）</td><td class=\"odd\" style=\"text-align:right;\">                        698,055</td><td class=\"odd\" style=\"text-align:right;\">                     -8,577,523</td></tr><tr><td class=\"even\" style=\"text-align:left;white-space:nowrap;\">　　　　應付帳款－關係人增加（減少）</td><td class=\"even\" style=\"text-align:right;\">                       -381,104</td><td class=\"even\" style=\"text-align:right;\">                       -562,873</td></tr><tr><td class=\"even\" style=\"text-align:left;white-space:nowrap;\">　　　　其他流動負債增加（減少）</td><td class=\"even\" style=\"text-align:right;\">                     25,260,508</td><td class=\"even\" style=\"text-align:right;\">                    -53,973,277</td></tr><tr><td class=\"odd\" style=\"text-align:left;white-space:nowrap;\">　　　　淨確定福利負債增加(減少)</td><td class=\"odd\" style=\"text-align:right;\">                     -1,556,332</td><td class=\"odd\" style=\"text-align:right;\">                       -718,789</td></tr><tr><td class=\"odd\" style=\"text-align:left;white-space:nowrap;\">　　　　其他營業負債增加（減少）</td><td class=\"odd\" style=\"text-align:right;\">                     20,882,911</td><td class=\"odd\" style=\"text-align:right;\">                     21,578,903</td></tr><tr><td class=\"even\" style=\"text-align:left;white-space:nowrap;\">　　　　與營業活動相關之負債之淨變動合計</td><td class=\"even\" style=\"text-align:right;\">                     44,904,038</td><td class=\"even\" style=\"text-align:right;\">                    -42,253,559</td></tr><tr><td class=\"odd\" style=\"text-align:left;white-space:nowrap;\">　　　與營業活動相關之資產及負債之淨變動合計</td><td class=\"odd\" style=\"text-align:right;\">                     25,618,935</td><td class=\"odd\" style=\"text-align:right;\">                     43,998,868</td></tr><tr><td class=\"even\" style=\"text-align:left;white-space:nowrap;\">　　調整項目合計</td><td class=\"even\" style=\"text-align:right;\">                    170,819,129</td><td class=\"even\" style=\"text-align:right;\">                    141,656,303</td></tr><tr><td class=\"odd\" style=\"text-align:left;white-space:nowrap;\">　營運產生之現金流入（流出）</td><td class=\"odd\" style=\"text-align:right;\">                    437,362,333</td><td class=\"odd\" style=\"text-align:right;\">                    385,931,234</td></tr><tr><td class=\"even\" style=\"text-align:left;white-space:nowrap;\">　退還（支付）之所得稅</td><td class=\"even\" style=\"text-align:right;\">                     -1,051,225</td><td class=\"even\" style=\"text-align:right;\">                       -686,489</td></tr><tr><td class=\"odd\" style=\"text-align:left;white-space:nowrap;\">營業活動之淨現金流入（流出）</td><td class=\"odd\" style=\"text-align:right;\">                    436,311,108</td><td class=\"odd\" style=\"text-align:right;\">                    385,244,745</td></tr><tr><td class=\"even\" style=\"text-align:left;white-space:nowrap;\">投資活動之現金流量</td><td class=\"even\" style=\"text-align:right;\"></td><td class=\"even\" style=\"text-align:right;\"></td></tr><tr><td class=\"odd\" style=\"text-align:left;white-space:nowrap;\">　取得透過其他綜合損益按公允價值衡量之金融資產</td><td class=\"odd\" style=\"text-align:right;\">                    -25,389,232</td><td class=\"odd\" style=\"text-align:right;\">                    -13,849,515</td></tr><tr><td class=\"even\" style=\"text-align:left;white-space:nowrap;\">　處分透過其他綜合損益按公允價值衡量之金融資產</td><td class=\"even\" style=\"text-align:right;\">                     12,604,731</td><td class=\"even\" style=\"text-align:right;\">                      8,752,678</td></tr><tr><td class=\"odd\" style=\"text-align:left;white-space:nowrap;\">　透過其他綜合損益按公允價值衡量之金融資產減資退回股款</td><td class=\"odd\" style=\"text-align:right;\">                          2,260</td><td class=\"odd\" style=\"text-align:right;\">                            122</td></tr><tr><td class=\"even\" style=\"text-align:left;white-space:nowrap;\">　取得按攤銷後成本衡量之金融資產</td><td class=\"even\" style=\"text-align:right;\">                    -20,411,240</td><td class=\"even\" style=\"text-align:right;\">                    -20,921,355</td></tr><tr><td class=\"even\" style=\"text-align:left;white-space:nowrap;\">　按攤銷後成本衡量之金融資產到期還本</td><td class=\"even\" style=\"text-align:right;\">                     37,619,382</td><td class=\"even\" style=\"text-align:right;\">                     42,297,509</td></tr><tr><td class=\"odd\" style=\"text-align:left;white-space:nowrap;\">　取得透過損益按公允價值衡量之金融資產</td><td class=\"odd\" style=\"text-align:right;\">                              0</td><td class=\"odd\" style=\"text-align:right;\">                       -121,692</td></tr><tr><td class=\"odd\" style=\"text-align:left;white-space:nowrap;\">　除列避險之金融負債</td><td class=\"odd\" style=\"text-align:right;\">                          8,585</td><td class=\"odd\" style=\"text-align:right;\">                         20,623</td></tr><tr><td class=\"odd\" style=\"text-align:left;white-space:nowrap;\">　取得不動產、廠房及設備</td><td class=\"odd\" style=\"text-align:right;\">                   -181,304,802</td><td class=\"odd\" style=\"text-align:right;\">                   -302,498,628</td></tr><tr><td class=\"even\" style=\"text-align:left;white-space:nowrap;\">　處分不動產、廠房及設備</td><td class=\"even\" style=\"text-align:right;\">                        336,637</td><td class=\"even\" style=\"text-align:right;\">                         73,607</td></tr><tr><td class=\"odd\" style=\"text-align:left;white-space:nowrap;\">　存出保證金增加</td><td class=\"odd\" style=\"text-align:right;\">                       -111,770</td><td class=\"odd\" style=\"text-align:right;\">                        -12,726</td></tr><tr><td class=\"even\" style=\"text-align:left;white-space:nowrap;\">　存出保證金減少</td><td class=\"even\" style=\"text-align:right;\">                      1,210,002</td><td class=\"even\" style=\"text-align:right;\">                        221,285</td></tr><tr><td class=\"odd\" style=\"text-align:left;white-space:nowrap;\">　取得無形資產</td><td class=\"odd\" style=\"text-align:right;\">                     -2,042,120</td><td class=\"odd\" style=\"text-align:right;\">                       -285,784</td></tr><tr><td class=\"even\" style=\"text-align:left;white-space:nowrap;\">　處分無形資產</td><td class=\"even\" style=\"text-align:right;\">                              0</td><td class=\"even\" style=\"text-align:right;\">                            769</td></tr><tr><td class=\"odd\" style=\"text-align:left;white-space:nowrap;\">　其他預付款項增加</td><td class=\"odd\" style=\"text-align:right;\">                        -12,873</td><td class=\"odd\" style=\"text-align:right;\">                        -20,565</td></tr><tr><td class=\"odd\" style=\"text-align:left;white-space:nowrap;\">　收取之利息</td><td class=\"odd\" style=\"text-align:right;\">                     17,409,793</td><td class=\"odd\" style=\"text-align:right;\">                     12,281,197</td></tr><tr><td class=\"even\" style=\"text-align:left;white-space:nowrap;\">　收取之股利</td><td class=\"even\" style=\"text-align:right;\">                         90,172</td><td class=\"even\" style=\"text-align:right;\">                         62,648</td></tr><tr><td class=\"even\" style=\"text-align:left;white-space:nowrap;\">　其他投資活動</td><td class=\"even\" style=\"text-align:right;\">                        183,484</td><td class=\"even\" style=\"text-align:right;\">                      1,768,032</td></tr><tr><td class=\"odd\" style=\"text-align:left;white-space:nowrap;\">　投資活動之淨現金流入（流出）</td><td class=\"odd\" style=\"text-align:right;\">                   -159,806,991</td><td class=\"odd\" style=\"text-align:right;\">                   -272,231,795</td></tr><tr><td class=\"even\" style=\"text-align:left;white-space:nowrap;\">籌資活動之現金流量</td><td class=\"even\" style=\"text-align:right;\"></td><td class=\"even\" style=\"text-align:right;\"></td></tr><tr><td class=\"even\" style=\"text-align:left;white-space:nowrap;\">　發行公司債</td><td class=\"even\" style=\"text-align:right;\">                     22,776,292</td><td class=\"even\" style=\"text-align:right;\">                     19,279,726</td></tr><tr><td class=\"odd\" style=\"text-align:left;white-space:nowrap;\">　償還公司債</td><td class=\"odd\" style=\"text-align:right;\">                              0</td><td class=\"odd\" style=\"text-align:right;\">                    -12,000,000</td></tr><tr><td class=\"even\" style=\"text-align:left;white-space:nowrap;\">　舉借長期借款</td><td class=\"even\" style=\"text-align:right;\">                      6,378,000</td><td class=\"even\" style=\"text-align:right;\">                      2,450,000</td></tr><tr><td class=\"odd\" style=\"text-align:left;white-space:nowrap;\">　償還長期借款</td><td class=\"odd\" style=\"text-align:right;\">                       -512,500</td><td class=\"odd\" style=\"text-align:right;\">                       -329,444</td></tr><tr><td class=\"even\" style=\"text-align:left;white-space:nowrap;\">　存入保證金增加</td><td class=\"even\" style=\"text-align:right;\">                             87</td><td class=\"even\" style=\"text-align:right;\">                        128,666</td></tr><tr><td class=\"odd\" style=\"text-align:left;white-space:nowrap;\">　存入保證金減少</td><td class=\"odd\" style=\"text-align:right;\">                        -17,102</td><td class=\"odd\" style=\"text-align:right;\">                       -131,062</td></tr><tr><td class=\"odd\" style=\"text-align:left;white-space:nowrap;\">　租賃本金償還</td><td class=\"odd\" style=\"text-align:right;\">                       -775,428</td><td class=\"odd\" style=\"text-align:right;\">                       -709,158</td></tr><tr><td class=\"even\" style=\"text-align:left;white-space:nowrap;\">　發放現金股利</td><td class=\"even\" style=\"text-align:right;\">                    -77,796,213</td><td class=\"even\" style=\"text-align:right;\">                    -71,308,546</td></tr><tr><td class=\"even\" style=\"text-align:left;white-space:nowrap;\">　處分子公司股權（未喪失控制力）</td><td class=\"even\" style=\"text-align:right;\">                          1,021</td><td class=\"even\" style=\"text-align:right;\">                              0</td></tr><tr><td class=\"odd\" style=\"text-align:left;white-space:nowrap;\">　支付之利息</td><td class=\"odd\" style=\"text-align:right;\">                     -1,778,846</td><td class=\"odd\" style=\"text-align:right;\">                     -1,871,200</td></tr><tr><td class=\"odd\" style=\"text-align:left;white-space:nowrap;\">　非控制權益變動</td><td class=\"odd\" style=\"text-align:right;\">                      6,535,642</td><td class=\"odd\" style=\"text-align:right;\">                          3,988</td></tr><tr><td class=\"even\" style=\"text-align:left;white-space:nowrap;\">　其他籌資活動</td><td class=\"even\" style=\"text-align:right;\">                    -26,496,570</td><td class=\"even\" style=\"text-align:right;\">                              0</td></tr><tr><td class=\"odd\" style=\"text-align:left;white-space:nowrap;\">　籌資活動之淨現金流入（流出）</td><td class=\"odd\" style=\"text-align:right;\">                    -71,685,617</td><td class=\"odd\" style=\"text-align:right;\">                    -64,487,030</td></tr><tr><td class=\"even\" style=\"text-align:left;white-space:nowrap;\">匯率變動對現金及約當現金之影響</td><td class=\"even\" style=\"text-align:right;\">                     27,949,451</td><td class=\"even\" style=\"text-align:right;\">                     -6,107,193</td></tr><tr><td class=\"odd\" style=\"text-align:left;white-space:nowrap;\">本期現金及約當現金增加（減少）數</td><td class=\"odd\" style=\"text-align:right;\">                    232,767,951</td><td class=\"odd\" style=\"text-align:right;\">                     42,418,727</td></tr><tr><td class=\"even\" style=\"text-align:left;white-space:nowrap;\">期初現金及約當現金餘額</td><td class=\"even\" style=\"text-align:right;\">                  1,465,427,753</td><td class=\"even\" style=\"text-align:right;\">                  1,342,814,083</td></tr><tr><td class=\"odd\" style=\"text-align:left;white-space:nowrap;\">期末現金及約當現金餘額</td><td class=\"odd\" style=\"text-align:right;\">                  1,698,195,704</td><td class=\"odd\" style=\"text-align:right;\">                  1,385,232,810</td></tr><tr><td class=\"even\" style=\"text-align:left;white-space:nowrap;\">　資產負債表帳列之現金及約當現金</td><td class=\"even\" style=\"text-align:right;\">                  1,698,195,704</td><td class=\"even\" style=\"text-align:right;\">                  1,385,232,810</td></tr></table>\n"
     ]
    }
   ],
   "source": [
    "print(tables[1])"
   ]
  },
  {
   "cell_type": "code",
   "execution_count": null,
   "id": "2cd19036",
   "metadata": {},
   "outputs": [],
   "source": []
  }
 ],
 "metadata": {
  "kernelspec": {
   "display_name": "Python 3 (ipykernel)",
   "language": "python",
   "name": "python3"
  },
  "language_info": {
   "codemirror_mode": {
    "name": "ipython",
    "version": 3
   },
   "file_extension": ".py",
   "mimetype": "text/x-python",
   "name": "python",
   "nbconvert_exporter": "python",
   "pygments_lexer": "ipython3",
   "version": "3.10.13"
  }
 },
 "nbformat": 4,
 "nbformat_minor": 5
}
